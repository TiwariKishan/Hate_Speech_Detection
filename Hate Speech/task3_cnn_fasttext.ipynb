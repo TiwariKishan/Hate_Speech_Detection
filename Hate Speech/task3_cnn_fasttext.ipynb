{
 "cells": [
  {
   "cell_type": "code",
   "execution_count": 1,
   "metadata": {},
   "outputs": [
    {
     "name": "stderr",
     "output_type": "stream",
     "text": [
      "C:\\ProgramData\\Anaconda3\\lib\\site-packages\\h5py\\__init__.py:36: FutureWarning: Conversion of the second argument of issubdtype from `float` to `np.floating` is deprecated. In future, it will be treated as `np.float64 == np.dtype(float).type`.\n",
      "  from ._conv import register_converters as _register_converters\n",
      "Using TensorFlow backend.\n"
     ]
    }
   ],
   "source": [
    "import pandas as pd\n",
    "import numpy as np\n",
    "import nltk\n",
    "from nltk.corpus import stopwords\n",
    "from nltk.tokenize import RegexpTokenizer\n",
    "from nltk.stem.porter import PorterStemmer\n",
    "from keras.preprocessing import text as keras_text, sequence as keras_seq\n",
    "from keras.utils import np_utils\n",
    "from keras.layers import Conv1D, GlobalMaxPooling1D\n",
    "from keras.layers import Dense, Activation, Convolution1D, MaxPooling1D, Dropout, Flatten\n",
    "from keras.models import Sequential, save_model\n",
    "from sklearn.model_selection import train_test_split\n",
    "from keras.layers import Embedding\n",
    "from sklearn.metrics import classification_report,confusion_matrix"
   ]
  },
  {
   "cell_type": "code",
   "execution_count": 2,
   "metadata": {},
   "outputs": [
    {
     "name": "stdout",
     "output_type": "stream",
     "text": [
      "[nltk_data] Downloading package stopwords to C:\\Users\\Kirti\n",
      "[nltk_data]     Mishra\\AppData\\Roaming\\nltk_data...\n",
      "[nltk_data]   Package stopwords is already up-to-date!\n"
     ]
    },
    {
     "data": {
      "text/plain": [
       "True"
      ]
     },
     "execution_count": 2,
     "metadata": {},
     "output_type": "execute_result"
    }
   ],
   "source": [
    "nltk.download('stopwords')"
   ]
  },
  {
   "cell_type": "code",
   "execution_count": 4,
   "metadata": {},
   "outputs": [],
   "source": [
    "Tokenizer=RegexpTokenizer(r\"\\w+[a-z]+\")   ## only word\n",
    "word=set(stopwords.words(\"english\"))"
   ]
  },
  {
   "cell_type": "code",
   "execution_count": 5,
   "metadata": {},
   "outputs": [],
   "source": [
    "data_new=pd.read_csv('english_dataset.tsv', sep = '\\t', encoding=\"latin-1\")"
   ]
  },
  {
   "cell_type": "code",
   "execution_count": 6,
   "metadata": {},
   "outputs": [
    {
     "data": {
      "text/plain": [
       "(5852, 5)"
      ]
     },
     "execution_count": 6,
     "metadata": {},
     "output_type": "execute_result"
    }
   ],
   "source": [
    "data_new.shape"
   ]
  },
  {
   "cell_type": "code",
   "execution_count": 7,
   "metadata": {},
   "outputs": [],
   "source": [
    "data_new=data_new.dropna()"
   ]
  },
  {
   "cell_type": "code",
   "execution_count": 8,
   "metadata": {},
   "outputs": [
    {
     "name": "stdout",
     "output_type": "stream",
     "text": [
      "<class 'pandas.core.frame.DataFrame'>\n",
      "Int64Index: 5852 entries, 0 to 5851\n",
      "Data columns (total 5 columns):\n",
      "text_id    5852 non-null object\n",
      "text       5852 non-null object\n",
      "task_1     5852 non-null object\n",
      "task_2     5852 non-null object\n",
      "task_3     5852 non-null object\n",
      "dtypes: object(5)\n",
      "memory usage: 274.3+ KB\n"
     ]
    }
   ],
   "source": [
    "data_new.info()"
   ]
  },
  {
   "cell_type": "code",
   "execution_count": 96,
   "metadata": {},
   "outputs": [],
   "source": [
    "data_new = data_new[data_new[\"task_3\"]!= \"NONE\"]"
   ]
  },
  {
   "cell_type": "code",
   "execution_count": 97,
   "metadata": {},
   "outputs": [],
   "source": [
    "Column_Sequence=np.array(data_new[\"text\"],dtype=\"str\")"
   ]
  },
  {
   "cell_type": "code",
   "execution_count": 98,
   "metadata": {},
   "outputs": [],
   "source": [
    "fresh=[]\n",
    "for ix in Column_Sequence:\n",
    "    sen=ix.lower()\n",
    "    sen=Tokenizer.tokenize(sen)\n",
    "    wordss=[(Word) for Word in sen if len(Word)>2 and Word not in word]\n",
    "    sentance=\" \".join(wordss)\n",
    "    fresh.append(sentance)"
   ]
  },
  {
   "cell_type": "code",
   "execution_count": 99,
   "metadata": {},
   "outputs": [],
   "source": [
    "tokenizer = keras_text.Tokenizer(char_level = False,lower=True) #\n",
    "t=tokenizer.fit_on_texts(list(fresh))\n",
    "list_tokenized_train = tokenizer.texts_to_sequences(fresh)\n",
    "X_t = keras_seq.pad_sequences(list_tokenized_train, maxlen=300,padding=\"post\") #maxlen padding 100"
   ]
  },
  {
   "cell_type": "code",
   "execution_count": 100,
   "metadata": {},
   "outputs": [
    {
     "name": "stdout",
     "output_type": "stream",
     "text": [
      "loading word embeddings..300 dimention.\n"
     ]
    },
    {
     "name": "stderr",
     "output_type": "stream",
     "text": [
      "111052it [00:19, 5796.41it/s]\n"
     ]
    },
    {
     "name": "stdout",
     "output_type": "stream",
     "text": [
      "found 111052 word vectors\n"
     ]
    }
   ],
   "source": [
    "#load pre-trained embedding:\n",
    "\n",
    "import io\n",
    "import os, re, csv, math, codecs\n",
    "from tqdm import tqdm\n",
    "##\n",
    "#####load embeddings\n",
    "print('loading word embeddings..300 dimention.')\n",
    "embeddings_index = {}\n",
    "f = codecs.open('wiki.simple.vec', encoding='utf-8')\n",
    "for line in tqdm(f):\n",
    "    values = line.rstrip().rsplit(' ')\n",
    "    word = values[0]\n",
    "    coefs = np.asarray(values[1:], dtype='float32')\n",
    "    embeddings_index[word] = coefs\n",
    "f.close()\n",
    "print('found %s word vectors' % len(embeddings_index))\n",
    "\n",
    "#GLOVE_DIR = \"C\\:\\Users\\Abhi\\Desktop\\Abhinav 2nd imp\\Implementation_text and image\\2_class\"\n",
    "#embeddings_index = {}\n",
    "#f = open('glove.6B.300d.txt', encoding=\"utf8\")\n",
    "#for line in f:\n",
    "#    values = line.split()\n",
    "#    word = values[0]\n",
    "#    coefs = np.asarray(values[1:], dtype='float32')\n",
    "#    embeddings_index[word] = coefs\n",
    "#f.close()\n",
    "#print('Total %s word vectors in Glove 6B 100d.' % len(embeddings_index))"
   ]
  },
  {
   "cell_type": "code",
   "execution_count": 101,
   "metadata": {},
   "outputs": [],
   "source": [
    "##### Printing words and index pair \n",
    "index=tokenizer.word_index\n",
    "#print index\n",
    "\n",
    "\n",
    "###Vocabulary size\n",
    "vocab_size = len(index)\n",
    "#print vocab_size"
   ]
  },
  {
   "cell_type": "code",
   "execution_count": 102,
   "metadata": {},
   "outputs": [
    {
     "name": "stdout",
     "output_type": "stream",
     "text": [
      "preparing embedding matrix...\n",
      "number of null word embeddings: 1842\n"
     ]
    }
   ],
   "source": [
    "\n",
    "##################################################################################\n",
    "##################################################################################\n",
    "\n",
    "#####embedding matrix\n",
    "print('preparing embedding matrix...')\n",
    "MAX_NB_WORDS = 800000\n",
    "embed_dim = 300\n",
    "words_not_found = []\n",
    "nb_words = min(MAX_NB_WORDS, len(index))\n",
    "embedding_matrix = np.zeros((nb_words, embed_dim))\n",
    "for word, i in index.items():\n",
    "    if i >= nb_words:\n",
    "        continue\n",
    "    embedding_vector = embeddings_index.get(word)\n",
    "    if (embedding_vector is not None) and len(embedding_vector) > 0:\n",
    "        # words not found in embedding index will be all-zeros.\n",
    "        embedding_matrix[i] = embedding_vector\n",
    "    else:\n",
    "        words_not_found.append(word)\n",
    "print('number of null word embeddings: %d' % np.sum(np.sum(embedding_matrix, axis=1) == 0))\n",
    "\n",
    "#embedding_matrix = np.random.random((len(tokenizer.word_index) + 1, 300))\n",
    "#for word, i in tokenizer.word_index.items():\n",
    "#    embedding_vector = embeddings_index.get(word)\n",
    "#    if embedding_vector is not None:\n",
    "        # words not found in embedding index will be all-zeros.\n",
    "#        embedding_matrix[i] = embedding_vector\n",
    "        \n",
    "#embedding_layer = Embedding(len(tokenizer.word_index) + 1,300,weights=[embedding_matrix],input_length=300,trainable=True)\n"
   ]
  },
  {
   "cell_type": "code",
   "execution_count": 103,
   "metadata": {},
   "outputs": [
    {
     "data": {
      "text/plain": [
       "640"
      ]
     },
     "execution_count": 103,
     "metadata": {},
     "output_type": "execute_result"
    }
   ],
   "source": [
    "max(tokenizer.word_counts.values())"
   ]
  },
  {
   "cell_type": "code",
   "execution_count": 104,
   "metadata": {},
   "outputs": [
    {
     "data": {
      "text/plain": [
       "5301"
      ]
     },
     "execution_count": 104,
     "metadata": {},
     "output_type": "execute_result"
    }
   ],
   "source": [
    "len(tokenizer.word_counts)"
   ]
  },
  {
   "cell_type": "code",
   "execution_count": 105,
   "metadata": {},
   "outputs": [],
   "source": [
    "X_train=X_t"
   ]
  },
  {
   "cell_type": "code",
   "execution_count": 106,
   "metadata": {},
   "outputs": [],
   "source": [
    "size_embedding = max(list(tokenizer.word_index.values()))"
   ]
  },
  {
   "cell_type": "code",
   "execution_count": 107,
   "metadata": {},
   "outputs": [
    {
     "data": {
      "text/plain": [
       "(2261, 300)"
      ]
     },
     "execution_count": 107,
     "metadata": {},
     "output_type": "execute_result"
    }
   ],
   "source": [
    "X_train.shape\n"
   ]
  },
  {
   "cell_type": "code",
   "execution_count": 108,
   "metadata": {},
   "outputs": [],
   "source": [
    "YY=data_new[\"task_3\"]"
   ]
  },
  {
   "cell_type": "code",
   "execution_count": 109,
   "metadata": {},
   "outputs": [
    {
     "data": {
      "text/plain": [
       "1       TIN\n",
       "7       TIN\n",
       "11      TIN\n",
       "15      TIN\n",
       "23      TIN\n",
       "27      TIN\n",
       "32      TIN\n",
       "34      TIN\n",
       "43      TIN\n",
       "44      TIN\n",
       "46      TIN\n",
       "47      TIN\n",
       "48      TIN\n",
       "49      TIN\n",
       "51      TIN\n",
       "61      TIN\n",
       "63      TIN\n",
       "91      TIN\n",
       "95      TIN\n",
       "102     TIN\n",
       "129     TIN\n",
       "134     UNT\n",
       "144     TIN\n",
       "145     TIN\n",
       "157     UNT\n",
       "212     TIN\n",
       "213     TIN\n",
       "218     TIN\n",
       "233     TIN\n",
       "249     UNT\n",
       "       ... \n",
       "5798    TIN\n",
       "5799    TIN\n",
       "5803    TIN\n",
       "5804    UNT\n",
       "5805    TIN\n",
       "5821    TIN\n",
       "5822    TIN\n",
       "5826    TIN\n",
       "5829    TIN\n",
       "5830    TIN\n",
       "5831    UNT\n",
       "5832    UNT\n",
       "5833    TIN\n",
       "5834    UNT\n",
       "5835    TIN\n",
       "5836    UNT\n",
       "5837    TIN\n",
       "5838    TIN\n",
       "5839    TIN\n",
       "5840    TIN\n",
       "5841    TIN\n",
       "5842    TIN\n",
       "5843    TIN\n",
       "5844    TIN\n",
       "5845    TIN\n",
       "5846    UNT\n",
       "5847    UNT\n",
       "5849    TIN\n",
       "5850    UNT\n",
       "5851    UNT\n",
       "Name: task_3, Length: 2261, dtype: object"
      ]
     },
     "execution_count": 109,
     "metadata": {},
     "output_type": "execute_result"
    }
   ],
   "source": [
    "YY"
   ]
  },
  {
   "cell_type": "code",
   "execution_count": 110,
   "metadata": {},
   "outputs": [],
   "source": [
    "#train['sentiment'] = train['sentiment'].map({'OAG': 2, 'CAG': 1,'NAG': 0})\n",
    "YY = YY.map({'UNT':0, 'TIN': 1})"
   ]
  },
  {
   "cell_type": "code",
   "execution_count": 111,
   "metadata": {},
   "outputs": [
    {
     "data": {
      "text/plain": [
       "1       1\n",
       "7       1\n",
       "11      1\n",
       "15      1\n",
       "23      1\n",
       "27      1\n",
       "32      1\n",
       "34      1\n",
       "43      1\n",
       "44      1\n",
       "46      1\n",
       "47      1\n",
       "48      1\n",
       "49      1\n",
       "51      1\n",
       "61      1\n",
       "63      1\n",
       "91      1\n",
       "95      1\n",
       "102     1\n",
       "129     1\n",
       "134     0\n",
       "144     1\n",
       "145     1\n",
       "157     0\n",
       "212     1\n",
       "213     1\n",
       "218     1\n",
       "233     1\n",
       "249     0\n",
       "       ..\n",
       "5798    1\n",
       "5799    1\n",
       "5803    1\n",
       "5804    0\n",
       "5805    1\n",
       "5821    1\n",
       "5822    1\n",
       "5826    1\n",
       "5829    1\n",
       "5830    1\n",
       "5831    0\n",
       "5832    0\n",
       "5833    1\n",
       "5834    0\n",
       "5835    1\n",
       "5836    0\n",
       "5837    1\n",
       "5838    1\n",
       "5839    1\n",
       "5840    1\n",
       "5841    1\n",
       "5842    1\n",
       "5843    1\n",
       "5844    1\n",
       "5845    1\n",
       "5846    0\n",
       "5847    0\n",
       "5849    1\n",
       "5850    0\n",
       "5851    0\n",
       "Name: task_3, Length: 2261, dtype: int64"
      ]
     },
     "execution_count": 111,
     "metadata": {},
     "output_type": "execute_result"
    }
   ],
   "source": [
    "YY"
   ]
  },
  {
   "cell_type": "code",
   "execution_count": 112,
   "metadata": {},
   "outputs": [],
   "source": [
    "#Y_L=data_new[\"Comment label\"]\n",
    "\n",
    "# One-hot encode data\n",
    "Y_train=np_utils.to_categorical(YY)\n",
    "#uniqe_class=np.unique(All_class)"
   ]
  },
  {
   "cell_type": "code",
   "execution_count": 114,
   "metadata": {},
   "outputs": [
    {
     "data": {
      "text/plain": [
       "(2261, 2)"
      ]
     },
     "execution_count": 114,
     "metadata": {},
     "output_type": "execute_result"
    }
   ],
   "source": [
    "Y_train.shape"
   ]
  },
  {
   "cell_type": "code",
   "execution_count": 115,
   "metadata": {},
   "outputs": [],
   "source": [
    "x_train, x_test, y_train, y_test = train_test_split(X_train,Y_train, test_size=0.20, random_state=42)"
   ]
  },
  {
   "cell_type": "code",
   "execution_count": 116,
   "metadata": {},
   "outputs": [
    {
     "data": {
      "text/plain": [
       "(1808, 2)"
      ]
     },
     "execution_count": 116,
     "metadata": {},
     "output_type": "execute_result"
    }
   ],
   "source": [
    "y_train.shape"
   ]
  },
  {
   "cell_type": "code",
   "execution_count": 117,
   "metadata": {},
   "outputs": [
    {
     "data": {
      "text/plain": [
       "(1808, 300)"
      ]
     },
     "execution_count": 117,
     "metadata": {},
     "output_type": "execute_result"
    }
   ],
   "source": [
    "x_train.shape"
   ]
  },
  {
   "cell_type": "code",
   "execution_count": 118,
   "metadata": {},
   "outputs": [],
   "source": [
    "max_len=300"
   ]
  },
  {
   "cell_type": "code",
   "execution_count": 119,
   "metadata": {},
   "outputs": [
    {
     "data": {
      "text/plain": [
       "array([[  97,  417, 2654, ...,    0,    0,    0],\n",
       "       [4763, 4764, 4765, ...,    0,    0,    0],\n",
       "       [ 629, 2362, 2363, ...,    0,    0,    0],\n",
       "       ...,\n",
       "       [ 718,  193,   55, ...,    0,    0,    0],\n",
       "       [   3,    5,  502, ...,    0,    0,    0],\n",
       "       [   9, 1442,  332, ...,    0,    0,    0]])"
      ]
     },
     "execution_count": 119,
     "metadata": {},
     "output_type": "execute_result"
    }
   ],
   "source": [
    "x_train"
   ]
  },
  {
   "cell_type": "code",
   "execution_count": 120,
   "metadata": {},
   "outputs": [
    {
     "name": "stdout",
     "output_type": "stream",
     "text": [
      "_________________________________________________________________\n",
      "Layer (type)                 Output Shape              Param #   \n",
      "=================================================================\n",
      "embedding_3 (Embedding)      (None, 300, 100)          530200    \n",
      "_________________________________________________________________\n",
      "conv1d_5 (Conv1D)            (None, 297, 8)            3208      \n",
      "_________________________________________________________________\n",
      "activation_6 (Activation)    (None, 297, 8)            0         \n",
      "_________________________________________________________________\n",
      "conv1d_6 (Conv1D)            (None, 294, 16)           528       \n",
      "_________________________________________________________________\n",
      "activation_7 (Activation)    (None, 294, 16)           0         \n",
      "_________________________________________________________________\n",
      "conv1d_7 (Conv1D)            (None, 291, 64)           4160      \n",
      "_________________________________________________________________\n",
      "max_pooling1d_2 (MaxPooling1 (None, 72, 64)            0         \n",
      "_________________________________________________________________\n",
      "activation_8 (Activation)    (None, 72, 64)            0         \n",
      "_________________________________________________________________\n",
      "conv1d_8 (Conv1D)            (None, 69, 64)            16448     \n",
      "_________________________________________________________________\n",
      "activation_9 (Activation)    (None, 69, 64)            0         \n",
      "_________________________________________________________________\n",
      "flatten_2 (Flatten)          (None, 4416)              0         \n",
      "_________________________________________________________________\n",
      "dense_2 (Dense)              (None, 2)                 8834      \n",
      "_________________________________________________________________\n",
      "activation_10 (Activation)   (None, 2)                 0         \n",
      "=================================================================\n",
      "Total params: 563,378\n",
      "Trainable params: 563,378\n",
      "Non-trainable params: 0\n",
      "_________________________________________________________________\n"
     ]
    }
   ],
   "source": [
    "model = Sequential()\n",
    "model.add(Embedding(size_embedding+1,100,input_length=max_len))\n",
    "\n",
    "model.add( Convolution1D(8, 4 ))\n",
    "model.add( Activation('relu') )\n",
    "\n",
    "model.add( Convolution1D(16,4) )\n",
    "\n",
    "model.add( Activation('relu'))\n",
    "model.add(Convolution1D(64,4))\n",
    "model.add( MaxPooling1D( pool_size=(4) ) )\n",
    "model.add(Activation(\"relu\"))\n",
    "model.add(Convolution1D(64,4))\n",
    "model.add(Activation(\"relu\"))\n",
    "\n",
    "model.add( Flatten() )\n",
    "\n",
    "model.add( Dense(2) )\n",
    "\n",
    "model.add( Activation('sigmoid') )\n",
    "\n",
    "model.summary()\n"
   ]
  },
  {
   "cell_type": "code",
   "execution_count": 121,
   "metadata": {},
   "outputs": [],
   "source": [
    "from keras.callbacks import ModelCheckpoint\n",
    "filepath = \"task3_cnn_fasttext.hdf5\"\n",
    "checkpoint = ModelCheckpoint(filepath, monitor=\"val_acc\", verbose=1, save_best_only=True, mode='max')\n",
    "callbacks_list = [checkpoint]"
   ]
  },
  {
   "cell_type": "code",
   "execution_count": 122,
   "metadata": {},
   "outputs": [],
   "source": [
    "model.compile(loss='categorical_crossentropy',optimizer='adam',metrics=['acc'])"
   ]
  },
  {
   "cell_type": "code",
   "execution_count": 124,
   "metadata": {},
   "outputs": [
    {
     "name": "stdout",
     "output_type": "stream",
     "text": [
      "Train on 1808 samples, validate on 453 samples\n",
      "Epoch 1/100\n",
      "1808/1808 [==============================] - ETA: 4s - loss: 0.4533 - acc: 0.750 - ETA: 4s - loss: 0.3560 - acc: 0.812 - ETA: 4s - loss: 0.2793 - acc: 0.854 - ETA: 4s - loss: 0.2461 - acc: 0.875 - ETA: 4s - loss: 0.2265 - acc: 0.887 - ETA: 4s - loss: 0.2104 - acc: 0.895 - ETA: 4s - loss: 0.2009 - acc: 0.897 - ETA: 4s - loss: 0.1895 - acc: 0.898 - ETA: 4s - loss: 0.1858 - acc: 0.895 - ETA: 4s - loss: 0.1809 - acc: 0.896 - ETA: 4s - loss: 0.1906 - acc: 0.897 - ETA: 4s - loss: 0.1898 - acc: 0.903 - ETA: 3s - loss: 0.2052 - acc: 0.901 - ETA: 3s - loss: 0.1959 - acc: 0.906 - ETA: 3s - loss: 0.1899 - acc: 0.910 - ETA: 3s - loss: 0.1838 - acc: 0.914 - ETA: 3s - loss: 0.1764 - acc: 0.919 - ETA: 3s - loss: 0.1751 - acc: 0.920 - ETA: 3s - loss: 0.1836 - acc: 0.917 - ETA: 3s - loss: 0.1825 - acc: 0.918 - ETA: 3s - loss: 0.1773 - acc: 0.921 - ETA: 3s - loss: 0.1772 - acc: 0.920 - ETA: 3s - loss: 0.1800 - acc: 0.919 - ETA: 2s - loss: 0.1825 - acc: 0.920 - ETA: 2s - loss: 0.1775 - acc: 0.923 - ETA: 2s - loss: 0.1733 - acc: 0.925 - ETA: 2s - loss: 0.1795 - acc: 0.925 - ETA: 2s - loss: 0.1774 - acc: 0.927 - ETA: 2s - loss: 0.1858 - acc: 0.927 - ETA: 2s - loss: 0.1850 - acc: 0.928 - ETA: 2s - loss: 0.1867 - acc: 0.925 - ETA: 2s - loss: 0.1891 - acc: 0.923 - ETA: 2s - loss: 0.1881 - acc: 0.924 - ETA: 2s - loss: 0.1870 - acc: 0.925 - ETA: 1s - loss: 0.1863 - acc: 0.927 - ETA: 1s - loss: 0.1906 - acc: 0.927 - ETA: 1s - loss: 0.1889 - acc: 0.928 - ETA: 1s - loss: 0.1899 - acc: 0.928 - ETA: 1s - loss: 0.1884 - acc: 0.928 - ETA: 1s - loss: 0.1869 - acc: 0.929 - ETA: 1s - loss: 0.1869 - acc: 0.928 - ETA: 1s - loss: 0.1845 - acc: 0.929 - ETA: 1s - loss: 0.1849 - acc: 0.929 - ETA: 1s - loss: 0.1880 - acc: 0.929 - ETA: 1s - loss: 0.1866 - acc: 0.929 - ETA: 0s - loss: 0.1835 - acc: 0.930 - ETA: 0s - loss: 0.1834 - acc: 0.930 - ETA: 0s - loss: 0.1839 - acc: 0.930 - ETA: 0s - loss: 0.1815 - acc: 0.931 - ETA: 0s - loss: 0.1806 - acc: 0.931 - ETA: 0s - loss: 0.1782 - acc: 0.933 - ETA: 0s - loss: 0.1823 - acc: 0.932 - ETA: 0s - loss: 0.1841 - acc: 0.932 - ETA: 0s - loss: 0.1827 - acc: 0.932 - ETA: 0s - loss: 0.1815 - acc: 0.933 - ETA: 0s - loss: 0.1801 - acc: 0.933 - 6s 3ms/step - loss: 0.1798 - acc: 0.9336 - val_loss: 0.3722 - val_acc: 0.8653\n",
      "\n",
      "Epoch 00001: val_acc did not improve from 0.91170\n",
      "Epoch 2/100\n",
      "1808/1808 [==============================] - ETA: 4s - loss: 0.1377 - acc: 1.000 - ETA: 4s - loss: 0.1116 - acc: 1.000 - ETA: 4s - loss: 0.1121 - acc: 0.989 - ETA: 4s - loss: 0.0939 - acc: 0.992 - ETA: 4s - loss: 0.0885 - acc: 0.987 - ETA: 4s - loss: 0.0819 - acc: 0.989 - ETA: 4s - loss: 0.0832 - acc: 0.986 - ETA: 4s - loss: 0.0937 - acc: 0.976 - ETA: 4s - loss: 0.0881 - acc: 0.979 - ETA: 4s - loss: 0.0847 - acc: 0.981 - ETA: 4s - loss: 0.0786 - acc: 0.983 - ETA: 4s - loss: 0.0755 - acc: 0.981 - ETA: 4s - loss: 0.0824 - acc: 0.980 - ETA: 4s - loss: 0.0837 - acc: 0.977 - ETA: 3s - loss: 0.0795 - acc: 0.979 - ETA: 3s - loss: 0.0795 - acc: 0.976 - ETA: 3s - loss: 0.0771 - acc: 0.977 - ETA: 3s - loss: 0.0740 - acc: 0.979 - ETA: 3s - loss: 0.0710 - acc: 0.980 - ETA: 3s - loss: 0.0711 - acc: 0.979 - ETA: 3s - loss: 0.0693 - acc: 0.980 - ETA: 3s - loss: 0.0665 - acc: 0.981 - ETA: 3s - loss: 0.0640 - acc: 0.982 - ETA: 3s - loss: 0.0616 - acc: 0.983 - ETA: 2s - loss: 0.0616 - acc: 0.981 - ETA: 2s - loss: 0.0601 - acc: 0.982 - ETA: 2s - loss: 0.0638 - acc: 0.980 - ETA: 2s - loss: 0.0629 - acc: 0.981 - ETA: 2s - loss: 0.0608 - acc: 0.981 - ETA: 2s - loss: 0.0596 - acc: 0.982 - ETA: 2s - loss: 0.0627 - acc: 0.981 - ETA: 2s - loss: 0.0609 - acc: 0.982 - ETA: 2s - loss: 0.0592 - acc: 0.983 - ETA: 2s - loss: 0.0576 - acc: 0.983 - ETA: 2s - loss: 0.0562 - acc: 0.983 - ETA: 1s - loss: 0.0566 - acc: 0.983 - ETA: 1s - loss: 0.0551 - acc: 0.984 - ETA: 1s - loss: 0.0572 - acc: 0.982 - ETA: 1s - loss: 0.0591 - acc: 0.982 - ETA: 1s - loss: 0.0587 - acc: 0.982 - ETA: 1s - loss: 0.0581 - acc: 0.982 - ETA: 1s - loss: 0.0571 - acc: 0.982 - ETA: 1s - loss: 0.0592 - acc: 0.982 - ETA: 1s - loss: 0.0587 - acc: 0.983 - ETA: 1s - loss: 0.0576 - acc: 0.983 - ETA: 0s - loss: 0.0566 - acc: 0.983 - ETA: 0s - loss: 0.0563 - acc: 0.984 - ETA: 0s - loss: 0.0581 - acc: 0.982 - ETA: 0s - loss: 0.0578 - acc: 0.982 - ETA: 0s - loss: 0.0639 - acc: 0.982 - ETA: 0s - loss: 0.0634 - acc: 0.982 - ETA: 0s - loss: 0.0644 - acc: 0.982 - ETA: 0s - loss: 0.0634 - acc: 0.982 - ETA: 0s - loss: 0.0628 - acc: 0.982 - ETA: 0s - loss: 0.0620 - acc: 0.983 - ETA: 0s - loss: 0.0633 - acc: 0.982 - 6s 3ms/step - loss: 0.0633 - acc: 0.9817 - val_loss: 0.6237 - val_acc: 0.7682\n",
      "\n",
      "Epoch 00002: val_acc did not improve from 0.91170\n",
      "Epoch 3/100\n",
      "1808/1808 [==============================] - ETA: 5s - loss: 0.0043 - acc: 1.000 - ETA: 5s - loss: 0.0113 - acc: 1.000 - ETA: 5s - loss: 0.0390 - acc: 0.989 - ETA: 5s - loss: 0.0312 - acc: 0.992 - ETA: 5s - loss: 0.0287 - acc: 0.993 - ETA: 4s - loss: 0.0286 - acc: 0.994 - ETA: 4s - loss: 0.0273 - acc: 0.995 - ETA: 4s - loss: 0.0479 - acc: 0.992 - ETA: 4s - loss: 0.0436 - acc: 0.993 - ETA: 4s - loss: 0.0405 - acc: 0.993 - ETA: 4s - loss: 0.0412 - acc: 0.991 - ETA: 4s - loss: 0.0405 - acc: 0.992 - ETA: 4s - loss: 0.0409 - acc: 0.990 - ETA: 4s - loss: 0.0392 - acc: 0.991 - ETA: 3s - loss: 0.0370 - acc: 0.991 - ETA: 3s - loss: 0.0354 - acc: 0.992 - ETA: 3s - loss: 0.0337 - acc: 0.992 - ETA: 3s - loss: 0.0319 - acc: 0.993 - ETA: 3s - loss: 0.0307 - acc: 0.993 - ETA: 3s - loss: 0.0329 - acc: 0.992 - ETA: 3s - loss: 0.0315 - acc: 0.992 - ETA: 3s - loss: 0.0305 - acc: 0.992 - ETA: 3s - loss: 0.0297 - acc: 0.993 - ETA: 3s - loss: 0.0291 - acc: 0.993 - ETA: 2s - loss: 0.0280 - acc: 0.993 - ETA: 2s - loss: 0.0270 - acc: 0.994 - ETA: 2s - loss: 0.0262 - acc: 0.994 - ETA: 2s - loss: 0.0257 - acc: 0.994 - ETA: 2s - loss: 0.0250 - acc: 0.994 - ETA: 2s - loss: 0.0244 - acc: 0.994 - ETA: 2s - loss: 0.0239 - acc: 0.995 - ETA: 2s - loss: 0.0264 - acc: 0.994 - ETA: 2s - loss: 0.0264 - acc: 0.994 - ETA: 2s - loss: 0.0257 - acc: 0.994 - ETA: 1s - loss: 0.0253 - acc: 0.994 - ETA: 1s - loss: 0.0248 - acc: 0.994 - ETA: 1s - loss: 0.0242 - acc: 0.994 - ETA: 1s - loss: 0.0243 - acc: 0.994 - ETA: 1s - loss: 0.0237 - acc: 0.994 - ETA: 1s - loss: 0.0233 - acc: 0.994 - ETA: 1s - loss: 0.0229 - acc: 0.994 - ETA: 1s - loss: 0.0224 - acc: 0.994 - ETA: 1s - loss: 0.0219 - acc: 0.994 - ETA: 1s - loss: 0.0215 - acc: 0.995 - ETA: 1s - loss: 0.0211 - acc: 0.995 - ETA: 0s - loss: 0.0206 - acc: 0.995 - ETA: 0s - loss: 0.0203 - acc: 0.995 - ETA: 0s - loss: 0.0200 - acc: 0.995 - ETA: 0s - loss: 0.0197 - acc: 0.995 - ETA: 0s - loss: 0.0193 - acc: 0.995 - ETA: 0s - loss: 0.0211 - acc: 0.995 - ETA: 0s - loss: 0.0207 - acc: 0.995 - ETA: 0s - loss: 0.0212 - acc: 0.994 - ETA: 0s - loss: 0.0234 - acc: 0.994 - ETA: 0s - loss: 0.0232 - acc: 0.994 - ETA: 0s - loss: 0.0230 - acc: 0.994 - 6s 3ms/step - loss: 0.0234 - acc: 0.9939 - val_loss: 0.6841 - val_acc: 0.8521\n",
      "\n",
      "Epoch 00003: val_acc did not improve from 0.91170\n",
      "Epoch 4/100\n"
     ]
    },
    {
     "name": "stdout",
     "output_type": "stream",
     "text": [
      "1808/1808 [==============================] - ETA: 4s - loss: 0.1787 - acc: 0.968 - ETA: 4s - loss: 0.0918 - acc: 0.984 - ETA: 4s - loss: 0.0627 - acc: 0.989 - ETA: 4s - loss: 0.0476 - acc: 0.992 - ETA: 4s - loss: 0.0385 - acc: 0.993 - ETA: 4s - loss: 0.0324 - acc: 0.994 - ETA: 4s - loss: 0.0283 - acc: 0.995 - ETA: 4s - loss: 0.0285 - acc: 0.992 - ETA: 4s - loss: 0.0255 - acc: 0.993 - ETA: 4s - loss: 0.0232 - acc: 0.993 - ETA: 4s - loss: 0.0256 - acc: 0.991 - ETA: 4s - loss: 0.0242 - acc: 0.992 - ETA: 4s - loss: 0.0275 - acc: 0.990 - ETA: 3s - loss: 0.0259 - acc: 0.991 - ETA: 3s - loss: 0.0258 - acc: 0.991 - ETA: 3s - loss: 0.0249 - acc: 0.992 - ETA: 3s - loss: 0.0236 - acc: 0.992 - ETA: 3s - loss: 0.0224 - acc: 0.993 - ETA: 3s - loss: 0.0220 - acc: 0.993 - ETA: 3s - loss: 0.0210 - acc: 0.993 - ETA: 3s - loss: 0.0215 - acc: 0.992 - ETA: 3s - loss: 0.0205 - acc: 0.992 - ETA: 3s - loss: 0.0198 - acc: 0.993 - ETA: 3s - loss: 0.0192 - acc: 0.993 - ETA: 2s - loss: 0.0186 - acc: 0.993 - ETA: 2s - loss: 0.0183 - acc: 0.994 - ETA: 2s - loss: 0.0178 - acc: 0.994 - ETA: 2s - loss: 0.0173 - acc: 0.994 - ETA: 2s - loss: 0.0168 - acc: 0.994 - ETA: 2s - loss: 0.0164 - acc: 0.994 - ETA: 2s - loss: 0.0175 - acc: 0.994 - ETA: 2s - loss: 0.0171 - acc: 0.994 - ETA: 2s - loss: 0.0167 - acc: 0.994 - ETA: 2s - loss: 0.0162 - acc: 0.994 - ETA: 2s - loss: 0.0158 - acc: 0.994 - ETA: 1s - loss: 0.0156 - acc: 0.994 - ETA: 1s - loss: 0.0152 - acc: 0.994 - ETA: 1s - loss: 0.0151 - acc: 0.995 - ETA: 1s - loss: 0.0149 - acc: 0.995 - ETA: 1s - loss: 0.0147 - acc: 0.995 - ETA: 1s - loss: 0.0144 - acc: 0.995 - ETA: 1s - loss: 0.0141 - acc: 0.995 - ETA: 1s - loss: 0.0140 - acc: 0.995 - ETA: 1s - loss: 0.0138 - acc: 0.995 - ETA: 1s - loss: 0.0164 - acc: 0.995 - ETA: 1s - loss: 0.0161 - acc: 0.995 - ETA: 0s - loss: 0.0158 - acc: 0.995 - ETA: 0s - loss: 0.0155 - acc: 0.995 - ETA: 0s - loss: 0.0152 - acc: 0.995 - ETA: 0s - loss: 0.0150 - acc: 0.995 - ETA: 0s - loss: 0.0148 - acc: 0.995 - ETA: 0s - loss: 0.0145 - acc: 0.995 - ETA: 0s - loss: 0.0143 - acc: 0.995 - ETA: 0s - loss: 0.0141 - acc: 0.995 - ETA: 0s - loss: 0.0186 - acc: 0.995 - ETA: 0s - loss: 0.0183 - acc: 0.995 - 6s 3ms/step - loss: 0.0182 - acc: 0.9956 - val_loss: 0.7663 - val_acc: 0.7969\n",
      "\n",
      "Epoch 00004: val_acc did not improve from 0.91170\n",
      "Epoch 5/100\n",
      "1808/1808 [==============================] - ETA: 6s - loss: 0.0014 - acc: 1.000 - ETA: 5s - loss: 0.0021 - acc: 1.000 - ETA: 5s - loss: 0.0015 - acc: 1.000 - ETA: 5s - loss: 0.0020 - acc: 1.000 - ETA: 5s - loss: 0.0019 - acc: 1.000 - ETA: 4s - loss: 0.0018 - acc: 1.000 - ETA: 4s - loss: 0.0017 - acc: 1.000 - ETA: 4s - loss: 0.0029 - acc: 1.000 - ETA: 4s - loss: 0.0028 - acc: 1.000 - ETA: 4s - loss: 0.0035 - acc: 1.000 - ETA: 4s - loss: 0.0033 - acc: 1.000 - ETA: 4s - loss: 0.0031 - acc: 1.000 - ETA: 4s - loss: 0.0029 - acc: 1.000 - ETA: 4s - loss: 0.0028 - acc: 1.000 - ETA: 4s - loss: 0.0027 - acc: 1.000 - ETA: 3s - loss: 0.0026 - acc: 1.000 - ETA: 3s - loss: 0.0126 - acc: 0.998 - ETA: 3s - loss: 0.0119 - acc: 0.998 - ETA: 3s - loss: 0.0142 - acc: 0.996 - ETA: 3s - loss: 0.0135 - acc: 0.996 - ETA: 3s - loss: 0.0130 - acc: 0.997 - ETA: 3s - loss: 0.0124 - acc: 0.997 - ETA: 3s - loss: 0.0119 - acc: 0.997 - ETA: 3s - loss: 0.0130 - acc: 0.996 - ETA: 3s - loss: 0.0125 - acc: 0.996 - ETA: 2s - loss: 0.0121 - acc: 0.996 - ETA: 2s - loss: 0.0117 - acc: 0.996 - ETA: 2s - loss: 0.0114 - acc: 0.996 - ETA: 2s - loss: 0.0111 - acc: 0.996 - ETA: 2s - loss: 0.0108 - acc: 0.996 - ETA: 2s - loss: 0.0105 - acc: 0.997 - ETA: 2s - loss: 0.0104 - acc: 0.997 - ETA: 2s - loss: 0.0101 - acc: 0.997 - ETA: 2s - loss: 0.0098 - acc: 0.997 - ETA: 2s - loss: 0.0096 - acc: 0.997 - ETA: 1s - loss: 0.0094 - acc: 0.997 - ETA: 1s - loss: 0.0093 - acc: 0.997 - ETA: 1s - loss: 0.0091 - acc: 0.997 - ETA: 1s - loss: 0.0089 - acc: 0.997 - ETA: 1s - loss: 0.0123 - acc: 0.996 - ETA: 1s - loss: 0.0123 - acc: 0.997 - ETA: 1s - loss: 0.0121 - acc: 0.997 - ETA: 1s - loss: 0.0119 - acc: 0.997 - ETA: 1s - loss: 0.0117 - acc: 0.997 - ETA: 1s - loss: 0.0115 - acc: 0.997 - ETA: 1s - loss: 0.0137 - acc: 0.996 - ETA: 0s - loss: 0.0151 - acc: 0.996 - ETA: 0s - loss: 0.0148 - acc: 0.996 - ETA: 0s - loss: 0.0145 - acc: 0.996 - ETA: 0s - loss: 0.0143 - acc: 0.996 - ETA: 0s - loss: 0.0140 - acc: 0.996 - ETA: 0s - loss: 0.0139 - acc: 0.996 - ETA: 0s - loss: 0.0137 - acc: 0.996 - ETA: 0s - loss: 0.0138 - acc: 0.996 - ETA: 0s - loss: 0.0136 - acc: 0.996 - ETA: 0s - loss: 0.0134 - acc: 0.996 - 6s 3ms/step - loss: 0.0133 - acc: 0.9967 - val_loss: 0.7999 - val_acc: 0.7550\n",
      "\n",
      "Epoch 00005: val_acc did not improve from 0.91170\n",
      "Epoch 6/100\n",
      "1808/1808 [==============================] - ETA: 4s - loss: 0.0432 - acc: 0.968 - ETA: 4s - loss: 0.0223 - acc: 0.984 - ETA: 4s - loss: 0.0157 - acc: 0.989 - ETA: 5s - loss: 0.0131 - acc: 0.992 - ETA: 5s - loss: 0.0114 - acc: 0.993 - ETA: 5s - loss: 0.0115 - acc: 0.994 - ETA: 4s - loss: 0.0102 - acc: 0.995 - ETA: 4s - loss: 0.0091 - acc: 0.996 - ETA: 4s - loss: 0.0082 - acc: 0.996 - ETA: 4s - loss: 0.0075 - acc: 0.996 - ETA: 4s - loss: 0.0071 - acc: 0.997 - ETA: 4s - loss: 0.0178 - acc: 0.994 - ETA: 4s - loss: 0.0172 - acc: 0.995 - ETA: 4s - loss: 0.0162 - acc: 0.995 - ETA: 4s - loss: 0.0153 - acc: 0.995 - ETA: 4s - loss: 0.0146 - acc: 0.996 - ETA: 4s - loss: 0.0140 - acc: 0.996 - ETA: 4s - loss: 0.0133 - acc: 0.996 - ETA: 3s - loss: 0.0127 - acc: 0.996 - ETA: 3s - loss: 0.0122 - acc: 0.996 - ETA: 3s - loss: 0.0120 - acc: 0.997 - ETA: 3s - loss: 0.0115 - acc: 0.997 - ETA: 3s - loss: 0.0112 - acc: 0.997 - ETA: 3s - loss: 0.0137 - acc: 0.996 - ETA: 3s - loss: 0.0132 - acc: 0.996 - ETA: 3s - loss: 0.0128 - acc: 0.996 - ETA: 3s - loss: 0.0123 - acc: 0.996 - ETA: 2s - loss: 0.0120 - acc: 0.996 - ETA: 2s - loss: 0.0116 - acc: 0.996 - ETA: 2s - loss: 0.0114 - acc: 0.996 - ETA: 2s - loss: 0.0111 - acc: 0.997 - ETA: 2s - loss: 0.0108 - acc: 0.997 - ETA: 2s - loss: 0.0136 - acc: 0.996 - ETA: 2s - loss: 0.0132 - acc: 0.996 - ETA: 2s - loss: 0.0150 - acc: 0.995 - ETA: 2s - loss: 0.0146 - acc: 0.995 - ETA: 1s - loss: 0.0143 - acc: 0.995 - ETA: 1s - loss: 0.0139 - acc: 0.995 - ETA: 1s - loss: 0.0136 - acc: 0.996 - ETA: 1s - loss: 0.0133 - acc: 0.996 - ETA: 1s - loss: 0.0131 - acc: 0.996 - ETA: 1s - loss: 0.0128 - acc: 0.996 - ETA: 1s - loss: 0.0126 - acc: 0.996 - ETA: 1s - loss: 0.0124 - acc: 0.996 - ETA: 1s - loss: 0.0121 - acc: 0.996 - ETA: 1s - loss: 0.0119 - acc: 0.996 - ETA: 0s - loss: 0.0117 - acc: 0.996 - ETA: 0s - loss: 0.0115 - acc: 0.996 - ETA: 0s - loss: 0.0112 - acc: 0.996 - ETA: 0s - loss: 0.0110 - acc: 0.996 - ETA: 0s - loss: 0.0108 - acc: 0.996 - ETA: 0s - loss: 0.0112 - acc: 0.996 - ETA: 0s - loss: 0.0110 - acc: 0.996 - ETA: 0s - loss: 0.0108 - acc: 0.996 - ETA: 0s - loss: 0.0107 - acc: 0.996 - ETA: 0s - loss: 0.0105 - acc: 0.996 - 6s 3ms/step - loss: 0.0104 - acc: 0.9967 - val_loss: 0.7633 - val_acc: 0.8035\n",
      "\n",
      "Epoch 00006: val_acc did not improve from 0.91170\n",
      "Epoch 7/100\n"
     ]
    },
    {
     "name": "stdout",
     "output_type": "stream",
     "text": [
      "1808/1808 [==============================] - ETA: 4s - loss: 7.2124e-04 - acc: 1.000 - ETA: 4s - loss: 0.0720 - acc: 0.9844    - ETA: 4s - loss: 0.0483 - acc: 0.989 - ETA: 4s - loss: 0.0364 - acc: 0.992 - ETA: 4s - loss: 0.0294 - acc: 0.993 - ETA: 4s - loss: 0.0249 - acc: 0.994 - ETA: 4s - loss: 0.0223 - acc: 0.995 - ETA: 4s - loss: 0.0199 - acc: 0.996 - ETA: 4s - loss: 0.0182 - acc: 0.996 - ETA: 4s - loss: 0.0168 - acc: 0.996 - ETA: 4s - loss: 0.0156 - acc: 0.997 - ETA: 4s - loss: 0.0146 - acc: 0.997 - ETA: 4s - loss: 0.0136 - acc: 0.997 - ETA: 4s - loss: 0.0218 - acc: 0.995 - ETA: 3s - loss: 0.0248 - acc: 0.993 - ETA: 3s - loss: 0.0234 - acc: 0.994 - ETA: 3s - loss: 0.0221 - acc: 0.994 - ETA: 3s - loss: 0.0209 - acc: 0.994 - ETA: 3s - loss: 0.0199 - acc: 0.995 - ETA: 3s - loss: 0.0189 - acc: 0.995 - ETA: 3s - loss: 0.0181 - acc: 0.995 - ETA: 3s - loss: 0.0175 - acc: 0.995 - ETA: 3s - loss: 0.0233 - acc: 0.993 - ETA: 3s - loss: 0.0224 - acc: 0.993 - ETA: 3s - loss: 0.0216 - acc: 0.993 - ETA: 2s - loss: 0.0208 - acc: 0.994 - ETA: 2s - loss: 0.0200 - acc: 0.994 - ETA: 2s - loss: 0.0194 - acc: 0.994 - ETA: 2s - loss: 0.0188 - acc: 0.994 - ETA: 2s - loss: 0.0185 - acc: 0.994 - ETA: 2s - loss: 0.0180 - acc: 0.995 - ETA: 2s - loss: 0.0174 - acc: 0.995 - ETA: 2s - loss: 0.0189 - acc: 0.994 - ETA: 2s - loss: 0.0185 - acc: 0.994 - ETA: 2s - loss: 0.0180 - acc: 0.994 - ETA: 1s - loss: 0.0176 - acc: 0.994 - ETA: 1s - loss: 0.0171 - acc: 0.994 - ETA: 1s - loss: 0.0167 - acc: 0.995 - ETA: 1s - loss: 0.0163 - acc: 0.995 - ETA: 1s - loss: 0.0160 - acc: 0.995 - ETA: 1s - loss: 0.0174 - acc: 0.994 - ETA: 1s - loss: 0.0170 - acc: 0.994 - ETA: 1s - loss: 0.0166 - acc: 0.994 - ETA: 1s - loss: 0.0163 - acc: 0.995 - ETA: 1s - loss: 0.0160 - acc: 0.995 - ETA: 1s - loss: 0.0157 - acc: 0.995 - ETA: 0s - loss: 0.0154 - acc: 0.995 - ETA: 0s - loss: 0.0153 - acc: 0.995 - ETA: 0s - loss: 0.0151 - acc: 0.995 - ETA: 0s - loss: 0.0148 - acc: 0.995 - ETA: 0s - loss: 0.0146 - acc: 0.995 - ETA: 0s - loss: 0.0144 - acc: 0.995 - ETA: 0s - loss: 0.0142 - acc: 0.995 - ETA: 0s - loss: 0.0139 - acc: 0.995 - ETA: 0s - loss: 0.0137 - acc: 0.996 - ETA: 0s - loss: 0.0135 - acc: 0.996 - 6s 3ms/step - loss: 0.0134 - acc: 0.9961 - val_loss: 0.7338 - val_acc: 0.8079\n",
      "\n",
      "Epoch 00007: val_acc did not improve from 0.91170\n",
      "Epoch 8/100\n",
      "1808/1808 [==============================] - ETA: 4s - loss: 0.0017 - acc: 1.000 - ETA: 4s - loss: 0.0679 - acc: 0.984 - ETA: 4s - loss: 0.0459 - acc: 0.989 - ETA: 4s - loss: 0.0347 - acc: 0.992 - ETA: 4s - loss: 0.0281 - acc: 0.993 - ETA: 4s - loss: 0.0236 - acc: 0.994 - ETA: 4s - loss: 0.0202 - acc: 0.995 - ETA: 4s - loss: 0.0177 - acc: 0.996 - ETA: 4s - loss: 0.0160 - acc: 0.996 - ETA: 4s - loss: 0.0146 - acc: 0.996 - ETA: 4s - loss: 0.0136 - acc: 0.997 - ETA: 4s - loss: 0.0129 - acc: 0.997 - ETA: 3s - loss: 0.0123 - acc: 0.997 - ETA: 3s - loss: 0.0115 - acc: 0.997 - ETA: 3s - loss: 0.0110 - acc: 0.997 - ETA: 3s - loss: 0.0104 - acc: 0.998 - ETA: 3s - loss: 0.0099 - acc: 0.998 - ETA: 3s - loss: 0.0094 - acc: 0.998 - ETA: 3s - loss: 0.0090 - acc: 0.998 - ETA: 3s - loss: 0.0086 - acc: 0.998 - ETA: 3s - loss: 0.0083 - acc: 0.998 - ETA: 3s - loss: 0.0080 - acc: 0.998 - ETA: 2s - loss: 0.0077 - acc: 0.998 - ETA: 2s - loss: 0.0082 - acc: 0.998 - ETA: 2s - loss: 0.0079 - acc: 0.998 - ETA: 2s - loss: 0.0076 - acc: 0.998 - ETA: 2s - loss: 0.0074 - acc: 0.998 - ETA: 2s - loss: 0.0072 - acc: 0.998 - ETA: 2s - loss: 0.0070 - acc: 0.998 - ETA: 2s - loss: 0.0068 - acc: 0.999 - ETA: 2s - loss: 0.0066 - acc: 0.999 - ETA: 2s - loss: 0.0076 - acc: 0.998 - ETA: 2s - loss: 0.0074 - acc: 0.998 - ETA: 1s - loss: 0.0073 - acc: 0.998 - ETA: 1s - loss: 0.0071 - acc: 0.998 - ETA: 1s - loss: 0.0069 - acc: 0.998 - ETA: 1s - loss: 0.0068 - acc: 0.998 - ETA: 1s - loss: 0.0074 - acc: 0.997 - ETA: 1s - loss: 0.0093 - acc: 0.996 - ETA: 1s - loss: 0.0091 - acc: 0.996 - ETA: 1s - loss: 0.0089 - acc: 0.997 - ETA: 1s - loss: 0.0087 - acc: 0.997 - ETA: 1s - loss: 0.0085 - acc: 0.997 - ETA: 1s - loss: 0.0102 - acc: 0.996 - ETA: 1s - loss: 0.0100 - acc: 0.996 - ETA: 1s - loss: 0.0098 - acc: 0.996 - ETA: 0s - loss: 0.0096 - acc: 0.996 - ETA: 0s - loss: 0.0094 - acc: 0.996 - ETA: 0s - loss: 0.0092 - acc: 0.996 - ETA: 0s - loss: 0.0090 - acc: 0.996 - ETA: 0s - loss: 0.0093 - acc: 0.996 - ETA: 0s - loss: 0.0107 - acc: 0.996 - ETA: 0s - loss: 0.0105 - acc: 0.996 - ETA: 0s - loss: 0.0104 - acc: 0.996 - ETA: 0s - loss: 0.0102 - acc: 0.996 - ETA: 0s - loss: 0.0100 - acc: 0.996 - 6s 3ms/step - loss: 0.0099 - acc: 0.9967 - val_loss: 0.8256 - val_acc: 0.7748\n",
      "\n",
      "Epoch 00008: val_acc did not improve from 0.91170\n",
      "Epoch 9/100\n",
      "1808/1808 [==============================] - ETA: 4s - loss: 6.9007e-04 - acc: 1.000 - ETA: 4s - loss: 5.5776e-04 - acc: 1.000 - ETA: 4s - loss: 7.3379e-04 - acc: 1.000 - ETA: 4s - loss: 0.0014 - acc: 1.0000    - ETA: 3s - loss: 0.0015 - acc: 1.000 - ETA: 3s - loss: 0.0014 - acc: 1.000 - ETA: 3s - loss: 0.0013 - acc: 1.000 - ETA: 3s - loss: 0.0113 - acc: 0.996 - ETA: 3s - loss: 0.0103 - acc: 0.996 - ETA: 3s - loss: 0.0094 - acc: 0.996 - ETA: 3s - loss: 0.0086 - acc: 0.997 - ETA: 3s - loss: 0.0080 - acc: 0.997 - ETA: 3s - loss: 0.0075 - acc: 0.997 - ETA: 3s - loss: 0.0070 - acc: 0.997 - ETA: 3s - loss: 0.0066 - acc: 0.997 - ETA: 3s - loss: 0.0062 - acc: 0.998 - ETA: 3s - loss: 0.0085 - acc: 0.996 - ETA: 2s - loss: 0.0081 - acc: 0.996 - ETA: 2s - loss: 0.0077 - acc: 0.996 - ETA: 2s - loss: 0.0073 - acc: 0.996 - ETA: 2s - loss: 0.0071 - acc: 0.997 - ETA: 2s - loss: 0.0068 - acc: 0.997 - ETA: 2s - loss: 0.0065 - acc: 0.997 - ETA: 2s - loss: 0.0082 - acc: 0.996 - ETA: 2s - loss: 0.0138 - acc: 0.995 - ETA: 2s - loss: 0.0133 - acc: 0.995 - ETA: 2s - loss: 0.0128 - acc: 0.995 - ETA: 2s - loss: 0.0126 - acc: 0.995 - ETA: 2s - loss: 0.0122 - acc: 0.995 - ETA: 2s - loss: 0.0143 - acc: 0.994 - ETA: 2s - loss: 0.0140 - acc: 0.995 - ETA: 2s - loss: 0.0137 - acc: 0.995 - ETA: 1s - loss: 0.0134 - acc: 0.995 - ETA: 1s - loss: 0.0149 - acc: 0.994 - ETA: 1s - loss: 0.0145 - acc: 0.994 - ETA: 1s - loss: 0.0146 - acc: 0.994 - ETA: 1s - loss: 0.0143 - acc: 0.994 - ETA: 1s - loss: 0.0140 - acc: 0.995 - ETA: 1s - loss: 0.0137 - acc: 0.995 - ETA: 1s - loss: 0.0134 - acc: 0.995 - ETA: 1s - loss: 0.0131 - acc: 0.995 - ETA: 1s - loss: 0.0128 - acc: 0.995 - ETA: 1s - loss: 0.0126 - acc: 0.995 - ETA: 1s - loss: 0.0123 - acc: 0.995 - ETA: 0s - loss: 0.0121 - acc: 0.995 - ETA: 0s - loss: 0.0118 - acc: 0.995 - ETA: 0s - loss: 0.0116 - acc: 0.996 - ETA: 0s - loss: 0.0114 - acc: 0.996 - ETA: 0s - loss: 0.0112 - acc: 0.996 - ETA: 0s - loss: 0.0110 - acc: 0.996 - ETA: 0s - loss: 0.0108 - acc: 0.996 - ETA: 0s - loss: 0.0106 - acc: 0.996 - ETA: 0s - loss: 0.0104 - acc: 0.996 - ETA: 0s - loss: 0.0106 - acc: 0.996 - ETA: 0s - loss: 0.0104 - acc: 0.996 - ETA: 0s - loss: 0.0103 - acc: 0.996 - 5s 3ms/step - loss: 0.0102 - acc: 0.9967 - val_loss: 0.8015 - val_acc: 0.7837\n",
      "\n",
      "Epoch 00009: val_acc did not improve from 0.91170\n",
      "Epoch 10/100\n"
     ]
    },
    {
     "name": "stdout",
     "output_type": "stream",
     "text": [
      "1808/1808 [==============================] - ETA: 4s - loss: 0.0016 - acc: 1.000 - ETA: 4s - loss: 0.0012 - acc: 1.000 - ETA: 4s - loss: 0.0012 - acc: 1.000 - ETA: 4s - loss: 0.0013 - acc: 1.000 - ETA: 4s - loss: 0.0012 - acc: 1.000 - ETA: 4s - loss: 0.0012 - acc: 1.000 - ETA: 3s - loss: 0.0011 - acc: 1.000 - ETA: 3s - loss: 0.0011 - acc: 1.000 - ETA: 3s - loss: 0.0010 - acc: 1.000 - ETA: 3s - loss: 0.0011 - acc: 1.000 - ETA: 3s - loss: 0.0011 - acc: 1.000 - ETA: 3s - loss: 0.0011 - acc: 1.000 - ETA: 3s - loss: 0.0010 - acc: 1.000 - ETA: 3s - loss: 0.0010 - acc: 1.000 - ETA: 3s - loss: 9.8085e-04 - acc: 1.000 - ETA: 3s - loss: 0.0010 - acc: 1.0000    - ETA: 3s - loss: 9.4816e-04 - acc: 1.000 - ETA: 3s - loss: 0.0011 - acc: 1.0000    - ETA: 3s - loss: 0.0011 - acc: 1.000 - ETA: 3s - loss: 0.0011 - acc: 1.000 - ETA: 2s - loss: 0.0011 - acc: 1.000 - ETA: 2s - loss: 0.0010 - acc: 1.000 - ETA: 2s - loss: 9.8808e-04 - acc: 1.000 - ETA: 2s - loss: 9.5852e-04 - acc: 1.000 - ETA: 2s - loss: 9.4025e-04 - acc: 1.000 - ETA: 2s - loss: 0.0077 - acc: 0.9988    - ETA: 2s - loss: 0.0104 - acc: 0.997 - ETA: 2s - loss: 0.0101 - acc: 0.997 - ETA: 2s - loss: 0.0098 - acc: 0.997 - ETA: 2s - loss: 0.0094 - acc: 0.997 - ETA: 2s - loss: 0.0092 - acc: 0.998 - ETA: 2s - loss: 0.0096 - acc: 0.997 - ETA: 1s - loss: 0.0093 - acc: 0.997 - ETA: 1s - loss: 0.0091 - acc: 0.997 - ETA: 1s - loss: 0.0088 - acc: 0.997 - ETA: 1s - loss: 0.0086 - acc: 0.997 - ETA: 1s - loss: 0.0084 - acc: 0.997 - ETA: 1s - loss: 0.0083 - acc: 0.997 - ETA: 1s - loss: 0.0081 - acc: 0.997 - ETA: 1s - loss: 0.0079 - acc: 0.997 - ETA: 1s - loss: 0.0077 - acc: 0.997 - ETA: 1s - loss: 0.0075 - acc: 0.997 - ETA: 1s - loss: 0.0078 - acc: 0.997 - ETA: 1s - loss: 0.0078 - acc: 0.997 - ETA: 0s - loss: 0.0077 - acc: 0.997 - ETA: 0s - loss: 0.0075 - acc: 0.998 - ETA: 0s - loss: 0.0084 - acc: 0.997 - ETA: 0s - loss: 0.0082 - acc: 0.997 - ETA: 0s - loss: 0.0082 - acc: 0.997 - ETA: 0s - loss: 0.0080 - acc: 0.997 - ETA: 0s - loss: 0.0079 - acc: 0.997 - ETA: 0s - loss: 0.0078 - acc: 0.997 - ETA: 0s - loss: 0.0086 - acc: 0.997 - ETA: 0s - loss: 0.0084 - acc: 0.997 - ETA: 0s - loss: 0.0083 - acc: 0.997 - ETA: 0s - loss: 0.0083 - acc: 0.997 - 5s 3ms/step - loss: 0.0082 - acc: 0.9972 - val_loss: 0.7164 - val_acc: 0.8477\n",
      "\n",
      "Epoch 00010: val_acc did not improve from 0.91170\n",
      "Epoch 11/100\n",
      "1808/1808 [==============================] - ETA: 4s - loss: 4.8170e-05 - acc: 1.000 - ETA: 4s - loss: 0.0038 - acc: 1.0000    - ETA: 4s - loss: 0.0042 - acc: 1.000 - ETA: 4s - loss: 0.0039 - acc: 1.000 - ETA: 4s - loss: 0.0040 - acc: 1.000 - ETA: 3s - loss: 0.0036 - acc: 1.000 - ETA: 3s - loss: 0.0036 - acc: 1.000 - ETA: 3s - loss: 0.0035 - acc: 1.000 - ETA: 3s - loss: 0.0034 - acc: 1.000 - ETA: 3s - loss: 0.0035 - acc: 1.000 - ETA: 3s - loss: 0.0037 - acc: 1.000 - ETA: 3s - loss: 0.0035 - acc: 1.000 - ETA: 3s - loss: 0.0033 - acc: 1.000 - ETA: 3s - loss: 0.0034 - acc: 1.000 - ETA: 3s - loss: 0.0036 - acc: 1.000 - ETA: 3s - loss: 0.0036 - acc: 1.000 - ETA: 3s - loss: 0.0035 - acc: 1.000 - ETA: 3s - loss: 0.0034 - acc: 1.000 - ETA: 3s - loss: 0.0033 - acc: 1.000 - ETA: 2s - loss: 0.0102 - acc: 0.998 - ETA: 2s - loss: 0.0097 - acc: 0.998 - ETA: 2s - loss: 0.0093 - acc: 0.998 - ETA: 2s - loss: 0.0090 - acc: 0.998 - ETA: 2s - loss: 0.0087 - acc: 0.998 - ETA: 2s - loss: 0.0084 - acc: 0.998 - ETA: 2s - loss: 0.0083 - acc: 0.998 - ETA: 2s - loss: 0.0080 - acc: 0.998 - ETA: 2s - loss: 0.0079 - acc: 0.998 - ETA: 2s - loss: 0.0077 - acc: 0.998 - ETA: 2s - loss: 0.0074 - acc: 0.999 - ETA: 2s - loss: 0.0072 - acc: 0.999 - ETA: 1s - loss: 0.0070 - acc: 0.999 - ETA: 1s - loss: 0.0069 - acc: 0.999 - ETA: 1s - loss: 0.0067 - acc: 0.999 - ETA: 1s - loss: 0.0065 - acc: 0.999 - ETA: 1s - loss: 0.0082 - acc: 0.998 - ETA: 1s - loss: 0.0081 - acc: 0.998 - ETA: 1s - loss: 0.0079 - acc: 0.998 - ETA: 1s - loss: 0.0077 - acc: 0.998 - ETA: 1s - loss: 0.0075 - acc: 0.998 - ETA: 1s - loss: 0.0073 - acc: 0.998 - ETA: 1s - loss: 0.0071 - acc: 0.998 - ETA: 1s - loss: 0.0070 - acc: 0.998 - ETA: 1s - loss: 0.0068 - acc: 0.998 - ETA: 0s - loss: 0.0067 - acc: 0.998 - ETA: 0s - loss: 0.0066 - acc: 0.998 - ETA: 0s - loss: 0.0064 - acc: 0.998 - ETA: 0s - loss: 0.0069 - acc: 0.998 - ETA: 0s - loss: 0.0068 - acc: 0.998 - ETA: 0s - loss: 0.0076 - acc: 0.997 - ETA: 0s - loss: 0.0075 - acc: 0.997 - ETA: 0s - loss: 0.0074 - acc: 0.997 - ETA: 0s - loss: 0.0073 - acc: 0.997 - ETA: 0s - loss: 0.0071 - acc: 0.997 - ETA: 0s - loss: 0.0071 - acc: 0.997 - ETA: 0s - loss: 0.0094 - acc: 0.997 - 5s 3ms/step - loss: 0.0093 - acc: 0.9972 - val_loss: 1.3755 - val_acc: 0.6623\n",
      "\n",
      "Epoch 00011: val_acc did not improve from 0.91170\n",
      "Epoch 12/100\n",
      "1808/1808 [==============================] - ETA: 4s - loss: 2.2979e-04 - acc: 1.000 - ETA: 4s - loss: 8.1703e-04 - acc: 1.000 - ETA: 4s - loss: 6.1885e-04 - acc: 1.000 - ETA: 4s - loss: 6.8714e-04 - acc: 1.000 - ETA: 4s - loss: 5.6455e-04 - acc: 1.000 - ETA: 4s - loss: 5.0258e-04 - acc: 1.000 - ETA: 4s - loss: 4.8959e-04 - acc: 1.000 - ETA: 4s - loss: 4.5495e-04 - acc: 1.000 - ETA: 3s - loss: 4.1619e-04 - acc: 1.000 - ETA: 3s - loss: 4.2371e-04 - acc: 1.000 - ETA: 3s - loss: 4.2558e-04 - acc: 1.000 - ETA: 3s - loss: 4.0146e-04 - acc: 1.000 - ETA: 3s - loss: 3.7300e-04 - acc: 1.000 - ETA: 3s - loss: 3.8122e-04 - acc: 1.000 - ETA: 3s - loss: 4.0256e-04 - acc: 1.000 - ETA: 3s - loss: 4.0029e-04 - acc: 1.000 - ETA: 3s - loss: 5.0024e-04 - acc: 1.000 - ETA: 3s - loss: 7.0333e-04 - acc: 1.000 - ETA: 3s - loss: 7.1906e-04 - acc: 1.000 - ETA: 3s - loss: 7.0124e-04 - acc: 1.000 - ETA: 3s - loss: 7.1285e-04 - acc: 1.000 - ETA: 3s - loss: 7.3467e-04 - acc: 1.000 - ETA: 2s - loss: 7.0642e-04 - acc: 1.000 - ETA: 2s - loss: 7.0273e-04 - acc: 1.000 - ETA: 2s - loss: 0.0047 - acc: 0.9988    - ETA: 2s - loss: 0.0046 - acc: 0.998 - ETA: 2s - loss: 0.0044 - acc: 0.998 - ETA: 2s - loss: 0.0043 - acc: 0.998 - ETA: 2s - loss: 0.0041 - acc: 0.998 - ETA: 2s - loss: 0.0040 - acc: 0.999 - ETA: 2s - loss: 0.0039 - acc: 0.999 - ETA: 2s - loss: 0.0077 - acc: 0.998 - ETA: 2s - loss: 0.0075 - acc: 0.998 - ETA: 1s - loss: 0.0073 - acc: 0.998 - ETA: 1s - loss: 0.0071 - acc: 0.998 - ETA: 1s - loss: 0.0069 - acc: 0.998 - ETA: 1s - loss: 0.0067 - acc: 0.998 - ETA: 1s - loss: 0.0066 - acc: 0.998 - ETA: 1s - loss: 0.0064 - acc: 0.998 - ETA: 1s - loss: 0.0107 - acc: 0.997 - ETA: 1s - loss: 0.0104 - acc: 0.997 - ETA: 1s - loss: 0.0102 - acc: 0.997 - ETA: 1s - loss: 0.0100 - acc: 0.997 - ETA: 1s - loss: 0.0098 - acc: 0.997 - ETA: 0s - loss: 0.0096 - acc: 0.997 - ETA: 0s - loss: 0.0094 - acc: 0.998 - ETA: 0s - loss: 0.0093 - acc: 0.998 - ETA: 0s - loss: 0.0091 - acc: 0.998 - ETA: 0s - loss: 0.0089 - acc: 0.998 - ETA: 0s - loss: 0.0088 - acc: 0.998 - ETA: 0s - loss: 0.0087 - acc: 0.998 - ETA: 0s - loss: 0.0092 - acc: 0.997 - ETA: 0s - loss: 0.0091 - acc: 0.997 - ETA: 0s - loss: 0.0098 - acc: 0.997 - ETA: 0s - loss: 0.0097 - acc: 0.997 - ETA: 0s - loss: 0.0098 - acc: 0.997 - 5s 3ms/step - loss: 0.0098 - acc: 0.9972 - val_loss: 0.7200 - val_acc: 0.8477\n",
      "\n",
      "Epoch 00012: val_acc did not improve from 0.91170\n",
      "Epoch 13/100\n"
     ]
    },
    {
     "name": "stdout",
     "output_type": "stream",
     "text": [
      "1808/1808 [==============================] - ETA: 4s - loss: 0.0023 - acc: 1.000 - ETA: 4s - loss: 0.0023 - acc: 1.000 - ETA: 4s - loss: 0.0023 - acc: 1.000 - ETA: 4s - loss: 0.0026 - acc: 1.000 - ETA: 4s - loss: 0.0033 - acc: 1.000 - ETA: 4s - loss: 0.0045 - acc: 1.000 - ETA: 4s - loss: 0.0044 - acc: 1.000 - ETA: 4s - loss: 0.0045 - acc: 1.000 - ETA: 4s - loss: 0.0056 - acc: 1.000 - ETA: 3s - loss: 0.0053 - acc: 1.000 - ETA: 3s - loss: 0.0051 - acc: 1.000 - ETA: 3s - loss: 0.0139 - acc: 0.997 - ETA: 3s - loss: 0.0132 - acc: 0.997 - ETA: 3s - loss: 0.0126 - acc: 0.997 - ETA: 3s - loss: 0.0120 - acc: 0.997 - ETA: 3s - loss: 0.0113 - acc: 0.998 - ETA: 3s - loss: 0.0108 - acc: 0.998 - ETA: 3s - loss: 0.0102 - acc: 0.998 - ETA: 3s - loss: 0.0099 - acc: 0.998 - ETA: 3s - loss: 0.0094 - acc: 0.998 - ETA: 2s - loss: 0.0091 - acc: 0.998 - ETA: 2s - loss: 0.0089 - acc: 0.998 - ETA: 2s - loss: 0.0087 - acc: 0.998 - ETA: 2s - loss: 0.0123 - acc: 0.997 - ETA: 2s - loss: 0.0119 - acc: 0.997 - ETA: 2s - loss: 0.0115 - acc: 0.997 - ETA: 2s - loss: 0.0162 - acc: 0.995 - ETA: 2s - loss: 0.0156 - acc: 0.995 - ETA: 2s - loss: 0.0154 - acc: 0.995 - ETA: 2s - loss: 0.0149 - acc: 0.995 - ETA: 2s - loss: 0.0144 - acc: 0.996 - ETA: 2s - loss: 0.0140 - acc: 0.996 - ETA: 1s - loss: 0.0136 - acc: 0.996 - ETA: 1s - loss: 0.0132 - acc: 0.996 - ETA: 1s - loss: 0.0128 - acc: 0.996 - ETA: 1s - loss: 0.0125 - acc: 0.996 - ETA: 1s - loss: 0.0122 - acc: 0.996 - ETA: 1s - loss: 0.0119 - acc: 0.996 - ETA: 1s - loss: 0.0116 - acc: 0.996 - ETA: 1s - loss: 0.0115 - acc: 0.996 - ETA: 1s - loss: 0.0113 - acc: 0.997 - ETA: 1s - loss: 0.0110 - acc: 0.997 - ETA: 1s - loss: 0.0108 - acc: 0.997 - ETA: 1s - loss: 0.0106 - acc: 0.997 - ETA: 0s - loss: 0.0104 - acc: 0.997 - ETA: 0s - loss: 0.0101 - acc: 0.997 - ETA: 0s - loss: 0.0099 - acc: 0.997 - ETA: 0s - loss: 0.0097 - acc: 0.997 - ETA: 0s - loss: 0.0096 - acc: 0.997 - ETA: 0s - loss: 0.0094 - acc: 0.997 - ETA: 0s - loss: 0.0092 - acc: 0.997 - ETA: 0s - loss: 0.0117 - acc: 0.997 - ETA: 0s - loss: 0.0115 - acc: 0.997 - ETA: 0s - loss: 0.0113 - acc: 0.997 - ETA: 0s - loss: 0.0111 - acc: 0.997 - ETA: 0s - loss: 0.0109 - acc: 0.997 - 5s 3ms/step - loss: 0.0108 - acc: 0.9972 - val_loss: 0.8669 - val_acc: 0.7837\n",
      "\n",
      "Epoch 00013: val_acc did not improve from 0.91170\n",
      "Epoch 14/100\n",
      "1808/1808 [==============================] - ETA: 4s - loss: 7.5024e-04 - acc: 1.000 - ETA: 4s - loss: 6.2072e-04 - acc: 1.000 - ETA: 4s - loss: 6.6867e-04 - acc: 1.000 - ETA: 4s - loss: 6.1488e-04 - acc: 1.000 - ETA: 4s - loss: 7.5040e-04 - acc: 1.000 - ETA: 4s - loss: 7.5938e-04 - acc: 1.000 - ETA: 3s - loss: 8.1551e-04 - acc: 1.000 - ETA: 3s - loss: 7.6074e-04 - acc: 1.000 - ETA: 3s - loss: 7.0456e-04 - acc: 1.000 - ETA: 3s - loss: 8.2384e-04 - acc: 1.000 - ETA: 3s - loss: 0.0021 - acc: 1.0000    - ETA: 3s - loss: 0.0021 - acc: 1.000 - ETA: 3s - loss: 0.0019 - acc: 1.000 - ETA: 3s - loss: 0.0038 - acc: 0.997 - ETA: 3s - loss: 0.0035 - acc: 0.997 - ETA: 3s - loss: 0.0034 - acc: 0.998 - ETA: 3s - loss: 0.0033 - acc: 0.998 - ETA: 3s - loss: 0.0034 - acc: 0.998 - ETA: 3s - loss: 0.0032 - acc: 0.998 - ETA: 3s - loss: 0.0031 - acc: 0.998 - ETA: 2s - loss: 0.0031 - acc: 0.998 - ETA: 2s - loss: 0.0031 - acc: 0.998 - ETA: 2s - loss: 0.0032 - acc: 0.998 - ETA: 2s - loss: 0.0030 - acc: 0.998 - ETA: 2s - loss: 0.0031 - acc: 0.998 - ETA: 2s - loss: 0.0031 - acc: 0.998 - ETA: 2s - loss: 0.0031 - acc: 0.998 - ETA: 2s - loss: 0.0031 - acc: 0.998 - ETA: 2s - loss: 0.0033 - acc: 0.998 - ETA: 2s - loss: 0.0032 - acc: 0.999 - ETA: 2s - loss: 0.0031 - acc: 0.999 - ETA: 2s - loss: 0.0031 - acc: 0.999 - ETA: 1s - loss: 0.0030 - acc: 0.999 - ETA: 1s - loss: 0.0029 - acc: 0.999 - ETA: 1s - loss: 0.0070 - acc: 0.998 - ETA: 1s - loss: 0.0068 - acc: 0.998 - ETA: 1s - loss: 0.0066 - acc: 0.998 - ETA: 1s - loss: 0.0083 - acc: 0.997 - ETA: 1s - loss: 0.0082 - acc: 0.997 - ETA: 1s - loss: 0.0080 - acc: 0.997 - ETA: 1s - loss: 0.0078 - acc: 0.997 - ETA: 1s - loss: 0.0077 - acc: 0.997 - ETA: 1s - loss: 0.0076 - acc: 0.997 - ETA: 1s - loss: 0.0074 - acc: 0.997 - ETA: 1s - loss: 0.0074 - acc: 0.997 - ETA: 0s - loss: 0.0074 - acc: 0.998 - ETA: 0s - loss: 0.0072 - acc: 0.998 - ETA: 0s - loss: 0.0071 - acc: 0.998 - ETA: 0s - loss: 0.0070 - acc: 0.998 - ETA: 0s - loss: 0.0069 - acc: 0.998 - ETA: 0s - loss: 0.0083 - acc: 0.997 - ETA: 0s - loss: 0.0082 - acc: 0.997 - ETA: 0s - loss: 0.0081 - acc: 0.997 - ETA: 0s - loss: 0.0103 - acc: 0.997 - ETA: 0s - loss: 0.0102 - acc: 0.997 - ETA: 0s - loss: 0.0100 - acc: 0.997 - 5s 3ms/step - loss: 0.0099 - acc: 0.9972 - val_loss: 0.7848 - val_acc: 0.8411\n",
      "\n",
      "Epoch 00014: val_acc did not improve from 0.91170\n",
      "Epoch 15/100\n",
      "1808/1808 [==============================] - ETA: 4s - loss: 8.7166e-04 - acc: 1.000 - ETA: 4s - loss: 0.0013 - acc: 1.0000    - ETA: 5s - loss: 0.0012 - acc: 1.000 - ETA: 5s - loss: 0.0012 - acc: 1.000 - ETA: 5s - loss: 0.0011 - acc: 1.000 - ETA: 6s - loss: 9.7646e-04 - acc: 1.000 - ETA: 6s - loss: 8.7361e-04 - acc: 1.000 - ETA: 5s - loss: 8.6304e-04 - acc: 1.000 - ETA: 5s - loss: 8.0516e-04 - acc: 1.000 - ETA: 5s - loss: 7.4283e-04 - acc: 1.000 - ETA: 4s - loss: 0.0018 - acc: 1.0000    - ETA: 4s - loss: 0.0017 - acc: 1.000 - ETA: 4s - loss: 0.0073 - acc: 0.997 - ETA: 4s - loss: 0.0069 - acc: 0.997 - ETA: 4s - loss: 0.0065 - acc: 0.997 - ETA: 4s - loss: 0.0061 - acc: 0.998 - ETA: 3s - loss: 0.0153 - acc: 0.996 - ETA: 3s - loss: 0.0145 - acc: 0.996 - ETA: 3s - loss: 0.0138 - acc: 0.996 - ETA: 3s - loss: 0.0151 - acc: 0.995 - ETA: 3s - loss: 0.0145 - acc: 0.995 - ETA: 3s - loss: 0.0139 - acc: 0.995 - ETA: 3s - loss: 0.0134 - acc: 0.995 - ETA: 3s - loss: 0.0129 - acc: 0.996 - ETA: 2s - loss: 0.0125 - acc: 0.996 - ETA: 2s - loss: 0.0121 - acc: 0.996 - ETA: 2s - loss: 0.0118 - acc: 0.996 - ETA: 2s - loss: 0.0114 - acc: 0.996 - ETA: 2s - loss: 0.0110 - acc: 0.996 - ETA: 2s - loss: 0.0108 - acc: 0.996 - ETA: 2s - loss: 0.0105 - acc: 0.997 - ETA: 2s - loss: 0.0113 - acc: 0.996 - ETA: 2s - loss: 0.0110 - acc: 0.996 - ETA: 2s - loss: 0.0108 - acc: 0.996 - ETA: 1s - loss: 0.0106 - acc: 0.996 - ETA: 1s - loss: 0.0104 - acc: 0.996 - ETA: 1s - loss: 0.0101 - acc: 0.996 - ETA: 1s - loss: 0.0100 - acc: 0.996 - ETA: 1s - loss: 0.0098 - acc: 0.996 - ETA: 1s - loss: 0.0096 - acc: 0.996 - ETA: 1s - loss: 0.0095 - acc: 0.997 - ETA: 1s - loss: 0.0093 - acc: 0.997 - ETA: 1s - loss: 0.0092 - acc: 0.997 - ETA: 1s - loss: 0.0090 - acc: 0.997 - ETA: 1s - loss: 0.0089 - acc: 0.997 - ETA: 0s - loss: 0.0088 - acc: 0.997 - ETA: 0s - loss: 0.0087 - acc: 0.997 - ETA: 0s - loss: 0.0086 - acc: 0.997 - ETA: 0s - loss: 0.0084 - acc: 0.997 - ETA: 0s - loss: 0.0083 - acc: 0.997 - ETA: 0s - loss: 0.0082 - acc: 0.997 - ETA: 0s - loss: 0.0080 - acc: 0.997 - ETA: 0s - loss: 0.0079 - acc: 0.997 - ETA: 0s - loss: 0.0078 - acc: 0.997 - ETA: 0s - loss: 0.0083 - acc: 0.997 - ETA: 0s - loss: 0.0094 - acc: 0.996 - 5s 3ms/step - loss: 0.0093 - acc: 0.9967 - val_loss: 0.8092 - val_acc: 0.8190\n",
      "\n",
      "Epoch 00015: val_acc did not improve from 0.91170\n",
      "Epoch 16/100\n"
     ]
    },
    {
     "name": "stdout",
     "output_type": "stream",
     "text": [
      "1808/1808 [==============================] - ETA: 4s - loss: 0.0017 - acc: 1.000 - ETA: 4s - loss: 0.0012 - acc: 1.000 - ETA: 4s - loss: 0.0010 - acc: 1.000 - ETA: 3s - loss: 9.5355e-04 - acc: 1.000 - ETA: 3s - loss: 8.2471e-04 - acc: 1.000 - ETA: 3s - loss: 7.9914e-04 - acc: 1.000 - ETA: 3s - loss: 7.3458e-04 - acc: 1.000 - ETA: 3s - loss: 6.9149e-04 - acc: 1.000 - ETA: 3s - loss: 6.3268e-04 - acc: 1.000 - ETA: 3s - loss: 5.8364e-04 - acc: 1.000 - ETA: 3s - loss: 5.4540e-04 - acc: 1.000 - ETA: 3s - loss: 5.1493e-04 - acc: 1.000 - ETA: 3s - loss: 4.8935e-04 - acc: 1.000 - ETA: 3s - loss: 5.9747e-04 - acc: 1.000 - ETA: 3s - loss: 5.7422e-04 - acc: 1.000 - ETA: 3s - loss: 5.5108e-04 - acc: 1.000 - ETA: 3s - loss: 0.0078 - acc: 0.9982    - ETA: 3s - loss: 0.0074 - acc: 0.998 - ETA: 3s - loss: 0.0070 - acc: 0.998 - ETA: 2s - loss: 0.0067 - acc: 0.998 - ETA: 2s - loss: 0.0064 - acc: 0.998 - ETA: 2s - loss: 0.0061 - acc: 0.998 - ETA: 2s - loss: 0.0058 - acc: 0.998 - ETA: 2s - loss: 0.0056 - acc: 0.998 - ETA: 2s - loss: 0.0054 - acc: 0.998 - ETA: 2s - loss: 0.0052 - acc: 0.998 - ETA: 2s - loss: 0.0050 - acc: 0.998 - ETA: 2s - loss: 0.0049 - acc: 0.998 - ETA: 2s - loss: 0.0047 - acc: 0.998 - ETA: 2s - loss: 0.0046 - acc: 0.999 - ETA: 2s - loss: 0.0045 - acc: 0.999 - ETA: 2s - loss: 0.0044 - acc: 0.999 - ETA: 1s - loss: 0.0043 - acc: 0.999 - ETA: 1s - loss: 0.0042 - acc: 0.999 - ETA: 1s - loss: 0.0041 - acc: 0.999 - ETA: 1s - loss: 0.0045 - acc: 0.999 - ETA: 1s - loss: 0.0044 - acc: 0.999 - ETA: 1s - loss: 0.0043 - acc: 0.999 - ETA: 1s - loss: 0.0042 - acc: 0.999 - ETA: 1s - loss: 0.0057 - acc: 0.998 - ETA: 1s - loss: 0.0073 - acc: 0.997 - ETA: 1s - loss: 0.0071 - acc: 0.997 - ETA: 1s - loss: 0.0070 - acc: 0.997 - ETA: 1s - loss: 0.0069 - acc: 0.997 - ETA: 0s - loss: 0.0067 - acc: 0.997 - ETA: 0s - loss: 0.0066 - acc: 0.998 - ETA: 0s - loss: 0.0065 - acc: 0.998 - ETA: 0s - loss: 0.0063 - acc: 0.998 - ETA: 0s - loss: 0.0062 - acc: 0.998 - ETA: 0s - loss: 0.0061 - acc: 0.998 - ETA: 0s - loss: 0.0088 - acc: 0.997 - ETA: 0s - loss: 0.0101 - acc: 0.997 - ETA: 0s - loss: 0.0099 - acc: 0.997 - ETA: 0s - loss: 0.0101 - acc: 0.997 - ETA: 0s - loss: 0.0099 - acc: 0.997 - ETA: 0s - loss: 0.0108 - acc: 0.996 - 5s 3ms/step - loss: 0.0107 - acc: 0.9967 - val_loss: 0.7518 - val_acc: 0.8057\n",
      "\n",
      "Epoch 00016: val_acc did not improve from 0.91170\n",
      "Epoch 17/100\n",
      "1808/1808 [==============================] - ETA: 3s - loss: 5.6865e-04 - acc: 1.000 - ETA: 4s - loss: 7.8285e-04 - acc: 1.000 - ETA: 4s - loss: 0.0148 - acc: 0.9896    - ETA: 4s - loss: 0.0113 - acc: 0.992 - ETA: 4s - loss: 0.0092 - acc: 0.993 - ETA: 4s - loss: 0.0078 - acc: 0.994 - ETA: 3s - loss: 0.0070 - acc: 0.995 - ETA: 3s - loss: 0.0063 - acc: 0.996 - ETA: 3s - loss: 0.0056 - acc: 0.996 - ETA: 3s - loss: 0.0053 - acc: 0.996 - ETA: 3s - loss: 0.0049 - acc: 0.997 - ETA: 3s - loss: 0.0048 - acc: 0.997 - ETA: 3s - loss: 0.0045 - acc: 0.997 - ETA: 3s - loss: 0.0044 - acc: 0.997 - ETA: 3s - loss: 0.0041 - acc: 0.997 - ETA: 3s - loss: 0.0040 - acc: 0.998 - ETA: 3s - loss: 0.0051 - acc: 0.998 - ETA: 3s - loss: 0.0050 - acc: 0.998 - ETA: 3s - loss: 0.0088 - acc: 0.996 - ETA: 3s - loss: 0.0084 - acc: 0.996 - ETA: 2s - loss: 0.0081 - acc: 0.997 - ETA: 2s - loss: 0.0078 - acc: 0.997 - ETA: 2s - loss: 0.0076 - acc: 0.997 - ETA: 2s - loss: 0.0099 - acc: 0.996 - ETA: 2s - loss: 0.0113 - acc: 0.995 - ETA: 2s - loss: 0.0109 - acc: 0.995 - ETA: 2s - loss: 0.0106 - acc: 0.995 - ETA: 2s - loss: 0.0103 - acc: 0.995 - ETA: 2s - loss: 0.0099 - acc: 0.995 - ETA: 2s - loss: 0.0097 - acc: 0.995 - ETA: 2s - loss: 0.0102 - acc: 0.995 - ETA: 2s - loss: 0.0099 - acc: 0.995 - ETA: 1s - loss: 0.0097 - acc: 0.995 - ETA: 1s - loss: 0.0094 - acc: 0.995 - ETA: 1s - loss: 0.0092 - acc: 0.995 - ETA: 1s - loss: 0.0090 - acc: 0.995 - ETA: 1s - loss: 0.0087 - acc: 0.995 - ETA: 1s - loss: 0.0085 - acc: 0.995 - ETA: 1s - loss: 0.0083 - acc: 0.996 - ETA: 1s - loss: 0.0082 - acc: 0.996 - ETA: 1s - loss: 0.0080 - acc: 0.996 - ETA: 1s - loss: 0.0079 - acc: 0.996 - ETA: 1s - loss: 0.0077 - acc: 0.996 - ETA: 1s - loss: 0.0075 - acc: 0.996 - ETA: 0s - loss: 0.0074 - acc: 0.996 - ETA: 0s - loss: 0.0072 - acc: 0.996 - ETA: 0s - loss: 0.0071 - acc: 0.996 - ETA: 0s - loss: 0.0070 - acc: 0.996 - ETA: 0s - loss: 0.0068 - acc: 0.996 - ETA: 0s - loss: 0.0067 - acc: 0.996 - ETA: 0s - loss: 0.0096 - acc: 0.996 - ETA: 0s - loss: 0.0103 - acc: 0.995 - ETA: 0s - loss: 0.0101 - acc: 0.995 - ETA: 0s - loss: 0.0099 - acc: 0.995 - ETA: 0s - loss: 0.0098 - acc: 0.996 - ETA: 0s - loss: 0.0096 - acc: 0.996 - 5s 3ms/step - loss: 0.0096 - acc: 0.9961 - val_loss: 0.7137 - val_acc: 0.8234\n",
      "\n",
      "Epoch 00017: val_acc did not improve from 0.91170\n",
      "Epoch 18/100\n",
      "1808/1808 [==============================] - ETA: 4s - loss: 0.0449 - acc: 0.968 - ETA: 4s - loss: 0.0225 - acc: 0.984 - ETA: 4s - loss: 0.0153 - acc: 0.989 - ETA: 4s - loss: 0.0117 - acc: 0.992 - ETA: 4s - loss: 0.0182 - acc: 0.987 - ETA: 3s - loss: 0.0158 - acc: 0.989 - ETA: 3s - loss: 0.0160 - acc: 0.991 - ETA: 3s - loss: 0.0142 - acc: 0.992 - ETA: 3s - loss: 0.0127 - acc: 0.993 - ETA: 3s - loss: 0.0115 - acc: 0.993 - ETA: 3s - loss: 0.0126 - acc: 0.991 - ETA: 3s - loss: 0.0116 - acc: 0.992 - ETA: 3s - loss: 0.0201 - acc: 0.990 - ETA: 3s - loss: 0.0187 - acc: 0.991 - ETA: 3s - loss: 0.0176 - acc: 0.991 - ETA: 3s - loss: 0.0166 - acc: 0.992 - ETA: 3s - loss: 0.0157 - acc: 0.992 - ETA: 3s - loss: 0.0150 - acc: 0.993 - ETA: 2s - loss: 0.0144 - acc: 0.993 - ETA: 2s - loss: 0.0139 - acc: 0.993 - ETA: 2s - loss: 0.0166 - acc: 0.992 - ETA: 2s - loss: 0.0161 - acc: 0.992 - ETA: 2s - loss: 0.0154 - acc: 0.993 - ETA: 2s - loss: 0.0150 - acc: 0.993 - ETA: 2s - loss: 0.0146 - acc: 0.993 - ETA: 2s - loss: 0.0142 - acc: 0.994 - ETA: 2s - loss: 0.0137 - acc: 0.994 - ETA: 2s - loss: 0.0134 - acc: 0.994 - ETA: 2s - loss: 0.0130 - acc: 0.994 - ETA: 2s - loss: 0.0126 - acc: 0.994 - ETA: 2s - loss: 0.0123 - acc: 0.995 - ETA: 1s - loss: 0.0120 - acc: 0.995 - ETA: 1s - loss: 0.0116 - acc: 0.995 - ETA: 1s - loss: 0.0114 - acc: 0.995 - ETA: 1s - loss: 0.0111 - acc: 0.995 - ETA: 1s - loss: 0.0108 - acc: 0.995 - ETA: 1s - loss: 0.0106 - acc: 0.995 - ETA: 1s - loss: 0.0104 - acc: 0.995 - ETA: 1s - loss: 0.0101 - acc: 0.996 - ETA: 1s - loss: 0.0099 - acc: 0.996 - ETA: 1s - loss: 0.0097 - acc: 0.996 - ETA: 1s - loss: 0.0095 - acc: 0.996 - ETA: 1s - loss: 0.0093 - acc: 0.996 - ETA: 1s - loss: 0.0091 - acc: 0.996 - ETA: 0s - loss: 0.0089 - acc: 0.996 - ETA: 0s - loss: 0.0087 - acc: 0.996 - ETA: 0s - loss: 0.0085 - acc: 0.996 - ETA: 0s - loss: 0.0084 - acc: 0.996 - ETA: 0s - loss: 0.0082 - acc: 0.996 - ETA: 0s - loss: 0.0081 - acc: 0.996 - ETA: 0s - loss: 0.0079 - acc: 0.996 - ETA: 0s - loss: 0.0078 - acc: 0.997 - ETA: 0s - loss: 0.0077 - acc: 0.997 - ETA: 0s - loss: 0.0075 - acc: 0.997 - ETA: 0s - loss: 0.0074 - acc: 0.997 - ETA: 0s - loss: 0.0073 - acc: 0.997 - 5s 3ms/step - loss: 0.0072 - acc: 0.9972 - val_loss: 0.8682 - val_acc: 0.7815\n",
      "\n",
      "Epoch 00018: val_acc did not improve from 0.91170\n",
      "Epoch 19/100\n"
     ]
    },
    {
     "name": "stdout",
     "output_type": "stream",
     "text": [
      "1808/1808 [==============================] - ETA: 3s - loss: 5.9040e-04 - acc: 1.000 - ETA: 3s - loss: 4.9091e-04 - acc: 1.000 - ETA: 3s - loss: 4.9890e-04 - acc: 1.000 - ETA: 4s - loss: 3.9500e-04 - acc: 1.000 - ETA: 3s - loss: 3.8634e-04 - acc: 1.000 - ETA: 3s - loss: 0.0147 - acc: 0.9896    - ETA: 3s - loss: 0.0127 - acc: 0.991 - ETA: 3s - loss: 0.0111 - acc: 0.992 - ETA: 3s - loss: 0.0101 - acc: 0.993 - ETA: 3s - loss: 0.0092 - acc: 0.993 - ETA: 3s - loss: 0.0084 - acc: 0.994 - ETA: 3s - loss: 0.0077 - acc: 0.994 - ETA: 3s - loss: 0.0071 - acc: 0.995 - ETA: 3s - loss: 0.0066 - acc: 0.995 - ETA: 3s - loss: 0.0063 - acc: 0.995 - ETA: 3s - loss: 0.0060 - acc: 0.996 - ETA: 3s - loss: 0.0058 - acc: 0.996 - ETA: 3s - loss: 0.0055 - acc: 0.996 - ETA: 3s - loss: 0.0053 - acc: 0.996 - ETA: 2s - loss: 0.0051 - acc: 0.996 - ETA: 2s - loss: 0.0061 - acc: 0.995 - ETA: 2s - loss: 0.0059 - acc: 0.995 - ETA: 2s - loss: 0.0110 - acc: 0.994 - ETA: 2s - loss: 0.0106 - acc: 0.994 - ETA: 2s - loss: 0.0103 - acc: 0.995 - ETA: 2s - loss: 0.0099 - acc: 0.995 - ETA: 2s - loss: 0.0096 - acc: 0.995 - ETA: 2s - loss: 0.0094 - acc: 0.995 - ETA: 2s - loss: 0.0116 - acc: 0.994 - ETA: 2s - loss: 0.0114 - acc: 0.994 - ETA: 2s - loss: 0.0112 - acc: 0.995 - ETA: 1s - loss: 0.0109 - acc: 0.995 - ETA: 1s - loss: 0.0106 - acc: 0.995 - ETA: 1s - loss: 0.0104 - acc: 0.995 - ETA: 1s - loss: 0.0102 - acc: 0.995 - ETA: 1s - loss: 0.0100 - acc: 0.995 - ETA: 1s - loss: 0.0098 - acc: 0.995 - ETA: 1s - loss: 0.0096 - acc: 0.995 - ETA: 1s - loss: 0.0094 - acc: 0.996 - ETA: 1s - loss: 0.0091 - acc: 0.996 - ETA: 1s - loss: 0.0090 - acc: 0.996 - ETA: 1s - loss: 0.0088 - acc: 0.996 - ETA: 1s - loss: 0.0086 - acc: 0.996 - ETA: 1s - loss: 0.0084 - acc: 0.996 - ETA: 0s - loss: 0.0083 - acc: 0.996 - ETA: 0s - loss: 0.0104 - acc: 0.995 - ETA: 0s - loss: 0.0102 - acc: 0.996 - ETA: 0s - loss: 0.0112 - acc: 0.995 - ETA: 0s - loss: 0.0109 - acc: 0.995 - ETA: 0s - loss: 0.0107 - acc: 0.995 - ETA: 0s - loss: 0.0105 - acc: 0.995 - ETA: 0s - loss: 0.0103 - acc: 0.995 - ETA: 0s - loss: 0.0102 - acc: 0.995 - ETA: 0s - loss: 0.0100 - acc: 0.995 - ETA: 0s - loss: 0.0118 - acc: 0.995 - ETA: 0s - loss: 0.0116 - acc: 0.995 - 5s 3ms/step - loss: 0.0115 - acc: 0.9956 - val_loss: 1.1160 - val_acc: 0.6909\n",
      "\n",
      "Epoch 00019: val_acc did not improve from 0.91170\n",
      "Epoch 20/100\n",
      "1808/1808 [==============================] - ETA: 4s - loss: 4.1365e-04 - acc: 1.000 - ETA: 3s - loss: 5.1174e-04 - acc: 1.000 - ETA: 4s - loss: 5.1487e-04 - acc: 1.000 - ETA: 4s - loss: 4.6636e-04 - acc: 1.000 - ETA: 4s - loss: 5.0182e-04 - acc: 1.000 - ETA: 4s - loss: 4.7209e-04 - acc: 1.000 - ETA: 3s - loss: 5.4439e-04 - acc: 1.000 - ETA: 3s - loss: 5.3298e-04 - acc: 1.000 - ETA: 3s - loss: 5.1592e-04 - acc: 1.000 - ETA: 3s - loss: 5.1163e-04 - acc: 1.000 - ETA: 3s - loss: 4.7648e-04 - acc: 1.000 - ETA: 3s - loss: 4.9457e-04 - acc: 1.000 - ETA: 3s - loss: 4.8702e-04 - acc: 1.000 - ETA: 3s - loss: 4.8008e-04 - acc: 1.000 - ETA: 3s - loss: 4.7958e-04 - acc: 1.000 - ETA: 3s - loss: 4.5662e-04 - acc: 1.000 - ETA: 3s - loss: 4.4640e-04 - acc: 1.000 - ETA: 3s - loss: 4.3687e-04 - acc: 1.000 - ETA: 3s - loss: 4.2854e-04 - acc: 1.000 - ETA: 2s - loss: 4.1892e-04 - acc: 1.000 - ETA: 2s - loss: 4.2003e-04 - acc: 1.000 - ETA: 2s - loss: 4.0446e-04 - acc: 1.000 - ETA: 2s - loss: 0.0021 - acc: 0.9986    - ETA: 2s - loss: 0.0020 - acc: 0.998 - ETA: 2s - loss: 0.0020 - acc: 0.998 - ETA: 2s - loss: 0.0019 - acc: 0.998 - ETA: 2s - loss: 0.0018 - acc: 0.998 - ETA: 2s - loss: 0.0019 - acc: 0.998 - ETA: 2s - loss: 0.0018 - acc: 0.998 - ETA: 2s - loss: 0.0018 - acc: 0.999 - ETA: 2s - loss: 0.0017 - acc: 0.999 - ETA: 1s - loss: 0.0017 - acc: 0.999 - ETA: 1s - loss: 0.0016 - acc: 0.999 - ETA: 1s - loss: 0.0017 - acc: 0.999 - ETA: 1s - loss: 0.0016 - acc: 0.999 - ETA: 1s - loss: 0.0016 - acc: 0.999 - ETA: 1s - loss: 0.0015 - acc: 0.999 - ETA: 1s - loss: 0.0107 - acc: 0.997 - ETA: 1s - loss: 0.0104 - acc: 0.997 - ETA: 1s - loss: 0.0102 - acc: 0.997 - ETA: 1s - loss: 0.0099 - acc: 0.997 - ETA: 1s - loss: 0.0098 - acc: 0.997 - ETA: 1s - loss: 0.0095 - acc: 0.997 - ETA: 1s - loss: 0.0095 - acc: 0.997 - ETA: 0s - loss: 0.0093 - acc: 0.997 - ETA: 0s - loss: 0.0092 - acc: 0.998 - ETA: 0s - loss: 0.0090 - acc: 0.998 - ETA: 0s - loss: 0.0089 - acc: 0.998 - ETA: 0s - loss: 0.0087 - acc: 0.998 - ETA: 0s - loss: 0.0085 - acc: 0.998 - ETA: 0s - loss: 0.0089 - acc: 0.997 - ETA: 0s - loss: 0.0094 - acc: 0.997 - ETA: 0s - loss: 0.0093 - acc: 0.997 - ETA: 0s - loss: 0.0091 - acc: 0.997 - ETA: 0s - loss: 0.0092 - acc: 0.997 - ETA: 0s - loss: 0.0091 - acc: 0.997 - 5s 3ms/step - loss: 0.0090 - acc: 0.9972 - val_loss: 0.7138 - val_acc: 0.8521\n",
      "\n",
      "Epoch 00020: val_acc did not improve from 0.91170\n",
      "Epoch 21/100\n",
      "1808/1808 [==============================] - ETA: 4s - loss: 0.0012 - acc: 1.000 - ETA: 4s - loss: 0.0091 - acc: 1.000 - ETA: 4s - loss: 0.0082 - acc: 1.000 - ETA: 4s - loss: 0.0066 - acc: 1.000 - ETA: 4s - loss: 0.0060 - acc: 1.000 - ETA: 4s - loss: 0.0053 - acc: 1.000 - ETA: 3s - loss: 0.0045 - acc: 1.000 - ETA: 3s - loss: 0.0046 - acc: 1.000 - ETA: 3s - loss: 0.0044 - acc: 1.000 - ETA: 3s - loss: 0.0043 - acc: 1.000 - ETA: 3s - loss: 0.0041 - acc: 1.000 - ETA: 3s - loss: 0.0041 - acc: 1.000 - ETA: 3s - loss: 0.0126 - acc: 0.997 - ETA: 3s - loss: 0.0119 - acc: 0.997 - ETA: 3s - loss: 0.0112 - acc: 0.997 - ETA: 3s - loss: 0.0107 - acc: 0.998 - ETA: 3s - loss: 0.0103 - acc: 0.998 - ETA: 3s - loss: 0.0098 - acc: 0.998 - ETA: 2s - loss: 0.0094 - acc: 0.998 - ETA: 2s - loss: 0.0090 - acc: 0.998 - ETA: 2s - loss: 0.0112 - acc: 0.997 - ETA: 2s - loss: 0.0109 - acc: 0.997 - ETA: 2s - loss: 0.0104 - acc: 0.997 - ETA: 2s - loss: 0.0100 - acc: 0.997 - ETA: 2s - loss: 0.0097 - acc: 0.997 - ETA: 2s - loss: 0.0093 - acc: 0.997 - ETA: 2s - loss: 0.0091 - acc: 0.997 - ETA: 2s - loss: 0.0088 - acc: 0.997 - ETA: 2s - loss: 0.0134 - acc: 0.996 - ETA: 2s - loss: 0.0130 - acc: 0.996 - ETA: 1s - loss: 0.0126 - acc: 0.997 - ETA: 1s - loss: 0.0123 - acc: 0.997 - ETA: 1s - loss: 0.0119 - acc: 0.997 - ETA: 1s - loss: 0.0116 - acc: 0.997 - ETA: 1s - loss: 0.0113 - acc: 0.997 - ETA: 1s - loss: 0.0110 - acc: 0.997 - ETA: 1s - loss: 0.0107 - acc: 0.997 - ETA: 1s - loss: 0.0104 - acc: 0.997 - ETA: 1s - loss: 0.0102 - acc: 0.997 - ETA: 1s - loss: 0.0104 - acc: 0.997 - ETA: 1s - loss: 0.0102 - acc: 0.997 - ETA: 1s - loss: 0.0100 - acc: 0.997 - ETA: 1s - loss: 0.0106 - acc: 0.997 - ETA: 0s - loss: 0.0104 - acc: 0.997 - ETA: 0s - loss: 0.0102 - acc: 0.997 - ETA: 0s - loss: 0.0100 - acc: 0.997 - ETA: 0s - loss: 0.0098 - acc: 0.997 - ETA: 0s - loss: 0.0097 - acc: 0.997 - ETA: 0s - loss: 0.0095 - acc: 0.997 - ETA: 0s - loss: 0.0093 - acc: 0.997 - ETA: 0s - loss: 0.0101 - acc: 0.996 - ETA: 0s - loss: 0.0099 - acc: 0.997 - ETA: 0s - loss: 0.0097 - acc: 0.997 - ETA: 0s - loss: 0.0096 - acc: 0.997 - ETA: 0s - loss: 0.0094 - acc: 0.997 - ETA: 0s - loss: 0.0093 - acc: 0.997 - 5s 3ms/step - loss: 0.0093 - acc: 0.9972 - val_loss: 0.7231 - val_acc: 0.8168\n",
      "\n",
      "Epoch 00021: val_acc did not improve from 0.91170\n",
      "Epoch 22/100\n"
     ]
    },
    {
     "name": "stdout",
     "output_type": "stream",
     "text": [
      "1808/1808 [==============================] - ETA: 4s - loss: 9.0737e-05 - acc: 1.000 - ETA: 4s - loss: 8.2619e-04 - acc: 1.000 - ETA: 4s - loss: 0.0013 - acc: 1.0000    - ETA: 4s - loss: 0.0014 - acc: 1.000 - ETA: 4s - loss: 0.0035 - acc: 1.000 - ETA: 4s - loss: 0.0031 - acc: 1.000 - ETA: 4s - loss: 0.0209 - acc: 0.995 - ETA: 4s - loss: 0.0187 - acc: 0.996 - ETA: 4s - loss: 0.0227 - acc: 0.993 - ETA: 4s - loss: 0.0205 - acc: 0.993 - ETA: 4s - loss: 0.0187 - acc: 0.994 - ETA: 3s - loss: 0.0220 - acc: 0.992 - ETA: 3s - loss: 0.0205 - acc: 0.992 - ETA: 3s - loss: 0.0192 - acc: 0.993 - ETA: 3s - loss: 0.0179 - acc: 0.993 - ETA: 3s - loss: 0.0169 - acc: 0.994 - ETA: 3s - loss: 0.0159 - acc: 0.994 - ETA: 3s - loss: 0.0151 - acc: 0.994 - ETA: 3s - loss: 0.0146 - acc: 0.995 - ETA: 3s - loss: 0.0140 - acc: 0.995 - ETA: 3s - loss: 0.0134 - acc: 0.995 - ETA: 3s - loss: 0.0129 - acc: 0.995 - ETA: 2s - loss: 0.0124 - acc: 0.995 - ETA: 2s - loss: 0.0119 - acc: 0.996 - ETA: 2s - loss: 0.0115 - acc: 0.996 - ETA: 2s - loss: 0.0112 - acc: 0.996 - ETA: 2s - loss: 0.0109 - acc: 0.996 - ETA: 2s - loss: 0.0106 - acc: 0.996 - ETA: 2s - loss: 0.0103 - acc: 0.996 - ETA: 2s - loss: 0.0101 - acc: 0.996 - ETA: 2s - loss: 0.0098 - acc: 0.997 - ETA: 2s - loss: 0.0096 - acc: 0.997 - ETA: 2s - loss: 0.0093 - acc: 0.997 - ETA: 1s - loss: 0.0091 - acc: 0.997 - ETA: 1s - loss: 0.0088 - acc: 0.997 - ETA: 1s - loss: 0.0086 - acc: 0.997 - ETA: 1s - loss: 0.0084 - acc: 0.997 - ETA: 1s - loss: 0.0082 - acc: 0.997 - ETA: 1s - loss: 0.0080 - acc: 0.997 - ETA: 1s - loss: 0.0078 - acc: 0.997 - ETA: 1s - loss: 0.0076 - acc: 0.997 - ETA: 1s - loss: 0.0083 - acc: 0.997 - ETA: 1s - loss: 0.0081 - acc: 0.997 - ETA: 1s - loss: 0.0095 - acc: 0.996 - ETA: 1s - loss: 0.0093 - acc: 0.996 - ETA: 0s - loss: 0.0091 - acc: 0.996 - ETA: 0s - loss: 0.0090 - acc: 0.996 - ETA: 0s - loss: 0.0088 - acc: 0.996 - ETA: 0s - loss: 0.0090 - acc: 0.996 - ETA: 0s - loss: 0.0089 - acc: 0.996 - ETA: 0s - loss: 0.0087 - acc: 0.996 - ETA: 0s - loss: 0.0086 - acc: 0.997 - ETA: 0s - loss: 0.0089 - acc: 0.996 - ETA: 0s - loss: 0.0088 - acc: 0.996 - ETA: 0s - loss: 0.0086 - acc: 0.996 - ETA: 0s - loss: 0.0085 - acc: 0.996 - 6s 3ms/step - loss: 0.0084 - acc: 0.9967 - val_loss: 0.8002 - val_acc: 0.8057\n",
      "\n",
      "Epoch 00022: val_acc did not improve from 0.91170\n",
      "Epoch 23/100\n",
      "1808/1808 [==============================] - ETA: 4s - loss: 3.2320e-04 - acc: 1.000 - ETA: 4s - loss: 4.3028e-04 - acc: 1.000 - ETA: 4s - loss: 4.7172e-04 - acc: 1.000 - ETA: 4s - loss: 5.1816e-04 - acc: 1.000 - ETA: 4s - loss: 5.7131e-04 - acc: 1.000 - ETA: 4s - loss: 6.3405e-04 - acc: 1.000 - ETA: 4s - loss: 6.0829e-04 - acc: 1.000 - ETA: 4s - loss: 6.4141e-04 - acc: 1.000 - ETA: 4s - loss: 6.3474e-04 - acc: 1.000 - ETA: 4s - loss: 6.0670e-04 - acc: 1.000 - ETA: 4s - loss: 6.6151e-04 - acc: 1.000 - ETA: 4s - loss: 6.4774e-04 - acc: 1.000 - ETA: 4s - loss: 6.5082e-04 - acc: 1.000 - ETA: 3s - loss: 6.7619e-04 - acc: 1.000 - ETA: 3s - loss: 6.3454e-04 - acc: 1.000 - ETA: 3s - loss: 6.0357e-04 - acc: 1.000 - ETA: 3s - loss: 6.0957e-04 - acc: 1.000 - ETA: 3s - loss: 6.1145e-04 - acc: 1.000 - ETA: 3s - loss: 5.9032e-04 - acc: 1.000 - ETA: 3s - loss: 5.8418e-04 - acc: 1.000 - ETA: 3s - loss: 0.0084 - acc: 0.9985    - ETA: 3s - loss: 0.0080 - acc: 0.998 - ETA: 3s - loss: 0.0077 - acc: 0.998 - ETA: 3s - loss: 0.0074 - acc: 0.998 - ETA: 2s - loss: 0.0072 - acc: 0.998 - ETA: 2s - loss: 0.0069 - acc: 0.998 - ETA: 2s - loss: 0.0067 - acc: 0.998 - ETA: 2s - loss: 0.0064 - acc: 0.998 - ETA: 2s - loss: 0.0063 - acc: 0.998 - ETA: 2s - loss: 0.0061 - acc: 0.999 - ETA: 2s - loss: 0.0061 - acc: 0.999 - ETA: 2s - loss: 0.0059 - acc: 0.999 - ETA: 2s - loss: 0.0058 - acc: 0.999 - ETA: 2s - loss: 0.0056 - acc: 0.999 - ETA: 1s - loss: 0.0071 - acc: 0.998 - ETA: 1s - loss: 0.0069 - acc: 0.998 - ETA: 1s - loss: 0.0068 - acc: 0.998 - ETA: 1s - loss: 0.0066 - acc: 0.998 - ETA: 1s - loss: 0.0069 - acc: 0.998 - ETA: 1s - loss: 0.0068 - acc: 0.998 - ETA: 1s - loss: 0.0067 - acc: 0.998 - ETA: 1s - loss: 0.0065 - acc: 0.998 - ETA: 1s - loss: 0.0064 - acc: 0.998 - ETA: 1s - loss: 0.0063 - acc: 0.998 - ETA: 1s - loss: 0.0062 - acc: 0.998 - ETA: 0s - loss: 0.0061 - acc: 0.998 - ETA: 0s - loss: 0.0060 - acc: 0.998 - ETA: 0s - loss: 0.0059 - acc: 0.998 - ETA: 0s - loss: 0.0058 - acc: 0.998 - ETA: 0s - loss: 0.0057 - acc: 0.998 - ETA: 0s - loss: 0.0065 - acc: 0.998 - ETA: 0s - loss: 0.0064 - acc: 0.998 - ETA: 0s - loss: 0.0063 - acc: 0.998 - ETA: 0s - loss: 0.0062 - acc: 0.998 - ETA: 0s - loss: 0.0061 - acc: 0.998 - ETA: 0s - loss: 0.0081 - acc: 0.997 - 6s 3ms/step - loss: 0.0080 - acc: 0.9978 - val_loss: 0.7571 - val_acc: 0.8322\n",
      "\n",
      "Epoch 00023: val_acc did not improve from 0.91170\n",
      "Epoch 24/100\n",
      "1808/1808 [==============================] - ETA: 4s - loss: 0.0014 - acc: 1.000 - ETA: 4s - loss: 0.0017 - acc: 1.000 - ETA: 4s - loss: 0.0018 - acc: 1.000 - ETA: 4s - loss: 0.0016 - acc: 1.000 - ETA: 4s - loss: 0.0014 - acc: 1.000 - ETA: 4s - loss: 0.0013 - acc: 1.000 - ETA: 4s - loss: 0.0013 - acc: 1.000 - ETA: 4s - loss: 0.0013 - acc: 1.000 - ETA: 4s - loss: 0.0014 - acc: 1.000 - ETA: 4s - loss: 0.0013 - acc: 1.000 - ETA: 4s - loss: 0.0012 - acc: 1.000 - ETA: 4s - loss: 0.0012 - acc: 1.000 - ETA: 3s - loss: 0.0034 - acc: 0.997 - ETA: 3s - loss: 0.0032 - acc: 0.997 - ETA: 3s - loss: 0.0030 - acc: 0.997 - ETA: 3s - loss: 0.0029 - acc: 0.998 - ETA: 3s - loss: 0.0028 - acc: 0.998 - ETA: 3s - loss: 0.0026 - acc: 0.998 - ETA: 3s - loss: 0.0025 - acc: 0.998 - ETA: 3s - loss: 0.0024 - acc: 0.998 - ETA: 3s - loss: 0.0023 - acc: 0.998 - ETA: 3s - loss: 0.0022 - acc: 0.998 - ETA: 3s - loss: 0.0021 - acc: 0.998 - ETA: 2s - loss: 0.0030 - acc: 0.998 - ETA: 2s - loss: 0.0029 - acc: 0.998 - ETA: 2s - loss: 0.0028 - acc: 0.998 - ETA: 2s - loss: 0.0028 - acc: 0.998 - ETA: 2s - loss: 0.0027 - acc: 0.998 - ETA: 2s - loss: 0.0026 - acc: 0.998 - ETA: 2s - loss: 0.0026 - acc: 0.999 - ETA: 2s - loss: 0.0025 - acc: 0.999 - ETA: 2s - loss: 0.0025 - acc: 0.999 - ETA: 2s - loss: 0.0085 - acc: 0.997 - ETA: 2s - loss: 0.0083 - acc: 0.997 - ETA: 1s - loss: 0.0081 - acc: 0.997 - ETA: 1s - loss: 0.0079 - acc: 0.997 - ETA: 1s - loss: 0.0078 - acc: 0.997 - ETA: 1s - loss: 0.0076 - acc: 0.997 - ETA: 1s - loss: 0.0074 - acc: 0.997 - ETA: 1s - loss: 0.0089 - acc: 0.996 - ETA: 1s - loss: 0.0087 - acc: 0.997 - ETA: 1s - loss: 0.0085 - acc: 0.997 - ETA: 1s - loss: 0.0083 - acc: 0.997 - ETA: 1s - loss: 0.0081 - acc: 0.997 - ETA: 1s - loss: 0.0080 - acc: 0.997 - ETA: 0s - loss: 0.0078 - acc: 0.997 - ETA: 0s - loss: 0.0076 - acc: 0.997 - ETA: 0s - loss: 0.0081 - acc: 0.996 - ETA: 0s - loss: 0.0079 - acc: 0.996 - ETA: 0s - loss: 0.0078 - acc: 0.996 - ETA: 0s - loss: 0.0076 - acc: 0.996 - ETA: 0s - loss: 0.0075 - acc: 0.997 - ETA: 0s - loss: 0.0086 - acc: 0.996 - ETA: 0s - loss: 0.0084 - acc: 0.996 - ETA: 0s - loss: 0.0083 - acc: 0.996 - ETA: 0s - loss: 0.0081 - acc: 0.996 - 6s 3ms/step - loss: 0.0081 - acc: 0.9967 - val_loss: 0.8010 - val_acc: 0.7682\n",
      "\n",
      "Epoch 00024: val_acc did not improve from 0.91170\n",
      "Epoch 25/100\n"
     ]
    },
    {
     "name": "stdout",
     "output_type": "stream",
     "text": [
      "1808/1808 [==============================] - ETA: 4s - loss: 7.1394e-04 - acc: 1.000 - ETA: 4s - loss: 7.6240e-04 - acc: 1.000 - ETA: 4s - loss: 0.0032 - acc: 1.0000    - ETA: 4s - loss: 0.0026 - acc: 1.000 - ETA: 4s - loss: 0.0022 - acc: 1.000 - ETA: 4s - loss: 0.0019 - acc: 1.000 - ETA: 4s - loss: 0.0017 - acc: 1.000 - ETA: 4s - loss: 0.0016 - acc: 1.000 - ETA: 4s - loss: 0.0050 - acc: 0.996 - ETA: 3s - loss: 0.0046 - acc: 0.996 - ETA: 3s - loss: 0.0043 - acc: 0.997 - ETA: 3s - loss: 0.0040 - acc: 0.997 - ETA: 3s - loss: 0.0037 - acc: 0.997 - ETA: 3s - loss: 0.0036 - acc: 0.997 - ETA: 3s - loss: 0.0034 - acc: 0.997 - ETA: 3s - loss: 0.0032 - acc: 0.998 - ETA: 3s - loss: 0.0031 - acc: 0.998 - ETA: 3s - loss: 0.0127 - acc: 0.994 - ETA: 3s - loss: 0.0121 - acc: 0.995 - ETA: 3s - loss: 0.0116 - acc: 0.995 - ETA: 3s - loss: 0.0110 - acc: 0.995 - ETA: 2s - loss: 0.0105 - acc: 0.995 - ETA: 2s - loss: 0.0102 - acc: 0.995 - ETA: 2s - loss: 0.0100 - acc: 0.996 - ETA: 2s - loss: 0.0096 - acc: 0.996 - ETA: 2s - loss: 0.0093 - acc: 0.996 - ETA: 2s - loss: 0.0090 - acc: 0.996 - ETA: 2s - loss: 0.0088 - acc: 0.996 - ETA: 2s - loss: 0.0085 - acc: 0.996 - ETA: 2s - loss: 0.0083 - acc: 0.996 - ETA: 2s - loss: 0.0081 - acc: 0.997 - ETA: 2s - loss: 0.0078 - acc: 0.997 - ETA: 2s - loss: 0.0076 - acc: 0.997 - ETA: 1s - loss: 0.0076 - acc: 0.997 - ETA: 1s - loss: 0.0074 - acc: 0.997 - ETA: 1s - loss: 0.0073 - acc: 0.997 - ETA: 1s - loss: 0.0071 - acc: 0.997 - ETA: 1s - loss: 0.0070 - acc: 0.997 - ETA: 1s - loss: 0.0070 - acc: 0.997 - ETA: 1s - loss: 0.0069 - acc: 0.997 - ETA: 1s - loss: 0.0067 - acc: 0.997 - ETA: 1s - loss: 0.0066 - acc: 0.997 - ETA: 1s - loss: 0.0065 - acc: 0.997 - ETA: 1s - loss: 0.0064 - acc: 0.997 - ETA: 1s - loss: 0.0063 - acc: 0.997 - ETA: 0s - loss: 0.0062 - acc: 0.998 - ETA: 0s - loss: 0.0061 - acc: 0.998 - ETA: 0s - loss: 0.0065 - acc: 0.997 - ETA: 0s - loss: 0.0064 - acc: 0.997 - ETA: 0s - loss: 0.0063 - acc: 0.997 - ETA: 0s - loss: 0.0062 - acc: 0.997 - ETA: 0s - loss: 0.0061 - acc: 0.997 - ETA: 0s - loss: 0.0079 - acc: 0.997 - ETA: 0s - loss: 0.0100 - acc: 0.996 - ETA: 0s - loss: 0.0098 - acc: 0.996 - ETA: 0s - loss: 0.0097 - acc: 0.996 - 5s 3ms/step - loss: 0.0096 - acc: 0.9967 - val_loss: 0.7616 - val_acc: 0.8146\n",
      "\n",
      "Epoch 00025: val_acc did not improve from 0.91170\n",
      "Epoch 26/100\n",
      "1808/1808 [==============================] - ETA: 5s - loss: 3.6338e-04 - acc: 1.000 - ETA: 5s - loss: 7.8387e-04 - acc: 1.000 - ETA: 5s - loss: 7.4503e-04 - acc: 1.000 - ETA: 5s - loss: 7.2817e-04 - acc: 1.000 - ETA: 4s - loss: 6.4927e-04 - acc: 1.000 - ETA: 4s - loss: 6.2095e-04 - acc: 1.000 - ETA: 4s - loss: 6.2624e-04 - acc: 1.000 - ETA: 4s - loss: 6.0872e-04 - acc: 1.000 - ETA: 4s - loss: 0.0054 - acc: 0.9965    - ETA: 4s - loss: 0.0049 - acc: 0.996 - ETA: 4s - loss: 0.0045 - acc: 0.997 - ETA: 4s - loss: 0.0042 - acc: 0.997 - ETA: 4s - loss: 0.0040 - acc: 0.997 - ETA: 3s - loss: 0.0037 - acc: 0.997 - ETA: 3s - loss: 0.0036 - acc: 0.997 - ETA: 3s - loss: 0.0034 - acc: 0.998 - ETA: 3s - loss: 0.0048 - acc: 0.996 - ETA: 3s - loss: 0.0046 - acc: 0.996 - ETA: 3s - loss: 0.0044 - acc: 0.996 - ETA: 3s - loss: 0.0120 - acc: 0.995 - ETA: 3s - loss: 0.0134 - acc: 0.994 - ETA: 3s - loss: 0.0128 - acc: 0.994 - ETA: 3s - loss: 0.0122 - acc: 0.994 - ETA: 3s - loss: 0.0118 - acc: 0.994 - ETA: 2s - loss: 0.0114 - acc: 0.995 - ETA: 2s - loss: 0.0110 - acc: 0.995 - ETA: 2s - loss: 0.0106 - acc: 0.995 - ETA: 2s - loss: 0.0103 - acc: 0.995 - ETA: 2s - loss: 0.0100 - acc: 0.995 - ETA: 2s - loss: 0.0097 - acc: 0.995 - ETA: 2s - loss: 0.0095 - acc: 0.996 - ETA: 2s - loss: 0.0092 - acc: 0.996 - ETA: 2s - loss: 0.0090 - acc: 0.996 - ETA: 2s - loss: 0.0087 - acc: 0.996 - ETA: 2s - loss: 0.0085 - acc: 0.996 - ETA: 1s - loss: 0.0083 - acc: 0.996 - ETA: 1s - loss: 0.0081 - acc: 0.996 - ETA: 1s - loss: 0.0079 - acc: 0.996 - ETA: 1s - loss: 0.0078 - acc: 0.996 - ETA: 1s - loss: 0.0076 - acc: 0.996 - ETA: 1s - loss: 0.0075 - acc: 0.997 - ETA: 1s - loss: 0.0073 - acc: 0.997 - ETA: 1s - loss: 0.0073 - acc: 0.997 - ETA: 1s - loss: 0.0075 - acc: 0.997 - ETA: 1s - loss: 0.0074 - acc: 0.997 - ETA: 0s - loss: 0.0073 - acc: 0.997 - ETA: 0s - loss: 0.0072 - acc: 0.997 - ETA: 0s - loss: 0.0071 - acc: 0.997 - ETA: 0s - loss: 0.0070 - acc: 0.997 - ETA: 0s - loss: 0.0084 - acc: 0.996 - ETA: 0s - loss: 0.0083 - acc: 0.996 - ETA: 0s - loss: 0.0094 - acc: 0.996 - ETA: 0s - loss: 0.0092 - acc: 0.996 - ETA: 0s - loss: 0.0091 - acc: 0.996 - ETA: 0s - loss: 0.0089 - acc: 0.996 - ETA: 0s - loss: 0.0088 - acc: 0.996 - 6s 3ms/step - loss: 0.0087 - acc: 0.9967 - val_loss: 0.7078 - val_acc: 0.8168\n",
      "\n",
      "Epoch 00026: val_acc did not improve from 0.91170\n",
      "Epoch 27/100\n",
      "1808/1808 [==============================] - ETA: 5s - loss: 0.0020 - acc: 1.000 - ETA: 5s - loss: 0.0011 - acc: 1.000 - ETA: 5s - loss: 0.0013 - acc: 1.000 - ETA: 5s - loss: 0.0014 - acc: 1.000 - ETA: 4s - loss: 0.0014 - acc: 1.000 - ETA: 4s - loss: 0.0012 - acc: 1.000 - ETA: 4s - loss: 0.0012 - acc: 1.000 - ETA: 4s - loss: 0.0027 - acc: 1.000 - ETA: 4s - loss: 0.0026 - acc: 1.000 - ETA: 4s - loss: 0.0043 - acc: 1.000 - ETA: 4s - loss: 0.0040 - acc: 1.000 - ETA: 4s - loss: 0.0037 - acc: 1.000 - ETA: 4s - loss: 0.0035 - acc: 1.000 - ETA: 3s - loss: 0.0032 - acc: 1.000 - ETA: 3s - loss: 0.0030 - acc: 1.000 - ETA: 3s - loss: 0.0029 - acc: 1.000 - ETA: 3s - loss: 0.0028 - acc: 1.000 - ETA: 3s - loss: 0.0026 - acc: 1.000 - ETA: 3s - loss: 0.0025 - acc: 1.000 - ETA: 3s - loss: 0.0024 - acc: 1.000 - ETA: 3s - loss: 0.0102 - acc: 0.998 - ETA: 3s - loss: 0.0097 - acc: 0.998 - ETA: 3s - loss: 0.0093 - acc: 0.998 - ETA: 3s - loss: 0.0089 - acc: 0.998 - ETA: 2s - loss: 0.0086 - acc: 0.998 - ETA: 2s - loss: 0.0083 - acc: 0.998 - ETA: 2s - loss: 0.0080 - acc: 0.998 - ETA: 2s - loss: 0.0078 - acc: 0.998 - ETA: 2s - loss: 0.0075 - acc: 0.998 - ETA: 2s - loss: 0.0073 - acc: 0.999 - ETA: 2s - loss: 0.0071 - acc: 0.999 - ETA: 2s - loss: 0.0069 - acc: 0.999 - ETA: 2s - loss: 0.0067 - acc: 0.999 - ETA: 2s - loss: 0.0066 - acc: 0.999 - ETA: 1s - loss: 0.0064 - acc: 0.999 - ETA: 1s - loss: 0.0063 - acc: 0.999 - ETA: 1s - loss: 0.0061 - acc: 0.999 - ETA: 1s - loss: 0.0060 - acc: 0.999 - ETA: 1s - loss: 0.0058 - acc: 0.999 - ETA: 1s - loss: 0.0057 - acc: 0.999 - ETA: 1s - loss: 0.0056 - acc: 0.999 - ETA: 1s - loss: 0.0055 - acc: 0.999 - ETA: 1s - loss: 0.0054 - acc: 0.999 - ETA: 1s - loss: 0.0059 - acc: 0.998 - ETA: 1s - loss: 0.0057 - acc: 0.998 - ETA: 0s - loss: 0.0056 - acc: 0.998 - ETA: 0s - loss: 0.0055 - acc: 0.998 - ETA: 0s - loss: 0.0054 - acc: 0.998 - ETA: 0s - loss: 0.0053 - acc: 0.998 - ETA: 0s - loss: 0.0068 - acc: 0.998 - ETA: 0s - loss: 0.0067 - acc: 0.998 - ETA: 0s - loss: 0.0073 - acc: 0.997 - ETA: 0s - loss: 0.0072 - acc: 0.997 - ETA: 0s - loss: 0.0087 - acc: 0.996 - ETA: 0s - loss: 0.0086 - acc: 0.996 - ETA: 0s - loss: 0.0085 - acc: 0.996 - 6s 3ms/step - loss: 0.0084 - acc: 0.9967 - val_loss: 0.7058 - val_acc: 0.8455\n",
      "\n",
      "Epoch 00027: val_acc did not improve from 0.91170\n",
      "Epoch 28/100\n"
     ]
    },
    {
     "name": "stdout",
     "output_type": "stream",
     "text": [
      "1808/1808 [==============================] - ETA: 4s - loss: 0.0017 - acc: 1.000 - ETA: 4s - loss: 0.0064 - acc: 1.000 - ETA: 5s - loss: 0.0056 - acc: 1.000 - ETA: 4s - loss: 0.0296 - acc: 0.992 - ETA: 4s - loss: 0.0240 - acc: 0.993 - ETA: 4s - loss: 0.0215 - acc: 0.994 - ETA: 4s - loss: 0.0191 - acc: 0.995 - ETA: 4s - loss: 0.0167 - acc: 0.996 - ETA: 4s - loss: 0.0153 - acc: 0.996 - ETA: 4s - loss: 0.0142 - acc: 0.996 - ETA: 4s - loss: 0.0132 - acc: 0.997 - ETA: 4s - loss: 0.0123 - acc: 0.997 - ETA: 4s - loss: 0.0118 - acc: 0.997 - ETA: 3s - loss: 0.0111 - acc: 0.997 - ETA: 3s - loss: 0.0107 - acc: 0.997 - ETA: 3s - loss: 0.0102 - acc: 0.998 - ETA: 3s - loss: 0.0096 - acc: 0.998 - ETA: 3s - loss: 0.0147 - acc: 0.996 - ETA: 3s - loss: 0.0141 - acc: 0.996 - ETA: 3s - loss: 0.0135 - acc: 0.996 - ETA: 3s - loss: 0.0129 - acc: 0.997 - ETA: 3s - loss: 0.0125 - acc: 0.997 - ETA: 3s - loss: 0.0121 - acc: 0.997 - ETA: 3s - loss: 0.0117 - acc: 0.997 - ETA: 3s - loss: 0.0157 - acc: 0.996 - ETA: 2s - loss: 0.0152 - acc: 0.996 - ETA: 2s - loss: 0.0148 - acc: 0.996 - ETA: 2s - loss: 0.0145 - acc: 0.996 - ETA: 2s - loss: 0.0140 - acc: 0.996 - ETA: 2s - loss: 0.0135 - acc: 0.996 - ETA: 2s - loss: 0.0132 - acc: 0.997 - ETA: 2s - loss: 0.0128 - acc: 0.997 - ETA: 2s - loss: 0.0142 - acc: 0.996 - ETA: 2s - loss: 0.0139 - acc: 0.996 - ETA: 2s - loss: 0.0135 - acc: 0.996 - ETA: 1s - loss: 0.0132 - acc: 0.996 - ETA: 1s - loss: 0.0129 - acc: 0.996 - ETA: 1s - loss: 0.0126 - acc: 0.996 - ETA: 1s - loss: 0.0123 - acc: 0.996 - ETA: 1s - loss: 0.0120 - acc: 0.996 - ETA: 1s - loss: 0.0117 - acc: 0.997 - ETA: 1s - loss: 0.0115 - acc: 0.997 - ETA: 1s - loss: 0.0113 - acc: 0.997 - ETA: 1s - loss: 0.0110 - acc: 0.997 - ETA: 1s - loss: 0.0108 - acc: 0.997 - ETA: 1s - loss: 0.0106 - acc: 0.997 - ETA: 0s - loss: 0.0104 - acc: 0.997 - ETA: 0s - loss: 0.0102 - acc: 0.997 - ETA: 0s - loss: 0.0100 - acc: 0.997 - ETA: 0s - loss: 0.0098 - acc: 0.997 - ETA: 0s - loss: 0.0097 - acc: 0.997 - ETA: 0s - loss: 0.0095 - acc: 0.997 - ETA: 0s - loss: 0.0093 - acc: 0.997 - ETA: 0s - loss: 0.0091 - acc: 0.997 - ETA: 0s - loss: 0.0090 - acc: 0.997 - ETA: 0s - loss: 0.0088 - acc: 0.997 - 6s 3ms/step - loss: 0.0088 - acc: 0.9978 - val_loss: 0.8134 - val_acc: 0.7726\n",
      "\n",
      "Epoch 00028: val_acc did not improve from 0.91170\n",
      "Epoch 29/100\n",
      "1808/1808 [==============================] - ETA: 4s - loss: 7.0945e-04 - acc: 1.000 - ETA: 5s - loss: 0.0787 - acc: 0.9844    - ETA: 4s - loss: 0.0528 - acc: 0.989 - ETA: 5s - loss: 0.0398 - acc: 0.992 - ETA: 4s - loss: 0.0319 - acc: 0.993 - ETA: 4s - loss: 0.0266 - acc: 0.994 - ETA: 4s - loss: 0.0230 - acc: 0.995 - ETA: 4s - loss: 0.0202 - acc: 0.996 - ETA: 4s - loss: 0.0181 - acc: 0.996 - ETA: 4s - loss: 0.0163 - acc: 0.996 - ETA: 4s - loss: 0.0149 - acc: 0.997 - ETA: 4s - loss: 0.0137 - acc: 0.997 - ETA: 4s - loss: 0.0128 - acc: 0.997 - ETA: 3s - loss: 0.0119 - acc: 0.997 - ETA: 3s - loss: 0.0112 - acc: 0.997 - ETA: 3s - loss: 0.0106 - acc: 0.998 - ETA: 3s - loss: 0.0100 - acc: 0.998 - ETA: 3s - loss: 0.0095 - acc: 0.998 - ETA: 3s - loss: 0.0090 - acc: 0.998 - ETA: 3s - loss: 0.0087 - acc: 0.998 - ETA: 3s - loss: 0.0083 - acc: 0.998 - ETA: 3s - loss: 0.0083 - acc: 0.998 - ETA: 3s - loss: 0.0110 - acc: 0.997 - ETA: 2s - loss: 0.0106 - acc: 0.997 - ETA: 2s - loss: 0.0102 - acc: 0.997 - ETA: 2s - loss: 0.0098 - acc: 0.997 - ETA: 2s - loss: 0.0096 - acc: 0.997 - ETA: 2s - loss: 0.0093 - acc: 0.997 - ETA: 2s - loss: 0.0090 - acc: 0.997 - ETA: 2s - loss: 0.0088 - acc: 0.997 - ETA: 2s - loss: 0.0085 - acc: 0.998 - ETA: 2s - loss: 0.0083 - acc: 0.998 - ETA: 2s - loss: 0.0081 - acc: 0.998 - ETA: 2s - loss: 0.0079 - acc: 0.998 - ETA: 1s - loss: 0.0077 - acc: 0.998 - ETA: 1s - loss: 0.0076 - acc: 0.998 - ETA: 1s - loss: 0.0074 - acc: 0.998 - ETA: 1s - loss: 0.0072 - acc: 0.998 - ETA: 1s - loss: 0.0071 - acc: 0.998 - ETA: 1s - loss: 0.0069 - acc: 0.998 - ETA: 1s - loss: 0.0074 - acc: 0.997 - ETA: 1s - loss: 0.0073 - acc: 0.997 - ETA: 1s - loss: 0.0092 - acc: 0.997 - ETA: 1s - loss: 0.0090 - acc: 0.997 - ETA: 1s - loss: 0.0089 - acc: 0.997 - ETA: 0s - loss: 0.0087 - acc: 0.997 - ETA: 0s - loss: 0.0086 - acc: 0.997 - ETA: 0s - loss: 0.0084 - acc: 0.997 - ETA: 0s - loss: 0.0082 - acc: 0.997 - ETA: 0s - loss: 0.0081 - acc: 0.997 - ETA: 0s - loss: 0.0080 - acc: 0.997 - ETA: 0s - loss: 0.0081 - acc: 0.997 - ETA: 0s - loss: 0.0079 - acc: 0.997 - ETA: 0s - loss: 0.0083 - acc: 0.997 - ETA: 0s - loss: 0.0081 - acc: 0.997 - ETA: 0s - loss: 0.0080 - acc: 0.997 - 6s 3ms/step - loss: 0.0080 - acc: 0.9972 - val_loss: 0.7412 - val_acc: 0.8190\n",
      "\n",
      "Epoch 00029: val_acc did not improve from 0.91170\n",
      "Epoch 30/100\n",
      "1808/1808 [==============================] - ETA: 5s - loss: 0.0019 - acc: 1.000 - ETA: 5s - loss: 0.0012 - acc: 1.000 - ETA: 4s - loss: 0.0010 - acc: 1.000 - ETA: 4s - loss: 0.0011 - acc: 1.000 - ETA: 4s - loss: 0.0011 - acc: 1.000 - ETA: 4s - loss: 0.0010 - acc: 1.000 - ETA: 4s - loss: 8.9342e-04 - acc: 1.000 - ETA: 4s - loss: 8.1972e-04 - acc: 1.000 - ETA: 4s - loss: 7.8660e-04 - acc: 1.000 - ETA: 4s - loss: 0.0015 - acc: 1.0000    - ETA: 4s - loss: 0.0014 - acc: 1.000 - ETA: 4s - loss: 0.0035 - acc: 0.997 - ETA: 4s - loss: 0.0032 - acc: 0.997 - ETA: 4s - loss: 0.0030 - acc: 0.997 - ETA: 3s - loss: 0.0029 - acc: 0.997 - ETA: 3s - loss: 0.0027 - acc: 0.998 - ETA: 3s - loss: 0.0026 - acc: 0.998 - ETA: 3s - loss: 0.0025 - acc: 0.998 - ETA: 3s - loss: 0.0024 - acc: 0.998 - ETA: 3s - loss: 0.0044 - acc: 0.996 - ETA: 3s - loss: 0.0043 - acc: 0.997 - ETA: 3s - loss: 0.0041 - acc: 0.997 - ETA: 3s - loss: 0.0110 - acc: 0.995 - ETA: 3s - loss: 0.0105 - acc: 0.996 - ETA: 2s - loss: 0.0101 - acc: 0.996 - ETA: 2s - loss: 0.0098 - acc: 0.996 - ETA: 2s - loss: 0.0094 - acc: 0.996 - ETA: 2s - loss: 0.0091 - acc: 0.996 - ETA: 2s - loss: 0.0088 - acc: 0.996 - ETA: 2s - loss: 0.0085 - acc: 0.996 - ETA: 2s - loss: 0.0082 - acc: 0.997 - ETA: 2s - loss: 0.0080 - acc: 0.997 - ETA: 2s - loss: 0.0078 - acc: 0.997 - ETA: 2s - loss: 0.0075 - acc: 0.997 - ETA: 1s - loss: 0.0093 - acc: 0.996 - ETA: 1s - loss: 0.0090 - acc: 0.996 - ETA: 1s - loss: 0.0094 - acc: 0.995 - ETA: 1s - loss: 0.0092 - acc: 0.995 - ETA: 1s - loss: 0.0090 - acc: 0.996 - ETA: 1s - loss: 0.0088 - acc: 0.996 - ETA: 1s - loss: 0.0086 - acc: 0.996 - ETA: 1s - loss: 0.0096 - acc: 0.995 - ETA: 1s - loss: 0.0095 - acc: 0.995 - ETA: 1s - loss: 0.0093 - acc: 0.995 - ETA: 1s - loss: 0.0091 - acc: 0.995 - ETA: 0s - loss: 0.0089 - acc: 0.995 - ETA: 0s - loss: 0.0088 - acc: 0.996 - ETA: 0s - loss: 0.0087 - acc: 0.996 - ETA: 0s - loss: 0.0085 - acc: 0.996 - ETA: 0s - loss: 0.0084 - acc: 0.996 - ETA: 0s - loss: 0.0082 - acc: 0.996 - ETA: 0s - loss: 0.0081 - acc: 0.996 - ETA: 0s - loss: 0.0084 - acc: 0.995 - ETA: 0s - loss: 0.0083 - acc: 0.995 - ETA: 0s - loss: 0.0081 - acc: 0.996 - ETA: 0s - loss: 0.0080 - acc: 0.996 - 6s 3ms/step - loss: 0.0079 - acc: 0.9961 - val_loss: 0.6979 - val_acc: 0.8256\n",
      "\n",
      "Epoch 00030: val_acc did not improve from 0.91170\n",
      "Epoch 31/100\n"
     ]
    },
    {
     "name": "stdout",
     "output_type": "stream",
     "text": [
      "1808/1808 [==============================] - ETA: 5s - loss: 0.0017 - acc: 1.000 - ETA: 5s - loss: 8.9080e-04 - acc: 1.000 - ETA: 5s - loss: 7.6724e-04 - acc: 1.000 - ETA: 5s - loss: 0.0011 - acc: 1.0000    - ETA: 5s - loss: 9.4008e-04 - acc: 1.000 - ETA: 4s - loss: 8.7835e-04 - acc: 1.000 - ETA: 4s - loss: 0.0011 - acc: 1.0000    - ETA: 4s - loss: 0.0011 - acc: 1.000 - ETA: 4s - loss: 0.0011 - acc: 1.000 - ETA: 4s - loss: 0.0010 - acc: 1.000 - ETA: 4s - loss: 9.8874e-04 - acc: 1.000 - ETA: 4s - loss: 0.0017 - acc: 1.0000    - ETA: 4s - loss: 0.0016 - acc: 1.000 - ETA: 3s - loss: 0.0015 - acc: 1.000 - ETA: 3s - loss: 0.0014 - acc: 1.000 - ETA: 3s - loss: 0.0014 - acc: 1.000 - ETA: 3s - loss: 0.0013 - acc: 1.000 - ETA: 3s - loss: 0.0013 - acc: 1.000 - ETA: 3s - loss: 0.0026 - acc: 0.998 - ETA: 3s - loss: 0.0025 - acc: 0.998 - ETA: 3s - loss: 0.0024 - acc: 0.998 - ETA: 3s - loss: 0.0023 - acc: 0.998 - ETA: 3s - loss: 0.0023 - acc: 0.998 - ETA: 2s - loss: 0.0022 - acc: 0.998 - ETA: 2s - loss: 0.0021 - acc: 0.998 - ETA: 2s - loss: 0.0020 - acc: 0.998 - ETA: 2s - loss: 0.0020 - acc: 0.998 - ETA: 2s - loss: 0.0038 - acc: 0.997 - ETA: 2s - loss: 0.0037 - acc: 0.997 - ETA: 2s - loss: 0.0042 - acc: 0.997 - ETA: 2s - loss: 0.0041 - acc: 0.998 - ETA: 2s - loss: 0.0040 - acc: 0.998 - ETA: 2s - loss: 0.0079 - acc: 0.997 - ETA: 2s - loss: 0.0077 - acc: 0.997 - ETA: 1s - loss: 0.0075 - acc: 0.997 - ETA: 1s - loss: 0.0090 - acc: 0.996 - ETA: 1s - loss: 0.0088 - acc: 0.996 - ETA: 1s - loss: 0.0086 - acc: 0.996 - ETA: 1s - loss: 0.0084 - acc: 0.996 - ETA: 1s - loss: 0.0083 - acc: 0.996 - ETA: 1s - loss: 0.0081 - acc: 0.997 - ETA: 1s - loss: 0.0079 - acc: 0.997 - ETA: 1s - loss: 0.0078 - acc: 0.997 - ETA: 1s - loss: 0.0076 - acc: 0.997 - ETA: 1s - loss: 0.0075 - acc: 0.997 - ETA: 0s - loss: 0.0074 - acc: 0.997 - ETA: 0s - loss: 0.0090 - acc: 0.996 - ETA: 0s - loss: 0.0089 - acc: 0.996 - ETA: 0s - loss: 0.0088 - acc: 0.996 - ETA: 0s - loss: 0.0087 - acc: 0.996 - ETA: 0s - loss: 0.0085 - acc: 0.996 - ETA: 0s - loss: 0.0084 - acc: 0.997 - ETA: 0s - loss: 0.0083 - acc: 0.997 - ETA: 0s - loss: 0.0081 - acc: 0.997 - ETA: 0s - loss: 0.0083 - acc: 0.997 - ETA: 0s - loss: 0.0082 - acc: 0.997 - 5s 3ms/step - loss: 0.0081 - acc: 0.9972 - val_loss: 0.7151 - val_acc: 0.8146\n",
      "\n",
      "Epoch 00031: val_acc did not improve from 0.91170\n",
      "Epoch 32/100\n",
      "1808/1808 [==============================] - ETA: 4s - loss: 9.1780e-04 - acc: 1.000 - ETA: 4s - loss: 0.0011 - acc: 1.0000    - ETA: 4s - loss: 9.1188e-04 - acc: 1.000 - ETA: 4s - loss: 9.7028e-04 - acc: 1.000 - ETA: 4s - loss: 0.0010 - acc: 1.0000    - ETA: 4s - loss: 9.7767e-04 - acc: 1.000 - ETA: 4s - loss: 9.2000e-04 - acc: 1.000 - ETA: 4s - loss: 8.4711e-04 - acc: 1.000 - ETA: 4s - loss: 9.1559e-04 - acc: 1.000 - ETA: 4s - loss: 9.0380e-04 - acc: 1.000 - ETA: 4s - loss: 9.2695e-04 - acc: 1.000 - ETA: 4s - loss: 0.0027 - acc: 0.9974    - ETA: 4s - loss: 0.0026 - acc: 0.997 - ETA: 3s - loss: 0.0025 - acc: 0.997 - ETA: 3s - loss: 0.0045 - acc: 0.995 - ETA: 3s - loss: 0.0042 - acc: 0.996 - ETA: 3s - loss: 0.0040 - acc: 0.996 - ETA: 3s - loss: 0.0039 - acc: 0.996 - ETA: 3s - loss: 0.0114 - acc: 0.995 - ETA: 3s - loss: 0.0109 - acc: 0.995 - ETA: 3s - loss: 0.0104 - acc: 0.995 - ETA: 3s - loss: 0.0099 - acc: 0.995 - ETA: 3s - loss: 0.0095 - acc: 0.995 - ETA: 2s - loss: 0.0099 - acc: 0.996 - ETA: 2s - loss: 0.0095 - acc: 0.996 - ETA: 2s - loss: 0.0092 - acc: 0.996 - ETA: 2s - loss: 0.0089 - acc: 0.996 - ETA: 2s - loss: 0.0086 - acc: 0.996 - ETA: 2s - loss: 0.0083 - acc: 0.996 - ETA: 2s - loss: 0.0081 - acc: 0.996 - ETA: 2s - loss: 0.0078 - acc: 0.997 - ETA: 2s - loss: 0.0076 - acc: 0.997 - ETA: 2s - loss: 0.0074 - acc: 0.997 - ETA: 2s - loss: 0.0072 - acc: 0.997 - ETA: 1s - loss: 0.0070 - acc: 0.997 - ETA: 1s - loss: 0.0068 - acc: 0.997 - ETA: 1s - loss: 0.0066 - acc: 0.997 - ETA: 1s - loss: 0.0065 - acc: 0.997 - ETA: 1s - loss: 0.0063 - acc: 0.997 - ETA: 1s - loss: 0.0075 - acc: 0.996 - ETA: 1s - loss: 0.0073 - acc: 0.997 - ETA: 1s - loss: 0.0079 - acc: 0.996 - ETA: 1s - loss: 0.0077 - acc: 0.996 - ETA: 1s - loss: 0.0076 - acc: 0.996 - ETA: 1s - loss: 0.0074 - acc: 0.996 - ETA: 0s - loss: 0.0072 - acc: 0.996 - ETA: 0s - loss: 0.0071 - acc: 0.996 - ETA: 0s - loss: 0.0070 - acc: 0.996 - ETA: 0s - loss: 0.0075 - acc: 0.996 - ETA: 0s - loss: 0.0074 - acc: 0.996 - ETA: 0s - loss: 0.0073 - acc: 0.996 - ETA: 0s - loss: 0.0071 - acc: 0.996 - ETA: 0s - loss: 0.0070 - acc: 0.996 - ETA: 0s - loss: 0.0069 - acc: 0.996 - ETA: 0s - loss: 0.0079 - acc: 0.996 - ETA: 0s - loss: 0.0078 - acc: 0.996 - 6s 3ms/step - loss: 0.0077 - acc: 0.9961 - val_loss: 0.6997 - val_acc: 0.8631\n",
      "\n",
      "Epoch 00032: val_acc did not improve from 0.91170\n",
      "Epoch 33/100\n",
      "1808/1808 [==============================] - ETA: 5s - loss: 0.0033 - acc: 1.000 - ETA: 5s - loss: 0.0024 - acc: 1.000 - ETA: 5s - loss: 0.0024 - acc: 1.000 - ETA: 5s - loss: 0.0131 - acc: 0.992 - ETA: 5s - loss: 0.0105 - acc: 0.993 - ETA: 5s - loss: 0.0092 - acc: 0.994 - ETA: 5s - loss: 0.0079 - acc: 0.995 - ETA: 5s - loss: 0.0077 - acc: 0.996 - ETA: 4s - loss: 0.0070 - acc: 0.996 - ETA: 4s - loss: 0.0065 - acc: 0.996 - ETA: 4s - loss: 0.0059 - acc: 0.997 - ETA: 4s - loss: 0.0055 - acc: 0.997 - ETA: 4s - loss: 0.0050 - acc: 0.997 - ETA: 4s - loss: 0.0048 - acc: 0.997 - ETA: 4s - loss: 0.0045 - acc: 0.997 - ETA: 4s - loss: 0.0042 - acc: 0.998 - ETA: 3s - loss: 0.0040 - acc: 0.998 - ETA: 3s - loss: 0.0038 - acc: 0.998 - ETA: 3s - loss: 0.0036 - acc: 0.998 - ETA: 3s - loss: 0.0056 - acc: 0.996 - ETA: 3s - loss: 0.0053 - acc: 0.997 - ETA: 3s - loss: 0.0077 - acc: 0.995 - ETA: 3s - loss: 0.0074 - acc: 0.995 - ETA: 3s - loss: 0.0071 - acc: 0.996 - ETA: 3s - loss: 0.0069 - acc: 0.996 - ETA: 2s - loss: 0.0067 - acc: 0.996 - ETA: 2s - loss: 0.0064 - acc: 0.996 - ETA: 2s - loss: 0.0063 - acc: 0.996 - ETA: 2s - loss: 0.0061 - acc: 0.996 - ETA: 2s - loss: 0.0059 - acc: 0.996 - ETA: 2s - loss: 0.0057 - acc: 0.997 - ETA: 2s - loss: 0.0056 - acc: 0.997 - ETA: 2s - loss: 0.0054 - acc: 0.997 - ETA: 2s - loss: 0.0053 - acc: 0.997 - ETA: 2s - loss: 0.0052 - acc: 0.997 - ETA: 1s - loss: 0.0082 - acc: 0.996 - ETA: 1s - loss: 0.0080 - acc: 0.996 - ETA: 1s - loss: 0.0078 - acc: 0.996 - ETA: 1s - loss: 0.0077 - acc: 0.996 - ETA: 1s - loss: 0.0076 - acc: 0.996 - ETA: 1s - loss: 0.0074 - acc: 0.997 - ETA: 1s - loss: 0.0073 - acc: 0.997 - ETA: 1s - loss: 0.0073 - acc: 0.997 - ETA: 1s - loss: 0.0072 - acc: 0.997 - ETA: 1s - loss: 0.0070 - acc: 0.997 - ETA: 0s - loss: 0.0069 - acc: 0.997 - ETA: 0s - loss: 0.0068 - acc: 0.997 - ETA: 0s - loss: 0.0067 - acc: 0.997 - ETA: 0s - loss: 0.0086 - acc: 0.996 - ETA: 0s - loss: 0.0085 - acc: 0.996 - ETA: 0s - loss: 0.0084 - acc: 0.996 - ETA: 0s - loss: 0.0090 - acc: 0.996 - ETA: 0s - loss: 0.0088 - acc: 0.996 - ETA: 0s - loss: 0.0087 - acc: 0.996 - ETA: 0s - loss: 0.0085 - acc: 0.996 - ETA: 0s - loss: 0.0084 - acc: 0.996 - 6s 3ms/step - loss: 0.0083 - acc: 0.9967 - val_loss: 0.9165 - val_acc: 0.7439\n",
      "\n",
      "Epoch 00033: val_acc did not improve from 0.91170\n",
      "Epoch 34/100\n"
     ]
    },
    {
     "name": "stdout",
     "output_type": "stream",
     "text": [
      "1808/1808 [==============================] - ETA: 5s - loss: 3.8915e-04 - acc: 1.000 - ETA: 4s - loss: 4.3390e-04 - acc: 1.000 - ETA: 4s - loss: 4.0443e-04 - acc: 1.000 - ETA: 4s - loss: 4.7852e-04 - acc: 1.000 - ETA: 4s - loss: 4.3588e-04 - acc: 1.000 - ETA: 4s - loss: 4.1962e-04 - acc: 1.000 - ETA: 4s - loss: 4.9767e-04 - acc: 1.000 - ETA: 4s - loss: 4.7488e-04 - acc: 1.000 - ETA: 4s - loss: 4.8269e-04 - acc: 1.000 - ETA: 4s - loss: 0.0098 - acc: 0.9969    - ETA: 4s - loss: 0.0090 - acc: 0.997 - ETA: 3s - loss: 0.0082 - acc: 0.997 - ETA: 3s - loss: 0.0077 - acc: 0.997 - ETA: 3s - loss: 0.0073 - acc: 0.997 - ETA: 3s - loss: 0.0069 - acc: 0.997 - ETA: 3s - loss: 0.0065 - acc: 0.998 - ETA: 3s - loss: 0.0061 - acc: 0.998 - ETA: 3s - loss: 0.0058 - acc: 0.998 - ETA: 3s - loss: 0.0055 - acc: 0.998 - ETA: 3s - loss: 0.0052 - acc: 0.998 - ETA: 3s - loss: 0.0050 - acc: 0.998 - ETA: 3s - loss: 0.0048 - acc: 0.998 - ETA: 2s - loss: 0.0063 - acc: 0.997 - ETA: 2s - loss: 0.0061 - acc: 0.997 - ETA: 2s - loss: 0.0059 - acc: 0.997 - ETA: 2s - loss: 0.0057 - acc: 0.997 - ETA: 2s - loss: 0.0055 - acc: 0.997 - ETA: 2s - loss: 0.0053 - acc: 0.997 - ETA: 2s - loss: 0.0051 - acc: 0.997 - ETA: 2s - loss: 0.0050 - acc: 0.997 - ETA: 2s - loss: 0.0076 - acc: 0.997 - ETA: 2s - loss: 0.0074 - acc: 0.997 - ETA: 2s - loss: 0.0075 - acc: 0.997 - ETA: 2s - loss: 0.0073 - acc: 0.997 - ETA: 1s - loss: 0.0071 - acc: 0.997 - ETA: 1s - loss: 0.0069 - acc: 0.997 - ETA: 1s - loss: 0.0068 - acc: 0.997 - ETA: 1s - loss: 0.0066 - acc: 0.997 - ETA: 1s - loss: 0.0064 - acc: 0.997 - ETA: 1s - loss: 0.0063 - acc: 0.997 - ETA: 1s - loss: 0.0061 - acc: 0.997 - ETA: 1s - loss: 0.0060 - acc: 0.997 - ETA: 1s - loss: 0.0059 - acc: 0.997 - ETA: 1s - loss: 0.0057 - acc: 0.997 - ETA: 1s - loss: 0.0056 - acc: 0.997 - ETA: 0s - loss: 0.0055 - acc: 0.998 - ETA: 0s - loss: 0.0054 - acc: 0.998 - ETA: 0s - loss: 0.0085 - acc: 0.997 - ETA: 0s - loss: 0.0083 - acc: 0.997 - ETA: 0s - loss: 0.0081 - acc: 0.997 - ETA: 0s - loss: 0.0080 - acc: 0.997 - ETA: 0s - loss: 0.0091 - acc: 0.996 - ETA: 0s - loss: 0.0089 - acc: 0.996 - ETA: 0s - loss: 0.0088 - acc: 0.996 - ETA: 0s - loss: 0.0086 - acc: 0.996 - ETA: 0s - loss: 0.0085 - acc: 0.996 - 5s 3ms/step - loss: 0.0084 - acc: 0.9967 - val_loss: 0.7178 - val_acc: 0.8675\n",
      "\n",
      "Epoch 00034: val_acc did not improve from 0.91170\n",
      "Epoch 35/100\n",
      "1808/1808 [==============================] - ETA: 4s - loss: 0.0587 - acc: 0.968 - ETA: 4s - loss: 0.0306 - acc: 0.984 - ETA: 4s - loss: 0.0208 - acc: 0.989 - ETA: 4s - loss: 0.0156 - acc: 0.992 - ETA: 4s - loss: 0.0131 - acc: 0.993 - ETA: 4s - loss: 0.0109 - acc: 0.994 - ETA: 4s - loss: 0.0099 - acc: 0.995 - ETA: 4s - loss: 0.0167 - acc: 0.992 - ETA: 4s - loss: 0.0151 - acc: 0.993 - ETA: 4s - loss: 0.0136 - acc: 0.993 - ETA: 4s - loss: 0.0125 - acc: 0.994 - ETA: 4s - loss: 0.0116 - acc: 0.994 - ETA: 3s - loss: 0.0107 - acc: 0.995 - ETA: 3s - loss: 0.0107 - acc: 0.995 - ETA: 3s - loss: 0.0101 - acc: 0.995 - ETA: 3s - loss: 0.0109 - acc: 0.996 - ETA: 3s - loss: 0.0105 - acc: 0.996 - ETA: 3s - loss: 0.0099 - acc: 0.996 - ETA: 3s - loss: 0.0118 - acc: 0.995 - ETA: 3s - loss: 0.0112 - acc: 0.995 - ETA: 3s - loss: 0.0107 - acc: 0.995 - ETA: 3s - loss: 0.0103 - acc: 0.995 - ETA: 2s - loss: 0.0099 - acc: 0.995 - ETA: 2s - loss: 0.0096 - acc: 0.996 - ETA: 2s - loss: 0.0093 - acc: 0.996 - ETA: 2s - loss: 0.0090 - acc: 0.996 - ETA: 2s - loss: 0.0087 - acc: 0.996 - ETA: 2s - loss: 0.0085 - acc: 0.996 - ETA: 2s - loss: 0.0082 - acc: 0.996 - ETA: 2s - loss: 0.0080 - acc: 0.996 - ETA: 2s - loss: 0.0077 - acc: 0.997 - ETA: 2s - loss: 0.0075 - acc: 0.997 - ETA: 2s - loss: 0.0073 - acc: 0.997 - ETA: 2s - loss: 0.0071 - acc: 0.997 - ETA: 1s - loss: 0.0070 - acc: 0.997 - ETA: 1s - loss: 0.0068 - acc: 0.997 - ETA: 1s - loss: 0.0066 - acc: 0.997 - ETA: 1s - loss: 0.0101 - acc: 0.996 - ETA: 1s - loss: 0.0099 - acc: 0.996 - ETA: 1s - loss: 0.0097 - acc: 0.996 - ETA: 1s - loss: 0.0094 - acc: 0.997 - ETA: 1s - loss: 0.0092 - acc: 0.997 - ETA: 1s - loss: 0.0090 - acc: 0.997 - ETA: 1s - loss: 0.0089 - acc: 0.997 - ETA: 1s - loss: 0.0091 - acc: 0.997 - ETA: 0s - loss: 0.0090 - acc: 0.997 - ETA: 0s - loss: 0.0088 - acc: 0.997 - ETA: 0s - loss: 0.0086 - acc: 0.997 - ETA: 0s - loss: 0.0085 - acc: 0.997 - ETA: 0s - loss: 0.0090 - acc: 0.996 - ETA: 0s - loss: 0.0088 - acc: 0.996 - ETA: 0s - loss: 0.0087 - acc: 0.997 - ETA: 0s - loss: 0.0085 - acc: 0.997 - ETA: 0s - loss: 0.0084 - acc: 0.997 - ETA: 0s - loss: 0.0082 - acc: 0.997 - ETA: 0s - loss: 0.0082 - acc: 0.997 - 5s 3ms/step - loss: 0.0081 - acc: 0.9972 - val_loss: 0.6968 - val_acc: 0.8543\n",
      "\n",
      "Epoch 00035: val_acc did not improve from 0.91170\n",
      "Epoch 36/100\n",
      "1808/1808 [==============================] - ETA: 4s - loss: 8.0751e-05 - acc: 1.000 - ETA: 4s - loss: 0.0011 - acc: 1.0000    - ETA: 4s - loss: 0.0010 - acc: 1.000 - ETA: 4s - loss: 0.0017 - acc: 1.000 - ETA: 4s - loss: 0.0017 - acc: 1.000 - ETA: 4s - loss: 0.0014 - acc: 1.000 - ETA: 4s - loss: 0.0016 - acc: 1.000 - ETA: 4s - loss: 0.0061 - acc: 0.996 - ETA: 4s - loss: 0.0059 - acc: 0.996 - ETA: 4s - loss: 0.0054 - acc: 0.996 - ETA: 4s - loss: 0.0052 - acc: 0.997 - ETA: 4s - loss: 0.0049 - acc: 0.997 - ETA: 3s - loss: 0.0045 - acc: 0.997 - ETA: 3s - loss: 0.0043 - acc: 0.997 - ETA: 3s - loss: 0.0041 - acc: 0.997 - ETA: 3s - loss: 0.0039 - acc: 0.998 - ETA: 3s - loss: 0.0037 - acc: 0.998 - ETA: 3s - loss: 0.0035 - acc: 0.998 - ETA: 3s - loss: 0.0099 - acc: 0.996 - ETA: 3s - loss: 0.0094 - acc: 0.996 - ETA: 3s - loss: 0.0091 - acc: 0.997 - ETA: 3s - loss: 0.0088 - acc: 0.997 - ETA: 3s - loss: 0.0084 - acc: 0.997 - ETA: 2s - loss: 0.0081 - acc: 0.997 - ETA: 2s - loss: 0.0078 - acc: 0.997 - ETA: 2s - loss: 0.0076 - acc: 0.997 - ETA: 2s - loss: 0.0073 - acc: 0.997 - ETA: 2s - loss: 0.0071 - acc: 0.997 - ETA: 2s - loss: 0.0069 - acc: 0.997 - ETA: 2s - loss: 0.0068 - acc: 0.997 - ETA: 2s - loss: 0.0066 - acc: 0.998 - ETA: 2s - loss: 0.0064 - acc: 0.998 - ETA: 2s - loss: 0.0062 - acc: 0.998 - ETA: 1s - loss: 0.0061 - acc: 0.998 - ETA: 1s - loss: 0.0059 - acc: 0.998 - ETA: 1s - loss: 0.0083 - acc: 0.997 - ETA: 1s - loss: 0.0081 - acc: 0.997 - ETA: 1s - loss: 0.0079 - acc: 0.997 - ETA: 1s - loss: 0.0077 - acc: 0.997 - ETA: 1s - loss: 0.0075 - acc: 0.997 - ETA: 1s - loss: 0.0073 - acc: 0.997 - ETA: 1s - loss: 0.0072 - acc: 0.997 - ETA: 1s - loss: 0.0071 - acc: 0.997 - ETA: 1s - loss: 0.0083 - acc: 0.997 - ETA: 1s - loss: 0.0081 - acc: 0.997 - ETA: 0s - loss: 0.0080 - acc: 0.997 - ETA: 0s - loss: 0.0083 - acc: 0.996 - ETA: 0s - loss: 0.0082 - acc: 0.996 - ETA: 0s - loss: 0.0080 - acc: 0.996 - ETA: 0s - loss: 0.0079 - acc: 0.996 - ETA: 0s - loss: 0.0077 - acc: 0.996 - ETA: 0s - loss: 0.0082 - acc: 0.996 - ETA: 0s - loss: 0.0081 - acc: 0.996 - ETA: 0s - loss: 0.0080 - acc: 0.996 - ETA: 0s - loss: 0.0078 - acc: 0.996 - ETA: 0s - loss: 0.0077 - acc: 0.996 - 5s 3ms/step - loss: 0.0076 - acc: 0.9967 - val_loss: 0.6906 - val_acc: 0.8079\n",
      "\n",
      "Epoch 00036: val_acc did not improve from 0.91170\n",
      "Epoch 37/100\n"
     ]
    },
    {
     "name": "stdout",
     "output_type": "stream",
     "text": [
      "1808/1808 [==============================] - ETA: 4s - loss: 3.3579e-04 - acc: 1.000 - ETA: 4s - loss: 2.6651e-04 - acc: 1.000 - ETA: 4s - loss: 3.8951e-04 - acc: 1.000 - ETA: 4s - loss: 3.8783e-04 - acc: 1.000 - ETA: 4s - loss: 5.9262e-04 - acc: 1.000 - ETA: 4s - loss: 7.5451e-04 - acc: 1.000 - ETA: 4s - loss: 7.2669e-04 - acc: 1.000 - ETA: 4s - loss: 9.7162e-04 - acc: 1.000 - ETA: 3s - loss: 0.0010 - acc: 1.0000    - ETA: 3s - loss: 0.0011 - acc: 1.000 - ETA: 3s - loss: 0.0030 - acc: 1.000 - ETA: 3s - loss: 0.0029 - acc: 1.000 - ETA: 3s - loss: 0.0055 - acc: 0.997 - ETA: 3s - loss: 0.0051 - acc: 0.997 - ETA: 3s - loss: 0.0048 - acc: 0.997 - ETA: 3s - loss: 0.0046 - acc: 0.998 - ETA: 3s - loss: 0.0044 - acc: 0.998 - ETA: 3s - loss: 0.0042 - acc: 0.998 - ETA: 3s - loss: 0.0040 - acc: 0.998 - ETA: 3s - loss: 0.0102 - acc: 0.996 - ETA: 3s - loss: 0.0104 - acc: 0.997 - ETA: 3s - loss: 0.0100 - acc: 0.997 - ETA: 2s - loss: 0.0106 - acc: 0.995 - ETA: 2s - loss: 0.0102 - acc: 0.996 - ETA: 2s - loss: 0.0098 - acc: 0.996 - ETA: 2s - loss: 0.0094 - acc: 0.996 - ETA: 2s - loss: 0.0091 - acc: 0.996 - ETA: 2s - loss: 0.0088 - acc: 0.996 - ETA: 2s - loss: 0.0085 - acc: 0.996 - ETA: 2s - loss: 0.0083 - acc: 0.996 - ETA: 2s - loss: 0.0080 - acc: 0.997 - ETA: 2s - loss: 0.0078 - acc: 0.997 - ETA: 2s - loss: 0.0076 - acc: 0.997 - ETA: 1s - loss: 0.0083 - acc: 0.996 - ETA: 1s - loss: 0.0081 - acc: 0.996 - ETA: 1s - loss: 0.0096 - acc: 0.995 - ETA: 1s - loss: 0.0093 - acc: 0.995 - ETA: 1s - loss: 0.0091 - acc: 0.995 - ETA: 1s - loss: 0.0098 - acc: 0.995 - ETA: 1s - loss: 0.0096 - acc: 0.995 - ETA: 1s - loss: 0.0094 - acc: 0.995 - ETA: 1s - loss: 0.0092 - acc: 0.995 - ETA: 1s - loss: 0.0090 - acc: 0.995 - ETA: 1s - loss: 0.0088 - acc: 0.995 - ETA: 1s - loss: 0.0086 - acc: 0.995 - ETA: 0s - loss: 0.0085 - acc: 0.995 - ETA: 0s - loss: 0.0083 - acc: 0.996 - ETA: 0s - loss: 0.0081 - acc: 0.996 - ETA: 0s - loss: 0.0080 - acc: 0.996 - ETA: 0s - loss: 0.0079 - acc: 0.996 - ETA: 0s - loss: 0.0077 - acc: 0.996 - ETA: 0s - loss: 0.0076 - acc: 0.996 - ETA: 0s - loss: 0.0074 - acc: 0.996 - ETA: 0s - loss: 0.0073 - acc: 0.996 - ETA: 0s - loss: 0.0072 - acc: 0.996 - ETA: 0s - loss: 0.0071 - acc: 0.996 - 5s 3ms/step - loss: 0.0070 - acc: 0.9967 - val_loss: 0.6778 - val_acc: 0.8278\n",
      "\n",
      "Epoch 00037: val_acc did not improve from 0.91170\n",
      "Epoch 38/100\n",
      "1808/1808 [==============================] - ETA: 4s - loss: 3.9157e-05 - acc: 1.000 - ETA: 4s - loss: 3.1179e-04 - acc: 1.000 - ETA: 4s - loss: 3.8191e-04 - acc: 1.000 - ETA: 4s - loss: 3.2722e-04 - acc: 1.000 - ETA: 4s - loss: 3.2717e-04 - acc: 1.000 - ETA: 4s - loss: 6.0453e-04 - acc: 1.000 - ETA: 4s - loss: 0.0054 - acc: 0.9955    - ETA: 4s - loss: 0.0048 - acc: 0.996 - ETA: 4s - loss: 0.0043 - acc: 0.996 - ETA: 4s - loss: 0.0039 - acc: 0.996 - ETA: 4s - loss: 0.0037 - acc: 0.997 - ETA: 3s - loss: 0.0034 - acc: 0.997 - ETA: 3s - loss: 0.0032 - acc: 0.997 - ETA: 3s - loss: 0.0044 - acc: 0.997 - ETA: 3s - loss: 0.0042 - acc: 0.997 - ETA: 3s - loss: 0.0039 - acc: 0.998 - ETA: 3s - loss: 0.0038 - acc: 0.998 - ETA: 3s - loss: 0.0036 - acc: 0.998 - ETA: 3s - loss: 0.0035 - acc: 0.998 - ETA: 3s - loss: 0.0052 - acc: 0.996 - ETA: 3s - loss: 0.0050 - acc: 0.997 - ETA: 3s - loss: 0.0048 - acc: 0.997 - ETA: 3s - loss: 0.0046 - acc: 0.997 - ETA: 2s - loss: 0.0052 - acc: 0.997 - ETA: 2s - loss: 0.0050 - acc: 0.997 - ETA: 2s - loss: 0.0049 - acc: 0.997 - ETA: 2s - loss: 0.0047 - acc: 0.997 - ETA: 2s - loss: 0.0046 - acc: 0.997 - ETA: 2s - loss: 0.0093 - acc: 0.996 - ETA: 2s - loss: 0.0090 - acc: 0.996 - ETA: 2s - loss: 0.0087 - acc: 0.997 - ETA: 2s - loss: 0.0099 - acc: 0.996 - ETA: 2s - loss: 0.0096 - acc: 0.996 - ETA: 2s - loss: 0.0094 - acc: 0.996 - ETA: 1s - loss: 0.0092 - acc: 0.996 - ETA: 1s - loss: 0.0089 - acc: 0.996 - ETA: 1s - loss: 0.0087 - acc: 0.996 - ETA: 1s - loss: 0.0085 - acc: 0.996 - ETA: 1s - loss: 0.0083 - acc: 0.996 - ETA: 1s - loss: 0.0081 - acc: 0.996 - ETA: 1s - loss: 0.0079 - acc: 0.997 - ETA: 1s - loss: 0.0080 - acc: 0.997 - ETA: 1s - loss: 0.0079 - acc: 0.997 - ETA: 1s - loss: 0.0077 - acc: 0.997 - ETA: 1s - loss: 0.0076 - acc: 0.997 - ETA: 0s - loss: 0.0081 - acc: 0.996 - ETA: 0s - loss: 0.0080 - acc: 0.996 - ETA: 0s - loss: 0.0079 - acc: 0.996 - ETA: 0s - loss: 0.0077 - acc: 0.996 - ETA: 0s - loss: 0.0076 - acc: 0.996 - ETA: 0s - loss: 0.0075 - acc: 0.996 - ETA: 0s - loss: 0.0073 - acc: 0.997 - ETA: 0s - loss: 0.0072 - acc: 0.997 - ETA: 0s - loss: 0.0071 - acc: 0.997 - ETA: 0s - loss: 0.0070 - acc: 0.997 - ETA: 0s - loss: 0.0069 - acc: 0.997 - 6s 3ms/step - loss: 0.0068 - acc: 0.9972 - val_loss: 0.7158 - val_acc: 0.8742\n",
      "\n",
      "Epoch 00038: val_acc did not improve from 0.91170\n",
      "Epoch 39/100\n",
      "1808/1808 [==============================] - ETA: 4s - loss: 5.1034e-04 - acc: 1.000 - ETA: 4s - loss: 0.0040 - acc: 1.0000    - ETA: 4s - loss: 0.0032 - acc: 1.000 - ETA: 4s - loss: 0.0024 - acc: 1.000 - ETA: 4s - loss: 0.0021 - acc: 1.000 - ETA: 4s - loss: 0.0023 - acc: 1.000 - ETA: 4s - loss: 0.0025 - acc: 1.000 - ETA: 4s - loss: 0.0025 - acc: 1.000 - ETA: 4s - loss: 0.0024 - acc: 1.000 - ETA: 4s - loss: 0.0025 - acc: 1.000 - ETA: 4s - loss: 0.0024 - acc: 1.000 - ETA: 4s - loss: 0.0023 - acc: 1.000 - ETA: 4s - loss: 0.0022 - acc: 1.000 - ETA: 3s - loss: 0.0125 - acc: 0.995 - ETA: 3s - loss: 0.0117 - acc: 0.995 - ETA: 3s - loss: 0.0110 - acc: 0.996 - ETA: 3s - loss: 0.0104 - acc: 0.996 - ETA: 3s - loss: 0.0159 - acc: 0.994 - ETA: 3s - loss: 0.0152 - acc: 0.995 - ETA: 3s - loss: 0.0145 - acc: 0.995 - ETA: 3s - loss: 0.0157 - acc: 0.994 - ETA: 3s - loss: 0.0150 - acc: 0.994 - ETA: 3s - loss: 0.0158 - acc: 0.994 - ETA: 3s - loss: 0.0152 - acc: 0.994 - ETA: 2s - loss: 0.0147 - acc: 0.995 - ETA: 2s - loss: 0.0141 - acc: 0.995 - ETA: 2s - loss: 0.0136 - acc: 0.995 - ETA: 2s - loss: 0.0132 - acc: 0.995 - ETA: 2s - loss: 0.0128 - acc: 0.995 - ETA: 2s - loss: 0.0124 - acc: 0.995 - ETA: 2s - loss: 0.0120 - acc: 0.996 - ETA: 2s - loss: 0.0116 - acc: 0.996 - ETA: 2s - loss: 0.0113 - acc: 0.996 - ETA: 2s - loss: 0.0110 - acc: 0.996 - ETA: 1s - loss: 0.0107 - acc: 0.996 - ETA: 1s - loss: 0.0104 - acc: 0.996 - ETA: 1s - loss: 0.0102 - acc: 0.996 - ETA: 1s - loss: 0.0099 - acc: 0.996 - ETA: 1s - loss: 0.0097 - acc: 0.996 - ETA: 1s - loss: 0.0095 - acc: 0.996 - ETA: 1s - loss: 0.0092 - acc: 0.997 - ETA: 1s - loss: 0.0091 - acc: 0.997 - ETA: 1s - loss: 0.0088 - acc: 0.997 - ETA: 1s - loss: 0.0087 - acc: 0.997 - ETA: 1s - loss: 0.0089 - acc: 0.997 - ETA: 0s - loss: 0.0087 - acc: 0.997 - ETA: 0s - loss: 0.0085 - acc: 0.997 - ETA: 0s - loss: 0.0084 - acc: 0.997 - ETA: 0s - loss: 0.0082 - acc: 0.997 - ETA: 0s - loss: 0.0081 - acc: 0.997 - ETA: 0s - loss: 0.0080 - acc: 0.997 - ETA: 0s - loss: 0.0078 - acc: 0.997 - ETA: 0s - loss: 0.0077 - acc: 0.997 - ETA: 0s - loss: 0.0075 - acc: 0.997 - ETA: 0s - loss: 0.0074 - acc: 0.997 - ETA: 0s - loss: 0.0073 - acc: 0.997 - 6s 3ms/step - loss: 0.0073 - acc: 0.9978 - val_loss: 0.7367 - val_acc: 0.8124\n",
      "\n",
      "Epoch 00039: val_acc did not improve from 0.91170\n",
      "Epoch 40/100\n"
     ]
    },
    {
     "name": "stdout",
     "output_type": "stream",
     "text": [
      "1808/1808 [==============================] - ETA: 5s - loss: 0.0013 - acc: 1.000 - ETA: 4s - loss: 6.7251e-04 - acc: 1.000 - ETA: 4s - loss: 4.6919e-04 - acc: 1.000 - ETA: 4s - loss: 9.0848e-04 - acc: 1.000 - ETA: 4s - loss: 8.0339e-04 - acc: 1.000 - ETA: 4s - loss: 0.0096 - acc: 0.9948    - ETA: 4s - loss: 0.0083 - acc: 0.995 - ETA: 4s - loss: 0.0074 - acc: 0.996 - ETA: 4s - loss: 0.0066 - acc: 0.996 - ETA: 4s - loss: 0.0059 - acc: 0.996 - ETA: 4s - loss: 0.0055 - acc: 0.997 - ETA: 4s - loss: 0.0050 - acc: 0.997 - ETA: 3s - loss: 0.0046 - acc: 0.997 - ETA: 3s - loss: 0.0044 - acc: 0.997 - ETA: 3s - loss: 0.0041 - acc: 0.997 - ETA: 3s - loss: 0.0039 - acc: 0.998 - ETA: 3s - loss: 0.0037 - acc: 0.998 - ETA: 3s - loss: 0.0035 - acc: 0.998 - ETA: 3s - loss: 0.0033 - acc: 0.998 - ETA: 3s - loss: 0.0032 - acc: 0.998 - ETA: 3s - loss: 0.0041 - acc: 0.997 - ETA: 3s - loss: 0.0039 - acc: 0.997 - ETA: 3s - loss: 0.0038 - acc: 0.997 - ETA: 2s - loss: 0.0037 - acc: 0.997 - ETA: 2s - loss: 0.0035 - acc: 0.997 - ETA: 2s - loss: 0.0034 - acc: 0.997 - ETA: 2s - loss: 0.0033 - acc: 0.997 - ETA: 2s - loss: 0.0032 - acc: 0.997 - ETA: 2s - loss: 0.0031 - acc: 0.997 - ETA: 2s - loss: 0.0070 - acc: 0.996 - ETA: 2s - loss: 0.0068 - acc: 0.997 - ETA: 2s - loss: 0.0066 - acc: 0.997 - ETA: 2s - loss: 0.0064 - acc: 0.997 - ETA: 2s - loss: 0.0063 - acc: 0.997 - ETA: 1s - loss: 0.0061 - acc: 0.997 - ETA: 1s - loss: 0.0059 - acc: 0.997 - ETA: 1s - loss: 0.0058 - acc: 0.997 - ETA: 1s - loss: 0.0056 - acc: 0.997 - ETA: 1s - loss: 0.0055 - acc: 0.997 - ETA: 1s - loss: 0.0054 - acc: 0.997 - ETA: 1s - loss: 0.0053 - acc: 0.997 - ETA: 1s - loss: 0.0052 - acc: 0.997 - ETA: 1s - loss: 0.0058 - acc: 0.997 - ETA: 1s - loss: 0.0057 - acc: 0.997 - ETA: 1s - loss: 0.0056 - acc: 0.997 - ETA: 0s - loss: 0.0055 - acc: 0.997 - ETA: 0s - loss: 0.0054 - acc: 0.997 - ETA: 0s - loss: 0.0061 - acc: 0.996 - ETA: 0s - loss: 0.0060 - acc: 0.996 - ETA: 0s - loss: 0.0060 - acc: 0.996 - ETA: 0s - loss: 0.0059 - acc: 0.996 - ETA: 0s - loss: 0.0057 - acc: 0.997 - ETA: 0s - loss: 0.0057 - acc: 0.997 - ETA: 0s - loss: 0.0065 - acc: 0.996 - ETA: 0s - loss: 0.0065 - acc: 0.996 - ETA: 0s - loss: 0.0063 - acc: 0.996 - 5s 3ms/step - loss: 0.0063 - acc: 0.9967 - val_loss: 0.7088 - val_acc: 0.8411\n",
      "\n",
      "Epoch 00040: val_acc did not improve from 0.91170\n",
      "Epoch 41/100\n",
      "1808/1808 [==============================] - ETA: 4s - loss: 0.0014 - acc: 1.000 - ETA: 4s - loss: 0.0010 - acc: 1.000 - ETA: 4s - loss: 7.1356e-04 - acc: 1.000 - ETA: 4s - loss: 5.5479e-04 - acc: 1.000 - ETA: 4s - loss: 4.6867e-04 - acc: 1.000 - ETA: 4s - loss: 4.9716e-04 - acc: 1.000 - ETA: 4s - loss: 0.0151 - acc: 0.9955    - ETA: 4s - loss: 0.0168 - acc: 0.992 - ETA: 4s - loss: 0.0150 - acc: 0.993 - ETA: 4s - loss: 0.0141 - acc: 0.993 - ETA: 4s - loss: 0.0129 - acc: 0.994 - ETA: 4s - loss: 0.0119 - acc: 0.994 - ETA: 4s - loss: 0.0111 - acc: 0.995 - ETA: 4s - loss: 0.0104 - acc: 0.995 - ETA: 4s - loss: 0.0142 - acc: 0.993 - ETA: 3s - loss: 0.0134 - acc: 0.994 - ETA: 3s - loss: 0.0127 - acc: 0.994 - ETA: 3s - loss: 0.0120 - acc: 0.994 - ETA: 3s - loss: 0.0116 - acc: 0.995 - ETA: 3s - loss: 0.0110 - acc: 0.995 - ETA: 3s - loss: 0.0106 - acc: 0.995 - ETA: 3s - loss: 0.0102 - acc: 0.995 - ETA: 3s - loss: 0.0098 - acc: 0.995 - ETA: 3s - loss: 0.0095 - acc: 0.996 - ETA: 3s - loss: 0.0091 - acc: 0.996 - ETA: 2s - loss: 0.0094 - acc: 0.996 - ETA: 2s - loss: 0.0091 - acc: 0.996 - ETA: 2s - loss: 0.0100 - acc: 0.995 - ETA: 2s - loss: 0.0096 - acc: 0.995 - ETA: 2s - loss: 0.0093 - acc: 0.995 - ETA: 2s - loss: 0.0091 - acc: 0.996 - ETA: 2s - loss: 0.0088 - acc: 0.996 - ETA: 2s - loss: 0.0086 - acc: 0.996 - ETA: 2s - loss: 0.0083 - acc: 0.996 - ETA: 2s - loss: 0.0082 - acc: 0.996 - ETA: 1s - loss: 0.0079 - acc: 0.996 - ETA: 1s - loss: 0.0078 - acc: 0.996 - ETA: 1s - loss: 0.0076 - acc: 0.996 - ETA: 1s - loss: 0.0081 - acc: 0.996 - ETA: 1s - loss: 0.0079 - acc: 0.996 - ETA: 1s - loss: 0.0077 - acc: 0.996 - ETA: 1s - loss: 0.0075 - acc: 0.996 - ETA: 1s - loss: 0.0073 - acc: 0.996 - ETA: 1s - loss: 0.0072 - acc: 0.996 - ETA: 1s - loss: 0.0075 - acc: 0.995 - ETA: 0s - loss: 0.0074 - acc: 0.995 - ETA: 0s - loss: 0.0072 - acc: 0.996 - ETA: 0s - loss: 0.0071 - acc: 0.996 - ETA: 0s - loss: 0.0069 - acc: 0.996 - ETA: 0s - loss: 0.0068 - acc: 0.996 - ETA: 0s - loss: 0.0067 - acc: 0.996 - ETA: 0s - loss: 0.0066 - acc: 0.996 - ETA: 0s - loss: 0.0065 - acc: 0.996 - ETA: 0s - loss: 0.0064 - acc: 0.996 - ETA: 0s - loss: 0.0063 - acc: 0.996 - ETA: 0s - loss: 0.0062 - acc: 0.996 - 6s 3ms/step - loss: 0.0061 - acc: 0.9967 - val_loss: 0.8343 - val_acc: 0.7859\n",
      "\n",
      "Epoch 00041: val_acc did not improve from 0.91170\n",
      "Epoch 42/100\n",
      "1808/1808 [==============================] - ETA: 4s - loss: 3.1192e-04 - acc: 1.000 - ETA: 4s - loss: 2.1383e-04 - acc: 1.000 - ETA: 4s - loss: 3.2396e-04 - acc: 1.000 - ETA: 4s - loss: 2.6956e-04 - acc: 1.000 - ETA: 4s - loss: 3.7836e-04 - acc: 1.000 - ETA: 4s - loss: 3.5227e-04 - acc: 1.000 - ETA: 4s - loss: 3.5598e-04 - acc: 1.000 - ETA: 4s - loss: 3.3073e-04 - acc: 1.000 - ETA: 4s - loss: 2.9958e-04 - acc: 1.000 - ETA: 4s - loss: 3.4116e-04 - acc: 1.000 - ETA: 4s - loss: 0.0048 - acc: 0.9972    - ETA: 4s - loss: 0.0044 - acc: 0.997 - ETA: 4s - loss: 0.0041 - acc: 0.997 - ETA: 3s - loss: 0.0038 - acc: 0.997 - ETA: 3s - loss: 0.0047 - acc: 0.997 - ETA: 3s - loss: 0.0045 - acc: 0.998 - ETA: 3s - loss: 0.0048 - acc: 0.998 - ETA: 3s - loss: 0.0046 - acc: 0.998 - ETA: 3s - loss: 0.0044 - acc: 0.998 - ETA: 3s - loss: 0.0042 - acc: 0.998 - ETA: 3s - loss: 0.0040 - acc: 0.998 - ETA: 3s - loss: 0.0052 - acc: 0.997 - ETA: 3s - loss: 0.0050 - acc: 0.997 - ETA: 2s - loss: 0.0048 - acc: 0.997 - ETA: 2s - loss: 0.0046 - acc: 0.997 - ETA: 2s - loss: 0.0045 - acc: 0.997 - ETA: 2s - loss: 0.0047 - acc: 0.997 - ETA: 2s - loss: 0.0045 - acc: 0.997 - ETA: 2s - loss: 0.0044 - acc: 0.997 - ETA: 2s - loss: 0.0042 - acc: 0.997 - ETA: 2s - loss: 0.0042 - acc: 0.998 - ETA: 2s - loss: 0.0041 - acc: 0.998 - ETA: 2s - loss: 0.0072 - acc: 0.997 - ETA: 2s - loss: 0.0070 - acc: 0.997 - ETA: 1s - loss: 0.0080 - acc: 0.996 - ETA: 1s - loss: 0.0078 - acc: 0.996 - ETA: 1s - loss: 0.0076 - acc: 0.996 - ETA: 1s - loss: 0.0074 - acc: 0.996 - ETA: 1s - loss: 0.0072 - acc: 0.996 - ETA: 1s - loss: 0.0071 - acc: 0.996 - ETA: 1s - loss: 0.0069 - acc: 0.997 - ETA: 1s - loss: 0.0067 - acc: 0.997 - ETA: 1s - loss: 0.0066 - acc: 0.997 - ETA: 1s - loss: 0.0064 - acc: 0.997 - ETA: 1s - loss: 0.0063 - acc: 0.997 - ETA: 0s - loss: 0.0062 - acc: 0.997 - ETA: 0s - loss: 0.0061 - acc: 0.997 - ETA: 0s - loss: 0.0059 - acc: 0.997 - ETA: 0s - loss: 0.0058 - acc: 0.997 - ETA: 0s - loss: 0.0057 - acc: 0.997 - ETA: 0s - loss: 0.0056 - acc: 0.997 - ETA: 0s - loss: 0.0070 - acc: 0.997 - ETA: 0s - loss: 0.0069 - acc: 0.997 - ETA: 0s - loss: 0.0068 - acc: 0.997 - ETA: 0s - loss: 0.0066 - acc: 0.997 - ETA: 0s - loss: 0.0065 - acc: 0.997 - 6s 3ms/step - loss: 0.0065 - acc: 0.9972 - val_loss: 0.7410 - val_acc: 0.8300\n",
      "\n",
      "Epoch 00042: val_acc did not improve from 0.91170\n",
      "Epoch 43/100\n"
     ]
    },
    {
     "name": "stdout",
     "output_type": "stream",
     "text": [
      "1808/1808 [==============================] - ETA: 5s - loss: 0.0016 - acc: 1.000 - ETA: 4s - loss: 8.5063e-04 - acc: 1.000 - ETA: 4s - loss: 7.8607e-04 - acc: 1.000 - ETA: 4s - loss: 6.6731e-04 - acc: 1.000 - ETA: 4s - loss: 0.0011 - acc: 1.0000    - ETA: 4s - loss: 9.3527e-04 - acc: 1.000 - ETA: 4s - loss: 8.5009e-04 - acc: 1.000 - ETA: 4s - loss: 7.4721e-04 - acc: 1.000 - ETA: 4s - loss: 7.1591e-04 - acc: 1.000 - ETA: 4s - loss: 0.0118 - acc: 0.9969    - ETA: 4s - loss: 0.0108 - acc: 0.997 - ETA: 3s - loss: 0.0099 - acc: 0.997 - ETA: 3s - loss: 0.0091 - acc: 0.997 - ETA: 3s - loss: 0.0100 - acc: 0.997 - ETA: 3s - loss: 0.0094 - acc: 0.997 - ETA: 3s - loss: 0.0089 - acc: 0.998 - ETA: 3s - loss: 0.0084 - acc: 0.998 - ETA: 3s - loss: 0.0079 - acc: 0.998 - ETA: 3s - loss: 0.0076 - acc: 0.998 - ETA: 3s - loss: 0.0072 - acc: 0.998 - ETA: 3s - loss: 0.0069 - acc: 0.998 - ETA: 3s - loss: 0.0066 - acc: 0.998 - ETA: 3s - loss: 0.0064 - acc: 0.998 - ETA: 3s - loss: 0.0062 - acc: 0.998 - ETA: 3s - loss: 0.0059 - acc: 0.998 - ETA: 3s - loss: 0.0062 - acc: 0.998 - ETA: 2s - loss: 0.0060 - acc: 0.998 - ETA: 2s - loss: 0.0058 - acc: 0.998 - ETA: 2s - loss: 0.0056 - acc: 0.998 - ETA: 2s - loss: 0.0054 - acc: 0.999 - ETA: 2s - loss: 0.0075 - acc: 0.998 - ETA: 2s - loss: 0.0073 - acc: 0.998 - ETA: 2s - loss: 0.0085 - acc: 0.997 - ETA: 2s - loss: 0.0082 - acc: 0.997 - ETA: 2s - loss: 0.0081 - acc: 0.997 - ETA: 2s - loss: 0.0079 - acc: 0.997 - ETA: 1s - loss: 0.0077 - acc: 0.997 - ETA: 1s - loss: 0.0075 - acc: 0.997 - ETA: 1s - loss: 0.0073 - acc: 0.997 - ETA: 1s - loss: 0.0072 - acc: 0.997 - ETA: 1s - loss: 0.0070 - acc: 0.997 - ETA: 1s - loss: 0.0069 - acc: 0.997 - ETA: 1s - loss: 0.0068 - acc: 0.997 - ETA: 1s - loss: 0.0066 - acc: 0.997 - ETA: 1s - loss: 0.0065 - acc: 0.997 - ETA: 0s - loss: 0.0064 - acc: 0.998 - ETA: 0s - loss: 0.0062 - acc: 0.998 - ETA: 0s - loss: 0.0062 - acc: 0.998 - ETA: 0s - loss: 0.0061 - acc: 0.998 - ETA: 0s - loss: 0.0060 - acc: 0.998 - ETA: 0s - loss: 0.0059 - acc: 0.998 - ETA: 0s - loss: 0.0058 - acc: 0.998 - ETA: 0s - loss: 0.0057 - acc: 0.998 - ETA: 0s - loss: 0.0056 - acc: 0.998 - ETA: 0s - loss: 0.0064 - acc: 0.997 - ETA: 0s - loss: 0.0063 - acc: 0.997 - 6s 3ms/step - loss: 0.0063 - acc: 0.9978 - val_loss: 0.6933 - val_acc: 0.8499\n",
      "\n",
      "Epoch 00043: val_acc did not improve from 0.91170\n",
      "Epoch 44/100\n",
      "1808/1808 [==============================] - ETA: 4s - loss: 1.7185e-04 - acc: 1.000 - ETA: 4s - loss: 0.0072 - acc: 1.0000    - ETA: 4s - loss: 0.0050 - acc: 1.000 - ETA: 4s - loss: 0.0038 - acc: 1.000 - ETA: 3s - loss: 0.0031 - acc: 1.000 - ETA: 3s - loss: 0.0026 - acc: 1.000 - ETA: 3s - loss: 0.0022 - acc: 1.000 - ETA: 3s - loss: 0.0062 - acc: 1.000 - ETA: 3s - loss: 0.0056 - acc: 1.000 - ETA: 3s - loss: 0.0055 - acc: 1.000 - ETA: 3s - loss: 0.0050 - acc: 1.000 - ETA: 3s - loss: 0.0046 - acc: 1.000 - ETA: 3s - loss: 0.0044 - acc: 1.000 - ETA: 3s - loss: 0.0041 - acc: 1.000 - ETA: 3s - loss: 0.0038 - acc: 1.000 - ETA: 3s - loss: 0.0037 - acc: 1.000 - ETA: 3s - loss: 0.0035 - acc: 1.000 - ETA: 3s - loss: 0.0033 - acc: 1.000 - ETA: 2s - loss: 0.0032 - acc: 1.000 - ETA: 2s - loss: 0.0030 - acc: 1.000 - ETA: 2s - loss: 0.0030 - acc: 1.000 - ETA: 2s - loss: 0.0029 - acc: 1.000 - ETA: 2s - loss: 0.0029 - acc: 1.000 - ETA: 2s - loss: 0.0028 - acc: 1.000 - ETA: 2s - loss: 0.0027 - acc: 1.000 - ETA: 2s - loss: 0.0054 - acc: 0.998 - ETA: 2s - loss: 0.0052 - acc: 0.998 - ETA: 2s - loss: 0.0064 - acc: 0.997 - ETA: 2s - loss: 0.0061 - acc: 0.997 - ETA: 2s - loss: 0.0060 - acc: 0.997 - ETA: 2s - loss: 0.0058 - acc: 0.998 - ETA: 1s - loss: 0.0057 - acc: 0.998 - ETA: 1s - loss: 0.0055 - acc: 0.998 - ETA: 1s - loss: 0.0054 - acc: 0.998 - ETA: 1s - loss: 0.0066 - acc: 0.997 - ETA: 1s - loss: 0.0064 - acc: 0.997 - ETA: 1s - loss: 0.0062 - acc: 0.997 - ETA: 1s - loss: 0.0061 - acc: 0.997 - ETA: 1s - loss: 0.0059 - acc: 0.997 - ETA: 1s - loss: 0.0058 - acc: 0.997 - ETA: 1s - loss: 0.0057 - acc: 0.997 - ETA: 1s - loss: 0.0056 - acc: 0.997 - ETA: 1s - loss: 0.0054 - acc: 0.997 - ETA: 1s - loss: 0.0053 - acc: 0.997 - ETA: 0s - loss: 0.0052 - acc: 0.997 - ETA: 0s - loss: 0.0075 - acc: 0.997 - ETA: 0s - loss: 0.0073 - acc: 0.997 - ETA: 0s - loss: 0.0072 - acc: 0.997 - ETA: 0s - loss: 0.0071 - acc: 0.997 - ETA: 0s - loss: 0.0069 - acc: 0.997 - ETA: 0s - loss: 0.0068 - acc: 0.997 - ETA: 0s - loss: 0.0067 - acc: 0.997 - ETA: 0s - loss: 0.0065 - acc: 0.997 - ETA: 0s - loss: 0.0064 - acc: 0.997 - ETA: 0s - loss: 0.0063 - acc: 0.997 - ETA: 0s - loss: 0.0062 - acc: 0.997 - 5s 3ms/step - loss: 0.0062 - acc: 0.9978 - val_loss: 0.7406 - val_acc: 0.7991\n",
      "\n",
      "Epoch 00044: val_acc did not improve from 0.91170\n",
      "Epoch 45/100\n",
      "1808/1808 [==============================] - ETA: 4s - loss: 1.6610e-04 - acc: 1.000 - ETA: 4s - loss: 3.4744e-04 - acc: 1.000 - ETA: 4s - loss: 3.0456e-04 - acc: 1.000 - ETA: 4s - loss: 0.0090 - acc: 0.9922    - ETA: 4s - loss: 0.0072 - acc: 0.993 - ETA: 4s - loss: 0.0061 - acc: 0.994 - ETA: 4s - loss: 0.0053 - acc: 0.995 - ETA: 4s - loss: 0.0048 - acc: 0.996 - ETA: 3s - loss: 0.0043 - acc: 0.996 - ETA: 3s - loss: 0.0039 - acc: 0.996 - ETA: 3s - loss: 0.0036 - acc: 0.997 - ETA: 3s - loss: 0.0033 - acc: 0.997 - ETA: 3s - loss: 0.0030 - acc: 0.997 - ETA: 3s - loss: 0.0029 - acc: 0.997 - ETA: 3s - loss: 0.0046 - acc: 0.995 - ETA: 3s - loss: 0.0043 - acc: 0.996 - ETA: 3s - loss: 0.0041 - acc: 0.996 - ETA: 3s - loss: 0.0039 - acc: 0.996 - ETA: 3s - loss: 0.0038 - acc: 0.996 - ETA: 2s - loss: 0.0046 - acc: 0.996 - ETA: 2s - loss: 0.0044 - acc: 0.997 - ETA: 2s - loss: 0.0042 - acc: 0.997 - ETA: 2s - loss: 0.0040 - acc: 0.997 - ETA: 2s - loss: 0.0039 - acc: 0.997 - ETA: 2s - loss: 0.0037 - acc: 0.997 - ETA: 2s - loss: 0.0037 - acc: 0.997 - ETA: 2s - loss: 0.0036 - acc: 0.997 - ETA: 2s - loss: 0.0035 - acc: 0.997 - ETA: 2s - loss: 0.0034 - acc: 0.997 - ETA: 2s - loss: 0.0032 - acc: 0.997 - ETA: 2s - loss: 0.0032 - acc: 0.998 - ETA: 1s - loss: 0.0032 - acc: 0.998 - ETA: 1s - loss: 0.0031 - acc: 0.998 - ETA: 1s - loss: 0.0030 - acc: 0.998 - ETA: 1s - loss: 0.0029 - acc: 0.998 - ETA: 1s - loss: 0.0029 - acc: 0.998 - ETA: 1s - loss: 0.0028 - acc: 0.998 - ETA: 1s - loss: 0.0027 - acc: 0.998 - ETA: 1s - loss: 0.0027 - acc: 0.998 - ETA: 1s - loss: 0.0026 - acc: 0.998 - ETA: 1s - loss: 0.0035 - acc: 0.997 - ETA: 1s - loss: 0.0034 - acc: 0.997 - ETA: 1s - loss: 0.0033 - acc: 0.997 - ETA: 0s - loss: 0.0033 - acc: 0.997 - ETA: 0s - loss: 0.0032 - acc: 0.997 - ETA: 0s - loss: 0.0031 - acc: 0.998 - ETA: 0s - loss: 0.0051 - acc: 0.997 - ETA: 0s - loss: 0.0050 - acc: 0.997 - ETA: 0s - loss: 0.0060 - acc: 0.996 - ETA: 0s - loss: 0.0059 - acc: 0.996 - ETA: 0s - loss: 0.0058 - acc: 0.996 - ETA: 0s - loss: 0.0060 - acc: 0.997 - ETA: 0s - loss: 0.0065 - acc: 0.996 - ETA: 0s - loss: 0.0064 - acc: 0.996 - ETA: 0s - loss: 0.0063 - acc: 0.996 - ETA: 0s - loss: 0.0062 - acc: 0.996 - 5s 3ms/step - loss: 0.0062 - acc: 0.9967 - val_loss: 0.7242 - val_acc: 0.8764\n",
      "\n",
      "Epoch 00045: val_acc did not improve from 0.91170\n",
      "Epoch 46/100\n"
     ]
    },
    {
     "name": "stdout",
     "output_type": "stream",
     "text": [
      "1808/1808 [==============================] - ETA: 4s - loss: 3.5707e-04 - acc: 1.000 - ETA: 4s - loss: 3.1433e-04 - acc: 1.000 - ETA: 3s - loss: 3.8044e-04 - acc: 1.000 - ETA: 3s - loss: 5.1300e-04 - acc: 1.000 - ETA: 4s - loss: 9.2357e-04 - acc: 1.000 - ETA: 4s - loss: 0.0066 - acc: 0.9948    - ETA: 3s - loss: 0.0057 - acc: 0.995 - ETA: 3s - loss: 0.0050 - acc: 0.996 - ETA: 3s - loss: 0.0045 - acc: 0.996 - ETA: 3s - loss: 0.0041 - acc: 0.996 - ETA: 3s - loss: 0.0037 - acc: 0.997 - ETA: 3s - loss: 0.0035 - acc: 0.997 - ETA: 3s - loss: 0.0032 - acc: 0.997 - ETA: 3s - loss: 0.0030 - acc: 0.997 - ETA: 3s - loss: 0.0028 - acc: 0.997 - ETA: 3s - loss: 0.0041 - acc: 0.996 - ETA: 3s - loss: 0.0039 - acc: 0.996 - ETA: 3s - loss: 0.0037 - acc: 0.996 - ETA: 3s - loss: 0.0037 - acc: 0.996 - ETA: 2s - loss: 0.0036 - acc: 0.996 - ETA: 2s - loss: 0.0034 - acc: 0.997 - ETA: 2s - loss: 0.0034 - acc: 0.997 - ETA: 2s - loss: 0.0032 - acc: 0.997 - ETA: 2s - loss: 0.0032 - acc: 0.997 - ETA: 2s - loss: 0.0031 - acc: 0.997 - ETA: 2s - loss: 0.0058 - acc: 0.996 - ETA: 2s - loss: 0.0058 - acc: 0.996 - ETA: 2s - loss: 0.0056 - acc: 0.996 - ETA: 2s - loss: 0.0054 - acc: 0.996 - ETA: 2s - loss: 0.0052 - acc: 0.996 - ETA: 2s - loss: 0.0051 - acc: 0.997 - ETA: 1s - loss: 0.0050 - acc: 0.997 - ETA: 1s - loss: 0.0049 - acc: 0.997 - ETA: 1s - loss: 0.0047 - acc: 0.997 - ETA: 1s - loss: 0.0046 - acc: 0.997 - ETA: 1s - loss: 0.0045 - acc: 0.997 - ETA: 1s - loss: 0.0044 - acc: 0.997 - ETA: 1s - loss: 0.0042 - acc: 0.997 - ETA: 1s - loss: 0.0041 - acc: 0.997 - ETA: 1s - loss: 0.0040 - acc: 0.997 - ETA: 1s - loss: 0.0040 - acc: 0.997 - ETA: 1s - loss: 0.0039 - acc: 0.997 - ETA: 1s - loss: 0.0040 - acc: 0.997 - ETA: 1s - loss: 0.0039 - acc: 0.997 - ETA: 0s - loss: 0.0038 - acc: 0.997 - ETA: 0s - loss: 0.0038 - acc: 0.998 - ETA: 0s - loss: 0.0049 - acc: 0.997 - ETA: 0s - loss: 0.0048 - acc: 0.997 - ETA: 0s - loss: 0.0047 - acc: 0.997 - ETA: 0s - loss: 0.0046 - acc: 0.997 - ETA: 0s - loss: 0.0048 - acc: 0.997 - ETA: 0s - loss: 0.0047 - acc: 0.997 - ETA: 0s - loss: 0.0046 - acc: 0.997 - ETA: 0s - loss: 0.0045 - acc: 0.997 - ETA: 0s - loss: 0.0055 - acc: 0.997 - ETA: 0s - loss: 0.0054 - acc: 0.997 - 5s 3ms/step - loss: 0.0054 - acc: 0.9972 - val_loss: 0.7430 - val_acc: 0.8433\n",
      "\n",
      "Epoch 00046: val_acc did not improve from 0.91170\n",
      "Epoch 47/100\n",
      "1808/1808 [==============================] - ETA: 4s - loss: 0.0017 - acc: 1.000 - ETA: 4s - loss: 9.1792e-04 - acc: 1.000 - ETA: 4s - loss: 6.6492e-04 - acc: 1.000 - ETA: 4s - loss: 5.1910e-04 - acc: 1.000 - ETA: 4s - loss: 0.0037 - acc: 1.0000    - ETA: 4s - loss: 0.0031 - acc: 1.000 - ETA: 3s - loss: 0.0027 - acc: 1.000 - ETA: 3s - loss: 0.0072 - acc: 0.996 - ETA: 3s - loss: 0.0064 - acc: 0.996 - ETA: 3s - loss: 0.0058 - acc: 0.996 - ETA: 3s - loss: 0.0053 - acc: 0.997 - ETA: 3s - loss: 0.0061 - acc: 0.997 - ETA: 3s - loss: 0.0057 - acc: 0.997 - ETA: 3s - loss: 0.0053 - acc: 0.997 - ETA: 3s - loss: 0.0050 - acc: 0.997 - ETA: 3s - loss: 0.0047 - acc: 0.998 - ETA: 3s - loss: 0.0044 - acc: 0.998 - ETA: 3s - loss: 0.0041 - acc: 0.998 - ETA: 3s - loss: 0.0039 - acc: 0.998 - ETA: 3s - loss: 0.0045 - acc: 0.998 - ETA: 2s - loss: 0.0043 - acc: 0.998 - ETA: 2s - loss: 0.0042 - acc: 0.998 - ETA: 2s - loss: 0.0040 - acc: 0.998 - ETA: 2s - loss: 0.0038 - acc: 0.998 - ETA: 2s - loss: 0.0037 - acc: 0.998 - ETA: 2s - loss: 0.0035 - acc: 0.998 - ETA: 2s - loss: 0.0034 - acc: 0.998 - ETA: 2s - loss: 0.0033 - acc: 0.998 - ETA: 2s - loss: 0.0032 - acc: 0.998 - ETA: 2s - loss: 0.0031 - acc: 0.999 - ETA: 2s - loss: 0.0030 - acc: 0.999 - ETA: 2s - loss: 0.0040 - acc: 0.998 - ETA: 1s - loss: 0.0040 - acc: 0.998 - ETA: 1s - loss: 0.0038 - acc: 0.998 - ETA: 1s - loss: 0.0044 - acc: 0.997 - ETA: 1s - loss: 0.0043 - acc: 0.997 - ETA: 1s - loss: 0.0042 - acc: 0.997 - ETA: 1s - loss: 0.0041 - acc: 0.997 - ETA: 1s - loss: 0.0040 - acc: 0.997 - ETA: 1s - loss: 0.0039 - acc: 0.997 - ETA: 1s - loss: 0.0038 - acc: 0.997 - ETA: 1s - loss: 0.0037 - acc: 0.997 - ETA: 1s - loss: 0.0037 - acc: 0.997 - ETA: 1s - loss: 0.0036 - acc: 0.997 - ETA: 0s - loss: 0.0035 - acc: 0.997 - ETA: 0s - loss: 0.0034 - acc: 0.998 - ETA: 0s - loss: 0.0034 - acc: 0.998 - ETA: 0s - loss: 0.0049 - acc: 0.997 - ETA: 0s - loss: 0.0048 - acc: 0.997 - ETA: 0s - loss: 0.0047 - acc: 0.997 - ETA: 0s - loss: 0.0046 - acc: 0.997 - ETA: 0s - loss: 0.0046 - acc: 0.997 - ETA: 0s - loss: 0.0045 - acc: 0.997 - ETA: 0s - loss: 0.0044 - acc: 0.997 - ETA: 0s - loss: 0.0049 - acc: 0.997 - ETA: 0s - loss: 0.0049 - acc: 0.997 - 5s 3ms/step - loss: 0.0048 - acc: 0.9972 - val_loss: 0.8413 - val_acc: 0.8102\n",
      "\n",
      "Epoch 00047: val_acc did not improve from 0.91170\n",
      "Epoch 48/100\n",
      "1808/1808 [==============================] - ETA: 3s - loss: 5.6981e-05 - acc: 1.000 - ETA: 3s - loss: 6.9815e-05 - acc: 1.000 - ETA: 4s - loss: 6.6753e-04 - acc: 1.000 - ETA: 4s - loss: 5.0931e-04 - acc: 1.000 - ETA: 4s - loss: 4.1756e-04 - acc: 1.000 - ETA: 4s - loss: 3.8252e-04 - acc: 1.000 - ETA: 4s - loss: 4.1851e-04 - acc: 1.000 - ETA: 4s - loss: 3.7620e-04 - acc: 1.000 - ETA: 3s - loss: 0.0026 - acc: 1.0000    - ETA: 3s - loss: 0.0024 - acc: 1.000 - ETA: 3s - loss: 0.0022 - acc: 1.000 - ETA: 3s - loss: 0.0022 - acc: 1.000 - ETA: 3s - loss: 0.0032 - acc: 1.000 - ETA: 3s - loss: 0.0030 - acc: 1.000 - ETA: 3s - loss: 0.0028 - acc: 1.000 - ETA: 3s - loss: 0.0027 - acc: 1.000 - ETA: 3s - loss: 0.0025 - acc: 1.000 - ETA: 3s - loss: 0.0024 - acc: 1.000 - ETA: 3s - loss: 0.0023 - acc: 1.000 - ETA: 3s - loss: 0.0021 - acc: 1.000 - ETA: 2s - loss: 0.0021 - acc: 1.000 - ETA: 2s - loss: 0.0020 - acc: 1.000 - ETA: 2s - loss: 0.0020 - acc: 1.000 - ETA: 2s - loss: 0.0019 - acc: 1.000 - ETA: 2s - loss: 0.0018 - acc: 1.000 - ETA: 2s - loss: 0.0029 - acc: 0.998 - ETA: 2s - loss: 0.0046 - acc: 0.997 - ETA: 2s - loss: 0.0049 - acc: 0.997 - ETA: 2s - loss: 0.0047 - acc: 0.997 - ETA: 2s - loss: 0.0045 - acc: 0.997 - ETA: 2s - loss: 0.0044 - acc: 0.998 - ETA: 2s - loss: 0.0043 - acc: 0.998 - ETA: 1s - loss: 0.0042 - acc: 0.998 - ETA: 1s - loss: 0.0051 - acc: 0.997 - ETA: 1s - loss: 0.0049 - acc: 0.997 - ETA: 1s - loss: 0.0048 - acc: 0.997 - ETA: 1s - loss: 0.0047 - acc: 0.997 - ETA: 1s - loss: 0.0046 - acc: 0.997 - ETA: 1s - loss: 0.0045 - acc: 0.997 - ETA: 1s - loss: 0.0044 - acc: 0.997 - ETA: 1s - loss: 0.0043 - acc: 0.997 - ETA: 1s - loss: 0.0042 - acc: 0.997 - ETA: 1s - loss: 0.0041 - acc: 0.997 - ETA: 1s - loss: 0.0040 - acc: 0.997 - ETA: 0s - loss: 0.0040 - acc: 0.997 - ETA: 0s - loss: 0.0039 - acc: 0.998 - ETA: 0s - loss: 0.0050 - acc: 0.997 - ETA: 0s - loss: 0.0062 - acc: 0.996 - ETA: 0s - loss: 0.0061 - acc: 0.996 - ETA: 0s - loss: 0.0060 - acc: 0.996 - ETA: 0s - loss: 0.0059 - acc: 0.996 - ETA: 0s - loss: 0.0058 - acc: 0.997 - ETA: 0s - loss: 0.0057 - acc: 0.997 - ETA: 0s - loss: 0.0056 - acc: 0.997 - ETA: 0s - loss: 0.0055 - acc: 0.997 - ETA: 0s - loss: 0.0054 - acc: 0.997 - 5s 3ms/step - loss: 0.0053 - acc: 0.9972 - val_loss: 0.7185 - val_acc: 0.8698\n",
      "\n",
      "Epoch 00048: val_acc did not improve from 0.91170\n",
      "Epoch 49/100\n"
     ]
    },
    {
     "name": "stdout",
     "output_type": "stream",
     "text": [
      "1808/1808 [==============================] - ETA: 4s - loss: 1.5391e-05 - acc: 1.000 - ETA: 3s - loss: 1.1486e-04 - acc: 1.000 - ETA: 4s - loss: 9.7561e-05 - acc: 1.000 - ETA: 4s - loss: 1.7774e-04 - acc: 1.000 - ETA: 3s - loss: 1.5360e-04 - acc: 1.000 - ETA: 3s - loss: 1.3639e-04 - acc: 1.000 - ETA: 3s - loss: 1.6547e-04 - acc: 1.000 - ETA: 3s - loss: 2.5873e-04 - acc: 1.000 - ETA: 3s - loss: 2.5681e-04 - acc: 1.000 - ETA: 3s - loss: 4.2756e-04 - acc: 1.000 - ETA: 3s - loss: 4.0129e-04 - acc: 1.000 - ETA: 3s - loss: 4.4202e-04 - acc: 1.000 - ETA: 3s - loss: 6.1666e-04 - acc: 1.000 - ETA: 3s - loss: 5.8629e-04 - acc: 1.000 - ETA: 3s - loss: 5.4830e-04 - acc: 1.000 - ETA: 3s - loss: 5.1502e-04 - acc: 1.000 - ETA: 3s - loss: 4.8522e-04 - acc: 1.000 - ETA: 3s - loss: 4.5937e-04 - acc: 1.000 - ETA: 3s - loss: 4.8264e-04 - acc: 1.000 - ETA: 2s - loss: 5.0018e-04 - acc: 1.000 - ETA: 2s - loss: 4.9536e-04 - acc: 1.000 - ETA: 2s - loss: 4.7367e-04 - acc: 1.000 - ETA: 2s - loss: 9.6968e-04 - acc: 1.000 - ETA: 2s - loss: 9.3761e-04 - acc: 1.000 - ETA: 2s - loss: 0.0013 - acc: 1.0000    - ETA: 2s - loss: 0.0013 - acc: 1.000 - ETA: 2s - loss: 0.0012 - acc: 1.000 - ETA: 2s - loss: 0.0012 - acc: 1.000 - ETA: 2s - loss: 0.0022 - acc: 0.998 - ETA: 2s - loss: 0.0027 - acc: 0.999 - ETA: 2s - loss: 0.0045 - acc: 0.998 - ETA: 1s - loss: 0.0047 - acc: 0.998 - ETA: 1s - loss: 0.0047 - acc: 0.998 - ETA: 1s - loss: 0.0045 - acc: 0.998 - ETA: 1s - loss: 0.0044 - acc: 0.998 - ETA: 1s - loss: 0.0043 - acc: 0.998 - ETA: 1s - loss: 0.0042 - acc: 0.998 - ETA: 1s - loss: 0.0040 - acc: 0.998 - ETA: 1s - loss: 0.0052 - acc: 0.997 - ETA: 1s - loss: 0.0051 - acc: 0.997 - ETA: 1s - loss: 0.0050 - acc: 0.997 - ETA: 1s - loss: 0.0048 - acc: 0.997 - ETA: 1s - loss: 0.0047 - acc: 0.997 - ETA: 1s - loss: 0.0046 - acc: 0.997 - ETA: 0s - loss: 0.0045 - acc: 0.997 - ETA: 0s - loss: 0.0044 - acc: 0.998 - ETA: 0s - loss: 0.0053 - acc: 0.997 - ETA: 0s - loss: 0.0052 - acc: 0.997 - ETA: 0s - loss: 0.0052 - acc: 0.997 - ETA: 0s - loss: 0.0051 - acc: 0.997 - ETA: 0s - loss: 0.0050 - acc: 0.997 - ETA: 0s - loss: 0.0049 - acc: 0.997 - ETA: 0s - loss: 0.0048 - acc: 0.997 - ETA: 0s - loss: 0.0047 - acc: 0.997 - ETA: 0s - loss: 0.0046 - acc: 0.997 - ETA: 0s - loss: 0.0046 - acc: 0.997 - 5s 3ms/step - loss: 0.0045 - acc: 0.9978 - val_loss: 0.7792 - val_acc: 0.8234\n",
      "\n",
      "Epoch 00049: val_acc did not improve from 0.91170\n",
      "Epoch 50/100\n",
      "1808/1808 [==============================] - ETA: 4s - loss: 3.0870e-04 - acc: 1.000 - ETA: 4s - loss: 2.2607e-04 - acc: 1.000 - ETA: 4s - loss: 1.8267e-04 - acc: 1.000 - ETA: 4s - loss: 1.4876e-04 - acc: 1.000 - ETA: 4s - loss: 1.3309e-04 - acc: 1.000 - ETA: 4s - loss: 1.2193e-04 - acc: 1.000 - ETA: 4s - loss: 0.0031 - acc: 1.0000    - ETA: 3s - loss: 0.0028 - acc: 1.000 - ETA: 3s - loss: 0.0025 - acc: 1.000 - ETA: 3s - loss: 0.0023 - acc: 1.000 - ETA: 3s - loss: 0.0034 - acc: 1.000 - ETA: 3s - loss: 0.0031 - acc: 1.000 - ETA: 3s - loss: 0.0029 - acc: 1.000 - ETA: 3s - loss: 0.0027 - acc: 1.000 - ETA: 3s - loss: 0.0025 - acc: 1.000 - ETA: 3s - loss: 0.0024 - acc: 1.000 - ETA: 3s - loss: 0.0023 - acc: 1.000 - ETA: 3s - loss: 0.0022 - acc: 1.000 - ETA: 3s - loss: 0.0021 - acc: 1.000 - ETA: 2s - loss: 0.0020 - acc: 1.000 - ETA: 2s - loss: 0.0019 - acc: 1.000 - ETA: 2s - loss: 0.0018 - acc: 1.000 - ETA: 2s - loss: 0.0017 - acc: 1.000 - ETA: 2s - loss: 0.0038 - acc: 0.998 - ETA: 2s - loss: 0.0036 - acc: 0.998 - ETA: 2s - loss: 0.0052 - acc: 0.997 - ETA: 2s - loss: 0.0050 - acc: 0.997 - ETA: 2s - loss: 0.0048 - acc: 0.997 - ETA: 2s - loss: 0.0046 - acc: 0.997 - ETA: 2s - loss: 0.0045 - acc: 0.997 - ETA: 2s - loss: 0.0044 - acc: 0.998 - ETA: 2s - loss: 0.0042 - acc: 0.998 - ETA: 2s - loss: 0.0049 - acc: 0.997 - ETA: 1s - loss: 0.0049 - acc: 0.997 - ETA: 1s - loss: 0.0049 - acc: 0.997 - ETA: 1s - loss: 0.0048 - acc: 0.997 - ETA: 1s - loss: 0.0047 - acc: 0.997 - ETA: 1s - loss: 0.0046 - acc: 0.997 - ETA: 1s - loss: 0.0048 - acc: 0.997 - ETA: 1s - loss: 0.0047 - acc: 0.997 - ETA: 1s - loss: 0.0046 - acc: 0.997 - ETA: 1s - loss: 0.0059 - acc: 0.997 - ETA: 1s - loss: 0.0058 - acc: 0.997 - ETA: 1s - loss: 0.0057 - acc: 0.997 - ETA: 0s - loss: 0.0059 - acc: 0.997 - ETA: 0s - loss: 0.0057 - acc: 0.997 - ETA: 0s - loss: 0.0056 - acc: 0.997 - ETA: 0s - loss: 0.0055 - acc: 0.997 - ETA: 0s - loss: 0.0054 - acc: 0.997 - ETA: 0s - loss: 0.0053 - acc: 0.997 - ETA: 0s - loss: 0.0052 - acc: 0.997 - ETA: 0s - loss: 0.0051 - acc: 0.997 - ETA: 0s - loss: 0.0050 - acc: 0.997 - ETA: 0s - loss: 0.0050 - acc: 0.997 - ETA: 0s - loss: 0.0049 - acc: 0.997 - ETA: 0s - loss: 0.0048 - acc: 0.997 - 5s 3ms/step - loss: 0.0048 - acc: 0.9978 - val_loss: 0.8484 - val_acc: 0.8786\n",
      "\n",
      "Epoch 00050: val_acc did not improve from 0.91170\n",
      "Epoch 51/100\n",
      "1808/1808 [==============================] - ETA: 4s - loss: 0.0098 - acc: 1.000 - ETA: 4s - loss: 0.0051 - acc: 1.000 - ETA: 4s - loss: 0.0034 - acc: 1.000 - ETA: 4s - loss: 0.0035 - acc: 1.000 - ETA: 4s - loss: 0.0028 - acc: 1.000 - ETA: 4s - loss: 0.0023 - acc: 1.000 - ETA: 3s - loss: 0.0038 - acc: 1.000 - ETA: 3s - loss: 0.0034 - acc: 1.000 - ETA: 3s - loss: 0.0035 - acc: 1.000 - ETA: 3s - loss: 0.0031 - acc: 1.000 - ETA: 3s - loss: 0.0029 - acc: 1.000 - ETA: 3s - loss: 0.0029 - acc: 1.000 - ETA: 3s - loss: 0.0027 - acc: 1.000 - ETA: 3s - loss: 0.0025 - acc: 1.000 - ETA: 3s - loss: 0.0049 - acc: 0.997 - ETA: 3s - loss: 0.0046 - acc: 0.998 - ETA: 3s - loss: 0.0044 - acc: 0.998 - ETA: 3s - loss: 0.0073 - acc: 0.996 - ETA: 3s - loss: 0.0070 - acc: 0.996 - ETA: 2s - loss: 0.0066 - acc: 0.996 - ETA: 2s - loss: 0.0063 - acc: 0.997 - ETA: 2s - loss: 0.0060 - acc: 0.997 - ETA: 2s - loss: 0.0058 - acc: 0.997 - ETA: 2s - loss: 0.0055 - acc: 0.997 - ETA: 2s - loss: 0.0053 - acc: 0.997 - ETA: 2s - loss: 0.0051 - acc: 0.997 - ETA: 2s - loss: 0.0050 - acc: 0.997 - ETA: 2s - loss: 0.0048 - acc: 0.997 - ETA: 2s - loss: 0.0046 - acc: 0.997 - ETA: 2s - loss: 0.0045 - acc: 0.997 - ETA: 2s - loss: 0.0069 - acc: 0.997 - ETA: 1s - loss: 0.0083 - acc: 0.996 - ETA: 1s - loss: 0.0081 - acc: 0.996 - ETA: 1s - loss: 0.0079 - acc: 0.996 - ETA: 1s - loss: 0.0077 - acc: 0.996 - ETA: 1s - loss: 0.0075 - acc: 0.996 - ETA: 1s - loss: 0.0073 - acc: 0.996 - ETA: 1s - loss: 0.0072 - acc: 0.996 - ETA: 1s - loss: 0.0070 - acc: 0.996 - ETA: 1s - loss: 0.0068 - acc: 0.996 - ETA: 1s - loss: 0.0067 - acc: 0.997 - ETA: 1s - loss: 0.0065 - acc: 0.997 - ETA: 1s - loss: 0.0064 - acc: 0.997 - ETA: 1s - loss: 0.0062 - acc: 0.997 - ETA: 0s - loss: 0.0064 - acc: 0.997 - ETA: 0s - loss: 0.0063 - acc: 0.997 - ETA: 0s - loss: 0.0061 - acc: 0.997 - ETA: 0s - loss: 0.0060 - acc: 0.997 - ETA: 0s - loss: 0.0059 - acc: 0.997 - ETA: 0s - loss: 0.0058 - acc: 0.997 - ETA: 0s - loss: 0.0057 - acc: 0.997 - ETA: 0s - loss: 0.0055 - acc: 0.997 - ETA: 0s - loss: 0.0054 - acc: 0.997 - ETA: 0s - loss: 0.0053 - acc: 0.997 - ETA: 0s - loss: 0.0052 - acc: 0.997 - ETA: 0s - loss: 0.0052 - acc: 0.997 - 5s 3ms/step - loss: 0.0051 - acc: 0.9978 - val_loss: 0.8703 - val_acc: 0.8234\n",
      "\n",
      "Epoch 00051: val_acc did not improve from 0.91170\n",
      "Epoch 52/100\n"
     ]
    },
    {
     "name": "stdout",
     "output_type": "stream",
     "text": [
      "1808/1808 [==============================] - ETA: 4s - loss: 2.3390e-04 - acc: 1.000 - ETA: 4s - loss: 2.5232e-04 - acc: 1.000 - ETA: 4s - loss: 1.8919e-04 - acc: 1.000 - ETA: 4s - loss: 1.5188e-04 - acc: 1.000 - ETA: 4s - loss: 0.0066 - acc: 0.9938    - ETA: 4s - loss: 0.0055 - acc: 0.994 - ETA: 3s - loss: 0.0048 - acc: 0.995 - ETA: 3s - loss: 0.0042 - acc: 0.996 - ETA: 3s - loss: 0.0039 - acc: 0.996 - ETA: 3s - loss: 0.0035 - acc: 0.996 - ETA: 3s - loss: 0.0058 - acc: 0.994 - ETA: 3s - loss: 0.0053 - acc: 0.994 - ETA: 3s - loss: 0.0049 - acc: 0.995 - ETA: 3s - loss: 0.0046 - acc: 0.995 - ETA: 3s - loss: 0.0043 - acc: 0.995 - ETA: 3s - loss: 0.0041 - acc: 0.996 - ETA: 3s - loss: 0.0051 - acc: 0.996 - ETA: 3s - loss: 0.0049 - acc: 0.996 - ETA: 3s - loss: 0.0047 - acc: 0.996 - ETA: 3s - loss: 0.0061 - acc: 0.995 - ETA: 2s - loss: 0.0058 - acc: 0.995 - ETA: 2s - loss: 0.0055 - acc: 0.995 - ETA: 2s - loss: 0.0053 - acc: 0.995 - ETA: 2s - loss: 0.0051 - acc: 0.996 - ETA: 2s - loss: 0.0057 - acc: 0.996 - ETA: 2s - loss: 0.0055 - acc: 0.996 - ETA: 2s - loss: 0.0053 - acc: 0.996 - ETA: 2s - loss: 0.0051 - acc: 0.996 - ETA: 2s - loss: 0.0049 - acc: 0.996 - ETA: 2s - loss: 0.0048 - acc: 0.996 - ETA: 2s - loss: 0.0046 - acc: 0.997 - ETA: 2s - loss: 0.0045 - acc: 0.997 - ETA: 2s - loss: 0.0043 - acc: 0.997 - ETA: 1s - loss: 0.0042 - acc: 0.997 - ETA: 1s - loss: 0.0041 - acc: 0.997 - ETA: 1s - loss: 0.0040 - acc: 0.997 - ETA: 1s - loss: 0.0056 - acc: 0.996 - ETA: 1s - loss: 0.0054 - acc: 0.996 - ETA: 1s - loss: 0.0053 - acc: 0.996 - ETA: 1s - loss: 0.0052 - acc: 0.996 - ETA: 1s - loss: 0.0050 - acc: 0.997 - ETA: 1s - loss: 0.0049 - acc: 0.997 - ETA: 1s - loss: 0.0052 - acc: 0.997 - ETA: 1s - loss: 0.0051 - acc: 0.997 - ETA: 0s - loss: 0.0049 - acc: 0.997 - ETA: 0s - loss: 0.0048 - acc: 0.997 - ETA: 0s - loss: 0.0047 - acc: 0.997 - ETA: 0s - loss: 0.0046 - acc: 0.997 - ETA: 0s - loss: 0.0045 - acc: 0.997 - ETA: 0s - loss: 0.0045 - acc: 0.997 - ETA: 0s - loss: 0.0044 - acc: 0.997 - ETA: 0s - loss: 0.0043 - acc: 0.997 - ETA: 0s - loss: 0.0042 - acc: 0.997 - ETA: 0s - loss: 0.0044 - acc: 0.997 - ETA: 0s - loss: 0.0043 - acc: 0.997 - ETA: 0s - loss: 0.0042 - acc: 0.997 - 5s 3ms/step - loss: 0.0042 - acc: 0.9978 - val_loss: 0.7672 - val_acc: 0.8675\n",
      "\n",
      "Epoch 00052: val_acc did not improve from 0.91170\n",
      "Epoch 53/100\n",
      "1808/1808 [==============================] - ETA: 4s - loss: 4.2552e-05 - acc: 1.000 - ETA: 4s - loss: 5.6010e-05 - acc: 1.000 - ETA: 4s - loss: 8.3777e-05 - acc: 1.000 - ETA: 4s - loss: 6.7184e-05 - acc: 1.000 - ETA: 4s - loss: 5.4653e-05 - acc: 1.000 - ETA: 3s - loss: 6.1379e-05 - acc: 1.000 - ETA: 3s - loss: 1.2646e-04 - acc: 1.000 - ETA: 3s - loss: 0.0014 - acc: 1.0000    - ETA: 3s - loss: 0.0013 - acc: 1.000 - ETA: 3s - loss: 0.0012 - acc: 1.000 - ETA: 3s - loss: 0.0011 - acc: 1.000 - ETA: 3s - loss: 0.0013 - acc: 1.000 - ETA: 3s - loss: 0.0013 - acc: 1.000 - ETA: 3s - loss: 0.0012 - acc: 1.000 - ETA: 3s - loss: 0.0012 - acc: 1.000 - ETA: 3s - loss: 0.0012 - acc: 1.000 - ETA: 2s - loss: 0.0027 - acc: 0.998 - ETA: 2s - loss: 0.0044 - acc: 0.998 - ETA: 2s - loss: 0.0042 - acc: 0.998 - ETA: 2s - loss: 0.0040 - acc: 0.998 - ETA: 2s - loss: 0.0038 - acc: 0.998 - ETA: 2s - loss: 0.0036 - acc: 0.998 - ETA: 2s - loss: 0.0035 - acc: 0.998 - ETA: 2s - loss: 0.0033 - acc: 0.998 - ETA: 2s - loss: 0.0032 - acc: 0.998 - ETA: 2s - loss: 0.0031 - acc: 0.998 - ETA: 2s - loss: 0.0030 - acc: 0.998 - ETA: 2s - loss: 0.0029 - acc: 0.998 - ETA: 2s - loss: 0.0028 - acc: 0.998 - ETA: 2s - loss: 0.0027 - acc: 0.999 - ETA: 1s - loss: 0.0042 - acc: 0.998 - ETA: 1s - loss: 0.0051 - acc: 0.997 - ETA: 1s - loss: 0.0050 - acc: 0.997 - ETA: 1s - loss: 0.0048 - acc: 0.997 - ETA: 1s - loss: 0.0047 - acc: 0.997 - ETA: 1s - loss: 0.0046 - acc: 0.997 - ETA: 1s - loss: 0.0044 - acc: 0.997 - ETA: 1s - loss: 0.0043 - acc: 0.997 - ETA: 1s - loss: 0.0042 - acc: 0.997 - ETA: 1s - loss: 0.0041 - acc: 0.997 - ETA: 1s - loss: 0.0040 - acc: 0.997 - ETA: 1s - loss: 0.0042 - acc: 0.997 - ETA: 1s - loss: 0.0041 - acc: 0.997 - ETA: 0s - loss: 0.0040 - acc: 0.997 - ETA: 0s - loss: 0.0039 - acc: 0.997 - ETA: 0s - loss: 0.0039 - acc: 0.998 - ETA: 0s - loss: 0.0038 - acc: 0.998 - ETA: 0s - loss: 0.0037 - acc: 0.998 - ETA: 0s - loss: 0.0036 - acc: 0.998 - ETA: 0s - loss: 0.0036 - acc: 0.998 - ETA: 0s - loss: 0.0035 - acc: 0.998 - ETA: 0s - loss: 0.0034 - acc: 0.998 - ETA: 0s - loss: 0.0034 - acc: 0.998 - ETA: 0s - loss: 0.0033 - acc: 0.998 - ETA: 0s - loss: 0.0042 - acc: 0.997 - ETA: 0s - loss: 0.0042 - acc: 0.997 - 5s 3ms/step - loss: 0.0041 - acc: 0.9978 - val_loss: 0.7971 - val_acc: 0.8477\n",
      "\n",
      "Epoch 00053: val_acc did not improve from 0.91170\n",
      "Epoch 54/100\n",
      "1808/1808 [==============================] - ETA: 4s - loss: 1.7851e-05 - acc: 1.000 - ETA: 4s - loss: 2.1280e-05 - acc: 1.000 - ETA: 4s - loss: 7.6818e-05 - acc: 1.000 - ETA: 4s - loss: 0.0051 - acc: 1.0000    - ETA: 4s - loss: 0.0041 - acc: 1.000 - ETA: 4s - loss: 0.0054 - acc: 1.000 - ETA: 4s - loss: 0.0047 - acc: 1.000 - ETA: 4s - loss: 0.0087 - acc: 0.996 - ETA: 4s - loss: 0.0077 - acc: 0.996 - ETA: 4s - loss: 0.0070 - acc: 0.996 - ETA: 4s - loss: 0.0064 - acc: 0.997 - ETA: 4s - loss: 0.0058 - acc: 0.997 - ETA: 3s - loss: 0.0054 - acc: 0.997 - ETA: 3s - loss: 0.0050 - acc: 0.997 - ETA: 3s - loss: 0.0047 - acc: 0.997 - ETA: 3s - loss: 0.0045 - acc: 0.998 - ETA: 3s - loss: 0.0042 - acc: 0.998 - ETA: 3s - loss: 0.0040 - acc: 0.998 - ETA: 3s - loss: 0.0038 - acc: 0.998 - ETA: 3s - loss: 0.0036 - acc: 0.998 - ETA: 3s - loss: 0.0034 - acc: 0.998 - ETA: 3s - loss: 0.0033 - acc: 0.998 - ETA: 3s - loss: 0.0031 - acc: 0.998 - ETA: 3s - loss: 0.0035 - acc: 0.998 - ETA: 2s - loss: 0.0034 - acc: 0.998 - ETA: 2s - loss: 0.0033 - acc: 0.998 - ETA: 2s - loss: 0.0031 - acc: 0.998 - ETA: 2s - loss: 0.0039 - acc: 0.997 - ETA: 2s - loss: 0.0048 - acc: 0.996 - ETA: 2s - loss: 0.0046 - acc: 0.996 - ETA: 2s - loss: 0.0045 - acc: 0.997 - ETA: 2s - loss: 0.0044 - acc: 0.997 - ETA: 2s - loss: 0.0042 - acc: 0.997 - ETA: 2s - loss: 0.0041 - acc: 0.997 - ETA: 2s - loss: 0.0040 - acc: 0.997 - ETA: 1s - loss: 0.0053 - acc: 0.996 - ETA: 1s - loss: 0.0052 - acc: 0.996 - ETA: 1s - loss: 0.0051 - acc: 0.996 - ETA: 1s - loss: 0.0049 - acc: 0.996 - ETA: 1s - loss: 0.0048 - acc: 0.996 - ETA: 1s - loss: 0.0047 - acc: 0.997 - ETA: 1s - loss: 0.0046 - acc: 0.997 - ETA: 1s - loss: 0.0045 - acc: 0.997 - ETA: 1s - loss: 0.0044 - acc: 0.997 - ETA: 1s - loss: 0.0043 - acc: 0.997 - ETA: 1s - loss: 0.0042 - acc: 0.997 - ETA: 0s - loss: 0.0041 - acc: 0.997 - ETA: 0s - loss: 0.0040 - acc: 0.997 - ETA: 0s - loss: 0.0039 - acc: 0.997 - ETA: 0s - loss: 0.0039 - acc: 0.997 - ETA: 0s - loss: 0.0043 - acc: 0.996 - ETA: 0s - loss: 0.0042 - acc: 0.997 - ETA: 0s - loss: 0.0041 - acc: 0.997 - ETA: 0s - loss: 0.0040 - acc: 0.997 - ETA: 0s - loss: 0.0040 - acc: 0.997 - ETA: 0s - loss: 0.0039 - acc: 0.997 - 6s 3ms/step - loss: 0.0038 - acc: 0.9972 - val_loss: 0.7963 - val_acc: 0.8521\n",
      "\n",
      "Epoch 00054: val_acc did not improve from 0.91170\n",
      "Epoch 55/100\n"
     ]
    },
    {
     "name": "stdout",
     "output_type": "stream",
     "text": [
      "1808/1808 [==============================] - ETA: 4s - loss: 2.2650e-04 - acc: 1.000 - ETA: 5s - loss: 0.0094 - acc: 1.0000    - ETA: 4s - loss: 0.0063 - acc: 1.000 - ETA: 4s - loss: 0.0155 - acc: 0.992 - ETA: 4s - loss: 0.0124 - acc: 0.993 - ETA: 4s - loss: 0.0133 - acc: 0.994 - ETA: 4s - loss: 0.0114 - acc: 0.995 - ETA: 4s - loss: 0.0100 - acc: 0.996 - ETA: 4s - loss: 0.0089 - acc: 0.996 - ETA: 4s - loss: 0.0081 - acc: 0.996 - ETA: 4s - loss: 0.0074 - acc: 0.997 - ETA: 4s - loss: 0.0068 - acc: 0.997 - ETA: 3s - loss: 0.0063 - acc: 0.997 - ETA: 3s - loss: 0.0058 - acc: 0.997 - ETA: 3s - loss: 0.0054 - acc: 0.997 - ETA: 3s - loss: 0.0051 - acc: 0.998 - ETA: 3s - loss: 0.0048 - acc: 0.998 - ETA: 3s - loss: 0.0045 - acc: 0.998 - ETA: 3s - loss: 0.0043 - acc: 0.998 - ETA: 3s - loss: 0.0041 - acc: 0.998 - ETA: 3s - loss: 0.0040 - acc: 0.998 - ETA: 3s - loss: 0.0038 - acc: 0.998 - ETA: 3s - loss: 0.0036 - acc: 0.998 - ETA: 2s - loss: 0.0035 - acc: 0.998 - ETA: 2s - loss: 0.0034 - acc: 0.998 - ETA: 2s - loss: 0.0033 - acc: 0.998 - ETA: 2s - loss: 0.0032 - acc: 0.998 - ETA: 2s - loss: 0.0031 - acc: 0.998 - ETA: 2s - loss: 0.0029 - acc: 0.998 - ETA: 2s - loss: 0.0029 - acc: 0.999 - ETA: 2s - loss: 0.0031 - acc: 0.999 - ETA: 2s - loss: 0.0030 - acc: 0.999 - ETA: 2s - loss: 0.0029 - acc: 0.999 - ETA: 2s - loss: 0.0028 - acc: 0.999 - ETA: 1s - loss: 0.0027 - acc: 0.999 - ETA: 1s - loss: 0.0026 - acc: 0.999 - ETA: 1s - loss: 0.0026 - acc: 0.999 - ETA: 1s - loss: 0.0025 - acc: 0.999 - ETA: 1s - loss: 0.0024 - acc: 0.999 - ETA: 1s - loss: 0.0024 - acc: 0.999 - ETA: 1s - loss: 0.0024 - acc: 0.999 - ETA: 1s - loss: 0.0023 - acc: 0.999 - ETA: 1s - loss: 0.0025 - acc: 0.999 - ETA: 1s - loss: 0.0024 - acc: 0.999 - ETA: 1s - loss: 0.0024 - acc: 0.999 - ETA: 0s - loss: 0.0023 - acc: 0.999 - ETA: 0s - loss: 0.0030 - acc: 0.998 - ETA: 0s - loss: 0.0030 - acc: 0.998 - ETA: 0s - loss: 0.0039 - acc: 0.998 - ETA: 0s - loss: 0.0045 - acc: 0.997 - ETA: 0s - loss: 0.0044 - acc: 0.997 - ETA: 0s - loss: 0.0043 - acc: 0.997 - ETA: 0s - loss: 0.0042 - acc: 0.997 - ETA: 0s - loss: 0.0042 - acc: 0.997 - ETA: 0s - loss: 0.0041 - acc: 0.997 - ETA: 0s - loss: 0.0040 - acc: 0.997 - 6s 3ms/step - loss: 0.0040 - acc: 0.9978 - val_loss: 0.8194 - val_acc: 0.8455\n",
      "\n",
      "Epoch 00055: val_acc did not improve from 0.91170\n",
      "Epoch 56/100\n",
      "1808/1808 [==============================] - ETA: 5s - loss: 6.2158e-06 - acc: 1.000 - ETA: 5s - loss: 1.5460e-04 - acc: 1.000 - ETA: 4s - loss: 2.3423e-04 - acc: 1.000 - ETA: 4s - loss: 1.7936e-04 - acc: 1.000 - ETA: 4s - loss: 1.5023e-04 - acc: 1.000 - ETA: 4s - loss: 0.0056 - acc: 0.9948    - ETA: 4s - loss: 0.0048 - acc: 0.995 - ETA: 4s - loss: 0.0042 - acc: 0.996 - ETA: 4s - loss: 0.0038 - acc: 0.996 - ETA: 4s - loss: 0.0034 - acc: 0.996 - ETA: 4s - loss: 0.0031 - acc: 0.997 - ETA: 4s - loss: 0.0047 - acc: 0.994 - ETA: 3s - loss: 0.0056 - acc: 0.995 - ETA: 3s - loss: 0.0053 - acc: 0.995 - ETA: 3s - loss: 0.0049 - acc: 0.995 - ETA: 3s - loss: 0.0046 - acc: 0.996 - ETA: 3s - loss: 0.0043 - acc: 0.996 - ETA: 3s - loss: 0.0041 - acc: 0.996 - ETA: 3s - loss: 0.0050 - acc: 0.996 - ETA: 3s - loss: 0.0048 - acc: 0.996 - ETA: 3s - loss: 0.0046 - acc: 0.997 - ETA: 3s - loss: 0.0044 - acc: 0.997 - ETA: 3s - loss: 0.0049 - acc: 0.997 - ETA: 2s - loss: 0.0047 - acc: 0.997 - ETA: 2s - loss: 0.0045 - acc: 0.997 - ETA: 2s - loss: 0.0044 - acc: 0.997 - ETA: 2s - loss: 0.0042 - acc: 0.997 - ETA: 2s - loss: 0.0041 - acc: 0.997 - ETA: 2s - loss: 0.0039 - acc: 0.997 - ETA: 2s - loss: 0.0038 - acc: 0.997 - ETA: 2s - loss: 0.0037 - acc: 0.998 - ETA: 2s - loss: 0.0036 - acc: 0.998 - ETA: 2s - loss: 0.0034 - acc: 0.998 - ETA: 2s - loss: 0.0041 - acc: 0.997 - ETA: 1s - loss: 0.0040 - acc: 0.997 - ETA: 1s - loss: 0.0039 - acc: 0.997 - ETA: 1s - loss: 0.0038 - acc: 0.997 - ETA: 1s - loss: 0.0037 - acc: 0.997 - ETA: 1s - loss: 0.0036 - acc: 0.997 - ETA: 1s - loss: 0.0035 - acc: 0.997 - ETA: 1s - loss: 0.0034 - acc: 0.997 - ETA: 1s - loss: 0.0033 - acc: 0.997 - ETA: 1s - loss: 0.0032 - acc: 0.997 - ETA: 1s - loss: 0.0032 - acc: 0.997 - ETA: 1s - loss: 0.0031 - acc: 0.997 - ETA: 0s - loss: 0.0036 - acc: 0.997 - ETA: 0s - loss: 0.0036 - acc: 0.997 - ETA: 0s - loss: 0.0035 - acc: 0.997 - ETA: 0s - loss: 0.0034 - acc: 0.997 - ETA: 0s - loss: 0.0034 - acc: 0.997 - ETA: 0s - loss: 0.0033 - acc: 0.997 - ETA: 0s - loss: 0.0032 - acc: 0.997 - ETA: 0s - loss: 0.0032 - acc: 0.997 - ETA: 0s - loss: 0.0031 - acc: 0.997 - ETA: 0s - loss: 0.0038 - acc: 0.997 - ETA: 0s - loss: 0.0037 - acc: 0.997 - 5s 3ms/step - loss: 0.0037 - acc: 0.9972 - val_loss: 0.8056 - val_acc: 0.8521\n",
      "\n",
      "Epoch 00056: val_acc did not improve from 0.91170\n",
      "Epoch 57/100\n",
      "1808/1808 [==============================] - ETA: 4s - loss: 1.2890e-05 - acc: 1.000 - ETA: 4s - loss: 1.1279e-05 - acc: 1.000 - ETA: 4s - loss: 1.7408e-05 - acc: 1.000 - ETA: 4s - loss: 2.7392e-05 - acc: 1.000 - ETA: 4s - loss: 2.5232e-05 - acc: 1.000 - ETA: 4s - loss: 2.1787e-04 - acc: 1.000 - ETA: 4s - loss: 1.8726e-04 - acc: 1.000 - ETA: 4s - loss: 1.6624e-04 - acc: 1.000 - ETA: 4s - loss: 0.0015 - acc: 1.0000    - ETA: 4s - loss: 0.0014 - acc: 1.000 - ETA: 4s - loss: 0.0012 - acc: 1.000 - ETA: 3s - loss: 0.0012 - acc: 1.000 - ETA: 3s - loss: 0.0011 - acc: 1.000 - ETA: 3s - loss: 0.0031 - acc: 0.997 - ETA: 3s - loss: 0.0029 - acc: 0.997 - ETA: 3s - loss: 0.0027 - acc: 0.998 - ETA: 3s - loss: 0.0048 - acc: 0.996 - ETA: 3s - loss: 0.0045 - acc: 0.996 - ETA: 3s - loss: 0.0043 - acc: 0.996 - ETA: 3s - loss: 0.0041 - acc: 0.996 - ETA: 3s - loss: 0.0039 - acc: 0.997 - ETA: 3s - loss: 0.0037 - acc: 0.997 - ETA: 3s - loss: 0.0044 - acc: 0.997 - ETA: 2s - loss: 0.0042 - acc: 0.997 - ETA: 2s - loss: 0.0041 - acc: 0.997 - ETA: 2s - loss: 0.0045 - acc: 0.997 - ETA: 2s - loss: 0.0043 - acc: 0.997 - ETA: 2s - loss: 0.0042 - acc: 0.997 - ETA: 2s - loss: 0.0040 - acc: 0.997 - ETA: 2s - loss: 0.0039 - acc: 0.997 - ETA: 2s - loss: 0.0038 - acc: 0.998 - ETA: 2s - loss: 0.0036 - acc: 0.998 - ETA: 2s - loss: 0.0035 - acc: 0.998 - ETA: 2s - loss: 0.0034 - acc: 0.998 - ETA: 1s - loss: 0.0033 - acc: 0.998 - ETA: 1s - loss: 0.0032 - acc: 0.998 - ETA: 1s - loss: 0.0032 - acc: 0.998 - ETA: 1s - loss: 0.0031 - acc: 0.998 - ETA: 1s - loss: 0.0030 - acc: 0.998 - ETA: 1s - loss: 0.0029 - acc: 0.998 - ETA: 1s - loss: 0.0029 - acc: 0.998 - ETA: 1s - loss: 0.0028 - acc: 0.998 - ETA: 1s - loss: 0.0027 - acc: 0.998 - ETA: 1s - loss: 0.0027 - acc: 0.998 - ETA: 1s - loss: 0.0026 - acc: 0.998 - ETA: 0s - loss: 0.0025 - acc: 0.998 - ETA: 0s - loss: 0.0028 - acc: 0.998 - ETA: 0s - loss: 0.0028 - acc: 0.998 - ETA: 0s - loss: 0.0027 - acc: 0.998 - ETA: 0s - loss: 0.0027 - acc: 0.998 - ETA: 0s - loss: 0.0026 - acc: 0.998 - ETA: 0s - loss: 0.0032 - acc: 0.998 - ETA: 0s - loss: 0.0031 - acc: 0.998 - ETA: 0s - loss: 0.0031 - acc: 0.998 - ETA: 0s - loss: 0.0030 - acc: 0.998 - ETA: 0s - loss: 0.0030 - acc: 0.998 - 5s 3ms/step - loss: 0.0035 - acc: 0.9978 - val_loss: 0.8040 - val_acc: 0.8631\n",
      "\n",
      "Epoch 00057: val_acc did not improve from 0.91170\n",
      "Epoch 58/100\n"
     ]
    },
    {
     "name": "stdout",
     "output_type": "stream",
     "text": [
      "1808/1808 [==============================] - ETA: 4s - loss: 3.0886e-05 - acc: 1.000 - ETA: 5s - loss: 1.8926e-05 - acc: 1.000 - ETA: 4s - loss: 2.2252e-05 - acc: 1.000 - ETA: 4s - loss: 2.1264e-05 - acc: 1.000 - ETA: 4s - loss: 2.2039e-04 - acc: 1.000 - ETA: 4s - loss: 1.8504e-04 - acc: 1.000 - ETA: 4s - loss: 1.6019e-04 - acc: 1.000 - ETA: 4s - loss: 1.4464e-04 - acc: 1.000 - ETA: 4s - loss: 1.2939e-04 - acc: 1.000 - ETA: 4s - loss: 1.1941e-04 - acc: 1.000 - ETA: 4s - loss: 1.1094e-04 - acc: 1.000 - ETA: 4s - loss: 1.0371e-04 - acc: 1.000 - ETA: 3s - loss: 1.0156e-04 - acc: 1.000 - ETA: 3s - loss: 9.4942e-05 - acc: 1.000 - ETA: 3s - loss: 9.1188e-05 - acc: 1.000 - ETA: 3s - loss: 8.7193e-05 - acc: 1.000 - ETA: 3s - loss: 9.6808e-05 - acc: 1.000 - ETA: 3s - loss: 9.4560e-05 - acc: 1.000 - ETA: 3s - loss: 9.2366e-05 - acc: 1.000 - ETA: 3s - loss: 8.3853e-04 - acc: 1.000 - ETA: 3s - loss: 7.9941e-04 - acc: 1.000 - ETA: 3s - loss: 0.0014 - acc: 1.0000    - ETA: 2s - loss: 0.0014 - acc: 1.000 - ETA: 2s - loss: 0.0026 - acc: 0.998 - ETA: 2s - loss: 0.0025 - acc: 0.998 - ETA: 2s - loss: 0.0024 - acc: 0.998 - ETA: 2s - loss: 0.0030 - acc: 0.998 - ETA: 2s - loss: 0.0029 - acc: 0.998 - ETA: 2s - loss: 0.0028 - acc: 0.998 - ETA: 2s - loss: 0.0027 - acc: 0.999 - ETA: 2s - loss: 0.0026 - acc: 0.999 - ETA: 2s - loss: 0.0025 - acc: 0.999 - ETA: 2s - loss: 0.0030 - acc: 0.999 - ETA: 2s - loss: 0.0029 - acc: 0.999 - ETA: 1s - loss: 0.0028 - acc: 0.999 - ETA: 1s - loss: 0.0027 - acc: 0.999 - ETA: 1s - loss: 0.0027 - acc: 0.999 - ETA: 1s - loss: 0.0026 - acc: 0.999 - ETA: 1s - loss: 0.0025 - acc: 0.999 - ETA: 1s - loss: 0.0035 - acc: 0.998 - ETA: 1s - loss: 0.0034 - acc: 0.998 - ETA: 1s - loss: 0.0033 - acc: 0.998 - ETA: 1s - loss: 0.0032 - acc: 0.998 - ETA: 1s - loss: 0.0032 - acc: 0.998 - ETA: 1s - loss: 0.0031 - acc: 0.998 - ETA: 0s - loss: 0.0030 - acc: 0.998 - ETA: 0s - loss: 0.0030 - acc: 0.998 - ETA: 0s - loss: 0.0029 - acc: 0.998 - ETA: 0s - loss: 0.0028 - acc: 0.998 - ETA: 0s - loss: 0.0039 - acc: 0.997 - ETA: 0s - loss: 0.0038 - acc: 0.997 - ETA: 0s - loss: 0.0037 - acc: 0.997 - ETA: 0s - loss: 0.0037 - acc: 0.997 - ETA: 0s - loss: 0.0036 - acc: 0.997 - ETA: 0s - loss: 0.0035 - acc: 0.997 - ETA: 0s - loss: 0.0035 - acc: 0.997 - 6s 3ms/step - loss: 0.0034 - acc: 0.9978 - val_loss: 0.8748 - val_acc: 0.8344\n",
      "\n",
      "Epoch 00058: val_acc did not improve from 0.91170\n",
      "Epoch 59/100\n",
      "1808/1808 [==============================] - ETA: 4s - loss: 0.0201 - acc: 1.000 - ETA: 4s - loss: 0.0101 - acc: 1.000 - ETA: 4s - loss: 0.0068 - acc: 1.000 - ETA: 4s - loss: 0.0051 - acc: 1.000 - ETA: 4s - loss: 0.0041 - acc: 1.000 - ETA: 3s - loss: 0.0034 - acc: 1.000 - ETA: 3s - loss: 0.0029 - acc: 1.000 - ETA: 3s - loss: 0.0050 - acc: 1.000 - ETA: 3s - loss: 0.0044 - acc: 1.000 - ETA: 3s - loss: 0.0040 - acc: 1.000 - ETA: 3s - loss: 0.0037 - acc: 1.000 - ETA: 3s - loss: 0.0034 - acc: 1.000 - ETA: 3s - loss: 0.0050 - acc: 0.997 - ETA: 3s - loss: 0.0047 - acc: 0.997 - ETA: 3s - loss: 0.0044 - acc: 0.997 - ETA: 3s - loss: 0.0041 - acc: 0.998 - ETA: 3s - loss: 0.0070 - acc: 0.994 - ETA: 3s - loss: 0.0066 - acc: 0.994 - ETA: 2s - loss: 0.0062 - acc: 0.995 - ETA: 2s - loss: 0.0059 - acc: 0.995 - ETA: 2s - loss: 0.0057 - acc: 0.995 - ETA: 2s - loss: 0.0054 - acc: 0.995 - ETA: 2s - loss: 0.0066 - acc: 0.994 - ETA: 2s - loss: 0.0063 - acc: 0.994 - ETA: 2s - loss: 0.0061 - acc: 0.995 - ETA: 2s - loss: 0.0059 - acc: 0.995 - ETA: 2s - loss: 0.0056 - acc: 0.995 - ETA: 2s - loss: 0.0054 - acc: 0.995 - ETA: 2s - loss: 0.0053 - acc: 0.995 - ETA: 2s - loss: 0.0051 - acc: 0.995 - ETA: 2s - loss: 0.0049 - acc: 0.996 - ETA: 1s - loss: 0.0048 - acc: 0.996 - ETA: 1s - loss: 0.0046 - acc: 0.996 - ETA: 1s - loss: 0.0045 - acc: 0.996 - ETA: 1s - loss: 0.0044 - acc: 0.996 - ETA: 1s - loss: 0.0042 - acc: 0.996 - ETA: 1s - loss: 0.0041 - acc: 0.996 - ETA: 1s - loss: 0.0040 - acc: 0.996 - ETA: 1s - loss: 0.0039 - acc: 0.996 - ETA: 1s - loss: 0.0038 - acc: 0.996 - ETA: 1s - loss: 0.0037 - acc: 0.997 - ETA: 1s - loss: 0.0036 - acc: 0.997 - ETA: 1s - loss: 0.0036 - acc: 0.997 - ETA: 1s - loss: 0.0035 - acc: 0.997 - ETA: 0s - loss: 0.0034 - acc: 0.997 - ETA: 0s - loss: 0.0033 - acc: 0.997 - ETA: 0s - loss: 0.0033 - acc: 0.997 - ETA: 0s - loss: 0.0036 - acc: 0.997 - ETA: 0s - loss: 0.0035 - acc: 0.997 - ETA: 0s - loss: 0.0034 - acc: 0.997 - ETA: 0s - loss: 0.0037 - acc: 0.997 - ETA: 0s - loss: 0.0037 - acc: 0.997 - ETA: 0s - loss: 0.0036 - acc: 0.997 - ETA: 0s - loss: 0.0035 - acc: 0.997 - ETA: 0s - loss: 0.0035 - acc: 0.997 - ETA: 0s - loss: 0.0034 - acc: 0.997 - 5s 3ms/step - loss: 0.0034 - acc: 0.9978 - val_loss: 0.8761 - val_acc: 0.8389\n",
      "\n",
      "Epoch 00059: val_acc did not improve from 0.91170\n",
      "Epoch 60/100\n",
      "1808/1808 [==============================] - ETA: 4s - loss: 8.8887e-06 - acc: 1.000 - ETA: 4s - loss: 1.5665e-05 - acc: 1.000 - ETA: 4s - loss: 0.0067 - acc: 1.0000    - ETA: 4s - loss: 0.0051 - acc: 1.000 - ETA: 4s - loss: 0.0040 - acc: 1.000 - ETA: 4s - loss: 0.0034 - acc: 1.000 - ETA: 4s - loss: 0.0029 - acc: 1.000 - ETA: 3s - loss: 0.0025 - acc: 1.000 - ETA: 3s - loss: 0.0023 - acc: 1.000 - ETA: 3s - loss: 0.0020 - acc: 1.000 - ETA: 3s - loss: 0.0019 - acc: 1.000 - ETA: 3s - loss: 0.0017 - acc: 1.000 - ETA: 3s - loss: 0.0016 - acc: 1.000 - ETA: 3s - loss: 0.0015 - acc: 1.000 - ETA: 3s - loss: 0.0014 - acc: 1.000 - ETA: 3s - loss: 0.0013 - acc: 1.000 - ETA: 3s - loss: 0.0012 - acc: 1.000 - ETA: 3s - loss: 0.0011 - acc: 1.000 - ETA: 2s - loss: 0.0011 - acc: 1.000 - ETA: 2s - loss: 0.0010 - acc: 1.000 - ETA: 2s - loss: 9.7665e-04 - acc: 1.000 - ETA: 2s - loss: 9.3290e-04 - acc: 1.000 - ETA: 2s - loss: 0.0017 - acc: 1.0000    - ETA: 2s - loss: 0.0016 - acc: 1.000 - ETA: 2s - loss: 0.0032 - acc: 0.998 - ETA: 2s - loss: 0.0031 - acc: 0.998 - ETA: 2s - loss: 0.0030 - acc: 0.998 - ETA: 2s - loss: 0.0028 - acc: 0.998 - ETA: 2s - loss: 0.0027 - acc: 0.998 - ETA: 2s - loss: 0.0027 - acc: 0.999 - ETA: 2s - loss: 0.0026 - acc: 0.999 - ETA: 1s - loss: 0.0025 - acc: 0.999 - ETA: 1s - loss: 0.0024 - acc: 0.999 - ETA: 1s - loss: 0.0024 - acc: 0.999 - ETA: 1s - loss: 0.0023 - acc: 0.999 - ETA: 1s - loss: 0.0022 - acc: 0.999 - ETA: 1s - loss: 0.0022 - acc: 0.999 - ETA: 1s - loss: 0.0021 - acc: 0.999 - ETA: 1s - loss: 0.0021 - acc: 0.999 - ETA: 1s - loss: 0.0020 - acc: 0.999 - ETA: 1s - loss: 0.0020 - acc: 0.999 - ETA: 1s - loss: 0.0019 - acc: 0.999 - ETA: 1s - loss: 0.0019 - acc: 0.999 - ETA: 1s - loss: 0.0018 - acc: 0.999 - ETA: 0s - loss: 0.0018 - acc: 0.999 - ETA: 0s - loss: 0.0018 - acc: 0.999 - ETA: 0s - loss: 0.0020 - acc: 0.999 - ETA: 0s - loss: 0.0019 - acc: 0.999 - ETA: 0s - loss: 0.0025 - acc: 0.998 - ETA: 0s - loss: 0.0024 - acc: 0.998 - ETA: 0s - loss: 0.0024 - acc: 0.998 - ETA: 0s - loss: 0.0030 - acc: 0.998 - ETA: 0s - loss: 0.0030 - acc: 0.998 - ETA: 0s - loss: 0.0029 - acc: 0.998 - ETA: 0s - loss: 0.0033 - acc: 0.997 - ETA: 0s - loss: 0.0033 - acc: 0.997 - 5s 3ms/step - loss: 0.0033 - acc: 0.9978 - val_loss: 0.8726 - val_acc: 0.8477\n",
      "\n",
      "Epoch 00060: val_acc did not improve from 0.91170\n",
      "Epoch 61/100\n"
     ]
    },
    {
     "name": "stdout",
     "output_type": "stream",
     "text": [
      "1808/1808 [==============================] - ETA: 4s - loss: 1.9247e-04 - acc: 1.000 - ETA: 4s - loss: 1.1171e-04 - acc: 1.000 - ETA: 4s - loss: 7.5673e-05 - acc: 1.000 - ETA: 4s - loss: 6.1382e-05 - acc: 1.000 - ETA: 4s - loss: 5.1048e-05 - acc: 1.000 - ETA: 4s - loss: 4.4930e-05 - acc: 1.000 - ETA: 4s - loss: 3.9466e-05 - acc: 1.000 - ETA: 4s - loss: 3.5049e-05 - acc: 1.000 - ETA: 4s - loss: 3.4770e-05 - acc: 1.000 - ETA: 3s - loss: 3.2362e-05 - acc: 1.000 - ETA: 3s - loss: 3.9569e-05 - acc: 1.000 - ETA: 3s - loss: 0.0021 - acc: 0.9974    - ETA: 3s - loss: 0.0038 - acc: 0.995 - ETA: 3s - loss: 0.0035 - acc: 0.995 - ETA: 3s - loss: 0.0033 - acc: 0.995 - ETA: 3s - loss: 0.0031 - acc: 0.996 - ETA: 3s - loss: 0.0029 - acc: 0.996 - ETA: 3s - loss: 0.0027 - acc: 0.996 - ETA: 3s - loss: 0.0026 - acc: 0.996 - ETA: 3s - loss: 0.0025 - acc: 0.996 - ETA: 3s - loss: 0.0024 - acc: 0.997 - ETA: 3s - loss: 0.0023 - acc: 0.997 - ETA: 2s - loss: 0.0022 - acc: 0.997 - ETA: 2s - loss: 0.0021 - acc: 0.997 - ETA: 2s - loss: 0.0020 - acc: 0.997 - ETA: 2s - loss: 0.0019 - acc: 0.997 - ETA: 2s - loss: 0.0029 - acc: 0.996 - ETA: 2s - loss: 0.0028 - acc: 0.996 - ETA: 2s - loss: 0.0027 - acc: 0.996 - ETA: 2s - loss: 0.0026 - acc: 0.996 - ETA: 2s - loss: 0.0025 - acc: 0.997 - ETA: 2s - loss: 0.0031 - acc: 0.996 - ETA: 2s - loss: 0.0036 - acc: 0.996 - ETA: 2s - loss: 0.0035 - acc: 0.996 - ETA: 1s - loss: 0.0034 - acc: 0.996 - ETA: 1s - loss: 0.0033 - acc: 0.996 - ETA: 1s - loss: 0.0032 - acc: 0.996 - ETA: 1s - loss: 0.0037 - acc: 0.995 - ETA: 1s - loss: 0.0036 - acc: 0.996 - ETA: 1s - loss: 0.0035 - acc: 0.996 - ETA: 1s - loss: 0.0034 - acc: 0.996 - ETA: 1s - loss: 0.0033 - acc: 0.996 - ETA: 1s - loss: 0.0037 - acc: 0.996 - ETA: 1s - loss: 0.0036 - acc: 0.996 - ETA: 1s - loss: 0.0035 - acc: 0.996 - ETA: 0s - loss: 0.0034 - acc: 0.996 - ETA: 0s - loss: 0.0033 - acc: 0.996 - ETA: 0s - loss: 0.0038 - acc: 0.996 - ETA: 0s - loss: 0.0037 - acc: 0.996 - ETA: 0s - loss: 0.0037 - acc: 0.996 - ETA: 0s - loss: 0.0036 - acc: 0.996 - ETA: 0s - loss: 0.0035 - acc: 0.996 - ETA: 0s - loss: 0.0035 - acc: 0.996 - ETA: 0s - loss: 0.0034 - acc: 0.996 - ETA: 0s - loss: 0.0033 - acc: 0.996 - ETA: 0s - loss: 0.0033 - acc: 0.996 - 5s 3ms/step - loss: 0.0032 - acc: 0.9967 - val_loss: 0.8707 - val_acc: 0.8543\n",
      "\n",
      "Epoch 00061: val_acc did not improve from 0.91170\n",
      "Epoch 62/100\n",
      "1808/1808 [==============================] - ETA: 4s - loss: 2.6935e-05 - acc: 1.000 - ETA: 4s - loss: 1.8871e-05 - acc: 1.000 - ETA: 4s - loss: 1.4092e-05 - acc: 1.000 - ETA: 4s - loss: 0.0074 - acc: 0.9922    - ETA: 4s - loss: 0.0109 - acc: 0.987 - ETA: 4s - loss: 0.0091 - acc: 0.989 - ETA: 4s - loss: 0.0078 - acc: 0.991 - ETA: 4s - loss: 0.0093 - acc: 0.992 - ETA: 4s - loss: 0.0082 - acc: 0.993 - ETA: 4s - loss: 0.0074 - acc: 0.993 - ETA: 4s - loss: 0.0067 - acc: 0.994 - ETA: 3s - loss: 0.0062 - acc: 0.994 - ETA: 3s - loss: 0.0057 - acc: 0.995 - ETA: 3s - loss: 0.0053 - acc: 0.995 - ETA: 3s - loss: 0.0050 - acc: 0.995 - ETA: 3s - loss: 0.0046 - acc: 0.996 - ETA: 3s - loss: 0.0044 - acc: 0.996 - ETA: 3s - loss: 0.0041 - acc: 0.996 - ETA: 3s - loss: 0.0039 - acc: 0.996 - ETA: 3s - loss: 0.0037 - acc: 0.996 - ETA: 3s - loss: 0.0056 - acc: 0.995 - ETA: 3s - loss: 0.0065 - acc: 0.994 - ETA: 2s - loss: 0.0062 - acc: 0.994 - ETA: 2s - loss: 0.0059 - acc: 0.994 - ETA: 2s - loss: 0.0057 - acc: 0.995 - ETA: 2s - loss: 0.0055 - acc: 0.995 - ETA: 2s - loss: 0.0053 - acc: 0.995 - ETA: 2s - loss: 0.0051 - acc: 0.995 - ETA: 2s - loss: 0.0049 - acc: 0.995 - ETA: 2s - loss: 0.0048 - acc: 0.995 - ETA: 2s - loss: 0.0052 - acc: 0.996 - ETA: 2s - loss: 0.0050 - acc: 0.996 - ETA: 2s - loss: 0.0049 - acc: 0.996 - ETA: 1s - loss: 0.0047 - acc: 0.996 - ETA: 1s - loss: 0.0051 - acc: 0.996 - ETA: 1s - loss: 0.0049 - acc: 0.996 - ETA: 1s - loss: 0.0048 - acc: 0.996 - ETA: 1s - loss: 0.0047 - acc: 0.996 - ETA: 1s - loss: 0.0046 - acc: 0.996 - ETA: 1s - loss: 0.0045 - acc: 0.996 - ETA: 1s - loss: 0.0043 - acc: 0.997 - ETA: 1s - loss: 0.0042 - acc: 0.997 - ETA: 1s - loss: 0.0042 - acc: 0.997 - ETA: 1s - loss: 0.0041 - acc: 0.997 - ETA: 1s - loss: 0.0040 - acc: 0.997 - ETA: 0s - loss: 0.0039 - acc: 0.997 - ETA: 0s - loss: 0.0038 - acc: 0.997 - ETA: 0s - loss: 0.0037 - acc: 0.997 - ETA: 0s - loss: 0.0036 - acc: 0.997 - ETA: 0s - loss: 0.0036 - acc: 0.997 - ETA: 0s - loss: 0.0035 - acc: 0.997 - ETA: 0s - loss: 0.0034 - acc: 0.997 - ETA: 0s - loss: 0.0034 - acc: 0.997 - ETA: 0s - loss: 0.0033 - acc: 0.997 - ETA: 0s - loss: 0.0033 - acc: 0.997 - ETA: 0s - loss: 0.0032 - acc: 0.997 - 5s 3ms/step - loss: 0.0032 - acc: 0.9978 - val_loss: 0.8961 - val_acc: 0.8543\n",
      "\n",
      "Epoch 00062: val_acc did not improve from 0.91170\n",
      "Epoch 63/100\n",
      "1808/1808 [==============================] - ETA: 4s - loss: 1.6143e-04 - acc: 1.000 - ETA: 4s - loss: 0.0128 - acc: 0.9844    - ETA: 4s - loss: 0.0147 - acc: 0.989 - ETA: 4s - loss: 0.0110 - acc: 0.992 - ETA: 4s - loss: 0.0089 - acc: 0.993 - ETA: 4s - loss: 0.0099 - acc: 0.994 - ETA: 4s - loss: 0.0085 - acc: 0.995 - ETA: 4s - loss: 0.0074 - acc: 0.996 - ETA: 4s - loss: 0.0092 - acc: 0.993 - ETA: 4s - loss: 0.0083 - acc: 0.993 - ETA: 4s - loss: 0.0075 - acc: 0.994 - ETA: 4s - loss: 0.0069 - acc: 0.994 - ETA: 4s - loss: 0.0064 - acc: 0.995 - ETA: 4s - loss: 0.0059 - acc: 0.995 - ETA: 3s - loss: 0.0055 - acc: 0.995 - ETA: 3s - loss: 0.0052 - acc: 0.996 - ETA: 3s - loss: 0.0049 - acc: 0.996 - ETA: 3s - loss: 0.0046 - acc: 0.996 - ETA: 3s - loss: 0.0044 - acc: 0.996 - ETA: 3s - loss: 0.0041 - acc: 0.996 - ETA: 3s - loss: 0.0039 - acc: 0.997 - ETA: 3s - loss: 0.0038 - acc: 0.997 - ETA: 3s - loss: 0.0036 - acc: 0.997 - ETA: 3s - loss: 0.0035 - acc: 0.997 - ETA: 3s - loss: 0.0033 - acc: 0.997 - ETA: 3s - loss: 0.0032 - acc: 0.997 - ETA: 2s - loss: 0.0031 - acc: 0.997 - ETA: 2s - loss: 0.0030 - acc: 0.997 - ETA: 2s - loss: 0.0029 - acc: 0.997 - ETA: 2s - loss: 0.0037 - acc: 0.996 - ETA: 2s - loss: 0.0035 - acc: 0.997 - ETA: 2s - loss: 0.0034 - acc: 0.997 - ETA: 2s - loss: 0.0033 - acc: 0.997 - ETA: 2s - loss: 0.0042 - acc: 0.996 - ETA: 2s - loss: 0.0041 - acc: 0.996 - ETA: 2s - loss: 0.0040 - acc: 0.996 - ETA: 1s - loss: 0.0039 - acc: 0.996 - ETA: 1s - loss: 0.0038 - acc: 0.996 - ETA: 1s - loss: 0.0041 - acc: 0.996 - ETA: 1s - loss: 0.0044 - acc: 0.996 - ETA: 1s - loss: 0.0043 - acc: 0.997 - ETA: 1s - loss: 0.0042 - acc: 0.997 - ETA: 1s - loss: 0.0041 - acc: 0.997 - ETA: 1s - loss: 0.0040 - acc: 0.997 - ETA: 1s - loss: 0.0039 - acc: 0.997 - ETA: 1s - loss: 0.0039 - acc: 0.997 - ETA: 0s - loss: 0.0038 - acc: 0.997 - ETA: 0s - loss: 0.0037 - acc: 0.997 - ETA: 0s - loss: 0.0036 - acc: 0.997 - ETA: 0s - loss: 0.0036 - acc: 0.997 - ETA: 0s - loss: 0.0035 - acc: 0.997 - ETA: 0s - loss: 0.0034 - acc: 0.997 - ETA: 0s - loss: 0.0034 - acc: 0.997 - ETA: 0s - loss: 0.0033 - acc: 0.997 - ETA: 0s - loss: 0.0032 - acc: 0.997 - ETA: 0s - loss: 0.0032 - acc: 0.997 - 6s 3ms/step - loss: 0.0031 - acc: 0.9978 - val_loss: 0.9269 - val_acc: 0.8433\n",
      "\n",
      "Epoch 00063: val_acc did not improve from 0.91170\n",
      "Epoch 64/100\n"
     ]
    },
    {
     "name": "stdout",
     "output_type": "stream",
     "text": [
      "1808/1808 [==============================] - ETA: 5s - loss: 4.4015e-06 - acc: 1.000 - ETA: 5s - loss: 7.3698e-06 - acc: 1.000 - ETA: 5s - loss: 5.8986e-06 - acc: 1.000 - ETA: 5s - loss: 8.7044e-06 - acc: 1.000 - ETA: 5s - loss: 8.0230e-06 - acc: 1.000 - ETA: 4s - loss: 7.5824e-06 - acc: 1.000 - ETA: 4s - loss: 1.4738e-05 - acc: 1.000 - ETA: 4s - loss: 3.4954e-05 - acc: 1.000 - ETA: 4s - loss: 3.1251e-05 - acc: 1.000 - ETA: 4s - loss: 2.8390e-05 - acc: 1.000 - ETA: 4s - loss: 2.6150e-05 - acc: 1.000 - ETA: 4s - loss: 2.4705e-05 - acc: 1.000 - ETA: 4s - loss: 2.3218e-05 - acc: 1.000 - ETA: 4s - loss: 2.1711e-05 - acc: 1.000 - ETA: 4s - loss: 3.3813e-05 - acc: 1.000 - ETA: 4s - loss: 3.1889e-05 - acc: 1.000 - ETA: 3s - loss: 0.0018 - acc: 0.9982    - ETA: 3s - loss: 0.0017 - acc: 0.998 - ETA: 3s - loss: 0.0016 - acc: 0.998 - ETA: 3s - loss: 0.0015 - acc: 0.998 - ETA: 3s - loss: 0.0026 - acc: 0.997 - ETA: 3s - loss: 0.0025 - acc: 0.997 - ETA: 3s - loss: 0.0031 - acc: 0.997 - ETA: 3s - loss: 0.0030 - acc: 0.997 - ETA: 3s - loss: 0.0029 - acc: 0.997 - ETA: 3s - loss: 0.0028 - acc: 0.997 - ETA: 3s - loss: 0.0027 - acc: 0.997 - ETA: 2s - loss: 0.0026 - acc: 0.997 - ETA: 2s - loss: 0.0025 - acc: 0.997 - ETA: 2s - loss: 0.0024 - acc: 0.997 - ETA: 2s - loss: 0.0029 - acc: 0.998 - ETA: 2s - loss: 0.0028 - acc: 0.998 - ETA: 2s - loss: 0.0028 - acc: 0.998 - ETA: 2s - loss: 0.0027 - acc: 0.998 - ETA: 2s - loss: 0.0026 - acc: 0.998 - ETA: 2s - loss: 0.0025 - acc: 0.998 - ETA: 1s - loss: 0.0025 - acc: 0.998 - ETA: 1s - loss: 0.0024 - acc: 0.998 - ETA: 1s - loss: 0.0023 - acc: 0.998 - ETA: 1s - loss: 0.0023 - acc: 0.998 - ETA: 1s - loss: 0.0022 - acc: 0.998 - ETA: 1s - loss: 0.0022 - acc: 0.998 - ETA: 1s - loss: 0.0021 - acc: 0.998 - ETA: 1s - loss: 0.0026 - acc: 0.997 - ETA: 1s - loss: 0.0026 - acc: 0.997 - ETA: 1s - loss: 0.0025 - acc: 0.998 - ETA: 0s - loss: 0.0025 - acc: 0.998 - ETA: 0s - loss: 0.0028 - acc: 0.998 - ETA: 0s - loss: 0.0028 - acc: 0.998 - ETA: 0s - loss: 0.0027 - acc: 0.998 - ETA: 0s - loss: 0.0035 - acc: 0.997 - ETA: 0s - loss: 0.0034 - acc: 0.997 - ETA: 0s - loss: 0.0033 - acc: 0.997 - ETA: 0s - loss: 0.0033 - acc: 0.997 - ETA: 0s - loss: 0.0032 - acc: 0.997 - ETA: 0s - loss: 0.0031 - acc: 0.997 - 6s 3ms/step - loss: 0.0031 - acc: 0.9978 - val_loss: 0.9685 - val_acc: 0.8411\n",
      "\n",
      "Epoch 00064: val_acc did not improve from 0.91170\n",
      "Epoch 65/100\n",
      "1808/1808 [==============================] - ETA: 5s - loss: 4.6734e-06 - acc: 1.000 - ETA: 5s - loss: 8.7931e-06 - acc: 1.000 - ETA: 5s - loss: 7.2032e-06 - acc: 1.000 - ETA: 5s - loss: 6.4632e-06 - acc: 1.000 - ETA: 5s - loss: 6.9632e-06 - acc: 1.000 - ETA: 5s - loss: 2.3448e-05 - acc: 1.000 - ETA: 5s - loss: 2.6070e-05 - acc: 1.000 - ETA: 5s - loss: 2.7252e-05 - acc: 1.000 - ETA: 5s - loss: 2.4412e-05 - acc: 1.000 - ETA: 5s - loss: 2.2478e-05 - acc: 1.000 - ETA: 5s - loss: 2.0530e-05 - acc: 1.000 - ETA: 4s - loss: 1.9376e-05 - acc: 1.000 - ETA: 4s - loss: 1.8159e-05 - acc: 1.000 - ETA: 4s - loss: 1.7214e-05 - acc: 1.000 - ETA: 4s - loss: 1.6691e-05 - acc: 1.000 - ETA: 4s - loss: 1.5940e-05 - acc: 1.000 - ETA: 4s - loss: 1.5188e-05 - acc: 1.000 - ETA: 4s - loss: 1.6131e-05 - acc: 1.000 - ETA: 4s - loss: 8.2384e-04 - acc: 1.000 - ETA: 3s - loss: 7.8348e-04 - acc: 1.000 - ETA: 3s - loss: 7.4722e-04 - acc: 1.000 - ETA: 3s - loss: 0.0017 - acc: 0.9986    - ETA: 3s - loss: 0.0016 - acc: 0.998 - ETA: 3s - loss: 0.0016 - acc: 0.998 - ETA: 3s - loss: 0.0015 - acc: 0.998 - ETA: 3s - loss: 0.0020 - acc: 0.998 - ETA: 3s - loss: 0.0019 - acc: 0.998 - ETA: 3s - loss: 0.0018 - acc: 0.998 - ETA: 2s - loss: 0.0027 - acc: 0.997 - ETA: 2s - loss: 0.0026 - acc: 0.997 - ETA: 2s - loss: 0.0031 - acc: 0.998 - ETA: 2s - loss: 0.0030 - acc: 0.998 - ETA: 2s - loss: 0.0029 - acc: 0.998 - ETA: 2s - loss: 0.0028 - acc: 0.998 - ETA: 2s - loss: 0.0027 - acc: 0.998 - ETA: 2s - loss: 0.0027 - acc: 0.998 - ETA: 2s - loss: 0.0031 - acc: 0.998 - ETA: 1s - loss: 0.0030 - acc: 0.998 - ETA: 1s - loss: 0.0036 - acc: 0.997 - ETA: 1s - loss: 0.0035 - acc: 0.997 - ETA: 1s - loss: 0.0034 - acc: 0.997 - ETA: 1s - loss: 0.0034 - acc: 0.997 - ETA: 1s - loss: 0.0033 - acc: 0.997 - ETA: 1s - loss: 0.0041 - acc: 0.997 - ETA: 1s - loss: 0.0040 - acc: 0.997 - ETA: 1s - loss: 0.0039 - acc: 0.997 - ETA: 0s - loss: 0.0038 - acc: 0.997 - ETA: 0s - loss: 0.0037 - acc: 0.997 - ETA: 0s - loss: 0.0037 - acc: 0.997 - ETA: 0s - loss: 0.0036 - acc: 0.997 - ETA: 0s - loss: 0.0035 - acc: 0.997 - ETA: 0s - loss: 0.0035 - acc: 0.997 - ETA: 0s - loss: 0.0034 - acc: 0.997 - ETA: 0s - loss: 0.0033 - acc: 0.997 - ETA: 0s - loss: 0.0033 - acc: 0.997 - ETA: 0s - loss: 0.0032 - acc: 0.997 - 6s 3ms/step - loss: 0.0032 - acc: 0.9978 - val_loss: 0.9645 - val_acc: 0.8433\n",
      "\n",
      "Epoch 00065: val_acc did not improve from 0.91170\n",
      "Epoch 66/100\n",
      "1808/1808 [==============================] - ETA: 5s - loss: 1.1145e-05 - acc: 1.000 - ETA: 5s - loss: 0.0111 - acc: 0.9844    - ETA: 4s - loss: 0.0074 - acc: 0.989 - ETA: 4s - loss: 0.0056 - acc: 0.992 - ETA: 4s - loss: 0.0045 - acc: 0.993 - ETA: 4s - loss: 0.0037 - acc: 0.994 - ETA: 4s - loss: 0.0032 - acc: 0.995 - ETA: 4s - loss: 0.0028 - acc: 0.996 - ETA: 4s - loss: 0.0025 - acc: 0.996 - ETA: 4s - loss: 0.0022 - acc: 0.996 - ETA: 4s - loss: 0.0020 - acc: 0.997 - ETA: 4s - loss: 0.0019 - acc: 0.997 - ETA: 4s - loss: 0.0017 - acc: 0.997 - ETA: 4s - loss: 0.0016 - acc: 0.997 - ETA: 4s - loss: 0.0026 - acc: 0.997 - ETA: 4s - loss: 0.0036 - acc: 0.998 - ETA: 4s - loss: 0.0034 - acc: 0.998 - ETA: 3s - loss: 0.0032 - acc: 0.998 - ETA: 3s - loss: 0.0030 - acc: 0.998 - ETA: 3s - loss: 0.0029 - acc: 0.998 - ETA: 3s - loss: 0.0028 - acc: 0.998 - ETA: 3s - loss: 0.0026 - acc: 0.998 - ETA: 3s - loss: 0.0025 - acc: 0.998 - ETA: 3s - loss: 0.0024 - acc: 0.998 - ETA: 3s - loss: 0.0023 - acc: 0.998 - ETA: 3s - loss: 0.0022 - acc: 0.998 - ETA: 2s - loss: 0.0021 - acc: 0.998 - ETA: 2s - loss: 0.0021 - acc: 0.998 - ETA: 2s - loss: 0.0020 - acc: 0.998 - ETA: 2s - loss: 0.0019 - acc: 0.999 - ETA: 2s - loss: 0.0019 - acc: 0.999 - ETA: 2s - loss: 0.0018 - acc: 0.999 - ETA: 2s - loss: 0.0018 - acc: 0.999 - ETA: 2s - loss: 0.0022 - acc: 0.999 - ETA: 2s - loss: 0.0022 - acc: 0.999 - ETA: 2s - loss: 0.0021 - acc: 0.999 - ETA: 1s - loss: 0.0036 - acc: 0.997 - ETA: 1s - loss: 0.0042 - acc: 0.996 - ETA: 1s - loss: 0.0041 - acc: 0.996 - ETA: 1s - loss: 0.0040 - acc: 0.996 - ETA: 1s - loss: 0.0039 - acc: 0.997 - ETA: 1s - loss: 0.0038 - acc: 0.997 - ETA: 1s - loss: 0.0037 - acc: 0.997 - ETA: 1s - loss: 0.0036 - acc: 0.997 - ETA: 1s - loss: 0.0036 - acc: 0.997 - ETA: 1s - loss: 0.0035 - acc: 0.997 - ETA: 0s - loss: 0.0034 - acc: 0.997 - ETA: 0s - loss: 0.0037 - acc: 0.997 - ETA: 0s - loss: 0.0036 - acc: 0.997 - ETA: 0s - loss: 0.0035 - acc: 0.997 - ETA: 0s - loss: 0.0035 - acc: 0.997 - ETA: 0s - loss: 0.0034 - acc: 0.997 - ETA: 0s - loss: 0.0034 - acc: 0.997 - ETA: 0s - loss: 0.0033 - acc: 0.997 - ETA: 0s - loss: 0.0032 - acc: 0.997 - ETA: 0s - loss: 0.0032 - acc: 0.997 - 6s 3ms/step - loss: 0.0031 - acc: 0.9978 - val_loss: 0.9803 - val_acc: 0.8389\n",
      "\n",
      "Epoch 00066: val_acc did not improve from 0.91170\n",
      "Epoch 67/100\n"
     ]
    },
    {
     "name": "stdout",
     "output_type": "stream",
     "text": [
      "1808/1808 [==============================] - ETA: 4s - loss: 0.0196 - acc: 1.000 - ETA: 4s - loss: 0.0098 - acc: 1.000 - ETA: 4s - loss: 0.0066 - acc: 1.000 - ETA: 4s - loss: 0.0049 - acc: 1.000 - ETA: 4s - loss: 0.0039 - acc: 1.000 - ETA: 4s - loss: 0.0033 - acc: 1.000 - ETA: 4s - loss: 0.0028 - acc: 1.000 - ETA: 4s - loss: 0.0025 - acc: 1.000 - ETA: 4s - loss: 0.0022 - acc: 1.000 - ETA: 4s - loss: 0.0020 - acc: 1.000 - ETA: 4s - loss: 0.0018 - acc: 1.000 - ETA: 3s - loss: 0.0031 - acc: 1.000 - ETA: 3s - loss: 0.0028 - acc: 1.000 - ETA: 3s - loss: 0.0026 - acc: 1.000 - ETA: 3s - loss: 0.0024 - acc: 1.000 - ETA: 3s - loss: 0.0023 - acc: 1.000 - ETA: 3s - loss: 0.0022 - acc: 1.000 - ETA: 3s - loss: 0.0020 - acc: 1.000 - ETA: 3s - loss: 0.0019 - acc: 1.000 - ETA: 3s - loss: 0.0018 - acc: 1.000 - ETA: 3s - loss: 0.0017 - acc: 1.000 - ETA: 3s - loss: 0.0017 - acc: 1.000 - ETA: 3s - loss: 0.0016 - acc: 1.000 - ETA: 3s - loss: 0.0015 - acc: 1.000 - ETA: 3s - loss: 0.0015 - acc: 1.000 - ETA: 2s - loss: 0.0014 - acc: 1.000 - ETA: 2s - loss: 0.0014 - acc: 1.000 - ETA: 2s - loss: 0.0013 - acc: 1.000 - ETA: 2s - loss: 0.0013 - acc: 1.000 - ETA: 2s - loss: 0.0021 - acc: 0.999 - ETA: 2s - loss: 0.0020 - acc: 0.999 - ETA: 2s - loss: 0.0025 - acc: 0.999 - ETA: 2s - loss: 0.0024 - acc: 0.999 - ETA: 2s - loss: 0.0028 - acc: 0.999 - ETA: 2s - loss: 0.0027 - acc: 0.999 - ETA: 2s - loss: 0.0027 - acc: 0.999 - ETA: 1s - loss: 0.0026 - acc: 0.999 - ETA: 1s - loss: 0.0025 - acc: 0.999 - ETA: 1s - loss: 0.0025 - acc: 0.999 - ETA: 1s - loss: 0.0030 - acc: 0.998 - ETA: 1s - loss: 0.0030 - acc: 0.998 - ETA: 1s - loss: 0.0029 - acc: 0.998 - ETA: 1s - loss: 0.0028 - acc: 0.998 - ETA: 1s - loss: 0.0028 - acc: 0.998 - ETA: 1s - loss: 0.0027 - acc: 0.998 - ETA: 1s - loss: 0.0026 - acc: 0.998 - ETA: 0s - loss: 0.0026 - acc: 0.998 - ETA: 0s - loss: 0.0032 - acc: 0.998 - ETA: 0s - loss: 0.0031 - acc: 0.998 - ETA: 0s - loss: 0.0035 - acc: 0.997 - ETA: 0s - loss: 0.0034 - acc: 0.997 - ETA: 0s - loss: 0.0034 - acc: 0.997 - ETA: 0s - loss: 0.0033 - acc: 0.997 - ETA: 0s - loss: 0.0032 - acc: 0.997 - ETA: 0s - loss: 0.0032 - acc: 0.997 - ETA: 0s - loss: 0.0031 - acc: 0.997 - 6s 3ms/step - loss: 0.0031 - acc: 0.9978 - val_loss: 1.0058 - val_acc: 0.8389\n",
      "\n",
      "Epoch 00067: val_acc did not improve from 0.91170\n",
      "Epoch 68/100\n",
      "1808/1808 [==============================] - ETA: 5s - loss: 6.4636e-06 - acc: 1.000 - ETA: 5s - loss: 5.9541e-06 - acc: 1.000 - ETA: 5s - loss: 0.0065 - acc: 1.0000    - ETA: 5s - loss: 0.0049 - acc: 1.000 - ETA: 5s - loss: 0.0039 - acc: 1.000 - ETA: 5s - loss: 0.0033 - acc: 1.000 - ETA: 5s - loss: 0.0028 - acc: 1.000 - ETA: 4s - loss: 0.0025 - acc: 1.000 - ETA: 4s - loss: 0.0022 - acc: 1.000 - ETA: 4s - loss: 0.0020 - acc: 1.000 - ETA: 4s - loss: 0.0018 - acc: 1.000 - ETA: 4s - loss: 0.0017 - acc: 1.000 - ETA: 4s - loss: 0.0015 - acc: 1.000 - ETA: 4s - loss: 0.0014 - acc: 1.000 - ETA: 4s - loss: 0.0013 - acc: 1.000 - ETA: 4s - loss: 0.0012 - acc: 1.000 - ETA: 4s - loss: 0.0012 - acc: 1.000 - ETA: 3s - loss: 0.0011 - acc: 1.000 - ETA: 3s - loss: 0.0010 - acc: 1.000 - ETA: 3s - loss: 9.9507e-04 - acc: 1.000 - ETA: 3s - loss: 9.4802e-04 - acc: 1.000 - ETA: 3s - loss: 9.0617e-04 - acc: 1.000 - ETA: 3s - loss: 8.6697e-04 - acc: 1.000 - ETA: 3s - loss: 8.3116e-04 - acc: 1.000 - ETA: 3s - loss: 0.0018 - acc: 0.9988    - ETA: 3s - loss: 0.0017 - acc: 0.998 - ETA: 3s - loss: 0.0016 - acc: 0.998 - ETA: 2s - loss: 0.0016 - acc: 0.998 - ETA: 2s - loss: 0.0015 - acc: 0.998 - ETA: 2s - loss: 0.0015 - acc: 0.999 - ETA: 2s - loss: 0.0014 - acc: 0.999 - ETA: 2s - loss: 0.0014 - acc: 0.999 - ETA: 2s - loss: 0.0013 - acc: 0.999 - ETA: 2s - loss: 0.0013 - acc: 0.999 - ETA: 2s - loss: 0.0013 - acc: 0.999 - ETA: 2s - loss: 0.0023 - acc: 0.998 - ETA: 1s - loss: 0.0023 - acc: 0.998 - ETA: 1s - loss: 0.0022 - acc: 0.998 - ETA: 1s - loss: 0.0021 - acc: 0.998 - ETA: 1s - loss: 0.0021 - acc: 0.998 - ETA: 1s - loss: 0.0020 - acc: 0.998 - ETA: 1s - loss: 0.0020 - acc: 0.998 - ETA: 1s - loss: 0.0025 - acc: 0.997 - ETA: 1s - loss: 0.0025 - acc: 0.997 - ETA: 1s - loss: 0.0024 - acc: 0.997 - ETA: 1s - loss: 0.0023 - acc: 0.998 - ETA: 0s - loss: 0.0023 - acc: 0.998 - ETA: 0s - loss: 0.0023 - acc: 0.998 - ETA: 0s - loss: 0.0026 - acc: 0.998 - ETA: 0s - loss: 0.0025 - acc: 0.998 - ETA: 0s - loss: 0.0025 - acc: 0.998 - ETA: 0s - loss: 0.0030 - acc: 0.997 - ETA: 0s - loss: 0.0029 - acc: 0.997 - ETA: 0s - loss: 0.0032 - acc: 0.997 - ETA: 0s - loss: 0.0031 - acc: 0.997 - ETA: 0s - loss: 0.0031 - acc: 0.997 - 6s 3ms/step - loss: 0.0030 - acc: 0.9978 - val_loss: 1.0080 - val_acc: 0.8366\n",
      "\n",
      "Epoch 00068: val_acc did not improve from 0.91170\n",
      "Epoch 69/100\n",
      "1808/1808 [==============================] - ETA: 5s - loss: 9.1832e-06 - acc: 1.000 - ETA: 5s - loss: 6.6461e-06 - acc: 1.000 - ETA: 5s - loss: 5.7110e-06 - acc: 1.000 - ETA: 5s - loss: 5.9169e-06 - acc: 1.000 - ETA: 5s - loss: 5.1716e-06 - acc: 1.000 - ETA: 5s - loss: 4.7399e-06 - acc: 1.000 - ETA: 5s - loss: 4.4074e-06 - acc: 1.000 - ETA: 5s - loss: 4.5035e-06 - acc: 1.000 - ETA: 5s - loss: 4.6282e-06 - acc: 1.000 - ETA: 4s - loss: 5.2830e-06 - acc: 1.000 - ETA: 4s - loss: 8.3595e-06 - acc: 1.000 - ETA: 4s - loss: 0.0038 - acc: 0.9974    - ETA: 4s - loss: 0.0035 - acc: 0.997 - ETA: 4s - loss: 0.0033 - acc: 0.997 - ETA: 4s - loss: 0.0031 - acc: 0.997 - ETA: 4s - loss: 0.0029 - acc: 0.998 - ETA: 4s - loss: 0.0027 - acc: 0.998 - ETA: 3s - loss: 0.0026 - acc: 0.998 - ETA: 3s - loss: 0.0024 - acc: 0.998 - ETA: 3s - loss: 0.0023 - acc: 0.998 - ETA: 3s - loss: 0.0035 - acc: 0.997 - ETA: 3s - loss: 0.0033 - acc: 0.997 - ETA: 3s - loss: 0.0032 - acc: 0.997 - ETA: 3s - loss: 0.0031 - acc: 0.997 - ETA: 3s - loss: 0.0029 - acc: 0.997 - ETA: 3s - loss: 0.0028 - acc: 0.997 - ETA: 3s - loss: 0.0027 - acc: 0.997 - ETA: 2s - loss: 0.0026 - acc: 0.997 - ETA: 2s - loss: 0.0032 - acc: 0.997 - ETA: 2s - loss: 0.0030 - acc: 0.997 - ETA: 2s - loss: 0.0030 - acc: 0.998 - ETA: 2s - loss: 0.0029 - acc: 0.998 - ETA: 2s - loss: 0.0028 - acc: 0.998 - ETA: 2s - loss: 0.0027 - acc: 0.998 - ETA: 2s - loss: 0.0026 - acc: 0.998 - ETA: 2s - loss: 0.0025 - acc: 0.998 - ETA: 2s - loss: 0.0025 - acc: 0.998 - ETA: 1s - loss: 0.0024 - acc: 0.998 - ETA: 1s - loss: 0.0024 - acc: 0.998 - ETA: 1s - loss: 0.0023 - acc: 0.998 - ETA: 1s - loss: 0.0022 - acc: 0.998 - ETA: 1s - loss: 0.0022 - acc: 0.998 - ETA: 1s - loss: 0.0021 - acc: 0.998 - ETA: 1s - loss: 0.0026 - acc: 0.997 - ETA: 1s - loss: 0.0026 - acc: 0.997 - ETA: 1s - loss: 0.0029 - acc: 0.998 - ETA: 0s - loss: 0.0029 - acc: 0.998 - ETA: 0s - loss: 0.0028 - acc: 0.998 - ETA: 0s - loss: 0.0028 - acc: 0.998 - ETA: 0s - loss: 0.0031 - acc: 0.998 - ETA: 0s - loss: 0.0030 - acc: 0.998 - ETA: 0s - loss: 0.0029 - acc: 0.998 - ETA: 0s - loss: 0.0029 - acc: 0.998 - ETA: 0s - loss: 0.0028 - acc: 0.998 - ETA: 0s - loss: 0.0028 - acc: 0.998 - ETA: 0s - loss: 0.0027 - acc: 0.998 - 6s 3ms/step - loss: 0.0031 - acc: 0.9983 - val_loss: 1.0268 - val_acc: 0.8344\n",
      "\n",
      "Epoch 00069: val_acc did not improve from 0.91170\n",
      "Epoch 70/100\n"
     ]
    },
    {
     "name": "stdout",
     "output_type": "stream",
     "text": [
      "1808/1808 [==============================] - ETA: 5s - loss: 3.5707e-06 - acc: 1.000 - ETA: 5s - loss: 8.0423e-06 - acc: 1.000 - ETA: 5s - loss: 6.6598e-06 - acc: 1.000 - ETA: 5s - loss: 6.0640e-06 - acc: 1.000 - ETA: 4s - loss: 1.0617e-05 - acc: 1.000 - ETA: 4s - loss: 1.0196e-05 - acc: 1.000 - ETA: 4s - loss: 1.8627e-05 - acc: 1.000 - ETA: 4s - loss: 0.0024 - acc: 1.0000    - ETA: 4s - loss: 0.0021 - acc: 1.000 - ETA: 4s - loss: 0.0040 - acc: 1.000 - ETA: 4s - loss: 0.0037 - acc: 1.000 - ETA: 4s - loss: 0.0034 - acc: 1.000 - ETA: 3s - loss: 0.0031 - acc: 1.000 - ETA: 3s - loss: 0.0050 - acc: 0.997 - ETA: 3s - loss: 0.0063 - acc: 0.995 - ETA: 3s - loss: 0.0060 - acc: 0.996 - ETA: 3s - loss: 0.0056 - acc: 0.996 - ETA: 3s - loss: 0.0053 - acc: 0.996 - ETA: 3s - loss: 0.0063 - acc: 0.995 - ETA: 3s - loss: 0.0060 - acc: 0.995 - ETA: 3s - loss: 0.0057 - acc: 0.995 - ETA: 3s - loss: 0.0055 - acc: 0.995 - ETA: 3s - loss: 0.0052 - acc: 0.995 - ETA: 3s - loss: 0.0058 - acc: 0.996 - ETA: 2s - loss: 0.0055 - acc: 0.996 - ETA: 2s - loss: 0.0053 - acc: 0.996 - ETA: 2s - loss: 0.0051 - acc: 0.996 - ETA: 2s - loss: 0.0049 - acc: 0.996 - ETA: 2s - loss: 0.0048 - acc: 0.996 - ETA: 2s - loss: 0.0046 - acc: 0.996 - ETA: 2s - loss: 0.0045 - acc: 0.997 - ETA: 2s - loss: 0.0043 - acc: 0.997 - ETA: 2s - loss: 0.0042 - acc: 0.997 - ETA: 2s - loss: 0.0041 - acc: 0.997 - ETA: 1s - loss: 0.0040 - acc: 0.997 - ETA: 1s - loss: 0.0043 - acc: 0.997 - ETA: 1s - loss: 0.0042 - acc: 0.997 - ETA: 1s - loss: 0.0041 - acc: 0.997 - ETA: 1s - loss: 0.0040 - acc: 0.997 - ETA: 1s - loss: 0.0039 - acc: 0.997 - ETA: 1s - loss: 0.0038 - acc: 0.997 - ETA: 1s - loss: 0.0037 - acc: 0.997 - ETA: 1s - loss: 0.0036 - acc: 0.997 - ETA: 1s - loss: 0.0035 - acc: 0.997 - ETA: 1s - loss: 0.0035 - acc: 0.997 - ETA: 0s - loss: 0.0034 - acc: 0.998 - ETA: 0s - loss: 0.0033 - acc: 0.998 - ETA: 0s - loss: 0.0033 - acc: 0.998 - ETA: 0s - loss: 0.0032 - acc: 0.998 - ETA: 0s - loss: 0.0031 - acc: 0.998 - ETA: 0s - loss: 0.0031 - acc: 0.998 - ETA: 0s - loss: 0.0030 - acc: 0.998 - ETA: 0s - loss: 0.0029 - acc: 0.998 - ETA: 0s - loss: 0.0029 - acc: 0.998 - ETA: 0s - loss: 0.0028 - acc: 0.998 - ETA: 0s - loss: 0.0031 - acc: 0.998 - 6s 3ms/step - loss: 0.0031 - acc: 0.9983 - val_loss: 0.9599 - val_acc: 0.8433\n",
      "\n",
      "Epoch 00070: val_acc did not improve from 0.91170\n",
      "Epoch 71/100\n",
      "1808/1808 [==============================] - ETA: 4s - loss: 3.9005e-06 - acc: 1.000 - ETA: 4s - loss: 3.3669e-05 - acc: 1.000 - ETA: 4s - loss: 2.2768e-05 - acc: 1.000 - ETA: 4s - loss: 2.6661e-05 - acc: 1.000 - ETA: 4s - loss: 0.0038 - acc: 1.0000    - ETA: 4s - loss: 0.0031 - acc: 1.000 - ETA: 4s - loss: 0.0027 - acc: 1.000 - ETA: 4s - loss: 0.0024 - acc: 1.000 - ETA: 4s - loss: 0.0021 - acc: 1.000 - ETA: 4s - loss: 0.0019 - acc: 1.000 - ETA: 4s - loss: 0.0017 - acc: 1.000 - ETA: 3s - loss: 0.0016 - acc: 1.000 - ETA: 3s - loss: 0.0015 - acc: 1.000 - ETA: 3s - loss: 0.0013 - acc: 1.000 - ETA: 3s - loss: 0.0013 - acc: 1.000 - ETA: 3s - loss: 0.0012 - acc: 1.000 - ETA: 3s - loss: 0.0011 - acc: 1.000 - ETA: 3s - loss: 0.0010 - acc: 1.000 - ETA: 3s - loss: 0.0020 - acc: 1.000 - ETA: 3s - loss: 0.0019 - acc: 1.000 - ETA: 3s - loss: 0.0032 - acc: 0.998 - ETA: 3s - loss: 0.0031 - acc: 0.998 - ETA: 2s - loss: 0.0030 - acc: 0.998 - ETA: 2s - loss: 0.0028 - acc: 0.998 - ETA: 2s - loss: 0.0027 - acc: 0.998 - ETA: 2s - loss: 0.0026 - acc: 0.998 - ETA: 2s - loss: 0.0031 - acc: 0.998 - ETA: 2s - loss: 0.0030 - acc: 0.998 - ETA: 2s - loss: 0.0029 - acc: 0.998 - ETA: 2s - loss: 0.0028 - acc: 0.999 - ETA: 2s - loss: 0.0027 - acc: 0.999 - ETA: 2s - loss: 0.0026 - acc: 0.999 - ETA: 2s - loss: 0.0025 - acc: 0.999 - ETA: 2s - loss: 0.0025 - acc: 0.999 - ETA: 1s - loss: 0.0030 - acc: 0.999 - ETA: 1s - loss: 0.0029 - acc: 0.999 - ETA: 1s - loss: 0.0028 - acc: 0.999 - ETA: 1s - loss: 0.0028 - acc: 0.999 - ETA: 1s - loss: 0.0027 - acc: 0.999 - ETA: 1s - loss: 0.0026 - acc: 0.999 - ETA: 1s - loss: 0.0026 - acc: 0.999 - ETA: 1s - loss: 0.0025 - acc: 0.999 - ETA: 1s - loss: 0.0024 - acc: 0.999 - ETA: 1s - loss: 0.0024 - acc: 0.999 - ETA: 1s - loss: 0.0023 - acc: 0.999 - ETA: 0s - loss: 0.0023 - acc: 0.999 - ETA: 0s - loss: 0.0022 - acc: 0.999 - ETA: 0s - loss: 0.0027 - acc: 0.998 - ETA: 0s - loss: 0.0027 - acc: 0.998 - ETA: 0s - loss: 0.0031 - acc: 0.998 - ETA: 0s - loss: 0.0031 - acc: 0.998 - ETA: 0s - loss: 0.0030 - acc: 0.998 - ETA: 0s - loss: 0.0030 - acc: 0.998 - ETA: 0s - loss: 0.0029 - acc: 0.998 - ETA: 0s - loss: 0.0029 - acc: 0.998 - ETA: 0s - loss: 0.0031 - acc: 0.998 - 6s 3ms/step - loss: 0.0031 - acc: 0.9983 - val_loss: 0.9638 - val_acc: 0.8455\n",
      "\n",
      "Epoch 00071: val_acc did not improve from 0.91170\n",
      "Epoch 72/100\n",
      "1808/1808 [==============================] - ETA: 4s - loss: 7.7061e-06 - acc: 1.000 - ETA: 4s - loss: 0.0141 - acc: 0.9844    - ETA: 4s - loss: 0.0094 - acc: 0.989 - ETA: 4s - loss: 0.0071 - acc: 0.992 - ETA: 4s - loss: 0.0057 - acc: 0.993 - ETA: 4s - loss: 0.0047 - acc: 0.994 - ETA: 4s - loss: 0.0041 - acc: 0.995 - ETA: 4s - loss: 0.0035 - acc: 0.996 - ETA: 4s - loss: 0.0032 - acc: 0.996 - ETA: 3s - loss: 0.0028 - acc: 0.996 - ETA: 3s - loss: 0.0026 - acc: 0.997 - ETA: 3s - loss: 0.0024 - acc: 0.997 - ETA: 3s - loss: 0.0022 - acc: 0.997 - ETA: 3s - loss: 0.0020 - acc: 0.997 - ETA: 3s - loss: 0.0035 - acc: 0.995 - ETA: 3s - loss: 0.0033 - acc: 0.996 - ETA: 3s - loss: 0.0031 - acc: 0.996 - ETA: 3s - loss: 0.0029 - acc: 0.996 - ETA: 3s - loss: 0.0028 - acc: 0.996 - ETA: 3s - loss: 0.0026 - acc: 0.996 - ETA: 3s - loss: 0.0025 - acc: 0.997 - ETA: 2s - loss: 0.0035 - acc: 0.995 - ETA: 2s - loss: 0.0033 - acc: 0.995 - ETA: 2s - loss: 0.0032 - acc: 0.996 - ETA: 2s - loss: 0.0031 - acc: 0.996 - ETA: 2s - loss: 0.0029 - acc: 0.996 - ETA: 2s - loss: 0.0028 - acc: 0.996 - ETA: 2s - loss: 0.0027 - acc: 0.996 - ETA: 2s - loss: 0.0026 - acc: 0.996 - ETA: 2s - loss: 0.0025 - acc: 0.996 - ETA: 2s - loss: 0.0025 - acc: 0.997 - ETA: 2s - loss: 0.0024 - acc: 0.997 - ETA: 2s - loss: 0.0023 - acc: 0.997 - ETA: 1s - loss: 0.0023 - acc: 0.997 - ETA: 1s - loss: 0.0028 - acc: 0.997 - ETA: 1s - loss: 0.0027 - acc: 0.997 - ETA: 1s - loss: 0.0026 - acc: 0.997 - ETA: 1s - loss: 0.0026 - acc: 0.997 - ETA: 1s - loss: 0.0030 - acc: 0.997 - ETA: 1s - loss: 0.0029 - acc: 0.997 - ETA: 1s - loss: 0.0028 - acc: 0.997 - ETA: 1s - loss: 0.0028 - acc: 0.997 - ETA: 1s - loss: 0.0027 - acc: 0.997 - ETA: 1s - loss: 0.0031 - acc: 0.997 - ETA: 1s - loss: 0.0030 - acc: 0.997 - ETA: 0s - loss: 0.0034 - acc: 0.998 - ETA: 0s - loss: 0.0033 - acc: 0.998 - ETA: 0s - loss: 0.0032 - acc: 0.998 - ETA: 0s - loss: 0.0032 - acc: 0.998 - ETA: 0s - loss: 0.0031 - acc: 0.998 - ETA: 0s - loss: 0.0030 - acc: 0.998 - ETA: 0s - loss: 0.0030 - acc: 0.998 - ETA: 0s - loss: 0.0029 - acc: 0.998 - ETA: 0s - loss: 0.0029 - acc: 0.998 - ETA: 0s - loss: 0.0032 - acc: 0.998 - ETA: 0s - loss: 0.0031 - acc: 0.998 - 5s 3ms/step - loss: 0.0031 - acc: 0.9983 - val_loss: 1.0091 - val_acc: 0.8366\n",
      "\n",
      "Epoch 00072: val_acc did not improve from 0.91170\n",
      "Epoch 73/100\n"
     ]
    },
    {
     "name": "stdout",
     "output_type": "stream",
     "text": [
      "1808/1808 [==============================] - ETA: 4s - loss: 2.9468e-06 - acc: 1.000 - ETA: 4s - loss: 2.6822e-06 - acc: 1.000 - ETA: 4s - loss: 1.2179e-05 - acc: 1.000 - ETA: 4s - loss: 9.7423e-06 - acc: 1.000 - ETA: 4s - loss: 7.9619e-06 - acc: 1.000 - ETA: 4s - loss: 7.7388e-06 - acc: 1.000 - ETA: 4s - loss: 7.7616e-06 - acc: 1.000 - ETA: 4s - loss: 7.4517e-06 - acc: 1.000 - ETA: 4s - loss: 6.9740e-06 - acc: 1.000 - ETA: 4s - loss: 0.0016 - acc: 1.0000    - ETA: 4s - loss: 0.0014 - acc: 1.000 - ETA: 4s - loss: 0.0013 - acc: 1.000 - ETA: 4s - loss: 0.0012 - acc: 1.000 - ETA: 4s - loss: 0.0011 - acc: 1.000 - ETA: 4s - loss: 0.0011 - acc: 1.000 - ETA: 3s - loss: 9.9580e-04 - acc: 1.000 - ETA: 3s - loss: 9.3733e-04 - acc: 1.000 - ETA: 3s - loss: 8.8539e-04 - acc: 1.000 - ETA: 3s - loss: 8.3887e-04 - acc: 1.000 - ETA: 3s - loss: 7.9857e-04 - acc: 1.000 - ETA: 3s - loss: 0.0023 - acc: 0.9985    - ETA: 3s - loss: 0.0022 - acc: 0.998 - ETA: 3s - loss: 0.0021 - acc: 0.998 - ETA: 3s - loss: 0.0020 - acc: 0.998 - ETA: 3s - loss: 0.0019 - acc: 0.998 - ETA: 3s - loss: 0.0025 - acc: 0.998 - ETA: 2s - loss: 0.0024 - acc: 0.998 - ETA: 2s - loss: 0.0024 - acc: 0.998 - ETA: 2s - loss: 0.0023 - acc: 0.998 - ETA: 2s - loss: 0.0022 - acc: 0.999 - ETA: 2s - loss: 0.0021 - acc: 0.999 - ETA: 2s - loss: 0.0021 - acc: 0.999 - ETA: 2s - loss: 0.0020 - acc: 0.999 - ETA: 2s - loss: 0.0019 - acc: 0.999 - ETA: 2s - loss: 0.0019 - acc: 0.999 - ETA: 1s - loss: 0.0018 - acc: 0.999 - ETA: 1s - loss: 0.0018 - acc: 0.999 - ETA: 1s - loss: 0.0024 - acc: 0.998 - ETA: 1s - loss: 0.0023 - acc: 0.998 - ETA: 1s - loss: 0.0023 - acc: 0.998 - ETA: 1s - loss: 0.0022 - acc: 0.998 - ETA: 1s - loss: 0.0022 - acc: 0.998 - ETA: 1s - loss: 0.0021 - acc: 0.998 - ETA: 1s - loss: 0.0021 - acc: 0.998 - ETA: 1s - loss: 0.0020 - acc: 0.998 - ETA: 1s - loss: 0.0024 - acc: 0.998 - ETA: 0s - loss: 0.0023 - acc: 0.998 - ETA: 0s - loss: 0.0026 - acc: 0.998 - ETA: 0s - loss: 0.0026 - acc: 0.998 - ETA: 0s - loss: 0.0025 - acc: 0.998 - ETA: 0s - loss: 0.0025 - acc: 0.998 - ETA: 0s - loss: 0.0024 - acc: 0.998 - ETA: 0s - loss: 0.0024 - acc: 0.998 - ETA: 0s - loss: 0.0023 - acc: 0.998 - ETA: 0s - loss: 0.0028 - acc: 0.998 - ETA: 0s - loss: 0.0027 - acc: 0.998 - 6s 3ms/step - loss: 0.0031 - acc: 0.9983 - val_loss: 1.0365 - val_acc: 0.8366\n",
      "\n",
      "Epoch 00073: val_acc did not improve from 0.91170\n",
      "Epoch 74/100\n",
      "1808/1808 [==============================] - ETA: 4s - loss: 1.8589e-06 - acc: 1.000 - ETA: 4s - loss: 1.5497e-06 - acc: 1.000 - ETA: 4s - loss: 2.4407e-06 - acc: 1.000 - ETA: 4s - loss: 7.4191e-06 - acc: 1.000 - ETA: 4s - loss: 6.2576e-06 - acc: 1.000 - ETA: 4s - loss: 5.5027e-06 - acc: 1.000 - ETA: 4s - loss: 0.0027 - acc: 1.0000    - ETA: 4s - loss: 0.0024 - acc: 1.000 - ETA: 4s - loss: 0.0021 - acc: 1.000 - ETA: 4s - loss: 0.0019 - acc: 1.000 - ETA: 4s - loss: 0.0017 - acc: 1.000 - ETA: 3s - loss: 0.0016 - acc: 1.000 - ETA: 3s - loss: 0.0015 - acc: 1.000 - ETA: 3s - loss: 0.0014 - acc: 1.000 - ETA: 3s - loss: 0.0013 - acc: 1.000 - ETA: 3s - loss: 0.0012 - acc: 1.000 - ETA: 3s - loss: 0.0029 - acc: 1.000 - ETA: 3s - loss: 0.0027 - acc: 1.000 - ETA: 3s - loss: 0.0026 - acc: 1.000 - ETA: 3s - loss: 0.0025 - acc: 1.000 - ETA: 3s - loss: 0.0036 - acc: 0.998 - ETA: 3s - loss: 0.0034 - acc: 0.998 - ETA: 2s - loss: 0.0033 - acc: 0.998 - ETA: 2s - loss: 0.0031 - acc: 0.998 - ETA: 2s - loss: 0.0030 - acc: 0.998 - ETA: 2s - loss: 0.0029 - acc: 0.998 - ETA: 2s - loss: 0.0028 - acc: 0.998 - ETA: 2s - loss: 0.0027 - acc: 0.998 - ETA: 2s - loss: 0.0026 - acc: 0.998 - ETA: 2s - loss: 0.0025 - acc: 0.999 - ETA: 2s - loss: 0.0031 - acc: 0.999 - ETA: 2s - loss: 0.0030 - acc: 0.999 - ETA: 2s - loss: 0.0029 - acc: 0.999 - ETA: 1s - loss: 0.0028 - acc: 0.999 - ETA: 1s - loss: 0.0027 - acc: 0.999 - ETA: 1s - loss: 0.0027 - acc: 0.999 - ETA: 1s - loss: 0.0026 - acc: 0.999 - ETA: 1s - loss: 0.0025 - acc: 0.999 - ETA: 1s - loss: 0.0025 - acc: 0.999 - ETA: 1s - loss: 0.0031 - acc: 0.998 - ETA: 1s - loss: 0.0030 - acc: 0.998 - ETA: 1s - loss: 0.0029 - acc: 0.998 - ETA: 1s - loss: 0.0029 - acc: 0.998 - ETA: 1s - loss: 0.0028 - acc: 0.998 - ETA: 1s - loss: 0.0027 - acc: 0.998 - ETA: 0s - loss: 0.0027 - acc: 0.998 - ETA: 0s - loss: 0.0026 - acc: 0.998 - ETA: 0s - loss: 0.0033 - acc: 0.998 - ETA: 0s - loss: 0.0032 - acc: 0.998 - ETA: 0s - loss: 0.0032 - acc: 0.998 - ETA: 0s - loss: 0.0031 - acc: 0.998 - ETA: 0s - loss: 0.0034 - acc: 0.998 - ETA: 0s - loss: 0.0033 - acc: 0.998 - ETA: 0s - loss: 0.0033 - acc: 0.998 - ETA: 0s - loss: 0.0032 - acc: 0.998 - ETA: 0s - loss: 0.0032 - acc: 0.998 - 5s 3ms/step - loss: 0.0031 - acc: 0.9983 - val_loss: 1.0247 - val_acc: 0.8366\n",
      "\n",
      "Epoch 00074: val_acc did not improve from 0.91170\n",
      "Epoch 75/100\n",
      "1808/1808 [==============================] - ETA: 5s - loss: 8.8907e-06 - acc: 1.000 - ETA: 5s - loss: 5.2919e-06 - acc: 1.000 - ETA: 5s - loss: 4.3947e-06 - acc: 1.000 - ETA: 5s - loss: 3.9070e-06 - acc: 1.000 - ETA: 5s - loss: 4.3449e-06 - acc: 1.000 - ETA: 5s - loss: 4.0107e-06 - acc: 1.000 - ETA: 5s - loss: 0.0029 - acc: 1.0000    - ETA: 4s - loss: 0.0026 - acc: 1.000 - ETA: 4s - loss: 0.0075 - acc: 0.996 - ETA: 4s - loss: 0.0068 - acc: 0.996 - ETA: 4s - loss: 0.0062 - acc: 0.997 - ETA: 4s - loss: 0.0056 - acc: 0.997 - ETA: 4s - loss: 0.0052 - acc: 0.997 - ETA: 4s - loss: 0.0062 - acc: 0.997 - ETA: 4s - loss: 0.0058 - acc: 0.997 - ETA: 4s - loss: 0.0054 - acc: 0.998 - ETA: 4s - loss: 0.0051 - acc: 0.998 - ETA: 3s - loss: 0.0048 - acc: 0.998 - ETA: 3s - loss: 0.0046 - acc: 0.998 - ETA: 3s - loss: 0.0044 - acc: 0.998 - ETA: 3s - loss: 0.0041 - acc: 0.998 - ETA: 3s - loss: 0.0040 - acc: 0.998 - ETA: 3s - loss: 0.0045 - acc: 0.998 - ETA: 3s - loss: 0.0044 - acc: 0.998 - ETA: 3s - loss: 0.0042 - acc: 0.998 - ETA: 2s - loss: 0.0040 - acc: 0.998 - ETA: 2s - loss: 0.0039 - acc: 0.998 - ETA: 2s - loss: 0.0037 - acc: 0.998 - ETA: 2s - loss: 0.0036 - acc: 0.998 - ETA: 2s - loss: 0.0035 - acc: 0.999 - ETA: 2s - loss: 0.0034 - acc: 0.999 - ETA: 2s - loss: 0.0033 - acc: 0.999 - ETA: 2s - loss: 0.0037 - acc: 0.999 - ETA: 2s - loss: 0.0043 - acc: 0.998 - ETA: 2s - loss: 0.0042 - acc: 0.998 - ETA: 1s - loss: 0.0041 - acc: 0.998 - ETA: 1s - loss: 0.0046 - acc: 0.997 - ETA: 1s - loss: 0.0045 - acc: 0.997 - ETA: 1s - loss: 0.0044 - acc: 0.997 - ETA: 1s - loss: 0.0043 - acc: 0.997 - ETA: 1s - loss: 0.0042 - acc: 0.997 - ETA: 1s - loss: 0.0041 - acc: 0.997 - ETA: 1s - loss: 0.0040 - acc: 0.997 - ETA: 1s - loss: 0.0039 - acc: 0.997 - ETA: 1s - loss: 0.0038 - acc: 0.997 - ETA: 1s - loss: 0.0037 - acc: 0.998 - ETA: 0s - loss: 0.0037 - acc: 0.998 - ETA: 0s - loss: 0.0036 - acc: 0.998 - ETA: 0s - loss: 0.0035 - acc: 0.998 - ETA: 0s - loss: 0.0034 - acc: 0.998 - ETA: 0s - loss: 0.0034 - acc: 0.998 - ETA: 0s - loss: 0.0033 - acc: 0.998 - ETA: 0s - loss: 0.0032 - acc: 0.998 - ETA: 0s - loss: 0.0032 - acc: 0.998 - ETA: 0s - loss: 0.0031 - acc: 0.998 - ETA: 0s - loss: 0.0031 - acc: 0.998 - 6s 3ms/step - loss: 0.0030 - acc: 0.9983 - val_loss: 1.0269 - val_acc: 0.8366\n",
      "\n",
      "Epoch 00075: val_acc did not improve from 0.91170\n",
      "Epoch 76/100\n"
     ]
    },
    {
     "name": "stdout",
     "output_type": "stream",
     "text": [
      "1808/1808 [==============================] - ETA: 4s - loss: 1.8217e-06 - acc: 1.000 - ETA: 4s - loss: 2.8974e-06 - acc: 1.000 - ETA: 4s - loss: 2.5469e-06 - acc: 1.000 - ETA: 4s - loss: 2.5793e-06 - acc: 1.000 - ETA: 4s - loss: 2.3555e-06 - acc: 1.000 - ETA: 4s - loss: 2.9775e-06 - acc: 1.000 - ETA: 4s - loss: 2.9396e-06 - acc: 1.000 - ETA: 4s - loss: 3.9469e-06 - acc: 1.000 - ETA: 4s - loss: 4.0872e-06 - acc: 1.000 - ETA: 4s - loss: 3.7664e-06 - acc: 1.000 - ETA: 3s - loss: 0.0022 - acc: 0.9972    - ETA: 3s - loss: 0.0021 - acc: 0.997 - ETA: 3s - loss: 0.0019 - acc: 0.997 - ETA: 3s - loss: 0.0031 - acc: 0.997 - ETA: 3s - loss: 0.0029 - acc: 0.997 - ETA: 3s - loss: 0.0043 - acc: 0.996 - ETA: 3s - loss: 0.0040 - acc: 0.996 - ETA: 3s - loss: 0.0038 - acc: 0.996 - ETA: 3s - loss: 0.0036 - acc: 0.996 - ETA: 3s - loss: 0.0034 - acc: 0.996 - ETA: 3s - loss: 0.0033 - acc: 0.997 - ETA: 2s - loss: 0.0031 - acc: 0.997 - ETA: 2s - loss: 0.0030 - acc: 0.997 - ETA: 2s - loss: 0.0028 - acc: 0.997 - ETA: 2s - loss: 0.0027 - acc: 0.997 - ETA: 2s - loss: 0.0026 - acc: 0.997 - ETA: 2s - loss: 0.0025 - acc: 0.997 - ETA: 2s - loss: 0.0024 - acc: 0.997 - ETA: 2s - loss: 0.0024 - acc: 0.997 - ETA: 2s - loss: 0.0029 - acc: 0.997 - ETA: 2s - loss: 0.0034 - acc: 0.998 - ETA: 2s - loss: 0.0033 - acc: 0.998 - ETA: 2s - loss: 0.0032 - acc: 0.998 - ETA: 1s - loss: 0.0031 - acc: 0.998 - ETA: 1s - loss: 0.0030 - acc: 0.998 - ETA: 1s - loss: 0.0029 - acc: 0.998 - ETA: 1s - loss: 0.0028 - acc: 0.998 - ETA: 1s - loss: 0.0028 - acc: 0.998 - ETA: 1s - loss: 0.0027 - acc: 0.998 - ETA: 1s - loss: 0.0026 - acc: 0.998 - ETA: 1s - loss: 0.0026 - acc: 0.998 - ETA: 1s - loss: 0.0025 - acc: 0.998 - ETA: 1s - loss: 0.0028 - acc: 0.998 - ETA: 1s - loss: 0.0027 - acc: 0.998 - ETA: 1s - loss: 0.0027 - acc: 0.998 - ETA: 0s - loss: 0.0031 - acc: 0.998 - ETA: 0s - loss: 0.0030 - acc: 0.998 - ETA: 0s - loss: 0.0029 - acc: 0.998 - ETA: 0s - loss: 0.0029 - acc: 0.998 - ETA: 0s - loss: 0.0028 - acc: 0.998 - ETA: 0s - loss: 0.0028 - acc: 0.998 - ETA: 0s - loss: 0.0027 - acc: 0.998 - ETA: 0s - loss: 0.0027 - acc: 0.998 - ETA: 0s - loss: 0.0026 - acc: 0.998 - ETA: 0s - loss: 0.0032 - acc: 0.998 - ETA: 0s - loss: 0.0031 - acc: 0.998 - 5s 3ms/step - loss: 0.0031 - acc: 0.9983 - val_loss: 1.0533 - val_acc: 0.8389\n",
      "\n",
      "Epoch 00076: val_acc did not improve from 0.91170\n",
      "Epoch 77/100\n",
      "1808/1808 [==============================] - ETA: 4s - loss: 1.2219e-06 - acc: 1.000 - ETA: 4s - loss: 8.4844e-07 - acc: 1.000 - ETA: 4s - loss: 9.8162e-07 - acc: 1.000 - ETA: 4s - loss: 1.2084e-06 - acc: 1.000 - ETA: 4s - loss: 2.0005e-06 - acc: 1.000 - ETA: 4s - loss: 2.1424e-06 - acc: 1.000 - ETA: 4s - loss: 0.0036 - acc: 0.9955    - ETA: 4s - loss: 0.0031 - acc: 0.996 - ETA: 4s - loss: 0.0028 - acc: 0.996 - ETA: 3s - loss: 0.0041 - acc: 0.996 - ETA: 3s - loss: 0.0037 - acc: 0.997 - ETA: 3s - loss: 0.0034 - acc: 0.997 - ETA: 3s - loss: 0.0032 - acc: 0.997 - ETA: 3s - loss: 0.0029 - acc: 0.997 - ETA: 3s - loss: 0.0027 - acc: 0.997 - ETA: 3s - loss: 0.0026 - acc: 0.998 - ETA: 3s - loss: 0.0024 - acc: 0.998 - ETA: 3s - loss: 0.0023 - acc: 0.998 - ETA: 3s - loss: 0.0035 - acc: 0.996 - ETA: 3s - loss: 0.0033 - acc: 0.996 - ETA: 3s - loss: 0.0031 - acc: 0.997 - ETA: 3s - loss: 0.0030 - acc: 0.997 - ETA: 2s - loss: 0.0029 - acc: 0.997 - ETA: 2s - loss: 0.0042 - acc: 0.997 - ETA: 2s - loss: 0.0041 - acc: 0.997 - ETA: 2s - loss: 0.0039 - acc: 0.997 - ETA: 2s - loss: 0.0038 - acc: 0.997 - ETA: 2s - loss: 0.0036 - acc: 0.997 - ETA: 2s - loss: 0.0035 - acc: 0.997 - ETA: 2s - loss: 0.0041 - acc: 0.997 - ETA: 2s - loss: 0.0039 - acc: 0.998 - ETA: 2s - loss: 0.0038 - acc: 0.998 - ETA: 2s - loss: 0.0037 - acc: 0.998 - ETA: 1s - loss: 0.0036 - acc: 0.998 - ETA: 1s - loss: 0.0035 - acc: 0.998 - ETA: 1s - loss: 0.0034 - acc: 0.998 - ETA: 1s - loss: 0.0033 - acc: 0.998 - ETA: 1s - loss: 0.0032 - acc: 0.998 - ETA: 1s - loss: 0.0031 - acc: 0.998 - ETA: 1s - loss: 0.0030 - acc: 0.998 - ETA: 1s - loss: 0.0037 - acc: 0.997 - ETA: 1s - loss: 0.0036 - acc: 0.997 - ETA: 1s - loss: 0.0036 - acc: 0.997 - ETA: 1s - loss: 0.0035 - acc: 0.997 - ETA: 1s - loss: 0.0034 - acc: 0.997 - ETA: 0s - loss: 0.0033 - acc: 0.998 - ETA: 0s - loss: 0.0033 - acc: 0.998 - ETA: 0s - loss: 0.0036 - acc: 0.998 - ETA: 0s - loss: 0.0035 - acc: 0.998 - ETA: 0s - loss: 0.0034 - acc: 0.998 - ETA: 0s - loss: 0.0034 - acc: 0.998 - ETA: 0s - loss: 0.0033 - acc: 0.998 - ETA: 0s - loss: 0.0033 - acc: 0.998 - ETA: 0s - loss: 0.0032 - acc: 0.998 - ETA: 0s - loss: 0.0031 - acc: 0.998 - ETA: 0s - loss: 0.0031 - acc: 0.998 - 5s 3ms/step - loss: 0.0031 - acc: 0.9983 - val_loss: 1.0470 - val_acc: 0.8366\n",
      "\n",
      "Epoch 00077: val_acc did not improve from 0.91170\n",
      "Epoch 78/100\n",
      "1808/1808 [==============================] - ETA: 4s - loss: 0.0192 - acc: 1.000 - ETA: 5s - loss: 0.0096 - acc: 1.000 - ETA: 5s - loss: 0.0064 - acc: 1.000 - ETA: 4s - loss: 0.0048 - acc: 1.000 - ETA: 4s - loss: 0.0038 - acc: 1.000 - ETA: 4s - loss: 0.0032 - acc: 1.000 - ETA: 4s - loss: 0.0028 - acc: 1.000 - ETA: 4s - loss: 0.0024 - acc: 1.000 - ETA: 4s - loss: 0.0021 - acc: 1.000 - ETA: 4s - loss: 0.0019 - acc: 1.000 - ETA: 4s - loss: 0.0055 - acc: 0.997 - ETA: 4s - loss: 0.0050 - acc: 0.997 - ETA: 3s - loss: 0.0046 - acc: 0.997 - ETA: 3s - loss: 0.0043 - acc: 0.997 - ETA: 3s - loss: 0.0040 - acc: 0.997 - ETA: 3s - loss: 0.0049 - acc: 0.998 - ETA: 3s - loss: 0.0056 - acc: 0.998 - ETA: 3s - loss: 0.0053 - acc: 0.998 - ETA: 3s - loss: 0.0050 - acc: 0.998 - ETA: 3s - loss: 0.0047 - acc: 0.998 - ETA: 3s - loss: 0.0045 - acc: 0.998 - ETA: 3s - loss: 0.0043 - acc: 0.998 - ETA: 3s - loss: 0.0041 - acc: 0.998 - ETA: 2s - loss: 0.0040 - acc: 0.998 - ETA: 2s - loss: 0.0038 - acc: 0.998 - ETA: 2s - loss: 0.0044 - acc: 0.998 - ETA: 2s - loss: 0.0043 - acc: 0.998 - ETA: 2s - loss: 0.0041 - acc: 0.998 - ETA: 2s - loss: 0.0040 - acc: 0.998 - ETA: 2s - loss: 0.0047 - acc: 0.997 - ETA: 2s - loss: 0.0046 - acc: 0.998 - ETA: 2s - loss: 0.0044 - acc: 0.998 - ETA: 2s - loss: 0.0043 - acc: 0.998 - ETA: 1s - loss: 0.0042 - acc: 0.998 - ETA: 1s - loss: 0.0040 - acc: 0.998 - ETA: 1s - loss: 0.0039 - acc: 0.998 - ETA: 1s - loss: 0.0038 - acc: 0.998 - ETA: 1s - loss: 0.0037 - acc: 0.998 - ETA: 1s - loss: 0.0036 - acc: 0.998 - ETA: 1s - loss: 0.0035 - acc: 0.998 - ETA: 1s - loss: 0.0035 - acc: 0.998 - ETA: 1s - loss: 0.0034 - acc: 0.998 - ETA: 1s - loss: 0.0033 - acc: 0.998 - ETA: 1s - loss: 0.0032 - acc: 0.998 - ETA: 1s - loss: 0.0031 - acc: 0.998 - ETA: 0s - loss: 0.0031 - acc: 0.998 - ETA: 0s - loss: 0.0030 - acc: 0.998 - ETA: 0s - loss: 0.0029 - acc: 0.998 - ETA: 0s - loss: 0.0029 - acc: 0.998 - ETA: 0s - loss: 0.0028 - acc: 0.998 - ETA: 0s - loss: 0.0028 - acc: 0.998 - ETA: 0s - loss: 0.0027 - acc: 0.998 - ETA: 0s - loss: 0.0033 - acc: 0.998 - ETA: 0s - loss: 0.0032 - acc: 0.998 - ETA: 0s - loss: 0.0032 - acc: 0.998 - ETA: 0s - loss: 0.0031 - acc: 0.998 - 5s 3ms/step - loss: 0.0031 - acc: 0.9983 - val_loss: 1.0246 - val_acc: 0.8433\n",
      "\n",
      "Epoch 00078: val_acc did not improve from 0.91170\n",
      "Epoch 79/100\n"
     ]
    },
    {
     "name": "stdout",
     "output_type": "stream",
     "text": [
      "1808/1808 [==============================] - ETA: 4s - loss: 1.4603e-06 - acc: 1.000 - ETA: 4s - loss: 1.9400e-06 - acc: 1.000 - ETA: 4s - loss: 2.2687e-06 - acc: 1.000 - ETA: 4s - loss: 2.2971e-06 - acc: 1.000 - ETA: 4s - loss: 4.7778e-06 - acc: 1.000 - ETA: 4s - loss: 4.2543e-06 - acc: 1.000 - ETA: 4s - loss: 0.0035 - acc: 0.9955    - ETA: 4s - loss: 0.0031 - acc: 0.996 - ETA: 4s - loss: 0.0027 - acc: 0.996 - ETA: 4s - loss: 0.0025 - acc: 0.996 - ETA: 4s - loss: 0.0022 - acc: 0.997 - ETA: 3s - loss: 0.0020 - acc: 0.997 - ETA: 3s - loss: 0.0019 - acc: 0.997 - ETA: 3s - loss: 0.0018 - acc: 0.997 - ETA: 3s - loss: 0.0016 - acc: 0.997 - ETA: 3s - loss: 0.0015 - acc: 0.998 - ETA: 3s - loss: 0.0014 - acc: 0.998 - ETA: 3s - loss: 0.0014 - acc: 0.998 - ETA: 3s - loss: 0.0013 - acc: 0.998 - ETA: 3s - loss: 0.0023 - acc: 0.998 - ETA: 3s - loss: 0.0033 - acc: 0.997 - ETA: 3s - loss: 0.0039 - acc: 0.997 - ETA: 2s - loss: 0.0038 - acc: 0.997 - ETA: 2s - loss: 0.0036 - acc: 0.997 - ETA: 2s - loss: 0.0035 - acc: 0.997 - ETA: 2s - loss: 0.0033 - acc: 0.997 - ETA: 2s - loss: 0.0032 - acc: 0.997 - ETA: 2s - loss: 0.0041 - acc: 0.996 - ETA: 2s - loss: 0.0039 - acc: 0.996 - ETA: 2s - loss: 0.0038 - acc: 0.996 - ETA: 2s - loss: 0.0037 - acc: 0.997 - ETA: 2s - loss: 0.0035 - acc: 0.997 - ETA: 2s - loss: 0.0034 - acc: 0.997 - ETA: 2s - loss: 0.0033 - acc: 0.997 - ETA: 1s - loss: 0.0032 - acc: 0.997 - ETA: 1s - loss: 0.0037 - acc: 0.997 - ETA: 1s - loss: 0.0041 - acc: 0.997 - ETA: 1s - loss: 0.0040 - acc: 0.997 - ETA: 1s - loss: 0.0039 - acc: 0.997 - ETA: 1s - loss: 0.0038 - acc: 0.997 - ETA: 1s - loss: 0.0037 - acc: 0.997 - ETA: 1s - loss: 0.0036 - acc: 0.997 - ETA: 1s - loss: 0.0035 - acc: 0.997 - ETA: 1s - loss: 0.0034 - acc: 0.997 - ETA: 1s - loss: 0.0034 - acc: 0.997 - ETA: 0s - loss: 0.0037 - acc: 0.998 - ETA: 0s - loss: 0.0037 - acc: 0.998 - ETA: 0s - loss: 0.0036 - acc: 0.998 - ETA: 0s - loss: 0.0035 - acc: 0.998 - ETA: 0s - loss: 0.0034 - acc: 0.998 - ETA: 0s - loss: 0.0034 - acc: 0.998 - ETA: 0s - loss: 0.0033 - acc: 0.998 - ETA: 0s - loss: 0.0032 - acc: 0.998 - ETA: 0s - loss: 0.0032 - acc: 0.998 - ETA: 0s - loss: 0.0031 - acc: 0.998 - ETA: 0s - loss: 0.0031 - acc: 0.998 - 5s 3ms/step - loss: 0.0030 - acc: 0.9983 - val_loss: 1.0440 - val_acc: 0.8366\n",
      "\n",
      "Epoch 00079: val_acc did not improve from 0.91170\n",
      "Epoch 80/100\n",
      "1808/1808 [==============================] - ETA: 4s - loss: 3.8818e-06 - acc: 1.000 - ETA: 4s - loss: 3.1703e-06 - acc: 1.000 - ETA: 4s - loss: 3.3839e-06 - acc: 1.000 - ETA: 4s - loss: 2.8531e-06 - acc: 1.000 - ETA: 4s - loss: 4.0045e-06 - acc: 1.000 - ETA: 4s - loss: 3.4411e-06 - acc: 1.000 - ETA: 4s - loss: 3.8284e-06 - acc: 1.000 - ETA: 4s - loss: 3.6518e-06 - acc: 1.000 - ETA: 4s - loss: 3.7995e-06 - acc: 1.000 - ETA: 3s - loss: 3.6449e-06 - acc: 1.000 - ETA: 3s - loss: 0.0018 - acc: 1.0000    - ETA: 3s - loss: 0.0017 - acc: 1.000 - ETA: 3s - loss: 0.0016 - acc: 1.000 - ETA: 3s - loss: 0.0015 - acc: 1.000 - ETA: 3s - loss: 0.0025 - acc: 1.000 - ETA: 3s - loss: 0.0023 - acc: 1.000 - ETA: 3s - loss: 0.0022 - acc: 1.000 - ETA: 3s - loss: 0.0034 - acc: 0.998 - ETA: 3s - loss: 0.0032 - acc: 0.998 - ETA: 2s - loss: 0.0045 - acc: 0.996 - ETA: 2s - loss: 0.0043 - acc: 0.997 - ETA: 2s - loss: 0.0041 - acc: 0.997 - ETA: 2s - loss: 0.0039 - acc: 0.997 - ETA: 2s - loss: 0.0038 - acc: 0.997 - ETA: 2s - loss: 0.0044 - acc: 0.997 - ETA: 2s - loss: 0.0042 - acc: 0.997 - ETA: 2s - loss: 0.0041 - acc: 0.997 - ETA: 2s - loss: 0.0039 - acc: 0.997 - ETA: 2s - loss: 0.0038 - acc: 0.997 - ETA: 2s - loss: 0.0036 - acc: 0.997 - ETA: 2s - loss: 0.0035 - acc: 0.998 - ETA: 1s - loss: 0.0034 - acc: 0.998 - ETA: 1s - loss: 0.0041 - acc: 0.997 - ETA: 1s - loss: 0.0039 - acc: 0.997 - ETA: 1s - loss: 0.0038 - acc: 0.997 - ETA: 1s - loss: 0.0037 - acc: 0.997 - ETA: 1s - loss: 0.0036 - acc: 0.997 - ETA: 1s - loss: 0.0035 - acc: 0.997 - ETA: 1s - loss: 0.0034 - acc: 0.997 - ETA: 1s - loss: 0.0033 - acc: 0.997 - ETA: 1s - loss: 0.0033 - acc: 0.997 - ETA: 1s - loss: 0.0032 - acc: 0.997 - ETA: 1s - loss: 0.0031 - acc: 0.997 - ETA: 1s - loss: 0.0034 - acc: 0.997 - ETA: 0s - loss: 0.0038 - acc: 0.997 - ETA: 0s - loss: 0.0037 - acc: 0.998 - ETA: 0s - loss: 0.0036 - acc: 0.998 - ETA: 0s - loss: 0.0036 - acc: 0.998 - ETA: 0s - loss: 0.0035 - acc: 0.998 - ETA: 0s - loss: 0.0034 - acc: 0.998 - ETA: 0s - loss: 0.0034 - acc: 0.998 - ETA: 0s - loss: 0.0033 - acc: 0.998 - ETA: 0s - loss: 0.0032 - acc: 0.998 - ETA: 0s - loss: 0.0032 - acc: 0.998 - ETA: 0s - loss: 0.0031 - acc: 0.998 - ETA: 0s - loss: 0.0031 - acc: 0.998 - 5s 3ms/step - loss: 0.0030 - acc: 0.9983 - val_loss: 1.0562 - val_acc: 0.8366\n",
      "\n",
      "Epoch 00080: val_acc did not improve from 0.91170\n",
      "Epoch 81/100\n",
      "1808/1808 [==============================] - ETA: 4s - loss: 1.9198e-05 - acc: 1.000 - ETA: 4s - loss: 0.0083 - acc: 1.0000    - ETA: 4s - loss: 0.0055 - acc: 1.000 - ETA: 4s - loss: 0.0042 - acc: 1.000 - ETA: 4s - loss: 0.0033 - acc: 1.000 - ETA: 3s - loss: 0.0028 - acc: 1.000 - ETA: 3s - loss: 0.0024 - acc: 1.000 - ETA: 3s - loss: 0.0021 - acc: 1.000 - ETA: 3s - loss: 0.0018 - acc: 1.000 - ETA: 3s - loss: 0.0017 - acc: 1.000 - ETA: 3s - loss: 0.0029 - acc: 1.000 - ETA: 3s - loss: 0.0027 - acc: 1.000 - ETA: 3s - loss: 0.0025 - acc: 1.000 - ETA: 3s - loss: 0.0023 - acc: 1.000 - ETA: 3s - loss: 0.0021 - acc: 1.000 - ETA: 3s - loss: 0.0040 - acc: 0.998 - ETA: 3s - loss: 0.0037 - acc: 0.998 - ETA: 3s - loss: 0.0035 - acc: 0.998 - ETA: 3s - loss: 0.0033 - acc: 0.998 - ETA: 3s - loss: 0.0032 - acc: 0.998 - ETA: 2s - loss: 0.0042 - acc: 0.997 - ETA: 2s - loss: 0.0040 - acc: 0.997 - ETA: 2s - loss: 0.0047 - acc: 0.997 - ETA: 2s - loss: 0.0045 - acc: 0.997 - ETA: 2s - loss: 0.0051 - acc: 0.997 - ETA: 2s - loss: 0.0049 - acc: 0.997 - ETA: 2s - loss: 0.0047 - acc: 0.997 - ETA: 2s - loss: 0.0046 - acc: 0.997 - ETA: 2s - loss: 0.0044 - acc: 0.997 - ETA: 2s - loss: 0.0043 - acc: 0.997 - ETA: 2s - loss: 0.0041 - acc: 0.998 - ETA: 2s - loss: 0.0040 - acc: 0.998 - ETA: 1s - loss: 0.0039 - acc: 0.998 - ETA: 1s - loss: 0.0038 - acc: 0.998 - ETA: 1s - loss: 0.0037 - acc: 0.998 - ETA: 1s - loss: 0.0035 - acc: 0.998 - ETA: 1s - loss: 0.0035 - acc: 0.998 - ETA: 1s - loss: 0.0034 - acc: 0.998 - ETA: 1s - loss: 0.0038 - acc: 0.998 - ETA: 1s - loss: 0.0037 - acc: 0.998 - ETA: 1s - loss: 0.0036 - acc: 0.998 - ETA: 1s - loss: 0.0035 - acc: 0.998 - ETA: 1s - loss: 0.0034 - acc: 0.998 - ETA: 1s - loss: 0.0033 - acc: 0.998 - ETA: 0s - loss: 0.0033 - acc: 0.998 - ETA: 0s - loss: 0.0032 - acc: 0.998 - ETA: 0s - loss: 0.0031 - acc: 0.998 - ETA: 0s - loss: 0.0036 - acc: 0.998 - ETA: 0s - loss: 0.0035 - acc: 0.998 - ETA: 0s - loss: 0.0034 - acc: 0.998 - ETA: 0s - loss: 0.0034 - acc: 0.998 - ETA: 0s - loss: 0.0033 - acc: 0.998 - ETA: 0s - loss: 0.0032 - acc: 0.998 - ETA: 0s - loss: 0.0032 - acc: 0.998 - ETA: 0s - loss: 0.0031 - acc: 0.998 - ETA: 0s - loss: 0.0031 - acc: 0.998 - 5s 3ms/step - loss: 0.0030 - acc: 0.9983 - val_loss: 1.0714 - val_acc: 0.8366\n",
      "\n",
      "Epoch 00081: val_acc did not improve from 0.91170\n",
      "Epoch 82/100\n"
     ]
    },
    {
     "name": "stdout",
     "output_type": "stream",
     "text": [
      "1808/1808 [==============================] - ETA: 4s - loss: 1.6578e-06 - acc: 1.000 - ETA: 4s - loss: 3.3780e-06 - acc: 1.000 - ETA: 4s - loss: 2.6518e-06 - acc: 1.000 - ETA: 4s - loss: 2.2995e-06 - acc: 1.000 - ETA: 4s - loss: 2.5858e-06 - acc: 1.000 - ETA: 4s - loss: 2.4500e-06 - acc: 1.000 - ETA: 4s - loss: 2.2435e-06 - acc: 1.000 - ETA: 4s - loss: 4.0030e-06 - acc: 1.000 - ETA: 4s - loss: 4.0320e-06 - acc: 1.000 - ETA: 3s - loss: 3.7901e-06 - acc: 1.000 - ETA: 3s - loss: 3.6808e-06 - acc: 1.000 - ETA: 3s - loss: 3.7755e-06 - acc: 1.000 - ETA: 3s - loss: 3.6841e-06 - acc: 1.000 - ETA: 3s - loss: 3.6629e-06 - acc: 1.000 - ETA: 3s - loss: 3.5778e-06 - acc: 1.000 - ETA: 3s - loss: 3.4233e-06 - acc: 1.000 - ETA: 3s - loss: 3.2930e-06 - acc: 1.000 - ETA: 3s - loss: 3.1632e-06 - acc: 1.000 - ETA: 3s - loss: 3.0760e-06 - acc: 1.000 - ETA: 2s - loss: 3.0302e-06 - acc: 1.000 - ETA: 2s - loss: 0.0019 - acc: 0.9985    - ETA: 2s - loss: 0.0026 - acc: 0.998 - ETA: 2s - loss: 0.0025 - acc: 0.998 - ETA: 2s - loss: 0.0034 - acc: 0.997 - ETA: 2s - loss: 0.0040 - acc: 0.997 - ETA: 2s - loss: 0.0039 - acc: 0.997 - ETA: 2s - loss: 0.0037 - acc: 0.997 - ETA: 2s - loss: 0.0036 - acc: 0.997 - ETA: 2s - loss: 0.0035 - acc: 0.997 - ETA: 2s - loss: 0.0034 - acc: 0.997 - ETA: 2s - loss: 0.0033 - acc: 0.998 - ETA: 2s - loss: 0.0032 - acc: 0.998 - ETA: 2s - loss: 0.0031 - acc: 0.998 - ETA: 1s - loss: 0.0030 - acc: 0.998 - ETA: 1s - loss: 0.0029 - acc: 0.998 - ETA: 1s - loss: 0.0028 - acc: 0.998 - ETA: 1s - loss: 0.0027 - acc: 0.998 - ETA: 1s - loss: 0.0027 - acc: 0.998 - ETA: 1s - loss: 0.0026 - acc: 0.998 - ETA: 1s - loss: 0.0025 - acc: 0.998 - ETA: 1s - loss: 0.0029 - acc: 0.998 - ETA: 1s - loss: 0.0036 - acc: 0.997 - ETA: 1s - loss: 0.0040 - acc: 0.997 - ETA: 1s - loss: 0.0039 - acc: 0.997 - ETA: 0s - loss: 0.0038 - acc: 0.997 - ETA: 0s - loss: 0.0037 - acc: 0.998 - ETA: 0s - loss: 0.0037 - acc: 0.998 - ETA: 0s - loss: 0.0036 - acc: 0.998 - ETA: 0s - loss: 0.0035 - acc: 0.998 - ETA: 0s - loss: 0.0034 - acc: 0.998 - ETA: 0s - loss: 0.0034 - acc: 0.998 - ETA: 0s - loss: 0.0033 - acc: 0.998 - ETA: 0s - loss: 0.0032 - acc: 0.998 - ETA: 0s - loss: 0.0032 - acc: 0.998 - ETA: 0s - loss: 0.0031 - acc: 0.998 - ETA: 0s - loss: 0.0031 - acc: 0.998 - 5s 3ms/step - loss: 0.0030 - acc: 0.9983 - val_loss: 1.0725 - val_acc: 0.8389\n",
      "\n",
      "Epoch 00082: val_acc did not improve from 0.91170\n",
      "Epoch 83/100\n",
      "1808/1808 [==============================] - ETA: 4s - loss: 1.5777e-06 - acc: 1.000 - ETA: 4s - loss: 0.0242 - acc: 0.9844    - ETA: 4s - loss: 0.0161 - acc: 0.989 - ETA: 4s - loss: 0.0168 - acc: 0.992 - ETA: 4s - loss: 0.0135 - acc: 0.993 - ETA: 4s - loss: 0.0140 - acc: 0.994 - ETA: 3s - loss: 0.0120 - acc: 0.995 - ETA: 3s - loss: 0.0105 - acc: 0.996 - ETA: 3s - loss: 0.0094 - acc: 0.996 - ETA: 3s - loss: 0.0084 - acc: 0.996 - ETA: 3s - loss: 0.0077 - acc: 0.997 - ETA: 3s - loss: 0.0070 - acc: 0.997 - ETA: 3s - loss: 0.0065 - acc: 0.997 - ETA: 3s - loss: 0.0060 - acc: 0.997 - ETA: 3s - loss: 0.0056 - acc: 0.997 - ETA: 3s - loss: 0.0053 - acc: 0.998 - ETA: 3s - loss: 0.0050 - acc: 0.998 - ETA: 3s - loss: 0.0047 - acc: 0.998 - ETA: 3s - loss: 0.0044 - acc: 0.998 - ETA: 2s - loss: 0.0042 - acc: 0.998 - ETA: 2s - loss: 0.0040 - acc: 0.998 - ETA: 2s - loss: 0.0038 - acc: 0.998 - ETA: 2s - loss: 0.0037 - acc: 0.998 - ETA: 2s - loss: 0.0035 - acc: 0.998 - ETA: 2s - loss: 0.0034 - acc: 0.998 - ETA: 2s - loss: 0.0032 - acc: 0.998 - ETA: 2s - loss: 0.0041 - acc: 0.997 - ETA: 2s - loss: 0.0039 - acc: 0.997 - ETA: 2s - loss: 0.0038 - acc: 0.997 - ETA: 2s - loss: 0.0037 - acc: 0.997 - ETA: 2s - loss: 0.0035 - acc: 0.998 - ETA: 2s - loss: 0.0034 - acc: 0.998 - ETA: 1s - loss: 0.0033 - acc: 0.998 - ETA: 1s - loss: 0.0032 - acc: 0.998 - ETA: 1s - loss: 0.0031 - acc: 0.998 - ETA: 1s - loss: 0.0030 - acc: 0.998 - ETA: 1s - loss: 0.0030 - acc: 0.998 - ETA: 1s - loss: 0.0029 - acc: 0.998 - ETA: 1s - loss: 0.0028 - acc: 0.998 - ETA: 1s - loss: 0.0027 - acc: 0.998 - ETA: 1s - loss: 0.0027 - acc: 0.998 - ETA: 1s - loss: 0.0030 - acc: 0.998 - ETA: 1s - loss: 0.0029 - acc: 0.998 - ETA: 1s - loss: 0.0029 - acc: 0.998 - ETA: 0s - loss: 0.0028 - acc: 0.998 - ETA: 0s - loss: 0.0028 - acc: 0.998 - ETA: 0s - loss: 0.0032 - acc: 0.998 - ETA: 0s - loss: 0.0032 - acc: 0.998 - ETA: 0s - loss: 0.0031 - acc: 0.998 - ETA: 0s - loss: 0.0030 - acc: 0.998 - ETA: 0s - loss: 0.0030 - acc: 0.998 - ETA: 0s - loss: 0.0029 - acc: 0.998 - ETA: 0s - loss: 0.0029 - acc: 0.998 - ETA: 0s - loss: 0.0028 - acc: 0.998 - ETA: 0s - loss: 0.0028 - acc: 0.998 - ETA: 0s - loss: 0.0027 - acc: 0.998 - 5s 3ms/step - loss: 0.0030 - acc: 0.9983 - val_loss: 1.0509 - val_acc: 0.8411\n",
      "\n",
      "Epoch 00083: val_acc did not improve from 0.91170\n",
      "Epoch 84/100\n",
      "1808/1808 [==============================] - ETA: 4s - loss: 1.9875e-06 - acc: 1.000 - ETA: 5s - loss: 1.7556e-06 - acc: 1.000 - ETA: 5s - loss: 1.5802e-06 - acc: 1.000 - ETA: 5s - loss: 0.0041 - acc: 1.0000    - ETA: 5s - loss: 0.0032 - acc: 1.000 - ETA: 5s - loss: 0.0027 - acc: 1.000 - ETA: 4s - loss: 0.0023 - acc: 1.000 - ETA: 4s - loss: 0.0020 - acc: 1.000 - ETA: 4s - loss: 0.0018 - acc: 1.000 - ETA: 4s - loss: 0.0016 - acc: 1.000 - ETA: 4s - loss: 0.0015 - acc: 1.000 - ETA: 4s - loss: 0.0035 - acc: 0.997 - ETA: 4s - loss: 0.0044 - acc: 0.997 - ETA: 4s - loss: 0.0040 - acc: 0.997 - ETA: 4s - loss: 0.0050 - acc: 0.997 - ETA: 3s - loss: 0.0058 - acc: 0.998 - ETA: 3s - loss: 0.0055 - acc: 0.998 - ETA: 3s - loss: 0.0052 - acc: 0.998 - ETA: 3s - loss: 0.0049 - acc: 0.998 - ETA: 3s - loss: 0.0046 - acc: 0.998 - ETA: 3s - loss: 0.0044 - acc: 0.998 - ETA: 3s - loss: 0.0042 - acc: 0.998 - ETA: 3s - loss: 0.0040 - acc: 0.998 - ETA: 3s - loss: 0.0039 - acc: 0.998 - ETA: 2s - loss: 0.0037 - acc: 0.998 - ETA: 2s - loss: 0.0053 - acc: 0.997 - ETA: 2s - loss: 0.0052 - acc: 0.997 - ETA: 2s - loss: 0.0050 - acc: 0.997 - ETA: 2s - loss: 0.0048 - acc: 0.997 - ETA: 2s - loss: 0.0059 - acc: 0.996 - ETA: 2s - loss: 0.0057 - acc: 0.997 - ETA: 2s - loss: 0.0055 - acc: 0.997 - ETA: 2s - loss: 0.0053 - acc: 0.997 - ETA: 2s - loss: 0.0052 - acc: 0.997 - ETA: 2s - loss: 0.0050 - acc: 0.997 - ETA: 1s - loss: 0.0049 - acc: 0.997 - ETA: 1s - loss: 0.0048 - acc: 0.997 - ETA: 1s - loss: 0.0046 - acc: 0.997 - ETA: 1s - loss: 0.0045 - acc: 0.997 - ETA: 1s - loss: 0.0044 - acc: 0.997 - ETA: 1s - loss: 0.0043 - acc: 0.997 - ETA: 1s - loss: 0.0042 - acc: 0.997 - ETA: 1s - loss: 0.0041 - acc: 0.997 - ETA: 1s - loss: 0.0040 - acc: 0.997 - ETA: 1s - loss: 0.0039 - acc: 0.997 - ETA: 0s - loss: 0.0038 - acc: 0.998 - ETA: 0s - loss: 0.0037 - acc: 0.998 - ETA: 0s - loss: 0.0037 - acc: 0.998 - ETA: 0s - loss: 0.0036 - acc: 0.998 - ETA: 0s - loss: 0.0035 - acc: 0.998 - ETA: 0s - loss: 0.0035 - acc: 0.998 - ETA: 0s - loss: 0.0034 - acc: 0.998 - ETA: 0s - loss: 0.0033 - acc: 0.998 - ETA: 0s - loss: 0.0033 - acc: 0.998 - ETA: 0s - loss: 0.0032 - acc: 0.998 - ETA: 0s - loss: 0.0031 - acc: 0.998 - 6s 3ms/step - loss: 0.0031 - acc: 0.9983 - val_loss: 1.0713 - val_acc: 0.8366\n",
      "\n",
      "Epoch 00084: val_acc did not improve from 0.91170\n",
      "Epoch 85/100\n"
     ]
    },
    {
     "name": "stdout",
     "output_type": "stream",
     "text": [
      "1808/1808 [==============================] - ETA: 5s - loss: 0.0246 - acc: 0.968 - ETA: 5s - loss: 0.0123 - acc: 0.984 - ETA: 5s - loss: 0.0173 - acc: 0.979 - ETA: 4s - loss: 0.0180 - acc: 0.984 - ETA: 4s - loss: 0.0144 - acc: 0.987 - ETA: 4s - loss: 0.0120 - acc: 0.989 - ETA: 4s - loss: 0.0103 - acc: 0.991 - ETA: 4s - loss: 0.0090 - acc: 0.992 - ETA: 4s - loss: 0.0080 - acc: 0.993 - ETA: 4s - loss: 0.0072 - acc: 0.993 - ETA: 4s - loss: 0.0066 - acc: 0.994 - ETA: 4s - loss: 0.0060 - acc: 0.994 - ETA: 4s - loss: 0.0055 - acc: 0.995 - ETA: 3s - loss: 0.0069 - acc: 0.993 - ETA: 3s - loss: 0.0064 - acc: 0.993 - ETA: 3s - loss: 0.0060 - acc: 0.994 - ETA: 3s - loss: 0.0057 - acc: 0.994 - ETA: 3s - loss: 0.0053 - acc: 0.994 - ETA: 3s - loss: 0.0051 - acc: 0.995 - ETA: 3s - loss: 0.0048 - acc: 0.995 - ETA: 3s - loss: 0.0046 - acc: 0.995 - ETA: 3s - loss: 0.0053 - acc: 0.995 - ETA: 3s - loss: 0.0050 - acc: 0.995 - ETA: 3s - loss: 0.0048 - acc: 0.996 - ETA: 2s - loss: 0.0046 - acc: 0.996 - ETA: 2s - loss: 0.0045 - acc: 0.996 - ETA: 2s - loss: 0.0043 - acc: 0.996 - ETA: 2s - loss: 0.0041 - acc: 0.996 - ETA: 2s - loss: 0.0040 - acc: 0.996 - ETA: 2s - loss: 0.0039 - acc: 0.996 - ETA: 2s - loss: 0.0037 - acc: 0.997 - ETA: 2s - loss: 0.0036 - acc: 0.997 - ETA: 2s - loss: 0.0035 - acc: 0.997 - ETA: 2s - loss: 0.0034 - acc: 0.997 - ETA: 1s - loss: 0.0033 - acc: 0.997 - ETA: 1s - loss: 0.0032 - acc: 0.997 - ETA: 1s - loss: 0.0031 - acc: 0.997 - ETA: 1s - loss: 0.0035 - acc: 0.997 - ETA: 1s - loss: 0.0035 - acc: 0.997 - ETA: 1s - loss: 0.0034 - acc: 0.997 - ETA: 1s - loss: 0.0033 - acc: 0.997 - ETA: 1s - loss: 0.0032 - acc: 0.997 - ETA: 1s - loss: 0.0036 - acc: 0.997 - ETA: 1s - loss: 0.0035 - acc: 0.997 - ETA: 1s - loss: 0.0034 - acc: 0.997 - ETA: 0s - loss: 0.0034 - acc: 0.998 - ETA: 0s - loss: 0.0033 - acc: 0.998 - ETA: 0s - loss: 0.0032 - acc: 0.998 - ETA: 0s - loss: 0.0032 - acc: 0.998 - ETA: 0s - loss: 0.0031 - acc: 0.998 - ETA: 0s - loss: 0.0030 - acc: 0.998 - ETA: 0s - loss: 0.0030 - acc: 0.998 - ETA: 0s - loss: 0.0033 - acc: 0.998 - ETA: 0s - loss: 0.0032 - acc: 0.998 - ETA: 0s - loss: 0.0031 - acc: 0.998 - ETA: 0s - loss: 0.0031 - acc: 0.998 - 6s 3ms/step - loss: 0.0031 - acc: 0.9983 - val_loss: 1.0673 - val_acc: 0.8366\n",
      "\n",
      "Epoch 00085: val_acc did not improve from 0.91170\n",
      "Epoch 86/100\n",
      "1808/1808 [==============================] - ETA: 4s - loss: 2.0973e-06 - acc: 1.000 - ETA: 4s - loss: 1.9614e-06 - acc: 1.000 - ETA: 4s - loss: 4.5805e-06 - acc: 1.000 - ETA: 4s - loss: 3.9010e-06 - acc: 1.000 - ETA: 4s - loss: 3.3168e-06 - acc: 1.000 - ETA: 4s - loss: 4.1967e-06 - acc: 1.000 - ETA: 4s - loss: 3.7398e-06 - acc: 1.000 - ETA: 4s - loss: 3.7853e-06 - acc: 1.000 - ETA: 4s - loss: 3.4663e-06 - acc: 1.000 - ETA: 4s - loss: 4.1927e-06 - acc: 1.000 - ETA: 3s - loss: 3.9220e-06 - acc: 1.000 - ETA: 3s - loss: 3.6577e-06 - acc: 1.000 - ETA: 3s - loss: 3.5295e-06 - acc: 1.000 - ETA: 3s - loss: 3.4518e-06 - acc: 1.000 - ETA: 3s - loss: 4.1236e-06 - acc: 1.000 - ETA: 3s - loss: 4.0204e-06 - acc: 1.000 - ETA: 3s - loss: 4.0379e-06 - acc: 1.000 - ETA: 3s - loss: 3.8756e-06 - acc: 1.000 - ETA: 3s - loss: 3.7690e-06 - acc: 1.000 - ETA: 3s - loss: 0.0013 - acc: 0.9984    - ETA: 3s - loss: 0.0012 - acc: 0.998 - ETA: 2s - loss: 0.0011 - acc: 0.998 - ETA: 2s - loss: 0.0011 - acc: 0.998 - ETA: 2s - loss: 0.0010 - acc: 0.998 - ETA: 2s - loss: 0.0010 - acc: 0.998 - ETA: 2s - loss: 9.6587e-04 - acc: 0.998 - ETA: 2s - loss: 9.3012e-04 - acc: 0.998 - ETA: 2s - loss: 0.0016 - acc: 0.9989    - ETA: 2s - loss: 0.0015 - acc: 0.998 - ETA: 2s - loss: 0.0015 - acc: 0.999 - ETA: 2s - loss: 0.0014 - acc: 0.999 - ETA: 2s - loss: 0.0014 - acc: 0.999 - ETA: 1s - loss: 0.0013 - acc: 0.999 - ETA: 1s - loss: 0.0013 - acc: 0.999 - ETA: 1s - loss: 0.0013 - acc: 0.999 - ETA: 1s - loss: 0.0012 - acc: 0.999 - ETA: 1s - loss: 0.0012 - acc: 0.999 - ETA: 1s - loss: 0.0017 - acc: 0.999 - ETA: 1s - loss: 0.0023 - acc: 0.998 - ETA: 1s - loss: 0.0023 - acc: 0.998 - ETA: 1s - loss: 0.0022 - acc: 0.998 - ETA: 1s - loss: 0.0022 - acc: 0.998 - ETA: 1s - loss: 0.0021 - acc: 0.998 - ETA: 1s - loss: 0.0025 - acc: 0.998 - ETA: 0s - loss: 0.0030 - acc: 0.997 - ETA: 0s - loss: 0.0033 - acc: 0.998 - ETA: 0s - loss: 0.0033 - acc: 0.998 - ETA: 0s - loss: 0.0032 - acc: 0.998 - ETA: 0s - loss: 0.0031 - acc: 0.998 - ETA: 0s - loss: 0.0031 - acc: 0.998 - ETA: 0s - loss: 0.0030 - acc: 0.998 - ETA: 0s - loss: 0.0029 - acc: 0.998 - ETA: 0s - loss: 0.0029 - acc: 0.998 - ETA: 0s - loss: 0.0031 - acc: 0.998 - ETA: 0s - loss: 0.0031 - acc: 0.998 - ETA: 0s - loss: 0.0030 - acc: 0.998 - 5s 3ms/step - loss: 0.0030 - acc: 0.9983 - val_loss: 1.0783 - val_acc: 0.8411\n",
      "\n",
      "Epoch 00086: val_acc did not improve from 0.91170\n",
      "Epoch 87/100\n",
      "1808/1808 [==============================] - ETA: 5s - loss: 7.6927e-07 - acc: 1.000 - ETA: 5s - loss: 0.0083 - acc: 1.0000    - ETA: 5s - loss: 0.0055 - acc: 1.000 - ETA: 5s - loss: 0.0042 - acc: 1.000 - ETA: 4s - loss: 0.0033 - acc: 1.000 - ETA: 4s - loss: 0.0028 - acc: 1.000 - ETA: 4s - loss: 0.0024 - acc: 1.000 - ETA: 4s - loss: 0.0021 - acc: 1.000 - ETA: 4s - loss: 0.0018 - acc: 1.000 - ETA: 4s - loss: 0.0017 - acc: 1.000 - ETA: 4s - loss: 0.0015 - acc: 1.000 - ETA: 4s - loss: 0.0014 - acc: 1.000 - ETA: 4s - loss: 0.0013 - acc: 1.000 - ETA: 3s - loss: 0.0012 - acc: 1.000 - ETA: 3s - loss: 0.0011 - acc: 1.000 - ETA: 3s - loss: 0.0010 - acc: 1.000 - ETA: 3s - loss: 0.0020 - acc: 1.000 - ETA: 3s - loss: 0.0019 - acc: 1.000 - ETA: 3s - loss: 0.0018 - acc: 1.000 - ETA: 3s - loss: 0.0017 - acc: 1.000 - ETA: 3s - loss: 0.0026 - acc: 1.000 - ETA: 3s - loss: 0.0024 - acc: 1.000 - ETA: 3s - loss: 0.0023 - acc: 1.000 - ETA: 2s - loss: 0.0022 - acc: 1.000 - ETA: 2s - loss: 0.0021 - acc: 1.000 - ETA: 2s - loss: 0.0021 - acc: 1.000 - ETA: 2s - loss: 0.0020 - acc: 1.000 - ETA: 2s - loss: 0.0019 - acc: 1.000 - ETA: 2s - loss: 0.0019 - acc: 1.000 - ETA: 2s - loss: 0.0018 - acc: 1.000 - ETA: 2s - loss: 0.0026 - acc: 0.999 - ETA: 2s - loss: 0.0025 - acc: 0.999 - ETA: 2s - loss: 0.0025 - acc: 0.999 - ETA: 2s - loss: 0.0039 - acc: 0.998 - ETA: 1s - loss: 0.0038 - acc: 0.998 - ETA: 1s - loss: 0.0037 - acc: 0.998 - ETA: 1s - loss: 0.0036 - acc: 0.998 - ETA: 1s - loss: 0.0035 - acc: 0.998 - ETA: 1s - loss: 0.0038 - acc: 0.998 - ETA: 1s - loss: 0.0037 - acc: 0.998 - ETA: 1s - loss: 0.0036 - acc: 0.998 - ETA: 1s - loss: 0.0035 - acc: 0.998 - ETA: 1s - loss: 0.0034 - acc: 0.998 - ETA: 1s - loss: 0.0033 - acc: 0.998 - ETA: 1s - loss: 0.0033 - acc: 0.998 - ETA: 0s - loss: 0.0032 - acc: 0.998 - ETA: 0s - loss: 0.0031 - acc: 0.998 - ETA: 0s - loss: 0.0031 - acc: 0.998 - ETA: 0s - loss: 0.0030 - acc: 0.998 - ETA: 0s - loss: 0.0029 - acc: 0.998 - ETA: 0s - loss: 0.0029 - acc: 0.998 - ETA: 0s - loss: 0.0028 - acc: 0.998 - ETA: 0s - loss: 0.0028 - acc: 0.998 - ETA: 0s - loss: 0.0032 - acc: 0.998 - ETA: 0s - loss: 0.0031 - acc: 0.998 - ETA: 0s - loss: 0.0031 - acc: 0.998 - 6s 3ms/step - loss: 0.0031 - acc: 0.9983 - val_loss: 1.0937 - val_acc: 0.8411\n",
      "\n",
      "Epoch 00087: val_acc did not improve from 0.91170\n",
      "Epoch 88/100\n"
     ]
    },
    {
     "name": "stdout",
     "output_type": "stream",
     "text": [
      "1808/1808 [==============================] - ETA: 5s - loss: 0.0254 - acc: 0.968 - ETA: 4s - loss: 0.0127 - acc: 0.984 - ETA: 4s - loss: 0.0085 - acc: 0.989 - ETA: 4s - loss: 0.0064 - acc: 0.992 - ETA: 4s - loss: 0.0051 - acc: 0.993 - ETA: 4s - loss: 0.0042 - acc: 0.994 - ETA: 4s - loss: 0.0063 - acc: 0.995 - ETA: 4s - loss: 0.0055 - acc: 0.996 - ETA: 3s - loss: 0.0049 - acc: 0.996 - ETA: 3s - loss: 0.0044 - acc: 0.996 - ETA: 3s - loss: 0.0040 - acc: 0.997 - ETA: 3s - loss: 0.0037 - acc: 0.997 - ETA: 3s - loss: 0.0034 - acc: 0.997 - ETA: 3s - loss: 0.0032 - acc: 0.997 - ETA: 3s - loss: 0.0029 - acc: 0.997 - ETA: 3s - loss: 0.0028 - acc: 0.998 - ETA: 3s - loss: 0.0026 - acc: 0.998 - ETA: 3s - loss: 0.0025 - acc: 0.998 - ETA: 3s - loss: 0.0023 - acc: 0.998 - ETA: 3s - loss: 0.0022 - acc: 0.998 - ETA: 2s - loss: 0.0021 - acc: 0.998 - ETA: 2s - loss: 0.0020 - acc: 0.998 - ETA: 2s - loss: 0.0019 - acc: 0.998 - ETA: 2s - loss: 0.0018 - acc: 0.998 - ETA: 2s - loss: 0.0018 - acc: 0.998 - ETA: 2s - loss: 0.0017 - acc: 0.998 - ETA: 2s - loss: 0.0027 - acc: 0.997 - ETA: 2s - loss: 0.0033 - acc: 0.997 - ETA: 2s - loss: 0.0032 - acc: 0.997 - ETA: 2s - loss: 0.0036 - acc: 0.997 - ETA: 2s - loss: 0.0035 - acc: 0.998 - ETA: 2s - loss: 0.0034 - acc: 0.998 - ETA: 1s - loss: 0.0033 - acc: 0.998 - ETA: 1s - loss: 0.0032 - acc: 0.998 - ETA: 1s - loss: 0.0031 - acc: 0.998 - ETA: 1s - loss: 0.0030 - acc: 0.998 - ETA: 1s - loss: 0.0029 - acc: 0.998 - ETA: 1s - loss: 0.0033 - acc: 0.998 - ETA: 1s - loss: 0.0032 - acc: 0.998 - ETA: 1s - loss: 0.0031 - acc: 0.998 - ETA: 1s - loss: 0.0031 - acc: 0.998 - ETA: 1s - loss: 0.0030 - acc: 0.998 - ETA: 1s - loss: 0.0029 - acc: 0.998 - ETA: 1s - loss: 0.0028 - acc: 0.998 - ETA: 0s - loss: 0.0032 - acc: 0.998 - ETA: 0s - loss: 0.0037 - acc: 0.998 - ETA: 0s - loss: 0.0036 - acc: 0.998 - ETA: 0s - loss: 0.0035 - acc: 0.998 - ETA: 0s - loss: 0.0035 - acc: 0.998 - ETA: 0s - loss: 0.0034 - acc: 0.998 - ETA: 0s - loss: 0.0033 - acc: 0.998 - ETA: 0s - loss: 0.0033 - acc: 0.998 - ETA: 0s - loss: 0.0032 - acc: 0.998 - ETA: 0s - loss: 0.0032 - acc: 0.998 - ETA: 0s - loss: 0.0031 - acc: 0.998 - ETA: 0s - loss: 0.0030 - acc: 0.998 - 5s 3ms/step - loss: 0.0030 - acc: 0.9983 - val_loss: 1.0872 - val_acc: 0.8433\n",
      "\n",
      "Epoch 00088: val_acc did not improve from 0.91170\n",
      "Epoch 89/100\n",
      "1808/1808 [==============================] - ETA: 5s - loss: 1.4175e-06 - acc: 1.000 - ETA: 4s - loss: 2.3954e-06 - acc: 1.000 - ETA: 4s - loss: 2.4693e-06 - acc: 1.000 - ETA: 4s - loss: 3.8126e-06 - acc: 1.000 - ETA: 5s - loss: 3.2065e-06 - acc: 1.000 - ETA: 5s - loss: 0.0042 - acc: 0.9948    - ETA: 5s - loss: 0.0036 - acc: 0.995 - ETA: 4s - loss: 0.0031 - acc: 0.996 - ETA: 4s - loss: 0.0056 - acc: 0.993 - ETA: 4s - loss: 0.0050 - acc: 0.993 - ETA: 4s - loss: 0.0046 - acc: 0.994 - ETA: 4s - loss: 0.0081 - acc: 0.992 - ETA: 4s - loss: 0.0075 - acc: 0.992 - ETA: 4s - loss: 0.0070 - acc: 0.993 - ETA: 3s - loss: 0.0065 - acc: 0.993 - ETA: 3s - loss: 0.0061 - acc: 0.994 - ETA: 3s - loss: 0.0057 - acc: 0.994 - ETA: 3s - loss: 0.0054 - acc: 0.994 - ETA: 3s - loss: 0.0051 - acc: 0.995 - ETA: 3s - loss: 0.0049 - acc: 0.995 - ETA: 3s - loss: 0.0047 - acc: 0.995 - ETA: 3s - loss: 0.0044 - acc: 0.995 - ETA: 3s - loss: 0.0042 - acc: 0.995 - ETA: 3s - loss: 0.0041 - acc: 0.996 - ETA: 2s - loss: 0.0039 - acc: 0.996 - ETA: 2s - loss: 0.0045 - acc: 0.996 - ETA: 2s - loss: 0.0043 - acc: 0.996 - ETA: 2s - loss: 0.0041 - acc: 0.996 - ETA: 2s - loss: 0.0040 - acc: 0.996 - ETA: 2s - loss: 0.0039 - acc: 0.996 - ETA: 2s - loss: 0.0043 - acc: 0.997 - ETA: 2s - loss: 0.0042 - acc: 0.997 - ETA: 2s - loss: 0.0041 - acc: 0.997 - ETA: 2s - loss: 0.0039 - acc: 0.997 - ETA: 2s - loss: 0.0038 - acc: 0.997 - ETA: 1s - loss: 0.0037 - acc: 0.997 - ETA: 1s - loss: 0.0036 - acc: 0.997 - ETA: 1s - loss: 0.0035 - acc: 0.997 - ETA: 1s - loss: 0.0034 - acc: 0.997 - ETA: 1s - loss: 0.0033 - acc: 0.997 - ETA: 1s - loss: 0.0033 - acc: 0.997 - ETA: 1s - loss: 0.0032 - acc: 0.997 - ETA: 1s - loss: 0.0031 - acc: 0.997 - ETA: 1s - loss: 0.0030 - acc: 0.997 - ETA: 1s - loss: 0.0030 - acc: 0.997 - ETA: 0s - loss: 0.0029 - acc: 0.998 - ETA: 0s - loss: 0.0028 - acc: 0.998 - ETA: 0s - loss: 0.0028 - acc: 0.998 - ETA: 0s - loss: 0.0027 - acc: 0.998 - ETA: 0s - loss: 0.0027 - acc: 0.998 - ETA: 0s - loss: 0.0026 - acc: 0.998 - ETA: 0s - loss: 0.0026 - acc: 0.998 - ETA: 0s - loss: 0.0029 - acc: 0.998 - ETA: 0s - loss: 0.0028 - acc: 0.998 - ETA: 0s - loss: 0.0028 - acc: 0.998 - ETA: 0s - loss: 0.0031 - acc: 0.998 - 6s 3ms/step - loss: 0.0031 - acc: 0.9983 - val_loss: 1.0946 - val_acc: 0.8433\n",
      "\n",
      "Epoch 00089: val_acc did not improve from 0.91170\n",
      "Epoch 90/100\n",
      "1808/1808 [==============================] - ETA: 4s - loss: 4.8246e-06 - acc: 1.000 - ETA: 4s - loss: 3.1182e-06 - acc: 1.000 - ETA: 4s - loss: 3.1045e-06 - acc: 1.000 - ETA: 4s - loss: 2.4569e-06 - acc: 1.000 - ETA: 4s - loss: 0.0049 - acc: 0.9938    - ETA: 4s - loss: 0.0041 - acc: 0.994 - ETA: 4s - loss: 0.0035 - acc: 0.995 - ETA: 4s - loss: 0.0031 - acc: 0.996 - ETA: 4s - loss: 0.0027 - acc: 0.996 - ETA: 4s - loss: 0.0025 - acc: 0.996 - ETA: 4s - loss: 0.0022 - acc: 0.997 - ETA: 4s - loss: 0.0021 - acc: 0.997 - ETA: 4s - loss: 0.0019 - acc: 0.997 - ETA: 4s - loss: 0.0018 - acc: 0.997 - ETA: 4s - loss: 0.0016 - acc: 0.997 - ETA: 3s - loss: 0.0015 - acc: 0.998 - ETA: 3s - loss: 0.0015 - acc: 0.998 - ETA: 3s - loss: 0.0014 - acc: 0.998 - ETA: 3s - loss: 0.0013 - acc: 0.998 - ETA: 3s - loss: 0.0012 - acc: 0.998 - ETA: 3s - loss: 0.0019 - acc: 0.998 - ETA: 3s - loss: 0.0019 - acc: 0.998 - ETA: 3s - loss: 0.0018 - acc: 0.998 - ETA: 3s - loss: 0.0017 - acc: 0.998 - ETA: 3s - loss: 0.0016 - acc: 0.998 - ETA: 2s - loss: 0.0016 - acc: 0.998 - ETA: 2s - loss: 0.0015 - acc: 0.998 - ETA: 2s - loss: 0.0015 - acc: 0.998 - ETA: 2s - loss: 0.0014 - acc: 0.998 - ETA: 2s - loss: 0.0014 - acc: 0.999 - ETA: 2s - loss: 0.0013 - acc: 0.999 - ETA: 2s - loss: 0.0013 - acc: 0.999 - ETA: 2s - loss: 0.0012 - acc: 0.999 - ETA: 2s - loss: 0.0012 - acc: 0.999 - ETA: 1s - loss: 0.0012 - acc: 0.999 - ETA: 1s - loss: 0.0011 - acc: 0.999 - ETA: 1s - loss: 0.0011 - acc: 0.999 - ETA: 1s - loss: 0.0011 - acc: 0.999 - ETA: 1s - loss: 0.0010 - acc: 0.999 - ETA: 1s - loss: 0.0015 - acc: 0.999 - ETA: 1s - loss: 0.0015 - acc: 0.999 - ETA: 1s - loss: 0.0014 - acc: 0.999 - ETA: 1s - loss: 0.0014 - acc: 0.999 - ETA: 1s - loss: 0.0014 - acc: 0.999 - ETA: 1s - loss: 0.0019 - acc: 0.998 - ETA: 0s - loss: 0.0019 - acc: 0.998 - ETA: 0s - loss: 0.0018 - acc: 0.998 - ETA: 0s - loss: 0.0022 - acc: 0.998 - ETA: 0s - loss: 0.0021 - acc: 0.998 - ETA: 0s - loss: 0.0027 - acc: 0.998 - ETA: 0s - loss: 0.0027 - acc: 0.998 - ETA: 0s - loss: 0.0030 - acc: 0.998 - ETA: 0s - loss: 0.0029 - acc: 0.998 - ETA: 0s - loss: 0.0029 - acc: 0.998 - ETA: 0s - loss: 0.0031 - acc: 0.998 - ETA: 0s - loss: 0.0030 - acc: 0.998 - 5s 3ms/step - loss: 0.0030 - acc: 0.9983 - val_loss: 1.0991 - val_acc: 0.8433\n",
      "\n",
      "Epoch 00090: val_acc did not improve from 0.91170\n",
      "Epoch 91/100\n"
     ]
    },
    {
     "name": "stdout",
     "output_type": "stream",
     "text": [
      "1808/1808 [==============================] - ETA: 4s - loss: 6.4634e-07 - acc: 1.000 - ETA: 4s - loss: 1.4752e-06 - acc: 1.000 - ETA: 4s - loss: 1.9365e-06 - acc: 1.000 - ETA: 4s - loss: 1.8180e-06 - acc: 1.000 - ETA: 4s - loss: 1.8288e-06 - acc: 1.000 - ETA: 4s - loss: 1.9490e-06 - acc: 1.000 - ETA: 4s - loss: 1.8651e-06 - acc: 1.000 - ETA: 4s - loss: 1.7753e-06 - acc: 1.000 - ETA: 3s - loss: 1.6776e-06 - acc: 1.000 - ETA: 3s - loss: 0.0015 - acc: 1.0000    - ETA: 3s - loss: 0.0031 - acc: 1.000 - ETA: 3s - loss: 0.0028 - acc: 1.000 - ETA: 3s - loss: 0.0026 - acc: 1.000 - ETA: 3s - loss: 0.0024 - acc: 1.000 - ETA: 3s - loss: 0.0022 - acc: 1.000 - ETA: 3s - loss: 0.0021 - acc: 1.000 - ETA: 3s - loss: 0.0020 - acc: 1.000 - ETA: 3s - loss: 0.0019 - acc: 1.000 - ETA: 3s - loss: 0.0018 - acc: 1.000 - ETA: 3s - loss: 0.0017 - acc: 1.000 - ETA: 3s - loss: 0.0025 - acc: 1.000 - ETA: 2s - loss: 0.0024 - acc: 1.000 - ETA: 2s - loss: 0.0023 - acc: 1.000 - ETA: 2s - loss: 0.0022 - acc: 1.000 - ETA: 2s - loss: 0.0021 - acc: 1.000 - ETA: 2s - loss: 0.0020 - acc: 1.000 - ETA: 2s - loss: 0.0019 - acc: 1.000 - ETA: 2s - loss: 0.0019 - acc: 1.000 - ETA: 2s - loss: 0.0024 - acc: 1.000 - ETA: 2s - loss: 0.0023 - acc: 1.000 - ETA: 2s - loss: 0.0022 - acc: 1.000 - ETA: 2s - loss: 0.0030 - acc: 0.999 - ETA: 2s - loss: 0.0029 - acc: 0.999 - ETA: 1s - loss: 0.0029 - acc: 0.999 - ETA: 1s - loss: 0.0028 - acc: 0.999 - ETA: 1s - loss: 0.0027 - acc: 0.999 - ETA: 1s - loss: 0.0026 - acc: 0.999 - ETA: 1s - loss: 0.0026 - acc: 0.999 - ETA: 1s - loss: 0.0025 - acc: 0.999 - ETA: 1s - loss: 0.0024 - acc: 0.999 - ETA: 1s - loss: 0.0024 - acc: 0.999 - ETA: 1s - loss: 0.0023 - acc: 0.999 - ETA: 1s - loss: 0.0023 - acc: 0.999 - ETA: 1s - loss: 0.0025 - acc: 0.999 - ETA: 0s - loss: 0.0024 - acc: 0.999 - ETA: 0s - loss: 0.0032 - acc: 0.998 - ETA: 0s - loss: 0.0031 - acc: 0.998 - ETA: 0s - loss: 0.0030 - acc: 0.998 - ETA: 0s - loss: 0.0030 - acc: 0.998 - ETA: 0s - loss: 0.0029 - acc: 0.998 - ETA: 0s - loss: 0.0034 - acc: 0.998 - ETA: 0s - loss: 0.0033 - acc: 0.998 - ETA: 0s - loss: 0.0033 - acc: 0.998 - ETA: 0s - loss: 0.0032 - acc: 0.998 - ETA: 0s - loss: 0.0031 - acc: 0.998 - ETA: 0s - loss: 0.0031 - acc: 0.998 - 5s 3ms/step - loss: 0.0031 - acc: 0.9983 - val_loss: 1.0586 - val_acc: 0.8521\n",
      "\n",
      "Epoch 00091: val_acc did not improve from 0.91170\n",
      "Epoch 92/100\n",
      "1808/1808 [==============================] - ETA: 4s - loss: 1.6932e-06 - acc: 1.000 - ETA: 4s - loss: 1.9400e-06 - acc: 1.000 - ETA: 4s - loss: 1.4448e-06 - acc: 1.000 - ETA: 4s - loss: 1.5185e-06 - acc: 1.000 - ETA: 4s - loss: 1.6552e-06 - acc: 1.000 - ETA: 4s - loss: 2.1219e-06 - acc: 1.000 - ETA: 4s - loss: 2.4002e-06 - acc: 1.000 - ETA: 4s - loss: 3.6788e-06 - acc: 1.000 - ETA: 3s - loss: 3.3718e-06 - acc: 1.000 - ETA: 3s - loss: 3.1541e-06 - acc: 1.000 - ETA: 3s - loss: 3.0600e-06 - acc: 1.000 - ETA: 3s - loss: 2.8500e-06 - acc: 1.000 - ETA: 3s - loss: 2.7307e-06 - acc: 1.000 - ETA: 3s - loss: 2.8854e-06 - acc: 1.000 - ETA: 3s - loss: 3.2431e-06 - acc: 1.000 - ETA: 3s - loss: 3.8492e-06 - acc: 1.000 - ETA: 3s - loss: 3.8026e-06 - acc: 1.000 - ETA: 3s - loss: 3.6436e-06 - acc: 1.000 - ETA: 3s - loss: 9.9828e-04 - acc: 1.000 - ETA: 3s - loss: 9.4855e-04 - acc: 1.000 - ETA: 2s - loss: 9.0349e-04 - acc: 1.000 - ETA: 2s - loss: 8.6255e-04 - acc: 1.000 - ETA: 2s - loss: 8.2519e-04 - acc: 1.000 - ETA: 2s - loss: 7.9083e-04 - acc: 1.000 - ETA: 2s - loss: 7.5925e-04 - acc: 1.000 - ETA: 2s - loss: 7.3022e-04 - acc: 1.000 - ETA: 2s - loss: 7.0326e-04 - acc: 1.000 - ETA: 2s - loss: 6.7821e-04 - acc: 1.000 - ETA: 2s - loss: 0.0025 - acc: 0.9978    - ETA: 2s - loss: 0.0024 - acc: 0.997 - ETA: 2s - loss: 0.0023 - acc: 0.998 - ETA: 2s - loss: 0.0023 - acc: 0.998 - ETA: 2s - loss: 0.0022 - acc: 0.998 - ETA: 1s - loss: 0.0021 - acc: 0.998 - ETA: 1s - loss: 0.0021 - acc: 0.998 - ETA: 1s - loss: 0.0020 - acc: 0.998 - ETA: 1s - loss: 0.0020 - acc: 0.998 - ETA: 1s - loss: 0.0019 - acc: 0.998 - ETA: 1s - loss: 0.0019 - acc: 0.998 - ETA: 1s - loss: 0.0018 - acc: 0.998 - ETA: 1s - loss: 0.0018 - acc: 0.998 - ETA: 1s - loss: 0.0017 - acc: 0.998 - ETA: 1s - loss: 0.0017 - acc: 0.998 - ETA: 1s - loss: 0.0021 - acc: 0.998 - ETA: 0s - loss: 0.0025 - acc: 0.998 - ETA: 0s - loss: 0.0028 - acc: 0.998 - ETA: 0s - loss: 0.0027 - acc: 0.998 - ETA: 0s - loss: 0.0027 - acc: 0.998 - ETA: 0s - loss: 0.0026 - acc: 0.998 - ETA: 0s - loss: 0.0026 - acc: 0.998 - ETA: 0s - loss: 0.0025 - acc: 0.998 - ETA: 0s - loss: 0.0029 - acc: 0.998 - ETA: 0s - loss: 0.0033 - acc: 0.998 - ETA: 0s - loss: 0.0032 - acc: 0.998 - ETA: 0s - loss: 0.0031 - acc: 0.998 - ETA: 0s - loss: 0.0031 - acc: 0.998 - 5s 3ms/step - loss: 0.0031 - acc: 0.9983 - val_loss: 1.0582 - val_acc: 0.8433\n",
      "\n",
      "Epoch 00092: val_acc did not improve from 0.91170\n",
      "Epoch 93/100\n",
      "1808/1808 [==============================] - ETA: 5s - loss: 2.2687e-06 - acc: 1.000 - ETA: 4s - loss: 2.8108e-06 - acc: 1.000 - ETA: 4s - loss: 0.0082 - acc: 0.9896    - ETA: 4s - loss: 0.0062 - acc: 0.992 - ETA: 4s - loss: 0.0049 - acc: 0.993 - ETA: 4s - loss: 0.0041 - acc: 0.994 - ETA: 4s - loss: 0.0035 - acc: 0.995 - ETA: 4s - loss: 0.0052 - acc: 0.996 - ETA: 4s - loss: 0.0046 - acc: 0.996 - ETA: 4s - loss: 0.0042 - acc: 0.996 - ETA: 4s - loss: 0.0038 - acc: 0.997 - ETA: 4s - loss: 0.0035 - acc: 0.997 - ETA: 4s - loss: 0.0032 - acc: 0.997 - ETA: 4s - loss: 0.0030 - acc: 0.997 - ETA: 4s - loss: 0.0028 - acc: 0.997 - ETA: 3s - loss: 0.0026 - acc: 0.998 - ETA: 3s - loss: 0.0024 - acc: 0.998 - ETA: 3s - loss: 0.0023 - acc: 0.998 - ETA: 3s - loss: 0.0022 - acc: 0.998 - ETA: 3s - loss: 0.0021 - acc: 0.998 - ETA: 3s - loss: 0.0033 - acc: 0.997 - ETA: 3s - loss: 0.0032 - acc: 0.997 - ETA: 3s - loss: 0.0031 - acc: 0.997 - ETA: 3s - loss: 0.0029 - acc: 0.997 - ETA: 3s - loss: 0.0028 - acc: 0.997 - ETA: 3s - loss: 0.0027 - acc: 0.997 - ETA: 2s - loss: 0.0035 - acc: 0.996 - ETA: 2s - loss: 0.0034 - acc: 0.996 - ETA: 2s - loss: 0.0039 - acc: 0.996 - ETA: 2s - loss: 0.0037 - acc: 0.996 - ETA: 2s - loss: 0.0036 - acc: 0.997 - ETA: 2s - loss: 0.0035 - acc: 0.997 - ETA: 2s - loss: 0.0034 - acc: 0.997 - ETA: 2s - loss: 0.0033 - acc: 0.997 - ETA: 2s - loss: 0.0032 - acc: 0.997 - ETA: 2s - loss: 0.0036 - acc: 0.997 - ETA: 1s - loss: 0.0036 - acc: 0.997 - ETA: 1s - loss: 0.0035 - acc: 0.997 - ETA: 1s - loss: 0.0034 - acc: 0.997 - ETA: 1s - loss: 0.0033 - acc: 0.997 - ETA: 1s - loss: 0.0032 - acc: 0.997 - ETA: 1s - loss: 0.0031 - acc: 0.997 - ETA: 1s - loss: 0.0031 - acc: 0.997 - ETA: 1s - loss: 0.0030 - acc: 0.997 - ETA: 1s - loss: 0.0029 - acc: 0.997 - ETA: 1s - loss: 0.0029 - acc: 0.998 - ETA: 0s - loss: 0.0028 - acc: 0.998 - ETA: 0s - loss: 0.0027 - acc: 0.998 - ETA: 0s - loss: 0.0027 - acc: 0.998 - ETA: 0s - loss: 0.0026 - acc: 0.998 - ETA: 0s - loss: 0.0026 - acc: 0.998 - ETA: 0s - loss: 0.0033 - acc: 0.998 - ETA: 0s - loss: 0.0032 - acc: 0.998 - ETA: 0s - loss: 0.0032 - acc: 0.998 - ETA: 0s - loss: 0.0031 - acc: 0.998 - ETA: 0s - loss: 0.0030 - acc: 0.998 - 6s 3ms/step - loss: 0.0030 - acc: 0.9983 - val_loss: 1.0828 - val_acc: 0.8433\n",
      "\n",
      "Epoch 00093: val_acc did not improve from 0.91170\n",
      "Epoch 94/100\n"
     ]
    },
    {
     "name": "stdout",
     "output_type": "stream",
     "text": [
      "1808/1808 [==============================] - ETA: 5s - loss: 2.2017e-06 - acc: 1.000 - ETA: 5s - loss: 2.3246e-06 - acc: 1.000 - ETA: 5s - loss: 1.9161e-06 - acc: 1.000 - ETA: 4s - loss: 3.7879e-06 - acc: 1.000 - ETA: 4s - loss: 3.3920e-06 - acc: 1.000 - ETA: 4s - loss: 4.2992e-06 - acc: 1.000 - ETA: 4s - loss: 3.8168e-06 - acc: 1.000 - ETA: 4s - loss: 4.0093e-06 - acc: 1.000 - ETA: 4s - loss: 0.0027 - acc: 0.9965    - ETA: 4s - loss: 0.0025 - acc: 0.996 - ETA: 4s - loss: 0.0022 - acc: 0.997 - ETA: 3s - loss: 0.0036 - acc: 0.997 - ETA: 3s - loss: 0.0055 - acc: 0.995 - ETA: 3s - loss: 0.0051 - acc: 0.995 - ETA: 3s - loss: 0.0048 - acc: 0.995 - ETA: 3s - loss: 0.0045 - acc: 0.996 - ETA: 3s - loss: 0.0042 - acc: 0.996 - ETA: 3s - loss: 0.0040 - acc: 0.996 - ETA: 3s - loss: 0.0038 - acc: 0.996 - ETA: 3s - loss: 0.0036 - acc: 0.996 - ETA: 3s - loss: 0.0034 - acc: 0.997 - ETA: 3s - loss: 0.0033 - acc: 0.997 - ETA: 2s - loss: 0.0031 - acc: 0.997 - ETA: 2s - loss: 0.0030 - acc: 0.997 - ETA: 2s - loss: 0.0029 - acc: 0.997 - ETA: 2s - loss: 0.0028 - acc: 0.997 - ETA: 2s - loss: 0.0027 - acc: 0.997 - ETA: 2s - loss: 0.0026 - acc: 0.997 - ETA: 2s - loss: 0.0025 - acc: 0.997 - ETA: 2s - loss: 0.0024 - acc: 0.997 - ETA: 2s - loss: 0.0023 - acc: 0.998 - ETA: 2s - loss: 0.0022 - acc: 0.998 - ETA: 2s - loss: 0.0022 - acc: 0.998 - ETA: 1s - loss: 0.0021 - acc: 0.998 - ETA: 1s - loss: 0.0021 - acc: 0.998 - ETA: 1s - loss: 0.0020 - acc: 0.998 - ETA: 1s - loss: 0.0019 - acc: 0.998 - ETA: 1s - loss: 0.0024 - acc: 0.998 - ETA: 1s - loss: 0.0023 - acc: 0.998 - ETA: 1s - loss: 0.0023 - acc: 0.998 - ETA: 1s - loss: 0.0027 - acc: 0.998 - ETA: 1s - loss: 0.0026 - acc: 0.998 - ETA: 1s - loss: 0.0026 - acc: 0.998 - ETA: 1s - loss: 0.0025 - acc: 0.998 - ETA: 1s - loss: 0.0025 - acc: 0.998 - ETA: 0s - loss: 0.0024 - acc: 0.998 - ETA: 0s - loss: 0.0024 - acc: 0.998 - ETA: 0s - loss: 0.0023 - acc: 0.998 - ETA: 0s - loss: 0.0028 - acc: 0.998 - ETA: 0s - loss: 0.0027 - acc: 0.998 - ETA: 0s - loss: 0.0027 - acc: 0.998 - ETA: 0s - loss: 0.0029 - acc: 0.998 - ETA: 0s - loss: 0.0029 - acc: 0.998 - ETA: 0s - loss: 0.0028 - acc: 0.998 - ETA: 0s - loss: 0.0028 - acc: 0.998 - ETA: 0s - loss: 0.0030 - acc: 0.998 - 5s 3ms/step - loss: 0.0030 - acc: 0.9983 - val_loss: 1.0788 - val_acc: 0.8455\n",
      "\n",
      "Epoch 00094: val_acc did not improve from 0.91170\n",
      "Epoch 95/100\n",
      "1808/1808 [==============================] - ETA: 4s - loss: 7.5404e-06 - acc: 1.000 - ETA: 5s - loss: 0.0137 - acc: 0.9844    - ETA: 5s - loss: 0.0091 - acc: 0.989 - ETA: 5s - loss: 0.0068 - acc: 0.992 - ETA: 5s - loss: 0.0055 - acc: 0.993 - ETA: 4s - loss: 0.0046 - acc: 0.994 - ETA: 4s - loss: 0.0039 - acc: 0.995 - ETA: 4s - loss: 0.0034 - acc: 0.996 - ETA: 4s - loss: 0.0030 - acc: 0.996 - ETA: 4s - loss: 0.0027 - acc: 0.996 - ETA: 4s - loss: 0.0025 - acc: 0.997 - ETA: 4s - loss: 0.0023 - acc: 0.997 - ETA: 4s - loss: 0.0021 - acc: 0.997 - ETA: 4s - loss: 0.0020 - acc: 0.997 - ETA: 3s - loss: 0.0042 - acc: 0.997 - ETA: 3s - loss: 0.0055 - acc: 0.996 - ETA: 3s - loss: 0.0052 - acc: 0.996 - ETA: 3s - loss: 0.0049 - acc: 0.996 - ETA: 3s - loss: 0.0046 - acc: 0.996 - ETA: 3s - loss: 0.0044 - acc: 0.996 - ETA: 3s - loss: 0.0042 - acc: 0.997 - ETA: 3s - loss: 0.0040 - acc: 0.997 - ETA: 3s - loss: 0.0038 - acc: 0.997 - ETA: 3s - loss: 0.0037 - acc: 0.997 - ETA: 2s - loss: 0.0035 - acc: 0.997 - ETA: 2s - loss: 0.0034 - acc: 0.997 - ETA: 2s - loss: 0.0033 - acc: 0.997 - ETA: 2s - loss: 0.0031 - acc: 0.997 - ETA: 2s - loss: 0.0030 - acc: 0.997 - ETA: 2s - loss: 0.0029 - acc: 0.997 - ETA: 2s - loss: 0.0028 - acc: 0.998 - ETA: 2s - loss: 0.0028 - acc: 0.998 - ETA: 2s - loss: 0.0027 - acc: 0.998 - ETA: 2s - loss: 0.0026 - acc: 0.998 - ETA: 1s - loss: 0.0025 - acc: 0.998 - ETA: 1s - loss: 0.0024 - acc: 0.998 - ETA: 1s - loss: 0.0024 - acc: 0.998 - ETA: 1s - loss: 0.0023 - acc: 0.998 - ETA: 1s - loss: 0.0023 - acc: 0.998 - ETA: 1s - loss: 0.0028 - acc: 0.997 - ETA: 1s - loss: 0.0032 - acc: 0.997 - ETA: 1s - loss: 0.0031 - acc: 0.997 - ETA: 1s - loss: 0.0031 - acc: 0.997 - ETA: 1s - loss: 0.0030 - acc: 0.997 - ETA: 1s - loss: 0.0029 - acc: 0.997 - ETA: 0s - loss: 0.0029 - acc: 0.998 - ETA: 0s - loss: 0.0028 - acc: 0.998 - ETA: 0s - loss: 0.0027 - acc: 0.998 - ETA: 0s - loss: 0.0027 - acc: 0.998 - ETA: 0s - loss: 0.0026 - acc: 0.998 - ETA: 0s - loss: 0.0026 - acc: 0.998 - ETA: 0s - loss: 0.0025 - acc: 0.998 - ETA: 0s - loss: 0.0028 - acc: 0.998 - ETA: 0s - loss: 0.0027 - acc: 0.998 - ETA: 0s - loss: 0.0030 - acc: 0.998 - ETA: 0s - loss: 0.0030 - acc: 0.998 - 5s 3ms/step - loss: 0.0030 - acc: 0.9983 - val_loss: 1.1119 - val_acc: 0.8455\n",
      "\n",
      "Epoch 00095: val_acc did not improve from 0.91170\n",
      "Epoch 96/100\n",
      "1808/1808 [==============================] - ETA: 4s - loss: 1.8757e-06 - acc: 1.000 - ETA: 4s - loss: 0.0094 - acc: 1.0000    - ETA: 5s - loss: 0.0062 - acc: 1.000 - ETA: 5s - loss: 0.0047 - acc: 1.000 - ETA: 4s - loss: 0.0037 - acc: 1.000 - ETA: 4s - loss: 0.0031 - acc: 1.000 - ETA: 4s - loss: 0.0027 - acc: 1.000 - ETA: 4s - loss: 0.0062 - acc: 0.996 - ETA: 4s - loss: 0.0055 - acc: 0.996 - ETA: 4s - loss: 0.0050 - acc: 0.996 - ETA: 4s - loss: 0.0045 - acc: 0.997 - ETA: 4s - loss: 0.0057 - acc: 0.997 - ETA: 4s - loss: 0.0052 - acc: 0.997 - ETA: 4s - loss: 0.0060 - acc: 0.997 - ETA: 4s - loss: 0.0056 - acc: 0.997 - ETA: 3s - loss: 0.0068 - acc: 0.996 - ETA: 3s - loss: 0.0064 - acc: 0.996 - ETA: 3s - loss: 0.0061 - acc: 0.996 - ETA: 3s - loss: 0.0057 - acc: 0.996 - ETA: 3s - loss: 0.0055 - acc: 0.996 - ETA: 3s - loss: 0.0052 - acc: 0.997 - ETA: 3s - loss: 0.0050 - acc: 0.997 - ETA: 3s - loss: 0.0047 - acc: 0.997 - ETA: 3s - loss: 0.0045 - acc: 0.997 - ETA: 2s - loss: 0.0044 - acc: 0.997 - ETA: 2s - loss: 0.0042 - acc: 0.997 - ETA: 2s - loss: 0.0040 - acc: 0.997 - ETA: 2s - loss: 0.0039 - acc: 0.997 - ETA: 2s - loss: 0.0038 - acc: 0.997 - ETA: 2s - loss: 0.0036 - acc: 0.997 - ETA: 2s - loss: 0.0035 - acc: 0.998 - ETA: 2s - loss: 0.0042 - acc: 0.997 - ETA: 2s - loss: 0.0041 - acc: 0.997 - ETA: 2s - loss: 0.0040 - acc: 0.997 - ETA: 2s - loss: 0.0038 - acc: 0.997 - ETA: 1s - loss: 0.0037 - acc: 0.997 - ETA: 1s - loss: 0.0036 - acc: 0.997 - ETA: 1s - loss: 0.0035 - acc: 0.997 - ETA: 1s - loss: 0.0034 - acc: 0.997 - ETA: 1s - loss: 0.0034 - acc: 0.997 - ETA: 1s - loss: 0.0033 - acc: 0.997 - ETA: 1s - loss: 0.0032 - acc: 0.997 - ETA: 1s - loss: 0.0031 - acc: 0.997 - ETA: 1s - loss: 0.0031 - acc: 0.997 - ETA: 1s - loss: 0.0030 - acc: 0.997 - ETA: 0s - loss: 0.0029 - acc: 0.998 - ETA: 0s - loss: 0.0029 - acc: 0.998 - ETA: 0s - loss: 0.0028 - acc: 0.998 - ETA: 0s - loss: 0.0027 - acc: 0.998 - ETA: 0s - loss: 0.0027 - acc: 0.998 - ETA: 0s - loss: 0.0026 - acc: 0.998 - ETA: 0s - loss: 0.0026 - acc: 0.998 - ETA: 0s - loss: 0.0025 - acc: 0.998 - ETA: 0s - loss: 0.0025 - acc: 0.998 - ETA: 0s - loss: 0.0027 - acc: 0.998 - ETA: 0s - loss: 0.0027 - acc: 0.998 - 6s 3ms/step - loss: 0.0030 - acc: 0.9983 - val_loss: 1.1405 - val_acc: 0.8433\n",
      "\n",
      "Epoch 00096: val_acc did not improve from 0.91170\n",
      "Epoch 97/100\n"
     ]
    },
    {
     "name": "stdout",
     "output_type": "stream",
     "text": [
      "1808/1808 [==============================] - ETA: 4s - loss: 1.0189e-06 - acc: 1.000 - ETA: 4s - loss: 0.0150 - acc: 0.9844    - ETA: 4s - loss: 0.0100 - acc: 0.989 - ETA: 4s - loss: 0.0121 - acc: 0.992 - ETA: 4s - loss: 0.0097 - acc: 0.993 - ETA: 4s - loss: 0.0081 - acc: 0.994 - ETA: 4s - loss: 0.0069 - acc: 0.995 - ETA: 4s - loss: 0.0061 - acc: 0.996 - ETA: 4s - loss: 0.0054 - acc: 0.996 - ETA: 4s - loss: 0.0049 - acc: 0.996 - ETA: 4s - loss: 0.0044 - acc: 0.997 - ETA: 3s - loss: 0.0069 - acc: 0.997 - ETA: 3s - loss: 0.0063 - acc: 0.997 - ETA: 3s - loss: 0.0059 - acc: 0.997 - ETA: 3s - loss: 0.0055 - acc: 0.997 - ETA: 3s - loss: 0.0052 - acc: 0.998 - ETA: 3s - loss: 0.0049 - acc: 0.998 - ETA: 3s - loss: 0.0046 - acc: 0.998 - ETA: 3s - loss: 0.0043 - acc: 0.998 - ETA: 3s - loss: 0.0041 - acc: 0.998 - ETA: 3s - loss: 0.0039 - acc: 0.998 - ETA: 3s - loss: 0.0037 - acc: 0.998 - ETA: 3s - loss: 0.0036 - acc: 0.998 - ETA: 2s - loss: 0.0034 - acc: 0.998 - ETA: 2s - loss: 0.0033 - acc: 0.998 - ETA: 2s - loss: 0.0038 - acc: 0.998 - ETA: 2s - loss: 0.0037 - acc: 0.998 - ETA: 2s - loss: 0.0036 - acc: 0.998 - ETA: 2s - loss: 0.0034 - acc: 0.998 - ETA: 2s - loss: 0.0033 - acc: 0.999 - ETA: 2s - loss: 0.0032 - acc: 0.999 - ETA: 2s - loss: 0.0031 - acc: 0.999 - ETA: 2s - loss: 0.0039 - acc: 0.998 - ETA: 2s - loss: 0.0037 - acc: 0.998 - ETA: 1s - loss: 0.0036 - acc: 0.998 - ETA: 1s - loss: 0.0035 - acc: 0.998 - ETA: 1s - loss: 0.0042 - acc: 0.997 - ETA: 1s - loss: 0.0041 - acc: 0.997 - ETA: 1s - loss: 0.0040 - acc: 0.997 - ETA: 1s - loss: 0.0039 - acc: 0.997 - ETA: 1s - loss: 0.0038 - acc: 0.997 - ETA: 1s - loss: 0.0037 - acc: 0.997 - ETA: 1s - loss: 0.0036 - acc: 0.997 - ETA: 1s - loss: 0.0035 - acc: 0.997 - ETA: 1s - loss: 0.0037 - acc: 0.997 - ETA: 0s - loss: 0.0037 - acc: 0.998 - ETA: 0s - loss: 0.0036 - acc: 0.998 - ETA: 0s - loss: 0.0035 - acc: 0.998 - ETA: 0s - loss: 0.0034 - acc: 0.998 - ETA: 0s - loss: 0.0034 - acc: 0.998 - ETA: 0s - loss: 0.0033 - acc: 0.998 - ETA: 0s - loss: 0.0032 - acc: 0.998 - ETA: 0s - loss: 0.0032 - acc: 0.998 - ETA: 0s - loss: 0.0031 - acc: 0.998 - ETA: 0s - loss: 0.0031 - acc: 0.998 - ETA: 0s - loss: 0.0030 - acc: 0.998 - 6s 3ms/step - loss: 0.0030 - acc: 0.9983 - val_loss: 1.1301 - val_acc: 0.8477\n",
      "\n",
      "Epoch 00097: val_acc did not improve from 0.91170\n",
      "Epoch 98/100\n",
      "1808/1808 [==============================] - ETA: 4s - loss: 2.9057e-07 - acc: 1.000 - ETA: 4s - loss: 7.8511e-07 - acc: 1.000 - ETA: 4s - loss: 0.0059 - acc: 1.0000    - ETA: 4s - loss: 0.0044 - acc: 1.000 - ETA: 4s - loss: 0.0035 - acc: 1.000 - ETA: 4s - loss: 0.0029 - acc: 1.000 - ETA: 3s - loss: 0.0025 - acc: 1.000 - ETA: 3s - loss: 0.0022 - acc: 1.000 - ETA: 3s - loss: 0.0020 - acc: 1.000 - ETA: 3s - loss: 0.0018 - acc: 1.000 - ETA: 3s - loss: 0.0016 - acc: 1.000 - ETA: 3s - loss: 0.0015 - acc: 1.000 - ETA: 3s - loss: 0.0014 - acc: 1.000 - ETA: 3s - loss: 0.0013 - acc: 1.000 - ETA: 3s - loss: 0.0030 - acc: 0.997 - ETA: 3s - loss: 0.0028 - acc: 0.998 - ETA: 3s - loss: 0.0026 - acc: 0.998 - ETA: 3s - loss: 0.0025 - acc: 0.998 - ETA: 3s - loss: 0.0023 - acc: 0.998 - ETA: 2s - loss: 0.0022 - acc: 0.998 - ETA: 2s - loss: 0.0021 - acc: 0.998 - ETA: 2s - loss: 0.0020 - acc: 0.998 - ETA: 2s - loss: 0.0019 - acc: 0.998 - ETA: 2s - loss: 0.0019 - acc: 0.998 - ETA: 2s - loss: 0.0028 - acc: 0.997 - ETA: 2s - loss: 0.0027 - acc: 0.997 - ETA: 2s - loss: 0.0026 - acc: 0.997 - ETA: 2s - loss: 0.0025 - acc: 0.997 - ETA: 2s - loss: 0.0024 - acc: 0.997 - ETA: 2s - loss: 0.0024 - acc: 0.997 - ETA: 2s - loss: 0.0023 - acc: 0.998 - ETA: 2s - loss: 0.0026 - acc: 0.998 - ETA: 1s - loss: 0.0029 - acc: 0.998 - ETA: 1s - loss: 0.0028 - acc: 0.998 - ETA: 1s - loss: 0.0028 - acc: 0.998 - ETA: 1s - loss: 0.0027 - acc: 0.998 - ETA: 1s - loss: 0.0026 - acc: 0.998 - ETA: 1s - loss: 0.0025 - acc: 0.998 - ETA: 1s - loss: 0.0025 - acc: 0.998 - ETA: 1s - loss: 0.0024 - acc: 0.998 - ETA: 1s - loss: 0.0024 - acc: 0.998 - ETA: 1s - loss: 0.0027 - acc: 0.998 - ETA: 1s - loss: 0.0027 - acc: 0.998 - ETA: 1s - loss: 0.0026 - acc: 0.998 - ETA: 0s - loss: 0.0025 - acc: 0.998 - ETA: 0s - loss: 0.0025 - acc: 0.998 - ETA: 0s - loss: 0.0028 - acc: 0.998 - ETA: 0s - loss: 0.0027 - acc: 0.998 - ETA: 0s - loss: 0.0027 - acc: 0.998 - ETA: 0s - loss: 0.0026 - acc: 0.998 - ETA: 0s - loss: 0.0035 - acc: 0.998 - ETA: 0s - loss: 0.0034 - acc: 0.998 - ETA: 0s - loss: 0.0033 - acc: 0.998 - ETA: 0s - loss: 0.0033 - acc: 0.998 - ETA: 0s - loss: 0.0032 - acc: 0.998 - ETA: 0s - loss: 0.0032 - acc: 0.998 - 5s 3ms/step - loss: 0.0031 - acc: 0.9983 - val_loss: 1.1507 - val_acc: 0.8477\n",
      "\n",
      "Epoch 00098: val_acc did not improve from 0.91170\n",
      "Epoch 99/100\n",
      "1808/1808 [==============================] - ETA: 4s - loss: 4.4145e-07 - acc: 1.000 - ETA: 4s - loss: 8.4658e-07 - acc: 1.000 - ETA: 4s - loss: 6.9291e-07 - acc: 1.000 - ETA: 4s - loss: 6.9291e-07 - acc: 1.000 - ETA: 4s - loss: 7.0371e-07 - acc: 1.000 - ETA: 4s - loss: 1.4098e-06 - acc: 1.000 - ETA: 4s - loss: 1.5144e-06 - acc: 1.000 - ETA: 4s - loss: 0.0033 - acc: 0.9961    - ETA: 3s - loss: 0.0029 - acc: 0.996 - ETA: 3s - loss: 0.0026 - acc: 0.996 - ETA: 3s - loss: 0.0024 - acc: 0.997 - ETA: 3s - loss: 0.0022 - acc: 0.997 - ETA: 3s - loss: 0.0020 - acc: 0.997 - ETA: 3s - loss: 0.0019 - acc: 0.997 - ETA: 3s - loss: 0.0028 - acc: 0.997 - ETA: 3s - loss: 0.0026 - acc: 0.998 - ETA: 3s - loss: 0.0024 - acc: 0.998 - ETA: 3s - loss: 0.0023 - acc: 0.998 - ETA: 3s - loss: 0.0022 - acc: 0.998 - ETA: 3s - loss: 0.0021 - acc: 0.998 - ETA: 2s - loss: 0.0032 - acc: 0.997 - ETA: 2s - loss: 0.0039 - acc: 0.997 - ETA: 2s - loss: 0.0037 - acc: 0.997 - ETA: 2s - loss: 0.0035 - acc: 0.997 - ETA: 2s - loss: 0.0034 - acc: 0.997 - ETA: 2s - loss: 0.0033 - acc: 0.997 - ETA: 2s - loss: 0.0045 - acc: 0.997 - ETA: 2s - loss: 0.0049 - acc: 0.997 - ETA: 2s - loss: 0.0047 - acc: 0.997 - ETA: 2s - loss: 0.0045 - acc: 0.997 - ETA: 2s - loss: 0.0044 - acc: 0.998 - ETA: 2s - loss: 0.0043 - acc: 0.998 - ETA: 1s - loss: 0.0041 - acc: 0.998 - ETA: 1s - loss: 0.0040 - acc: 0.998 - ETA: 1s - loss: 0.0039 - acc: 0.998 - ETA: 1s - loss: 0.0038 - acc: 0.998 - ETA: 1s - loss: 0.0037 - acc: 0.998 - ETA: 1s - loss: 0.0036 - acc: 0.998 - ETA: 1s - loss: 0.0035 - acc: 0.998 - ETA: 1s - loss: 0.0034 - acc: 0.998 - ETA: 1s - loss: 0.0033 - acc: 0.998 - ETA: 1s - loss: 0.0032 - acc: 0.998 - ETA: 1s - loss: 0.0032 - acc: 0.998 - ETA: 1s - loss: 0.0031 - acc: 0.998 - ETA: 1s - loss: 0.0030 - acc: 0.998 - ETA: 0s - loss: 0.0030 - acc: 0.998 - ETA: 0s - loss: 0.0029 - acc: 0.998 - ETA: 0s - loss: 0.0028 - acc: 0.998 - ETA: 0s - loss: 0.0028 - acc: 0.998 - ETA: 0s - loss: 0.0034 - acc: 0.998 - ETA: 0s - loss: 0.0034 - acc: 0.998 - ETA: 0s - loss: 0.0033 - acc: 0.998 - ETA: 0s - loss: 0.0033 - acc: 0.998 - ETA: 0s - loss: 0.0032 - acc: 0.998 - ETA: 0s - loss: 0.0031 - acc: 0.998 - ETA: 0s - loss: 0.0031 - acc: 0.998 - 5s 3ms/step - loss: 0.0030 - acc: 0.9983 - val_loss: 1.0794 - val_acc: 0.8477\n",
      "\n",
      "Epoch 00099: val_acc did not improve from 0.91170\n",
      "Epoch 100/100\n"
     ]
    },
    {
     "name": "stdout",
     "output_type": "stream",
     "text": [
      "1808/1808 [==============================] - ETA: 4s - loss: 0.0310 - acc: 0.968 - ETA: 4s - loss: 0.0155 - acc: 0.984 - ETA: 4s - loss: 0.0103 - acc: 0.989 - ETA: 4s - loss: 0.0078 - acc: 0.992 - ETA: 4s - loss: 0.0062 - acc: 0.993 - ETA: 4s - loss: 0.0052 - acc: 0.994 - ETA: 4s - loss: 0.0044 - acc: 0.995 - ETA: 3s - loss: 0.0039 - acc: 0.996 - ETA: 3s - loss: 0.0034 - acc: 0.996 - ETA: 3s - loss: 0.0031 - acc: 0.996 - ETA: 3s - loss: 0.0028 - acc: 0.997 - ETA: 3s - loss: 0.0026 - acc: 0.997 - ETA: 3s - loss: 0.0024 - acc: 0.997 - ETA: 3s - loss: 0.0022 - acc: 0.997 - ETA: 3s - loss: 0.0021 - acc: 0.997 - ETA: 3s - loss: 0.0031 - acc: 0.998 - ETA: 3s - loss: 0.0029 - acc: 0.998 - ETA: 3s - loss: 0.0028 - acc: 0.998 - ETA: 3s - loss: 0.0036 - acc: 0.998 - ETA: 3s - loss: 0.0034 - acc: 0.998 - ETA: 2s - loss: 0.0033 - acc: 0.998 - ETA: 2s - loss: 0.0031 - acc: 0.998 - ETA: 2s - loss: 0.0041 - acc: 0.997 - ETA: 2s - loss: 0.0039 - acc: 0.997 - ETA: 2s - loss: 0.0037 - acc: 0.997 - ETA: 2s - loss: 0.0036 - acc: 0.997 - ETA: 2s - loss: 0.0035 - acc: 0.997 - ETA: 2s - loss: 0.0033 - acc: 0.997 - ETA: 2s - loss: 0.0032 - acc: 0.997 - ETA: 2s - loss: 0.0031 - acc: 0.997 - ETA: 2s - loss: 0.0030 - acc: 0.998 - ETA: 2s - loss: 0.0029 - acc: 0.998 - ETA: 1s - loss: 0.0034 - acc: 0.998 - ETA: 1s - loss: 0.0033 - acc: 0.998 - ETA: 1s - loss: 0.0032 - acc: 0.998 - ETA: 1s - loss: 0.0031 - acc: 0.998 - ETA: 1s - loss: 0.0030 - acc: 0.998 - ETA: 1s - loss: 0.0029 - acc: 0.998 - ETA: 1s - loss: 0.0029 - acc: 0.998 - ETA: 1s - loss: 0.0034 - acc: 0.997 - ETA: 1s - loss: 0.0033 - acc: 0.997 - ETA: 1s - loss: 0.0033 - acc: 0.997 - ETA: 1s - loss: 0.0032 - acc: 0.997 - ETA: 1s - loss: 0.0031 - acc: 0.997 - ETA: 0s - loss: 0.0034 - acc: 0.997 - ETA: 0s - loss: 0.0034 - acc: 0.998 - ETA: 0s - loss: 0.0033 - acc: 0.998 - ETA: 0s - loss: 0.0032 - acc: 0.998 - ETA: 0s - loss: 0.0032 - acc: 0.998 - ETA: 0s - loss: 0.0034 - acc: 0.998 - ETA: 0s - loss: 0.0034 - acc: 0.998 - ETA: 0s - loss: 0.0033 - acc: 0.998 - ETA: 0s - loss: 0.0033 - acc: 0.998 - ETA: 0s - loss: 0.0032 - acc: 0.998 - ETA: 0s - loss: 0.0031 - acc: 0.998 - ETA: 0s - loss: 0.0031 - acc: 0.998 - 5s 3ms/step - loss: 0.0030 - acc: 0.9983 - val_loss: 1.0735 - val_acc: 0.8433\n",
      "\n",
      "Epoch 00100: val_acc did not improve from 0.91170\n"
     ]
    }
   ],
   "source": [
    "hist=model.fit(x_train,y_train,epochs=100,batch_size=32,validation_data=(x_test, y_test),callbacks=callbacks_list)"
   ]
  },
  {
   "cell_type": "code",
   "execution_count": 125,
   "metadata": {},
   "outputs": [],
   "source": [
    "from keras.models import load_model\n",
    "# load weights into new model\n",
    "loaded_model= load_model(\"task3_cnn_fasttext.hdf5\")"
   ]
  },
  {
   "cell_type": "code",
   "execution_count": 108,
   "metadata": {},
   "outputs": [
    {
     "name": "stdout",
     "output_type": "stream",
     "text": [
      "453/453 [==============================] - 0s 317us/step\n"
     ]
    },
    {
     "data": {
      "text/plain": [
       "[1.327110879468602, 0.8487858720962574]"
      ]
     },
     "execution_count": 108,
     "metadata": {},
     "output_type": "execute_result"
    }
   ],
   "source": [
    "#model.evaluate(x_test,y_test)"
   ]
  },
  {
   "cell_type": "code",
   "execution_count": 134,
   "metadata": {},
   "outputs": [],
   "source": [
    "w=model.predict_classes(x_test)"
   ]
  },
  {
   "cell_type": "code",
   "execution_count": 135,
   "metadata": {},
   "outputs": [],
   "source": [
    "from sklearn.metrics import classification_report,confusion_matrix"
   ]
  },
  {
   "cell_type": "code",
   "execution_count": 136,
   "metadata": {},
   "outputs": [],
   "source": [
    "Y_actual=[]\n",
    "for ix in y_test:\n",
    "    Y_actual.append(np.argmax(ix))"
   ]
  },
  {
   "cell_type": "code",
   "execution_count": 137,
   "metadata": {},
   "outputs": [
    {
     "name": "stdout",
     "output_type": "stream",
     "text": [
      "             precision    recall  f1-score   support\n",
      "\n",
      "          0       0.10      0.10      0.10        40\n",
      "          1       0.91      0.92      0.91       413\n",
      "\n",
      "avg / total       0.84      0.84      0.84       453\n",
      "\n"
     ]
    }
   ],
   "source": [
    "print(classification_report(Y_actual,w))"
   ]
  },
  {
   "cell_type": "code",
   "execution_count": 138,
   "metadata": {},
   "outputs": [
    {
     "name": "stdout",
     "output_type": "stream",
     "text": [
      "[[  4  36]\n",
      " [ 35 378]]\n"
     ]
    }
   ],
   "source": [
    "print(confusion_matrix(Y_actual,w))"
   ]
  },
  {
   "cell_type": "code",
   "execution_count": 139,
   "metadata": {},
   "outputs": [],
   "source": [
    "data_test=pd.read_csv('hasoc2019_en_test.tsv', sep = '\\t', encoding=\"latin-1\")"
   ]
  },
  {
   "cell_type": "code",
   "execution_count": 140,
   "metadata": {},
   "outputs": [
    {
     "data": {
      "text/html": [
       "<div>\n",
       "<style scoped>\n",
       "    .dataframe tbody tr th:only-of-type {\n",
       "        vertical-align: middle;\n",
       "    }\n",
       "\n",
       "    .dataframe tbody tr th {\n",
       "        vertical-align: top;\n",
       "    }\n",
       "\n",
       "    .dataframe thead th {\n",
       "        text-align: right;\n",
       "    }\n",
       "</style>\n",
       "<table border=\"1\" class=\"dataframe\">\n",
       "  <thead>\n",
       "    <tr style=\"text-align: right;\">\n",
       "      <th></th>\n",
       "      <th>text_id</th>\n",
       "      <th>text</th>\n",
       "    </tr>\n",
       "  </thead>\n",
       "  <tbody>\n",
       "    <tr>\n",
       "      <th>0</th>\n",
       "      <td>hasoc_en_902</td>\n",
       "      <td>West Bengal Doctor Crisis: Protesting doctors ...</td>\n",
       "    </tr>\n",
       "    <tr>\n",
       "      <th>1</th>\n",
       "      <td>hasoc_en_416</td>\n",
       "      <td>68.5 million people have been forced to leave ...</td>\n",
       "    </tr>\n",
       "    <tr>\n",
       "      <th>2</th>\n",
       "      <td>hasoc_en_207</td>\n",
       "      <td>You came, you saw .... we will look after the ...</td>\n",
       "    </tr>\n",
       "    <tr>\n",
       "      <th>3</th>\n",
       "      <td>hasoc_en_595</td>\n",
       "      <td>We'll get Brexit delivered by October 31st.   ...</td>\n",
       "    </tr>\n",
       "    <tr>\n",
       "      <th>4</th>\n",
       "      <td>hasoc_en_568</td>\n",
       "      <td>Fuck you. Go back to the dark ages you cow @IB...</td>\n",
       "    </tr>\n",
       "  </tbody>\n",
       "</table>\n",
       "</div>"
      ],
      "text/plain": [
       "        text_id                                               text\n",
       "0  hasoc_en_902  West Bengal Doctor Crisis: Protesting doctors ...\n",
       "1  hasoc_en_416  68.5 million people have been forced to leave ...\n",
       "2  hasoc_en_207  You came, you saw .... we will look after the ...\n",
       "3  hasoc_en_595  We'll get Brexit delivered by October 31st.   ...\n",
       "4  hasoc_en_568  Fuck you. Go back to the dark ages you cow @IB..."
      ]
     },
     "execution_count": 140,
     "metadata": {},
     "output_type": "execute_result"
    }
   ],
   "source": [
    "data_test.head()"
   ]
  },
  {
   "cell_type": "code",
   "execution_count": 150,
   "metadata": {},
   "outputs": [],
   "source": [
    "Column_Sequence=np.array(data_test[\"text\"],dtype=\"str\")\n",
    "fresh=[]\n",
    "for ix in Column_Sequence:\n",
    "    sen=ix.lower()\n",
    "    sen=Tokenizer.tokenize(sen)\n",
    "    wordss=[(Word) for Word in sen if len(Word)>2 and Word not in word]\n",
    "    sentance=\" \".join(wordss)\n",
    "    fresh.append(sentance)"
   ]
  },
  {
   "cell_type": "code",
   "execution_count": 151,
   "metadata": {},
   "outputs": [],
   "source": [
    "tokenizer = keras_text.Tokenizer(char_level = False,lower=True) #\n",
    "t=tokenizer.fit_on_texts(list(fresh))\n",
    "list_tokenized_train = tokenizer.texts_to_sequences(fresh)\n",
    "X_t = keras_seq.pad_sequences(list_tokenized_train, maxlen=300,padding=\"post\") #maxlen padding 100"
   ]
  },
  {
   "cell_type": "code",
   "execution_count": 152,
   "metadata": {},
   "outputs": [],
   "source": [
    "w_test=model.predict_classes(X_t)"
   ]
  },
  {
   "cell_type": "code",
   "execution_count": 153,
   "metadata": {},
   "outputs": [
    {
     "data": {
      "text/plain": [
       "array([1, 0, 0, ..., 1, 1, 1], dtype=int64)"
      ]
     },
     "execution_count": 153,
     "metadata": {},
     "output_type": "execute_result"
    }
   ],
   "source": [
    "w_test"
   ]
  },
  {
   "cell_type": "code",
   "execution_count": 154,
   "metadata": {},
   "outputs": [
    {
     "name": "stdout",
     "output_type": "stream",
     "text": [
      "110\n"
     ]
    },
    {
     "data": {
      "text/plain": [
       "1043"
      ]
     },
     "execution_count": 154,
     "metadata": {},
     "output_type": "execute_result"
    }
   ],
   "source": [
    "print(len(w_test)-np.count_nonzero(w_test))\n",
    "np.count_nonzero(w_test)"
   ]
  },
  {
   "cell_type": "code",
   "execution_count": 155,
   "metadata": {},
   "outputs": [],
   "source": [
    "output = pd.DataFrame()\n",
    "#out_result['text_id'] = "
   ]
  },
  {
   "cell_type": "code",
   "execution_count": 156,
   "metadata": {},
   "outputs": [],
   "source": [
    "output['text_id'] = data_test['text_id']"
   ]
  },
  {
   "cell_type": "code",
   "execution_count": 157,
   "metadata": {},
   "outputs": [
    {
     "data": {
      "text/html": [
       "<div>\n",
       "<style scoped>\n",
       "    .dataframe tbody tr th:only-of-type {\n",
       "        vertical-align: middle;\n",
       "    }\n",
       "\n",
       "    .dataframe tbody tr th {\n",
       "        vertical-align: top;\n",
       "    }\n",
       "\n",
       "    .dataframe thead th {\n",
       "        text-align: right;\n",
       "    }\n",
       "</style>\n",
       "<table border=\"1\" class=\"dataframe\">\n",
       "  <thead>\n",
       "    <tr style=\"text-align: right;\">\n",
       "      <th></th>\n",
       "      <th>text_id</th>\n",
       "    </tr>\n",
       "  </thead>\n",
       "  <tbody>\n",
       "    <tr>\n",
       "      <th>1148</th>\n",
       "      <td>hasoc_en1_3958</td>\n",
       "    </tr>\n",
       "    <tr>\n",
       "      <th>1149</th>\n",
       "      <td>hasoc_en1_4648</td>\n",
       "    </tr>\n",
       "    <tr>\n",
       "      <th>1150</th>\n",
       "      <td>hasoc_en1_4832</td>\n",
       "    </tr>\n",
       "    <tr>\n",
       "      <th>1151</th>\n",
       "      <td>hasoc_en1_3721</td>\n",
       "    </tr>\n",
       "    <tr>\n",
       "      <th>1152</th>\n",
       "      <td>hasoc_en1_991</td>\n",
       "    </tr>\n",
       "  </tbody>\n",
       "</table>\n",
       "</div>"
      ],
      "text/plain": [
       "             text_id\n",
       "1148  hasoc_en1_3958\n",
       "1149  hasoc_en1_4648\n",
       "1150  hasoc_en1_4832\n",
       "1151  hasoc_en1_3721\n",
       "1152   hasoc_en1_991"
      ]
     },
     "execution_count": 157,
     "metadata": {},
     "output_type": "execute_result"
    }
   ],
   "source": [
    "output.tail()"
   ]
  },
  {
   "cell_type": "code",
   "execution_count": 158,
   "metadata": {},
   "outputs": [],
   "source": [
    "ans_dict = {0:'UNT',1:'TIN'}\n",
    "w2 = np.vectorize(ans_dict.get)(w_test)\n",
    "output['result'] = w2"
   ]
  },
  {
   "cell_type": "code",
   "execution_count": 159,
   "metadata": {},
   "outputs": [],
   "source": [
    "output.to_csv('Kirti Kumari_English_task_3_run_3.tsv',header=True,sep='\\t',index=False)"
   ]
  },
  {
   "cell_type": "code",
   "execution_count": null,
   "metadata": {},
   "outputs": [],
   "source": []
  }
 ],
 "metadata": {
  "kernelspec": {
   "display_name": "Python 3",
   "language": "python",
   "name": "python3"
  },
  "language_info": {
   "codemirror_mode": {
    "name": "ipython",
    "version": 3
   },
   "file_extension": ".py",
   "mimetype": "text/x-python",
   "name": "python",
   "nbconvert_exporter": "python",
   "pygments_lexer": "ipython3",
   "version": "3.6.4"
  }
 },
 "nbformat": 4,
 "nbformat_minor": 2
}
