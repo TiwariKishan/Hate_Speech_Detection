{
 "cells": [
  {
   "cell_type": "code",
   "execution_count": 2,
   "metadata": {},
   "outputs": [],
   "source": [
    "import pandas as pd\n",
    "import numpy as np\n",
    "import nltk\n",
    "from nltk.corpus import stopwords\n",
    "from nltk.tokenize import RegexpTokenizer\n",
    "from nltk.stem.porter import PorterStemmer\n",
    "from keras.preprocessing import text as keras_text, sequence as keras_seq\n",
    "from keras.utils import np_utils\n",
    "from keras.layers import Conv1D, GlobalMaxPooling1D\n",
    "from keras.layers import Dense, Activation, Convolution1D, MaxPooling1D, Dropout, Flatten\n",
    "from keras.models import Sequential, save_model\n",
    "from sklearn.model_selection import train_test_split\n",
    "from keras.layers import Embedding\n",
    "from sklearn.metrics import classification_report,confusion_matrix"
   ]
  },
  {
   "cell_type": "code",
   "execution_count": 3,
   "metadata": {},
   "outputs": [
    {
     "name": "stdout",
     "output_type": "stream",
     "text": [
      "[nltk_data] Downloading package stopwords to C:\\Users\\Kirti\n",
      "[nltk_data]     Mishra\\AppData\\Roaming\\nltk_data...\n",
      "[nltk_data]   Package stopwords is already up-to-date!\n"
     ]
    },
    {
     "data": {
      "text/plain": [
       "True"
      ]
     },
     "execution_count": 3,
     "metadata": {},
     "output_type": "execute_result"
    }
   ],
   "source": [
    "nltk.download('stopwords')"
   ]
  },
  {
   "cell_type": "code",
   "execution_count": 4,
   "metadata": {},
   "outputs": [],
   "source": [
    "Tokenizer=RegexpTokenizer(r\"\\w+[a-z]+\")   ## only word\n",
    "word=set(stopwords.words(\"english\"))"
   ]
  },
  {
   "cell_type": "code",
   "execution_count": 5,
   "metadata": {},
   "outputs": [],
   "source": [
    "data_new=pd.read_csv('english_dataset.tsv', sep = '\\t', encoding=\"latin-1\")"
   ]
  },
  {
   "cell_type": "code",
   "execution_count": 6,
   "metadata": {},
   "outputs": [
    {
     "data": {
      "text/plain": [
       "(5852, 5)"
      ]
     },
     "execution_count": 6,
     "metadata": {},
     "output_type": "execute_result"
    }
   ],
   "source": [
    "data_new.shape"
   ]
  },
  {
   "cell_type": "code",
   "execution_count": 7,
   "metadata": {},
   "outputs": [],
   "source": [
    "data_new=data_new.dropna()"
   ]
  },
  {
   "cell_type": "code",
   "execution_count": 8,
   "metadata": {},
   "outputs": [
    {
     "name": "stdout",
     "output_type": "stream",
     "text": [
      "<class 'pandas.core.frame.DataFrame'>\n",
      "Int64Index: 5852 entries, 0 to 5851\n",
      "Data columns (total 5 columns):\n",
      "text_id    5852 non-null object\n",
      "text       5852 non-null object\n",
      "task_1     5852 non-null object\n",
      "task_2     5852 non-null object\n",
      "task_3     5852 non-null object\n",
      "dtypes: object(5)\n",
      "memory usage: 274.3+ KB\n"
     ]
    }
   ],
   "source": [
    "data_new.info()"
   ]
  },
  {
   "cell_type": "code",
   "execution_count": 100,
   "metadata": {},
   "outputs": [],
   "source": [
    "data_new = data_new[data_new[\"task_2\"] != \"NONE\"]\n"
   ]
  },
  {
   "cell_type": "code",
   "execution_count": 101,
   "metadata": {},
   "outputs": [],
   "source": [
    "Column_Sequence=np.array(data_new[\"text\"],dtype=\"str\")"
   ]
  },
  {
   "cell_type": "code",
   "execution_count": 102,
   "metadata": {},
   "outputs": [],
   "source": [
    "fresh=[]\n",
    "for ix in Column_Sequence:\n",
    "    sen=ix.lower()\n",
    "    sen=Tokenizer.tokenize(sen)\n",
    "    wordss=[(Word) for Word in sen if len(Word)>2 and Word not in word]\n",
    "    sentance=\" \".join(wordss)\n",
    "    fresh.append(sentance)"
   ]
  },
  {
   "cell_type": "code",
   "execution_count": 103,
   "metadata": {},
   "outputs": [],
   "source": [
    "tokenizer = keras_text.Tokenizer(char_level = False,lower=True) #\n",
    "t=tokenizer.fit_on_texts(list(fresh))\n",
    "list_tokenized_train = tokenizer.texts_to_sequences(fresh)\n",
    "X_t = keras_seq.pad_sequences(list_tokenized_train, maxlen=300,padding=\"post\") #maxlen padding 100"
   ]
  },
  {
   "cell_type": "code",
   "execution_count": 104,
   "metadata": {},
   "outputs": [
    {
     "name": "stdout",
     "output_type": "stream",
     "text": [
      "loading word embeddings..300 dimention.\n"
     ]
    },
    {
     "name": "stderr",
     "output_type": "stream",
     "text": [
      "111052it [00:19, 5702.44it/s]\n"
     ]
    },
    {
     "name": "stdout",
     "output_type": "stream",
     "text": [
      "found 111052 word vectors\n"
     ]
    }
   ],
   "source": [
    "#load pre-trained embedding:\n",
    "\n",
    "import io\n",
    "import os, re, csv, math, codecs\n",
    "from tqdm import tqdm\n",
    "##\n",
    "#####load embeddings\n",
    "print('loading word embeddings..300 dimention.')\n",
    "embeddings_index = {}\n",
    "f = codecs.open('wiki.simple.vec', encoding='utf-8')\n",
    "for line in tqdm(f):\n",
    "    values = line.rstrip().rsplit(' ')\n",
    "    word = values[0]\n",
    "    coefs = np.asarray(values[1:], dtype='float32')\n",
    "    embeddings_index[word] = coefs\n",
    "f.close()\n",
    "print('found %s word vectors' % len(embeddings_index))\n",
    "\n",
    "#GLOVE_DIR = \"C\\:\\Users\\Abhi\\Desktop\\Abhinav 2nd imp\\Implementation_text and image\\2_class\"\n",
    "#embeddings_index = {}\n",
    "#f = open('glove.6B.300d.txt', encoding=\"utf8\")\n",
    "#for line in f:\n",
    "#    values = line.split()\n",
    "#    word = values[0]\n",
    "#    coefs = np.asarray(values[1:], dtype='float32')\n",
    "#    embeddings_index[word] = coefs\n",
    "#f.close()\n",
    "#print('Total %s word vectors in Glove 6B 100d.' % len(embeddings_index))"
   ]
  },
  {
   "cell_type": "code",
   "execution_count": 105,
   "metadata": {},
   "outputs": [],
   "source": [
    "##### Printing words and index pair \n",
    "index=tokenizer.word_index\n",
    "#print index\n",
    "\n",
    "\n",
    "###Vocabulary size\n",
    "vocab_size = len(index)\n",
    "#print vocab_size"
   ]
  },
  {
   "cell_type": "code",
   "execution_count": 106,
   "metadata": {},
   "outputs": [
    {
     "name": "stdout",
     "output_type": "stream",
     "text": [
      "preparing embedding matrix...\n",
      "number of null word embeddings: 1842\n"
     ]
    }
   ],
   "source": [
    "\n",
    "##################################################################################\n",
    "##################################################################################\n",
    "\n",
    "#####embedding matrix\n",
    "print('preparing embedding matrix...')\n",
    "MAX_NB_WORDS = 800000\n",
    "embed_dim = 300\n",
    "words_not_found = []\n",
    "nb_words = min(MAX_NB_WORDS, len(index))\n",
    "embedding_matrix = np.zeros((nb_words, embed_dim))\n",
    "for word, i in index.items():\n",
    "    if i >= nb_words:\n",
    "        continue\n",
    "    embedding_vector = embeddings_index.get(word)\n",
    "    if (embedding_vector is not None) and len(embedding_vector) > 0:\n",
    "        # words not found in embedding index will be all-zeros.\n",
    "        embedding_matrix[i] = embedding_vector\n",
    "    else:\n",
    "        words_not_found.append(word)\n",
    "print('number of null word embeddings: %d' % np.sum(np.sum(embedding_matrix, axis=1) == 0))\n",
    "\n",
    "#embedding_matrix = np.random.random((len(tokenizer.word_index) + 1, 300))\n",
    "#for word, i in tokenizer.word_index.items():\n",
    "#    embedding_vector = embeddings_index.get(word)\n",
    "#    if embedding_vector is not None:\n",
    "        # words not found in embedding index will be all-zeros.\n",
    "#        embedding_matrix[i] = embedding_vector\n",
    "        \n",
    "#embedding_layer = Embedding(len(tokenizer.word_index) + 1,300,weights=[embedding_matrix],input_length=300,trainable=True)\n",
    "\n",
    "\n",
    "###############################################################################"
   ]
  },
  {
   "cell_type": "code",
   "execution_count": 107,
   "metadata": {},
   "outputs": [
    {
     "data": {
      "text/plain": [
       "640"
      ]
     },
     "execution_count": 107,
     "metadata": {},
     "output_type": "execute_result"
    }
   ],
   "source": [
    "max(tokenizer.word_counts.values())"
   ]
  },
  {
   "cell_type": "code",
   "execution_count": 108,
   "metadata": {},
   "outputs": [
    {
     "data": {
      "text/plain": [
       "5301"
      ]
     },
     "execution_count": 108,
     "metadata": {},
     "output_type": "execute_result"
    }
   ],
   "source": [
    "len(tokenizer.word_counts)"
   ]
  },
  {
   "cell_type": "code",
   "execution_count": 109,
   "metadata": {},
   "outputs": [
    {
     "data": {
      "text/plain": [
       "(2261, 300)"
      ]
     },
     "execution_count": 109,
     "metadata": {},
     "output_type": "execute_result"
    }
   ],
   "source": [
    "X_t.shape"
   ]
  },
  {
   "cell_type": "code",
   "execution_count": 110,
   "metadata": {},
   "outputs": [],
   "source": [
    "X_train=X_t"
   ]
  },
  {
   "cell_type": "code",
   "execution_count": 111,
   "metadata": {},
   "outputs": [],
   "source": [
    "size_embedding = max(list(tokenizer.word_index.values()))"
   ]
  },
  {
   "cell_type": "code",
   "execution_count": 112,
   "metadata": {},
   "outputs": [
    {
     "data": {
      "text/plain": [
       "(2261, 300)"
      ]
     },
     "execution_count": 112,
     "metadata": {},
     "output_type": "execute_result"
    }
   ],
   "source": [
    "X_train.shape"
   ]
  },
  {
   "cell_type": "code",
   "execution_count": 113,
   "metadata": {},
   "outputs": [],
   "source": [
    "YY=data_new1[\"task_2\"]"
   ]
  },
  {
   "cell_type": "code",
   "execution_count": 114,
   "metadata": {},
   "outputs": [
    {
     "data": {
      "text/plain": [
       "2261"
      ]
     },
     "execution_count": 114,
     "metadata": {},
     "output_type": "execute_result"
    }
   ],
   "source": [
    "len(YY)"
   ]
  },
  {
   "cell_type": "code",
   "execution_count": 115,
   "metadata": {},
   "outputs": [],
   "source": [
    "#train['sentiment'] = train['sentiment'].map({'OAG': 0, 'CAG': 1,'NAG': 2})\n",
    "YY = YY.map({'PRFN':0,'OFFN': 1,'HATE': 2 })"
   ]
  },
  {
   "cell_type": "code",
   "execution_count": 116,
   "metadata": {},
   "outputs": [],
   "source": [
    "#from keras.utils import to_categorical\n",
    "#labels=data_new['task_2']\n",
    "#labels= to_categorical(labels,3)\n",
    "# One-hot encode data\n",
    "Y_train=np_utils.to_categorical(YY)\n",
    "#uniqe_class=np.unique(All_class)"
   ]
  },
  {
   "cell_type": "code",
   "execution_count": 117,
   "metadata": {},
   "outputs": [
    {
     "data": {
      "text/plain": [
       "(2261, 3)"
      ]
     },
     "execution_count": 117,
     "metadata": {},
     "output_type": "execute_result"
    }
   ],
   "source": [
    "Y_train.shape"
   ]
  },
  {
   "cell_type": "code",
   "execution_count": 118,
   "metadata": {},
   "outputs": [],
   "source": [
    "x_train, x_test, y_train, y_test = train_test_split(X_train,Y_train, test_size=0.20, random_state=42)"
   ]
  },
  {
   "cell_type": "code",
   "execution_count": 119,
   "metadata": {},
   "outputs": [
    {
     "data": {
      "text/plain": [
       "(1808, 3)"
      ]
     },
     "execution_count": 119,
     "metadata": {},
     "output_type": "execute_result"
    }
   ],
   "source": [
    "y_train.shape"
   ]
  },
  {
   "cell_type": "code",
   "execution_count": 120,
   "metadata": {},
   "outputs": [],
   "source": [
    "max_len=300"
   ]
  },
  {
   "cell_type": "code",
   "execution_count": 121,
   "metadata": {},
   "outputs": [
    {
     "data": {
      "text/plain": [
       "array([[  97,  417, 2654, ...,    0,    0,    0],\n",
       "       [4763, 4764, 4765, ...,    0,    0,    0],\n",
       "       [ 629, 2362, 2363, ...,    0,    0,    0],\n",
       "       ...,\n",
       "       [ 718,  193,   55, ...,    0,    0,    0],\n",
       "       [   3,    5,  502, ...,    0,    0,    0],\n",
       "       [   9, 1442,  332, ...,    0,    0,    0]])"
      ]
     },
     "execution_count": 121,
     "metadata": {},
     "output_type": "execute_result"
    }
   ],
   "source": [
    "x_train"
   ]
  },
  {
   "cell_type": "code",
   "execution_count": 122,
   "metadata": {},
   "outputs": [
    {
     "name": "stdout",
     "output_type": "stream",
     "text": [
      "_________________________________________________________________\n",
      "Layer (type)                 Output Shape              Param #   \n",
      "=================================================================\n",
      "embedding_3 (Embedding)      (None, 300, 100)          530200    \n",
      "_________________________________________________________________\n",
      "conv1d_5 (Conv1D)            (None, 297, 8)            3208      \n",
      "_________________________________________________________________\n",
      "activation_6 (Activation)    (None, 297, 8)            0         \n",
      "_________________________________________________________________\n",
      "conv1d_6 (Conv1D)            (None, 294, 16)           528       \n",
      "_________________________________________________________________\n",
      "activation_7 (Activation)    (None, 294, 16)           0         \n",
      "_________________________________________________________________\n",
      "conv1d_7 (Conv1D)            (None, 291, 64)           4160      \n",
      "_________________________________________________________________\n",
      "max_pooling1d_2 (MaxPooling1 (None, 72, 64)            0         \n",
      "_________________________________________________________________\n",
      "activation_8 (Activation)    (None, 72, 64)            0         \n",
      "_________________________________________________________________\n",
      "conv1d_8 (Conv1D)            (None, 69, 64)            16448     \n",
      "_________________________________________________________________\n",
      "activation_9 (Activation)    (None, 69, 64)            0         \n",
      "_________________________________________________________________\n",
      "flatten_2 (Flatten)          (None, 4416)              0         \n",
      "_________________________________________________________________\n",
      "dense_2 (Dense)              (None, 3)                 13251     \n",
      "_________________________________________________________________\n",
      "activation_10 (Activation)   (None, 3)                 0         \n",
      "=================================================================\n",
      "Total params: 567,795\n",
      "Trainable params: 567,795\n",
      "Non-trainable params: 0\n",
      "_________________________________________________________________\n"
     ]
    }
   ],
   "source": [
    "model = Sequential()\n",
    "model.add(Embedding(size_embedding+1,100,input_length=max_len))\n",
    "\n",
    "model.add( Convolution1D(8, 4 ))\n",
    "model.add( Activation('relu') )\n",
    "\n",
    "model.add( Convolution1D(16,4) )\n",
    "\n",
    "model.add( Activation('relu'))\n",
    "model.add(Convolution1D(64,4))\n",
    "model.add( MaxPooling1D( pool_size=(4) ) )\n",
    "model.add(Activation(\"relu\"))\n",
    "model.add(Convolution1D(64,4))\n",
    "model.add(Activation(\"relu\"))\n",
    "\n",
    "model.add( Flatten() )\n",
    "\n",
    "model.add( Dense(3) )\n",
    "\n",
    "model.add( Activation('softmax') )\n",
    "\n",
    "model.summary()"
   ]
  },
  {
   "cell_type": "code",
   "execution_count": 123,
   "metadata": {},
   "outputs": [],
   "source": [
    "from keras.callbacks import ModelCheckpoint\n",
    "filepath = \"task2_cnn_fasttext_300d.hdf5\"\n",
    "checkpoint = ModelCheckpoint(filepath, monitor=\"val_acc\", verbose=1, save_best_only=True, mode='max')\n",
    "callbacks_list = [checkpoint]"
   ]
  },
  {
   "cell_type": "code",
   "execution_count": 124,
   "metadata": {},
   "outputs": [],
   "source": [
    "model.compile(loss='categorical_crossentropy',optimizer='adam',metrics=['acc'])"
   ]
  },
  {
   "cell_type": "code",
   "execution_count": 125,
   "metadata": {},
   "outputs": [
    {
     "name": "stdout",
     "output_type": "stream",
     "text": [
      "Train on 1808 samples, validate on 453 samples\n",
      "Epoch 1/100\n",
      "1808/1808 [==============================] - ETA: 6:08 - loss: 1.0978 - acc: 0.406 - ETA: 3:04 - loss: 1.0990 - acc: 0.328 - ETA: 2:02 - loss: 1.0895 - acc: 0.416 - ETA: 1:31 - loss: 1.0851 - acc: 0.437 - ETA: 1:12 - loss: 1.0867 - acc: 0.431 - ETA: 1:00 - loss: 1.0809 - acc: 0.432 - ETA: 51s - loss: 1.0804 - acc: 0.433 - ETA: 44s - loss: 1.0750 - acc: 0.44 - ETA: 39s - loss: 1.0787 - acc: 0.43 - ETA: 35s - loss: 1.0773 - acc: 0.44 - ETA: 31s - loss: 1.0643 - acc: 0.46 - ETA: 28s - loss: 1.0580 - acc: 0.46 - ETA: 26s - loss: 1.0521 - acc: 0.47 - ETA: 23s - loss: 1.0467 - acc: 0.47 - ETA: 22s - loss: 1.0499 - acc: 0.47 - ETA: 20s - loss: 1.0462 - acc: 0.48 - ETA: 19s - loss: 1.0406 - acc: 0.48 - ETA: 17s - loss: 1.0429 - acc: 0.48 - ETA: 16s - loss: 1.0453 - acc: 0.48 - ETA: 15s - loss: 1.0385 - acc: 0.49 - ETA: 14s - loss: 1.0380 - acc: 0.49 - ETA: 13s - loss: 1.0386 - acc: 0.49 - ETA: 12s - loss: 1.0351 - acc: 0.49 - ETA: 11s - loss: 1.0370 - acc: 0.49 - ETA: 11s - loss: 1.0391 - acc: 0.49 - ETA: 10s - loss: 1.0424 - acc: 0.48 - ETA: 9s - loss: 1.0435 - acc: 0.4861 - ETA: 9s - loss: 1.0437 - acc: 0.484 - ETA: 8s - loss: 1.0407 - acc: 0.492 - ETA: 8s - loss: 1.0423 - acc: 0.487 - ETA: 7s - loss: 1.0405 - acc: 0.492 - ETA: 7s - loss: 1.0374 - acc: 0.499 - ETA: 6s - loss: 1.0365 - acc: 0.501 - ETA: 6s - loss: 1.0365 - acc: 0.501 - ETA: 5s - loss: 1.0381 - acc: 0.498 - ETA: 5s - loss: 1.0364 - acc: 0.500 - ETA: 5s - loss: 1.0370 - acc: 0.500 - ETA: 4s - loss: 1.0414 - acc: 0.496 - ETA: 4s - loss: 1.0441 - acc: 0.494 - ETA: 4s - loss: 1.0439 - acc: 0.495 - ETA: 3s - loss: 1.0460 - acc: 0.491 - ETA: 3s - loss: 1.0452 - acc: 0.491 - ETA: 3s - loss: 1.0453 - acc: 0.491 - ETA: 3s - loss: 1.0461 - acc: 0.490 - ETA: 2s - loss: 1.0463 - acc: 0.491 - ETA: 2s - loss: 1.0460 - acc: 0.491 - ETA: 2s - loss: 1.0462 - acc: 0.491 - ETA: 1s - loss: 1.0465 - acc: 0.490 - ETA: 1s - loss: 1.0452 - acc: 0.494 - ETA: 1s - loss: 1.0464 - acc: 0.493 - ETA: 1s - loss: 1.0458 - acc: 0.495 - ETA: 0s - loss: 1.0448 - acc: 0.497 - ETA: 0s - loss: 1.0452 - acc: 0.496 - ETA: 0s - loss: 1.0459 - acc: 0.495 - ETA: 0s - loss: 1.0433 - acc: 0.499 - ETA: 0s - loss: 1.0422 - acc: 0.501 - 12s 7ms/step - loss: 1.0421 - acc: 0.5011 - val_loss: 1.0226 - val_acc: 0.5099\n",
      "\n",
      "Epoch 00001: val_acc improved from -inf to 0.50993, saving model to task2_cnn_fasttext_300d.hdf5\n",
      "Epoch 2/100\n",
      "1808/1808 [==============================] - ETA: 4s - loss: 1.0061 - acc: 0.562 - ETA: 4s - loss: 1.0466 - acc: 0.515 - ETA: 4s - loss: 1.0552 - acc: 0.500 - ETA: 4s - loss: 1.0624 - acc: 0.492 - ETA: 4s - loss: 1.0608 - acc: 0.493 - ETA: 4s - loss: 1.0576 - acc: 0.494 - ETA: 4s - loss: 1.0563 - acc: 0.491 - ETA: 4s - loss: 1.0430 - acc: 0.503 - ETA: 4s - loss: 1.0456 - acc: 0.500 - ETA: 4s - loss: 1.0452 - acc: 0.500 - ETA: 4s - loss: 1.0425 - acc: 0.500 - ETA: 4s - loss: 1.0449 - acc: 0.494 - ETA: 4s - loss: 1.0364 - acc: 0.507 - ETA: 4s - loss: 1.0456 - acc: 0.493 - ETA: 4s - loss: 1.0478 - acc: 0.489 - ETA: 3s - loss: 1.0451 - acc: 0.494 - ETA: 3s - loss: 1.0365 - acc: 0.511 - ETA: 3s - loss: 1.0336 - acc: 0.517 - ETA: 3s - loss: 1.0326 - acc: 0.519 - ETA: 3s - loss: 1.0277 - acc: 0.525 - ETA: 3s - loss: 1.0278 - acc: 0.523 - ETA: 3s - loss: 1.0231 - acc: 0.528 - ETA: 3s - loss: 1.0290 - acc: 0.524 - ETA: 3s - loss: 1.0234 - acc: 0.529 - ETA: 3s - loss: 1.0344 - acc: 0.518 - ETA: 2s - loss: 1.0281 - acc: 0.524 - ETA: 2s - loss: 1.0313 - acc: 0.519 - ETA: 2s - loss: 1.0314 - acc: 0.519 - ETA: 2s - loss: 1.0313 - acc: 0.518 - ETA: 2s - loss: 1.0323 - acc: 0.516 - ETA: 2s - loss: 1.0346 - acc: 0.513 - ETA: 2s - loss: 1.0357 - acc: 0.509 - ETA: 2s - loss: 1.0356 - acc: 0.509 - ETA: 2s - loss: 1.0352 - acc: 0.509 - ETA: 2s - loss: 1.0358 - acc: 0.506 - ETA: 1s - loss: 1.0352 - acc: 0.506 - ETA: 1s - loss: 1.0354 - acc: 0.505 - ETA: 1s - loss: 1.0344 - acc: 0.507 - ETA: 1s - loss: 1.0339 - acc: 0.506 - ETA: 1s - loss: 1.0320 - acc: 0.507 - ETA: 1s - loss: 1.0292 - acc: 0.506 - ETA: 1s - loss: 1.0296 - acc: 0.504 - ETA: 1s - loss: 1.0278 - acc: 0.506 - ETA: 1s - loss: 1.0289 - acc: 0.505 - ETA: 1s - loss: 1.0289 - acc: 0.502 - ETA: 1s - loss: 1.0287 - acc: 0.500 - ETA: 0s - loss: 1.0270 - acc: 0.502 - ETA: 0s - loss: 1.0255 - acc: 0.501 - ETA: 0s - loss: 1.0227 - acc: 0.503 - ETA: 0s - loss: 1.0207 - acc: 0.503 - ETA: 0s - loss: 1.0236 - acc: 0.500 - ETA: 0s - loss: 1.0252 - acc: 0.498 - ETA: 0s - loss: 1.0231 - acc: 0.500 - ETA: 0s - loss: 1.0204 - acc: 0.501 - ETA: 0s - loss: 1.0176 - acc: 0.504 - ETA: 0s - loss: 1.0156 - acc: 0.503 - 6s 3ms/step - loss: 1.0143 - acc: 0.5044 - val_loss: 0.9850 - val_acc: 0.5099\n",
      "\n",
      "Epoch 00002: val_acc did not improve from 0.50993\n",
      "Epoch 3/100\n",
      "1808/1808 [==============================] - ETA: 5s - loss: 0.8424 - acc: 0.562 - ETA: 5s - loss: 0.8352 - acc: 0.593 - ETA: 5s - loss: 0.8326 - acc: 0.562 - ETA: 4s - loss: 0.8128 - acc: 0.554 - ETA: 4s - loss: 0.7793 - acc: 0.606 - ETA: 4s - loss: 0.8221 - acc: 0.588 - ETA: 4s - loss: 0.8153 - acc: 0.598 - ETA: 4s - loss: 0.8115 - acc: 0.589 - ETA: 4s - loss: 0.8124 - acc: 0.579 - ETA: 4s - loss: 0.7957 - acc: 0.590 - ETA: 4s - loss: 0.7941 - acc: 0.596 - ETA: 4s - loss: 0.7991 - acc: 0.614 - ETA: 4s - loss: 0.7981 - acc: 0.617 - ETA: 3s - loss: 0.8194 - acc: 0.607 - ETA: 3s - loss: 0.8124 - acc: 0.616 - ETA: 3s - loss: 0.8241 - acc: 0.615 - ETA: 3s - loss: 0.8284 - acc: 0.610 - ETA: 3s - loss: 0.8270 - acc: 0.605 - ETA: 3s - loss: 0.8231 - acc: 0.610 - ETA: 3s - loss: 0.8212 - acc: 0.609 - ETA: 3s - loss: 0.8235 - acc: 0.607 - ETA: 3s - loss: 0.8170 - acc: 0.610 - ETA: 3s - loss: 0.8139 - acc: 0.616 - ETA: 2s - loss: 0.8107 - acc: 0.621 - ETA: 2s - loss: 0.8140 - acc: 0.621 - ETA: 2s - loss: 0.8206 - acc: 0.615 - ETA: 2s - loss: 0.8172 - acc: 0.620 - ETA: 2s - loss: 0.8071 - acc: 0.628 - ETA: 2s - loss: 0.8026 - acc: 0.629 - ETA: 2s - loss: 0.7955 - acc: 0.635 - ETA: 2s - loss: 0.7955 - acc: 0.637 - ETA: 2s - loss: 0.8000 - acc: 0.635 - ETA: 2s - loss: 0.7954 - acc: 0.639 - ETA: 2s - loss: 0.7898 - acc: 0.640 - ETA: 1s - loss: 0.7875 - acc: 0.640 - ETA: 1s - loss: 0.7841 - acc: 0.641 - ETA: 1s - loss: 0.7808 - acc: 0.643 - ETA: 1s - loss: 0.7765 - acc: 0.645 - ETA: 1s - loss: 0.7739 - acc: 0.646 - ETA: 1s - loss: 0.7777 - acc: 0.642 - ETA: 1s - loss: 0.7758 - acc: 0.642 - ETA: 1s - loss: 0.7730 - acc: 0.645 - ETA: 1s - loss: 0.7708 - acc: 0.647 - ETA: 1s - loss: 0.7693 - acc: 0.647 - ETA: 1s - loss: 0.7644 - acc: 0.650 - ETA: 0s - loss: 0.7634 - acc: 0.650 - ETA: 0s - loss: 0.7651 - acc: 0.651 - ETA: 0s - loss: 0.7698 - acc: 0.649 - ETA: 0s - loss: 0.7674 - acc: 0.650 - ETA: 0s - loss: 0.7651 - acc: 0.650 - ETA: 0s - loss: 0.7651 - acc: 0.648 - ETA: 0s - loss: 0.7613 - acc: 0.649 - ETA: 0s - loss: 0.7586 - acc: 0.649 - ETA: 0s - loss: 0.7597 - acc: 0.648 - ETA: 0s - loss: 0.7642 - acc: 0.646 - ETA: 0s - loss: 0.7632 - acc: 0.648 - 6s 3ms/step - loss: 0.7658 - acc: 0.6466 - val_loss: 1.1400 - val_acc: 0.5011\n",
      "\n",
      "Epoch 00003: val_acc did not improve from 0.50993\n",
      "Epoch 4/100\n"
     ]
    },
    {
     "name": "stdout",
     "output_type": "stream",
     "text": [
      "1808/1808 [==============================] - ETA: 5s - loss: 0.3836 - acc: 0.781 - ETA: 5s - loss: 0.4710 - acc: 0.718 - ETA: 5s - loss: 0.4845 - acc: 0.697 - ETA: 5s - loss: 0.5141 - acc: 0.710 - ETA: 5s - loss: 0.4916 - acc: 0.712 - ETA: 5s - loss: 0.4538 - acc: 0.739 - ETA: 4s - loss: 0.4521 - acc: 0.750 - ETA: 4s - loss: 0.4530 - acc: 0.753 - ETA: 4s - loss: 0.4554 - acc: 0.763 - ETA: 4s - loss: 0.4572 - acc: 0.765 - ETA: 4s - loss: 0.4676 - acc: 0.761 - ETA: 4s - loss: 0.4653 - acc: 0.760 - ETA: 4s - loss: 0.4765 - acc: 0.752 - ETA: 4s - loss: 0.4888 - acc: 0.743 - ETA: 3s - loss: 0.4913 - acc: 0.752 - ETA: 3s - loss: 0.4905 - acc: 0.748 - ETA: 3s - loss: 0.4824 - acc: 0.757 - ETA: 3s - loss: 0.4873 - acc: 0.753 - ETA: 3s - loss: 0.4881 - acc: 0.750 - ETA: 3s - loss: 0.4892 - acc: 0.742 - ETA: 3s - loss: 0.4968 - acc: 0.739 - ETA: 3s - loss: 0.4896 - acc: 0.742 - ETA: 3s - loss: 0.4897 - acc: 0.741 - ETA: 3s - loss: 0.4951 - acc: 0.740 - ETA: 3s - loss: 0.4925 - acc: 0.745 - ETA: 2s - loss: 0.4912 - acc: 0.748 - ETA: 2s - loss: 0.4849 - acc: 0.751 - ETA: 2s - loss: 0.4829 - acc: 0.752 - ETA: 2s - loss: 0.4779 - acc: 0.756 - ETA: 2s - loss: 0.4769 - acc: 0.756 - ETA: 2s - loss: 0.4815 - acc: 0.756 - ETA: 2s - loss: 0.4843 - acc: 0.752 - ETA: 2s - loss: 0.4855 - acc: 0.750 - ETA: 2s - loss: 0.4902 - acc: 0.751 - ETA: 2s - loss: 0.4895 - acc: 0.750 - ETA: 2s - loss: 0.4951 - acc: 0.747 - ETA: 1s - loss: 0.4987 - acc: 0.750 - ETA: 1s - loss: 0.4950 - acc: 0.754 - ETA: 1s - loss: 0.4940 - acc: 0.755 - ETA: 1s - loss: 0.4933 - acc: 0.753 - ETA: 1s - loss: 0.4922 - acc: 0.753 - ETA: 1s - loss: 0.4920 - acc: 0.754 - ETA: 1s - loss: 0.4966 - acc: 0.752 - ETA: 1s - loss: 0.4984 - acc: 0.750 - ETA: 1s - loss: 0.4959 - acc: 0.750 - ETA: 1s - loss: 0.4943 - acc: 0.750 - ETA: 0s - loss: 0.4985 - acc: 0.749 - ETA: 0s - loss: 0.4968 - acc: 0.750 - ETA: 0s - loss: 0.4998 - acc: 0.747 - ETA: 0s - loss: 0.4984 - acc: 0.746 - ETA: 0s - loss: 0.5003 - acc: 0.745 - ETA: 0s - loss: 0.5005 - acc: 0.747 - ETA: 0s - loss: 0.4988 - acc: 0.748 - ETA: 0s - loss: 0.4998 - acc: 0.750 - ETA: 0s - loss: 0.4987 - acc: 0.751 - ETA: 0s - loss: 0.4967 - acc: 0.751 - 6s 3ms/step - loss: 0.4959 - acc: 0.7522 - val_loss: 1.3629 - val_acc: 0.5077\n",
      "\n",
      "Epoch 00004: val_acc did not improve from 0.50993\n",
      "Epoch 5/100\n",
      "1808/1808 [==============================] - ETA: 5s - loss: 0.3571 - acc: 0.843 - ETA: 5s - loss: 0.3033 - acc: 0.875 - ETA: 5s - loss: 0.3126 - acc: 0.854 - ETA: 5s - loss: 0.3409 - acc: 0.828 - ETA: 4s - loss: 0.3324 - acc: 0.837 - ETA: 4s - loss: 0.3510 - acc: 0.822 - ETA: 4s - loss: 0.3639 - acc: 0.812 - ETA: 4s - loss: 0.3592 - acc: 0.812 - ETA: 4s - loss: 0.3647 - acc: 0.809 - ETA: 4s - loss: 0.3662 - acc: 0.809 - ETA: 4s - loss: 0.3589 - acc: 0.812 - ETA: 4s - loss: 0.3614 - acc: 0.812 - ETA: 4s - loss: 0.3615 - acc: 0.807 - ETA: 4s - loss: 0.3708 - acc: 0.803 - ETA: 3s - loss: 0.3688 - acc: 0.806 - ETA: 3s - loss: 0.3646 - acc: 0.808 - ETA: 3s - loss: 0.3691 - acc: 0.797 - ETA: 3s - loss: 0.3727 - acc: 0.788 - ETA: 3s - loss: 0.3766 - acc: 0.781 - ETA: 3s - loss: 0.3710 - acc: 0.787 - ETA: 3s - loss: 0.3766 - acc: 0.791 - ETA: 3s - loss: 0.3797 - acc: 0.786 - ETA: 3s - loss: 0.3816 - acc: 0.782 - ETA: 3s - loss: 0.3857 - acc: 0.777 - ETA: 3s - loss: 0.3852 - acc: 0.778 - ETA: 3s - loss: 0.3895 - acc: 0.772 - ETA: 2s - loss: 0.3897 - acc: 0.768 - ETA: 2s - loss: 0.3931 - acc: 0.769 - ETA: 2s - loss: 0.3927 - acc: 0.767 - ETA: 2s - loss: 0.3915 - acc: 0.769 - ETA: 2s - loss: 0.3936 - acc: 0.767 - ETA: 2s - loss: 0.3966 - acc: 0.764 - ETA: 2s - loss: 0.3941 - acc: 0.765 - ETA: 2s - loss: 0.3902 - acc: 0.768 - ETA: 2s - loss: 0.3885 - acc: 0.770 - ETA: 2s - loss: 0.3870 - acc: 0.772 - ETA: 1s - loss: 0.3848 - acc: 0.772 - ETA: 1s - loss: 0.3849 - acc: 0.773 - ETA: 1s - loss: 0.3834 - acc: 0.774 - ETA: 1s - loss: 0.3826 - acc: 0.775 - ETA: 1s - loss: 0.3827 - acc: 0.775 - ETA: 1s - loss: 0.3809 - acc: 0.778 - ETA: 1s - loss: 0.3802 - acc: 0.779 - ETA: 1s - loss: 0.3776 - acc: 0.780 - ETA: 1s - loss: 0.3753 - acc: 0.782 - ETA: 1s - loss: 0.3744 - acc: 0.783 - ETA: 0s - loss: 0.3732 - acc: 0.783 - ETA: 0s - loss: 0.3712 - acc: 0.785 - ETA: 0s - loss: 0.3727 - acc: 0.785 - ETA: 0s - loss: 0.3772 - acc: 0.783 - ETA: 0s - loss: 0.3761 - acc: 0.784 - ETA: 0s - loss: 0.3739 - acc: 0.786 - ETA: 0s - loss: 0.3713 - acc: 0.789 - ETA: 0s - loss: 0.3710 - acc: 0.789 - ETA: 0s - loss: 0.3725 - acc: 0.787 - ETA: 0s - loss: 0.3726 - acc: 0.787 - 6s 3ms/step - loss: 0.3723 - acc: 0.7876 - val_loss: 1.7597 - val_acc: 0.4415\n",
      "\n",
      "Epoch 00005: val_acc did not improve from 0.50993\n",
      "Epoch 6/100\n",
      "1808/1808 [==============================] - ETA: 5s - loss: 0.3744 - acc: 0.812 - ETA: 5s - loss: 0.3465 - acc: 0.843 - ETA: 4s - loss: 0.3494 - acc: 0.864 - ETA: 4s - loss: 0.3363 - acc: 0.890 - ETA: 4s - loss: 0.3299 - acc: 0.906 - ETA: 4s - loss: 0.3052 - acc: 0.906 - ETA: 4s - loss: 0.3008 - acc: 0.910 - ETA: 4s - loss: 0.2960 - acc: 0.906 - ETA: 4s - loss: 0.2961 - acc: 0.906 - ETA: 4s - loss: 0.2860 - acc: 0.909 - ETA: 4s - loss: 0.3089 - acc: 0.892 - ETA: 4s - loss: 0.3061 - acc: 0.890 - ETA: 4s - loss: 0.3049 - acc: 0.884 - ETA: 3s - loss: 0.2978 - acc: 0.886 - ETA: 3s - loss: 0.2942 - acc: 0.885 - ETA: 3s - loss: 0.2955 - acc: 0.882 - ETA: 3s - loss: 0.2921 - acc: 0.886 - ETA: 3s - loss: 0.2912 - acc: 0.885 - ETA: 3s - loss: 0.2890 - acc: 0.883 - ETA: 3s - loss: 0.2974 - acc: 0.884 - ETA: 3s - loss: 0.2942 - acc: 0.888 - ETA: 3s - loss: 0.2901 - acc: 0.890 - ETA: 3s - loss: 0.2864 - acc: 0.892 - ETA: 2s - loss: 0.2854 - acc: 0.891 - ETA: 2s - loss: 0.2860 - acc: 0.893 - ETA: 2s - loss: 0.2836 - acc: 0.895 - ETA: 2s - loss: 0.2793 - acc: 0.897 - ETA: 2s - loss: 0.2819 - acc: 0.898 - ETA: 2s - loss: 0.2771 - acc: 0.899 - ETA: 2s - loss: 0.2755 - acc: 0.897 - ETA: 2s - loss: 0.2735 - acc: 0.900 - ETA: 2s - loss: 0.2731 - acc: 0.900 - ETA: 2s - loss: 0.2688 - acc: 0.902 - ETA: 2s - loss: 0.2687 - acc: 0.900 - ETA: 1s - loss: 0.2719 - acc: 0.895 - ETA: 1s - loss: 0.2698 - acc: 0.896 - ETA: 1s - loss: 0.2694 - acc: 0.896 - ETA: 1s - loss: 0.2673 - acc: 0.897 - ETA: 1s - loss: 0.2674 - acc: 0.895 - ETA: 1s - loss: 0.2673 - acc: 0.895 - ETA: 1s - loss: 0.2656 - acc: 0.896 - ETA: 1s - loss: 0.2641 - acc: 0.897 - ETA: 1s - loss: 0.2626 - acc: 0.896 - ETA: 1s - loss: 0.2611 - acc: 0.896 - ETA: 1s - loss: 0.2601 - acc: 0.897 - ETA: 0s - loss: 0.2581 - acc: 0.897 - ETA: 0s - loss: 0.2554 - acc: 0.898 - ETA: 0s - loss: 0.2561 - acc: 0.897 - ETA: 0s - loss: 0.2570 - acc: 0.896 - ETA: 0s - loss: 0.2553 - acc: 0.898 - ETA: 0s - loss: 0.2534 - acc: 0.898 - ETA: 0s - loss: 0.2531 - acc: 0.898 - ETA: 0s - loss: 0.2518 - acc: 0.899 - ETA: 0s - loss: 0.2506 - acc: 0.899 - ETA: 0s - loss: 0.2541 - acc: 0.897 - ETA: 0s - loss: 0.2614 - acc: 0.894 - 6s 3ms/step - loss: 0.2619 - acc: 0.8933 - val_loss: 2.6663 - val_acc: 0.4040\n",
      "\n",
      "Epoch 00006: val_acc did not improve from 0.50993\n",
      "Epoch 7/100\n"
     ]
    },
    {
     "name": "stdout",
     "output_type": "stream",
     "text": [
      "1808/1808 [==============================] - ETA: 4s - loss: 0.0975 - acc: 0.968 - ETA: 4s - loss: 0.0871 - acc: 0.984 - ETA: 4s - loss: 0.0816 - acc: 0.989 - ETA: 4s - loss: 0.0846 - acc: 0.992 - ETA: 4s - loss: 0.0805 - acc: 0.993 - ETA: 4s - loss: 0.0789 - acc: 0.994 - ETA: 4s - loss: 0.0799 - acc: 0.995 - ETA: 4s - loss: 0.0942 - acc: 0.984 - ETA: 4s - loss: 0.1060 - acc: 0.972 - ETA: 4s - loss: 0.1030 - acc: 0.971 - ETA: 4s - loss: 0.1082 - acc: 0.965 - ETA: 4s - loss: 0.1119 - acc: 0.966 - ETA: 4s - loss: 0.1149 - acc: 0.963 - ETA: 3s - loss: 0.1189 - acc: 0.959 - ETA: 3s - loss: 0.1196 - acc: 0.956 - ETA: 3s - loss: 0.1228 - acc: 0.955 - ETA: 3s - loss: 0.1211 - acc: 0.955 - ETA: 3s - loss: 0.1219 - acc: 0.956 - ETA: 3s - loss: 0.1198 - acc: 0.957 - ETA: 3s - loss: 0.1220 - acc: 0.956 - ETA: 3s - loss: 0.1231 - acc: 0.955 - ETA: 3s - loss: 0.1200 - acc: 0.957 - ETA: 3s - loss: 0.1203 - acc: 0.956 - ETA: 3s - loss: 0.1173 - acc: 0.957 - ETA: 2s - loss: 0.1188 - acc: 0.956 - ETA: 2s - loss: 0.1225 - acc: 0.954 - ETA: 2s - loss: 0.1205 - acc: 0.954 - ETA: 2s - loss: 0.1191 - acc: 0.956 - ETA: 2s - loss: 0.1181 - acc: 0.956 - ETA: 2s - loss: 0.1168 - acc: 0.957 - ETA: 2s - loss: 0.1170 - acc: 0.956 - ETA: 2s - loss: 0.1147 - acc: 0.958 - ETA: 2s - loss: 0.1197 - acc: 0.957 - ETA: 2s - loss: 0.1180 - acc: 0.958 - ETA: 2s - loss: 0.1201 - acc: 0.958 - ETA: 1s - loss: 0.1180 - acc: 0.960 - ETA: 1s - loss: 0.1181 - acc: 0.959 - ETA: 1s - loss: 0.1187 - acc: 0.958 - ETA: 1s - loss: 0.1179 - acc: 0.959 - ETA: 1s - loss: 0.1176 - acc: 0.958 - ETA: 1s - loss: 0.1190 - acc: 0.957 - ETA: 1s - loss: 0.1175 - acc: 0.958 - ETA: 1s - loss: 0.1194 - acc: 0.957 - ETA: 1s - loss: 0.1194 - acc: 0.957 - ETA: 1s - loss: 0.1181 - acc: 0.958 - ETA: 0s - loss: 0.1263 - acc: 0.957 - ETA: 0s - loss: 0.1274 - acc: 0.958 - ETA: 0s - loss: 0.1284 - acc: 0.957 - ETA: 0s - loss: 0.1291 - acc: 0.957 - ETA: 0s - loss: 0.1282 - acc: 0.957 - ETA: 0s - loss: 0.1314 - acc: 0.955 - ETA: 0s - loss: 0.1357 - acc: 0.954 - ETA: 0s - loss: 0.1358 - acc: 0.954 - ETA: 0s - loss: 0.1358 - acc: 0.954 - ETA: 0s - loss: 0.1356 - acc: 0.955 - ETA: 0s - loss: 0.1359 - acc: 0.955 - 6s 3ms/step - loss: 0.1388 - acc: 0.9546 - val_loss: 3.0837 - val_acc: 0.4393\n",
      "\n",
      "Epoch 00007: val_acc did not improve from 0.50993\n",
      "Epoch 8/100\n",
      "1808/1808 [==============================] - ETA: 4s - loss: 0.0346 - acc: 1.000 - ETA: 4s - loss: 0.0742 - acc: 0.984 - ETA: 4s - loss: 0.0742 - acc: 0.979 - ETA: 4s - loss: 0.0809 - acc: 0.976 - ETA: 4s - loss: 0.0798 - acc: 0.975 - ETA: 4s - loss: 0.0787 - acc: 0.974 - ETA: 4s - loss: 0.0742 - acc: 0.973 - ETA: 4s - loss: 0.0687 - acc: 0.976 - ETA: 4s - loss: 0.0667 - acc: 0.975 - ETA: 3s - loss: 0.0626 - acc: 0.978 - ETA: 3s - loss: 0.0614 - acc: 0.980 - ETA: 3s - loss: 0.0599 - acc: 0.979 - ETA: 3s - loss: 0.0566 - acc: 0.980 - ETA: 3s - loss: 0.0564 - acc: 0.979 - ETA: 3s - loss: 0.0561 - acc: 0.979 - ETA: 3s - loss: 0.0624 - acc: 0.978 - ETA: 3s - loss: 0.0673 - acc: 0.977 - ETA: 3s - loss: 0.0680 - acc: 0.977 - ETA: 3s - loss: 0.0654 - acc: 0.978 - ETA: 3s - loss: 0.0634 - acc: 0.979 - ETA: 2s - loss: 0.0620 - acc: 0.980 - ETA: 2s - loss: 0.0638 - acc: 0.980 - ETA: 2s - loss: 0.0741 - acc: 0.979 - ETA: 2s - loss: 0.0726 - acc: 0.980 - ETA: 2s - loss: 0.0714 - acc: 0.981 - ETA: 2s - loss: 0.0708 - acc: 0.982 - ETA: 2s - loss: 0.0706 - acc: 0.981 - ETA: 2s - loss: 0.0689 - acc: 0.982 - ETA: 2s - loss: 0.0676 - acc: 0.982 - ETA: 2s - loss: 0.0705 - acc: 0.981 - ETA: 2s - loss: 0.0687 - acc: 0.981 - ETA: 2s - loss: 0.0714 - acc: 0.981 - ETA: 2s - loss: 0.0707 - acc: 0.981 - ETA: 1s - loss: 0.0690 - acc: 0.981 - ETA: 1s - loss: 0.0678 - acc: 0.982 - ETA: 1s - loss: 0.0671 - acc: 0.982 - ETA: 1s - loss: 0.0668 - acc: 0.982 - ETA: 1s - loss: 0.0676 - acc: 0.981 - ETA: 1s - loss: 0.0689 - acc: 0.981 - ETA: 1s - loss: 0.0675 - acc: 0.982 - ETA: 1s - loss: 0.0744 - acc: 0.981 - ETA: 1s - loss: 0.0737 - acc: 0.982 - ETA: 1s - loss: 0.0742 - acc: 0.981 - ETA: 1s - loss: 0.0730 - acc: 0.981 - ETA: 1s - loss: 0.0748 - acc: 0.981 - ETA: 0s - loss: 0.0737 - acc: 0.981 - ETA: 0s - loss: 0.0740 - acc: 0.981 - ETA: 0s - loss: 0.0760 - acc: 0.981 - ETA: 0s - loss: 0.0750 - acc: 0.981 - ETA: 0s - loss: 0.0737 - acc: 0.981 - ETA: 0s - loss: 0.0726 - acc: 0.982 - ETA: 0s - loss: 0.0716 - acc: 0.982 - ETA: 0s - loss: 0.0703 - acc: 0.982 - ETA: 0s - loss: 0.0693 - acc: 0.983 - ETA: 0s - loss: 0.0690 - acc: 0.983 - ETA: 0s - loss: 0.0699 - acc: 0.983 - 5s 3ms/step - loss: 0.0698 - acc: 0.9829 - val_loss: 3.5326 - val_acc: 0.4128\n",
      "\n",
      "Epoch 00008: val_acc did not improve from 0.50993\n",
      "Epoch 9/100\n",
      "1808/1808 [==============================] - ETA: 5s - loss: 0.0100 - acc: 1.000 - ETA: 5s - loss: 0.0165 - acc: 1.000 - ETA: 4s - loss: 0.0128 - acc: 1.000 - ETA: 4s - loss: 0.0109 - acc: 1.000 - ETA: 4s - loss: 0.0101 - acc: 1.000 - ETA: 4s - loss: 0.0090 - acc: 1.000 - ETA: 4s - loss: 0.0082 - acc: 1.000 - ETA: 4s - loss: 0.0168 - acc: 0.992 - ETA: 4s - loss: 0.0164 - acc: 0.993 - ETA: 4s - loss: 0.0168 - acc: 0.993 - ETA: 4s - loss: 0.0236 - acc: 0.991 - ETA: 4s - loss: 0.0268 - acc: 0.989 - ETA: 3s - loss: 0.0252 - acc: 0.990 - ETA: 3s - loss: 0.0346 - acc: 0.988 - ETA: 3s - loss: 0.0331 - acc: 0.989 - ETA: 3s - loss: 0.0314 - acc: 0.990 - ETA: 3s - loss: 0.0382 - acc: 0.987 - ETA: 3s - loss: 0.0419 - acc: 0.986 - ETA: 3s - loss: 0.0400 - acc: 0.986 - ETA: 3s - loss: 0.0387 - acc: 0.987 - ETA: 3s - loss: 0.0371 - acc: 0.988 - ETA: 3s - loss: 0.0367 - acc: 0.988 - ETA: 3s - loss: 0.0353 - acc: 0.989 - ETA: 2s - loss: 0.0360 - acc: 0.988 - ETA: 2s - loss: 0.0351 - acc: 0.988 - ETA: 2s - loss: 0.0351 - acc: 0.989 - ETA: 2s - loss: 0.0355 - acc: 0.988 - ETA: 2s - loss: 0.0347 - acc: 0.988 - ETA: 2s - loss: 0.0337 - acc: 0.989 - ETA: 2s - loss: 0.0332 - acc: 0.989 - ETA: 2s - loss: 0.0328 - acc: 0.989 - ETA: 2s - loss: 0.0319 - acc: 0.990 - ETA: 2s - loss: 0.0312 - acc: 0.990 - ETA: 2s - loss: 0.0305 - acc: 0.990 - ETA: 1s - loss: 0.0360 - acc: 0.990 - ETA: 1s - loss: 0.0353 - acc: 0.990 - ETA: 1s - loss: 0.0345 - acc: 0.990 - ETA: 1s - loss: 0.0337 - acc: 0.991 - ETA: 1s - loss: 0.0332 - acc: 0.991 - ETA: 1s - loss: 0.0326 - acc: 0.991 - ETA: 1s - loss: 0.0361 - acc: 0.990 - ETA: 1s - loss: 0.0355 - acc: 0.991 - ETA: 1s - loss: 0.0348 - acc: 0.991 - ETA: 1s - loss: 0.0343 - acc: 0.991 - ETA: 1s - loss: 0.0336 - acc: 0.991 - ETA: 0s - loss: 0.0331 - acc: 0.991 - ETA: 0s - loss: 0.0339 - acc: 0.991 - ETA: 0s - loss: 0.0341 - acc: 0.990 - ETA: 0s - loss: 0.0337 - acc: 0.991 - ETA: 0s - loss: 0.0338 - acc: 0.991 - ETA: 0s - loss: 0.0395 - acc: 0.990 - ETA: 0s - loss: 0.0388 - acc: 0.991 - ETA: 0s - loss: 0.0389 - acc: 0.990 - ETA: 0s - loss: 0.0384 - acc: 0.990 - ETA: 0s - loss: 0.0379 - acc: 0.990 - ETA: 0s - loss: 0.0375 - acc: 0.991 - 6s 3ms/step - loss: 0.0373 - acc: 0.9912 - val_loss: 3.8201 - val_acc: 0.3951\n",
      "\n",
      "Epoch 00009: val_acc did not improve from 0.50993\n",
      "Epoch 10/100\n"
     ]
    },
    {
     "name": "stdout",
     "output_type": "stream",
     "text": [
      "1808/1808 [==============================] - ETA: 5s - loss: 0.0041 - acc: 1.000 - ETA: 4s - loss: 0.0039 - acc: 1.000 - ETA: 4s - loss: 0.0049 - acc: 1.000 - ETA: 4s - loss: 0.0047 - acc: 1.000 - ETA: 4s - loss: 0.0044 - acc: 1.000 - ETA: 4s - loss: 0.0058 - acc: 1.000 - ETA: 4s - loss: 0.0059 - acc: 1.000 - ETA: 4s - loss: 0.0061 - acc: 1.000 - ETA: 4s - loss: 0.0057 - acc: 1.000 - ETA: 4s - loss: 0.0080 - acc: 1.000 - ETA: 4s - loss: 0.0086 - acc: 1.000 - ETA: 4s - loss: 0.0082 - acc: 1.000 - ETA: 4s - loss: 0.0077 - acc: 1.000 - ETA: 3s - loss: 0.0164 - acc: 0.997 - ETA: 3s - loss: 0.0158 - acc: 0.997 - ETA: 3s - loss: 0.0160 - acc: 0.998 - ETA: 3s - loss: 0.0157 - acc: 0.998 - ETA: 3s - loss: 0.0161 - acc: 0.998 - ETA: 3s - loss: 0.0155 - acc: 0.998 - ETA: 3s - loss: 0.0153 - acc: 0.998 - ETA: 3s - loss: 0.0279 - acc: 0.997 - ETA: 3s - loss: 0.0282 - acc: 0.997 - ETA: 3s - loss: 0.0275 - acc: 0.997 - ETA: 2s - loss: 0.0266 - acc: 0.997 - ETA: 2s - loss: 0.0257 - acc: 0.997 - ETA: 2s - loss: 0.0252 - acc: 0.997 - ETA: 2s - loss: 0.0250 - acc: 0.997 - ETA: 2s - loss: 0.0243 - acc: 0.997 - ETA: 2s - loss: 0.0237 - acc: 0.997 - ETA: 2s - loss: 0.0230 - acc: 0.997 - ETA: 2s - loss: 0.0224 - acc: 0.998 - ETA: 2s - loss: 0.0226 - acc: 0.997 - ETA: 2s - loss: 0.0220 - acc: 0.997 - ETA: 2s - loss: 0.0215 - acc: 0.997 - ETA: 1s - loss: 0.0210 - acc: 0.997 - ETA: 1s - loss: 0.0205 - acc: 0.997 - ETA: 1s - loss: 0.0200 - acc: 0.997 - ETA: 1s - loss: 0.0201 - acc: 0.997 - ETA: 1s - loss: 0.0198 - acc: 0.997 - ETA: 1s - loss: 0.0264 - acc: 0.996 - ETA: 1s - loss: 0.0258 - acc: 0.996 - ETA: 1s - loss: 0.0253 - acc: 0.996 - ETA: 1s - loss: 0.0248 - acc: 0.996 - ETA: 1s - loss: 0.0243 - acc: 0.996 - ETA: 1s - loss: 0.0241 - acc: 0.996 - ETA: 0s - loss: 0.0239 - acc: 0.996 - ETA: 0s - loss: 0.0237 - acc: 0.996 - ETA: 0s - loss: 0.0240 - acc: 0.996 - ETA: 0s - loss: 0.0304 - acc: 0.996 - ETA: 0s - loss: 0.0302 - acc: 0.996 - ETA: 0s - loss: 0.0297 - acc: 0.996 - ETA: 0s - loss: 0.0292 - acc: 0.996 - ETA: 0s - loss: 0.0287 - acc: 0.996 - ETA: 0s - loss: 0.0286 - acc: 0.996 - ETA: 0s - loss: 0.0282 - acc: 0.996 - ETA: 0s - loss: 0.0277 - acc: 0.996 - 6s 3ms/step - loss: 0.0276 - acc: 0.9967 - val_loss: 3.8368 - val_acc: 0.4194\n",
      "\n",
      "Epoch 00010: val_acc did not improve from 0.50993\n",
      "Epoch 11/100\n",
      "1808/1808 [==============================] - ETA: 4s - loss: 0.0057 - acc: 1.000 - ETA: 4s - loss: 0.0039 - acc: 1.000 - ETA: 4s - loss: 0.0271 - acc: 0.989 - ETA: 4s - loss: 0.0704 - acc: 0.984 - ETA: 4s - loss: 0.0567 - acc: 0.987 - ETA: 4s - loss: 0.0476 - acc: 0.989 - ETA: 4s - loss: 0.0411 - acc: 0.991 - ETA: 4s - loss: 0.0364 - acc: 0.992 - ETA: 4s - loss: 0.0326 - acc: 0.993 - ETA: 4s - loss: 0.0304 - acc: 0.993 - ETA: 4s - loss: 0.0282 - acc: 0.994 - ETA: 4s - loss: 0.0262 - acc: 0.994 - ETA: 4s - loss: 0.0256 - acc: 0.995 - ETA: 3s - loss: 0.0252 - acc: 0.995 - ETA: 3s - loss: 0.0238 - acc: 0.995 - ETA: 3s - loss: 0.0229 - acc: 0.996 - ETA: 3s - loss: 0.0219 - acc: 0.996 - ETA: 3s - loss: 0.0209 - acc: 0.996 - ETA: 3s - loss: 0.0199 - acc: 0.996 - ETA: 3s - loss: 0.0191 - acc: 0.996 - ETA: 3s - loss: 0.0184 - acc: 0.997 - ETA: 3s - loss: 0.0177 - acc: 0.997 - ETA: 3s - loss: 0.0171 - acc: 0.997 - ETA: 2s - loss: 0.0227 - acc: 0.996 - ETA: 2s - loss: 0.0220 - acc: 0.996 - ETA: 2s - loss: 0.0214 - acc: 0.996 - ETA: 2s - loss: 0.0208 - acc: 0.996 - ETA: 2s - loss: 0.0204 - acc: 0.996 - ETA: 2s - loss: 0.0199 - acc: 0.996 - ETA: 2s - loss: 0.0196 - acc: 0.996 - ETA: 2s - loss: 0.0190 - acc: 0.997 - ETA: 2s - loss: 0.0185 - acc: 0.997 - ETA: 2s - loss: 0.0181 - acc: 0.997 - ETA: 2s - loss: 0.0177 - acc: 0.997 - ETA: 1s - loss: 0.0172 - acc: 0.997 - ETA: 1s - loss: 0.0173 - acc: 0.997 - ETA: 1s - loss: 0.0169 - acc: 0.997 - ETA: 1s - loss: 0.0166 - acc: 0.997 - ETA: 1s - loss: 0.0186 - acc: 0.996 - ETA: 1s - loss: 0.0183 - acc: 0.996 - ETA: 1s - loss: 0.0183 - acc: 0.997 - ETA: 1s - loss: 0.0179 - acc: 0.997 - ETA: 1s - loss: 0.0176 - acc: 0.997 - ETA: 1s - loss: 0.0246 - acc: 0.996 - ETA: 1s - loss: 0.0241 - acc: 0.996 - ETA: 0s - loss: 0.0237 - acc: 0.996 - ETA: 0s - loss: 0.0232 - acc: 0.996 - ETA: 0s - loss: 0.0280 - acc: 0.995 - ETA: 0s - loss: 0.0275 - acc: 0.995 - ETA: 0s - loss: 0.0271 - acc: 0.995 - ETA: 0s - loss: 0.0266 - acc: 0.995 - ETA: 0s - loss: 0.0264 - acc: 0.995 - ETA: 0s - loss: 0.0263 - acc: 0.995 - ETA: 0s - loss: 0.0259 - acc: 0.995 - ETA: 0s - loss: 0.0255 - acc: 0.996 - ETA: 0s - loss: 0.0252 - acc: 0.996 - 5s 3ms/step - loss: 0.0250 - acc: 0.9961 - val_loss: 3.8348 - val_acc: 0.4172\n",
      "\n",
      "Epoch 00011: val_acc did not improve from 0.50993\n",
      "Epoch 12/100\n",
      "1808/1808 [==============================] - ETA: 5s - loss: 0.0044 - acc: 1.000 - ETA: 5s - loss: 0.0046 - acc: 1.000 - ETA: 4s - loss: 0.0036 - acc: 1.000 - ETA: 4s - loss: 0.0032 - acc: 1.000 - ETA: 4s - loss: 0.0029 - acc: 1.000 - ETA: 4s - loss: 0.0028 - acc: 1.000 - ETA: 4s - loss: 0.0027 - acc: 1.000 - ETA: 4s - loss: 0.0029 - acc: 1.000 - ETA: 4s - loss: 0.0028 - acc: 1.000 - ETA: 4s - loss: 0.0030 - acc: 1.000 - ETA: 4s - loss: 0.0029 - acc: 1.000 - ETA: 4s - loss: 0.0031 - acc: 1.000 - ETA: 4s - loss: 0.0030 - acc: 1.000 - ETA: 3s - loss: 0.0037 - acc: 1.000 - ETA: 3s - loss: 0.0035 - acc: 1.000 - ETA: 3s - loss: 0.0035 - acc: 1.000 - ETA: 3s - loss: 0.0034 - acc: 1.000 - ETA: 3s - loss: 0.0034 - acc: 1.000 - ETA: 3s - loss: 0.0033 - acc: 1.000 - ETA: 3s - loss: 0.0034 - acc: 1.000 - ETA: 3s - loss: 0.0034 - acc: 1.000 - ETA: 3s - loss: 0.0049 - acc: 0.998 - ETA: 3s - loss: 0.0048 - acc: 0.998 - ETA: 3s - loss: 0.0048 - acc: 0.998 - ETA: 2s - loss: 0.0048 - acc: 0.998 - ETA: 2s - loss: 0.0122 - acc: 0.997 - ETA: 2s - loss: 0.0165 - acc: 0.996 - ETA: 2s - loss: 0.0167 - acc: 0.996 - ETA: 2s - loss: 0.0165 - acc: 0.996 - ETA: 2s - loss: 0.0210 - acc: 0.995 - ETA: 2s - loss: 0.0205 - acc: 0.996 - ETA: 2s - loss: 0.0199 - acc: 0.996 - ETA: 2s - loss: 0.0194 - acc: 0.996 - ETA: 2s - loss: 0.0189 - acc: 0.996 - ETA: 1s - loss: 0.0185 - acc: 0.996 - ETA: 1s - loss: 0.0181 - acc: 0.996 - ETA: 1s - loss: 0.0177 - acc: 0.996 - ETA: 1s - loss: 0.0177 - acc: 0.996 - ETA: 1s - loss: 0.0173 - acc: 0.996 - ETA: 1s - loss: 0.0170 - acc: 0.996 - ETA: 1s - loss: 0.0185 - acc: 0.996 - ETA: 1s - loss: 0.0181 - acc: 0.996 - ETA: 1s - loss: 0.0221 - acc: 0.995 - ETA: 1s - loss: 0.0217 - acc: 0.995 - ETA: 1s - loss: 0.0213 - acc: 0.995 - ETA: 0s - loss: 0.0209 - acc: 0.995 - ETA: 0s - loss: 0.0205 - acc: 0.996 - ETA: 0s - loss: 0.0202 - acc: 0.996 - ETA: 0s - loss: 0.0200 - acc: 0.996 - ETA: 0s - loss: 0.0196 - acc: 0.996 - ETA: 0s - loss: 0.0194 - acc: 0.996 - ETA: 0s - loss: 0.0191 - acc: 0.996 - ETA: 0s - loss: 0.0188 - acc: 0.996 - ETA: 0s - loss: 0.0186 - acc: 0.996 - ETA: 0s - loss: 0.0184 - acc: 0.996 - ETA: 0s - loss: 0.0182 - acc: 0.996 - 6s 3ms/step - loss: 0.0181 - acc: 0.9967 - val_loss: 3.8398 - val_acc: 0.4415\n",
      "\n",
      "Epoch 00012: val_acc did not improve from 0.50993\n",
      "Epoch 13/100\n"
     ]
    },
    {
     "name": "stdout",
     "output_type": "stream",
     "text": [
      "1808/1808 [==============================] - ETA: 4s - loss: 0.0128 - acc: 1.000 - ETA: 5s - loss: 0.0123 - acc: 1.000 - ETA: 4s - loss: 0.0089 - acc: 1.000 - ETA: 4s - loss: 0.0078 - acc: 1.000 - ETA: 4s - loss: 0.0069 - acc: 1.000 - ETA: 4s - loss: 0.0062 - acc: 1.000 - ETA: 4s - loss: 0.0059 - acc: 1.000 - ETA: 4s - loss: 0.0053 - acc: 1.000 - ETA: 4s - loss: 0.0050 - acc: 1.000 - ETA: 4s - loss: 0.0046 - acc: 1.000 - ETA: 4s - loss: 0.0072 - acc: 0.997 - ETA: 4s - loss: 0.0067 - acc: 0.997 - ETA: 4s - loss: 0.0064 - acc: 0.997 - ETA: 3s - loss: 0.0063 - acc: 0.997 - ETA: 3s - loss: 0.0059 - acc: 0.997 - ETA: 3s - loss: 0.0124 - acc: 0.996 - ETA: 3s - loss: 0.0123 - acc: 0.996 - ETA: 3s - loss: 0.0213 - acc: 0.994 - ETA: 3s - loss: 0.0203 - acc: 0.995 - ETA: 3s - loss: 0.0194 - acc: 0.995 - ETA: 3s - loss: 0.0185 - acc: 0.995 - ETA: 3s - loss: 0.0207 - acc: 0.994 - ETA: 3s - loss: 0.0199 - acc: 0.994 - ETA: 2s - loss: 0.0231 - acc: 0.993 - ETA: 2s - loss: 0.0223 - acc: 0.993 - ETA: 2s - loss: 0.0216 - acc: 0.994 - ETA: 2s - loss: 0.0209 - acc: 0.994 - ETA: 2s - loss: 0.0203 - acc: 0.994 - ETA: 2s - loss: 0.0201 - acc: 0.994 - ETA: 2s - loss: 0.0197 - acc: 0.994 - ETA: 2s - loss: 0.0191 - acc: 0.995 - ETA: 2s - loss: 0.0191 - acc: 0.995 - ETA: 2s - loss: 0.0187 - acc: 0.995 - ETA: 2s - loss: 0.0184 - acc: 0.995 - ETA: 1s - loss: 0.0179 - acc: 0.995 - ETA: 1s - loss: 0.0175 - acc: 0.995 - ETA: 1s - loss: 0.0171 - acc: 0.995 - ETA: 1s - loss: 0.0167 - acc: 0.995 - ETA: 1s - loss: 0.0163 - acc: 0.996 - ETA: 1s - loss: 0.0160 - acc: 0.996 - ETA: 1s - loss: 0.0156 - acc: 0.996 - ETA: 1s - loss: 0.0153 - acc: 0.996 - ETA: 1s - loss: 0.0150 - acc: 0.996 - ETA: 1s - loss: 0.0147 - acc: 0.996 - ETA: 1s - loss: 0.0153 - acc: 0.995 - ETA: 0s - loss: 0.0150 - acc: 0.995 - ETA: 0s - loss: 0.0148 - acc: 0.996 - ETA: 0s - loss: 0.0145 - acc: 0.996 - ETA: 0s - loss: 0.0144 - acc: 0.996 - ETA: 0s - loss: 0.0142 - acc: 0.996 - ETA: 0s - loss: 0.0140 - acc: 0.996 - ETA: 0s - loss: 0.0138 - acc: 0.996 - ETA: 0s - loss: 0.0137 - acc: 0.996 - ETA: 0s - loss: 0.0135 - acc: 0.996 - ETA: 0s - loss: 0.0155 - acc: 0.996 - ETA: 0s - loss: 0.0152 - acc: 0.996 - 6s 3ms/step - loss: 0.0151 - acc: 0.9961 - val_loss: 3.9294 - val_acc: 0.4658\n",
      "\n",
      "Epoch 00013: val_acc did not improve from 0.50993\n",
      "Epoch 14/100\n",
      "1808/1808 [==============================] - ETA: 4s - loss: 0.0026 - acc: 1.000 - ETA: 4s - loss: 0.0030 - acc: 1.000 - ETA: 4s - loss: 0.0034 - acc: 1.000 - ETA: 4s - loss: 0.0219 - acc: 0.992 - ETA: 4s - loss: 0.0181 - acc: 0.993 - ETA: 4s - loss: 0.0160 - acc: 0.994 - ETA: 4s - loss: 0.0296 - acc: 0.991 - ETA: 4s - loss: 0.0266 - acc: 0.992 - ETA: 4s - loss: 0.0240 - acc: 0.993 - ETA: 4s - loss: 0.0226 - acc: 0.993 - ETA: 4s - loss: 0.0208 - acc: 0.994 - ETA: 4s - loss: 0.0192 - acc: 0.994 - ETA: 3s - loss: 0.0182 - acc: 0.995 - ETA: 3s - loss: 0.0170 - acc: 0.995 - ETA: 3s - loss: 0.0160 - acc: 0.995 - ETA: 3s - loss: 0.0152 - acc: 0.996 - ETA: 3s - loss: 0.0144 - acc: 0.996 - ETA: 3s - loss: 0.0206 - acc: 0.994 - ETA: 3s - loss: 0.0197 - acc: 0.995 - ETA: 3s - loss: 0.0188 - acc: 0.995 - ETA: 3s - loss: 0.0182 - acc: 0.995 - ETA: 3s - loss: 0.0174 - acc: 0.995 - ETA: 3s - loss: 0.0214 - acc: 0.994 - ETA: 2s - loss: 0.0208 - acc: 0.994 - ETA: 2s - loss: 0.0200 - acc: 0.995 - ETA: 2s - loss: 0.0212 - acc: 0.994 - ETA: 2s - loss: 0.0205 - acc: 0.994 - ETA: 2s - loss: 0.0198 - acc: 0.994 - ETA: 2s - loss: 0.0192 - acc: 0.994 - ETA: 2s - loss: 0.0186 - acc: 0.994 - ETA: 2s - loss: 0.0180 - acc: 0.995 - ETA: 2s - loss: 0.0175 - acc: 0.995 - ETA: 2s - loss: 0.0171 - acc: 0.995 - ETA: 2s - loss: 0.0167 - acc: 0.995 - ETA: 1s - loss: 0.0166 - acc: 0.995 - ETA: 1s - loss: 0.0161 - acc: 0.995 - ETA: 1s - loss: 0.0157 - acc: 0.995 - ETA: 1s - loss: 0.0153 - acc: 0.995 - ETA: 1s - loss: 0.0150 - acc: 0.996 - ETA: 1s - loss: 0.0147 - acc: 0.996 - ETA: 1s - loss: 0.0144 - acc: 0.996 - ETA: 1s - loss: 0.0147 - acc: 0.996 - ETA: 1s - loss: 0.0144 - acc: 0.996 - ETA: 1s - loss: 0.0141 - acc: 0.996 - ETA: 1s - loss: 0.0138 - acc: 0.996 - ETA: 0s - loss: 0.0135 - acc: 0.996 - ETA: 0s - loss: 0.0133 - acc: 0.996 - ETA: 0s - loss: 0.0130 - acc: 0.996 - ETA: 0s - loss: 0.0128 - acc: 0.996 - ETA: 0s - loss: 0.0128 - acc: 0.996 - ETA: 0s - loss: 0.0126 - acc: 0.996 - ETA: 0s - loss: 0.0127 - acc: 0.997 - ETA: 0s - loss: 0.0125 - acc: 0.997 - ETA: 0s - loss: 0.0123 - acc: 0.997 - ETA: 0s - loss: 0.0121 - acc: 0.997 - ETA: 0s - loss: 0.0120 - acc: 0.997 - 5s 3ms/step - loss: 0.0119 - acc: 0.9972 - val_loss: 4.2911 - val_acc: 0.4106\n",
      "\n",
      "Epoch 00014: val_acc did not improve from 0.50993\n",
      "Epoch 15/100\n",
      "1808/1808 [==============================] - ETA: 4s - loss: 8.3677e-04 - acc: 1.000 - ETA: 4s - loss: 9.7570e-04 - acc: 1.000 - ETA: 4s - loss: 8.7715e-04 - acc: 1.000 - ETA: 4s - loss: 0.0012 - acc: 1.0000    - ETA: 4s - loss: 0.0228 - acc: 0.993 - ETA: 4s - loss: 0.0192 - acc: 0.994 - ETA: 4s - loss: 0.0166 - acc: 0.995 - ETA: 4s - loss: 0.0148 - acc: 0.996 - ETA: 4s - loss: 0.0133 - acc: 0.996 - ETA: 4s - loss: 0.0141 - acc: 0.996 - ETA: 4s - loss: 0.0130 - acc: 0.997 - ETA: 4s - loss: 0.0120 - acc: 0.997 - ETA: 3s - loss: 0.0112 - acc: 0.997 - ETA: 3s - loss: 0.0119 - acc: 0.997 - ETA: 3s - loss: 0.0111 - acc: 0.997 - ETA: 3s - loss: 0.0105 - acc: 0.998 - ETA: 3s - loss: 0.0100 - acc: 0.998 - ETA: 3s - loss: 0.0096 - acc: 0.998 - ETA: 3s - loss: 0.0091 - acc: 0.998 - ETA: 3s - loss: 0.0087 - acc: 0.998 - ETA: 3s - loss: 0.0084 - acc: 0.998 - ETA: 3s - loss: 0.0080 - acc: 0.998 - ETA: 3s - loss: 0.0077 - acc: 0.998 - ETA: 2s - loss: 0.0074 - acc: 0.998 - ETA: 2s - loss: 0.0072 - acc: 0.998 - ETA: 2s - loss: 0.0093 - acc: 0.997 - ETA: 2s - loss: 0.0092 - acc: 0.997 - ETA: 2s - loss: 0.0089 - acc: 0.997 - ETA: 2s - loss: 0.0086 - acc: 0.997 - ETA: 2s - loss: 0.0085 - acc: 0.997 - ETA: 2s - loss: 0.0084 - acc: 0.998 - ETA: 2s - loss: 0.0083 - acc: 0.998 - ETA: 2s - loss: 0.0081 - acc: 0.998 - ETA: 2s - loss: 0.0083 - acc: 0.998 - ETA: 1s - loss: 0.0081 - acc: 0.998 - ETA: 1s - loss: 0.0079 - acc: 0.998 - ETA: 1s - loss: 0.0078 - acc: 0.998 - ETA: 1s - loss: 0.0076 - acc: 0.998 - ETA: 1s - loss: 0.0077 - acc: 0.998 - ETA: 1s - loss: 0.0076 - acc: 0.998 - ETA: 1s - loss: 0.0074 - acc: 0.998 - ETA: 1s - loss: 0.0072 - acc: 0.998 - ETA: 1s - loss: 0.0098 - acc: 0.997 - ETA: 1s - loss: 0.0096 - acc: 0.997 - ETA: 1s - loss: 0.0117 - acc: 0.997 - ETA: 0s - loss: 0.0115 - acc: 0.997 - ETA: 0s - loss: 0.0113 - acc: 0.997 - ETA: 0s - loss: 0.0112 - acc: 0.997 - ETA: 0s - loss: 0.0136 - acc: 0.996 - ETA: 0s - loss: 0.0160 - acc: 0.996 - ETA: 0s - loss: 0.0158 - acc: 0.996 - ETA: 0s - loss: 0.0155 - acc: 0.996 - ETA: 0s - loss: 0.0152 - acc: 0.996 - ETA: 0s - loss: 0.0167 - acc: 0.995 - ETA: 0s - loss: 0.0165 - acc: 0.996 - ETA: 0s - loss: 0.0162 - acc: 0.996 - 6s 3ms/step - loss: 0.0161 - acc: 0.9961 - val_loss: 4.0985 - val_acc: 0.4614\n",
      "\n",
      "Epoch 00015: val_acc did not improve from 0.50993\n",
      "Epoch 16/100\n"
     ]
    },
    {
     "name": "stdout",
     "output_type": "stream",
     "text": [
      "1808/1808 [==============================] - ETA: 4s - loss: 0.0021 - acc: 1.000 - ETA: 4s - loss: 0.0303 - acc: 0.984 - ETA: 4s - loss: 0.0206 - acc: 0.989 - ETA: 4s - loss: 0.0250 - acc: 0.984 - ETA: 4s - loss: 0.0203 - acc: 0.987 - ETA: 4s - loss: 0.0171 - acc: 0.989 - ETA: 3s - loss: 0.0155 - acc: 0.991 - ETA: 3s - loss: 0.0141 - acc: 0.992 - ETA: 3s - loss: 0.0129 - acc: 0.993 - ETA: 3s - loss: 0.0117 - acc: 0.993 - ETA: 3s - loss: 0.0110 - acc: 0.994 - ETA: 3s - loss: 0.0104 - acc: 0.994 - ETA: 3s - loss: 0.0097 - acc: 0.995 - ETA: 3s - loss: 0.0092 - acc: 0.995 - ETA: 3s - loss: 0.0087 - acc: 0.995 - ETA: 3s - loss: 0.0083 - acc: 0.996 - ETA: 3s - loss: 0.0112 - acc: 0.994 - ETA: 3s - loss: 0.0107 - acc: 0.994 - ETA: 3s - loss: 0.0102 - acc: 0.995 - ETA: 3s - loss: 0.0098 - acc: 0.995 - ETA: 2s - loss: 0.0103 - acc: 0.995 - ETA: 2s - loss: 0.0098 - acc: 0.995 - ETA: 2s - loss: 0.0095 - acc: 0.995 - ETA: 2s - loss: 0.0092 - acc: 0.996 - ETA: 2s - loss: 0.0089 - acc: 0.996 - ETA: 2s - loss: 0.0087 - acc: 0.996 - ETA: 2s - loss: 0.0086 - acc: 0.996 - ETA: 2s - loss: 0.0084 - acc: 0.996 - ETA: 2s - loss: 0.0082 - acc: 0.996 - ETA: 2s - loss: 0.0081 - acc: 0.996 - ETA: 2s - loss: 0.0079 - acc: 0.997 - ETA: 2s - loss: 0.0077 - acc: 0.997 - ETA: 2s - loss: 0.0077 - acc: 0.997 - ETA: 1s - loss: 0.0085 - acc: 0.996 - ETA: 1s - loss: 0.0084 - acc: 0.996 - ETA: 1s - loss: 0.0103 - acc: 0.995 - ETA: 1s - loss: 0.0101 - acc: 0.995 - ETA: 1s - loss: 0.0101 - acc: 0.995 - ETA: 1s - loss: 0.0100 - acc: 0.996 - ETA: 1s - loss: 0.0098 - acc: 0.996 - ETA: 1s - loss: 0.0096 - acc: 0.996 - ETA: 1s - loss: 0.0094 - acc: 0.996 - ETA: 1s - loss: 0.0093 - acc: 0.996 - ETA: 1s - loss: 0.0091 - acc: 0.996 - ETA: 0s - loss: 0.0090 - acc: 0.996 - ETA: 0s - loss: 0.0088 - acc: 0.996 - ETA: 0s - loss: 0.0108 - acc: 0.996 - ETA: 0s - loss: 0.0106 - acc: 0.996 - ETA: 0s - loss: 0.0104 - acc: 0.996 - ETA: 0s - loss: 0.0102 - acc: 0.996 - ETA: 0s - loss: 0.0100 - acc: 0.996 - ETA: 0s - loss: 0.0099 - acc: 0.996 - ETA: 0s - loss: 0.0097 - acc: 0.996 - ETA: 0s - loss: 0.0096 - acc: 0.996 - ETA: 0s - loss: 0.0094 - acc: 0.996 - ETA: 0s - loss: 0.0093 - acc: 0.996 - 5s 3ms/step - loss: 0.0092 - acc: 0.9967 - val_loss: 4.2281 - val_acc: 0.4393\n",
      "\n",
      "Epoch 00016: val_acc did not improve from 0.50993\n",
      "Epoch 17/100\n",
      "1808/1808 [==============================] - ETA: 5s - loss: 0.0029 - acc: 1.000 - ETA: 5s - loss: 0.0025 - acc: 1.000 - ETA: 5s - loss: 0.0060 - acc: 1.000 - ETA: 4s - loss: 0.0048 - acc: 1.000 - ETA: 4s - loss: 0.0041 - acc: 1.000 - ETA: 4s - loss: 0.0066 - acc: 1.000 - ETA: 4s - loss: 0.0058 - acc: 1.000 - ETA: 4s - loss: 0.0052 - acc: 1.000 - ETA: 4s - loss: 0.0053 - acc: 1.000 - ETA: 4s - loss: 0.0048 - acc: 1.000 - ETA: 4s - loss: 0.0138 - acc: 0.997 - ETA: 4s - loss: 0.0128 - acc: 0.997 - ETA: 4s - loss: 0.0120 - acc: 0.997 - ETA: 3s - loss: 0.0112 - acc: 0.997 - ETA: 3s - loss: 0.0105 - acc: 0.997 - ETA: 3s - loss: 0.0110 - acc: 0.998 - ETA: 3s - loss: 0.0105 - acc: 0.998 - ETA: 3s - loss: 0.0101 - acc: 0.998 - ETA: 3s - loss: 0.0097 - acc: 0.998 - ETA: 3s - loss: 0.0204 - acc: 0.995 - ETA: 3s - loss: 0.0194 - acc: 0.995 - ETA: 3s - loss: 0.0187 - acc: 0.995 - ETA: 3s - loss: 0.0180 - acc: 0.995 - ETA: 3s - loss: 0.0174 - acc: 0.996 - ETA: 2s - loss: 0.0173 - acc: 0.996 - ETA: 2s - loss: 0.0167 - acc: 0.996 - ETA: 2s - loss: 0.0161 - acc: 0.996 - ETA: 2s - loss: 0.0155 - acc: 0.996 - ETA: 2s - loss: 0.0151 - acc: 0.996 - ETA: 2s - loss: 0.0146 - acc: 0.996 - ETA: 2s - loss: 0.0141 - acc: 0.997 - ETA: 2s - loss: 0.0137 - acc: 0.997 - ETA: 2s - loss: 0.0133 - acc: 0.997 - ETA: 2s - loss: 0.0129 - acc: 0.997 - ETA: 2s - loss: 0.0149 - acc: 0.996 - ETA: 1s - loss: 0.0147 - acc: 0.996 - ETA: 1s - loss: 0.0143 - acc: 0.996 - ETA: 1s - loss: 0.0140 - acc: 0.996 - ETA: 1s - loss: 0.0137 - acc: 0.996 - ETA: 1s - loss: 0.0134 - acc: 0.996 - ETA: 1s - loss: 0.0131 - acc: 0.997 - ETA: 1s - loss: 0.0128 - acc: 0.997 - ETA: 1s - loss: 0.0126 - acc: 0.997 - ETA: 1s - loss: 0.0123 - acc: 0.997 - ETA: 1s - loss: 0.0121 - acc: 0.997 - ETA: 0s - loss: 0.0119 - acc: 0.997 - ETA: 0s - loss: 0.0116 - acc: 0.997 - ETA: 0s - loss: 0.0116 - acc: 0.997 - ETA: 0s - loss: 0.0114 - acc: 0.997 - ETA: 0s - loss: 0.0112 - acc: 0.997 - ETA: 0s - loss: 0.0112 - acc: 0.997 - ETA: 0s - loss: 0.0110 - acc: 0.997 - ETA: 0s - loss: 0.0108 - acc: 0.997 - ETA: 0s - loss: 0.0107 - acc: 0.997 - ETA: 0s - loss: 0.0106 - acc: 0.997 - ETA: 0s - loss: 0.0104 - acc: 0.997 - 6s 3ms/step - loss: 0.0103 - acc: 0.9978 - val_loss: 4.3911 - val_acc: 0.4260\n",
      "\n",
      "Epoch 00017: val_acc did not improve from 0.50993\n",
      "Epoch 18/100\n",
      "1808/1808 [==============================] - ETA: 5s - loss: 6.6022e-04 - acc: 1.000 - ETA: 5s - loss: 8.5694e-04 - acc: 1.000 - ETA: 5s - loss: 7.7460e-04 - acc: 1.000 - ETA: 5s - loss: 8.0468e-04 - acc: 1.000 - ETA: 4s - loss: 0.0027 - acc: 1.0000    - ETA: 4s - loss: 0.0024 - acc: 1.000 - ETA: 4s - loss: 0.0024 - acc: 1.000 - ETA: 4s - loss: 0.0037 - acc: 1.000 - ETA: 4s - loss: 0.0033 - acc: 1.000 - ETA: 4s - loss: 0.0031 - acc: 1.000 - ETA: 4s - loss: 0.0029 - acc: 1.000 - ETA: 4s - loss: 0.0183 - acc: 0.994 - ETA: 4s - loss: 0.0170 - acc: 0.995 - ETA: 4s - loss: 0.0158 - acc: 0.995 - ETA: 4s - loss: 0.0148 - acc: 0.995 - ETA: 3s - loss: 0.0139 - acc: 0.996 - ETA: 3s - loss: 0.0133 - acc: 0.996 - ETA: 3s - loss: 0.0126 - acc: 0.996 - ETA: 3s - loss: 0.0200 - acc: 0.995 - ETA: 3s - loss: 0.0192 - acc: 0.995 - ETA: 3s - loss: 0.0185 - acc: 0.995 - ETA: 3s - loss: 0.0177 - acc: 0.995 - ETA: 3s - loss: 0.0170 - acc: 0.995 - ETA: 3s - loss: 0.0164 - acc: 0.996 - ETA: 3s - loss: 0.0158 - acc: 0.996 - ETA: 2s - loss: 0.0152 - acc: 0.996 - ETA: 2s - loss: 0.0146 - acc: 0.996 - ETA: 2s - loss: 0.0141 - acc: 0.996 - ETA: 2s - loss: 0.0137 - acc: 0.996 - ETA: 2s - loss: 0.0132 - acc: 0.996 - ETA: 2s - loss: 0.0128 - acc: 0.997 - ETA: 2s - loss: 0.0125 - acc: 0.997 - ETA: 2s - loss: 0.0128 - acc: 0.996 - ETA: 2s - loss: 0.0143 - acc: 0.995 - ETA: 2s - loss: 0.0139 - acc: 0.995 - ETA: 1s - loss: 0.0136 - acc: 0.995 - ETA: 1s - loss: 0.0133 - acc: 0.995 - ETA: 1s - loss: 0.0130 - acc: 0.995 - ETA: 1s - loss: 0.0128 - acc: 0.996 - ETA: 1s - loss: 0.0126 - acc: 0.996 - ETA: 1s - loss: 0.0123 - acc: 0.996 - ETA: 1s - loss: 0.0120 - acc: 0.996 - ETA: 1s - loss: 0.0121 - acc: 0.996 - ETA: 1s - loss: 0.0119 - acc: 0.996 - ETA: 1s - loss: 0.0117 - acc: 0.996 - ETA: 1s - loss: 0.0115 - acc: 0.996 - ETA: 0s - loss: 0.0113 - acc: 0.996 - ETA: 0s - loss: 0.0112 - acc: 0.996 - ETA: 0s - loss: 0.0110 - acc: 0.996 - ETA: 0s - loss: 0.0108 - acc: 0.996 - ETA: 0s - loss: 0.0106 - acc: 0.996 - ETA: 0s - loss: 0.0105 - acc: 0.997 - ETA: 0s - loss: 0.0103 - acc: 0.997 - ETA: 0s - loss: 0.0102 - acc: 0.997 - ETA: 0s - loss: 0.0100 - acc: 0.997 - ETA: 0s - loss: 0.0099 - acc: 0.997 - 6s 3ms/step - loss: 0.0098 - acc: 0.9972 - val_loss: 4.3807 - val_acc: 0.4503\n",
      "\n",
      "Epoch 00018: val_acc did not improve from 0.50993\n",
      "Epoch 19/100\n"
     ]
    },
    {
     "name": "stdout",
     "output_type": "stream",
     "text": [
      "1808/1808 [==============================] - ETA: 4s - loss: 9.9925e-04 - acc: 1.000 - ETA: 5s - loss: 8.2304e-04 - acc: 1.000 - ETA: 5s - loss: 8.8525e-04 - acc: 1.000 - ETA: 5s - loss: 9.3346e-04 - acc: 1.000 - ETA: 5s - loss: 9.4515e-04 - acc: 1.000 - ETA: 4s - loss: 8.6331e-04 - acc: 1.000 - ETA: 4s - loss: 8.3558e-04 - acc: 1.000 - ETA: 4s - loss: 8.5417e-04 - acc: 1.000 - ETA: 4s - loss: 0.0010 - acc: 1.0000    - ETA: 4s - loss: 0.0026 - acc: 1.000 - ETA: 4s - loss: 0.0025 - acc: 1.000 - ETA: 4s - loss: 0.0025 - acc: 1.000 - ETA: 4s - loss: 0.0023 - acc: 1.000 - ETA: 4s - loss: 0.0023 - acc: 1.000 - ETA: 3s - loss: 0.0023 - acc: 1.000 - ETA: 3s - loss: 0.0022 - acc: 1.000 - ETA: 3s - loss: 0.0026 - acc: 1.000 - ETA: 3s - loss: 0.0025 - acc: 1.000 - ETA: 3s - loss: 0.0024 - acc: 1.000 - ETA: 3s - loss: 0.0023 - acc: 1.000 - ETA: 3s - loss: 0.0022 - acc: 1.000 - ETA: 3s - loss: 0.0021 - acc: 1.000 - ETA: 3s - loss: 0.0067 - acc: 0.998 - ETA: 3s - loss: 0.0064 - acc: 0.998 - ETA: 2s - loss: 0.0063 - acc: 0.998 - ETA: 2s - loss: 0.0060 - acc: 0.998 - ETA: 2s - loss: 0.0058 - acc: 0.998 - ETA: 2s - loss: 0.0057 - acc: 0.998 - ETA: 2s - loss: 0.0055 - acc: 0.998 - ETA: 2s - loss: 0.0053 - acc: 0.999 - ETA: 2s - loss: 0.0052 - acc: 0.999 - ETA: 2s - loss: 0.0051 - acc: 0.999 - ETA: 2s - loss: 0.0050 - acc: 0.999 - ETA: 2s - loss: 0.0049 - acc: 0.999 - ETA: 2s - loss: 0.0048 - acc: 0.999 - ETA: 1s - loss: 0.0046 - acc: 0.999 - ETA: 1s - loss: 0.0046 - acc: 0.999 - ETA: 1s - loss: 0.0045 - acc: 0.999 - ETA: 1s - loss: 0.0044 - acc: 0.999 - ETA: 1s - loss: 0.0043 - acc: 0.999 - ETA: 1s - loss: 0.0043 - acc: 0.999 - ETA: 1s - loss: 0.0084 - acc: 0.998 - ETA: 1s - loss: 0.0082 - acc: 0.998 - ETA: 1s - loss: 0.0080 - acc: 0.998 - ETA: 1s - loss: 0.0078 - acc: 0.998 - ETA: 0s - loss: 0.0077 - acc: 0.998 - ETA: 0s - loss: 0.0075 - acc: 0.998 - ETA: 0s - loss: 0.0075 - acc: 0.998 - ETA: 0s - loss: 0.0095 - acc: 0.998 - ETA: 0s - loss: 0.0093 - acc: 0.998 - ETA: 0s - loss: 0.0092 - acc: 0.998 - ETA: 0s - loss: 0.0090 - acc: 0.998 - ETA: 0s - loss: 0.0089 - acc: 0.998 - ETA: 0s - loss: 0.0109 - acc: 0.997 - ETA: 0s - loss: 0.0108 - acc: 0.997 - ETA: 0s - loss: 0.0107 - acc: 0.997 - 6s 3ms/step - loss: 0.0106 - acc: 0.9978 - val_loss: 4.6428 - val_acc: 0.4062\n",
      "\n",
      "Epoch 00019: val_acc did not improve from 0.50993\n",
      "Epoch 20/100\n",
      "1808/1808 [==============================] - ETA: 5s - loss: 5.9152e-04 - acc: 1.000 - ETA: 5s - loss: 9.7345e-04 - acc: 1.000 - ETA: 5s - loss: 7.7142e-04 - acc: 1.000 - ETA: 5s - loss: 9.4547e-04 - acc: 1.000 - ETA: 4s - loss: 0.0010 - acc: 1.0000    - ETA: 4s - loss: 0.0010 - acc: 1.000 - ETA: 4s - loss: 9.3975e-04 - acc: 1.000 - ETA: 4s - loss: 8.7938e-04 - acc: 1.000 - ETA: 4s - loss: 8.5858e-04 - acc: 1.000 - ETA: 4s - loss: 8.3765e-04 - acc: 1.000 - ETA: 4s - loss: 0.0027 - acc: 1.0000    - ETA: 4s - loss: 0.0026 - acc: 1.000 - ETA: 4s - loss: 0.0027 - acc: 1.000 - ETA: 3s - loss: 0.0028 - acc: 1.000 - ETA: 3s - loss: 0.0029 - acc: 1.000 - ETA: 3s - loss: 0.0029 - acc: 1.000 - ETA: 3s - loss: 0.0028 - acc: 1.000 - ETA: 3s - loss: 0.0028 - acc: 1.000 - ETA: 3s - loss: 0.0027 - acc: 1.000 - ETA: 3s - loss: 0.0029 - acc: 1.000 - ETA: 3s - loss: 0.0032 - acc: 1.000 - ETA: 3s - loss: 0.0032 - acc: 1.000 - ETA: 3s - loss: 0.0032 - acc: 1.000 - ETA: 3s - loss: 0.0031 - acc: 1.000 - ETA: 2s - loss: 0.0031 - acc: 1.000 - ETA: 2s - loss: 0.0030 - acc: 1.000 - ETA: 2s - loss: 0.0030 - acc: 1.000 - ETA: 2s - loss: 0.0029 - acc: 1.000 - ETA: 2s - loss: 0.0029 - acc: 1.000 - ETA: 2s - loss: 0.0028 - acc: 1.000 - ETA: 2s - loss: 0.0069 - acc: 0.999 - ETA: 2s - loss: 0.0085 - acc: 0.998 - ETA: 2s - loss: 0.0083 - acc: 0.998 - ETA: 2s - loss: 0.0085 - acc: 0.998 - ETA: 2s - loss: 0.0084 - acc: 0.998 - ETA: 1s - loss: 0.0083 - acc: 0.998 - ETA: 1s - loss: 0.0081 - acc: 0.998 - ETA: 1s - loss: 0.0107 - acc: 0.997 - ETA: 1s - loss: 0.0104 - acc: 0.997 - ETA: 1s - loss: 0.0102 - acc: 0.997 - ETA: 1s - loss: 0.0100 - acc: 0.997 - ETA: 1s - loss: 0.0099 - acc: 0.997 - ETA: 1s - loss: 0.0098 - acc: 0.997 - ETA: 1s - loss: 0.0096 - acc: 0.997 - ETA: 1s - loss: 0.0097 - acc: 0.997 - ETA: 0s - loss: 0.0103 - acc: 0.997 - ETA: 0s - loss: 0.0101 - acc: 0.997 - ETA: 0s - loss: 0.0099 - acc: 0.997 - ETA: 0s - loss: 0.0097 - acc: 0.997 - ETA: 0s - loss: 0.0095 - acc: 0.997 - ETA: 0s - loss: 0.0094 - acc: 0.997 - ETA: 0s - loss: 0.0113 - acc: 0.997 - ETA: 0s - loss: 0.0111 - acc: 0.997 - ETA: 0s - loss: 0.0109 - acc: 0.997 - ETA: 0s - loss: 0.0107 - acc: 0.997 - ETA: 0s - loss: 0.0105 - acc: 0.997 - 6s 3ms/step - loss: 0.0104 - acc: 0.9972 - val_loss: 4.2906 - val_acc: 0.4327\n",
      "\n",
      "Epoch 00020: val_acc did not improve from 0.50993\n",
      "Epoch 21/100\n",
      "1808/1808 [==============================] - ETA: 4s - loss: 0.0026 - acc: 1.000 - ETA: 4s - loss: 0.0020 - acc: 1.000 - ETA: 4s - loss: 0.0016 - acc: 1.000 - ETA: 4s - loss: 0.0023 - acc: 1.000 - ETA: 4s - loss: 0.0021 - acc: 1.000 - ETA: 4s - loss: 0.0019 - acc: 1.000 - ETA: 4s - loss: 0.0017 - acc: 1.000 - ETA: 4s - loss: 0.0017 - acc: 1.000 - ETA: 4s - loss: 0.0040 - acc: 0.996 - ETA: 4s - loss: 0.0039 - acc: 0.996 - ETA: 4s - loss: 0.0038 - acc: 0.997 - ETA: 4s - loss: 0.0036 - acc: 0.997 - ETA: 4s - loss: 0.0033 - acc: 0.997 - ETA: 3s - loss: 0.0032 - acc: 0.997 - ETA: 3s - loss: 0.0030 - acc: 0.997 - ETA: 3s - loss: 0.0029 - acc: 0.998 - ETA: 3s - loss: 0.0028 - acc: 0.998 - ETA: 3s - loss: 0.0028 - acc: 0.998 - ETA: 3s - loss: 0.0027 - acc: 0.998 - ETA: 3s - loss: 0.0027 - acc: 0.998 - ETA: 3s - loss: 0.0027 - acc: 0.998 - ETA: 3s - loss: 0.0026 - acc: 0.998 - ETA: 3s - loss: 0.0025 - acc: 0.998 - ETA: 3s - loss: 0.0025 - acc: 0.998 - ETA: 3s - loss: 0.0024 - acc: 0.998 - ETA: 2s - loss: 0.0023 - acc: 0.998 - ETA: 2s - loss: 0.0023 - acc: 0.998 - ETA: 2s - loss: 0.0057 - acc: 0.997 - ETA: 2s - loss: 0.0055 - acc: 0.997 - ETA: 2s - loss: 0.0057 - acc: 0.997 - ETA: 2s - loss: 0.0055 - acc: 0.998 - ETA: 2s - loss: 0.0053 - acc: 0.998 - ETA: 2s - loss: 0.0052 - acc: 0.998 - ETA: 2s - loss: 0.0051 - acc: 0.998 - ETA: 2s - loss: 0.0050 - acc: 0.998 - ETA: 1s - loss: 0.0049 - acc: 0.998 - ETA: 1s - loss: 0.0048 - acc: 0.998 - ETA: 1s - loss: 0.0047 - acc: 0.998 - ETA: 1s - loss: 0.0046 - acc: 0.998 - ETA: 1s - loss: 0.0045 - acc: 0.998 - ETA: 1s - loss: 0.0045 - acc: 0.998 - ETA: 1s - loss: 0.0044 - acc: 0.998 - ETA: 1s - loss: 0.0043 - acc: 0.998 - ETA: 1s - loss: 0.0042 - acc: 0.998 - ETA: 1s - loss: 0.0042 - acc: 0.998 - ETA: 0s - loss: 0.0041 - acc: 0.998 - ETA: 0s - loss: 0.0040 - acc: 0.998 - ETA: 0s - loss: 0.0040 - acc: 0.998 - ETA: 0s - loss: 0.0039 - acc: 0.998 - ETA: 0s - loss: 0.0039 - acc: 0.998 - ETA: 0s - loss: 0.0077 - acc: 0.997 - ETA: 0s - loss: 0.0075 - acc: 0.997 - ETA: 0s - loss: 0.0074 - acc: 0.997 - ETA: 0s - loss: 0.0073 - acc: 0.997 - ETA: 0s - loss: 0.0072 - acc: 0.997 - ETA: 0s - loss: 0.0071 - acc: 0.997 - 6s 3ms/step - loss: 0.0071 - acc: 0.9978 - val_loss: 4.3016 - val_acc: 0.4636\n",
      "\n",
      "Epoch 00021: val_acc did not improve from 0.50993\n",
      "Epoch 22/100\n"
     ]
    },
    {
     "name": "stdout",
     "output_type": "stream",
     "text": [
      "1808/1808 [==============================] - ETA: 5s - loss: 0.0068 - acc: 1.000 - ETA: 5s - loss: 0.0113 - acc: 1.000 - ETA: 5s - loss: 0.0101 - acc: 1.000 - ETA: 5s - loss: 0.0079 - acc: 1.000 - ETA: 4s - loss: 0.0065 - acc: 1.000 - ETA: 4s - loss: 0.0061 - acc: 1.000 - ETA: 4s - loss: 0.0056 - acc: 1.000 - ETA: 4s - loss: 0.0051 - acc: 1.000 - ETA: 4s - loss: 0.0046 - acc: 1.000 - ETA: 4s - loss: 0.0044 - acc: 1.000 - ETA: 4s - loss: 0.0042 - acc: 1.000 - ETA: 4s - loss: 0.0039 - acc: 1.000 - ETA: 4s - loss: 0.0037 - acc: 1.000 - ETA: 4s - loss: 0.0036 - acc: 1.000 - ETA: 3s - loss: 0.0034 - acc: 1.000 - ETA: 3s - loss: 0.0033 - acc: 1.000 - ETA: 3s - loss: 0.0031 - acc: 1.000 - ETA: 3s - loss: 0.0030 - acc: 1.000 - ETA: 3s - loss: 0.0029 - acc: 1.000 - ETA: 3s - loss: 0.0028 - acc: 1.000 - ETA: 3s - loss: 0.0027 - acc: 1.000 - ETA: 3s - loss: 0.0026 - acc: 1.000 - ETA: 3s - loss: 0.0070 - acc: 0.998 - ETA: 3s - loss: 0.0069 - acc: 0.998 - ETA: 2s - loss: 0.0073 - acc: 0.998 - ETA: 2s - loss: 0.0070 - acc: 0.998 - ETA: 2s - loss: 0.0068 - acc: 0.998 - ETA: 2s - loss: 0.0066 - acc: 0.998 - ETA: 2s - loss: 0.0064 - acc: 0.998 - ETA: 2s - loss: 0.0063 - acc: 0.999 - ETA: 2s - loss: 0.0061 - acc: 0.999 - ETA: 2s - loss: 0.0089 - acc: 0.998 - ETA: 2s - loss: 0.0086 - acc: 0.998 - ETA: 2s - loss: 0.0084 - acc: 0.998 - ETA: 2s - loss: 0.0082 - acc: 0.998 - ETA: 1s - loss: 0.0080 - acc: 0.998 - ETA: 1s - loss: 0.0078 - acc: 0.998 - ETA: 1s - loss: 0.0076 - acc: 0.998 - ETA: 1s - loss: 0.0074 - acc: 0.998 - ETA: 1s - loss: 0.0073 - acc: 0.998 - ETA: 1s - loss: 0.0071 - acc: 0.998 - ETA: 1s - loss: 0.0069 - acc: 0.998 - ETA: 1s - loss: 0.0095 - acc: 0.997 - ETA: 1s - loss: 0.0093 - acc: 0.997 - ETA: 1s - loss: 0.0091 - acc: 0.997 - ETA: 1s - loss: 0.0092 - acc: 0.998 - ETA: 0s - loss: 0.0090 - acc: 0.998 - ETA: 0s - loss: 0.0089 - acc: 0.998 - ETA: 0s - loss: 0.0093 - acc: 0.997 - ETA: 0s - loss: 0.0092 - acc: 0.997 - ETA: 0s - loss: 0.0091 - acc: 0.997 - ETA: 0s - loss: 0.0089 - acc: 0.997 - ETA: 0s - loss: 0.0087 - acc: 0.997 - ETA: 0s - loss: 0.0086 - acc: 0.997 - ETA: 0s - loss: 0.0084 - acc: 0.997 - ETA: 0s - loss: 0.0083 - acc: 0.997 - 6s 3ms/step - loss: 0.0082 - acc: 0.9978 - val_loss: 4.4880 - val_acc: 0.4371\n",
      "\n",
      "Epoch 00022: val_acc did not improve from 0.50993\n",
      "Epoch 23/100\n",
      "1808/1808 [==============================] - ETA: 4s - loss: 3.3384e-04 - acc: 1.000 - ETA: 5s - loss: 2.4874e-04 - acc: 1.000 - ETA: 5s - loss: 6.0495e-04 - acc: 1.000 - ETA: 4s - loss: 6.4364e-04 - acc: 1.000 - ETA: 4s - loss: 5.8359e-04 - acc: 1.000 - ETA: 4s - loss: 7.2182e-04 - acc: 1.000 - ETA: 4s - loss: 8.7723e-04 - acc: 1.000 - ETA: 4s - loss: 0.0086 - acc: 0.9961    - ETA: 4s - loss: 0.0077 - acc: 0.996 - ETA: 4s - loss: 0.0070 - acc: 0.996 - ETA: 4s - loss: 0.0064 - acc: 0.997 - ETA: 4s - loss: 0.0059 - acc: 0.997 - ETA: 4s - loss: 0.0054 - acc: 0.997 - ETA: 4s - loss: 0.0051 - acc: 0.997 - ETA: 3s - loss: 0.0048 - acc: 0.997 - ETA: 3s - loss: 0.0045 - acc: 0.998 - ETA: 3s - loss: 0.0043 - acc: 0.998 - ETA: 3s - loss: 0.0041 - acc: 0.998 - ETA: 3s - loss: 0.0039 - acc: 0.998 - ETA: 3s - loss: 0.0038 - acc: 0.998 - ETA: 3s - loss: 0.0050 - acc: 0.998 - ETA: 3s - loss: 0.0048 - acc: 0.998 - ETA: 3s - loss: 0.0047 - acc: 0.998 - ETA: 3s - loss: 0.0045 - acc: 0.998 - ETA: 3s - loss: 0.0048 - acc: 0.998 - ETA: 2s - loss: 0.0047 - acc: 0.998 - ETA: 2s - loss: 0.0045 - acc: 0.998 - ETA: 2s - loss: 0.0044 - acc: 0.998 - ETA: 2s - loss: 0.0043 - acc: 0.998 - ETA: 2s - loss: 0.0042 - acc: 0.999 - ETA: 2s - loss: 0.0044 - acc: 0.999 - ETA: 2s - loss: 0.0045 - acc: 0.999 - ETA: 2s - loss: 0.0044 - acc: 0.999 - ETA: 2s - loss: 0.0043 - acc: 0.999 - ETA: 2s - loss: 0.0042 - acc: 0.999 - ETA: 1s - loss: 0.0041 - acc: 0.999 - ETA: 1s - loss: 0.0040 - acc: 0.999 - ETA: 1s - loss: 0.0039 - acc: 0.999 - ETA: 1s - loss: 0.0038 - acc: 0.999 - ETA: 1s - loss: 0.0037 - acc: 0.999 - ETA: 1s - loss: 0.0037 - acc: 0.999 - ETA: 1s - loss: 0.0036 - acc: 0.999 - ETA: 1s - loss: 0.0036 - acc: 0.999 - ETA: 1s - loss: 0.0035 - acc: 0.999 - ETA: 1s - loss: 0.0035 - acc: 0.999 - ETA: 1s - loss: 0.0034 - acc: 0.999 - ETA: 0s - loss: 0.0033 - acc: 0.999 - ETA: 0s - loss: 0.0057 - acc: 0.998 - ETA: 0s - loss: 0.0056 - acc: 0.998 - ETA: 0s - loss: 0.0077 - acc: 0.997 - ETA: 0s - loss: 0.0077 - acc: 0.997 - ETA: 0s - loss: 0.0076 - acc: 0.997 - ETA: 0s - loss: 0.0075 - acc: 0.997 - ETA: 0s - loss: 0.0074 - acc: 0.997 - ETA: 0s - loss: 0.0074 - acc: 0.997 - ETA: 0s - loss: 0.0074 - acc: 0.997 - 6s 3ms/step - loss: 0.0074 - acc: 0.9978 - val_loss: 4.5298 - val_acc: 0.4834\n",
      "\n",
      "Epoch 00023: val_acc did not improve from 0.50993\n",
      "Epoch 24/100\n",
      "1808/1808 [==============================] - ETA: 4s - loss: 0.0076 - acc: 1.000 - ETA: 4s - loss: 0.0134 - acc: 1.000 - ETA: 4s - loss: 0.0139 - acc: 1.000 - ETA: 4s - loss: 0.0871 - acc: 0.992 - ETA: 4s - loss: 0.0706 - acc: 0.993 - ETA: 4s - loss: 0.0597 - acc: 0.994 - ETA: 4s - loss: 0.0512 - acc: 0.995 - ETA: 4s - loss: 0.0452 - acc: 0.996 - ETA: 4s - loss: 0.0403 - acc: 0.996 - ETA: 4s - loss: 0.0363 - acc: 0.996 - ETA: 3s - loss: 0.0331 - acc: 0.997 - ETA: 3s - loss: 0.0303 - acc: 0.997 - ETA: 3s - loss: 0.0280 - acc: 0.997 - ETA: 3s - loss: 0.0261 - acc: 0.997 - ETA: 3s - loss: 0.0244 - acc: 0.997 - ETA: 3s - loss: 0.0229 - acc: 0.998 - ETA: 3s - loss: 0.0216 - acc: 0.998 - ETA: 3s - loss: 0.0204 - acc: 0.998 - ETA: 3s - loss: 0.0194 - acc: 0.998 - ETA: 3s - loss: 0.0185 - acc: 0.998 - ETA: 3s - loss: 0.0193 - acc: 0.998 - ETA: 3s - loss: 0.0185 - acc: 0.998 - ETA: 3s - loss: 0.0177 - acc: 0.998 - ETA: 2s - loss: 0.0170 - acc: 0.998 - ETA: 2s - loss: 0.0163 - acc: 0.998 - ETA: 2s - loss: 0.0158 - acc: 0.998 - ETA: 2s - loss: 0.0152 - acc: 0.998 - ETA: 2s - loss: 0.0147 - acc: 0.998 - ETA: 2s - loss: 0.0142 - acc: 0.998 - ETA: 2s - loss: 0.0137 - acc: 0.999 - ETA: 2s - loss: 0.0133 - acc: 0.999 - ETA: 2s - loss: 0.0129 - acc: 0.999 - ETA: 2s - loss: 0.0126 - acc: 0.999 - ETA: 2s - loss: 0.0122 - acc: 0.999 - ETA: 1s - loss: 0.0119 - acc: 0.999 - ETA: 1s - loss: 0.0141 - acc: 0.998 - ETA: 1s - loss: 0.0140 - acc: 0.998 - ETA: 1s - loss: 0.0140 - acc: 0.998 - ETA: 1s - loss: 0.0136 - acc: 0.998 - ETA: 1s - loss: 0.0133 - acc: 0.998 - ETA: 1s - loss: 0.0150 - acc: 0.997 - ETA: 1s - loss: 0.0166 - acc: 0.997 - ETA: 1s - loss: 0.0163 - acc: 0.997 - ETA: 1s - loss: 0.0169 - acc: 0.996 - ETA: 1s - loss: 0.0170 - acc: 0.996 - ETA: 0s - loss: 0.0167 - acc: 0.996 - ETA: 0s - loss: 0.0163 - acc: 0.996 - ETA: 0s - loss: 0.0160 - acc: 0.996 - ETA: 0s - loss: 0.0157 - acc: 0.996 - ETA: 0s - loss: 0.0154 - acc: 0.996 - ETA: 0s - loss: 0.0151 - acc: 0.996 - ETA: 0s - loss: 0.0148 - acc: 0.997 - ETA: 0s - loss: 0.0193 - acc: 0.996 - ETA: 0s - loss: 0.0196 - acc: 0.995 - ETA: 0s - loss: 0.0192 - acc: 0.996 - ETA: 0s - loss: 0.0189 - acc: 0.996 - 6s 3ms/step - loss: 0.0188 - acc: 0.9961 - val_loss: 4.8409 - val_acc: 0.3907\n",
      "\n",
      "Epoch 00024: val_acc did not improve from 0.50993\n",
      "Epoch 25/100\n"
     ]
    },
    {
     "name": "stdout",
     "output_type": "stream",
     "text": [
      "1808/1808 [==============================] - ETA: 4s - loss: 0.0011 - acc: 1.000 - ETA: 4s - loss: 0.0010 - acc: 1.000 - ETA: 4s - loss: 0.0017 - acc: 1.000 - ETA: 4s - loss: 0.0019 - acc: 1.000 - ETA: 4s - loss: 0.0019 - acc: 1.000 - ETA: 4s - loss: 0.0035 - acc: 1.000 - ETA: 3s - loss: 0.0031 - acc: 1.000 - ETA: 3s - loss: 0.0126 - acc: 0.996 - ETA: 3s - loss: 0.0117 - acc: 0.996 - ETA: 3s - loss: 0.0106 - acc: 0.996 - ETA: 3s - loss: 0.0121 - acc: 0.994 - ETA: 3s - loss: 0.0123 - acc: 0.994 - ETA: 3s - loss: 0.0115 - acc: 0.995 - ETA: 3s - loss: 0.0108 - acc: 0.995 - ETA: 3s - loss: 0.0127 - acc: 0.993 - ETA: 3s - loss: 0.0121 - acc: 0.994 - ETA: 3s - loss: 0.0114 - acc: 0.994 - ETA: 3s - loss: 0.0108 - acc: 0.994 - ETA: 3s - loss: 0.0103 - acc: 0.995 - ETA: 3s - loss: 0.0104 - acc: 0.995 - ETA: 3s - loss: 0.0131 - acc: 0.994 - ETA: 2s - loss: 0.0175 - acc: 0.992 - ETA: 2s - loss: 0.0168 - acc: 0.993 - ETA: 2s - loss: 0.0161 - acc: 0.993 - ETA: 2s - loss: 0.0174 - acc: 0.992 - ETA: 2s - loss: 0.0171 - acc: 0.992 - ETA: 2s - loss: 0.0166 - acc: 0.993 - ETA: 2s - loss: 0.0161 - acc: 0.993 - ETA: 2s - loss: 0.0155 - acc: 0.993 - ETA: 2s - loss: 0.0219 - acc: 0.991 - ETA: 2s - loss: 0.0212 - acc: 0.991 - ETA: 2s - loss: 0.0205 - acc: 0.992 - ETA: 1s - loss: 0.0199 - acc: 0.992 - ETA: 1s - loss: 0.0194 - acc: 0.992 - ETA: 1s - loss: 0.0189 - acc: 0.992 - ETA: 1s - loss: 0.0219 - acc: 0.992 - ETA: 1s - loss: 0.0237 - acc: 0.991 - ETA: 1s - loss: 0.0231 - acc: 0.991 - ETA: 1s - loss: 0.0229 - acc: 0.992 - ETA: 1s - loss: 0.0223 - acc: 0.992 - ETA: 1s - loss: 0.0218 - acc: 0.992 - ETA: 1s - loss: 0.0214 - acc: 0.992 - ETA: 1s - loss: 0.0209 - acc: 0.992 - ETA: 1s - loss: 0.0205 - acc: 0.992 - ETA: 0s - loss: 0.0240 - acc: 0.992 - ETA: 0s - loss: 0.0263 - acc: 0.991 - ETA: 0s - loss: 0.0258 - acc: 0.991 - ETA: 0s - loss: 0.0253 - acc: 0.991 - ETA: 0s - loss: 0.0248 - acc: 0.991 - ETA: 0s - loss: 0.0271 - acc: 0.991 - ETA: 0s - loss: 0.0266 - acc: 0.991 - ETA: 0s - loss: 0.0263 - acc: 0.991 - ETA: 0s - loss: 0.0260 - acc: 0.991 - ETA: 0s - loss: 0.0261 - acc: 0.991 - ETA: 0s - loss: 0.0257 - acc: 0.991 - ETA: 0s - loss: 0.0254 - acc: 0.991 - 5s 3ms/step - loss: 0.0252 - acc: 0.9917 - val_loss: 4.7205 - val_acc: 0.3819\n",
      "\n",
      "Epoch 00025: val_acc did not improve from 0.50993\n",
      "Epoch 26/100\n",
      "1808/1808 [==============================] - ETA: 4s - loss: 0.0046 - acc: 1.000 - ETA: 4s - loss: 0.0033 - acc: 1.000 - ETA: 4s - loss: 0.0029 - acc: 1.000 - ETA: 4s - loss: 0.0029 - acc: 1.000 - ETA: 4s - loss: 0.0026 - acc: 1.000 - ETA: 4s - loss: 0.0212 - acc: 0.994 - ETA: 3s - loss: 0.0184 - acc: 0.995 - ETA: 3s - loss: 0.0164 - acc: 0.996 - ETA: 3s - loss: 0.0147 - acc: 0.996 - ETA: 3s - loss: 0.0134 - acc: 0.996 - ETA: 3s - loss: 0.0122 - acc: 0.997 - ETA: 3s - loss: 0.0112 - acc: 0.997 - ETA: 3s - loss: 0.0106 - acc: 0.997 - ETA: 3s - loss: 0.0100 - acc: 0.997 - ETA: 3s - loss: 0.0098 - acc: 0.997 - ETA: 3s - loss: 0.0094 - acc: 0.998 - ETA: 3s - loss: 0.0090 - acc: 0.998 - ETA: 3s - loss: 0.0087 - acc: 0.998 - ETA: 3s - loss: 0.0122 - acc: 0.996 - ETA: 3s - loss: 0.0173 - acc: 0.993 - ETA: 3s - loss: 0.0165 - acc: 0.994 - ETA: 3s - loss: 0.0166 - acc: 0.994 - ETA: 3s - loss: 0.0161 - acc: 0.994 - ETA: 2s - loss: 0.0154 - acc: 0.994 - ETA: 2s - loss: 0.0151 - acc: 0.995 - ETA: 2s - loss: 0.0158 - acc: 0.995 - ETA: 2s - loss: 0.0202 - acc: 0.994 - ETA: 2s - loss: 0.0200 - acc: 0.994 - ETA: 2s - loss: 0.0206 - acc: 0.993 - ETA: 2s - loss: 0.0199 - acc: 0.993 - ETA: 2s - loss: 0.0194 - acc: 0.994 - ETA: 2s - loss: 0.0188 - acc: 0.994 - ETA: 2s - loss: 0.0183 - acc: 0.994 - ETA: 2s - loss: 0.0178 - acc: 0.994 - ETA: 1s - loss: 0.0174 - acc: 0.994 - ETA: 1s - loss: 0.0207 - acc: 0.993 - ETA: 1s - loss: 0.0217 - acc: 0.993 - ETA: 1s - loss: 0.0212 - acc: 0.993 - ETA: 1s - loss: 0.0208 - acc: 0.993 - ETA: 1s - loss: 0.0212 - acc: 0.993 - ETA: 1s - loss: 0.0208 - acc: 0.993 - ETA: 1s - loss: 0.0206 - acc: 0.994 - ETA: 1s - loss: 0.0203 - acc: 0.994 - ETA: 1s - loss: 0.0199 - acc: 0.994 - ETA: 1s - loss: 0.0194 - acc: 0.994 - ETA: 0s - loss: 0.0190 - acc: 0.994 - ETA: 0s - loss: 0.0187 - acc: 0.994 - ETA: 0s - loss: 0.0183 - acc: 0.994 - ETA: 0s - loss: 0.0180 - acc: 0.994 - ETA: 0s - loss: 0.0179 - acc: 0.995 - ETA: 0s - loss: 0.0176 - acc: 0.995 - ETA: 0s - loss: 0.0173 - acc: 0.995 - ETA: 0s - loss: 0.0170 - acc: 0.995 - ETA: 0s - loss: 0.0168 - acc: 0.995 - ETA: 0s - loss: 0.0168 - acc: 0.995 - ETA: 0s - loss: 0.0165 - acc: 0.995 - 5s 3ms/step - loss: 0.0164 - acc: 0.9956 - val_loss: 4.3598 - val_acc: 0.4194\n",
      "\n",
      "Epoch 00026: val_acc did not improve from 0.50993\n",
      "Epoch 27/100\n",
      "1808/1808 [==============================] - ETA: 4s - loss: 5.4753e-04 - acc: 1.000 - ETA: 4s - loss: 0.0013 - acc: 1.0000    - ETA: 4s - loss: 0.0012 - acc: 1.000 - ETA: 4s - loss: 0.0010 - acc: 1.000 - ETA: 4s - loss: 0.0011 - acc: 1.000 - ETA: 4s - loss: 0.0039 - acc: 1.000 - ETA: 3s - loss: 0.0061 - acc: 1.000 - ETA: 4s - loss: 0.0059 - acc: 1.000 - ETA: 4s - loss: 0.0053 - acc: 1.000 - ETA: 3s - loss: 0.0049 - acc: 1.000 - ETA: 3s - loss: 0.0049 - acc: 1.000 - ETA: 3s - loss: 0.0046 - acc: 1.000 - ETA: 3s - loss: 0.0053 - acc: 1.000 - ETA: 3s - loss: 0.0050 - acc: 1.000 - ETA: 3s - loss: 0.0048 - acc: 1.000 - ETA: 3s - loss: 0.0095 - acc: 0.998 - ETA: 3s - loss: 0.0106 - acc: 0.996 - ETA: 3s - loss: 0.0109 - acc: 0.996 - ETA: 3s - loss: 0.0104 - acc: 0.996 - ETA: 3s - loss: 0.0099 - acc: 0.996 - ETA: 2s - loss: 0.0095 - acc: 0.997 - ETA: 2s - loss: 0.0118 - acc: 0.995 - ETA: 2s - loss: 0.0117 - acc: 0.995 - ETA: 2s - loss: 0.0113 - acc: 0.996 - ETA: 2s - loss: 0.0109 - acc: 0.996 - ETA: 2s - loss: 0.0105 - acc: 0.996 - ETA: 2s - loss: 0.0102 - acc: 0.996 - ETA: 2s - loss: 0.0104 - acc: 0.996 - ETA: 2s - loss: 0.0101 - acc: 0.996 - ETA: 2s - loss: 0.0098 - acc: 0.996 - ETA: 2s - loss: 0.0095 - acc: 0.997 - ETA: 2s - loss: 0.0092 - acc: 0.997 - ETA: 1s - loss: 0.0091 - acc: 0.997 - ETA: 1s - loss: 0.0092 - acc: 0.997 - ETA: 1s - loss: 0.0103 - acc: 0.996 - ETA: 1s - loss: 0.0100 - acc: 0.996 - ETA: 1s - loss: 0.0098 - acc: 0.996 - ETA: 1s - loss: 0.0095 - acc: 0.996 - ETA: 1s - loss: 0.0093 - acc: 0.996 - ETA: 1s - loss: 0.0091 - acc: 0.996 - ETA: 1s - loss: 0.0089 - acc: 0.997 - ETA: 1s - loss: 0.0087 - acc: 0.997 - ETA: 1s - loss: 0.0086 - acc: 0.997 - ETA: 1s - loss: 0.0092 - acc: 0.996 - ETA: 0s - loss: 0.0090 - acc: 0.996 - ETA: 0s - loss: 0.0088 - acc: 0.996 - ETA: 0s - loss: 0.0087 - acc: 0.996 - ETA: 0s - loss: 0.0092 - acc: 0.996 - ETA: 0s - loss: 0.0090 - acc: 0.996 - ETA: 0s - loss: 0.0089 - acc: 0.996 - ETA: 0s - loss: 0.0105 - acc: 0.996 - ETA: 0s - loss: 0.0103 - acc: 0.996 - ETA: 0s - loss: 0.0101 - acc: 0.996 - ETA: 0s - loss: 0.0110 - acc: 0.995 - ETA: 0s - loss: 0.0108 - acc: 0.995 - ETA: 0s - loss: 0.0106 - acc: 0.995 - 5s 3ms/step - loss: 0.0105 - acc: 0.9956 - val_loss: 4.5069 - val_acc: 0.4393\n",
      "\n",
      "Epoch 00027: val_acc did not improve from 0.50993\n",
      "Epoch 28/100\n"
     ]
    },
    {
     "name": "stdout",
     "output_type": "stream",
     "text": [
      "1808/1808 [==============================] - ETA: 5s - loss: 0.0072 - acc: 1.000 - ETA: 5s - loss: 0.0078 - acc: 1.000 - ETA: 5s - loss: 0.0069 - acc: 1.000 - ETA: 5s - loss: 0.0093 - acc: 1.000 - ETA: 5s - loss: 0.0076 - acc: 1.000 - ETA: 4s - loss: 0.0069 - acc: 1.000 - ETA: 4s - loss: 0.0168 - acc: 0.995 - ETA: 4s - loss: 0.0286 - acc: 0.992 - ETA: 4s - loss: 0.0258 - acc: 0.993 - ETA: 4s - loss: 0.0233 - acc: 0.993 - ETA: 4s - loss: 0.0214 - acc: 0.994 - ETA: 4s - loss: 0.0197 - acc: 0.994 - ETA: 4s - loss: 0.0185 - acc: 0.995 - ETA: 4s - loss: 0.0173 - acc: 0.995 - ETA: 4s - loss: 0.0162 - acc: 0.995 - ETA: 3s - loss: 0.0213 - acc: 0.994 - ETA: 3s - loss: 0.0203 - acc: 0.994 - ETA: 3s - loss: 0.0192 - acc: 0.994 - ETA: 3s - loss: 0.0206 - acc: 0.993 - ETA: 3s - loss: 0.0196 - acc: 0.993 - ETA: 3s - loss: 0.0188 - acc: 0.994 - ETA: 3s - loss: 0.0180 - acc: 0.994 - ETA: 3s - loss: 0.0173 - acc: 0.994 - ETA: 3s - loss: 0.0207 - acc: 0.993 - ETA: 3s - loss: 0.0213 - acc: 0.992 - ETA: 2s - loss: 0.0206 - acc: 0.992 - ETA: 2s - loss: 0.0200 - acc: 0.993 - ETA: 2s - loss: 0.0193 - acc: 0.993 - ETA: 2s - loss: 0.0202 - acc: 0.992 - ETA: 2s - loss: 0.0196 - acc: 0.992 - ETA: 2s - loss: 0.0191 - acc: 0.992 - ETA: 2s - loss: 0.0223 - acc: 0.992 - ETA: 2s - loss: 0.0217 - acc: 0.992 - ETA: 2s - loss: 0.0217 - acc: 0.992 - ETA: 2s - loss: 0.0211 - acc: 0.992 - ETA: 1s - loss: 0.0207 - acc: 0.993 - ETA: 1s - loss: 0.0202 - acc: 0.993 - ETA: 1s - loss: 0.0197 - acc: 0.993 - ETA: 1s - loss: 0.0192 - acc: 0.993 - ETA: 1s - loss: 0.0187 - acc: 0.993 - ETA: 1s - loss: 0.0184 - acc: 0.993 - ETA: 1s - loss: 0.0183 - acc: 0.994 - ETA: 1s - loss: 0.0195 - acc: 0.993 - ETA: 1s - loss: 0.0191 - acc: 0.993 - ETA: 1s - loss: 0.0191 - acc: 0.993 - ETA: 1s - loss: 0.0187 - acc: 0.993 - ETA: 0s - loss: 0.0184 - acc: 0.994 - ETA: 0s - loss: 0.0180 - acc: 0.994 - ETA: 0s - loss: 0.0178 - acc: 0.994 - ETA: 0s - loss: 0.0175 - acc: 0.994 - ETA: 0s - loss: 0.0172 - acc: 0.994 - ETA: 0s - loss: 0.0169 - acc: 0.994 - ETA: 0s - loss: 0.0166 - acc: 0.994 - ETA: 0s - loss: 0.0164 - acc: 0.994 - ETA: 0s - loss: 0.0161 - acc: 0.994 - ETA: 0s - loss: 0.0159 - acc: 0.995 - 6s 3ms/step - loss: 0.0157 - acc: 0.9950 - val_loss: 5.1772 - val_acc: 0.3488\n",
      "\n",
      "Epoch 00028: val_acc did not improve from 0.50993\n",
      "Epoch 29/100\n",
      "1808/1808 [==============================] - ETA: 5s - loss: 0.0019 - acc: 1.000 - ETA: 5s - loss: 0.0017 - acc: 1.000 - ETA: 5s - loss: 0.0017 - acc: 1.000 - ETA: 5s - loss: 0.0019 - acc: 1.000 - ETA: 4s - loss: 0.0015 - acc: 1.000 - ETA: 4s - loss: 0.0024 - acc: 1.000 - ETA: 4s - loss: 0.0024 - acc: 1.000 - ETA: 4s - loss: 0.0021 - acc: 1.000 - ETA: 4s - loss: 0.0020 - acc: 1.000 - ETA: 4s - loss: 0.0020 - acc: 1.000 - ETA: 4s - loss: 0.0022 - acc: 1.000 - ETA: 4s - loss: 0.0020 - acc: 1.000 - ETA: 4s - loss: 0.0019 - acc: 1.000 - ETA: 4s - loss: 0.0018 - acc: 1.000 - ETA: 3s - loss: 0.0030 - acc: 1.000 - ETA: 3s - loss: 0.0042 - acc: 1.000 - ETA: 3s - loss: 0.0072 - acc: 0.998 - ETA: 3s - loss: 0.0069 - acc: 0.998 - ETA: 3s - loss: 0.0065 - acc: 0.998 - ETA: 3s - loss: 0.0109 - acc: 0.996 - ETA: 3s - loss: 0.0104 - acc: 0.997 - ETA: 3s - loss: 0.0107 - acc: 0.997 - ETA: 3s - loss: 0.0102 - acc: 0.997 - ETA: 3s - loss: 0.0146 - acc: 0.996 - ETA: 3s - loss: 0.0144 - acc: 0.996 - ETA: 2s - loss: 0.0140 - acc: 0.996 - ETA: 2s - loss: 0.0163 - acc: 0.995 - ETA: 2s - loss: 0.0158 - acc: 0.995 - ETA: 2s - loss: 0.0153 - acc: 0.995 - ETA: 2s - loss: 0.0148 - acc: 0.995 - ETA: 2s - loss: 0.0145 - acc: 0.996 - ETA: 2s - loss: 0.0141 - acc: 0.996 - ETA: 2s - loss: 0.0143 - acc: 0.996 - ETA: 2s - loss: 0.0143 - acc: 0.996 - ETA: 2s - loss: 0.0139 - acc: 0.996 - ETA: 1s - loss: 0.0136 - acc: 0.996 - ETA: 1s - loss: 0.0133 - acc: 0.996 - ETA: 1s - loss: 0.0145 - acc: 0.995 - ETA: 1s - loss: 0.0142 - acc: 0.996 - ETA: 1s - loss: 0.0138 - acc: 0.996 - ETA: 1s - loss: 0.0135 - acc: 0.996 - ETA: 1s - loss: 0.0133 - acc: 0.996 - ETA: 1s - loss: 0.0131 - acc: 0.996 - ETA: 1s - loss: 0.0128 - acc: 0.996 - ETA: 1s - loss: 0.0195 - acc: 0.995 - ETA: 0s - loss: 0.0194 - acc: 0.995 - ETA: 0s - loss: 0.0190 - acc: 0.996 - ETA: 0s - loss: 0.0187 - acc: 0.996 - ETA: 0s - loss: 0.0183 - acc: 0.996 - ETA: 0s - loss: 0.0180 - acc: 0.996 - ETA: 0s - loss: 0.0177 - acc: 0.996 - ETA: 0s - loss: 0.0174 - acc: 0.996 - ETA: 0s - loss: 0.0175 - acc: 0.996 - ETA: 0s - loss: 0.0172 - acc: 0.996 - ETA: 0s - loss: 0.0169 - acc: 0.996 - ETA: 0s - loss: 0.0186 - acc: 0.996 - 6s 3ms/step - loss: 0.0186 - acc: 0.9961 - val_loss: 4.6528 - val_acc: 0.4194\n",
      "\n",
      "Epoch 00029: val_acc did not improve from 0.50993\n",
      "Epoch 30/100\n",
      "1808/1808 [==============================] - ETA: 6s - loss: 0.0028 - acc: 1.000 - ETA: 6s - loss: 0.0020 - acc: 1.000 - ETA: 6s - loss: 0.0020 - acc: 1.000 - ETA: 6s - loss: 0.0018 - acc: 1.000 - ETA: 5s - loss: 0.0021 - acc: 1.000 - ETA: 5s - loss: 0.0023 - acc: 1.000 - ETA: 5s - loss: 0.0022 - acc: 1.000 - ETA: 5s - loss: 0.0022 - acc: 1.000 - ETA: 5s - loss: 0.0211 - acc: 0.996 - ETA: 5s - loss: 0.0193 - acc: 0.996 - ETA: 5s - loss: 0.0176 - acc: 0.997 - ETA: 5s - loss: 0.0171 - acc: 0.997 - ETA: 4s - loss: 0.0158 - acc: 0.997 - ETA: 4s - loss: 0.0147 - acc: 0.997 - ETA: 4s - loss: 0.0140 - acc: 0.997 - ETA: 4s - loss: 0.0133 - acc: 0.998 - ETA: 4s - loss: 0.0127 - acc: 0.998 - ETA: 4s - loss: 0.0129 - acc: 0.998 - ETA: 4s - loss: 0.0122 - acc: 0.998 - ETA: 3s - loss: 0.0141 - acc: 0.996 - ETA: 3s - loss: 0.0135 - acc: 0.997 - ETA: 3s - loss: 0.0130 - acc: 0.997 - ETA: 3s - loss: 0.0125 - acc: 0.997 - ETA: 3s - loss: 0.0125 - acc: 0.997 - ETA: 3s - loss: 0.0120 - acc: 0.997 - ETA: 3s - loss: 0.0123 - acc: 0.997 - ETA: 2s - loss: 0.0119 - acc: 0.997 - ETA: 2s - loss: 0.0115 - acc: 0.997 - ETA: 2s - loss: 0.0111 - acc: 0.997 - ETA: 2s - loss: 0.0111 - acc: 0.997 - ETA: 2s - loss: 0.0108 - acc: 0.998 - ETA: 2s - loss: 0.0117 - acc: 0.997 - ETA: 2s - loss: 0.0114 - acc: 0.997 - ETA: 2s - loss: 0.0111 - acc: 0.997 - ETA: 2s - loss: 0.0108 - acc: 0.997 - ETA: 1s - loss: 0.0107 - acc: 0.997 - ETA: 1s - loss: 0.0105 - acc: 0.997 - ETA: 1s - loss: 0.0102 - acc: 0.997 - ETA: 1s - loss: 0.0100 - acc: 0.997 - ETA: 1s - loss: 0.0097 - acc: 0.997 - ETA: 1s - loss: 0.0095 - acc: 0.997 - ETA: 1s - loss: 0.0093 - acc: 0.997 - ETA: 1s - loss: 0.0119 - acc: 0.997 - ETA: 1s - loss: 0.0116 - acc: 0.997 - ETA: 1s - loss: 0.0114 - acc: 0.997 - ETA: 0s - loss: 0.0115 - acc: 0.997 - ETA: 0s - loss: 0.0113 - acc: 0.997 - ETA: 0s - loss: 0.0111 - acc: 0.997 - ETA: 0s - loss: 0.0109 - acc: 0.997 - ETA: 0s - loss: 0.0107 - acc: 0.997 - ETA: 0s - loss: 0.0105 - acc: 0.997 - ETA: 0s - loss: 0.0103 - acc: 0.997 - ETA: 0s - loss: 0.0101 - acc: 0.997 - ETA: 0s - loss: 0.0100 - acc: 0.997 - ETA: 0s - loss: 0.0098 - acc: 0.997 - ETA: 0s - loss: 0.0106 - acc: 0.997 - 6s 3ms/step - loss: 0.0105 - acc: 0.9972 - val_loss: 4.7350 - val_acc: 0.4106\n",
      "\n",
      "Epoch 00030: val_acc did not improve from 0.50993\n",
      "Epoch 31/100\n"
     ]
    },
    {
     "name": "stdout",
     "output_type": "stream",
     "text": [
      "1808/1808 [==============================] - ETA: 4s - loss: 6.5578e-04 - acc: 1.000 - ETA: 4s - loss: 6.6826e-04 - acc: 1.000 - ETA: 4s - loss: 8.9408e-04 - acc: 1.000 - ETA: 4s - loss: 0.0013 - acc: 1.0000    - ETA: 4s - loss: 0.0011 - acc: 1.000 - ETA: 4s - loss: 9.6743e-04 - acc: 1.000 - ETA: 4s - loss: 8.5410e-04 - acc: 1.000 - ETA: 4s - loss: 7.9840e-04 - acc: 1.000 - ETA: 4s - loss: 0.0013 - acc: 1.0000    - ETA: 4s - loss: 0.0012 - acc: 1.000 - ETA: 3s - loss: 0.0012 - acc: 1.000 - ETA: 3s - loss: 0.0011 - acc: 1.000 - ETA: 3s - loss: 0.0063 - acc: 0.997 - ETA: 3s - loss: 0.0059 - acc: 0.997 - ETA: 3s - loss: 0.0055 - acc: 0.997 - ETA: 3s - loss: 0.0080 - acc: 0.996 - ETA: 3s - loss: 0.0075 - acc: 0.996 - ETA: 3s - loss: 0.0071 - acc: 0.996 - ETA: 3s - loss: 0.0068 - acc: 0.996 - ETA: 3s - loss: 0.0065 - acc: 0.996 - ETA: 3s - loss: 0.0062 - acc: 0.997 - ETA: 3s - loss: 0.0060 - acc: 0.997 - ETA: 3s - loss: 0.0059 - acc: 0.997 - ETA: 3s - loss: 0.0062 - acc: 0.997 - ETA: 2s - loss: 0.0060 - acc: 0.997 - ETA: 2s - loss: 0.0058 - acc: 0.997 - ETA: 2s - loss: 0.0056 - acc: 0.997 - ETA: 2s - loss: 0.0054 - acc: 0.997 - ETA: 2s - loss: 0.0053 - acc: 0.997 - ETA: 2s - loss: 0.0051 - acc: 0.997 - ETA: 2s - loss: 0.0050 - acc: 0.998 - ETA: 2s - loss: 0.0048 - acc: 0.998 - ETA: 2s - loss: 0.0047 - acc: 0.998 - ETA: 2s - loss: 0.0077 - acc: 0.997 - ETA: 1s - loss: 0.0075 - acc: 0.997 - ETA: 1s - loss: 0.0073 - acc: 0.997 - ETA: 1s - loss: 0.0071 - acc: 0.997 - ETA: 1s - loss: 0.0069 - acc: 0.997 - ETA: 1s - loss: 0.0070 - acc: 0.997 - ETA: 1s - loss: 0.0069 - acc: 0.997 - ETA: 1s - loss: 0.0067 - acc: 0.997 - ETA: 1s - loss: 0.0066 - acc: 0.997 - ETA: 1s - loss: 0.0064 - acc: 0.997 - ETA: 1s - loss: 0.0063 - acc: 0.997 - ETA: 1s - loss: 0.0062 - acc: 0.997 - ETA: 0s - loss: 0.0061 - acc: 0.998 - ETA: 0s - loss: 0.0060 - acc: 0.998 - ETA: 0s - loss: 0.0058 - acc: 0.998 - ETA: 0s - loss: 0.0059 - acc: 0.998 - ETA: 0s - loss: 0.0058 - acc: 0.998 - ETA: 0s - loss: 0.0057 - acc: 0.998 - ETA: 0s - loss: 0.0056 - acc: 0.998 - ETA: 0s - loss: 0.0055 - acc: 0.998 - ETA: 0s - loss: 0.0054 - acc: 0.998 - ETA: 0s - loss: 0.0053 - acc: 0.998 - ETA: 0s - loss: 0.0052 - acc: 0.998 - 6s 3ms/step - loss: 0.0052 - acc: 0.9983 - val_loss: 5.0934 - val_acc: 0.3753\n",
      "\n",
      "Epoch 00031: val_acc did not improve from 0.50993\n",
      "Epoch 32/100\n",
      "1808/1808 [==============================] - ETA: 7s - loss: 1.5839e-04 - acc: 1.000 - ETA: 6s - loss: 2.8002e-04 - acc: 1.000 - ETA: 6s - loss: 9.6839e-04 - acc: 1.000 - ETA: 5s - loss: 9.2416e-04 - acc: 1.000 - ETA: 5s - loss: 7.9230e-04 - acc: 1.000 - ETA: 5s - loss: 6.8741e-04 - acc: 1.000 - ETA: 5s - loss: 6.0729e-04 - acc: 1.000 - ETA: 4s - loss: 0.0015 - acc: 1.0000    - ETA: 4s - loss: 0.0013 - acc: 1.000 - ETA: 4s - loss: 0.0013 - acc: 1.000 - ETA: 4s - loss: 0.0012 - acc: 1.000 - ETA: 4s - loss: 0.0011 - acc: 1.000 - ETA: 4s - loss: 0.0010 - acc: 1.000 - ETA: 4s - loss: 0.0014 - acc: 1.000 - ETA: 4s - loss: 0.0094 - acc: 0.997 - ETA: 3s - loss: 0.0088 - acc: 0.998 - ETA: 3s - loss: 0.0083 - acc: 0.998 - ETA: 3s - loss: 0.0079 - acc: 0.998 - ETA: 3s - loss: 0.0075 - acc: 0.998 - ETA: 3s - loss: 0.0071 - acc: 0.998 - ETA: 3s - loss: 0.0068 - acc: 0.998 - ETA: 3s - loss: 0.0088 - acc: 0.997 - ETA: 3s - loss: 0.0084 - acc: 0.997 - ETA: 2s - loss: 0.0080 - acc: 0.997 - ETA: 2s - loss: 0.0077 - acc: 0.997 - ETA: 2s - loss: 0.0075 - acc: 0.997 - ETA: 2s - loss: 0.0072 - acc: 0.997 - ETA: 2s - loss: 0.0070 - acc: 0.997 - ETA: 2s - loss: 0.0068 - acc: 0.997 - ETA: 2s - loss: 0.0067 - acc: 0.997 - ETA: 2s - loss: 0.0066 - acc: 0.998 - ETA: 2s - loss: 0.0064 - acc: 0.998 - ETA: 2s - loss: 0.0063 - acc: 0.998 - ETA: 2s - loss: 0.0061 - acc: 0.998 - ETA: 1s - loss: 0.0060 - acc: 0.998 - ETA: 1s - loss: 0.0059 - acc: 0.998 - ETA: 1s - loss: 0.0057 - acc: 0.998 - ETA: 1s - loss: 0.0059 - acc: 0.998 - ETA: 1s - loss: 0.0057 - acc: 0.998 - ETA: 1s - loss: 0.0058 - acc: 0.998 - ETA: 1s - loss: 0.0057 - acc: 0.998 - ETA: 1s - loss: 0.0056 - acc: 0.998 - ETA: 1s - loss: 0.0055 - acc: 0.998 - ETA: 1s - loss: 0.0054 - acc: 0.998 - ETA: 1s - loss: 0.0053 - acc: 0.998 - ETA: 0s - loss: 0.0052 - acc: 0.998 - ETA: 0s - loss: 0.0051 - acc: 0.998 - ETA: 0s - loss: 0.0050 - acc: 0.998 - ETA: 0s - loss: 0.0050 - acc: 0.998 - ETA: 0s - loss: 0.0049 - acc: 0.998 - ETA: 0s - loss: 0.0048 - acc: 0.998 - ETA: 0s - loss: 0.0047 - acc: 0.998 - ETA: 0s - loss: 0.0046 - acc: 0.998 - ETA: 0s - loss: 0.0046 - acc: 0.998 - ETA: 0s - loss: 0.0045 - acc: 0.998 - ETA: 0s - loss: 0.0044 - acc: 0.998 - 5s 3ms/step - loss: 0.0044 - acc: 0.9989 - val_loss: 4.9668 - val_acc: 0.4084\n",
      "\n",
      "Epoch 00032: val_acc did not improve from 0.50993\n",
      "Epoch 33/100\n",
      "1808/1808 [==============================] - ETA: 4s - loss: 2.6050e-04 - acc: 1.000 - ETA: 4s - loss: 4.7017e-04 - acc: 1.000 - ETA: 4s - loss: 3.9899e-04 - acc: 1.000 - ETA: 4s - loss: 3.2822e-04 - acc: 1.000 - ETA: 4s - loss: 3.5282e-04 - acc: 1.000 - ETA: 4s - loss: 3.8834e-04 - acc: 1.000 - ETA: 4s - loss: 4.2196e-04 - acc: 1.000 - ETA: 4s - loss: 3.8698e-04 - acc: 1.000 - ETA: 3s - loss: 3.6961e-04 - acc: 1.000 - ETA: 3s - loss: 3.5458e-04 - acc: 1.000 - ETA: 3s - loss: 4.3418e-04 - acc: 1.000 - ETA: 3s - loss: 4.1846e-04 - acc: 1.000 - ETA: 3s - loss: 3.9602e-04 - acc: 1.000 - ETA: 3s - loss: 3.8301e-04 - acc: 1.000 - ETA: 3s - loss: 3.7947e-04 - acc: 1.000 - ETA: 3s - loss: 3.7507e-04 - acc: 1.000 - ETA: 3s - loss: 0.0067 - acc: 0.9982    - ETA: 3s - loss: 0.0064 - acc: 0.998 - ETA: 3s - loss: 0.0061 - acc: 0.998 - ETA: 3s - loss: 0.0058 - acc: 0.998 - ETA: 3s - loss: 0.0058 - acc: 0.998 - ETA: 2s - loss: 0.0056 - acc: 0.998 - ETA: 2s - loss: 0.0055 - acc: 0.998 - ETA: 2s - loss: 0.0053 - acc: 0.998 - ETA: 2s - loss: 0.0051 - acc: 0.998 - ETA: 2s - loss: 0.0049 - acc: 0.998 - ETA: 2s - loss: 0.0047 - acc: 0.998 - ETA: 2s - loss: 0.0046 - acc: 0.998 - ETA: 2s - loss: 0.0049 - acc: 0.998 - ETA: 2s - loss: 0.0049 - acc: 0.999 - ETA: 2s - loss: 0.0047 - acc: 0.999 - ETA: 2s - loss: 0.0046 - acc: 0.999 - ETA: 2s - loss: 0.0080 - acc: 0.998 - ETA: 2s - loss: 0.0077 - acc: 0.998 - ETA: 1s - loss: 0.0075 - acc: 0.998 - ETA: 1s - loss: 0.0073 - acc: 0.998 - ETA: 1s - loss: 0.0071 - acc: 0.998 - ETA: 1s - loss: 0.0069 - acc: 0.998 - ETA: 1s - loss: 0.0068 - acc: 0.998 - ETA: 1s - loss: 0.0066 - acc: 0.998 - ETA: 1s - loss: 0.0064 - acc: 0.998 - ETA: 1s - loss: 0.0063 - acc: 0.998 - ETA: 1s - loss: 0.0062 - acc: 0.998 - ETA: 1s - loss: 0.0061 - acc: 0.998 - ETA: 1s - loss: 0.0060 - acc: 0.998 - ETA: 0s - loss: 0.0059 - acc: 0.998 - ETA: 0s - loss: 0.0058 - acc: 0.998 - ETA: 0s - loss: 0.0057 - acc: 0.998 - ETA: 0s - loss: 0.0056 - acc: 0.998 - ETA: 0s - loss: 0.0055 - acc: 0.998 - ETA: 0s - loss: 0.0054 - acc: 0.998 - ETA: 0s - loss: 0.0075 - acc: 0.998 - ETA: 0s - loss: 0.0075 - acc: 0.998 - ETA: 0s - loss: 0.0074 - acc: 0.998 - ETA: 0s - loss: 0.0073 - acc: 0.998 - ETA: 0s - loss: 0.0071 - acc: 0.998 - 5s 3ms/step - loss: 0.0071 - acc: 0.9983 - val_loss: 4.8389 - val_acc: 0.4062\n",
      "\n",
      "Epoch 00033: val_acc did not improve from 0.50993\n",
      "Epoch 34/100\n"
     ]
    },
    {
     "name": "stdout",
     "output_type": "stream",
     "text": [
      "1808/1808 [==============================] - ETA: 4s - loss: 4.4262e-04 - acc: 1.000 - ETA: 4s - loss: 0.0021 - acc: 1.0000    - ETA: 4s - loss: 0.0014 - acc: 1.000 - ETA: 4s - loss: 0.0012 - acc: 1.000 - ETA: 4s - loss: 0.0011 - acc: 1.000 - ETA: 4s - loss: 9.1801e-04 - acc: 1.000 - ETA: 3s - loss: 8.0825e-04 - acc: 1.000 - ETA: 3s - loss: 7.3520e-04 - acc: 1.000 - ETA: 3s - loss: 0.0040 - acc: 0.9965    - ETA: 3s - loss: 0.0037 - acc: 0.996 - ETA: 3s - loss: 0.0034 - acc: 0.997 - ETA: 3s - loss: 0.0031 - acc: 0.997 - ETA: 3s - loss: 0.0029 - acc: 0.997 - ETA: 3s - loss: 0.0027 - acc: 0.997 - ETA: 3s - loss: 0.0025 - acc: 0.997 - ETA: 3s - loss: 0.0024 - acc: 0.998 - ETA: 3s - loss: 0.0039 - acc: 0.998 - ETA: 3s - loss: 0.0037 - acc: 0.998 - ETA: 3s - loss: 0.0035 - acc: 0.998 - ETA: 3s - loss: 0.0034 - acc: 0.998 - ETA: 2s - loss: 0.0103 - acc: 0.997 - ETA: 2s - loss: 0.0098 - acc: 0.997 - ETA: 2s - loss: 0.0094 - acc: 0.997 - ETA: 2s - loss: 0.0090 - acc: 0.997 - ETA: 2s - loss: 0.0087 - acc: 0.997 - ETA: 2s - loss: 0.0084 - acc: 0.997 - ETA: 2s - loss: 0.0081 - acc: 0.997 - ETA: 2s - loss: 0.0078 - acc: 0.997 - ETA: 2s - loss: 0.0075 - acc: 0.997 - ETA: 2s - loss: 0.0073 - acc: 0.997 - ETA: 2s - loss: 0.0071 - acc: 0.998 - ETA: 2s - loss: 0.0069 - acc: 0.998 - ETA: 2s - loss: 0.0067 - acc: 0.998 - ETA: 1s - loss: 0.0065 - acc: 0.998 - ETA: 1s - loss: 0.0065 - acc: 0.998 - ETA: 1s - loss: 0.0063 - acc: 0.998 - ETA: 1s - loss: 0.0070 - acc: 0.997 - ETA: 1s - loss: 0.0069 - acc: 0.997 - ETA: 1s - loss: 0.0067 - acc: 0.997 - ETA: 1s - loss: 0.0066 - acc: 0.997 - ETA: 1s - loss: 0.0064 - acc: 0.997 - ETA: 1s - loss: 0.0063 - acc: 0.997 - ETA: 1s - loss: 0.0061 - acc: 0.997 - ETA: 1s - loss: 0.0118 - acc: 0.997 - ETA: 1s - loss: 0.0115 - acc: 0.997 - ETA: 0s - loss: 0.0113 - acc: 0.997 - ETA: 0s - loss: 0.0110 - acc: 0.997 - ETA: 0s - loss: 0.0108 - acc: 0.997 - ETA: 0s - loss: 0.0106 - acc: 0.997 - ETA: 0s - loss: 0.0104 - acc: 0.997 - ETA: 0s - loss: 0.0102 - acc: 0.997 - ETA: 0s - loss: 0.0100 - acc: 0.997 - ETA: 0s - loss: 0.0098 - acc: 0.997 - ETA: 0s - loss: 0.0097 - acc: 0.997 - ETA: 0s - loss: 0.0095 - acc: 0.997 - ETA: 0s - loss: 0.0094 - acc: 0.997 - 6s 3ms/step - loss: 0.0093 - acc: 0.9978 - val_loss: 5.4930 - val_acc: 0.3510\n",
      "\n",
      "Epoch 00034: val_acc did not improve from 0.50993\n",
      "Epoch 35/100\n",
      "1808/1808 [==============================] - ETA: 4s - loss: 6.5125e-04 - acc: 1.000 - ETA: 4s - loss: 0.0021 - acc: 1.0000    - ETA: 5s - loss: 0.0015 - acc: 1.000 - ETA: 5s - loss: 0.0014 - acc: 1.000 - ETA: 5s - loss: 0.0014 - acc: 1.000 - ETA: 5s - loss: 0.0012 - acc: 1.000 - ETA: 4s - loss: 0.0012 - acc: 1.000 - ETA: 4s - loss: 0.0170 - acc: 0.996 - ETA: 4s - loss: 0.0158 - acc: 0.996 - ETA: 4s - loss: 0.0142 - acc: 0.996 - ETA: 4s - loss: 0.0129 - acc: 0.997 - ETA: 4s - loss: 0.0139 - acc: 0.997 - ETA: 4s - loss: 0.0129 - acc: 0.997 - ETA: 4s - loss: 0.0120 - acc: 0.997 - ETA: 4s - loss: 0.0112 - acc: 0.997 - ETA: 3s - loss: 0.0105 - acc: 0.998 - ETA: 3s - loss: 0.0099 - acc: 0.998 - ETA: 3s - loss: 0.0121 - acc: 0.996 - ETA: 3s - loss: 0.0115 - acc: 0.996 - ETA: 3s - loss: 0.0110 - acc: 0.996 - ETA: 3s - loss: 0.0105 - acc: 0.997 - ETA: 3s - loss: 0.0100 - acc: 0.997 - ETA: 3s - loss: 0.0096 - acc: 0.997 - ETA: 3s - loss: 0.0092 - acc: 0.997 - ETA: 3s - loss: 0.0088 - acc: 0.997 - ETA: 3s - loss: 0.0085 - acc: 0.997 - ETA: 2s - loss: 0.0083 - acc: 0.997 - ETA: 2s - loss: 0.0080 - acc: 0.997 - ETA: 2s - loss: 0.0077 - acc: 0.997 - ETA: 2s - loss: 0.0075 - acc: 0.997 - ETA: 2s - loss: 0.0073 - acc: 0.998 - ETA: 2s - loss: 0.0071 - acc: 0.998 - ETA: 2s - loss: 0.0069 - acc: 0.998 - ETA: 2s - loss: 0.0067 - acc: 0.998 - ETA: 2s - loss: 0.0066 - acc: 0.998 - ETA: 2s - loss: 0.0064 - acc: 0.998 - ETA: 1s - loss: 0.0062 - acc: 0.998 - ETA: 1s - loss: 0.0061 - acc: 0.998 - ETA: 1s - loss: 0.0059 - acc: 0.998 - ETA: 1s - loss: 0.0058 - acc: 0.998 - ETA: 1s - loss: 0.0057 - acc: 0.998 - ETA: 1s - loss: 0.0055 - acc: 0.998 - ETA: 1s - loss: 0.0054 - acc: 0.998 - ETA: 1s - loss: 0.0053 - acc: 0.998 - ETA: 1s - loss: 0.0052 - acc: 0.998 - ETA: 1s - loss: 0.0051 - acc: 0.998 - ETA: 0s - loss: 0.0050 - acc: 0.998 - ETA: 0s - loss: 0.0050 - acc: 0.998 - ETA: 0s - loss: 0.0049 - acc: 0.998 - ETA: 0s - loss: 0.0049 - acc: 0.998 - ETA: 0s - loss: 0.0048 - acc: 0.998 - ETA: 0s - loss: 0.0047 - acc: 0.998 - ETA: 0s - loss: 0.0046 - acc: 0.998 - ETA: 0s - loss: 0.0045 - acc: 0.998 - ETA: 0s - loss: 0.0045 - acc: 0.998 - ETA: 0s - loss: 0.0044 - acc: 0.998 - 6s 3ms/step - loss: 0.0044 - acc: 0.9989 - val_loss: 4.8522 - val_acc: 0.4194\n",
      "\n",
      "Epoch 00035: val_acc did not improve from 0.50993\n",
      "Epoch 36/100\n",
      "1808/1808 [==============================] - ETA: 4s - loss: 6.4959e-04 - acc: 1.000 - ETA: 4s - loss: 0.0039 - acc: 1.0000    - ETA: 5s - loss: 0.0027 - acc: 1.000 - ETA: 4s - loss: 0.0022 - acc: 1.000 - ETA: 4s - loss: 0.0019 - acc: 1.000 - ETA: 4s - loss: 0.0016 - acc: 1.000 - ETA: 4s - loss: 0.0108 - acc: 0.995 - ETA: 4s - loss: 0.0095 - acc: 0.996 - ETA: 4s - loss: 0.0086 - acc: 0.996 - ETA: 4s - loss: 0.0078 - acc: 0.996 - ETA: 4s - loss: 0.0071 - acc: 0.997 - ETA: 4s - loss: 0.0065 - acc: 0.997 - ETA: 4s - loss: 0.0060 - acc: 0.997 - ETA: 3s - loss: 0.0056 - acc: 0.997 - ETA: 3s - loss: 0.0052 - acc: 0.997 - ETA: 3s - loss: 0.0049 - acc: 0.998 - ETA: 3s - loss: 0.0047 - acc: 0.998 - ETA: 3s - loss: 0.0045 - acc: 0.998 - ETA: 3s - loss: 0.0042 - acc: 0.998 - ETA: 3s - loss: 0.0040 - acc: 0.998 - ETA: 3s - loss: 0.0039 - acc: 0.998 - ETA: 3s - loss: 0.0037 - acc: 0.998 - ETA: 3s - loss: 0.0036 - acc: 0.998 - ETA: 3s - loss: 0.0034 - acc: 0.998 - ETA: 2s - loss: 0.0056 - acc: 0.997 - ETA: 2s - loss: 0.0053 - acc: 0.997 - ETA: 2s - loss: 0.0060 - acc: 0.996 - ETA: 2s - loss: 0.0068 - acc: 0.995 - ETA: 2s - loss: 0.0066 - acc: 0.995 - ETA: 2s - loss: 0.0064 - acc: 0.995 - ETA: 2s - loss: 0.0063 - acc: 0.996 - ETA: 2s - loss: 0.0061 - acc: 0.996 - ETA: 2s - loss: 0.0059 - acc: 0.996 - ETA: 2s - loss: 0.0057 - acc: 0.996 - ETA: 2s - loss: 0.0056 - acc: 0.996 - ETA: 2s - loss: 0.0054 - acc: 0.996 - ETA: 1s - loss: 0.0053 - acc: 0.996 - ETA: 1s - loss: 0.0051 - acc: 0.996 - ETA: 1s - loss: 0.0050 - acc: 0.996 - ETA: 1s - loss: 0.0049 - acc: 0.996 - ETA: 1s - loss: 0.0048 - acc: 0.997 - ETA: 1s - loss: 0.0047 - acc: 0.997 - ETA: 1s - loss: 0.0046 - acc: 0.997 - ETA: 1s - loss: 0.0045 - acc: 0.997 - ETA: 1s - loss: 0.0044 - acc: 0.997 - ETA: 1s - loss: 0.0043 - acc: 0.997 - ETA: 0s - loss: 0.0042 - acc: 0.997 - ETA: 0s - loss: 0.0041 - acc: 0.997 - ETA: 0s - loss: 0.0040 - acc: 0.997 - ETA: 0s - loss: 0.0040 - acc: 0.997 - ETA: 0s - loss: 0.0039 - acc: 0.997 - ETA: 0s - loss: 0.0038 - acc: 0.997 - ETA: 0s - loss: 0.0037 - acc: 0.997 - ETA: 0s - loss: 0.0038 - acc: 0.997 - ETA: 0s - loss: 0.0037 - acc: 0.997 - ETA: 0s - loss: 0.0036 - acc: 0.997 - 6s 3ms/step - loss: 0.0036 - acc: 0.9978 - val_loss: 4.9842 - val_acc: 0.3841\n",
      "\n",
      "Epoch 00036: val_acc did not improve from 0.50993\n",
      "Epoch 37/100\n"
     ]
    },
    {
     "name": "stdout",
     "output_type": "stream",
     "text": [
      "1808/1808 [==============================] - ETA: 6s - loss: 3.0767e-04 - acc: 1.000 - ETA: 5s - loss: 0.0600 - acc: 0.9844    - ETA: 5s - loss: 0.0401 - acc: 0.989 - ETA: 5s - loss: 0.0301 - acc: 0.992 - ETA: 5s - loss: 0.0241 - acc: 0.993 - ETA: 5s - loss: 0.0201 - acc: 0.994 - ETA: 4s - loss: 0.0173 - acc: 0.995 - ETA: 4s - loss: 0.0152 - acc: 0.996 - ETA: 4s - loss: 0.0137 - acc: 0.996 - ETA: 4s - loss: 0.0123 - acc: 0.996 - ETA: 4s - loss: 0.0112 - acc: 0.997 - ETA: 4s - loss: 0.0104 - acc: 0.997 - ETA: 4s - loss: 0.0097 - acc: 0.997 - ETA: 4s - loss: 0.0090 - acc: 0.997 - ETA: 4s - loss: 0.0084 - acc: 0.997 - ETA: 4s - loss: 0.0080 - acc: 0.998 - ETA: 4s - loss: 0.0080 - acc: 0.998 - ETA: 3s - loss: 0.0075 - acc: 0.998 - ETA: 3s - loss: 0.0074 - acc: 0.998 - ETA: 3s - loss: 0.0072 - acc: 0.998 - ETA: 3s - loss: 0.0069 - acc: 0.998 - ETA: 3s - loss: 0.0066 - acc: 0.998 - ETA: 3s - loss: 0.0064 - acc: 0.998 - ETA: 3s - loss: 0.0062 - acc: 0.998 - ETA: 3s - loss: 0.0060 - acc: 0.998 - ETA: 3s - loss: 0.0058 - acc: 0.998 - ETA: 3s - loss: 0.0057 - acc: 0.998 - ETA: 2s - loss: 0.0055 - acc: 0.998 - ETA: 2s - loss: 0.0053 - acc: 0.998 - ETA: 2s - loss: 0.0052 - acc: 0.999 - ETA: 2s - loss: 0.0050 - acc: 0.999 - ETA: 2s - loss: 0.0048 - acc: 0.999 - ETA: 2s - loss: 0.0047 - acc: 0.999 - ETA: 2s - loss: 0.0046 - acc: 0.999 - ETA: 2s - loss: 0.0044 - acc: 0.999 - ETA: 2s - loss: 0.0043 - acc: 0.999 - ETA: 1s - loss: 0.0042 - acc: 0.999 - ETA: 1s - loss: 0.0041 - acc: 0.999 - ETA: 1s - loss: 0.0041 - acc: 0.999 - ETA: 1s - loss: 0.0063 - acc: 0.998 - ETA: 1s - loss: 0.0061 - acc: 0.998 - ETA: 1s - loss: 0.0060 - acc: 0.998 - ETA: 1s - loss: 0.0059 - acc: 0.998 - ETA: 1s - loss: 0.0057 - acc: 0.998 - ETA: 1s - loss: 0.0056 - acc: 0.998 - ETA: 1s - loss: 0.0055 - acc: 0.998 - ETA: 0s - loss: 0.0054 - acc: 0.998 - ETA: 0s - loss: 0.0053 - acc: 0.998 - ETA: 0s - loss: 0.0052 - acc: 0.998 - ETA: 0s - loss: 0.0051 - acc: 0.998 - ETA: 0s - loss: 0.0056 - acc: 0.998 - ETA: 0s - loss: 0.0059 - acc: 0.998 - ETA: 0s - loss: 0.0058 - acc: 0.998 - ETA: 0s - loss: 0.0057 - acc: 0.998 - ETA: 0s - loss: 0.0056 - acc: 0.998 - ETA: 0s - loss: 0.0055 - acc: 0.998 - 6s 3ms/step - loss: 0.0055 - acc: 0.9983 - val_loss: 4.8538 - val_acc: 0.4481\n",
      "\n",
      "Epoch 00037: val_acc did not improve from 0.50993\n",
      "Epoch 38/100\n",
      "1808/1808 [==============================] - ETA: 4s - loss: 0.0023 - acc: 1.000 - ETA: 5s - loss: 0.0013 - acc: 1.000 - ETA: 5s - loss: 0.0032 - acc: 1.000 - ETA: 5s - loss: 0.0036 - acc: 1.000 - ETA: 4s - loss: 0.0032 - acc: 1.000 - ETA: 4s - loss: 0.0031 - acc: 1.000 - ETA: 4s - loss: 0.0040 - acc: 1.000 - ETA: 4s - loss: 0.0036 - acc: 1.000 - ETA: 4s - loss: 0.0033 - acc: 1.000 - ETA: 4s - loss: 0.0032 - acc: 1.000 - ETA: 4s - loss: 0.0030 - acc: 1.000 - ETA: 4s - loss: 0.0030 - acc: 1.000 - ETA: 4s - loss: 0.0028 - acc: 1.000 - ETA: 4s - loss: 0.0098 - acc: 0.997 - ETA: 4s - loss: 0.0092 - acc: 0.997 - ETA: 4s - loss: 0.0086 - acc: 0.998 - ETA: 4s - loss: 0.0081 - acc: 0.998 - ETA: 3s - loss: 0.0077 - acc: 0.998 - ETA: 3s - loss: 0.0073 - acc: 0.998 - ETA: 3s - loss: 0.0171 - acc: 0.995 - ETA: 3s - loss: 0.0163 - acc: 0.995 - ETA: 3s - loss: 0.0156 - acc: 0.995 - ETA: 3s - loss: 0.0149 - acc: 0.995 - ETA: 3s - loss: 0.0143 - acc: 0.996 - ETA: 3s - loss: 0.0137 - acc: 0.996 - ETA: 3s - loss: 0.0132 - acc: 0.996 - ETA: 3s - loss: 0.0127 - acc: 0.996 - ETA: 2s - loss: 0.0123 - acc: 0.996 - ETA: 2s - loss: 0.0119 - acc: 0.996 - ETA: 2s - loss: 0.0115 - acc: 0.996 - ETA: 2s - loss: 0.0111 - acc: 0.997 - ETA: 2s - loss: 0.0108 - acc: 0.997 - ETA: 2s - loss: 0.0105 - acc: 0.997 - ETA: 2s - loss: 0.0102 - acc: 0.997 - ETA: 2s - loss: 0.0099 - acc: 0.997 - ETA: 2s - loss: 0.0097 - acc: 0.997 - ETA: 2s - loss: 0.0094 - acc: 0.997 - ETA: 1s - loss: 0.0093 - acc: 0.997 - ETA: 1s - loss: 0.0090 - acc: 0.997 - ETA: 1s - loss: 0.0088 - acc: 0.997 - ETA: 1s - loss: 0.0086 - acc: 0.997 - ETA: 1s - loss: 0.0084 - acc: 0.997 - ETA: 1s - loss: 0.0082 - acc: 0.997 - ETA: 1s - loss: 0.0080 - acc: 0.997 - ETA: 1s - loss: 0.0079 - acc: 0.997 - ETA: 1s - loss: 0.0077 - acc: 0.998 - ETA: 0s - loss: 0.0076 - acc: 0.998 - ETA: 0s - loss: 0.0074 - acc: 0.998 - ETA: 0s - loss: 0.0073 - acc: 0.998 - ETA: 0s - loss: 0.0072 - acc: 0.998 - ETA: 0s - loss: 0.0070 - acc: 0.998 - ETA: 0s - loss: 0.0069 - acc: 0.998 - ETA: 0s - loss: 0.0068 - acc: 0.998 - ETA: 0s - loss: 0.0067 - acc: 0.998 - ETA: 0s - loss: 0.0066 - acc: 0.998 - ETA: 0s - loss: 0.0065 - acc: 0.998 - 6s 3ms/step - loss: 0.0064 - acc: 0.9983 - val_loss: 5.5468 - val_acc: 0.3576\n",
      "\n",
      "Epoch 00038: val_acc did not improve from 0.50993\n",
      "Epoch 39/100\n",
      "1808/1808 [==============================] - ETA: 4s - loss: 7.7210e-04 - acc: 1.000 - ETA: 4s - loss: 4.6226e-04 - acc: 1.000 - ETA: 4s - loss: 5.9490e-04 - acc: 1.000 - ETA: 4s - loss: 4.6121e-04 - acc: 1.000 - ETA: 4s - loss: 8.6704e-04 - acc: 1.000 - ETA: 4s - loss: 7.2977e-04 - acc: 1.000 - ETA: 4s - loss: 6.4690e-04 - acc: 1.000 - ETA: 4s - loss: 5.9622e-04 - acc: 1.000 - ETA: 4s - loss: 5.3872e-04 - acc: 1.000 - ETA: 3s - loss: 5.1710e-04 - acc: 1.000 - ETA: 3s - loss: 5.6982e-04 - acc: 1.000 - ETA: 3s - loss: 8.7975e-04 - acc: 1.000 - ETA: 3s - loss: 8.1820e-04 - acc: 1.000 - ETA: 3s - loss: 7.6962e-04 - acc: 1.000 - ETA: 3s - loss: 7.5099e-04 - acc: 1.000 - ETA: 3s - loss: 7.0700e-04 - acc: 1.000 - ETA: 3s - loss: 7.1314e-04 - acc: 1.000 - ETA: 3s - loss: 0.0011 - acc: 1.0000    - ETA: 3s - loss: 0.0011 - acc: 1.000 - ETA: 3s - loss: 0.0010 - acc: 1.000 - ETA: 3s - loss: 0.0056 - acc: 0.998 - ETA: 2s - loss: 0.0053 - acc: 0.998 - ETA: 2s - loss: 0.0051 - acc: 0.998 - ETA: 2s - loss: 0.0049 - acc: 0.998 - ETA: 2s - loss: 0.0066 - acc: 0.997 - ETA: 2s - loss: 0.0064 - acc: 0.997 - ETA: 2s - loss: 0.0062 - acc: 0.997 - ETA: 2s - loss: 0.0059 - acc: 0.997 - ETA: 2s - loss: 0.0058 - acc: 0.997 - ETA: 2s - loss: 0.0056 - acc: 0.997 - ETA: 2s - loss: 0.0054 - acc: 0.998 - ETA: 2s - loss: 0.0053 - acc: 0.998 - ETA: 2s - loss: 0.0051 - acc: 0.998 - ETA: 1s - loss: 0.0050 - acc: 0.998 - ETA: 1s - loss: 0.0049 - acc: 0.998 - ETA: 1s - loss: 0.0048 - acc: 0.998 - ETA: 1s - loss: 0.0048 - acc: 0.998 - ETA: 1s - loss: 0.0047 - acc: 0.998 - ETA: 1s - loss: 0.0046 - acc: 0.998 - ETA: 1s - loss: 0.0046 - acc: 0.998 - ETA: 1s - loss: 0.0045 - acc: 0.998 - ETA: 1s - loss: 0.0044 - acc: 0.998 - ETA: 1s - loss: 0.0045 - acc: 0.998 - ETA: 1s - loss: 0.0089 - acc: 0.997 - ETA: 1s - loss: 0.0087 - acc: 0.997 - ETA: 0s - loss: 0.0085 - acc: 0.998 - ETA: 0s - loss: 0.0084 - acc: 0.998 - ETA: 0s - loss: 0.0082 - acc: 0.998 - ETA: 0s - loss: 0.0080 - acc: 0.998 - ETA: 0s - loss: 0.0079 - acc: 0.998 - ETA: 0s - loss: 0.0077 - acc: 0.998 - ETA: 0s - loss: 0.0076 - acc: 0.998 - ETA: 0s - loss: 0.0075 - acc: 0.998 - ETA: 0s - loss: 0.0073 - acc: 0.998 - ETA: 0s - loss: 0.0072 - acc: 0.998 - ETA: 0s - loss: 0.0071 - acc: 0.998 - 5s 3ms/step - loss: 0.0070 - acc: 0.9983 - val_loss: 5.3190 - val_acc: 0.3642\n",
      "\n",
      "Epoch 00039: val_acc did not improve from 0.50993\n",
      "Epoch 40/100\n"
     ]
    },
    {
     "name": "stdout",
     "output_type": "stream",
     "text": [
      "1808/1808 [==============================] - ETA: 3s - loss: 9.3428e-05 - acc: 1.000 - ETA: 3s - loss: 3.6255e-04 - acc: 1.000 - ETA: 4s - loss: 3.7642e-04 - acc: 1.000 - ETA: 4s - loss: 3.1276e-04 - acc: 1.000 - ETA: 4s - loss: 3.0160e-04 - acc: 1.000 - ETA: 4s - loss: 2.6388e-04 - acc: 1.000 - ETA: 4s - loss: 2.4855e-04 - acc: 1.000 - ETA: 4s - loss: 2.6557e-04 - acc: 1.000 - ETA: 4s - loss: 2.3935e-04 - acc: 1.000 - ETA: 4s - loss: 0.0014 - acc: 1.0000    - ETA: 4s - loss: 0.0013 - acc: 1.000 - ETA: 3s - loss: 0.0012 - acc: 1.000 - ETA: 3s - loss: 0.0011 - acc: 1.000 - ETA: 3s - loss: 0.0093 - acc: 0.997 - ETA: 3s - loss: 0.0088 - acc: 0.997 - ETA: 3s - loss: 0.0083 - acc: 0.998 - ETA: 3s - loss: 0.0078 - acc: 0.998 - ETA: 3s - loss: 0.0082 - acc: 0.998 - ETA: 3s - loss: 0.0135 - acc: 0.996 - ETA: 3s - loss: 0.0128 - acc: 0.996 - ETA: 3s - loss: 0.0122 - acc: 0.997 - ETA: 3s - loss: 0.0118 - acc: 0.997 - ETA: 2s - loss: 0.0113 - acc: 0.997 - ETA: 2s - loss: 0.0108 - acc: 0.997 - ETA: 2s - loss: 0.0104 - acc: 0.997 - ETA: 2s - loss: 0.0100 - acc: 0.997 - ETA: 2s - loss: 0.0096 - acc: 0.997 - ETA: 2s - loss: 0.0093 - acc: 0.997 - ETA: 2s - loss: 0.0090 - acc: 0.997 - ETA: 2s - loss: 0.0087 - acc: 0.997 - ETA: 2s - loss: 0.0084 - acc: 0.998 - ETA: 2s - loss: 0.0082 - acc: 0.998 - ETA: 1s - loss: 0.0079 - acc: 0.998 - ETA: 1s - loss: 0.0077 - acc: 0.998 - ETA: 1s - loss: 0.0075 - acc: 0.998 - ETA: 1s - loss: 0.0073 - acc: 0.998 - ETA: 1s - loss: 0.0071 - acc: 0.998 - ETA: 1s - loss: 0.0069 - acc: 0.998 - ETA: 1s - loss: 0.0067 - acc: 0.998 - ETA: 1s - loss: 0.0067 - acc: 0.998 - ETA: 1s - loss: 0.0066 - acc: 0.998 - ETA: 1s - loss: 0.0064 - acc: 0.998 - ETA: 1s - loss: 0.0083 - acc: 0.997 - ETA: 1s - loss: 0.0081 - acc: 0.997 - ETA: 0s - loss: 0.0081 - acc: 0.997 - ETA: 0s - loss: 0.0080 - acc: 0.998 - ETA: 0s - loss: 0.0078 - acc: 0.998 - ETA: 0s - loss: 0.0077 - acc: 0.998 - ETA: 0s - loss: 0.0076 - acc: 0.998 - ETA: 0s - loss: 0.0074 - acc: 0.998 - ETA: 0s - loss: 0.0074 - acc: 0.998 - ETA: 0s - loss: 0.0072 - acc: 0.998 - ETA: 0s - loss: 0.0085 - acc: 0.997 - ETA: 0s - loss: 0.0084 - acc: 0.997 - ETA: 0s - loss: 0.0082 - acc: 0.997 - ETA: 0s - loss: 0.0081 - acc: 0.997 - 5s 3ms/step - loss: 0.0081 - acc: 0.9978 - val_loss: 5.4995 - val_acc: 0.3620\n",
      "\n",
      "Epoch 00040: val_acc did not improve from 0.50993\n",
      "Epoch 41/100\n",
      "1808/1808 [==============================] - ETA: 4s - loss: 3.1694e-04 - acc: 1.000 - ETA: 4s - loss: 3.9331e-04 - acc: 1.000 - ETA: 4s - loss: 6.7339e-04 - acc: 1.000 - ETA: 4s - loss: 9.0979e-04 - acc: 1.000 - ETA: 4s - loss: 0.0027 - acc: 1.0000    - ETA: 4s - loss: 0.0223 - acc: 0.994 - ETA: 4s - loss: 0.0206 - acc: 0.995 - ETA: 4s - loss: 0.0185 - acc: 0.996 - ETA: 4s - loss: 0.0169 - acc: 0.996 - ETA: 4s - loss: 0.0167 - acc: 0.996 - ETA: 3s - loss: 0.0190 - acc: 0.994 - ETA: 3s - loss: 0.0174 - acc: 0.994 - ETA: 3s - loss: 0.0161 - acc: 0.995 - ETA: 3s - loss: 0.0150 - acc: 0.995 - ETA: 3s - loss: 0.0141 - acc: 0.995 - ETA: 3s - loss: 0.0141 - acc: 0.996 - ETA: 3s - loss: 0.0134 - acc: 0.996 - ETA: 3s - loss: 0.0130 - acc: 0.996 - ETA: 3s - loss: 0.0126 - acc: 0.996 - ETA: 3s - loss: 0.0122 - acc: 0.996 - ETA: 3s - loss: 0.0165 - acc: 0.995 - ETA: 2s - loss: 0.0179 - acc: 0.994 - ETA: 2s - loss: 0.0190 - acc: 0.993 - ETA: 2s - loss: 0.0183 - acc: 0.993 - ETA: 2s - loss: 0.0196 - acc: 0.992 - ETA: 2s - loss: 0.0188 - acc: 0.992 - ETA: 2s - loss: 0.0209 - acc: 0.991 - ETA: 2s - loss: 0.0203 - acc: 0.992 - ETA: 2s - loss: 0.0197 - acc: 0.992 - ETA: 2s - loss: 0.0191 - acc: 0.992 - ETA: 2s - loss: 0.0185 - acc: 0.992 - ETA: 2s - loss: 0.0179 - acc: 0.993 - ETA: 2s - loss: 0.0179 - acc: 0.993 - ETA: 1s - loss: 0.0174 - acc: 0.993 - ETA: 1s - loss: 0.0169 - acc: 0.993 - ETA: 1s - loss: 0.0165 - acc: 0.993 - ETA: 1s - loss: 0.0162 - acc: 0.994 - ETA: 1s - loss: 0.0158 - acc: 0.994 - ETA: 1s - loss: 0.0155 - acc: 0.994 - ETA: 1s - loss: 0.0152 - acc: 0.994 - ETA: 1s - loss: 0.0149 - acc: 0.994 - ETA: 1s - loss: 0.0148 - acc: 0.994 - ETA: 1s - loss: 0.0146 - acc: 0.994 - ETA: 1s - loss: 0.0146 - acc: 0.995 - ETA: 0s - loss: 0.0154 - acc: 0.994 - ETA: 0s - loss: 0.0152 - acc: 0.994 - ETA: 0s - loss: 0.0149 - acc: 0.994 - ETA: 0s - loss: 0.0146 - acc: 0.994 - ETA: 0s - loss: 0.0143 - acc: 0.994 - ETA: 0s - loss: 0.0140 - acc: 0.995 - ETA: 0s - loss: 0.0137 - acc: 0.995 - ETA: 0s - loss: 0.0136 - acc: 0.995 - ETA: 0s - loss: 0.0137 - acc: 0.995 - ETA: 0s - loss: 0.0135 - acc: 0.995 - ETA: 0s - loss: 0.0132 - acc: 0.995 - ETA: 0s - loss: 0.0130 - acc: 0.995 - 5s 3ms/step - loss: 0.0129 - acc: 0.9956 - val_loss: 4.8323 - val_acc: 0.4106\n",
      "\n",
      "Epoch 00041: val_acc did not improve from 0.50993\n",
      "Epoch 42/100\n",
      "1808/1808 [==============================] - ETA: 4s - loss: 0.0019 - acc: 1.000 - ETA: 4s - loss: 9.9690e-04 - acc: 1.000 - ETA: 4s - loss: 0.0128 - acc: 0.9896    - ETA: 4s - loss: 0.0101 - acc: 0.992 - ETA: 4s - loss: 0.0084 - acc: 0.993 - ETA: 4s - loss: 0.0076 - acc: 0.994 - ETA: 3s - loss: 0.0065 - acc: 0.995 - ETA: 3s - loss: 0.0057 - acc: 0.996 - ETA: 3s - loss: 0.0060 - acc: 0.996 - ETA: 3s - loss: 0.0055 - acc: 0.996 - ETA: 3s - loss: 0.0068 - acc: 0.997 - ETA: 3s - loss: 0.0067 - acc: 0.997 - ETA: 3s - loss: 0.0063 - acc: 0.997 - ETA: 3s - loss: 0.0072 - acc: 0.997 - ETA: 3s - loss: 0.0068 - acc: 0.997 - ETA: 3s - loss: 0.0064 - acc: 0.998 - ETA: 3s - loss: 0.0097 - acc: 0.996 - ETA: 3s - loss: 0.0092 - acc: 0.996 - ETA: 3s - loss: 0.0220 - acc: 0.993 - ETA: 2s - loss: 0.0218 - acc: 0.993 - ETA: 2s - loss: 0.0236 - acc: 0.992 - ETA: 2s - loss: 0.0227 - acc: 0.992 - ETA: 2s - loss: 0.0229 - acc: 0.991 - ETA: 2s - loss: 0.0230 - acc: 0.992 - ETA: 2s - loss: 0.0279 - acc: 0.991 - ETA: 2s - loss: 0.0307 - acc: 0.990 - ETA: 2s - loss: 0.0296 - acc: 0.990 - ETA: 2s - loss: 0.0287 - acc: 0.991 - ETA: 2s - loss: 0.0278 - acc: 0.991 - ETA: 2s - loss: 0.0270 - acc: 0.991 - ETA: 2s - loss: 0.0262 - acc: 0.991 - ETA: 2s - loss: 0.0259 - acc: 0.992 - ETA: 1s - loss: 0.0281 - acc: 0.991 - ETA: 1s - loss: 0.0306 - acc: 0.990 - ETA: 1s - loss: 0.0297 - acc: 0.991 - ETA: 1s - loss: 0.0297 - acc: 0.990 - ETA: 1s - loss: 0.0289 - acc: 0.990 - ETA: 1s - loss: 0.0294 - acc: 0.990 - ETA: 1s - loss: 0.0289 - acc: 0.990 - ETA: 1s - loss: 0.0281 - acc: 0.990 - ETA: 1s - loss: 0.0284 - acc: 0.990 - ETA: 1s - loss: 0.0277 - acc: 0.990 - ETA: 1s - loss: 0.0276 - acc: 0.990 - ETA: 1s - loss: 0.0270 - acc: 0.990 - ETA: 0s - loss: 0.0265 - acc: 0.991 - ETA: 0s - loss: 0.0259 - acc: 0.991 - ETA: 0s - loss: 0.0254 - acc: 0.991 - ETA: 0s - loss: 0.0249 - acc: 0.991 - ETA: 0s - loss: 0.0247 - acc: 0.991 - ETA: 0s - loss: 0.0248 - acc: 0.991 - ETA: 0s - loss: 0.0243 - acc: 0.991 - ETA: 0s - loss: 0.0241 - acc: 0.991 - ETA: 0s - loss: 0.0236 - acc: 0.991 - ETA: 0s - loss: 0.0232 - acc: 0.991 - ETA: 0s - loss: 0.0229 - acc: 0.992 - ETA: 0s - loss: 0.0231 - acc: 0.991 - 5s 3ms/step - loss: 0.0229 - acc: 0.9917 - val_loss: 5.2637 - val_acc: 0.3885\n",
      "\n",
      "Epoch 00042: val_acc did not improve from 0.50993\n",
      "Epoch 43/100\n"
     ]
    },
    {
     "name": "stdout",
     "output_type": "stream",
     "text": [
      "1808/1808 [==============================] - ETA: 4s - loss: 6.0740e-04 - acc: 1.000 - ETA: 4s - loss: 7.0829e-04 - acc: 1.000 - ETA: 4s - loss: 9.5345e-04 - acc: 1.000 - ETA: 4s - loss: 7.8712e-04 - acc: 1.000 - ETA: 4s - loss: 8.5780e-04 - acc: 1.000 - ETA: 4s - loss: 0.0029 - acc: 1.0000    - ETA: 4s - loss: 0.0026 - acc: 1.000 - ETA: 4s - loss: 0.0041 - acc: 1.000 - ETA: 4s - loss: 0.0037 - acc: 1.000 - ETA: 3s - loss: 0.0034 - acc: 1.000 - ETA: 3s - loss: 0.0031 - acc: 1.000 - ETA: 3s - loss: 0.0114 - acc: 0.997 - ETA: 3s - loss: 0.0105 - acc: 0.997 - ETA: 3s - loss: 0.0098 - acc: 0.997 - ETA: 3s - loss: 0.0091 - acc: 0.997 - ETA: 3s - loss: 0.0087 - acc: 0.998 - ETA: 3s - loss: 0.0082 - acc: 0.998 - ETA: 3s - loss: 0.0084 - acc: 0.998 - ETA: 3s - loss: 0.0081 - acc: 0.998 - ETA: 3s - loss: 0.0105 - acc: 0.996 - ETA: 3s - loss: 0.0118 - acc: 0.995 - ETA: 3s - loss: 0.0143 - acc: 0.994 - ETA: 2s - loss: 0.0137 - acc: 0.994 - ETA: 2s - loss: 0.0131 - acc: 0.994 - ETA: 2s - loss: 0.0136 - acc: 0.995 - ETA: 2s - loss: 0.0131 - acc: 0.995 - ETA: 2s - loss: 0.0127 - acc: 0.995 - ETA: 2s - loss: 0.0131 - acc: 0.995 - ETA: 2s - loss: 0.0127 - acc: 0.995 - ETA: 2s - loss: 0.0123 - acc: 0.995 - ETA: 2s - loss: 0.0120 - acc: 0.996 - ETA: 2s - loss: 0.0117 - acc: 0.996 - ETA: 2s - loss: 0.0113 - acc: 0.996 - ETA: 2s - loss: 0.0111 - acc: 0.996 - ETA: 1s - loss: 0.0111 - acc: 0.996 - ETA: 1s - loss: 0.0129 - acc: 0.995 - ETA: 1s - loss: 0.0125 - acc: 0.995 - ETA: 1s - loss: 0.0228 - acc: 0.995 - ETA: 1s - loss: 0.0227 - acc: 0.995 - ETA: 1s - loss: 0.0229 - acc: 0.994 - ETA: 1s - loss: 0.0223 - acc: 0.994 - ETA: 1s - loss: 0.0219 - acc: 0.994 - ETA: 1s - loss: 0.0214 - acc: 0.994 - ETA: 1s - loss: 0.0209 - acc: 0.995 - ETA: 1s - loss: 0.0207 - acc: 0.995 - ETA: 0s - loss: 0.0226 - acc: 0.994 - ETA: 0s - loss: 0.0235 - acc: 0.993 - ETA: 0s - loss: 0.0231 - acc: 0.993 - ETA: 0s - loss: 0.0228 - acc: 0.993 - ETA: 0s - loss: 0.0227 - acc: 0.993 - ETA: 0s - loss: 0.0224 - acc: 0.993 - ETA: 0s - loss: 0.0221 - acc: 0.994 - ETA: 0s - loss: 0.0218 - acc: 0.994 - ETA: 0s - loss: 0.0214 - acc: 0.994 - ETA: 0s - loss: 0.0212 - acc: 0.994 - ETA: 0s - loss: 0.0209 - acc: 0.994 - 5s 3ms/step - loss: 0.0208 - acc: 0.9945 - val_loss: 4.7186 - val_acc: 0.4194\n",
      "\n",
      "Epoch 00043: val_acc did not improve from 0.50993\n",
      "Epoch 44/100\n",
      "1808/1808 [==============================] - ETA: 4s - loss: 0.0261 - acc: 0.968 - ETA: 4s - loss: 0.0141 - acc: 0.984 - ETA: 4s - loss: 0.0097 - acc: 0.989 - ETA: 4s - loss: 0.0081 - acc: 0.992 - ETA: 4s - loss: 0.0366 - acc: 0.987 - ETA: 4s - loss: 0.0307 - acc: 0.989 - ETA: 4s - loss: 0.0276 - acc: 0.991 - ETA: 4s - loss: 0.0251 - acc: 0.992 - ETA: 3s - loss: 0.0226 - acc: 0.993 - ETA: 3s - loss: 0.0208 - acc: 0.993 - ETA: 3s - loss: 0.0191 - acc: 0.994 - ETA: 3s - loss: 0.0180 - acc: 0.994 - ETA: 3s - loss: 0.0227 - acc: 0.990 - ETA: 3s - loss: 0.0212 - acc: 0.991 - ETA: 3s - loss: 0.0316 - acc: 0.987 - ETA: 3s - loss: 0.0297 - acc: 0.988 - ETA: 3s - loss: 0.0280 - acc: 0.989 - ETA: 3s - loss: 0.0270 - acc: 0.989 - ETA: 3s - loss: 0.0259 - acc: 0.990 - ETA: 3s - loss: 0.0247 - acc: 0.990 - ETA: 3s - loss: 0.0236 - acc: 0.991 - ETA: 2s - loss: 0.0230 - acc: 0.991 - ETA: 2s - loss: 0.0220 - acc: 0.991 - ETA: 2s - loss: 0.0211 - acc: 0.992 - ETA: 2s - loss: 0.0203 - acc: 0.992 - ETA: 2s - loss: 0.0195 - acc: 0.992 - ETA: 2s - loss: 0.0188 - acc: 0.993 - ETA: 2s - loss: 0.0182 - acc: 0.993 - ETA: 2s - loss: 0.0178 - acc: 0.993 - ETA: 2s - loss: 0.0172 - acc: 0.993 - ETA: 2s - loss: 0.0167 - acc: 0.994 - ETA: 2s - loss: 0.0162 - acc: 0.994 - ETA: 1s - loss: 0.0157 - acc: 0.994 - ETA: 1s - loss: 0.0153 - acc: 0.994 - ETA: 1s - loss: 0.0150 - acc: 0.994 - ETA: 1s - loss: 0.0160 - acc: 0.993 - ETA: 1s - loss: 0.0157 - acc: 0.994 - ETA: 1s - loss: 0.0154 - acc: 0.994 - ETA: 1s - loss: 0.0158 - acc: 0.993 - ETA: 1s - loss: 0.0154 - acc: 0.993 - ETA: 1s - loss: 0.0151 - acc: 0.993 - ETA: 1s - loss: 0.0158 - acc: 0.993 - ETA: 1s - loss: 0.0154 - acc: 0.993 - ETA: 1s - loss: 0.0151 - acc: 0.993 - ETA: 0s - loss: 0.0150 - acc: 0.993 - ETA: 0s - loss: 0.0147 - acc: 0.993 - ETA: 0s - loss: 0.0155 - acc: 0.993 - ETA: 0s - loss: 0.0156 - acc: 0.993 - ETA: 0s - loss: 0.0154 - acc: 0.993 - ETA: 0s - loss: 0.0158 - acc: 0.993 - ETA: 0s - loss: 0.0155 - acc: 0.993 - ETA: 0s - loss: 0.0170 - acc: 0.992 - ETA: 0s - loss: 0.0174 - acc: 0.992 - ETA: 0s - loss: 0.0173 - acc: 0.993 - ETA: 0s - loss: 0.0170 - acc: 0.993 - ETA: 0s - loss: 0.0169 - acc: 0.993 - 5s 3ms/step - loss: 0.0169 - acc: 0.9934 - val_loss: 5.4658 - val_acc: 0.3819\n",
      "\n",
      "Epoch 00044: val_acc did not improve from 0.50993\n",
      "Epoch 45/100\n",
      "1808/1808 [==============================] - ETA: 4s - loss: 0.3516 - acc: 0.968 - ETA: 4s - loss: 0.1759 - acc: 0.984 - ETA: 4s - loss: 0.1174 - acc: 0.989 - ETA: 4s - loss: 0.0881 - acc: 0.992 - ETA: 4s - loss: 0.0718 - acc: 0.993 - ETA: 4s - loss: 0.0603 - acc: 0.994 - ETA: 4s - loss: 0.0518 - acc: 0.995 - ETA: 4s - loss: 0.0454 - acc: 0.996 - ETA: 3s - loss: 0.0517 - acc: 0.993 - ETA: 3s - loss: 0.0821 - acc: 0.990 - ETA: 3s - loss: 0.0747 - acc: 0.991 - ETA: 3s - loss: 0.0851 - acc: 0.989 - ETA: 3s - loss: 0.0797 - acc: 0.990 - ETA: 3s - loss: 0.0756 - acc: 0.991 - ETA: 3s - loss: 0.0709 - acc: 0.991 - ETA: 3s - loss: 0.0666 - acc: 0.992 - ETA: 3s - loss: 0.0628 - acc: 0.992 - ETA: 3s - loss: 0.0673 - acc: 0.991 - ETA: 3s - loss: 0.0643 - acc: 0.991 - ETA: 3s - loss: 0.0611 - acc: 0.992 - ETA: 2s - loss: 0.0613 - acc: 0.991 - ETA: 2s - loss: 0.0585 - acc: 0.991 - ETA: 2s - loss: 0.0577 - acc: 0.990 - ETA: 2s - loss: 0.0553 - acc: 0.990 - ETA: 2s - loss: 0.0532 - acc: 0.991 - ETA: 2s - loss: 0.0512 - acc: 0.991 - ETA: 2s - loss: 0.0493 - acc: 0.991 - ETA: 2s - loss: 0.0510 - acc: 0.991 - ETA: 2s - loss: 0.0493 - acc: 0.991 - ETA: 2s - loss: 0.0477 - acc: 0.991 - ETA: 2s - loss: 0.0470 - acc: 0.990 - ETA: 2s - loss: 0.0455 - acc: 0.991 - ETA: 1s - loss: 0.0478 - acc: 0.990 - ETA: 1s - loss: 0.0471 - acc: 0.990 - ETA: 1s - loss: 0.0459 - acc: 0.991 - ETA: 1s - loss: 0.0493 - acc: 0.990 - ETA: 1s - loss: 0.0480 - acc: 0.990 - ETA: 1s - loss: 0.0467 - acc: 0.991 - ETA: 1s - loss: 0.0468 - acc: 0.990 - ETA: 1s - loss: 0.0458 - acc: 0.990 - ETA: 1s - loss: 0.0448 - acc: 0.990 - ETA: 1s - loss: 0.0438 - acc: 0.991 - ETA: 1s - loss: 0.0428 - acc: 0.991 - ETA: 1s - loss: 0.0418 - acc: 0.991 - ETA: 0s - loss: 0.0410 - acc: 0.991 - ETA: 0s - loss: 0.0401 - acc: 0.991 - ETA: 0s - loss: 0.0413 - acc: 0.991 - ETA: 0s - loss: 0.0405 - acc: 0.991 - ETA: 0s - loss: 0.0398 - acc: 0.991 - ETA: 0s - loss: 0.0390 - acc: 0.991 - ETA: 0s - loss: 0.0383 - acc: 0.992 - ETA: 0s - loss: 0.0376 - acc: 0.992 - ETA: 0s - loss: 0.0370 - acc: 0.992 - ETA: 0s - loss: 0.0364 - acc: 0.992 - ETA: 0s - loss: 0.0369 - acc: 0.992 - ETA: 0s - loss: 0.0362 - acc: 0.992 - 5s 3ms/step - loss: 0.0359 - acc: 0.9923 - val_loss: 4.8759 - val_acc: 0.3664\n",
      "\n",
      "Epoch 00045: val_acc did not improve from 0.50993\n",
      "Epoch 46/100\n"
     ]
    },
    {
     "name": "stdout",
     "output_type": "stream",
     "text": [
      "1808/1808 [==============================] - ETA: 4s - loss: 0.0019 - acc: 1.000 - ETA: 4s - loss: 0.0013 - acc: 1.000 - ETA: 4s - loss: 0.0012 - acc: 1.000 - ETA: 4s - loss: 0.0011 - acc: 1.000 - ETA: 4s - loss: 9.5583e-04 - acc: 1.000 - ETA: 4s - loss: 0.0014 - acc: 1.0000    - ETA: 4s - loss: 0.0013 - acc: 1.000 - ETA: 4s - loss: 0.0012 - acc: 1.000 - ETA: 4s - loss: 0.0028 - acc: 1.000 - ETA: 3s - loss: 0.0044 - acc: 1.000 - ETA: 3s - loss: 0.0062 - acc: 0.997 - ETA: 3s - loss: 0.0058 - acc: 0.997 - ETA: 3s - loss: 0.0054 - acc: 0.997 - ETA: 3s - loss: 0.0050 - acc: 0.997 - ETA: 3s - loss: 0.0048 - acc: 0.997 - ETA: 3s - loss: 0.0048 - acc: 0.998 - ETA: 3s - loss: 0.0092 - acc: 0.996 - ETA: 3s - loss: 0.0087 - acc: 0.996 - ETA: 3s - loss: 0.0083 - acc: 0.996 - ETA: 3s - loss: 0.0085 - acc: 0.996 - ETA: 2s - loss: 0.0084 - acc: 0.997 - ETA: 2s - loss: 0.0085 - acc: 0.997 - ETA: 2s - loss: 0.0084 - acc: 0.997 - ETA: 2s - loss: 0.0081 - acc: 0.997 - ETA: 2s - loss: 0.0078 - acc: 0.997 - ETA: 2s - loss: 0.0076 - acc: 0.997 - ETA: 2s - loss: 0.0073 - acc: 0.997 - ETA: 2s - loss: 0.0076 - acc: 0.997 - ETA: 2s - loss: 0.0074 - acc: 0.997 - ETA: 2s - loss: 0.0071 - acc: 0.997 - ETA: 2s - loss: 0.0070 - acc: 0.998 - ETA: 2s - loss: 0.0068 - acc: 0.998 - ETA: 1s - loss: 0.0087 - acc: 0.997 - ETA: 1s - loss: 0.0085 - acc: 0.997 - ETA: 1s - loss: 0.0083 - acc: 0.997 - ETA: 1s - loss: 0.0088 - acc: 0.996 - ETA: 1s - loss: 0.0117 - acc: 0.995 - ETA: 1s - loss: 0.0114 - acc: 0.995 - ETA: 1s - loss: 0.0111 - acc: 0.996 - ETA: 1s - loss: 0.0109 - acc: 0.996 - ETA: 1s - loss: 0.0107 - acc: 0.996 - ETA: 1s - loss: 0.0107 - acc: 0.996 - ETA: 1s - loss: 0.0105 - acc: 0.996 - ETA: 1s - loss: 0.0103 - acc: 0.996 - ETA: 0s - loss: 0.0101 - acc: 0.996 - ETA: 0s - loss: 0.0099 - acc: 0.996 - ETA: 0s - loss: 0.0126 - acc: 0.996 - ETA: 0s - loss: 0.0124 - acc: 0.996 - ETA: 0s - loss: 0.0122 - acc: 0.996 - ETA: 0s - loss: 0.0119 - acc: 0.996 - ETA: 0s - loss: 0.0117 - acc: 0.996 - ETA: 0s - loss: 0.0115 - acc: 0.996 - ETA: 0s - loss: 0.0113 - acc: 0.996 - ETA: 0s - loss: 0.0112 - acc: 0.996 - ETA: 0s - loss: 0.0110 - acc: 0.996 - ETA: 0s - loss: 0.0108 - acc: 0.996 - 5s 3ms/step - loss: 0.0107 - acc: 0.9967 - val_loss: 5.0492 - val_acc: 0.3554\n",
      "\n",
      "Epoch 00046: val_acc did not improve from 0.50993\n",
      "Epoch 47/100\n",
      "1808/1808 [==============================] - ETA: 4s - loss: 0.0896 - acc: 0.968 - ETA: 4s - loss: 0.0466 - acc: 0.984 - ETA: 4s - loss: 0.0314 - acc: 0.989 - ETA: 4s - loss: 0.0236 - acc: 0.992 - ETA: 4s - loss: 0.0190 - acc: 0.993 - ETA: 4s - loss: 0.0159 - acc: 0.994 - ETA: 4s - loss: 0.0136 - acc: 0.995 - ETA: 4s - loss: 0.0120 - acc: 0.996 - ETA: 3s - loss: 0.0108 - acc: 0.996 - ETA: 3s - loss: 0.0098 - acc: 0.996 - ETA: 3s - loss: 0.0091 - acc: 0.997 - ETA: 3s - loss: 0.0084 - acc: 0.997 - ETA: 3s - loss: 0.0078 - acc: 0.997 - ETA: 3s - loss: 0.0072 - acc: 0.997 - ETA: 3s - loss: 0.0069 - acc: 0.997 - ETA: 3s - loss: 0.0065 - acc: 0.998 - ETA: 3s - loss: 0.0061 - acc: 0.998 - ETA: 3s - loss: 0.0058 - acc: 0.998 - ETA: 3s - loss: 0.0055 - acc: 0.998 - ETA: 3s - loss: 0.0052 - acc: 0.998 - ETA: 2s - loss: 0.0064 - acc: 0.997 - ETA: 2s - loss: 0.0068 - acc: 0.997 - ETA: 2s - loss: 0.0066 - acc: 0.997 - ETA: 2s - loss: 0.0063 - acc: 0.997 - ETA: 2s - loss: 0.0061 - acc: 0.997 - ETA: 2s - loss: 0.0059 - acc: 0.997 - ETA: 2s - loss: 0.0057 - acc: 0.997 - ETA: 2s - loss: 0.0055 - acc: 0.997 - ETA: 2s - loss: 0.0054 - acc: 0.997 - ETA: 2s - loss: 0.0053 - acc: 0.997 - ETA: 2s - loss: 0.0051 - acc: 0.998 - ETA: 2s - loss: 0.0076 - acc: 0.997 - ETA: 1s - loss: 0.0074 - acc: 0.997 - ETA: 1s - loss: 0.0072 - acc: 0.997 - ETA: 1s - loss: 0.0070 - acc: 0.997 - ETA: 1s - loss: 0.0068 - acc: 0.997 - ETA: 1s - loss: 0.0066 - acc: 0.997 - ETA: 1s - loss: 0.0065 - acc: 0.997 - ETA: 1s - loss: 0.0063 - acc: 0.997 - ETA: 1s - loss: 0.0090 - acc: 0.996 - ETA: 1s - loss: 0.0088 - acc: 0.997 - ETA: 1s - loss: 0.0086 - acc: 0.997 - ETA: 1s - loss: 0.0084 - acc: 0.997 - ETA: 1s - loss: 0.0082 - acc: 0.997 - ETA: 0s - loss: 0.0100 - acc: 0.996 - ETA: 0s - loss: 0.0098 - acc: 0.996 - ETA: 0s - loss: 0.0096 - acc: 0.996 - ETA: 0s - loss: 0.0094 - acc: 0.996 - ETA: 0s - loss: 0.0092 - acc: 0.996 - ETA: 0s - loss: 0.0091 - acc: 0.996 - ETA: 0s - loss: 0.0092 - acc: 0.996 - ETA: 0s - loss: 0.0090 - acc: 0.997 - ETA: 0s - loss: 0.0089 - acc: 0.997 - ETA: 0s - loss: 0.0087 - acc: 0.997 - ETA: 0s - loss: 0.0087 - acc: 0.997 - ETA: 0s - loss: 0.0085 - acc: 0.997 - 5s 3ms/step - loss: 0.0084 - acc: 0.9972 - val_loss: 4.5404 - val_acc: 0.4194\n",
      "\n",
      "Epoch 00047: val_acc did not improve from 0.50993\n",
      "Epoch 48/100\n",
      "1808/1808 [==============================] - ETA: 4s - loss: 0.0536 - acc: 0.968 - ETA: 4s - loss: 0.0276 - acc: 0.984 - ETA: 4s - loss: 0.0188 - acc: 0.989 - ETA: 4s - loss: 0.0149 - acc: 0.992 - ETA: 4s - loss: 0.0126 - acc: 0.993 - ETA: 4s - loss: 0.0112 - acc: 0.994 - ETA: 4s - loss: 0.0140 - acc: 0.991 - ETA: 4s - loss: 0.0123 - acc: 0.992 - ETA: 4s - loss: 0.0111 - acc: 0.993 - ETA: 3s - loss: 0.0101 - acc: 0.993 - ETA: 3s - loss: 0.0094 - acc: 0.994 - ETA: 3s - loss: 0.0087 - acc: 0.994 - ETA: 3s - loss: 0.0080 - acc: 0.995 - ETA: 3s - loss: 0.0078 - acc: 0.995 - ETA: 3s - loss: 0.0074 - acc: 0.995 - ETA: 3s - loss: 0.0071 - acc: 0.996 - ETA: 3s - loss: 0.0067 - acc: 0.996 - ETA: 3s - loss: 0.0066 - acc: 0.996 - ETA: 3s - loss: 0.0073 - acc: 0.996 - ETA: 3s - loss: 0.0140 - acc: 0.995 - ETA: 2s - loss: 0.0135 - acc: 0.995 - ETA: 2s - loss: 0.0133 - acc: 0.995 - ETA: 2s - loss: 0.0127 - acc: 0.995 - ETA: 2s - loss: 0.0123 - acc: 0.996 - ETA: 2s - loss: 0.0118 - acc: 0.996 - ETA: 2s - loss: 0.0114 - acc: 0.996 - ETA: 2s - loss: 0.0110 - acc: 0.996 - ETA: 2s - loss: 0.0109 - acc: 0.996 - ETA: 2s - loss: 0.0106 - acc: 0.996 - ETA: 2s - loss: 0.0105 - acc: 0.996 - ETA: 2s - loss: 0.0102 - acc: 0.997 - ETA: 1s - loss: 0.0099 - acc: 0.997 - ETA: 1s - loss: 0.0096 - acc: 0.997 - ETA: 1s - loss: 0.0094 - acc: 0.997 - ETA: 1s - loss: 0.0092 - acc: 0.997 - ETA: 1s - loss: 0.0089 - acc: 0.997 - ETA: 1s - loss: 0.0087 - acc: 0.997 - ETA: 1s - loss: 0.0085 - acc: 0.997 - ETA: 1s - loss: 0.0083 - acc: 0.997 - ETA: 1s - loss: 0.0081 - acc: 0.997 - ETA: 1s - loss: 0.0079 - acc: 0.997 - ETA: 1s - loss: 0.0077 - acc: 0.997 - ETA: 1s - loss: 0.0076 - acc: 0.997 - ETA: 0s - loss: 0.0074 - acc: 0.997 - ETA: 0s - loss: 0.0074 - acc: 0.997 - ETA: 0s - loss: 0.0073 - acc: 0.998 - ETA: 0s - loss: 0.0071 - acc: 0.998 - ETA: 0s - loss: 0.0070 - acc: 0.998 - ETA: 0s - loss: 0.0069 - acc: 0.998 - ETA: 0s - loss: 0.0067 - acc: 0.998 - ETA: 0s - loss: 0.0066 - acc: 0.998 - ETA: 0s - loss: 0.0065 - acc: 0.998 - ETA: 0s - loss: 0.0070 - acc: 0.997 - ETA: 0s - loss: 0.0069 - acc: 0.997 - ETA: 0s - loss: 0.0068 - acc: 0.997 - ETA: 0s - loss: 0.0066 - acc: 0.997 - 5s 3ms/step - loss: 0.0066 - acc: 0.9978 - val_loss: 4.7715 - val_acc: 0.3929\n",
      "\n",
      "Epoch 00048: val_acc did not improve from 0.50993\n",
      "Epoch 49/100\n"
     ]
    },
    {
     "name": "stdout",
     "output_type": "stream",
     "text": [
      "1808/1808 [==============================] - ETA: 4s - loss: 7.1150e-04 - acc: 1.000 - ETA: 4s - loss: 7.5047e-04 - acc: 1.000 - ETA: 4s - loss: 6.1334e-04 - acc: 1.000 - ETA: 4s - loss: 6.3455e-04 - acc: 1.000 - ETA: 4s - loss: 5.2804e-04 - acc: 1.000 - ETA: 4s - loss: 0.0066 - acc: 0.9948    - ETA: 3s - loss: 0.0058 - acc: 0.995 - ETA: 3s - loss: 0.0052 - acc: 0.996 - ETA: 3s - loss: 0.0048 - acc: 0.996 - ETA: 3s - loss: 0.0044 - acc: 0.996 - ETA: 3s - loss: 0.0040 - acc: 0.997 - ETA: 3s - loss: 0.0040 - acc: 0.997 - ETA: 3s - loss: 0.0039 - acc: 0.997 - ETA: 3s - loss: 0.0037 - acc: 0.997 - ETA: 3s - loss: 0.0035 - acc: 0.997 - ETA: 3s - loss: 0.0033 - acc: 0.998 - ETA: 3s - loss: 0.0032 - acc: 0.998 - ETA: 3s - loss: 0.0030 - acc: 0.998 - ETA: 3s - loss: 0.0029 - acc: 0.998 - ETA: 2s - loss: 0.0028 - acc: 0.998 - ETA: 2s - loss: 0.0026 - acc: 0.998 - ETA: 2s - loss: 0.0025 - acc: 0.998 - ETA: 2s - loss: 0.0027 - acc: 0.998 - ETA: 2s - loss: 0.0029 - acc: 0.998 - ETA: 2s - loss: 0.0084 - acc: 0.997 - ETA: 2s - loss: 0.0081 - acc: 0.997 - ETA: 2s - loss: 0.0078 - acc: 0.997 - ETA: 2s - loss: 0.0076 - acc: 0.997 - ETA: 2s - loss: 0.0073 - acc: 0.997 - ETA: 2s - loss: 0.0071 - acc: 0.997 - ETA: 2s - loss: 0.0082 - acc: 0.997 - ETA: 2s - loss: 0.0096 - acc: 0.996 - ETA: 1s - loss: 0.0093 - acc: 0.996 - ETA: 1s - loss: 0.0090 - acc: 0.996 - ETA: 1s - loss: 0.0088 - acc: 0.996 - ETA: 1s - loss: 0.0086 - acc: 0.996 - ETA: 1s - loss: 0.0084 - acc: 0.996 - ETA: 1s - loss: 0.0082 - acc: 0.996 - ETA: 1s - loss: 0.0080 - acc: 0.996 - ETA: 1s - loss: 0.0079 - acc: 0.996 - ETA: 1s - loss: 0.0077 - acc: 0.997 - ETA: 1s - loss: 0.0075 - acc: 0.997 - ETA: 1s - loss: 0.0073 - acc: 0.997 - ETA: 1s - loss: 0.0072 - acc: 0.997 - ETA: 0s - loss: 0.0070 - acc: 0.997 - ETA: 0s - loss: 0.0069 - acc: 0.997 - ETA: 0s - loss: 0.0068 - acc: 0.997 - ETA: 0s - loss: 0.0066 - acc: 0.997 - ETA: 0s - loss: 0.0065 - acc: 0.997 - ETA: 0s - loss: 0.0064 - acc: 0.997 - ETA: 0s - loss: 0.0063 - acc: 0.997 - ETA: 0s - loss: 0.0062 - acc: 0.997 - ETA: 0s - loss: 0.0061 - acc: 0.997 - ETA: 0s - loss: 0.0059 - acc: 0.997 - ETA: 0s - loss: 0.0058 - acc: 0.997 - ETA: 0s - loss: 0.0058 - acc: 0.997 - 5s 3ms/step - loss: 0.0057 - acc: 0.9978 - val_loss: 5.1344 - val_acc: 0.3709\n",
      "\n",
      "Epoch 00049: val_acc did not improve from 0.50993\n",
      "Epoch 50/100\n",
      "1808/1808 [==============================] - ETA: 4s - loss: 1.4753e-04 - acc: 1.000 - ETA: 4s - loss: 2.6532e-04 - acc: 1.000 - ETA: 4s - loss: 0.0274 - acc: 0.9896    - ETA: 4s - loss: 0.0206 - acc: 0.992 - ETA: 4s - loss: 0.0165 - acc: 0.993 - ETA: 4s - loss: 0.0141 - acc: 0.994 - ETA: 3s - loss: 0.0178 - acc: 0.991 - ETA: 3s - loss: 0.0156 - acc: 0.992 - ETA: 3s - loss: 0.0139 - acc: 0.993 - ETA: 3s - loss: 0.0126 - acc: 0.993 - ETA: 3s - loss: 0.0114 - acc: 0.994 - ETA: 3s - loss: 0.0105 - acc: 0.994 - ETA: 3s - loss: 0.0097 - acc: 0.995 - ETA: 3s - loss: 0.0090 - acc: 0.995 - ETA: 3s - loss: 0.0103 - acc: 0.993 - ETA: 3s - loss: 0.0098 - acc: 0.994 - ETA: 3s - loss: 0.0092 - acc: 0.994 - ETA: 3s - loss: 0.0087 - acc: 0.994 - ETA: 3s - loss: 0.0083 - acc: 0.995 - ETA: 3s - loss: 0.0079 - acc: 0.995 - ETA: 2s - loss: 0.0075 - acc: 0.995 - ETA: 2s - loss: 0.0117 - acc: 0.994 - ETA: 2s - loss: 0.0112 - acc: 0.994 - ETA: 2s - loss: 0.0107 - acc: 0.994 - ETA: 2s - loss: 0.0103 - acc: 0.995 - ETA: 2s - loss: 0.0099 - acc: 0.995 - ETA: 2s - loss: 0.0096 - acc: 0.995 - ETA: 2s - loss: 0.0092 - acc: 0.995 - ETA: 2s - loss: 0.0089 - acc: 0.995 - ETA: 2s - loss: 0.0086 - acc: 0.995 - ETA: 2s - loss: 0.0084 - acc: 0.996 - ETA: 2s - loss: 0.0082 - acc: 0.996 - ETA: 1s - loss: 0.0079 - acc: 0.996 - ETA: 1s - loss: 0.0077 - acc: 0.996 - ETA: 1s - loss: 0.0075 - acc: 0.996 - ETA: 1s - loss: 0.0073 - acc: 0.996 - ETA: 1s - loss: 0.0072 - acc: 0.996 - ETA: 1s - loss: 0.0071 - acc: 0.996 - ETA: 1s - loss: 0.0069 - acc: 0.996 - ETA: 1s - loss: 0.0067 - acc: 0.996 - ETA: 1s - loss: 0.0066 - acc: 0.997 - ETA: 1s - loss: 0.0064 - acc: 0.997 - ETA: 1s - loss: 0.0063 - acc: 0.997 - ETA: 1s - loss: 0.0061 - acc: 0.997 - ETA: 0s - loss: 0.0060 - acc: 0.997 - ETA: 0s - loss: 0.0059 - acc: 0.997 - ETA: 0s - loss: 0.0058 - acc: 0.997 - ETA: 0s - loss: 0.0057 - acc: 0.997 - ETA: 0s - loss: 0.0056 - acc: 0.997 - ETA: 0s - loss: 0.0055 - acc: 0.997 - ETA: 0s - loss: 0.0054 - acc: 0.997 - ETA: 0s - loss: 0.0053 - acc: 0.997 - ETA: 0s - loss: 0.0052 - acc: 0.997 - ETA: 0s - loss: 0.0051 - acc: 0.997 - ETA: 0s - loss: 0.0050 - acc: 0.997 - ETA: 0s - loss: 0.0049 - acc: 0.997 - 5s 3ms/step - loss: 0.0049 - acc: 0.9978 - val_loss: 4.8058 - val_acc: 0.3885\n",
      "\n",
      "Epoch 00050: val_acc did not improve from 0.50993\n",
      "Epoch 51/100\n",
      "1808/1808 [==============================] - ETA: 4s - loss: 1.5637e-04 - acc: 1.000 - ETA: 4s - loss: 9.1462e-04 - acc: 1.000 - ETA: 4s - loss: 6.9902e-04 - acc: 1.000 - ETA: 4s - loss: 7.8458e-04 - acc: 1.000 - ETA: 4s - loss: 6.7168e-04 - acc: 1.000 - ETA: 4s - loss: 7.2812e-04 - acc: 1.000 - ETA: 4s - loss: 0.0010 - acc: 1.0000    - ETA: 4s - loss: 0.0033 - acc: 1.000 - ETA: 4s - loss: 0.0029 - acc: 1.000 - ETA: 4s - loss: 0.0027 - acc: 1.000 - ETA: 4s - loss: 0.0025 - acc: 1.000 - ETA: 4s - loss: 0.0023 - acc: 1.000 - ETA: 3s - loss: 0.0021 - acc: 1.000 - ETA: 3s - loss: 0.0020 - acc: 1.000 - ETA: 3s - loss: 0.0019 - acc: 1.000 - ETA: 3s - loss: 0.0018 - acc: 1.000 - ETA: 3s - loss: 0.0017 - acc: 1.000 - ETA: 3s - loss: 0.0016 - acc: 1.000 - ETA: 3s - loss: 0.0015 - acc: 1.000 - ETA: 3s - loss: 0.0015 - acc: 1.000 - ETA: 3s - loss: 0.0014 - acc: 1.000 - ETA: 3s - loss: 0.0015 - acc: 1.000 - ETA: 3s - loss: 0.0014 - acc: 1.000 - ETA: 3s - loss: 0.0014 - acc: 1.000 - ETA: 2s - loss: 0.0045 - acc: 0.998 - ETA: 2s - loss: 0.0043 - acc: 0.998 - ETA: 2s - loss: 0.0042 - acc: 0.998 - ETA: 2s - loss: 0.0041 - acc: 0.998 - ETA: 2s - loss: 0.0039 - acc: 0.998 - ETA: 2s - loss: 0.0038 - acc: 0.999 - ETA: 2s - loss: 0.0037 - acc: 0.999 - ETA: 2s - loss: 0.0036 - acc: 0.999 - ETA: 2s - loss: 0.0035 - acc: 0.999 - ETA: 2s - loss: 0.0034 - acc: 0.999 - ETA: 1s - loss: 0.0034 - acc: 0.999 - ETA: 1s - loss: 0.0033 - acc: 0.999 - ETA: 1s - loss: 0.0032 - acc: 0.999 - ETA: 1s - loss: 0.0031 - acc: 0.999 - ETA: 1s - loss: 0.0031 - acc: 0.999 - ETA: 1s - loss: 0.0030 - acc: 0.999 - ETA: 1s - loss: 0.0029 - acc: 0.999 - ETA: 1s - loss: 0.0029 - acc: 0.999 - ETA: 1s - loss: 0.0028 - acc: 0.999 - ETA: 1s - loss: 0.0027 - acc: 0.999 - ETA: 1s - loss: 0.0027 - acc: 0.999 - ETA: 0s - loss: 0.0027 - acc: 0.999 - ETA: 0s - loss: 0.0026 - acc: 0.999 - ETA: 0s - loss: 0.0054 - acc: 0.998 - ETA: 0s - loss: 0.0053 - acc: 0.998 - ETA: 0s - loss: 0.0052 - acc: 0.998 - ETA: 0s - loss: 0.0051 - acc: 0.998 - ETA: 0s - loss: 0.0050 - acc: 0.998 - ETA: 0s - loss: 0.0049 - acc: 0.998 - ETA: 0s - loss: 0.0048 - acc: 0.998 - ETA: 0s - loss: 0.0047 - acc: 0.998 - ETA: 0s - loss: 0.0047 - acc: 0.998 - 6s 3ms/step - loss: 0.0046 - acc: 0.9989 - val_loss: 5.2702 - val_acc: 0.3731\n",
      "\n",
      "Epoch 00051: val_acc did not improve from 0.50993\n",
      "Epoch 52/100\n"
     ]
    },
    {
     "name": "stdout",
     "output_type": "stream",
     "text": [
      "1808/1808 [==============================] - ETA: 6s - loss: 2.9097e-04 - acc: 1.000 - ETA: 5s - loss: 0.0011 - acc: 1.0000    - ETA: 5s - loss: 7.5750e-04 - acc: 1.000 - ETA: 5s - loss: 5.9022e-04 - acc: 1.000 - ETA: 5s - loss: 5.3046e-04 - acc: 1.000 - ETA: 5s - loss: 5.3452e-04 - acc: 1.000 - ETA: 5s - loss: 6.1630e-04 - acc: 1.000 - ETA: 5s - loss: 9.4499e-04 - acc: 1.000 - ETA: 5s - loss: 0.0122 - acc: 0.9965    - ETA: 4s - loss: 0.0110 - acc: 0.996 - ETA: 4s - loss: 0.0100 - acc: 0.997 - ETA: 4s - loss: 0.0092 - acc: 0.997 - ETA: 4s - loss: 0.0094 - acc: 0.997 - ETA: 4s - loss: 0.0087 - acc: 0.997 - ETA: 4s - loss: 0.0082 - acc: 0.997 - ETA: 4s - loss: 0.0077 - acc: 0.998 - ETA: 4s - loss: 0.0072 - acc: 0.998 - ETA: 4s - loss: 0.0068 - acc: 0.998 - ETA: 4s - loss: 0.0065 - acc: 0.998 - ETA: 3s - loss: 0.0062 - acc: 0.998 - ETA: 3s - loss: 0.0059 - acc: 0.998 - ETA: 3s - loss: 0.0057 - acc: 0.998 - ETA: 3s - loss: 0.0054 - acc: 0.998 - ETA: 3s - loss: 0.0052 - acc: 0.998 - ETA: 3s - loss: 0.0050 - acc: 0.998 - ETA: 3s - loss: 0.0048 - acc: 0.998 - ETA: 3s - loss: 0.0047 - acc: 0.998 - ETA: 3s - loss: 0.0045 - acc: 0.998 - ETA: 2s - loss: 0.0044 - acc: 0.998 - ETA: 2s - loss: 0.0060 - acc: 0.997 - ETA: 2s - loss: 0.0059 - acc: 0.998 - ETA: 2s - loss: 0.0057 - acc: 0.998 - ETA: 2s - loss: 0.0055 - acc: 0.998 - ETA: 2s - loss: 0.0053 - acc: 0.998 - ETA: 2s - loss: 0.0052 - acc: 0.998 - ETA: 2s - loss: 0.0051 - acc: 0.998 - ETA: 2s - loss: 0.0049 - acc: 0.998 - ETA: 1s - loss: 0.0048 - acc: 0.998 - ETA: 1s - loss: 0.0047 - acc: 0.998 - ETA: 1s - loss: 0.0046 - acc: 0.998 - ETA: 1s - loss: 0.0045 - acc: 0.998 - ETA: 1s - loss: 0.0044 - acc: 0.998 - ETA: 1s - loss: 0.0043 - acc: 0.998 - ETA: 1s - loss: 0.0042 - acc: 0.998 - ETA: 1s - loss: 0.0041 - acc: 0.998 - ETA: 1s - loss: 0.0057 - acc: 0.998 - ETA: 0s - loss: 0.0056 - acc: 0.998 - ETA: 0s - loss: 0.0055 - acc: 0.998 - ETA: 0s - loss: 0.0054 - acc: 0.998 - ETA: 0s - loss: 0.0053 - acc: 0.998 - ETA: 0s - loss: 0.0052 - acc: 0.998 - ETA: 0s - loss: 0.0051 - acc: 0.998 - ETA: 0s - loss: 0.0050 - acc: 0.998 - ETA: 0s - loss: 0.0049 - acc: 0.998 - ETA: 0s - loss: 0.0048 - acc: 0.998 - ETA: 0s - loss: 0.0049 - acc: 0.998 - 6s 3ms/step - loss: 0.0049 - acc: 0.9983 - val_loss: 4.8783 - val_acc: 0.3863\n",
      "\n",
      "Epoch 00052: val_acc did not improve from 0.50993\n",
      "Epoch 53/100\n",
      "1808/1808 [==============================] - ETA: 4s - loss: 2.6747e-04 - acc: 1.000 - ETA: 5s - loss: 2.3972e-04 - acc: 1.000 - ETA: 4s - loss: 2.1668e-04 - acc: 1.000 - ETA: 4s - loss: 1.7682e-04 - acc: 1.000 - ETA: 4s - loss: 1.7818e-04 - acc: 1.000 - ETA: 4s - loss: 2.6015e-04 - acc: 1.000 - ETA: 4s - loss: 2.5830e-04 - acc: 1.000 - ETA: 4s - loss: 4.5980e-04 - acc: 1.000 - ETA: 4s - loss: 4.6702e-04 - acc: 1.000 - ETA: 4s - loss: 4.5004e-04 - acc: 1.000 - ETA: 4s - loss: 4.3830e-04 - acc: 1.000 - ETA: 4s - loss: 4.4678e-04 - acc: 1.000 - ETA: 3s - loss: 4.4723e-04 - acc: 1.000 - ETA: 3s - loss: 4.3417e-04 - acc: 1.000 - ETA: 3s - loss: 5.2266e-04 - acc: 1.000 - ETA: 3s - loss: 5.2519e-04 - acc: 1.000 - ETA: 3s - loss: 5.1468e-04 - acc: 1.000 - ETA: 3s - loss: 5.0343e-04 - acc: 1.000 - ETA: 3s - loss: 4.8671e-04 - acc: 1.000 - ETA: 3s - loss: 4.8633e-04 - acc: 1.000 - ETA: 3s - loss: 4.9623e-04 - acc: 1.000 - ETA: 3s - loss: 0.0050 - acc: 0.9986    - ETA: 3s - loss: 0.0049 - acc: 0.998 - ETA: 3s - loss: 0.0047 - acc: 0.998 - ETA: 2s - loss: 0.0045 - acc: 0.998 - ETA: 2s - loss: 0.0061 - acc: 0.997 - ETA: 2s - loss: 0.0059 - acc: 0.997 - ETA: 2s - loss: 0.0057 - acc: 0.997 - ETA: 2s - loss: 0.0055 - acc: 0.997 - ETA: 2s - loss: 0.0053 - acc: 0.997 - ETA: 2s - loss: 0.0051 - acc: 0.998 - ETA: 2s - loss: 0.0050 - acc: 0.998 - ETA: 2s - loss: 0.0049 - acc: 0.998 - ETA: 2s - loss: 0.0047 - acc: 0.998 - ETA: 2s - loss: 0.0046 - acc: 0.998 - ETA: 1s - loss: 0.0045 - acc: 0.998 - ETA: 1s - loss: 0.0044 - acc: 0.998 - ETA: 1s - loss: 0.0043 - acc: 0.998 - ETA: 1s - loss: 0.0045 - acc: 0.998 - ETA: 1s - loss: 0.0044 - acc: 0.998 - ETA: 1s - loss: 0.0043 - acc: 0.998 - ETA: 1s - loss: 0.0042 - acc: 0.998 - ETA: 1s - loss: 0.0041 - acc: 0.998 - ETA: 1s - loss: 0.0040 - acc: 0.998 - ETA: 1s - loss: 0.0061 - acc: 0.997 - ETA: 0s - loss: 0.0087 - acc: 0.997 - ETA: 0s - loss: 0.0085 - acc: 0.997 - ETA: 0s - loss: 0.0084 - acc: 0.997 - ETA: 0s - loss: 0.0092 - acc: 0.996 - ETA: 0s - loss: 0.0090 - acc: 0.996 - ETA: 0s - loss: 0.0088 - acc: 0.996 - ETA: 0s - loss: 0.0086 - acc: 0.997 - ETA: 0s - loss: 0.0085 - acc: 0.997 - ETA: 0s - loss: 0.0083 - acc: 0.997 - ETA: 0s - loss: 0.0082 - acc: 0.997 - ETA: 0s - loss: 0.0082 - acc: 0.997 - 6s 3ms/step - loss: 0.0082 - acc: 0.9972 - val_loss: 4.5615 - val_acc: 0.4481\n",
      "\n",
      "Epoch 00053: val_acc did not improve from 0.50993\n",
      "Epoch 54/100\n",
      "1808/1808 [==============================] - ETA: 5s - loss: 0.0022 - acc: 1.000 - ETA: 5s - loss: 0.0024 - acc: 1.000 - ETA: 5s - loss: 0.0075 - acc: 1.000 - ETA: 5s - loss: 0.0073 - acc: 1.000 - ETA: 4s - loss: 0.0063 - acc: 1.000 - ETA: 4s - loss: 0.0064 - acc: 1.000 - ETA: 4s - loss: 0.0058 - acc: 1.000 - ETA: 4s - loss: 0.0054 - acc: 1.000 - ETA: 4s - loss: 0.0049 - acc: 1.000 - ETA: 4s - loss: 0.0045 - acc: 1.000 - ETA: 4s - loss: 0.0048 - acc: 1.000 - ETA: 4s - loss: 0.0045 - acc: 1.000 - ETA: 4s - loss: 0.0042 - acc: 1.000 - ETA: 3s - loss: 0.0040 - acc: 1.000 - ETA: 3s - loss: 0.0037 - acc: 1.000 - ETA: 3s - loss: 0.0035 - acc: 1.000 - ETA: 3s - loss: 0.0082 - acc: 0.998 - ETA: 3s - loss: 0.0078 - acc: 0.998 - ETA: 3s - loss: 0.0074 - acc: 0.998 - ETA: 3s - loss: 0.0071 - acc: 0.998 - ETA: 3s - loss: 0.0067 - acc: 0.998 - ETA: 3s - loss: 0.0064 - acc: 0.998 - ETA: 3s - loss: 0.0062 - acc: 0.998 - ETA: 3s - loss: 0.0059 - acc: 0.998 - ETA: 2s - loss: 0.0057 - acc: 0.998 - ETA: 2s - loss: 0.0055 - acc: 0.998 - ETA: 2s - loss: 0.0053 - acc: 0.998 - ETA: 2s - loss: 0.0051 - acc: 0.998 - ETA: 2s - loss: 0.0050 - acc: 0.998 - ETA: 2s - loss: 0.0048 - acc: 0.999 - ETA: 2s - loss: 0.0047 - acc: 0.999 - ETA: 2s - loss: 0.0045 - acc: 0.999 - ETA: 2s - loss: 0.0044 - acc: 0.999 - ETA: 2s - loss: 0.0043 - acc: 0.999 - ETA: 2s - loss: 0.0042 - acc: 0.999 - ETA: 1s - loss: 0.0041 - acc: 0.999 - ETA: 1s - loss: 0.0040 - acc: 0.999 - ETA: 1s - loss: 0.0039 - acc: 0.999 - ETA: 1s - loss: 0.0038 - acc: 0.999 - ETA: 1s - loss: 0.0037 - acc: 0.999 - ETA: 1s - loss: 0.0037 - acc: 0.999 - ETA: 1s - loss: 0.0036 - acc: 0.999 - ETA: 1s - loss: 0.0035 - acc: 0.999 - ETA: 1s - loss: 0.0034 - acc: 0.999 - ETA: 1s - loss: 0.0034 - acc: 0.999 - ETA: 0s - loss: 0.0033 - acc: 0.999 - ETA: 0s - loss: 0.0032 - acc: 0.999 - ETA: 0s - loss: 0.0053 - acc: 0.998 - ETA: 0s - loss: 0.0052 - acc: 0.998 - ETA: 0s - loss: 0.0051 - acc: 0.998 - ETA: 0s - loss: 0.0050 - acc: 0.998 - ETA: 0s - loss: 0.0049 - acc: 0.998 - ETA: 0s - loss: 0.0048 - acc: 0.998 - ETA: 0s - loss: 0.0047 - acc: 0.998 - ETA: 0s - loss: 0.0047 - acc: 0.998 - ETA: 0s - loss: 0.0046 - acc: 0.998 - 6s 3ms/step - loss: 0.0046 - acc: 0.9989 - val_loss: 5.8092 - val_acc: 0.3532\n",
      "\n",
      "Epoch 00054: val_acc did not improve from 0.50993\n",
      "Epoch 55/100\n"
     ]
    },
    {
     "name": "stdout",
     "output_type": "stream",
     "text": [
      "1808/1808 [==============================] - ETA: 4s - loss: 9.2702e-04 - acc: 1.000 - ETA: 4s - loss: 0.0019 - acc: 1.0000    - ETA: 4s - loss: 0.0017 - acc: 1.000 - ETA: 4s - loss: 0.0025 - acc: 1.000 - ETA: 4s - loss: 0.0027 - acc: 1.000 - ETA: 4s - loss: 0.0023 - acc: 1.000 - ETA: 4s - loss: 0.0021 - acc: 1.000 - ETA: 4s - loss: 0.0019 - acc: 1.000 - ETA: 4s - loss: 0.0018 - acc: 1.000 - ETA: 4s - loss: 0.0016 - acc: 1.000 - ETA: 4s - loss: 0.0015 - acc: 1.000 - ETA: 4s - loss: 0.0014 - acc: 1.000 - ETA: 4s - loss: 0.0013 - acc: 1.000 - ETA: 3s - loss: 0.0013 - acc: 1.000 - ETA: 3s - loss: 0.0015 - acc: 1.000 - ETA: 3s - loss: 0.0057 - acc: 0.998 - ETA: 3s - loss: 0.0054 - acc: 0.998 - ETA: 3s - loss: 0.0051 - acc: 0.998 - ETA: 3s - loss: 0.0048 - acc: 0.998 - ETA: 3s - loss: 0.0046 - acc: 0.998 - ETA: 3s - loss: 0.0044 - acc: 0.998 - ETA: 3s - loss: 0.0042 - acc: 0.998 - ETA: 3s - loss: 0.0040 - acc: 0.998 - ETA: 3s - loss: 0.0038 - acc: 0.998 - ETA: 3s - loss: 0.0038 - acc: 0.998 - ETA: 2s - loss: 0.0036 - acc: 0.998 - ETA: 2s - loss: 0.0035 - acc: 0.998 - ETA: 2s - loss: 0.0034 - acc: 0.998 - ETA: 2s - loss: 0.0033 - acc: 0.998 - ETA: 2s - loss: 0.0032 - acc: 0.999 - ETA: 2s - loss: 0.0031 - acc: 0.999 - ETA: 2s - loss: 0.0030 - acc: 0.999 - ETA: 2s - loss: 0.0029 - acc: 0.999 - ETA: 2s - loss: 0.0029 - acc: 0.999 - ETA: 2s - loss: 0.0028 - acc: 0.999 - ETA: 2s - loss: 0.0028 - acc: 0.999 - ETA: 1s - loss: 0.0027 - acc: 0.999 - ETA: 1s - loss: 0.0026 - acc: 0.999 - ETA: 1s - loss: 0.0026 - acc: 0.999 - ETA: 1s - loss: 0.0025 - acc: 0.999 - ETA: 1s - loss: 0.0039 - acc: 0.998 - ETA: 1s - loss: 0.0038 - acc: 0.998 - ETA: 1s - loss: 0.0037 - acc: 0.998 - ETA: 1s - loss: 0.0079 - acc: 0.997 - ETA: 1s - loss: 0.0077 - acc: 0.997 - ETA: 1s - loss: 0.0076 - acc: 0.998 - ETA: 0s - loss: 0.0074 - acc: 0.998 - ETA: 0s - loss: 0.0073 - acc: 0.998 - ETA: 0s - loss: 0.0072 - acc: 0.998 - ETA: 0s - loss: 0.0070 - acc: 0.998 - ETA: 0s - loss: 0.0069 - acc: 0.998 - ETA: 0s - loss: 0.0068 - acc: 0.998 - ETA: 0s - loss: 0.0066 - acc: 0.998 - ETA: 0s - loss: 0.0065 - acc: 0.998 - ETA: 0s - loss: 0.0064 - acc: 0.998 - ETA: 0s - loss: 0.0063 - acc: 0.998 - 6s 3ms/step - loss: 0.0063 - acc: 0.9983 - val_loss: 5.1406 - val_acc: 0.3819\n",
      "\n",
      "Epoch 00055: val_acc did not improve from 0.50993\n",
      "Epoch 56/100\n",
      "1808/1808 [==============================] - ETA: 5s - loss: 9.7561e-05 - acc: 1.000 - ETA: 4s - loss: 2.0640e-04 - acc: 1.000 - ETA: 4s - loss: 1.8375e-04 - acc: 1.000 - ETA: 4s - loss: 1.5770e-04 - acc: 1.000 - ETA: 4s - loss: 0.0041 - acc: 1.0000    - ETA: 4s - loss: 0.0109 - acc: 0.994 - ETA: 4s - loss: 0.0094 - acc: 0.995 - ETA: 4s - loss: 0.0082 - acc: 0.996 - ETA: 4s - loss: 0.0074 - acc: 0.996 - ETA: 4s - loss: 0.0067 - acc: 0.996 - ETA: 4s - loss: 0.0088 - acc: 0.994 - ETA: 4s - loss: 0.0081 - acc: 0.994 - ETA: 3s - loss: 0.0075 - acc: 0.995 - ETA: 3s - loss: 0.0069 - acc: 0.995 - ETA: 3s - loss: 0.0065 - acc: 0.995 - ETA: 3s - loss: 0.0061 - acc: 0.996 - ETA: 3s - loss: 0.0057 - acc: 0.996 - ETA: 3s - loss: 0.0054 - acc: 0.996 - ETA: 3s - loss: 0.0051 - acc: 0.996 - ETA: 3s - loss: 0.0049 - acc: 0.996 - ETA: 3s - loss: 0.0047 - acc: 0.997 - ETA: 3s - loss: 0.0045 - acc: 0.997 - ETA: 3s - loss: 0.0043 - acc: 0.997 - ETA: 3s - loss: 0.0041 - acc: 0.997 - ETA: 2s - loss: 0.0040 - acc: 0.997 - ETA: 2s - loss: 0.0038 - acc: 0.997 - ETA: 2s - loss: 0.0037 - acc: 0.997 - ETA: 2s - loss: 0.0036 - acc: 0.997 - ETA: 2s - loss: 0.0034 - acc: 0.997 - ETA: 2s - loss: 0.0034 - acc: 0.997 - ETA: 2s - loss: 0.0033 - acc: 0.998 - ETA: 2s - loss: 0.0032 - acc: 0.998 - ETA: 2s - loss: 0.0031 - acc: 0.998 - ETA: 2s - loss: 0.0030 - acc: 0.998 - ETA: 1s - loss: 0.0029 - acc: 0.998 - ETA: 1s - loss: 0.0028 - acc: 0.998 - ETA: 1s - loss: 0.0028 - acc: 0.998 - ETA: 1s - loss: 0.0027 - acc: 0.998 - ETA: 1s - loss: 0.0026 - acc: 0.998 - ETA: 1s - loss: 0.0026 - acc: 0.998 - ETA: 1s - loss: 0.0025 - acc: 0.998 - ETA: 1s - loss: 0.0025 - acc: 0.998 - ETA: 1s - loss: 0.0024 - acc: 0.998 - ETA: 1s - loss: 0.0024 - acc: 0.998 - ETA: 1s - loss: 0.0036 - acc: 0.997 - ETA: 0s - loss: 0.0035 - acc: 0.998 - ETA: 0s - loss: 0.0034 - acc: 0.998 - ETA: 0s - loss: 0.0039 - acc: 0.997 - ETA: 0s - loss: 0.0038 - acc: 0.997 - ETA: 0s - loss: 0.0037 - acc: 0.997 - ETA: 0s - loss: 0.0037 - acc: 0.997 - ETA: 0s - loss: 0.0036 - acc: 0.997 - ETA: 0s - loss: 0.0036 - acc: 0.997 - ETA: 0s - loss: 0.0035 - acc: 0.997 - ETA: 0s - loss: 0.0034 - acc: 0.997 - ETA: 0s - loss: 0.0034 - acc: 0.997 - 5s 3ms/step - loss: 0.0048 - acc: 0.9972 - val_loss: 5.4202 - val_acc: 0.3664\n",
      "\n",
      "Epoch 00056: val_acc did not improve from 0.50993\n",
      "Epoch 57/100\n",
      "1808/1808 [==============================] - ETA: 4s - loss: 1.3799e-04 - acc: 1.000 - ETA: 4s - loss: 1.5293e-04 - acc: 1.000 - ETA: 4s - loss: 1.5655e-04 - acc: 1.000 - ETA: 4s - loss: 1.9076e-04 - acc: 1.000 - ETA: 4s - loss: 4.9013e-04 - acc: 1.000 - ETA: 4s - loss: 0.0011 - acc: 1.0000    - ETA: 4s - loss: 0.0010 - acc: 1.000 - ETA: 4s - loss: 9.5713e-04 - acc: 1.000 - ETA: 4s - loss: 9.7453e-04 - acc: 1.000 - ETA: 4s - loss: 0.0012 - acc: 1.0000    - ETA: 4s - loss: 0.0015 - acc: 1.000 - ETA: 4s - loss: 0.0014 - acc: 1.000 - ETA: 4s - loss: 0.0070 - acc: 0.997 - ETA: 3s - loss: 0.0066 - acc: 0.997 - ETA: 3s - loss: 0.0065 - acc: 0.997 - ETA: 3s - loss: 0.0062 - acc: 0.998 - ETA: 3s - loss: 0.0058 - acc: 0.998 - ETA: 3s - loss: 0.0055 - acc: 0.998 - ETA: 3s - loss: 0.0052 - acc: 0.998 - ETA: 3s - loss: 0.0050 - acc: 0.998 - ETA: 3s - loss: 0.0048 - acc: 0.998 - ETA: 3s - loss: 0.0046 - acc: 0.998 - ETA: 3s - loss: 0.0044 - acc: 0.998 - ETA: 3s - loss: 0.0042 - acc: 0.998 - ETA: 2s - loss: 0.0041 - acc: 0.998 - ETA: 2s - loss: 0.0040 - acc: 0.998 - ETA: 2s - loss: 0.0039 - acc: 0.998 - ETA: 2s - loss: 0.0080 - acc: 0.997 - ETA: 2s - loss: 0.0077 - acc: 0.997 - ETA: 2s - loss: 0.0135 - acc: 0.996 - ETA: 2s - loss: 0.0131 - acc: 0.997 - ETA: 2s - loss: 0.0127 - acc: 0.997 - ETA: 2s - loss: 0.0123 - acc: 0.997 - ETA: 2s - loss: 0.0120 - acc: 0.997 - ETA: 1s - loss: 0.0116 - acc: 0.997 - ETA: 1s - loss: 0.0113 - acc: 0.997 - ETA: 1s - loss: 0.0110 - acc: 0.997 - ETA: 1s - loss: 0.0107 - acc: 0.997 - ETA: 1s - loss: 0.0105 - acc: 0.997 - ETA: 1s - loss: 0.0102 - acc: 0.997 - ETA: 1s - loss: 0.0100 - acc: 0.997 - ETA: 1s - loss: 0.0098 - acc: 0.997 - ETA: 1s - loss: 0.0095 - acc: 0.997 - ETA: 1s - loss: 0.0093 - acc: 0.997 - ETA: 1s - loss: 0.0091 - acc: 0.997 - ETA: 0s - loss: 0.0089 - acc: 0.998 - ETA: 0s - loss: 0.0088 - acc: 0.998 - ETA: 0s - loss: 0.0086 - acc: 0.998 - ETA: 0s - loss: 0.0084 - acc: 0.998 - ETA: 0s - loss: 0.0082 - acc: 0.998 - ETA: 0s - loss: 0.0081 - acc: 0.998 - ETA: 0s - loss: 0.0079 - acc: 0.998 - ETA: 0s - loss: 0.0078 - acc: 0.998 - ETA: 0s - loss: 0.0077 - acc: 0.998 - ETA: 0s - loss: 0.0075 - acc: 0.998 - ETA: 0s - loss: 0.0075 - acc: 0.998 - 6s 3ms/step - loss: 0.0074 - acc: 0.9983 - val_loss: 4.9738 - val_acc: 0.3731\n",
      "\n",
      "Epoch 00057: val_acc did not improve from 0.50993\n",
      "Epoch 58/100\n"
     ]
    },
    {
     "name": "stdout",
     "output_type": "stream",
     "text": [
      "1808/1808 [==============================] - ETA: 4s - loss: 6.8495e-04 - acc: 1.000 - ETA: 4s - loss: 6.1910e-04 - acc: 1.000 - ETA: 4s - loss: 5.0393e-04 - acc: 1.000 - ETA: 4s - loss: 4.2168e-04 - acc: 1.000 - ETA: 4s - loss: 3.5435e-04 - acc: 1.000 - ETA: 4s - loss: 3.2150e-04 - acc: 1.000 - ETA: 4s - loss: 4.5677e-04 - acc: 1.000 - ETA: 4s - loss: 4.0799e-04 - acc: 1.000 - ETA: 4s - loss: 0.0026 - acc: 1.0000    - ETA: 4s - loss: 0.0024 - acc: 1.000 - ETA: 4s - loss: 0.0022 - acc: 1.000 - ETA: 4s - loss: 0.0020 - acc: 1.000 - ETA: 4s - loss: 0.0066 - acc: 0.997 - ETA: 3s - loss: 0.0062 - acc: 0.997 - ETA: 3s - loss: 0.0058 - acc: 0.997 - ETA: 3s - loss: 0.0055 - acc: 0.998 - ETA: 3s - loss: 0.0052 - acc: 0.998 - ETA: 3s - loss: 0.0049 - acc: 0.998 - ETA: 3s - loss: 0.0047 - acc: 0.998 - ETA: 3s - loss: 0.0046 - acc: 0.998 - ETA: 3s - loss: 0.0057 - acc: 0.997 - ETA: 3s - loss: 0.0055 - acc: 0.997 - ETA: 3s - loss: 0.0052 - acc: 0.997 - ETA: 2s - loss: 0.0050 - acc: 0.997 - ETA: 2s - loss: 0.0050 - acc: 0.997 - ETA: 2s - loss: 0.0048 - acc: 0.997 - ETA: 2s - loss: 0.0047 - acc: 0.997 - ETA: 2s - loss: 0.0045 - acc: 0.997 - ETA: 2s - loss: 0.0084 - acc: 0.996 - ETA: 2s - loss: 0.0081 - acc: 0.996 - ETA: 2s - loss: 0.0079 - acc: 0.997 - ETA: 2s - loss: 0.0076 - acc: 0.997 - ETA: 2s - loss: 0.0074 - acc: 0.997 - ETA: 2s - loss: 0.0072 - acc: 0.997 - ETA: 1s - loss: 0.0070 - acc: 0.997 - ETA: 1s - loss: 0.0068 - acc: 0.997 - ETA: 1s - loss: 0.0066 - acc: 0.997 - ETA: 1s - loss: 0.0065 - acc: 0.997 - ETA: 1s - loss: 0.0063 - acc: 0.997 - ETA: 1s - loss: 0.0061 - acc: 0.997 - ETA: 1s - loss: 0.0060 - acc: 0.997 - ETA: 1s - loss: 0.0059 - acc: 0.997 - ETA: 1s - loss: 0.0057 - acc: 0.997 - ETA: 1s - loss: 0.0056 - acc: 0.997 - ETA: 1s - loss: 0.0055 - acc: 0.997 - ETA: 0s - loss: 0.0054 - acc: 0.998 - ETA: 0s - loss: 0.0053 - acc: 0.998 - ETA: 0s - loss: 0.0052 - acc: 0.998 - ETA: 0s - loss: 0.0051 - acc: 0.998 - ETA: 0s - loss: 0.0050 - acc: 0.998 - ETA: 0s - loss: 0.0049 - acc: 0.998 - ETA: 0s - loss: 0.0048 - acc: 0.998 - ETA: 0s - loss: 0.0047 - acc: 0.998 - ETA: 0s - loss: 0.0047 - acc: 0.998 - ETA: 0s - loss: 0.0046 - acc: 0.998 - ETA: 0s - loss: 0.0045 - acc: 0.998 - 6s 3ms/step - loss: 0.0045 - acc: 0.9983 - val_loss: 5.2063 - val_acc: 0.3731\n",
      "\n",
      "Epoch 00058: val_acc did not improve from 0.50993\n",
      "Epoch 59/100\n",
      "1808/1808 [==============================] - ETA: 4s - loss: 1.6536e-04 - acc: 1.000 - ETA: 4s - loss: 2.9915e-04 - acc: 1.000 - ETA: 4s - loss: 3.0706e-04 - acc: 1.000 - ETA: 4s - loss: 4.1470e-04 - acc: 1.000 - ETA: 4s - loss: 3.4989e-04 - acc: 1.000 - ETA: 4s - loss: 3.1979e-04 - acc: 1.000 - ETA: 4s - loss: 0.0129 - acc: 0.9955    - ETA: 4s - loss: 0.0113 - acc: 0.996 - ETA: 4s - loss: 0.0101 - acc: 0.996 - ETA: 4s - loss: 0.0092 - acc: 0.996 - ETA: 4s - loss: 0.0084 - acc: 0.997 - ETA: 4s - loss: 0.0077 - acc: 0.997 - ETA: 3s - loss: 0.0071 - acc: 0.997 - ETA: 3s - loss: 0.0105 - acc: 0.995 - ETA: 3s - loss: 0.0098 - acc: 0.995 - ETA: 3s - loss: 0.0093 - acc: 0.996 - ETA: 3s - loss: 0.0087 - acc: 0.996 - ETA: 3s - loss: 0.0083 - acc: 0.996 - ETA: 3s - loss: 0.0079 - acc: 0.996 - ETA: 3s - loss: 0.0075 - acc: 0.996 - ETA: 3s - loss: 0.0072 - acc: 0.997 - ETA: 3s - loss: 0.0069 - acc: 0.997 - ETA: 3s - loss: 0.0067 - acc: 0.997 - ETA: 2s - loss: 0.0065 - acc: 0.997 - ETA: 2s - loss: 0.0062 - acc: 0.997 - ETA: 2s - loss: 0.0060 - acc: 0.997 - ETA: 2s - loss: 0.0058 - acc: 0.997 - ETA: 2s - loss: 0.0057 - acc: 0.997 - ETA: 2s - loss: 0.0055 - acc: 0.997 - ETA: 2s - loss: 0.0054 - acc: 0.997 - ETA: 2s - loss: 0.0052 - acc: 0.998 - ETA: 2s - loss: 0.0067 - acc: 0.997 - ETA: 2s - loss: 0.0065 - acc: 0.997 - ETA: 2s - loss: 0.0064 - acc: 0.997 - ETA: 1s - loss: 0.0062 - acc: 0.997 - ETA: 1s - loss: 0.0061 - acc: 0.997 - ETA: 1s - loss: 0.0060 - acc: 0.997 - ETA: 1s - loss: 0.0058 - acc: 0.997 - ETA: 1s - loss: 0.0083 - acc: 0.996 - ETA: 1s - loss: 0.0081 - acc: 0.996 - ETA: 1s - loss: 0.0079 - acc: 0.997 - ETA: 1s - loss: 0.0077 - acc: 0.997 - ETA: 1s - loss: 0.0076 - acc: 0.997 - ETA: 1s - loss: 0.0074 - acc: 0.997 - ETA: 1s - loss: 0.0072 - acc: 0.997 - ETA: 0s - loss: 0.0071 - acc: 0.997 - ETA: 0s - loss: 0.0069 - acc: 0.997 - ETA: 0s - loss: 0.0068 - acc: 0.997 - ETA: 0s - loss: 0.0067 - acc: 0.997 - ETA: 0s - loss: 0.0066 - acc: 0.997 - ETA: 0s - loss: 0.0064 - acc: 0.997 - ETA: 0s - loss: 0.0063 - acc: 0.997 - ETA: 0s - loss: 0.0062 - acc: 0.997 - ETA: 0s - loss: 0.0061 - acc: 0.997 - ETA: 0s - loss: 0.0060 - acc: 0.997 - ETA: 0s - loss: 0.0059 - acc: 0.997 - 6s 3ms/step - loss: 0.0059 - acc: 0.9978 - val_loss: 5.1688 - val_acc: 0.3687\n",
      "\n",
      "Epoch 00059: val_acc did not improve from 0.50993\n",
      "Epoch 60/100\n",
      "1808/1808 [==============================] - ETA: 4s - loss: 2.1953e-04 - acc: 1.000 - ETA: 4s - loss: 3.1118e-04 - acc: 1.000 - ETA: 4s - loss: 2.6927e-04 - acc: 1.000 - ETA: 4s - loss: 2.8969e-04 - acc: 1.000 - ETA: 4s - loss: 6.4293e-04 - acc: 1.000 - ETA: 4s - loss: 0.0148 - acc: 0.9948    - ETA: 4s - loss: 0.0128 - acc: 0.995 - ETA: 4s - loss: 0.0112 - acc: 0.996 - ETA: 4s - loss: 0.0100 - acc: 0.996 - ETA: 4s - loss: 0.0090 - acc: 0.996 - ETA: 4s - loss: 0.0082 - acc: 0.997 - ETA: 4s - loss: 0.0076 - acc: 0.997 - ETA: 4s - loss: 0.0070 - acc: 0.997 - ETA: 3s - loss: 0.0065 - acc: 0.997 - ETA: 3s - loss: 0.0061 - acc: 0.997 - ETA: 3s - loss: 0.0057 - acc: 0.998 - ETA: 3s - loss: 0.0054 - acc: 0.998 - ETA: 3s - loss: 0.0051 - acc: 0.998 - ETA: 3s - loss: 0.0077 - acc: 0.996 - ETA: 3s - loss: 0.0073 - acc: 0.996 - ETA: 3s - loss: 0.0070 - acc: 0.997 - ETA: 3s - loss: 0.0067 - acc: 0.997 - ETA: 3s - loss: 0.0064 - acc: 0.997 - ETA: 2s - loss: 0.0062 - acc: 0.997 - ETA: 2s - loss: 0.0059 - acc: 0.997 - ETA: 2s - loss: 0.0057 - acc: 0.997 - ETA: 2s - loss: 0.0055 - acc: 0.997 - ETA: 2s - loss: 0.0053 - acc: 0.997 - ETA: 2s - loss: 0.0052 - acc: 0.997 - ETA: 2s - loss: 0.0050 - acc: 0.997 - ETA: 2s - loss: 0.0048 - acc: 0.998 - ETA: 2s - loss: 0.0047 - acc: 0.998 - ETA: 2s - loss: 0.0068 - acc: 0.997 - ETA: 2s - loss: 0.0066 - acc: 0.997 - ETA: 2s - loss: 0.0064 - acc: 0.997 - ETA: 1s - loss: 0.0062 - acc: 0.997 - ETA: 1s - loss: 0.0061 - acc: 0.997 - ETA: 1s - loss: 0.0059 - acc: 0.997 - ETA: 1s - loss: 0.0058 - acc: 0.997 - ETA: 1s - loss: 0.0056 - acc: 0.997 - ETA: 1s - loss: 0.0055 - acc: 0.997 - ETA: 1s - loss: 0.0054 - acc: 0.997 - ETA: 1s - loss: 0.0053 - acc: 0.997 - ETA: 1s - loss: 0.0052 - acc: 0.997 - ETA: 1s - loss: 0.0051 - acc: 0.997 - ETA: 0s - loss: 0.0050 - acc: 0.998 - ETA: 0s - loss: 0.0049 - acc: 0.998 - ETA: 0s - loss: 0.0048 - acc: 0.998 - ETA: 0s - loss: 0.0047 - acc: 0.998 - ETA: 0s - loss: 0.0046 - acc: 0.998 - ETA: 0s - loss: 0.0045 - acc: 0.998 - ETA: 0s - loss: 0.0052 - acc: 0.997 - ETA: 0s - loss: 0.0057 - acc: 0.997 - ETA: 0s - loss: 0.0056 - acc: 0.997 - ETA: 0s - loss: 0.0055 - acc: 0.997 - ETA: 0s - loss: 0.0054 - acc: 0.997 - 6s 3ms/step - loss: 0.0053 - acc: 0.9972 - val_loss: 4.6867 - val_acc: 0.3841\n",
      "\n",
      "Epoch 00060: val_acc did not improve from 0.50993\n",
      "Epoch 61/100\n"
     ]
    },
    {
     "name": "stdout",
     "output_type": "stream",
     "text": [
      "1808/1808 [==============================] - ETA: 4s - loss: 0.0152 - acc: 1.000 - ETA: 4s - loss: 0.0080 - acc: 1.000 - ETA: 4s - loss: 0.0054 - acc: 1.000 - ETA: 4s - loss: 0.0042 - acc: 1.000 - ETA: 4s - loss: 0.0035 - acc: 1.000 - ETA: 4s - loss: 0.0030 - acc: 1.000 - ETA: 4s - loss: 0.0026 - acc: 1.000 - ETA: 4s - loss: 0.0023 - acc: 1.000 - ETA: 4s - loss: 0.0021 - acc: 1.000 - ETA: 4s - loss: 0.0019 - acc: 1.000 - ETA: 4s - loss: 0.0018 - acc: 1.000 - ETA: 4s - loss: 0.0017 - acc: 1.000 - ETA: 3s - loss: 0.0016 - acc: 1.000 - ETA: 3s - loss: 0.0015 - acc: 1.000 - ETA: 3s - loss: 0.0015 - acc: 1.000 - ETA: 3s - loss: 0.0014 - acc: 1.000 - ETA: 3s - loss: 0.0030 - acc: 0.998 - ETA: 3s - loss: 0.0030 - acc: 0.998 - ETA: 3s - loss: 0.0028 - acc: 0.998 - ETA: 3s - loss: 0.0028 - acc: 0.998 - ETA: 3s - loss: 0.0027 - acc: 0.998 - ETA: 3s - loss: 0.0026 - acc: 0.998 - ETA: 3s - loss: 0.0026 - acc: 0.998 - ETA: 2s - loss: 0.0025 - acc: 0.998 - ETA: 2s - loss: 0.0024 - acc: 0.998 - ETA: 2s - loss: 0.0023 - acc: 0.998 - ETA: 2s - loss: 0.0023 - acc: 0.998 - ETA: 2s - loss: 0.0022 - acc: 0.998 - ETA: 2s - loss: 0.0022 - acc: 0.998 - ETA: 2s - loss: 0.0021 - acc: 0.999 - ETA: 2s - loss: 0.0020 - acc: 0.999 - ETA: 2s - loss: 0.0020 - acc: 0.999 - ETA: 2s - loss: 0.0020 - acc: 0.999 - ETA: 2s - loss: 0.0020 - acc: 0.999 - ETA: 1s - loss: 0.0068 - acc: 0.997 - ETA: 1s - loss: 0.0066 - acc: 0.997 - ETA: 1s - loss: 0.0065 - acc: 0.997 - ETA: 1s - loss: 0.0063 - acc: 0.997 - ETA: 1s - loss: 0.0062 - acc: 0.997 - ETA: 1s - loss: 0.0060 - acc: 0.997 - ETA: 1s - loss: 0.0059 - acc: 0.997 - ETA: 1s - loss: 0.0058 - acc: 0.997 - ETA: 1s - loss: 0.0056 - acc: 0.997 - ETA: 1s - loss: 0.0055 - acc: 0.997 - ETA: 1s - loss: 0.0054 - acc: 0.997 - ETA: 0s - loss: 0.0053 - acc: 0.998 - ETA: 0s - loss: 0.0052 - acc: 0.998 - ETA: 0s - loss: 0.0051 - acc: 0.998 - ETA: 0s - loss: 0.0050 - acc: 0.998 - ETA: 0s - loss: 0.0049 - acc: 0.998 - ETA: 0s - loss: 0.0048 - acc: 0.998 - ETA: 0s - loss: 0.0047 - acc: 0.998 - ETA: 0s - loss: 0.0047 - acc: 0.998 - ETA: 0s - loss: 0.0046 - acc: 0.998 - ETA: 0s - loss: 0.0045 - acc: 0.998 - ETA: 0s - loss: 0.0044 - acc: 0.998 - 6s 3ms/step - loss: 0.0044 - acc: 0.9983 - val_loss: 5.2272 - val_acc: 0.3687\n",
      "\n",
      "Epoch 00061: val_acc did not improve from 0.50993\n",
      "Epoch 62/100\n",
      "1808/1808 [==============================] - ETA: 4s - loss: 4.4510e-04 - acc: 1.000 - ETA: 4s - loss: 3.9000e-04 - acc: 1.000 - ETA: 4s - loss: 3.6663e-04 - acc: 1.000 - ETA: 4s - loss: 0.0224 - acc: 0.9922    - ETA: 4s - loss: 0.0179 - acc: 0.993 - ETA: 4s - loss: 0.0150 - acc: 0.994 - ETA: 4s - loss: 0.0129 - acc: 0.995 - ETA: 4s - loss: 0.0113 - acc: 0.996 - ETA: 4s - loss: 0.0101 - acc: 0.996 - ETA: 4s - loss: 0.0091 - acc: 0.996 - ETA: 4s - loss: 0.0083 - acc: 0.997 - ETA: 4s - loss: 0.0076 - acc: 0.997 - ETA: 4s - loss: 0.0071 - acc: 0.997 - ETA: 3s - loss: 0.0066 - acc: 0.997 - ETA: 3s - loss: 0.0062 - acc: 0.997 - ETA: 3s - loss: 0.0058 - acc: 0.998 - ETA: 3s - loss: 0.0055 - acc: 0.998 - ETA: 3s - loss: 0.0056 - acc: 0.998 - ETA: 3s - loss: 0.0053 - acc: 0.998 - ETA: 3s - loss: 0.0051 - acc: 0.998 - ETA: 3s - loss: 0.0049 - acc: 0.998 - ETA: 3s - loss: 0.0046 - acc: 0.998 - ETA: 3s - loss: 0.0045 - acc: 0.998 - ETA: 3s - loss: 0.0043 - acc: 0.998 - ETA: 2s - loss: 0.0041 - acc: 0.998 - ETA: 2s - loss: 0.0040 - acc: 0.998 - ETA: 2s - loss: 0.0039 - acc: 0.998 - ETA: 2s - loss: 0.0037 - acc: 0.998 - ETA: 2s - loss: 0.0036 - acc: 0.998 - ETA: 2s - loss: 0.0035 - acc: 0.999 - ETA: 2s - loss: 0.0034 - acc: 0.999 - ETA: 2s - loss: 0.0033 - acc: 0.999 - ETA: 2s - loss: 0.0052 - acc: 0.998 - ETA: 2s - loss: 0.0050 - acc: 0.998 - ETA: 2s - loss: 0.0049 - acc: 0.998 - ETA: 1s - loss: 0.0048 - acc: 0.998 - ETA: 1s - loss: 0.0047 - acc: 0.998 - ETA: 1s - loss: 0.0045 - acc: 0.998 - ETA: 1s - loss: 0.0045 - acc: 0.998 - ETA: 1s - loss: 0.0044 - acc: 0.998 - ETA: 1s - loss: 0.0043 - acc: 0.998 - ETA: 1s - loss: 0.0042 - acc: 0.998 - ETA: 1s - loss: 0.0041 - acc: 0.998 - ETA: 1s - loss: 0.0040 - acc: 0.998 - ETA: 1s - loss: 0.0040 - acc: 0.998 - ETA: 0s - loss: 0.0039 - acc: 0.998 - ETA: 0s - loss: 0.0038 - acc: 0.998 - ETA: 0s - loss: 0.0037 - acc: 0.998 - ETA: 0s - loss: 0.0037 - acc: 0.998 - ETA: 0s - loss: 0.0054 - acc: 0.998 - ETA: 0s - loss: 0.0053 - acc: 0.998 - ETA: 0s - loss: 0.0052 - acc: 0.998 - ETA: 0s - loss: 0.0051 - acc: 0.998 - ETA: 0s - loss: 0.0050 - acc: 0.998 - ETA: 0s - loss: 0.0049 - acc: 0.998 - ETA: 0s - loss: 0.0049 - acc: 0.998 - 6s 3ms/step - loss: 0.0048 - acc: 0.9983 - val_loss: 4.8825 - val_acc: 0.3731\n",
      "\n",
      "Epoch 00062: val_acc did not improve from 0.50993\n",
      "Epoch 63/100\n",
      "1808/1808 [==============================] - ETA: 4s - loss: 2.0170e-04 - acc: 1.000 - ETA: 4s - loss: 1.4239e-04 - acc: 1.000 - ETA: 4s - loss: 1.0521e-04 - acc: 1.000 - ETA: 4s - loss: 9.8808e-05 - acc: 1.000 - ETA: 4s - loss: 1.1679e-04 - acc: 1.000 - ETA: 4s - loss: 1.3251e-04 - acc: 1.000 - ETA: 4s - loss: 1.2800e-04 - acc: 1.000 - ETA: 4s - loss: 1.1685e-04 - acc: 1.000 - ETA: 4s - loss: 1.3151e-04 - acc: 1.000 - ETA: 4s - loss: 1.2750e-04 - acc: 1.000 - ETA: 4s - loss: 1.2244e-04 - acc: 1.000 - ETA: 4s - loss: 1.6550e-04 - acc: 1.000 - ETA: 4s - loss: 1.6522e-04 - acc: 1.000 - ETA: 4s - loss: 1.7393e-04 - acc: 1.000 - ETA: 4s - loss: 2.4306e-04 - acc: 1.000 - ETA: 4s - loss: 3.3793e-04 - acc: 1.000 - ETA: 3s - loss: 3.5023e-04 - acc: 1.000 - ETA: 3s - loss: 3.3852e-04 - acc: 1.000 - ETA: 3s - loss: 3.2635e-04 - acc: 1.000 - ETA: 3s - loss: 3.2010e-04 - acc: 1.000 - ETA: 3s - loss: 3.1205e-04 - acc: 1.000 - ETA: 3s - loss: 3.0510e-04 - acc: 1.000 - ETA: 3s - loss: 2.9703e-04 - acc: 1.000 - ETA: 3s - loss: 2.8818e-04 - acc: 1.000 - ETA: 3s - loss: 0.0046 - acc: 0.9975    - ETA: 2s - loss: 0.0044 - acc: 0.997 - ETA: 2s - loss: 0.0043 - acc: 0.997 - ETA: 2s - loss: 0.0041 - acc: 0.997 - ETA: 2s - loss: 0.0040 - acc: 0.997 - ETA: 2s - loss: 0.0039 - acc: 0.997 - ETA: 2s - loss: 0.0047 - acc: 0.997 - ETA: 2s - loss: 0.0046 - acc: 0.997 - ETA: 2s - loss: 0.0045 - acc: 0.997 - ETA: 2s - loss: 0.0043 - acc: 0.997 - ETA: 2s - loss: 0.0042 - acc: 0.997 - ETA: 2s - loss: 0.0041 - acc: 0.997 - ETA: 1s - loss: 0.0062 - acc: 0.996 - ETA: 1s - loss: 0.0060 - acc: 0.996 - ETA: 1s - loss: 0.0059 - acc: 0.996 - ETA: 1s - loss: 0.0057 - acc: 0.996 - ETA: 1s - loss: 0.0056 - acc: 0.997 - ETA: 1s - loss: 0.0055 - acc: 0.997 - ETA: 1s - loss: 0.0054 - acc: 0.997 - ETA: 1s - loss: 0.0053 - acc: 0.997 - ETA: 1s - loss: 0.0051 - acc: 0.997 - ETA: 1s - loss: 0.0050 - acc: 0.997 - ETA: 0s - loss: 0.0050 - acc: 0.997 - ETA: 0s - loss: 0.0049 - acc: 0.997 - ETA: 0s - loss: 0.0048 - acc: 0.997 - ETA: 0s - loss: 0.0047 - acc: 0.997 - ETA: 0s - loss: 0.0046 - acc: 0.997 - ETA: 0s - loss: 0.0045 - acc: 0.997 - ETA: 0s - loss: 0.0044 - acc: 0.997 - ETA: 0s - loss: 0.0043 - acc: 0.997 - ETA: 0s - loss: 0.0043 - acc: 0.997 - ETA: 0s - loss: 0.0042 - acc: 0.997 - 6s 3ms/step - loss: 0.0042 - acc: 0.9978 - val_loss: 4.7402 - val_acc: 0.3819\n",
      "\n",
      "Epoch 00063: val_acc did not improve from 0.50993\n",
      "Epoch 64/100\n"
     ]
    },
    {
     "name": "stdout",
     "output_type": "stream",
     "text": [
      "1808/1808 [==============================] - ETA: 5s - loss: 9.4089e-05 - acc: 1.000 - ETA: 5s - loss: 4.4969e-04 - acc: 1.000 - ETA: 5s - loss: 3.4620e-04 - acc: 1.000 - ETA: 5s - loss: 3.2248e-04 - acc: 1.000 - ETA: 4s - loss: 2.9179e-04 - acc: 1.000 - ETA: 4s - loss: 2.7377e-04 - acc: 1.000 - ETA: 4s - loss: 2.5101e-04 - acc: 1.000 - ETA: 4s - loss: 2.2532e-04 - acc: 1.000 - ETA: 4s - loss: 2.3425e-04 - acc: 1.000 - ETA: 4s - loss: 2.3781e-04 - acc: 1.000 - ETA: 4s - loss: 2.2952e-04 - acc: 1.000 - ETA: 4s - loss: 2.5333e-04 - acc: 1.000 - ETA: 4s - loss: 2.3921e-04 - acc: 1.000 - ETA: 3s - loss: 2.3064e-04 - acc: 1.000 - ETA: 3s - loss: 2.4910e-04 - acc: 1.000 - ETA: 3s - loss: 2.6302e-04 - acc: 1.000 - ETA: 3s - loss: 2.6957e-04 - acc: 1.000 - ETA: 3s - loss: 2.7660e-04 - acc: 1.000 - ETA: 3s - loss: 2.7763e-04 - acc: 1.000 - ETA: 3s - loss: 2.7866e-04 - acc: 1.000 - ETA: 3s - loss: 2.6677e-04 - acc: 1.000 - ETA: 3s - loss: 2.6444e-04 - acc: 1.000 - ETA: 3s - loss: 2.5335e-04 - acc: 1.000 - ETA: 2s - loss: 2.4447e-04 - acc: 1.000 - ETA: 2s - loss: 2.4923e-04 - acc: 1.000 - ETA: 2s - loss: 2.4319e-04 - acc: 1.000 - ETA: 2s - loss: 2.4159e-04 - acc: 1.000 - ETA: 2s - loss: 2.4348e-04 - acc: 1.000 - ETA: 2s - loss: 2.4470e-04 - acc: 1.000 - ETA: 2s - loss: 2.4205e-04 - acc: 1.000 - ETA: 2s - loss: 2.4493e-04 - acc: 1.000 - ETA: 2s - loss: 2.3944e-04 - acc: 1.000 - ETA: 2s - loss: 2.3983e-04 - acc: 1.000 - ETA: 2s - loss: 4.8332e-04 - acc: 1.000 - ETA: 1s - loss: 4.7855e-04 - acc: 1.000 - ETA: 1s - loss: 4.7758e-04 - acc: 1.000 - ETA: 1s - loss: 4.7081e-04 - acc: 1.000 - ETA: 1s - loss: 4.6319e-04 - acc: 1.000 - ETA: 1s - loss: 4.5642e-04 - acc: 1.000 - ETA: 1s - loss: 4.4588e-04 - acc: 1.000 - ETA: 1s - loss: 4.5389e-04 - acc: 1.000 - ETA: 1s - loss: 4.4644e-04 - acc: 1.000 - ETA: 1s - loss: 0.0021 - acc: 0.9993    - ETA: 1s - loss: 0.0021 - acc: 0.999 - ETA: 1s - loss: 0.0020 - acc: 0.999 - ETA: 0s - loss: 0.0020 - acc: 0.999 - ETA: 0s - loss: 0.0020 - acc: 0.999 - ETA: 0s - loss: 0.0019 - acc: 0.999 - ETA: 0s - loss: 0.0019 - acc: 0.999 - ETA: 0s - loss: 0.0027 - acc: 0.998 - ETA: 0s - loss: 0.0032 - acc: 0.998 - ETA: 0s - loss: 0.0031 - acc: 0.998 - ETA: 0s - loss: 0.0031 - acc: 0.998 - ETA: 0s - loss: 0.0030 - acc: 0.998 - ETA: 0s - loss: 0.0030 - acc: 0.998 - ETA: 0s - loss: 0.0029 - acc: 0.998 - 5s 3ms/step - loss: 0.0029 - acc: 0.9989 - val_loss: 4.7852 - val_acc: 0.3885\n",
      "\n",
      "Epoch 00064: val_acc did not improve from 0.50993\n",
      "Epoch 65/100\n",
      "1808/1808 [==============================] - ETA: 4s - loss: 2.8089e-04 - acc: 1.000 - ETA: 4s - loss: 3.8172e-04 - acc: 1.000 - ETA: 4s - loss: 4.3069e-04 - acc: 1.000 - ETA: 4s - loss: 3.2360e-04 - acc: 1.000 - ETA: 4s - loss: 3.8588e-04 - acc: 1.000 - ETA: 4s - loss: 3.4680e-04 - acc: 1.000 - ETA: 4s - loss: 3.2443e-04 - acc: 1.000 - ETA: 4s - loss: 3.2436e-04 - acc: 1.000 - ETA: 4s - loss: 3.2066e-04 - acc: 1.000 - ETA: 4s - loss: 3.0246e-04 - acc: 1.000 - ETA: 4s - loss: 0.0020 - acc: 1.0000    - ETA: 4s - loss: 0.0018 - acc: 1.000 - ETA: 3s - loss: 0.0017 - acc: 1.000 - ETA: 3s - loss: 0.0016 - acc: 1.000 - ETA: 3s - loss: 0.0015 - acc: 1.000 - ETA: 3s - loss: 0.0014 - acc: 1.000 - ETA: 3s - loss: 0.0013 - acc: 1.000 - ETA: 3s - loss: 0.0013 - acc: 1.000 - ETA: 3s - loss: 0.0012 - acc: 1.000 - ETA: 3s - loss: 0.0012 - acc: 1.000 - ETA: 3s - loss: 0.0012 - acc: 1.000 - ETA: 3s - loss: 0.0012 - acc: 1.000 - ETA: 3s - loss: 0.0011 - acc: 1.000 - ETA: 2s - loss: 0.0011 - acc: 1.000 - ETA: 2s - loss: 0.0011 - acc: 1.000 - ETA: 2s - loss: 0.0010 - acc: 1.000 - ETA: 2s - loss: 0.0010 - acc: 1.000 - ETA: 2s - loss: 9.9840e-04 - acc: 1.000 - ETA: 2s - loss: 0.0011 - acc: 1.0000    - ETA: 2s - loss: 0.0010 - acc: 1.000 - ETA: 2s - loss: 0.0010 - acc: 1.000 - ETA: 2s - loss: 9.7251e-04 - acc: 1.000 - ETA: 2s - loss: 9.4850e-04 - acc: 1.000 - ETA: 2s - loss: 9.2509e-04 - acc: 1.000 - ETA: 1s - loss: 9.0848e-04 - acc: 1.000 - ETA: 1s - loss: 8.8626e-04 - acc: 1.000 - ETA: 1s - loss: 8.6767e-04 - acc: 1.000 - ETA: 1s - loss: 8.5728e-04 - acc: 1.000 - ETA: 1s - loss: 8.3899e-04 - acc: 1.000 - ETA: 1s - loss: 8.3192e-04 - acc: 1.000 - ETA: 1s - loss: 8.1879e-04 - acc: 1.000 - ETA: 1s - loss: 8.0561e-04 - acc: 1.000 - ETA: 1s - loss: 0.0028 - acc: 0.9993    - ETA: 1s - loss: 0.0027 - acc: 0.999 - ETA: 1s - loss: 0.0027 - acc: 0.999 - ETA: 0s - loss: 0.0026 - acc: 0.999 - ETA: 0s - loss: 0.0026 - acc: 0.999 - ETA: 0s - loss: 0.0025 - acc: 0.999 - ETA: 0s - loss: 0.0025 - acc: 0.999 - ETA: 0s - loss: 0.0024 - acc: 0.999 - ETA: 0s - loss: 0.0024 - acc: 0.999 - ETA: 0s - loss: 0.0023 - acc: 0.999 - ETA: 0s - loss: 0.0023 - acc: 0.999 - ETA: 0s - loss: 0.0023 - acc: 0.999 - ETA: 0s - loss: 0.0022 - acc: 0.999 - ETA: 0s - loss: 0.0022 - acc: 0.999 - 6s 3ms/step - loss: 0.0032 - acc: 0.9989 - val_loss: 4.9950 - val_acc: 0.3664\n",
      "\n",
      "Epoch 00065: val_acc did not improve from 0.50993\n",
      "Epoch 66/100\n",
      "1808/1808 [==============================] - ETA: 4s - loss: 1.9778e-04 - acc: 1.000 - ETA: 4s - loss: 3.4124e-04 - acc: 1.000 - ETA: 4s - loss: 0.0175 - acc: 0.9896    - ETA: 4s - loss: 0.0132 - acc: 0.992 - ETA: 4s - loss: 0.0106 - acc: 0.993 - ETA: 4s - loss: 0.0089 - acc: 0.994 - ETA: 4s - loss: 0.0077 - acc: 0.995 - ETA: 4s - loss: 0.0068 - acc: 0.996 - ETA: 4s - loss: 0.0060 - acc: 0.996 - ETA: 4s - loss: 0.0057 - acc: 0.996 - ETA: 4s - loss: 0.0052 - acc: 0.997 - ETA: 4s - loss: 0.0049 - acc: 0.997 - ETA: 4s - loss: 0.0045 - acc: 0.997 - ETA: 4s - loss: 0.0043 - acc: 0.997 - ETA: 4s - loss: 0.0041 - acc: 0.997 - ETA: 3s - loss: 0.0039 - acc: 0.998 - ETA: 3s - loss: 0.0037 - acc: 0.998 - ETA: 3s - loss: 0.0035 - acc: 0.998 - ETA: 3s - loss: 0.0034 - acc: 0.998 - ETA: 3s - loss: 0.0032 - acc: 0.998 - ETA: 3s - loss: 0.0031 - acc: 0.998 - ETA: 3s - loss: 0.0029 - acc: 0.998 - ETA: 3s - loss: 0.0028 - acc: 0.998 - ETA: 3s - loss: 0.0027 - acc: 0.998 - ETA: 3s - loss: 0.0026 - acc: 0.998 - ETA: 2s - loss: 0.0025 - acc: 0.998 - ETA: 2s - loss: 0.0025 - acc: 0.998 - ETA: 2s - loss: 0.0024 - acc: 0.998 - ETA: 2s - loss: 0.0023 - acc: 0.998 - ETA: 2s - loss: 0.0023 - acc: 0.999 - ETA: 2s - loss: 0.0022 - acc: 0.999 - ETA: 2s - loss: 0.0021 - acc: 0.999 - ETA: 2s - loss: 0.0021 - acc: 0.999 - ETA: 2s - loss: 0.0020 - acc: 0.999 - ETA: 2s - loss: 0.0020 - acc: 0.999 - ETA: 1s - loss: 0.0042 - acc: 0.998 - ETA: 1s - loss: 0.0041 - acc: 0.998 - ETA: 1s - loss: 0.0040 - acc: 0.998 - ETA: 1s - loss: 0.0039 - acc: 0.998 - ETA: 1s - loss: 0.0038 - acc: 0.998 - ETA: 1s - loss: 0.0037 - acc: 0.998 - ETA: 1s - loss: 0.0036 - acc: 0.998 - ETA: 1s - loss: 0.0035 - acc: 0.998 - ETA: 1s - loss: 0.0035 - acc: 0.998 - ETA: 1s - loss: 0.0034 - acc: 0.998 - ETA: 1s - loss: 0.0045 - acc: 0.998 - ETA: 0s - loss: 0.0044 - acc: 0.998 - ETA: 0s - loss: 0.0043 - acc: 0.998 - ETA: 0s - loss: 0.0043 - acc: 0.998 - ETA: 0s - loss: 0.0042 - acc: 0.998 - ETA: 0s - loss: 0.0041 - acc: 0.998 - ETA: 0s - loss: 0.0040 - acc: 0.998 - ETA: 0s - loss: 0.0040 - acc: 0.998 - ETA: 0s - loss: 0.0039 - acc: 0.998 - ETA: 0s - loss: 0.0038 - acc: 0.998 - ETA: 0s - loss: 0.0049 - acc: 0.997 - 6s 3ms/step - loss: 0.0048 - acc: 0.9978 - val_loss: 4.6447 - val_acc: 0.4040\n",
      "\n",
      "Epoch 00066: val_acc did not improve from 0.50993\n",
      "Epoch 67/100\n"
     ]
    },
    {
     "name": "stdout",
     "output_type": "stream",
     "text": [
      "1808/1808 [==============================] - ETA: 4s - loss: 2.5823e-04 - acc: 1.000 - ETA: 4s - loss: 1.8275e-04 - acc: 1.000 - ETA: 4s - loss: 1.3199e-04 - acc: 1.000 - ETA: 4s - loss: 1.6274e-04 - acc: 1.000 - ETA: 4s - loss: 2.7349e-04 - acc: 1.000 - ETA: 4s - loss: 2.7194e-04 - acc: 1.000 - ETA: 4s - loss: 2.9315e-04 - acc: 1.000 - ETA: 4s - loss: 3.0315e-04 - acc: 1.000 - ETA: 4s - loss: 0.0020 - acc: 1.0000    - ETA: 4s - loss: 0.0018 - acc: 1.000 - ETA: 4s - loss: 0.0017 - acc: 1.000 - ETA: 3s - loss: 0.0016 - acc: 1.000 - ETA: 3s - loss: 0.0015 - acc: 1.000 - ETA: 3s - loss: 0.0014 - acc: 1.000 - ETA: 3s - loss: 0.0013 - acc: 1.000 - ETA: 3s - loss: 0.0057 - acc: 0.998 - ETA: 3s - loss: 0.0053 - acc: 0.998 - ETA: 3s - loss: 0.0051 - acc: 0.998 - ETA: 3s - loss: 0.0048 - acc: 0.998 - ETA: 3s - loss: 0.0046 - acc: 0.998 - ETA: 3s - loss: 0.0044 - acc: 0.998 - ETA: 3s - loss: 0.0042 - acc: 0.998 - ETA: 2s - loss: 0.0040 - acc: 0.998 - ETA: 2s - loss: 0.0039 - acc: 0.998 - ETA: 2s - loss: 0.0048 - acc: 0.997 - ETA: 2s - loss: 0.0047 - acc: 0.997 - ETA: 2s - loss: 0.0045 - acc: 0.997 - ETA: 2s - loss: 0.0044 - acc: 0.997 - ETA: 2s - loss: 0.0042 - acc: 0.997 - ETA: 2s - loss: 0.0041 - acc: 0.997 - ETA: 2s - loss: 0.0040 - acc: 0.998 - ETA: 2s - loss: 0.0039 - acc: 0.998 - ETA: 2s - loss: 0.0038 - acc: 0.998 - ETA: 2s - loss: 0.0037 - acc: 0.998 - ETA: 1s - loss: 0.0036 - acc: 0.998 - ETA: 1s - loss: 0.0035 - acc: 0.998 - ETA: 1s - loss: 0.0048 - acc: 0.997 - ETA: 1s - loss: 0.0048 - acc: 0.997 - ETA: 1s - loss: 0.0046 - acc: 0.997 - ETA: 1s - loss: 0.0046 - acc: 0.997 - ETA: 1s - loss: 0.0049 - acc: 0.997 - ETA: 1s - loss: 0.0048 - acc: 0.997 - ETA: 1s - loss: 0.0047 - acc: 0.997 - ETA: 1s - loss: 0.0046 - acc: 0.997 - ETA: 1s - loss: 0.0045 - acc: 0.997 - ETA: 0s - loss: 0.0044 - acc: 0.998 - ETA: 0s - loss: 0.0043 - acc: 0.998 - ETA: 0s - loss: 0.0043 - acc: 0.998 - ETA: 0s - loss: 0.0042 - acc: 0.998 - ETA: 0s - loss: 0.0041 - acc: 0.998 - ETA: 0s - loss: 0.0041 - acc: 0.998 - ETA: 0s - loss: 0.0040 - acc: 0.998 - ETA: 0s - loss: 0.0039 - acc: 0.998 - ETA: 0s - loss: 0.0039 - acc: 0.998 - ETA: 0s - loss: 0.0038 - acc: 0.998 - ETA: 0s - loss: 0.0037 - acc: 0.998 - 5s 3ms/step - loss: 0.0037 - acc: 0.9983 - val_loss: 4.6844 - val_acc: 0.3974\n",
      "\n",
      "Epoch 00067: val_acc did not improve from 0.50993\n",
      "Epoch 68/100\n",
      "1808/1808 [==============================] - ETA: 3s - loss: 0.0028 - acc: 1.000 - ETA: 4s - loss: 0.0014 - acc: 1.000 - ETA: 4s - loss: 0.0012 - acc: 1.000 - ETA: 4s - loss: 9.4466e-04 - acc: 1.000 - ETA: 4s - loss: 7.9428e-04 - acc: 1.000 - ETA: 3s - loss: 0.0148 - acc: 0.9948    - ETA: 3s - loss: 0.0127 - acc: 0.995 - ETA: 3s - loss: 0.0111 - acc: 0.996 - ETA: 3s - loss: 0.0099 - acc: 0.996 - ETA: 3s - loss: 0.0089 - acc: 0.996 - ETA: 3s - loss: 0.0082 - acc: 0.997 - ETA: 3s - loss: 0.0075 - acc: 0.997 - ETA: 3s - loss: 0.0070 - acc: 0.997 - ETA: 3s - loss: 0.0065 - acc: 0.997 - ETA: 3s - loss: 0.0061 - acc: 0.997 - ETA: 3s - loss: 0.0057 - acc: 0.998 - ETA: 3s - loss: 0.0054 - acc: 0.998 - ETA: 3s - loss: 0.0076 - acc: 0.996 - ETA: 2s - loss: 0.0072 - acc: 0.996 - ETA: 2s - loss: 0.0069 - acc: 0.996 - ETA: 2s - loss: 0.0066 - acc: 0.997 - ETA: 2s - loss: 0.0063 - acc: 0.997 - ETA: 2s - loss: 0.0060 - acc: 0.997 - ETA: 2s - loss: 0.0058 - acc: 0.997 - ETA: 2s - loss: 0.0055 - acc: 0.997 - ETA: 2s - loss: 0.0053 - acc: 0.997 - ETA: 2s - loss: 0.0051 - acc: 0.997 - ETA: 2s - loss: 0.0050 - acc: 0.997 - ETA: 2s - loss: 0.0048 - acc: 0.997 - ETA: 2s - loss: 0.0047 - acc: 0.997 - ETA: 2s - loss: 0.0045 - acc: 0.998 - ETA: 2s - loss: 0.0044 - acc: 0.998 - ETA: 1s - loss: 0.0042 - acc: 0.998 - ETA: 1s - loss: 0.0041 - acc: 0.998 - ETA: 1s - loss: 0.0040 - acc: 0.998 - ETA: 1s - loss: 0.0039 - acc: 0.998 - ETA: 1s - loss: 0.0038 - acc: 0.998 - ETA: 1s - loss: 0.0037 - acc: 0.998 - ETA: 1s - loss: 0.0036 - acc: 0.998 - ETA: 1s - loss: 0.0035 - acc: 0.998 - ETA: 1s - loss: 0.0050 - acc: 0.997 - ETA: 1s - loss: 0.0049 - acc: 0.997 - ETA: 1s - loss: 0.0048 - acc: 0.997 - ETA: 1s - loss: 0.0059 - acc: 0.997 - ETA: 0s - loss: 0.0058 - acc: 0.997 - ETA: 0s - loss: 0.0057 - acc: 0.997 - ETA: 0s - loss: 0.0056 - acc: 0.997 - ETA: 0s - loss: 0.0054 - acc: 0.997 - ETA: 0s - loss: 0.0053 - acc: 0.997 - ETA: 0s - loss: 0.0052 - acc: 0.997 - ETA: 0s - loss: 0.0051 - acc: 0.997 - ETA: 0s - loss: 0.0050 - acc: 0.997 - ETA: 0s - loss: 0.0049 - acc: 0.997 - ETA: 0s - loss: 0.0049 - acc: 0.997 - ETA: 0s - loss: 0.0048 - acc: 0.997 - ETA: 0s - loss: 0.0047 - acc: 0.997 - 5s 3ms/step - loss: 0.0046 - acc: 0.9978 - val_loss: 4.7177 - val_acc: 0.3797\n",
      "\n",
      "Epoch 00068: val_acc did not improve from 0.50993\n",
      "Epoch 69/100\n",
      "1808/1808 [==============================] - ETA: 4s - loss: 0.0086 - acc: 1.000 - ETA: 4s - loss: 0.0043 - acc: 1.000 - ETA: 4s - loss: 0.0031 - acc: 1.000 - ETA: 4s - loss: 0.0025 - acc: 1.000 - ETA: 4s - loss: 0.0021 - acc: 1.000 - ETA: 4s - loss: 0.0018 - acc: 1.000 - ETA: 3s - loss: 0.0016 - acc: 1.000 - ETA: 3s - loss: 0.0014 - acc: 1.000 - ETA: 3s - loss: 0.0012 - acc: 1.000 - ETA: 3s - loss: 0.0011 - acc: 1.000 - ETA: 3s - loss: 0.0011 - acc: 1.000 - ETA: 3s - loss: 0.0024 - acc: 1.000 - ETA: 3s - loss: 0.0023 - acc: 1.000 - ETA: 3s - loss: 0.0021 - acc: 1.000 - ETA: 3s - loss: 0.0075 - acc: 0.997 - ETA: 3s - loss: 0.0071 - acc: 0.998 - ETA: 3s - loss: 0.0067 - acc: 0.998 - ETA: 3s - loss: 0.0063 - acc: 0.998 - ETA: 3s - loss: 0.0060 - acc: 0.998 - ETA: 3s - loss: 0.0057 - acc: 0.998 - ETA: 2s - loss: 0.0054 - acc: 0.998 - ETA: 2s - loss: 0.0052 - acc: 0.998 - ETA: 2s - loss: 0.0050 - acc: 0.998 - ETA: 2s - loss: 0.0048 - acc: 0.998 - ETA: 2s - loss: 0.0046 - acc: 0.998 - ETA: 2s - loss: 0.0044 - acc: 0.998 - ETA: 2s - loss: 0.0043 - acc: 0.998 - ETA: 2s - loss: 0.0069 - acc: 0.997 - ETA: 2s - loss: 0.0067 - acc: 0.997 - ETA: 2s - loss: 0.0065 - acc: 0.997 - ETA: 2s - loss: 0.0063 - acc: 0.998 - ETA: 2s - loss: 0.0061 - acc: 0.998 - ETA: 1s - loss: 0.0059 - acc: 0.998 - ETA: 1s - loss: 0.0057 - acc: 0.998 - ETA: 1s - loss: 0.0056 - acc: 0.998 - ETA: 1s - loss: 0.0054 - acc: 0.998 - ETA: 1s - loss: 0.0053 - acc: 0.998 - ETA: 1s - loss: 0.0052 - acc: 0.998 - ETA: 1s - loss: 0.0050 - acc: 0.998 - ETA: 1s - loss: 0.0049 - acc: 0.998 - ETA: 1s - loss: 0.0048 - acc: 0.998 - ETA: 1s - loss: 0.0047 - acc: 0.998 - ETA: 1s - loss: 0.0046 - acc: 0.998 - ETA: 1s - loss: 0.0045 - acc: 0.998 - ETA: 0s - loss: 0.0044 - acc: 0.998 - ETA: 0s - loss: 0.0043 - acc: 0.998 - ETA: 0s - loss: 0.0042 - acc: 0.998 - ETA: 0s - loss: 0.0041 - acc: 0.998 - ETA: 0s - loss: 0.0041 - acc: 0.998 - ETA: 0s - loss: 0.0040 - acc: 0.998 - ETA: 0s - loss: 0.0039 - acc: 0.998 - ETA: 0s - loss: 0.0038 - acc: 0.998 - ETA: 0s - loss: 0.0038 - acc: 0.998 - ETA: 0s - loss: 0.0037 - acc: 0.998 - ETA: 0s - loss: 0.0036 - acc: 0.998 - ETA: 0s - loss: 0.0036 - acc: 0.998 - 5s 3ms/step - loss: 0.0035 - acc: 0.9989 - val_loss: 4.8873 - val_acc: 0.3664\n",
      "\n",
      "Epoch 00069: val_acc did not improve from 0.50993\n",
      "Epoch 70/100\n"
     ]
    },
    {
     "name": "stdout",
     "output_type": "stream",
     "text": [
      "1808/1808 [==============================] - ETA: 4s - loss: 0.0073 - acc: 1.000 - ETA: 4s - loss: 0.0037 - acc: 1.000 - ETA: 4s - loss: 0.0026 - acc: 1.000 - ETA: 4s - loss: 0.0020 - acc: 1.000 - ETA: 4s - loss: 0.0016 - acc: 1.000 - ETA: 4s - loss: 0.0014 - acc: 1.000 - ETA: 4s - loss: 0.0012 - acc: 1.000 - ETA: 3s - loss: 0.0011 - acc: 1.000 - ETA: 3s - loss: 9.6415e-04 - acc: 1.000 - ETA: 3s - loss: 8.7043e-04 - acc: 1.000 - ETA: 3s - loss: 7.9918e-04 - acc: 1.000 - ETA: 3s - loss: 0.0024 - acc: 1.0000    - ETA: 3s - loss: 0.0022 - acc: 1.000 - ETA: 3s - loss: 0.0021 - acc: 1.000 - ETA: 3s - loss: 0.0119 - acc: 0.995 - ETA: 3s - loss: 0.0112 - acc: 0.996 - ETA: 3s - loss: 0.0105 - acc: 0.996 - ETA: 3s - loss: 0.0099 - acc: 0.996 - ETA: 3s - loss: 0.0094 - acc: 0.996 - ETA: 3s - loss: 0.0090 - acc: 0.996 - ETA: 2s - loss: 0.0086 - acc: 0.997 - ETA: 2s - loss: 0.0082 - acc: 0.997 - ETA: 2s - loss: 0.0079 - acc: 0.997 - ETA: 2s - loss: 0.0075 - acc: 0.997 - ETA: 2s - loss: 0.0073 - acc: 0.997 - ETA: 2s - loss: 0.0070 - acc: 0.997 - ETA: 2s - loss: 0.0068 - acc: 0.997 - ETA: 2s - loss: 0.0065 - acc: 0.997 - ETA: 2s - loss: 0.0064 - acc: 0.997 - ETA: 2s - loss: 0.0069 - acc: 0.997 - ETA: 2s - loss: 0.0067 - acc: 0.998 - ETA: 2s - loss: 0.0066 - acc: 0.998 - ETA: 1s - loss: 0.0064 - acc: 0.998 - ETA: 1s - loss: 0.0062 - acc: 0.998 - ETA: 1s - loss: 0.0061 - acc: 0.998 - ETA: 1s - loss: 0.0060 - acc: 0.998 - ETA: 1s - loss: 0.0059 - acc: 0.998 - ETA: 1s - loss: 0.0057 - acc: 0.998 - ETA: 1s - loss: 0.0057 - acc: 0.998 - ETA: 1s - loss: 0.0056 - acc: 0.998 - ETA: 1s - loss: 0.0055 - acc: 0.998 - ETA: 1s - loss: 0.0054 - acc: 0.998 - ETA: 1s - loss: 0.0053 - acc: 0.998 - ETA: 1s - loss: 0.0052 - acc: 0.998 - ETA: 0s - loss: 0.0051 - acc: 0.998 - ETA: 0s - loss: 0.0050 - acc: 0.998 - ETA: 0s - loss: 0.0049 - acc: 0.998 - ETA: 0s - loss: 0.0048 - acc: 0.998 - ETA: 0s - loss: 0.0047 - acc: 0.998 - ETA: 0s - loss: 0.0046 - acc: 0.998 - ETA: 0s - loss: 0.0046 - acc: 0.998 - ETA: 0s - loss: 0.0045 - acc: 0.998 - ETA: 0s - loss: 0.0044 - acc: 0.998 - ETA: 0s - loss: 0.0044 - acc: 0.998 - ETA: 0s - loss: 0.0043 - acc: 0.998 - ETA: 0s - loss: 0.0042 - acc: 0.998 - 5s 3ms/step - loss: 0.0042 - acc: 0.9989 - val_loss: 4.6986 - val_acc: 0.4106\n",
      "\n",
      "Epoch 00070: val_acc did not improve from 0.50993\n",
      "Epoch 71/100\n",
      "1808/1808 [==============================] - ETA: 4s - loss: 0.0013 - acc: 1.000 - ETA: 4s - loss: 0.0013 - acc: 1.000 - ETA: 4s - loss: 0.0016 - acc: 1.000 - ETA: 4s - loss: 0.0012 - acc: 1.000 - ETA: 3s - loss: 0.0011 - acc: 1.000 - ETA: 3s - loss: 9.3309e-04 - acc: 1.000 - ETA: 3s - loss: 8.4142e-04 - acc: 1.000 - ETA: 3s - loss: 7.8516e-04 - acc: 1.000 - ETA: 3s - loss: 7.7442e-04 - acc: 1.000 - ETA: 3s - loss: 7.6709e-04 - acc: 1.000 - ETA: 3s - loss: 7.5738e-04 - acc: 1.000 - ETA: 3s - loss: 7.0364e-04 - acc: 1.000 - ETA: 3s - loss: 6.9587e-04 - acc: 1.000 - ETA: 3s - loss: 6.6602e-04 - acc: 1.000 - ETA: 3s - loss: 6.5408e-04 - acc: 1.000 - ETA: 3s - loss: 0.0032 - acc: 0.9980    - ETA: 3s - loss: 0.0030 - acc: 0.998 - ETA: 3s - loss: 0.0029 - acc: 0.998 - ETA: 2s - loss: 0.0027 - acc: 0.998 - ETA: 2s - loss: 0.0026 - acc: 0.998 - ETA: 2s - loss: 0.0025 - acc: 0.998 - ETA: 2s - loss: 0.0024 - acc: 0.998 - ETA: 2s - loss: 0.0023 - acc: 0.998 - ETA: 2s - loss: 0.0022 - acc: 0.998 - ETA: 2s - loss: 0.0022 - acc: 0.998 - ETA: 2s - loss: 0.0021 - acc: 0.998 - ETA: 2s - loss: 0.0020 - acc: 0.998 - ETA: 2s - loss: 0.0020 - acc: 0.998 - ETA: 2s - loss: 0.0019 - acc: 0.998 - ETA: 2s - loss: 0.0019 - acc: 0.999 - ETA: 2s - loss: 0.0018 - acc: 0.999 - ETA: 1s - loss: 0.0036 - acc: 0.998 - ETA: 1s - loss: 0.0035 - acc: 0.998 - ETA: 1s - loss: 0.0035 - acc: 0.998 - ETA: 1s - loss: 0.0067 - acc: 0.997 - ETA: 1s - loss: 0.0065 - acc: 0.997 - ETA: 1s - loss: 0.0063 - acc: 0.997 - ETA: 1s - loss: 0.0062 - acc: 0.997 - ETA: 1s - loss: 0.0060 - acc: 0.997 - ETA: 1s - loss: 0.0059 - acc: 0.997 - ETA: 1s - loss: 0.0057 - acc: 0.997 - ETA: 1s - loss: 0.0056 - acc: 0.997 - ETA: 1s - loss: 0.0055 - acc: 0.997 - ETA: 0s - loss: 0.0054 - acc: 0.997 - ETA: 0s - loss: 0.0053 - acc: 0.997 - ETA: 0s - loss: 0.0051 - acc: 0.998 - ETA: 0s - loss: 0.0050 - acc: 0.998 - ETA: 0s - loss: 0.0049 - acc: 0.998 - ETA: 0s - loss: 0.0048 - acc: 0.998 - ETA: 0s - loss: 0.0047 - acc: 0.998 - ETA: 0s - loss: 0.0047 - acc: 0.998 - ETA: 0s - loss: 0.0046 - acc: 0.998 - ETA: 0s - loss: 0.0045 - acc: 0.998 - ETA: 0s - loss: 0.0044 - acc: 0.998 - ETA: 0s - loss: 0.0044 - acc: 0.998 - ETA: 0s - loss: 0.0043 - acc: 0.998 - 5s 3ms/step - loss: 0.0043 - acc: 0.9983 - val_loss: 5.4401 - val_acc: 0.3532\n",
      "\n",
      "Epoch 00071: val_acc did not improve from 0.50993\n",
      "Epoch 72/100\n",
      "1808/1808 [==============================] - ETA: 3s - loss: 3.4195e-04 - acc: 1.000 - ETA: 4s - loss: 0.0019 - acc: 1.0000    - ETA: 4s - loss: 0.0013 - acc: 1.000 - ETA: 4s - loss: 0.0019 - acc: 1.000 - ETA: 4s - loss: 0.0016 - acc: 1.000 - ETA: 4s - loss: 0.0013 - acc: 1.000 - ETA: 4s - loss: 0.0023 - acc: 1.000 - ETA: 3s - loss: 0.0020 - acc: 1.000 - ETA: 3s - loss: 0.0018 - acc: 1.000 - ETA: 3s - loss: 0.0017 - acc: 1.000 - ETA: 3s - loss: 0.0015 - acc: 1.000 - ETA: 3s - loss: 0.0014 - acc: 1.000 - ETA: 3s - loss: 0.0013 - acc: 1.000 - ETA: 3s - loss: 0.0013 - acc: 1.000 - ETA: 3s - loss: 0.0028 - acc: 0.997 - ETA: 3s - loss: 0.0026 - acc: 0.998 - ETA: 3s - loss: 0.0025 - acc: 0.998 - ETA: 3s - loss: 0.0024 - acc: 0.998 - ETA: 3s - loss: 0.0022 - acc: 0.998 - ETA: 2s - loss: 0.0021 - acc: 0.998 - ETA: 2s - loss: 0.0020 - acc: 0.998 - ETA: 2s - loss: 0.0020 - acc: 0.998 - ETA: 2s - loss: 0.0036 - acc: 0.997 - ETA: 2s - loss: 0.0034 - acc: 0.997 - ETA: 2s - loss: 0.0033 - acc: 0.997 - ETA: 2s - loss: 0.0032 - acc: 0.997 - ETA: 2s - loss: 0.0031 - acc: 0.997 - ETA: 2s - loss: 0.0030 - acc: 0.997 - ETA: 2s - loss: 0.0029 - acc: 0.997 - ETA: 2s - loss: 0.0029 - acc: 0.997 - ETA: 2s - loss: 0.0029 - acc: 0.998 - ETA: 1s - loss: 0.0028 - acc: 0.998 - ETA: 1s - loss: 0.0027 - acc: 0.998 - ETA: 1s - loss: 0.0027 - acc: 0.998 - ETA: 1s - loss: 0.0026 - acc: 0.998 - ETA: 1s - loss: 0.0025 - acc: 0.998 - ETA: 1s - loss: 0.0025 - acc: 0.998 - ETA: 1s - loss: 0.0024 - acc: 0.998 - ETA: 1s - loss: 0.0024 - acc: 0.998 - ETA: 1s - loss: 0.0023 - acc: 0.998 - ETA: 1s - loss: 0.0023 - acc: 0.998 - ETA: 1s - loss: 0.0022 - acc: 0.998 - ETA: 1s - loss: 0.0022 - acc: 0.998 - ETA: 0s - loss: 0.0021 - acc: 0.998 - ETA: 0s - loss: 0.0021 - acc: 0.998 - ETA: 0s - loss: 0.0021 - acc: 0.998 - ETA: 0s - loss: 0.0020 - acc: 0.998 - ETA: 0s - loss: 0.0020 - acc: 0.998 - ETA: 0s - loss: 0.0041 - acc: 0.998 - ETA: 0s - loss: 0.0040 - acc: 0.998 - ETA: 0s - loss: 0.0040 - acc: 0.998 - ETA: 0s - loss: 0.0039 - acc: 0.998 - ETA: 0s - loss: 0.0038 - acc: 0.998 - ETA: 0s - loss: 0.0038 - acc: 0.998 - ETA: 0s - loss: 0.0038 - acc: 0.998 - ETA: 0s - loss: 0.0037 - acc: 0.998 - 5s 3ms/step - loss: 0.0037 - acc: 0.9983 - val_loss: 4.7866 - val_acc: 0.4018\n",
      "\n",
      "Epoch 00072: val_acc did not improve from 0.50993\n",
      "Epoch 73/100\n"
     ]
    },
    {
     "name": "stdout",
     "output_type": "stream",
     "text": [
      "1808/1808 [==============================] - ETA: 3s - loss: 0.0011 - acc: 1.000 - ETA: 3s - loss: 8.4408e-04 - acc: 1.000 - ETA: 4s - loss: 6.4667e-04 - acc: 1.000 - ETA: 4s - loss: 4.8581e-04 - acc: 1.000 - ETA: 3s - loss: 4.8268e-04 - acc: 1.000 - ETA: 4s - loss: 0.0049 - acc: 0.9948    - ETA: 3s - loss: 0.0042 - acc: 0.995 - ETA: 3s - loss: 0.0037 - acc: 0.996 - ETA: 3s - loss: 0.0033 - acc: 0.996 - ETA: 3s - loss: 0.0030 - acc: 0.996 - ETA: 3s - loss: 0.0027 - acc: 0.997 - ETA: 3s - loss: 0.0025 - acc: 0.997 - ETA: 3s - loss: 0.0024 - acc: 0.997 - ETA: 3s - loss: 0.0022 - acc: 0.997 - ETA: 3s - loss: 0.0021 - acc: 0.997 - ETA: 3s - loss: 0.0020 - acc: 0.998 - ETA: 3s - loss: 0.0019 - acc: 0.998 - ETA: 3s - loss: 0.0018 - acc: 0.998 - ETA: 3s - loss: 0.0017 - acc: 0.998 - ETA: 2s - loss: 0.0068 - acc: 0.996 - ETA: 2s - loss: 0.0066 - acc: 0.997 - ETA: 2s - loss: 0.0063 - acc: 0.997 - ETA: 2s - loss: 0.0060 - acc: 0.997 - ETA: 2s - loss: 0.0058 - acc: 0.997 - ETA: 2s - loss: 0.0056 - acc: 0.997 - ETA: 2s - loss: 0.0054 - acc: 0.997 - ETA: 2s - loss: 0.0060 - acc: 0.997 - ETA: 2s - loss: 0.0057 - acc: 0.997 - ETA: 2s - loss: 0.0056 - acc: 0.997 - ETA: 2s - loss: 0.0054 - acc: 0.997 - ETA: 2s - loss: 0.0052 - acc: 0.998 - ETA: 1s - loss: 0.0068 - acc: 0.997 - ETA: 1s - loss: 0.0066 - acc: 0.997 - ETA: 1s - loss: 0.0064 - acc: 0.997 - ETA: 1s - loss: 0.0062 - acc: 0.997 - ETA: 1s - loss: 0.0060 - acc: 0.997 - ETA: 1s - loss: 0.0059 - acc: 0.997 - ETA: 1s - loss: 0.0057 - acc: 0.997 - ETA: 1s - loss: 0.0056 - acc: 0.997 - ETA: 1s - loss: 0.0054 - acc: 0.997 - ETA: 1s - loss: 0.0053 - acc: 0.997 - ETA: 1s - loss: 0.0052 - acc: 0.997 - ETA: 1s - loss: 0.0051 - acc: 0.997 - ETA: 1s - loss: 0.0050 - acc: 0.997 - ETA: 0s - loss: 0.0049 - acc: 0.997 - ETA: 0s - loss: 0.0048 - acc: 0.998 - ETA: 0s - loss: 0.0047 - acc: 0.998 - ETA: 0s - loss: 0.0046 - acc: 0.998 - ETA: 0s - loss: 0.0045 - acc: 0.998 - ETA: 0s - loss: 0.0044 - acc: 0.998 - ETA: 0s - loss: 0.0043 - acc: 0.998 - ETA: 0s - loss: 0.0042 - acc: 0.998 - ETA: 0s - loss: 0.0041 - acc: 0.998 - ETA: 0s - loss: 0.0041 - acc: 0.998 - ETA: 0s - loss: 0.0040 - acc: 0.998 - ETA: 0s - loss: 0.0039 - acc: 0.998 - 5s 3ms/step - loss: 0.0039 - acc: 0.9983 - val_loss: 4.8985 - val_acc: 0.3775\n",
      "\n",
      "Epoch 00073: val_acc did not improve from 0.50993\n",
      "Epoch 74/100\n",
      "1808/1808 [==============================] - ETA: 4s - loss: 1.8551e-04 - acc: 1.000 - ETA: 5s - loss: 2.2253e-04 - acc: 1.000 - ETA: 5s - loss: 2.7437e-04 - acc: 1.000 - ETA: 4s - loss: 2.3792e-04 - acc: 1.000 - ETA: 4s - loss: 2.4779e-04 - acc: 1.000 - ETA: 4s - loss: 2.1223e-04 - acc: 1.000 - ETA: 4s - loss: 2.0753e-04 - acc: 1.000 - ETA: 4s - loss: 2.0926e-04 - acc: 1.000 - ETA: 4s - loss: 1.8869e-04 - acc: 1.000 - ETA: 4s - loss: 2.4007e-04 - acc: 1.000 - ETA: 4s - loss: 2.2385e-04 - acc: 1.000 - ETA: 3s - loss: 2.2207e-04 - acc: 1.000 - ETA: 3s - loss: 2.2546e-04 - acc: 1.000 - ETA: 3s - loss: 2.2977e-04 - acc: 1.000 - ETA: 3s - loss: 2.4536e-04 - acc: 1.000 - ETA: 3s - loss: 0.0029 - acc: 0.9980    - ETA: 3s - loss: 0.0027 - acc: 0.998 - ETA: 3s - loss: 0.0026 - acc: 0.998 - ETA: 3s - loss: 0.0024 - acc: 0.998 - ETA: 3s - loss: 0.0023 - acc: 0.998 - ETA: 3s - loss: 0.0022 - acc: 0.998 - ETA: 2s - loss: 0.0021 - acc: 0.998 - ETA: 2s - loss: 0.0020 - acc: 0.998 - ETA: 2s - loss: 0.0020 - acc: 0.998 - ETA: 2s - loss: 0.0019 - acc: 0.998 - ETA: 2s - loss: 0.0018 - acc: 0.998 - ETA: 2s - loss: 0.0018 - acc: 0.998 - ETA: 2s - loss: 0.0017 - acc: 0.998 - ETA: 2s - loss: 0.0016 - acc: 0.998 - ETA: 2s - loss: 0.0017 - acc: 0.999 - ETA: 2s - loss: 0.0017 - acc: 0.999 - ETA: 2s - loss: 0.0016 - acc: 0.999 - ETA: 1s - loss: 0.0016 - acc: 0.999 - ETA: 1s - loss: 0.0015 - acc: 0.999 - ETA: 1s - loss: 0.0015 - acc: 0.999 - ETA: 1s - loss: 0.0014 - acc: 0.999 - ETA: 1s - loss: 0.0014 - acc: 0.999 - ETA: 1s - loss: 0.0036 - acc: 0.998 - ETA: 1s - loss: 0.0035 - acc: 0.998 - ETA: 1s - loss: 0.0036 - acc: 0.998 - ETA: 1s - loss: 0.0035 - acc: 0.998 - ETA: 1s - loss: 0.0035 - acc: 0.998 - ETA: 1s - loss: 0.0034 - acc: 0.998 - ETA: 1s - loss: 0.0033 - acc: 0.998 - ETA: 0s - loss: 0.0032 - acc: 0.998 - ETA: 0s - loss: 0.0032 - acc: 0.998 - ETA: 0s - loss: 0.0031 - acc: 0.998 - ETA: 0s - loss: 0.0030 - acc: 0.998 - ETA: 0s - loss: 0.0030 - acc: 0.998 - ETA: 0s - loss: 0.0029 - acc: 0.998 - ETA: 0s - loss: 0.0035 - acc: 0.998 - ETA: 0s - loss: 0.0035 - acc: 0.998 - ETA: 0s - loss: 0.0034 - acc: 0.998 - ETA: 0s - loss: 0.0033 - acc: 0.998 - ETA: 0s - loss: 0.0033 - acc: 0.998 - ETA: 0s - loss: 0.0032 - acc: 0.998 - 5s 3ms/step - loss: 0.0032 - acc: 0.9983 - val_loss: 5.2446 - val_acc: 0.3620\n",
      "\n",
      "Epoch 00074: val_acc did not improve from 0.50993\n",
      "Epoch 75/100\n",
      "1808/1808 [==============================] - ETA: 4s - loss: 7.8787e-05 - acc: 1.000 - ETA: 4s - loss: 0.0337 - acc: 0.9844    - ETA: 4s - loss: 0.0225 - acc: 0.989 - ETA: 4s - loss: 0.0169 - acc: 0.992 - ETA: 4s - loss: 0.0136 - acc: 0.993 - ETA: 4s - loss: 0.0113 - acc: 0.994 - ETA: 4s - loss: 0.0097 - acc: 0.995 - ETA: 3s - loss: 0.0085 - acc: 0.996 - ETA: 3s - loss: 0.0076 - acc: 0.996 - ETA: 3s - loss: 0.0069 - acc: 0.996 - ETA: 3s - loss: 0.0062 - acc: 0.997 - ETA: 3s - loss: 0.0057 - acc: 0.997 - ETA: 3s - loss: 0.0053 - acc: 0.997 - ETA: 3s - loss: 0.0049 - acc: 0.997 - ETA: 3s - loss: 0.0046 - acc: 0.997 - ETA: 3s - loss: 0.0043 - acc: 0.998 - ETA: 3s - loss: 0.0041 - acc: 0.998 - ETA: 3s - loss: 0.0039 - acc: 0.998 - ETA: 3s - loss: 0.0037 - acc: 0.998 - ETA: 3s - loss: 0.0035 - acc: 0.998 - ETA: 2s - loss: 0.0036 - acc: 0.998 - ETA: 2s - loss: 0.0065 - acc: 0.997 - ETA: 2s - loss: 0.0062 - acc: 0.997 - ETA: 2s - loss: 0.0059 - acc: 0.997 - ETA: 2s - loss: 0.0057 - acc: 0.997 - ETA: 2s - loss: 0.0055 - acc: 0.997 - ETA: 2s - loss: 0.0053 - acc: 0.997 - ETA: 2s - loss: 0.0051 - acc: 0.997 - ETA: 2s - loss: 0.0049 - acc: 0.997 - ETA: 2s - loss: 0.0048 - acc: 0.997 - ETA: 2s - loss: 0.0046 - acc: 0.998 - ETA: 2s - loss: 0.0045 - acc: 0.998 - ETA: 1s - loss: 0.0044 - acc: 0.998 - ETA: 1s - loss: 0.0042 - acc: 0.998 - ETA: 1s - loss: 0.0044 - acc: 0.998 - ETA: 1s - loss: 0.0042 - acc: 0.998 - ETA: 1s - loss: 0.0041 - acc: 0.998 - ETA: 1s - loss: 0.0040 - acc: 0.998 - ETA: 1s - loss: 0.0039 - acc: 0.998 - ETA: 1s - loss: 0.0038 - acc: 0.998 - ETA: 1s - loss: 0.0037 - acc: 0.998 - ETA: 1s - loss: 0.0037 - acc: 0.998 - ETA: 1s - loss: 0.0036 - acc: 0.998 - ETA: 1s - loss: 0.0035 - acc: 0.998 - ETA: 0s - loss: 0.0034 - acc: 0.998 - ETA: 0s - loss: 0.0034 - acc: 0.998 - ETA: 0s - loss: 0.0033 - acc: 0.998 - ETA: 0s - loss: 0.0032 - acc: 0.998 - ETA: 0s - loss: 0.0046 - acc: 0.998 - ETA: 0s - loss: 0.0045 - acc: 0.998 - ETA: 0s - loss: 0.0044 - acc: 0.998 - ETA: 0s - loss: 0.0043 - acc: 0.998 - ETA: 0s - loss: 0.0042 - acc: 0.998 - ETA: 0s - loss: 0.0042 - acc: 0.998 - ETA: 0s - loss: 0.0041 - acc: 0.998 - ETA: 0s - loss: 0.0040 - acc: 0.998 - 5s 3ms/step - loss: 0.0040 - acc: 0.9983 - val_loss: 5.0284 - val_acc: 0.3687\n",
      "\n",
      "Epoch 00075: val_acc did not improve from 0.50993\n",
      "Epoch 76/100\n"
     ]
    },
    {
     "name": "stdout",
     "output_type": "stream",
     "text": [
      "1808/1808 [==============================] - ETA: 3s - loss: 1.0134e-04 - acc: 1.000 - ETA: 3s - loss: 7.3720e-05 - acc: 1.000 - ETA: 3s - loss: 1.0114e-04 - acc: 1.000 - ETA: 3s - loss: 9.8842e-05 - acc: 1.000 - ETA: 3s - loss: 1.2536e-04 - acc: 1.000 - ETA: 3s - loss: 1.5527e-04 - acc: 1.000 - ETA: 3s - loss: 1.5692e-04 - acc: 1.000 - ETA: 3s - loss: 1.6607e-04 - acc: 1.000 - ETA: 3s - loss: 0.0050 - acc: 0.9965    - ETA: 3s - loss: 0.0045 - acc: 0.996 - ETA: 3s - loss: 0.0041 - acc: 0.997 - ETA: 3s - loss: 0.0038 - acc: 0.997 - ETA: 3s - loss: 0.0035 - acc: 0.997 - ETA: 3s - loss: 0.0033 - acc: 0.997 - ETA: 3s - loss: 0.0031 - acc: 0.997 - ETA: 3s - loss: 0.0029 - acc: 0.998 - ETA: 3s - loss: 0.0027 - acc: 0.998 - ETA: 3s - loss: 0.0026 - acc: 0.998 - ETA: 2s - loss: 0.0024 - acc: 0.998 - ETA: 2s - loss: 0.0023 - acc: 0.998 - ETA: 2s - loss: 0.0022 - acc: 0.998 - ETA: 2s - loss: 0.0022 - acc: 0.998 - ETA: 2s - loss: 0.0021 - acc: 0.998 - ETA: 2s - loss: 0.0020 - acc: 0.998 - ETA: 2s - loss: 0.0019 - acc: 0.998 - ETA: 2s - loss: 0.0019 - acc: 0.998 - ETA: 2s - loss: 0.0021 - acc: 0.998 - ETA: 2s - loss: 0.0020 - acc: 0.998 - ETA: 2s - loss: 0.0019 - acc: 0.998 - ETA: 2s - loss: 0.0019 - acc: 0.999 - ETA: 2s - loss: 0.0018 - acc: 0.999 - ETA: 2s - loss: 0.0018 - acc: 0.999 - ETA: 1s - loss: 0.0018 - acc: 0.999 - ETA: 1s - loss: 0.0017 - acc: 0.999 - ETA: 1s - loss: 0.0017 - acc: 0.999 - ETA: 1s - loss: 0.0017 - acc: 0.999 - ETA: 1s - loss: 0.0017 - acc: 0.999 - ETA: 1s - loss: 0.0034 - acc: 0.998 - ETA: 1s - loss: 0.0034 - acc: 0.998 - ETA: 1s - loss: 0.0033 - acc: 0.998 - ETA: 1s - loss: 0.0032 - acc: 0.998 - ETA: 1s - loss: 0.0053 - acc: 0.997 - ETA: 1s - loss: 0.0052 - acc: 0.997 - ETA: 1s - loss: 0.0051 - acc: 0.997 - ETA: 0s - loss: 0.0050 - acc: 0.997 - ETA: 0s - loss: 0.0049 - acc: 0.998 - ETA: 0s - loss: 0.0048 - acc: 0.998 - ETA: 0s - loss: 0.0047 - acc: 0.998 - ETA: 0s - loss: 0.0046 - acc: 0.998 - ETA: 0s - loss: 0.0045 - acc: 0.998 - ETA: 0s - loss: 0.0044 - acc: 0.998 - ETA: 0s - loss: 0.0043 - acc: 0.998 - ETA: 0s - loss: 0.0043 - acc: 0.998 - ETA: 0s - loss: 0.0042 - acc: 0.998 - ETA: 0s - loss: 0.0055 - acc: 0.997 - ETA: 0s - loss: 0.0054 - acc: 0.997 - 5s 3ms/step - loss: 0.0053 - acc: 0.9978 - val_loss: 5.0617 - val_acc: 0.3753\n",
      "\n",
      "Epoch 00076: val_acc did not improve from 0.50993\n",
      "Epoch 77/100\n",
      "1808/1808 [==============================] - ETA: 3s - loss: 1.3150e-04 - acc: 1.000 - ETA: 3s - loss: 9.9903e-05 - acc: 1.000 - ETA: 4s - loss: 1.1328e-04 - acc: 1.000 - ETA: 4s - loss: 1.7119e-04 - acc: 1.000 - ETA: 4s - loss: 1.8134e-04 - acc: 1.000 - ETA: 4s - loss: 1.5750e-04 - acc: 1.000 - ETA: 4s - loss: 1.4614e-04 - acc: 1.000 - ETA: 3s - loss: 1.4759e-04 - acc: 1.000 - ETA: 3s - loss: 1.3653e-04 - acc: 1.000 - ETA: 3s - loss: 1.3517e-04 - acc: 1.000 - ETA: 3s - loss: 1.3880e-04 - acc: 1.000 - ETA: 3s - loss: 1.5091e-04 - acc: 1.000 - ETA: 3s - loss: 1.5620e-04 - acc: 1.000 - ETA: 3s - loss: 1.4854e-04 - acc: 1.000 - ETA: 3s - loss: 1.6228e-04 - acc: 1.000 - ETA: 3s - loss: 1.7942e-04 - acc: 1.000 - ETA: 3s - loss: 1.9216e-04 - acc: 1.000 - ETA: 3s - loss: 1.9515e-04 - acc: 1.000 - ETA: 3s - loss: 1.9005e-04 - acc: 1.000 - ETA: 2s - loss: 1.9655e-04 - acc: 1.000 - ETA: 2s - loss: 1.9752e-04 - acc: 1.000 - ETA: 2s - loss: 0.0024 - acc: 0.9986    - ETA: 2s - loss: 0.0023 - acc: 0.998 - ETA: 2s - loss: 0.0023 - acc: 0.998 - ETA: 2s - loss: 0.0022 - acc: 0.998 - ETA: 2s - loss: 0.0021 - acc: 0.998 - ETA: 2s - loss: 0.0020 - acc: 0.998 - ETA: 2s - loss: 0.0020 - acc: 0.998 - ETA: 2s - loss: 0.0019 - acc: 0.998 - ETA: 2s - loss: 0.0018 - acc: 0.999 - ETA: 2s - loss: 0.0018 - acc: 0.999 - ETA: 1s - loss: 0.0017 - acc: 0.999 - ETA: 1s - loss: 0.0017 - acc: 0.999 - ETA: 1s - loss: 0.0018 - acc: 0.999 - ETA: 1s - loss: 0.0018 - acc: 0.999 - ETA: 1s - loss: 0.0018 - acc: 0.999 - ETA: 1s - loss: 0.0035 - acc: 0.998 - ETA: 1s - loss: 0.0034 - acc: 0.998 - ETA: 1s - loss: 0.0033 - acc: 0.998 - ETA: 1s - loss: 0.0032 - acc: 0.998 - ETA: 1s - loss: 0.0031 - acc: 0.998 - ETA: 1s - loss: 0.0031 - acc: 0.998 - ETA: 1s - loss: 0.0030 - acc: 0.998 - ETA: 1s - loss: 0.0029 - acc: 0.998 - ETA: 0s - loss: 0.0029 - acc: 0.998 - ETA: 0s - loss: 0.0028 - acc: 0.998 - ETA: 0s - loss: 0.0028 - acc: 0.998 - ETA: 0s - loss: 0.0027 - acc: 0.998 - ETA: 0s - loss: 0.0027 - acc: 0.998 - ETA: 0s - loss: 0.0035 - acc: 0.998 - ETA: 0s - loss: 0.0035 - acc: 0.998 - ETA: 0s - loss: 0.0040 - acc: 0.997 - ETA: 0s - loss: 0.0039 - acc: 0.997 - ETA: 0s - loss: 0.0038 - acc: 0.997 - ETA: 0s - loss: 0.0038 - acc: 0.997 - ETA: 0s - loss: 0.0037 - acc: 0.997 - 5s 3ms/step - loss: 0.0037 - acc: 0.9978 - val_loss: 4.8349 - val_acc: 0.3709\n",
      "\n",
      "Epoch 00077: val_acc did not improve from 0.50993\n",
      "Epoch 78/100\n",
      "1808/1808 [==============================] - ETA: 4s - loss: 1.5456e-04 - acc: 1.000 - ETA: 4s - loss: 1.9978e-04 - acc: 1.000 - ETA: 4s - loss: 0.0065 - acc: 1.0000    - ETA: 4s - loss: 0.0049 - acc: 1.000 - ETA: 4s - loss: 0.0040 - acc: 1.000 - ETA: 4s - loss: 0.0034 - acc: 1.000 - ETA: 4s - loss: 0.0029 - acc: 1.000 - ETA: 3s - loss: 0.0027 - acc: 1.000 - ETA: 3s - loss: 0.0024 - acc: 1.000 - ETA: 3s - loss: 0.0038 - acc: 1.000 - ETA: 3s - loss: 0.0036 - acc: 1.000 - ETA: 3s - loss: 0.0033 - acc: 1.000 - ETA: 3s - loss: 0.0031 - acc: 1.000 - ETA: 3s - loss: 0.0028 - acc: 1.000 - ETA: 3s - loss: 0.0027 - acc: 1.000 - ETA: 3s - loss: 0.0025 - acc: 1.000 - ETA: 3s - loss: 0.0024 - acc: 1.000 - ETA: 3s - loss: 0.0022 - acc: 1.000 - ETA: 3s - loss: 0.0021 - acc: 1.000 - ETA: 3s - loss: 0.0021 - acc: 1.000 - ETA: 2s - loss: 0.0020 - acc: 1.000 - ETA: 2s - loss: 0.0020 - acc: 1.000 - ETA: 2s - loss: 0.0020 - acc: 1.000 - ETA: 2s - loss: 0.0019 - acc: 1.000 - ETA: 2s - loss: 0.0018 - acc: 1.000 - ETA: 2s - loss: 0.0018 - acc: 1.000 - ETA: 2s - loss: 0.0017 - acc: 1.000 - ETA: 2s - loss: 0.0017 - acc: 1.000 - ETA: 2s - loss: 0.0017 - acc: 1.000 - ETA: 2s - loss: 0.0016 - acc: 1.000 - ETA: 2s - loss: 0.0016 - acc: 1.000 - ETA: 2s - loss: 0.0015 - acc: 1.000 - ETA: 1s - loss: 0.0015 - acc: 1.000 - ETA: 1s - loss: 0.0030 - acc: 0.999 - ETA: 1s - loss: 0.0029 - acc: 0.999 - ETA: 1s - loss: 0.0029 - acc: 0.999 - ETA: 1s - loss: 0.0057 - acc: 0.998 - ETA: 1s - loss: 0.0055 - acc: 0.998 - ETA: 1s - loss: 0.0054 - acc: 0.998 - ETA: 1s - loss: 0.0053 - acc: 0.998 - ETA: 1s - loss: 0.0051 - acc: 0.998 - ETA: 1s - loss: 0.0050 - acc: 0.998 - ETA: 1s - loss: 0.0049 - acc: 0.998 - ETA: 1s - loss: 0.0048 - acc: 0.998 - ETA: 0s - loss: 0.0047 - acc: 0.998 - ETA: 0s - loss: 0.0046 - acc: 0.998 - ETA: 0s - loss: 0.0045 - acc: 0.998 - ETA: 0s - loss: 0.0044 - acc: 0.998 - ETA: 0s - loss: 0.0043 - acc: 0.998 - ETA: 0s - loss: 0.0042 - acc: 0.998 - ETA: 0s - loss: 0.0042 - acc: 0.998 - ETA: 0s - loss: 0.0041 - acc: 0.998 - ETA: 0s - loss: 0.0040 - acc: 0.998 - ETA: 0s - loss: 0.0039 - acc: 0.998 - ETA: 0s - loss: 0.0039 - acc: 0.998 - ETA: 0s - loss: 0.0038 - acc: 0.998 - 5s 3ms/step - loss: 0.0038 - acc: 0.9989 - val_loss: 5.0698 - val_acc: 0.3664\n",
      "\n",
      "Epoch 00078: val_acc did not improve from 0.50993\n",
      "Epoch 79/100\n"
     ]
    },
    {
     "name": "stdout",
     "output_type": "stream",
     "text": [
      "1808/1808 [==============================] - ETA: 4s - loss: 2.1793e-04 - acc: 1.000 - ETA: 4s - loss: 1.8765e-04 - acc: 1.000 - ETA: 4s - loss: 2.2705e-04 - acc: 1.000 - ETA: 4s - loss: 2.3475e-04 - acc: 1.000 - ETA: 4s - loss: 2.0623e-04 - acc: 1.000 - ETA: 4s - loss: 1.9046e-04 - acc: 1.000 - ETA: 3s - loss: 1.7621e-04 - acc: 1.000 - ETA: 3s - loss: 1.5906e-04 - acc: 1.000 - ETA: 3s - loss: 1.6552e-04 - acc: 1.000 - ETA: 3s - loss: 1.5768e-04 - acc: 1.000 - ETA: 3s - loss: 2.1803e-04 - acc: 1.000 - ETA: 3s - loss: 2.2011e-04 - acc: 1.000 - ETA: 3s - loss: 2.0436e-04 - acc: 1.000 - ETA: 3s - loss: 0.0045 - acc: 0.9978    - ETA: 3s - loss: 0.0042 - acc: 0.997 - ETA: 3s - loss: 0.0046 - acc: 0.998 - ETA: 3s - loss: 0.0044 - acc: 0.998 - ETA: 3s - loss: 0.0041 - acc: 0.998 - ETA: 3s - loss: 0.0039 - acc: 0.998 - ETA: 2s - loss: 0.0037 - acc: 0.998 - ETA: 2s - loss: 0.0036 - acc: 0.998 - ETA: 2s - loss: 0.0044 - acc: 0.998 - ETA: 2s - loss: 0.0043 - acc: 0.998 - ETA: 2s - loss: 0.0041 - acc: 0.998 - ETA: 2s - loss: 0.0040 - acc: 0.998 - ETA: 2s - loss: 0.0038 - acc: 0.998 - ETA: 2s - loss: 0.0037 - acc: 0.998 - ETA: 2s - loss: 0.0035 - acc: 0.998 - ETA: 2s - loss: 0.0034 - acc: 0.998 - ETA: 2s - loss: 0.0033 - acc: 0.999 - ETA: 2s - loss: 0.0032 - acc: 0.999 - ETA: 1s - loss: 0.0031 - acc: 0.999 - ETA: 1s - loss: 0.0030 - acc: 0.999 - ETA: 1s - loss: 0.0034 - acc: 0.999 - ETA: 1s - loss: 0.0033 - acc: 0.999 - ETA: 1s - loss: 0.0032 - acc: 0.999 - ETA: 1s - loss: 0.0031 - acc: 0.999 - ETA: 1s - loss: 0.0031 - acc: 0.999 - ETA: 1s - loss: 0.0030 - acc: 0.999 - ETA: 1s - loss: 0.0029 - acc: 0.999 - ETA: 1s - loss: 0.0028 - acc: 0.999 - ETA: 1s - loss: 0.0028 - acc: 0.999 - ETA: 1s - loss: 0.0027 - acc: 0.999 - ETA: 1s - loss: 0.0027 - acc: 0.999 - ETA: 0s - loss: 0.0026 - acc: 0.999 - ETA: 0s - loss: 0.0026 - acc: 0.999 - ETA: 0s - loss: 0.0025 - acc: 0.999 - ETA: 0s - loss: 0.0025 - acc: 0.999 - ETA: 0s - loss: 0.0024 - acc: 0.999 - ETA: 0s - loss: 0.0024 - acc: 0.999 - ETA: 0s - loss: 0.0023 - acc: 0.999 - ETA: 0s - loss: 0.0023 - acc: 0.999 - ETA: 0s - loss: 0.0023 - acc: 0.999 - ETA: 0s - loss: 0.0029 - acc: 0.998 - ETA: 0s - loss: 0.0029 - acc: 0.998 - ETA: 0s - loss: 0.0029 - acc: 0.998 - 5s 3ms/step - loss: 0.0028 - acc: 0.9989 - val_loss: 4.7282 - val_acc: 0.3907\n",
      "\n",
      "Epoch 00079: val_acc did not improve from 0.50993\n",
      "Epoch 80/100\n",
      "1808/1808 [==============================] - ETA: 4s - loss: 7.6283e-05 - acc: 1.000 - ETA: 4s - loss: 6.1531e-05 - acc: 1.000 - ETA: 4s - loss: 0.0077 - acc: 0.9896    - ETA: 4s - loss: 0.0059 - acc: 0.992 - ETA: 4s - loss: 0.0050 - acc: 0.993 - ETA: 4s - loss: 0.0042 - acc: 0.994 - ETA: 3s - loss: 0.0036 - acc: 0.995 - ETA: 3s - loss: 0.0034 - acc: 0.996 - ETA: 3s - loss: 0.0030 - acc: 0.996 - ETA: 3s - loss: 0.0028 - acc: 0.996 - ETA: 3s - loss: 0.0026 - acc: 0.997 - ETA: 3s - loss: 0.0024 - acc: 0.997 - ETA: 3s - loss: 0.0023 - acc: 0.997 - ETA: 3s - loss: 0.0022 - acc: 0.997 - ETA: 3s - loss: 0.0021 - acc: 0.997 - ETA: 3s - loss: 0.0020 - acc: 0.998 - ETA: 3s - loss: 0.0019 - acc: 0.998 - ETA: 2s - loss: 0.0018 - acc: 0.998 - ETA: 2s - loss: 0.0017 - acc: 0.998 - ETA: 2s - loss: 0.0017 - acc: 0.998 - ETA: 2s - loss: 0.0016 - acc: 0.998 - ETA: 2s - loss: 0.0015 - acc: 0.998 - ETA: 2s - loss: 0.0015 - acc: 0.998 - ETA: 2s - loss: 0.0014 - acc: 0.998 - ETA: 2s - loss: 0.0014 - acc: 0.998 - ETA: 2s - loss: 0.0013 - acc: 0.998 - ETA: 2s - loss: 0.0013 - acc: 0.998 - ETA: 2s - loss: 0.0012 - acc: 0.998 - ETA: 2s - loss: 0.0012 - acc: 0.998 - ETA: 2s - loss: 0.0021 - acc: 0.997 - ETA: 1s - loss: 0.0021 - acc: 0.998 - ETA: 1s - loss: 0.0020 - acc: 0.998 - ETA: 1s - loss: 0.0020 - acc: 0.998 - ETA: 1s - loss: 0.0019 - acc: 0.998 - ETA: 1s - loss: 0.0019 - acc: 0.998 - ETA: 1s - loss: 0.0018 - acc: 0.998 - ETA: 1s - loss: 0.0018 - acc: 0.998 - ETA: 1s - loss: 0.0018 - acc: 0.998 - ETA: 1s - loss: 0.0017 - acc: 0.998 - ETA: 1s - loss: 0.0017 - acc: 0.998 - ETA: 1s - loss: 0.0016 - acc: 0.998 - ETA: 1s - loss: 0.0016 - acc: 0.998 - ETA: 1s - loss: 0.0016 - acc: 0.998 - ETA: 0s - loss: 0.0016 - acc: 0.998 - ETA: 0s - loss: 0.0015 - acc: 0.998 - ETA: 0s - loss: 0.0015 - acc: 0.998 - ETA: 0s - loss: 0.0015 - acc: 0.998 - ETA: 0s - loss: 0.0014 - acc: 0.998 - ETA: 0s - loss: 0.0014 - acc: 0.998 - ETA: 0s - loss: 0.0014 - acc: 0.998 - ETA: 0s - loss: 0.0014 - acc: 0.998 - ETA: 0s - loss: 0.0013 - acc: 0.998 - ETA: 0s - loss: 0.0013 - acc: 0.998 - ETA: 0s - loss: 0.0033 - acc: 0.998 - ETA: 0s - loss: 0.0033 - acc: 0.998 - ETA: 0s - loss: 0.0032 - acc: 0.998 - 5s 3ms/step - loss: 0.0032 - acc: 0.9983 - val_loss: 5.0442 - val_acc: 0.3819\n",
      "\n",
      "Epoch 00080: val_acc did not improve from 0.50993\n",
      "Epoch 81/100\n",
      "1808/1808 [==============================] - ETA: 4s - loss: 7.0428e-05 - acc: 1.000 - ETA: 4s - loss: 4.6560e-05 - acc: 1.000 - ETA: 4s - loss: 0.0073 - acc: 0.9896    - ETA: 4s - loss: 0.0055 - acc: 0.992 - ETA: 4s - loss: 0.0044 - acc: 0.993 - ETA: 4s - loss: 0.0074 - acc: 0.989 - ETA: 4s - loss: 0.0063 - acc: 0.991 - ETA: 4s - loss: 0.0056 - acc: 0.992 - ETA: 4s - loss: 0.0050 - acc: 0.993 - ETA: 3s - loss: 0.0045 - acc: 0.993 - ETA: 3s - loss: 0.0041 - acc: 0.994 - ETA: 3s - loss: 0.0037 - acc: 0.994 - ETA: 3s - loss: 0.0035 - acc: 0.995 - ETA: 3s - loss: 0.0032 - acc: 0.995 - ETA: 3s - loss: 0.0030 - acc: 0.995 - ETA: 3s - loss: 0.0028 - acc: 0.996 - ETA: 3s - loss: 0.0027 - acc: 0.996 - ETA: 3s - loss: 0.0026 - acc: 0.996 - ETA: 3s - loss: 0.0024 - acc: 0.996 - ETA: 3s - loss: 0.0023 - acc: 0.996 - ETA: 2s - loss: 0.0022 - acc: 0.997 - ETA: 2s - loss: 0.0021 - acc: 0.997 - ETA: 2s - loss: 0.0021 - acc: 0.997 - ETA: 2s - loss: 0.0024 - acc: 0.997 - ETA: 2s - loss: 0.0023 - acc: 0.997 - ETA: 2s - loss: 0.0053 - acc: 0.996 - ETA: 2s - loss: 0.0051 - acc: 0.996 - ETA: 2s - loss: 0.0066 - acc: 0.995 - ETA: 2s - loss: 0.0064 - acc: 0.995 - ETA: 2s - loss: 0.0062 - acc: 0.995 - ETA: 2s - loss: 0.0060 - acc: 0.996 - ETA: 2s - loss: 0.0058 - acc: 0.996 - ETA: 1s - loss: 0.0057 - acc: 0.996 - ETA: 1s - loss: 0.0055 - acc: 0.996 - ETA: 1s - loss: 0.0053 - acc: 0.996 - ETA: 1s - loss: 0.0052 - acc: 0.996 - ETA: 1s - loss: 0.0051 - acc: 0.996 - ETA: 1s - loss: 0.0050 - acc: 0.996 - ETA: 1s - loss: 0.0048 - acc: 0.996 - ETA: 1s - loss: 0.0047 - acc: 0.996 - ETA: 1s - loss: 0.0046 - acc: 0.997 - ETA: 1s - loss: 0.0045 - acc: 0.997 - ETA: 1s - loss: 0.0044 - acc: 0.997 - ETA: 1s - loss: 0.0043 - acc: 0.997 - ETA: 0s - loss: 0.0042 - acc: 0.997 - ETA: 0s - loss: 0.0042 - acc: 0.997 - ETA: 0s - loss: 0.0041 - acc: 0.997 - ETA: 0s - loss: 0.0040 - acc: 0.997 - ETA: 0s - loss: 0.0039 - acc: 0.997 - ETA: 0s - loss: 0.0039 - acc: 0.997 - ETA: 0s - loss: 0.0038 - acc: 0.997 - ETA: 0s - loss: 0.0037 - acc: 0.997 - ETA: 0s - loss: 0.0037 - acc: 0.997 - ETA: 0s - loss: 0.0036 - acc: 0.997 - ETA: 0s - loss: 0.0036 - acc: 0.997 - ETA: 0s - loss: 0.0035 - acc: 0.997 - 5s 3ms/step - loss: 0.0035 - acc: 0.9978 - val_loss: 5.1657 - val_acc: 0.3620\n",
      "\n",
      "Epoch 00081: val_acc did not improve from 0.50993\n",
      "Epoch 82/100\n"
     ]
    },
    {
     "name": "stdout",
     "output_type": "stream",
     "text": [
      "1808/1808 [==============================] - ETA: 4s - loss: 8.3175e-05 - acc: 1.000 - ETA: 4s - loss: 1.0202e-04 - acc: 1.000 - ETA: 4s - loss: 2.8299e-04 - acc: 1.000 - ETA: 4s - loss: 3.0640e-04 - acc: 1.000 - ETA: 4s - loss: 3.1929e-04 - acc: 1.000 - ETA: 4s - loss: 3.5480e-04 - acc: 1.000 - ETA: 4s - loss: 3.1940e-04 - acc: 1.000 - ETA: 4s - loss: 2.8546e-04 - acc: 1.000 - ETA: 3s - loss: 2.6245e-04 - acc: 1.000 - ETA: 3s - loss: 2.5132e-04 - acc: 1.000 - ETA: 3s - loss: 2.3464e-04 - acc: 1.000 - ETA: 3s - loss: 2.4445e-04 - acc: 1.000 - ETA: 3s - loss: 2.3547e-04 - acc: 1.000 - ETA: 3s - loss: 2.3590e-04 - acc: 1.000 - ETA: 3s - loss: 2.2921e-04 - acc: 1.000 - ETA: 3s - loss: 2.1868e-04 - acc: 1.000 - ETA: 3s - loss: 2.4608e-04 - acc: 1.000 - ETA: 3s - loss: 8.1589e-04 - acc: 1.000 - ETA: 3s - loss: 7.7880e-04 - acc: 1.000 - ETA: 3s - loss: 0.0033 - acc: 0.9984    - ETA: 2s - loss: 0.0032 - acc: 0.998 - ETA: 2s - loss: 0.0030 - acc: 0.998 - ETA: 2s - loss: 0.0029 - acc: 0.998 - ETA: 2s - loss: 0.0028 - acc: 0.998 - ETA: 2s - loss: 0.0027 - acc: 0.998 - ETA: 2s - loss: 0.0026 - acc: 0.998 - ETA: 2s - loss: 0.0025 - acc: 0.998 - ETA: 2s - loss: 0.0024 - acc: 0.998 - ETA: 2s - loss: 0.0023 - acc: 0.998 - ETA: 2s - loss: 0.0022 - acc: 0.999 - ETA: 2s - loss: 0.0022 - acc: 0.999 - ETA: 2s - loss: 0.0035 - acc: 0.998 - ETA: 1s - loss: 0.0034 - acc: 0.998 - ETA: 1s - loss: 0.0033 - acc: 0.998 - ETA: 1s - loss: 0.0032 - acc: 0.998 - ETA: 1s - loss: 0.0031 - acc: 0.998 - ETA: 1s - loss: 0.0030 - acc: 0.998 - ETA: 1s - loss: 0.0030 - acc: 0.998 - ETA: 1s - loss: 0.0031 - acc: 0.998 - ETA: 1s - loss: 0.0030 - acc: 0.998 - ETA: 1s - loss: 0.0029 - acc: 0.998 - ETA: 1s - loss: 0.0029 - acc: 0.998 - ETA: 1s - loss: 0.0029 - acc: 0.998 - ETA: 1s - loss: 0.0029 - acc: 0.998 - ETA: 0s - loss: 0.0028 - acc: 0.998 - ETA: 0s - loss: 0.0028 - acc: 0.998 - ETA: 0s - loss: 0.0027 - acc: 0.998 - ETA: 0s - loss: 0.0027 - acc: 0.998 - ETA: 0s - loss: 0.0026 - acc: 0.998 - ETA: 0s - loss: 0.0026 - acc: 0.998 - ETA: 0s - loss: 0.0026 - acc: 0.998 - ETA: 0s - loss: 0.0044 - acc: 0.998 - ETA: 0s - loss: 0.0044 - acc: 0.998 - ETA: 0s - loss: 0.0043 - acc: 0.998 - ETA: 0s - loss: 0.0042 - acc: 0.998 - ETA: 0s - loss: 0.0041 - acc: 0.998 - 5s 3ms/step - loss: 0.0041 - acc: 0.9983 - val_loss: 5.1794 - val_acc: 0.3797\n",
      "\n",
      "Epoch 00082: val_acc did not improve from 0.50993\n",
      "Epoch 83/100\n",
      "1808/1808 [==============================] - ETA: 4s - loss: 0.0413 - acc: 0.968 - ETA: 4s - loss: 0.0207 - acc: 0.984 - ETA: 4s - loss: 0.0138 - acc: 0.989 - ETA: 4s - loss: 0.0104 - acc: 0.992 - ETA: 4s - loss: 0.0083 - acc: 0.993 - ETA: 4s - loss: 0.0070 - acc: 0.994 - ETA: 3s - loss: 0.0060 - acc: 0.995 - ETA: 3s - loss: 0.0052 - acc: 0.996 - ETA: 3s - loss: 0.0047 - acc: 0.996 - ETA: 3s - loss: 0.0042 - acc: 0.996 - ETA: 3s - loss: 0.0038 - acc: 0.997 - ETA: 3s - loss: 0.0035 - acc: 0.997 - ETA: 3s - loss: 0.0033 - acc: 0.997 - ETA: 3s - loss: 0.0031 - acc: 0.997 - ETA: 3s - loss: 0.0029 - acc: 0.997 - ETA: 3s - loss: 0.0027 - acc: 0.998 - ETA: 3s - loss: 0.0026 - acc: 0.998 - ETA: 3s - loss: 0.0024 - acc: 0.998 - ETA: 3s - loss: 0.0023 - acc: 0.998 - ETA: 2s - loss: 0.0022 - acc: 0.998 - ETA: 2s - loss: 0.0021 - acc: 0.998 - ETA: 2s - loss: 0.0020 - acc: 0.998 - ETA: 2s - loss: 0.0019 - acc: 0.998 - ETA: 2s - loss: 0.0018 - acc: 0.998 - ETA: 2s - loss: 0.0018 - acc: 0.998 - ETA: 2s - loss: 0.0017 - acc: 0.998 - ETA: 2s - loss: 0.0016 - acc: 0.998 - ETA: 2s - loss: 0.0016 - acc: 0.998 - ETA: 2s - loss: 0.0015 - acc: 0.998 - ETA: 2s - loss: 0.0015 - acc: 0.999 - ETA: 2s - loss: 0.0014 - acc: 0.999 - ETA: 1s - loss: 0.0014 - acc: 0.999 - ETA: 1s - loss: 0.0014 - acc: 0.999 - ETA: 1s - loss: 0.0013 - acc: 0.999 - ETA: 1s - loss: 0.0013 - acc: 0.999 - ETA: 1s - loss: 0.0013 - acc: 0.999 - ETA: 1s - loss: 0.0012 - acc: 0.999 - ETA: 1s - loss: 0.0012 - acc: 0.999 - ETA: 1s - loss: 0.0012 - acc: 0.999 - ETA: 1s - loss: 0.0012 - acc: 0.999 - ETA: 1s - loss: 0.0011 - acc: 0.999 - ETA: 1s - loss: 0.0011 - acc: 0.999 - ETA: 1s - loss: 0.0013 - acc: 0.999 - ETA: 1s - loss: 0.0013 - acc: 0.999 - ETA: 0s - loss: 0.0013 - acc: 0.999 - ETA: 0s - loss: 0.0012 - acc: 0.999 - ETA: 0s - loss: 0.0012 - acc: 0.999 - ETA: 0s - loss: 0.0012 - acc: 0.999 - ETA: 0s - loss: 0.0012 - acc: 0.999 - ETA: 0s - loss: 0.0012 - acc: 0.999 - ETA: 0s - loss: 0.0011 - acc: 0.999 - ETA: 0s - loss: 0.0012 - acc: 0.999 - ETA: 0s - loss: 0.0012 - acc: 0.999 - ETA: 0s - loss: 0.0012 - acc: 0.999 - ETA: 0s - loss: 0.0024 - acc: 0.998 - ETA: 0s - loss: 0.0023 - acc: 0.998 - 5s 3ms/step - loss: 0.0037 - acc: 0.9983 - val_loss: 5.0260 - val_acc: 0.3863\n",
      "\n",
      "Epoch 00083: val_acc did not improve from 0.50993\n",
      "Epoch 84/100\n",
      "1808/1808 [==============================] - ETA: 4s - loss: 1.0650e-04 - acc: 1.000 - ETA: 4s - loss: 1.0928e-04 - acc: 1.000 - ETA: 4s - loss: 1.7894e-04 - acc: 1.000 - ETA: 4s - loss: 1.4141e-04 - acc: 1.000 - ETA: 4s - loss: 1.3509e-04 - acc: 1.000 - ETA: 4s - loss: 0.0169 - acc: 0.9948    - ETA: 4s - loss: 0.0145 - acc: 0.995 - ETA: 4s - loss: 0.0128 - acc: 0.996 - ETA: 3s - loss: 0.0114 - acc: 0.996 - ETA: 3s - loss: 0.0103 - acc: 0.996 - ETA: 3s - loss: 0.0094 - acc: 0.997 - ETA: 3s - loss: 0.0087 - acc: 0.997 - ETA: 3s - loss: 0.0080 - acc: 0.997 - ETA: 3s - loss: 0.0077 - acc: 0.997 - ETA: 3s - loss: 0.0073 - acc: 0.997 - ETA: 3s - loss: 0.0068 - acc: 0.998 - ETA: 3s - loss: 0.0064 - acc: 0.998 - ETA: 3s - loss: 0.0061 - acc: 0.998 - ETA: 3s - loss: 0.0058 - acc: 0.998 - ETA: 3s - loss: 0.0055 - acc: 0.998 - ETA: 2s - loss: 0.0054 - acc: 0.998 - ETA: 2s - loss: 0.0051 - acc: 0.998 - ETA: 2s - loss: 0.0049 - acc: 0.998 - ETA: 2s - loss: 0.0047 - acc: 0.998 - ETA: 2s - loss: 0.0045 - acc: 0.998 - ETA: 2s - loss: 0.0044 - acc: 0.998 - ETA: 2s - loss: 0.0042 - acc: 0.998 - ETA: 2s - loss: 0.0041 - acc: 0.998 - ETA: 2s - loss: 0.0060 - acc: 0.997 - ETA: 2s - loss: 0.0058 - acc: 0.997 - ETA: 2s - loss: 0.0056 - acc: 0.998 - ETA: 2s - loss: 0.0055 - acc: 0.998 - ETA: 1s - loss: 0.0077 - acc: 0.997 - ETA: 1s - loss: 0.0075 - acc: 0.997 - ETA: 1s - loss: 0.0073 - acc: 0.997 - ETA: 1s - loss: 0.0076 - acc: 0.997 - ETA: 1s - loss: 0.0074 - acc: 0.997 - ETA: 1s - loss: 0.0072 - acc: 0.997 - ETA: 1s - loss: 0.0071 - acc: 0.997 - ETA: 1s - loss: 0.0069 - acc: 0.997 - ETA: 1s - loss: 0.0067 - acc: 0.997 - ETA: 1s - loss: 0.0066 - acc: 0.997 - ETA: 1s - loss: 0.0064 - acc: 0.997 - ETA: 1s - loss: 0.0063 - acc: 0.997 - ETA: 0s - loss: 0.0061 - acc: 0.997 - ETA: 0s - loss: 0.0060 - acc: 0.998 - ETA: 0s - loss: 0.0059 - acc: 0.998 - ETA: 0s - loss: 0.0058 - acc: 0.998 - ETA: 0s - loss: 0.0057 - acc: 0.998 - ETA: 0s - loss: 0.0056 - acc: 0.998 - ETA: 0s - loss: 0.0055 - acc: 0.998 - ETA: 0s - loss: 0.0054 - acc: 0.998 - ETA: 0s - loss: 0.0053 - acc: 0.998 - ETA: 0s - loss: 0.0052 - acc: 0.998 - ETA: 0s - loss: 0.0051 - acc: 0.998 - ETA: 0s - loss: 0.0050 - acc: 0.998 - 5s 3ms/step - loss: 0.0050 - acc: 0.9983 - val_loss: 4.6040 - val_acc: 0.4106\n",
      "\n",
      "Epoch 00084: val_acc did not improve from 0.50993\n",
      "Epoch 85/100\n"
     ]
    },
    {
     "name": "stdout",
     "output_type": "stream",
     "text": [
      "1808/1808 [==============================] - ETA: 4s - loss: 1.3166e-04 - acc: 1.000 - ETA: 4s - loss: 3.6057e-04 - acc: 1.000 - ETA: 4s - loss: 3.7943e-04 - acc: 1.000 - ETA: 4s - loss: 0.0055 - acc: 1.0000    - ETA: 4s - loss: 0.0046 - acc: 1.000 - ETA: 4s - loss: 0.0038 - acc: 1.000 - ETA: 4s - loss: 0.0128 - acc: 0.995 - ETA: 3s - loss: 0.0113 - acc: 0.996 - ETA: 3s - loss: 0.0102 - acc: 0.996 - ETA: 3s - loss: 0.0092 - acc: 0.996 - ETA: 3s - loss: 0.0084 - acc: 0.997 - ETA: 3s - loss: 0.0077 - acc: 0.997 - ETA: 3s - loss: 0.0071 - acc: 0.997 - ETA: 3s - loss: 0.0067 - acc: 0.997 - ETA: 3s - loss: 0.0062 - acc: 0.997 - ETA: 3s - loss: 0.0059 - acc: 0.998 - ETA: 3s - loss: 0.0055 - acc: 0.998 - ETA: 3s - loss: 0.0052 - acc: 0.998 - ETA: 3s - loss: 0.0049 - acc: 0.998 - ETA: 2s - loss: 0.0047 - acc: 0.998 - ETA: 2s - loss: 0.0045 - acc: 0.998 - ETA: 2s - loss: 0.0043 - acc: 0.998 - ETA: 2s - loss: 0.0041 - acc: 0.998 - ETA: 2s - loss: 0.0040 - acc: 0.998 - ETA: 2s - loss: 0.0038 - acc: 0.998 - ETA: 2s - loss: 0.0037 - acc: 0.998 - ETA: 2s - loss: 0.0035 - acc: 0.998 - ETA: 2s - loss: 0.0034 - acc: 0.998 - ETA: 2s - loss: 0.0033 - acc: 0.998 - ETA: 2s - loss: 0.0032 - acc: 0.999 - ETA: 2s - loss: 0.0031 - acc: 0.999 - ETA: 1s - loss: 0.0030 - acc: 0.999 - ETA: 1s - loss: 0.0029 - acc: 0.999 - ETA: 1s - loss: 0.0029 - acc: 0.999 - ETA: 1s - loss: 0.0049 - acc: 0.998 - ETA: 1s - loss: 0.0048 - acc: 0.998 - ETA: 1s - loss: 0.0047 - acc: 0.998 - ETA: 1s - loss: 0.0058 - acc: 0.997 - ETA: 1s - loss: 0.0057 - acc: 0.997 - ETA: 1s - loss: 0.0067 - acc: 0.996 - ETA: 1s - loss: 0.0065 - acc: 0.997 - ETA: 1s - loss: 0.0064 - acc: 0.997 - ETA: 1s - loss: 0.0062 - acc: 0.997 - ETA: 1s - loss: 0.0061 - acc: 0.997 - ETA: 0s - loss: 0.0060 - acc: 0.997 - ETA: 0s - loss: 0.0058 - acc: 0.997 - ETA: 0s - loss: 0.0057 - acc: 0.997 - ETA: 0s - loss: 0.0056 - acc: 0.997 - ETA: 0s - loss: 0.0055 - acc: 0.997 - ETA: 0s - loss: 0.0054 - acc: 0.997 - ETA: 0s - loss: 0.0053 - acc: 0.997 - ETA: 0s - loss: 0.0052 - acc: 0.997 - ETA: 0s - loss: 0.0051 - acc: 0.997 - ETA: 0s - loss: 0.0050 - acc: 0.997 - ETA: 0s - loss: 0.0050 - acc: 0.997 - ETA: 0s - loss: 0.0049 - acc: 0.997 - 5s 3ms/step - loss: 0.0049 - acc: 0.9978 - val_loss: 4.6210 - val_acc: 0.4194\n",
      "\n",
      "Epoch 00085: val_acc did not improve from 0.50993\n",
      "Epoch 86/100\n",
      "1808/1808 [==============================] - ETA: 4s - loss: 7.9269e-04 - acc: 1.000 - ETA: 4s - loss: 5.3520e-04 - acc: 1.000 - ETA: 4s - loss: 4.4304e-04 - acc: 1.000 - ETA: 4s - loss: 5.2170e-04 - acc: 1.000 - ETA: 4s - loss: 4.1820e-04 - acc: 1.000 - ETA: 4s - loss: 0.0031 - acc: 1.0000    - ETA: 3s - loss: 0.0027 - acc: 1.000 - ETA: 3s - loss: 0.0025 - acc: 1.000 - ETA: 3s - loss: 0.0023 - acc: 1.000 - ETA: 3s - loss: 0.0021 - acc: 1.000 - ETA: 3s - loss: 0.0019 - acc: 1.000 - ETA: 3s - loss: 0.0018 - acc: 1.000 - ETA: 3s - loss: 0.0052 - acc: 0.997 - ETA: 3s - loss: 0.0048 - acc: 0.997 - ETA: 3s - loss: 0.0045 - acc: 0.997 - ETA: 3s - loss: 0.0042 - acc: 0.998 - ETA: 3s - loss: 0.0040 - acc: 0.998 - ETA: 3s - loss: 0.0039 - acc: 0.998 - ETA: 3s - loss: 0.0037 - acc: 0.998 - ETA: 2s - loss: 0.0035 - acc: 0.998 - ETA: 2s - loss: 0.0034 - acc: 0.998 - ETA: 2s - loss: 0.0032 - acc: 0.998 - ETA: 2s - loss: 0.0031 - acc: 0.998 - ETA: 2s - loss: 0.0030 - acc: 0.998 - ETA: 2s - loss: 0.0030 - acc: 0.998 - ETA: 2s - loss: 0.0029 - acc: 0.998 - ETA: 2s - loss: 0.0028 - acc: 0.998 - ETA: 2s - loss: 0.0027 - acc: 0.998 - ETA: 2s - loss: 0.0027 - acc: 0.998 - ETA: 2s - loss: 0.0026 - acc: 0.999 - ETA: 2s - loss: 0.0025 - acc: 0.999 - ETA: 1s - loss: 0.0025 - acc: 0.999 - ETA: 1s - loss: 0.0024 - acc: 0.999 - ETA: 1s - loss: 0.0024 - acc: 0.999 - ETA: 1s - loss: 0.0023 - acc: 0.999 - ETA: 1s - loss: 0.0023 - acc: 0.999 - ETA: 1s - loss: 0.0022 - acc: 0.999 - ETA: 1s - loss: 0.0021 - acc: 0.999 - ETA: 1s - loss: 0.0021 - acc: 0.999 - ETA: 1s - loss: 0.0020 - acc: 0.999 - ETA: 1s - loss: 0.0051 - acc: 0.998 - ETA: 1s - loss: 0.0050 - acc: 0.998 - ETA: 1s - loss: 0.0049 - acc: 0.998 - ETA: 1s - loss: 0.0048 - acc: 0.998 - ETA: 0s - loss: 0.0047 - acc: 0.998 - ETA: 0s - loss: 0.0046 - acc: 0.998 - ETA: 0s - loss: 0.0045 - acc: 0.998 - ETA: 0s - loss: 0.0044 - acc: 0.998 - ETA: 0s - loss: 0.0043 - acc: 0.998 - ETA: 0s - loss: 0.0042 - acc: 0.998 - ETA: 0s - loss: 0.0046 - acc: 0.998 - ETA: 0s - loss: 0.0045 - acc: 0.998 - ETA: 0s - loss: 0.0045 - acc: 0.998 - ETA: 0s - loss: 0.0044 - acc: 0.998 - ETA: 0s - loss: 0.0043 - acc: 0.998 - ETA: 0s - loss: 0.0042 - acc: 0.998 - 5s 3ms/step - loss: 0.0042 - acc: 0.9983 - val_loss: 5.0977 - val_acc: 0.3709\n",
      "\n",
      "Epoch 00086: val_acc did not improve from 0.50993\n",
      "Epoch 87/100\n",
      "1808/1808 [==============================] - ETA: 3s - loss: 3.9400e-04 - acc: 1.000 - ETA: 4s - loss: 2.6899e-04 - acc: 1.000 - ETA: 4s - loss: 2.7879e-04 - acc: 1.000 - ETA: 4s - loss: 2.3087e-04 - acc: 1.000 - ETA: 4s - loss: 4.6790e-04 - acc: 1.000 - ETA: 4s - loss: 3.9655e-04 - acc: 1.000 - ETA: 3s - loss: 3.4129e-04 - acc: 1.000 - ETA: 3s - loss: 3.1950e-04 - acc: 1.000 - ETA: 3s - loss: 3.1516e-04 - acc: 1.000 - ETA: 3s - loss: 2.9867e-04 - acc: 1.000 - ETA: 3s - loss: 2.8954e-04 - acc: 1.000 - ETA: 3s - loss: 2.6613e-04 - acc: 1.000 - ETA: 3s - loss: 0.0016 - acc: 1.0000    - ETA: 3s - loss: 0.0015 - acc: 1.000 - ETA: 3s - loss: 0.0014 - acc: 1.000 - ETA: 3s - loss: 0.0013 - acc: 1.000 - ETA: 3s - loss: 0.0012 - acc: 1.000 - ETA: 3s - loss: 0.0012 - acc: 1.000 - ETA: 3s - loss: 0.0011 - acc: 1.000 - ETA: 2s - loss: 0.0011 - acc: 1.000 - ETA: 2s - loss: 0.0010 - acc: 1.000 - ETA: 2s - loss: 9.9839e-04 - acc: 1.000 - ETA: 2s - loss: 9.7499e-04 - acc: 1.000 - ETA: 2s - loss: 9.3621e-04 - acc: 1.000 - ETA: 2s - loss: 9.0015e-04 - acc: 1.000 - ETA: 2s - loss: 8.6569e-04 - acc: 1.000 - ETA: 2s - loss: 8.4610e-04 - acc: 1.000 - ETA: 2s - loss: 8.2719e-04 - acc: 1.000 - ETA: 2s - loss: 8.0388e-04 - acc: 1.000 - ETA: 2s - loss: 7.8633e-04 - acc: 1.000 - ETA: 2s - loss: 7.6283e-04 - acc: 1.000 - ETA: 1s - loss: 7.5299e-04 - acc: 1.000 - ETA: 1s - loss: 7.3150e-04 - acc: 1.000 - ETA: 1s - loss: 7.1029e-04 - acc: 1.000 - ETA: 1s - loss: 6.9035e-04 - acc: 1.000 - ETA: 1s - loss: 6.7944e-04 - acc: 1.000 - ETA: 1s - loss: 0.0012 - acc: 1.0000    - ETA: 1s - loss: 0.0012 - acc: 1.000 - ETA: 1s - loss: 0.0012 - acc: 1.000 - ETA: 1s - loss: 0.0012 - acc: 1.000 - ETA: 1s - loss: 0.0012 - acc: 1.000 - ETA: 1s - loss: 0.0012 - acc: 1.000 - ETA: 1s - loss: 0.0012 - acc: 1.000 - ETA: 1s - loss: 0.0031 - acc: 0.999 - ETA: 0s - loss: 0.0031 - acc: 0.999 - ETA: 0s - loss: 0.0030 - acc: 0.999 - ETA: 0s - loss: 0.0030 - acc: 0.999 - ETA: 0s - loss: 0.0029 - acc: 0.999 - ETA: 0s - loss: 0.0028 - acc: 0.999 - ETA: 0s - loss: 0.0028 - acc: 0.999 - ETA: 0s - loss: 0.0027 - acc: 0.999 - ETA: 0s - loss: 0.0027 - acc: 0.999 - ETA: 0s - loss: 0.0026 - acc: 0.999 - ETA: 0s - loss: 0.0026 - acc: 0.999 - ETA: 0s - loss: 0.0026 - acc: 0.999 - ETA: 0s - loss: 0.0032 - acc: 0.998 - 5s 3ms/step - loss: 0.0032 - acc: 0.9989 - val_loss: 5.2591 - val_acc: 0.3664\n",
      "\n",
      "Epoch 00087: val_acc did not improve from 0.50993\n",
      "Epoch 88/100\n"
     ]
    },
    {
     "name": "stdout",
     "output_type": "stream",
     "text": [
      "1808/1808 [==============================] - ETA: 3s - loss: 7.9410e-05 - acc: 1.000 - ETA: 3s - loss: 5.8277e-05 - acc: 1.000 - ETA: 3s - loss: 1.0045e-04 - acc: 1.000 - ETA: 3s - loss: 8.2912e-05 - acc: 1.000 - ETA: 3s - loss: 2.0723e-04 - acc: 1.000 - ETA: 3s - loss: 2.0325e-04 - acc: 1.000 - ETA: 3s - loss: 1.8428e-04 - acc: 1.000 - ETA: 3s - loss: 0.0079 - acc: 0.9961    - ETA: 3s - loss: 0.0071 - acc: 0.996 - ETA: 3s - loss: 0.0065 - acc: 0.996 - ETA: 3s - loss: 0.0059 - acc: 0.997 - ETA: 3s - loss: 0.0054 - acc: 0.997 - ETA: 3s - loss: 0.0050 - acc: 0.997 - ETA: 3s - loss: 0.0046 - acc: 0.997 - ETA: 3s - loss: 0.0044 - acc: 0.997 - ETA: 3s - loss: 0.0041 - acc: 0.998 - ETA: 2s - loss: 0.0039 - acc: 0.998 - ETA: 2s - loss: 0.0037 - acc: 0.998 - ETA: 2s - loss: 0.0035 - acc: 0.998 - ETA: 2s - loss: 0.0033 - acc: 0.998 - ETA: 2s - loss: 0.0032 - acc: 0.998 - ETA: 2s - loss: 0.0030 - acc: 0.998 - ETA: 2s - loss: 0.0029 - acc: 0.998 - ETA: 2s - loss: 0.0028 - acc: 0.998 - ETA: 2s - loss: 0.0027 - acc: 0.998 - ETA: 2s - loss: 0.0026 - acc: 0.998 - ETA: 2s - loss: 0.0028 - acc: 0.998 - ETA: 2s - loss: 0.0028 - acc: 0.998 - ETA: 2s - loss: 0.0027 - acc: 0.998 - ETA: 2s - loss: 0.0026 - acc: 0.999 - ETA: 1s - loss: 0.0025 - acc: 0.999 - ETA: 1s - loss: 0.0025 - acc: 0.999 - ETA: 1s - loss: 0.0044 - acc: 0.998 - ETA: 1s - loss: 0.0043 - acc: 0.998 - ETA: 1s - loss: 0.0042 - acc: 0.998 - ETA: 1s - loss: 0.0041 - acc: 0.998 - ETA: 1s - loss: 0.0040 - acc: 0.998 - ETA: 1s - loss: 0.0039 - acc: 0.998 - ETA: 1s - loss: 0.0038 - acc: 0.998 - ETA: 1s - loss: 0.0037 - acc: 0.998 - ETA: 1s - loss: 0.0036 - acc: 0.998 - ETA: 1s - loss: 0.0036 - acc: 0.998 - ETA: 1s - loss: 0.0035 - acc: 0.998 - ETA: 0s - loss: 0.0034 - acc: 0.998 - ETA: 0s - loss: 0.0033 - acc: 0.998 - ETA: 0s - loss: 0.0033 - acc: 0.998 - ETA: 0s - loss: 0.0032 - acc: 0.998 - ETA: 0s - loss: 0.0031 - acc: 0.998 - ETA: 0s - loss: 0.0031 - acc: 0.998 - ETA: 0s - loss: 0.0030 - acc: 0.998 - ETA: 0s - loss: 0.0029 - acc: 0.998 - ETA: 0s - loss: 0.0031 - acc: 0.998 - ETA: 0s - loss: 0.0031 - acc: 0.998 - ETA: 0s - loss: 0.0039 - acc: 0.998 - ETA: 0s - loss: 0.0038 - acc: 0.998 - ETA: 0s - loss: 0.0038 - acc: 0.998 - 5s 3ms/step - loss: 0.0037 - acc: 0.9983 - val_loss: 5.1466 - val_acc: 0.3576\n",
      "\n",
      "Epoch 00088: val_acc did not improve from 0.50993\n",
      "Epoch 89/100\n",
      "1808/1808 [==============================] - ETA: 4s - loss: 0.0144 - acc: 1.000 - ETA: 4s - loss: 0.0073 - acc: 1.000 - ETA: 4s - loss: 0.0049 - acc: 1.000 - ETA: 4s - loss: 0.0037 - acc: 1.000 - ETA: 4s - loss: 0.0043 - acc: 1.000 - ETA: 4s - loss: 0.0036 - acc: 1.000 - ETA: 3s - loss: 0.0031 - acc: 1.000 - ETA: 3s - loss: 0.0027 - acc: 1.000 - ETA: 3s - loss: 0.0025 - acc: 1.000 - ETA: 3s - loss: 0.0022 - acc: 1.000 - ETA: 3s - loss: 0.0021 - acc: 1.000 - ETA: 3s - loss: 0.0019 - acc: 1.000 - ETA: 3s - loss: 0.0018 - acc: 1.000 - ETA: 3s - loss: 0.0017 - acc: 1.000 - ETA: 3s - loss: 0.0059 - acc: 0.997 - ETA: 3s - loss: 0.0055 - acc: 0.998 - ETA: 3s - loss: 0.0052 - acc: 0.998 - ETA: 3s - loss: 0.0050 - acc: 0.998 - ETA: 3s - loss: 0.0047 - acc: 0.998 - ETA: 2s - loss: 0.0045 - acc: 0.998 - ETA: 2s - loss: 0.0043 - acc: 0.998 - ETA: 2s - loss: 0.0041 - acc: 0.998 - ETA: 2s - loss: 0.0039 - acc: 0.998 - ETA: 2s - loss: 0.0038 - acc: 0.998 - ETA: 2s - loss: 0.0036 - acc: 0.998 - ETA: 2s - loss: 0.0035 - acc: 0.998 - ETA: 2s - loss: 0.0034 - acc: 0.998 - ETA: 2s - loss: 0.0033 - acc: 0.998 - ETA: 2s - loss: 0.0031 - acc: 0.998 - ETA: 2s - loss: 0.0034 - acc: 0.999 - ETA: 2s - loss: 0.0033 - acc: 0.999 - ETA: 1s - loss: 0.0031 - acc: 0.999 - ETA: 1s - loss: 0.0031 - acc: 0.999 - ETA: 1s - loss: 0.0030 - acc: 0.999 - ETA: 1s - loss: 0.0029 - acc: 0.999 - ETA: 1s - loss: 0.0029 - acc: 0.999 - ETA: 1s - loss: 0.0028 - acc: 0.999 - ETA: 1s - loss: 0.0027 - acc: 0.999 - ETA: 1s - loss: 0.0027 - acc: 0.999 - ETA: 1s - loss: 0.0026 - acc: 0.999 - ETA: 1s - loss: 0.0026 - acc: 0.999 - ETA: 1s - loss: 0.0025 - acc: 0.999 - ETA: 1s - loss: 0.0025 - acc: 0.999 - ETA: 1s - loss: 0.0024 - acc: 0.999 - ETA: 0s - loss: 0.0024 - acc: 0.999 - ETA: 0s - loss: 0.0023 - acc: 0.999 - ETA: 0s - loss: 0.0023 - acc: 0.999 - ETA: 0s - loss: 0.0022 - acc: 0.999 - ETA: 0s - loss: 0.0026 - acc: 0.999 - ETA: 0s - loss: 0.0025 - acc: 0.999 - ETA: 0s - loss: 0.0025 - acc: 0.999 - ETA: 0s - loss: 0.0025 - acc: 0.999 - ETA: 0s - loss: 0.0024 - acc: 0.999 - ETA: 0s - loss: 0.0024 - acc: 0.999 - ETA: 0s - loss: 0.0024 - acc: 0.999 - ETA: 0s - loss: 0.0023 - acc: 0.999 - 5s 3ms/step - loss: 0.0023 - acc: 0.9994 - val_loss: 4.8221 - val_acc: 0.4106\n",
      "\n",
      "Epoch 00089: val_acc did not improve from 0.50993\n",
      "Epoch 90/100\n",
      "1808/1808 [==============================] - ETA: 3s - loss: 0.0016 - acc: 1.000 - ETA: 4s - loss: 9.8247e-04 - acc: 1.000 - ETA: 4s - loss: 7.9022e-04 - acc: 1.000 - ETA: 4s - loss: 6.0788e-04 - acc: 1.000 - ETA: 4s - loss: 4.8674e-04 - acc: 1.000 - ETA: 3s - loss: 4.0923e-04 - acc: 1.000 - ETA: 3s - loss: 7.1412e-04 - acc: 1.000 - ETA: 3s - loss: 6.4259e-04 - acc: 1.000 - ETA: 3s - loss: 5.7516e-04 - acc: 1.000 - ETA: 3s - loss: 5.2902e-04 - acc: 1.000 - ETA: 3s - loss: 0.0093 - acc: 0.9972    - ETA: 3s - loss: 0.0086 - acc: 0.997 - ETA: 3s - loss: 0.0079 - acc: 0.997 - ETA: 3s - loss: 0.0074 - acc: 0.997 - ETA: 3s - loss: 0.0069 - acc: 0.997 - ETA: 3s - loss: 0.0065 - acc: 0.998 - ETA: 3s - loss: 0.0061 - acc: 0.998 - ETA: 3s - loss: 0.0057 - acc: 0.998 - ETA: 2s - loss: 0.0067 - acc: 0.996 - ETA: 2s - loss: 0.0064 - acc: 0.996 - ETA: 2s - loss: 0.0061 - acc: 0.997 - ETA: 2s - loss: 0.0058 - acc: 0.997 - ETA: 2s - loss: 0.0056 - acc: 0.997 - ETA: 2s - loss: 0.0053 - acc: 0.997 - ETA: 2s - loss: 0.0051 - acc: 0.997 - ETA: 2s - loss: 0.0049 - acc: 0.997 - ETA: 2s - loss: 0.0048 - acc: 0.997 - ETA: 2s - loss: 0.0046 - acc: 0.997 - ETA: 2s - loss: 0.0044 - acc: 0.997 - ETA: 2s - loss: 0.0043 - acc: 0.997 - ETA: 2s - loss: 0.0042 - acc: 0.998 - ETA: 1s - loss: 0.0040 - acc: 0.998 - ETA: 1s - loss: 0.0039 - acc: 0.998 - ETA: 1s - loss: 0.0038 - acc: 0.998 - ETA: 1s - loss: 0.0037 - acc: 0.998 - ETA: 1s - loss: 0.0036 - acc: 0.998 - ETA: 1s - loss: 0.0035 - acc: 0.998 - ETA: 1s - loss: 0.0034 - acc: 0.998 - ETA: 1s - loss: 0.0033 - acc: 0.998 - ETA: 1s - loss: 0.0033 - acc: 0.998 - ETA: 1s - loss: 0.0032 - acc: 0.998 - ETA: 1s - loss: 0.0031 - acc: 0.998 - ETA: 1s - loss: 0.0043 - acc: 0.997 - ETA: 1s - loss: 0.0042 - acc: 0.997 - ETA: 0s - loss: 0.0041 - acc: 0.997 - ETA: 0s - loss: 0.0041 - acc: 0.998 - ETA: 0s - loss: 0.0040 - acc: 0.998 - ETA: 0s - loss: 0.0039 - acc: 0.998 - ETA: 0s - loss: 0.0038 - acc: 0.998 - ETA: 0s - loss: 0.0038 - acc: 0.998 - ETA: 0s - loss: 0.0037 - acc: 0.998 - ETA: 0s - loss: 0.0036 - acc: 0.998 - ETA: 0s - loss: 0.0035 - acc: 0.998 - ETA: 0s - loss: 0.0035 - acc: 0.998 - ETA: 0s - loss: 0.0034 - acc: 0.998 - ETA: 0s - loss: 0.0034 - acc: 0.998 - 5s 3ms/step - loss: 0.0033 - acc: 0.9983 - val_loss: 5.1739 - val_acc: 0.3753\n",
      "\n",
      "Epoch 00090: val_acc did not improve from 0.50993\n",
      "Epoch 91/100\n"
     ]
    },
    {
     "name": "stdout",
     "output_type": "stream",
     "text": [
      "1808/1808 [==============================] - ETA: 4s - loss: 2.4641e-04 - acc: 1.000 - ETA: 4s - loss: 1.4754e-04 - acc: 1.000 - ETA: 4s - loss: 2.0136e-04 - acc: 1.000 - ETA: 4s - loss: 0.0068 - acc: 0.9922    - ETA: 4s - loss: 0.0054 - acc: 0.993 - ETA: 4s - loss: 0.0046 - acc: 0.994 - ETA: 3s - loss: 0.0039 - acc: 0.995 - ETA: 3s - loss: 0.0034 - acc: 0.996 - ETA: 3s - loss: 0.0031 - acc: 0.996 - ETA: 3s - loss: 0.0028 - acc: 0.996 - ETA: 3s - loss: 0.0025 - acc: 0.997 - ETA: 3s - loss: 0.0023 - acc: 0.997 - ETA: 3s - loss: 0.0021 - acc: 0.997 - ETA: 3s - loss: 0.0020 - acc: 0.997 - ETA: 3s - loss: 0.0019 - acc: 0.997 - ETA: 3s - loss: 0.0018 - acc: 0.998 - ETA: 3s - loss: 0.0017 - acc: 0.998 - ETA: 3s - loss: 0.0016 - acc: 0.998 - ETA: 3s - loss: 0.0015 - acc: 0.998 - ETA: 3s - loss: 0.0014 - acc: 0.998 - ETA: 2s - loss: 0.0014 - acc: 0.998 - ETA: 2s - loss: 0.0013 - acc: 0.998 - ETA: 2s - loss: 0.0013 - acc: 0.998 - ETA: 2s - loss: 0.0042 - acc: 0.997 - ETA: 2s - loss: 0.0041 - acc: 0.997 - ETA: 2s - loss: 0.0039 - acc: 0.997 - ETA: 2s - loss: 0.0038 - acc: 0.997 - ETA: 2s - loss: 0.0037 - acc: 0.997 - ETA: 2s - loss: 0.0053 - acc: 0.996 - ETA: 2s - loss: 0.0052 - acc: 0.996 - ETA: 2s - loss: 0.0056 - acc: 0.997 - ETA: 2s - loss: 0.0054 - acc: 0.997 - ETA: 1s - loss: 0.0053 - acc: 0.997 - ETA: 1s - loss: 0.0051 - acc: 0.997 - ETA: 1s - loss: 0.0050 - acc: 0.997 - ETA: 1s - loss: 0.0049 - acc: 0.997 - ETA: 1s - loss: 0.0047 - acc: 0.997 - ETA: 1s - loss: 0.0046 - acc: 0.997 - ETA: 1s - loss: 0.0045 - acc: 0.997 - ETA: 1s - loss: 0.0044 - acc: 0.997 - ETA: 1s - loss: 0.0043 - acc: 0.997 - ETA: 1s - loss: 0.0042 - acc: 0.997 - ETA: 1s - loss: 0.0041 - acc: 0.997 - ETA: 1s - loss: 0.0040 - acc: 0.997 - ETA: 0s - loss: 0.0039 - acc: 0.997 - ETA: 0s - loss: 0.0038 - acc: 0.998 - ETA: 0s - loss: 0.0038 - acc: 0.998 - ETA: 0s - loss: 0.0037 - acc: 0.998 - ETA: 0s - loss: 0.0036 - acc: 0.998 - ETA: 0s - loss: 0.0035 - acc: 0.998 - ETA: 0s - loss: 0.0035 - acc: 0.998 - ETA: 0s - loss: 0.0034 - acc: 0.998 - ETA: 0s - loss: 0.0034 - acc: 0.998 - ETA: 0s - loss: 0.0033 - acc: 0.998 - ETA: 0s - loss: 0.0032 - acc: 0.998 - ETA: 0s - loss: 0.0032 - acc: 0.998 - 5s 3ms/step - loss: 0.0031 - acc: 0.9983 - val_loss: 5.1600 - val_acc: 0.3775\n",
      "\n",
      "Epoch 00091: val_acc did not improve from 0.50993\n",
      "Epoch 92/100\n",
      "1808/1808 [==============================] - ETA: 4s - loss: 1.6921e-05 - acc: 1.000 - ETA: 4s - loss: 1.2650e-04 - acc: 1.000 - ETA: 4s - loss: 9.2159e-05 - acc: 1.000 - ETA: 4s - loss: 7.6593e-05 - acc: 1.000 - ETA: 4s - loss: 1.1437e-04 - acc: 1.000 - ETA: 4s - loss: 0.0037 - acc: 1.0000    - ETA: 4s - loss: 0.0032 - acc: 1.000 - ETA: 3s - loss: 0.0028 - acc: 1.000 - ETA: 3s - loss: 0.0025 - acc: 1.000 - ETA: 3s - loss: 0.0022 - acc: 1.000 - ETA: 3s - loss: 0.0052 - acc: 0.997 - ETA: 3s - loss: 0.0048 - acc: 0.997 - ETA: 3s - loss: 0.0044 - acc: 0.997 - ETA: 3s - loss: 0.0041 - acc: 0.997 - ETA: 3s - loss: 0.0039 - acc: 0.997 - ETA: 3s - loss: 0.0036 - acc: 0.998 - ETA: 3s - loss: 0.0034 - acc: 0.998 - ETA: 3s - loss: 0.0032 - acc: 0.998 - ETA: 3s - loss: 0.0044 - acc: 0.996 - ETA: 2s - loss: 0.0041 - acc: 0.996 - ETA: 2s - loss: 0.0039 - acc: 0.997 - ETA: 2s - loss: 0.0038 - acc: 0.997 - ETA: 2s - loss: 0.0036 - acc: 0.997 - ETA: 2s - loss: 0.0035 - acc: 0.997 - ETA: 2s - loss: 0.0034 - acc: 0.997 - ETA: 2s - loss: 0.0032 - acc: 0.997 - ETA: 2s - loss: 0.0031 - acc: 0.997 - ETA: 2s - loss: 0.0030 - acc: 0.997 - ETA: 2s - loss: 0.0029 - acc: 0.997 - ETA: 2s - loss: 0.0028 - acc: 0.997 - ETA: 2s - loss: 0.0027 - acc: 0.998 - ETA: 1s - loss: 0.0026 - acc: 0.998 - ETA: 1s - loss: 0.0026 - acc: 0.998 - ETA: 1s - loss: 0.0025 - acc: 0.998 - ETA: 1s - loss: 0.0025 - acc: 0.998 - ETA: 1s - loss: 0.0025 - acc: 0.998 - ETA: 1s - loss: 0.0024 - acc: 0.998 - ETA: 1s - loss: 0.0024 - acc: 0.998 - ETA: 1s - loss: 0.0023 - acc: 0.998 - ETA: 1s - loss: 0.0023 - acc: 0.998 - ETA: 1s - loss: 0.0022 - acc: 0.998 - ETA: 1s - loss: 0.0021 - acc: 0.998 - ETA: 1s - loss: 0.0021 - acc: 0.998 - ETA: 1s - loss: 0.0021 - acc: 0.998 - ETA: 0s - loss: 0.0020 - acc: 0.998 - ETA: 0s - loss: 0.0020 - acc: 0.998 - ETA: 0s - loss: 0.0019 - acc: 0.998 - ETA: 0s - loss: 0.0019 - acc: 0.998 - ETA: 0s - loss: 0.0019 - acc: 0.998 - ETA: 0s - loss: 0.0018 - acc: 0.998 - ETA: 0s - loss: 0.0018 - acc: 0.998 - ETA: 0s - loss: 0.0018 - acc: 0.998 - ETA: 0s - loss: 0.0017 - acc: 0.998 - ETA: 0s - loss: 0.0017 - acc: 0.998 - ETA: 0s - loss: 0.0035 - acc: 0.998 - ETA: 0s - loss: 0.0034 - acc: 0.998 - 5s 3ms/step - loss: 0.0034 - acc: 0.9983 - val_loss: 5.1193 - val_acc: 0.3753\n",
      "\n",
      "Epoch 00092: val_acc did not improve from 0.50993\n",
      "Epoch 93/100\n",
      "1808/1808 [==============================] - ETA: 4s - loss: 0.0123 - acc: 1.000 - ETA: 4s - loss: 0.0063 - acc: 1.000 - ETA: 4s - loss: 0.0042 - acc: 1.000 - ETA: 4s - loss: 0.0032 - acc: 1.000 - ETA: 4s - loss: 0.0026 - acc: 1.000 - ETA: 4s - loss: 0.0022 - acc: 1.000 - ETA: 3s - loss: 0.0019 - acc: 1.000 - ETA: 3s - loss: 0.0069 - acc: 0.996 - ETA: 3s - loss: 0.0062 - acc: 0.996 - ETA: 3s - loss: 0.0056 - acc: 0.996 - ETA: 3s - loss: 0.0051 - acc: 0.997 - ETA: 3s - loss: 0.0047 - acc: 0.997 - ETA: 3s - loss: 0.0043 - acc: 0.997 - ETA: 3s - loss: 0.0040 - acc: 0.997 - ETA: 3s - loss: 0.0038 - acc: 0.997 - ETA: 3s - loss: 0.0036 - acc: 0.998 - ETA: 3s - loss: 0.0034 - acc: 0.998 - ETA: 3s - loss: 0.0032 - acc: 0.998 - ETA: 3s - loss: 0.0031 - acc: 0.998 - ETA: 3s - loss: 0.0029 - acc: 0.998 - ETA: 2s - loss: 0.0028 - acc: 0.998 - ETA: 2s - loss: 0.0027 - acc: 0.998 - ETA: 2s - loss: 0.0026 - acc: 0.998 - ETA: 2s - loss: 0.0025 - acc: 0.998 - ETA: 2s - loss: 0.0024 - acc: 0.998 - ETA: 2s - loss: 0.0023 - acc: 0.998 - ETA: 2s - loss: 0.0023 - acc: 0.998 - ETA: 2s - loss: 0.0022 - acc: 0.998 - ETA: 2s - loss: 0.0021 - acc: 0.998 - ETA: 2s - loss: 0.0021 - acc: 0.999 - ETA: 2s - loss: 0.0020 - acc: 0.999 - ETA: 2s - loss: 0.0020 - acc: 0.999 - ETA: 1s - loss: 0.0019 - acc: 0.999 - ETA: 1s - loss: 0.0019 - acc: 0.999 - ETA: 1s - loss: 0.0018 - acc: 0.999 - ETA: 1s - loss: 0.0018 - acc: 0.999 - ETA: 1s - loss: 0.0017 - acc: 0.999 - ETA: 1s - loss: 0.0017 - acc: 0.999 - ETA: 1s - loss: 0.0017 - acc: 0.999 - ETA: 1s - loss: 0.0016 - acc: 0.999 - ETA: 1s - loss: 0.0032 - acc: 0.998 - ETA: 1s - loss: 0.0031 - acc: 0.998 - ETA: 1s - loss: 0.0030 - acc: 0.998 - ETA: 1s - loss: 0.0029 - acc: 0.998 - ETA: 0s - loss: 0.0029 - acc: 0.998 - ETA: 0s - loss: 0.0033 - acc: 0.998 - ETA: 0s - loss: 0.0033 - acc: 0.998 - ETA: 0s - loss: 0.0032 - acc: 0.998 - ETA: 0s - loss: 0.0032 - acc: 0.998 - ETA: 0s - loss: 0.0031 - acc: 0.998 - ETA: 0s - loss: 0.0030 - acc: 0.998 - ETA: 0s - loss: 0.0030 - acc: 0.998 - ETA: 0s - loss: 0.0029 - acc: 0.998 - ETA: 0s - loss: 0.0047 - acc: 0.997 - ETA: 0s - loss: 0.0047 - acc: 0.997 - ETA: 0s - loss: 0.0046 - acc: 0.997 - 5s 3ms/step - loss: 0.0045 - acc: 0.9978 - val_loss: 4.8918 - val_acc: 0.3951\n",
      "\n",
      "Epoch 00093: val_acc did not improve from 0.50993\n",
      "Epoch 94/100\n"
     ]
    },
    {
     "name": "stdout",
     "output_type": "stream",
     "text": [
      "1808/1808 [==============================] - ETA: 4s - loss: 7.8310e-05 - acc: 1.000 - ETA: 4s - loss: 1.7614e-04 - acc: 1.000 - ETA: 4s - loss: 2.8639e-04 - acc: 1.000 - ETA: 4s - loss: 2.4300e-04 - acc: 1.000 - ETA: 4s - loss: 2.5192e-04 - acc: 1.000 - ETA: 4s - loss: 2.1203e-04 - acc: 1.000 - ETA: 3s - loss: 2.1133e-04 - acc: 1.000 - ETA: 3s - loss: 2.1831e-04 - acc: 1.000 - ETA: 3s - loss: 3.8958e-04 - acc: 1.000 - ETA: 3s - loss: 3.5251e-04 - acc: 1.000 - ETA: 3s - loss: 3.3097e-04 - acc: 1.000 - ETA: 3s - loss: 3.1107e-04 - acc: 1.000 - ETA: 3s - loss: 0.0019 - acc: 1.0000    - ETA: 3s - loss: 0.0019 - acc: 1.000 - ETA: 3s - loss: 0.0018 - acc: 1.000 - ETA: 3s - loss: 0.0017 - acc: 1.000 - ETA: 3s - loss: 0.0016 - acc: 1.000 - ETA: 3s - loss: 0.0015 - acc: 1.000 - ETA: 3s - loss: 0.0015 - acc: 1.000 - ETA: 2s - loss: 0.0014 - acc: 1.000 - ETA: 2s - loss: 0.0013 - acc: 1.000 - ETA: 2s - loss: 0.0013 - acc: 1.000 - ETA: 2s - loss: 0.0013 - acc: 1.000 - ETA: 2s - loss: 0.0012 - acc: 1.000 - ETA: 2s - loss: 0.0012 - acc: 1.000 - ETA: 2s - loss: 0.0012 - acc: 1.000 - ETA: 2s - loss: 0.0011 - acc: 1.000 - ETA: 2s - loss: 0.0016 - acc: 1.000 - ETA: 2s - loss: 0.0028 - acc: 0.998 - ETA: 2s - loss: 0.0027 - acc: 0.999 - ETA: 2s - loss: 0.0026 - acc: 0.999 - ETA: 1s - loss: 0.0026 - acc: 0.999 - ETA: 1s - loss: 0.0025 - acc: 0.999 - ETA: 1s - loss: 0.0025 - acc: 0.999 - ETA: 1s - loss: 0.0041 - acc: 0.998 - ETA: 1s - loss: 0.0040 - acc: 0.998 - ETA: 1s - loss: 0.0039 - acc: 0.998 - ETA: 1s - loss: 0.0038 - acc: 0.998 - ETA: 1s - loss: 0.0037 - acc: 0.998 - ETA: 1s - loss: 0.0036 - acc: 0.998 - ETA: 1s - loss: 0.0035 - acc: 0.998 - ETA: 1s - loss: 0.0034 - acc: 0.998 - ETA: 1s - loss: 0.0033 - acc: 0.998 - ETA: 1s - loss: 0.0033 - acc: 0.998 - ETA: 0s - loss: 0.0032 - acc: 0.998 - ETA: 0s - loss: 0.0031 - acc: 0.998 - ETA: 0s - loss: 0.0031 - acc: 0.998 - ETA: 0s - loss: 0.0030 - acc: 0.998 - ETA: 0s - loss: 0.0030 - acc: 0.998 - ETA: 0s - loss: 0.0029 - acc: 0.998 - ETA: 0s - loss: 0.0040 - acc: 0.998 - ETA: 0s - loss: 0.0040 - acc: 0.998 - ETA: 0s - loss: 0.0039 - acc: 0.998 - ETA: 0s - loss: 0.0038 - acc: 0.998 - ETA: 0s - loss: 0.0038 - acc: 0.998 - ETA: 0s - loss: 0.0037 - acc: 0.998 - 5s 3ms/step - loss: 0.0037 - acc: 0.9983 - val_loss: 4.7800 - val_acc: 0.3951\n",
      "\n",
      "Epoch 00094: val_acc did not improve from 0.50993\n",
      "Epoch 95/100\n",
      "1808/1808 [==============================] - ETA: 4s - loss: 1.9566e-04 - acc: 1.000 - ETA: 4s - loss: 1.6179e-04 - acc: 1.000 - ETA: 4s - loss: 2.9770e-04 - acc: 1.000 - ETA: 4s - loss: 5.3182e-04 - acc: 1.000 - ETA: 4s - loss: 4.7146e-04 - acc: 1.000 - ETA: 4s - loss: 3.9724e-04 - acc: 1.000 - ETA: 4s - loss: 4.0903e-04 - acc: 1.000 - ETA: 3s - loss: 3.9702e-04 - acc: 1.000 - ETA: 3s - loss: 3.5753e-04 - acc: 1.000 - ETA: 3s - loss: 3.2445e-04 - acc: 1.000 - ETA: 3s - loss: 3.2860e-04 - acc: 1.000 - ETA: 3s - loss: 3.2979e-04 - acc: 1.000 - ETA: 3s - loss: 3.2335e-04 - acc: 1.000 - ETA: 3s - loss: 3.2604e-04 - acc: 1.000 - ETA: 3s - loss: 3.2540e-04 - acc: 1.000 - ETA: 3s - loss: 3.4463e-04 - acc: 1.000 - ETA: 3s - loss: 3.2642e-04 - acc: 1.000 - ETA: 3s - loss: 9.3814e-04 - acc: 1.000 - ETA: 3s - loss: 8.9376e-04 - acc: 1.000 - ETA: 3s - loss: 8.5103e-04 - acc: 1.000 - ETA: 2s - loss: 8.1307e-04 - acc: 1.000 - ETA: 2s - loss: 7.8397e-04 - acc: 1.000 - ETA: 2s - loss: 7.5234e-04 - acc: 1.000 - ETA: 2s - loss: 7.3660e-04 - acc: 1.000 - ETA: 2s - loss: 7.1206e-04 - acc: 1.000 - ETA: 2s - loss: 7.0259e-04 - acc: 1.000 - ETA: 2s - loss: 6.7748e-04 - acc: 1.000 - ETA: 2s - loss: 6.7178e-04 - acc: 1.000 - ETA: 2s - loss: 6.4934e-04 - acc: 1.000 - ETA: 2s - loss: 6.4894e-04 - acc: 1.000 - ETA: 2s - loss: 6.5179e-04 - acc: 1.000 - ETA: 2s - loss: 6.3549e-04 - acc: 1.000 - ETA: 1s - loss: 6.2418e-04 - acc: 1.000 - ETA: 1s - loss: 6.1741e-04 - acc: 1.000 - ETA: 1s - loss: 6.0235e-04 - acc: 1.000 - ETA: 1s - loss: 5.9869e-04 - acc: 1.000 - ETA: 1s - loss: 6.7149e-04 - acc: 1.000 - ETA: 1s - loss: 6.5566e-04 - acc: 1.000 - ETA: 1s - loss: 6.4194e-04 - acc: 1.000 - ETA: 1s - loss: 6.2806e-04 - acc: 1.000 - ETA: 1s - loss: 6.3005e-04 - acc: 1.000 - ETA: 1s - loss: 6.4116e-04 - acc: 1.000 - ETA: 1s - loss: 6.2819e-04 - acc: 1.000 - ETA: 0s - loss: 6.1740e-04 - acc: 1.000 - ETA: 0s - loss: 6.0621e-04 - acc: 1.000 - ETA: 0s - loss: 9.0516e-04 - acc: 1.000 - ETA: 0s - loss: 8.9175e-04 - acc: 1.000 - ETA: 0s - loss: 8.7645e-04 - acc: 1.000 - ETA: 0s - loss: 0.0027 - acc: 0.9994    - ETA: 0s - loss: 0.0026 - acc: 0.999 - ETA: 0s - loss: 0.0026 - acc: 0.999 - ETA: 0s - loss: 0.0033 - acc: 0.998 - ETA: 0s - loss: 0.0032 - acc: 0.998 - ETA: 0s - loss: 0.0032 - acc: 0.998 - ETA: 0s - loss: 0.0031 - acc: 0.998 - ETA: 0s - loss: 0.0031 - acc: 0.998 - 5s 3ms/step - loss: 0.0031 - acc: 0.9989 - val_loss: 5.0897 - val_acc: 0.3841\n",
      "\n",
      "Epoch 00095: val_acc did not improve from 0.50993\n",
      "Epoch 96/100\n",
      "1808/1808 [==============================] - ETA: 4s - loss: 3.3392e-04 - acc: 1.000 - ETA: 4s - loss: 2.2260e-04 - acc: 1.000 - ETA: 4s - loss: 1.9947e-04 - acc: 1.000 - ETA: 4s - loss: 1.8361e-04 - acc: 1.000 - ETA: 4s - loss: 1.9464e-04 - acc: 1.000 - ETA: 4s - loss: 1.8837e-04 - acc: 1.000 - ETA: 4s - loss: 2.3792e-04 - acc: 1.000 - ETA: 4s - loss: 2.1617e-04 - acc: 1.000 - ETA: 3s - loss: 2.8182e-04 - acc: 1.000 - ETA: 3s - loss: 3.5719e-04 - acc: 1.000 - ETA: 3s - loss: 3.5658e-04 - acc: 1.000 - ETA: 3s - loss: 3.4654e-04 - acc: 1.000 - ETA: 3s - loss: 3.4108e-04 - acc: 1.000 - ETA: 3s - loss: 0.0103 - acc: 0.9955    - ETA: 3s - loss: 0.0096 - acc: 0.995 - ETA: 3s - loss: 0.0090 - acc: 0.996 - ETA: 3s - loss: 0.0085 - acc: 0.996 - ETA: 3s - loss: 0.0080 - acc: 0.996 - ETA: 3s - loss: 0.0076 - acc: 0.996 - ETA: 3s - loss: 0.0072 - acc: 0.996 - ETA: 2s - loss: 0.0069 - acc: 0.997 - ETA: 2s - loss: 0.0066 - acc: 0.997 - ETA: 2s - loss: 0.0063 - acc: 0.997 - ETA: 2s - loss: 0.0060 - acc: 0.997 - ETA: 2s - loss: 0.0058 - acc: 0.997 - ETA: 2s - loss: 0.0056 - acc: 0.997 - ETA: 2s - loss: 0.0054 - acc: 0.997 - ETA: 2s - loss: 0.0052 - acc: 0.997 - ETA: 2s - loss: 0.0051 - acc: 0.997 - ETA: 2s - loss: 0.0050 - acc: 0.997 - ETA: 2s - loss: 0.0049 - acc: 0.998 - ETA: 2s - loss: 0.0047 - acc: 0.998 - ETA: 1s - loss: 0.0047 - acc: 0.998 - ETA: 1s - loss: 0.0045 - acc: 0.998 - ETA: 1s - loss: 0.0044 - acc: 0.998 - ETA: 1s - loss: 0.0043 - acc: 0.998 - ETA: 1s - loss: 0.0042 - acc: 0.998 - ETA: 1s - loss: 0.0042 - acc: 0.998 - ETA: 1s - loss: 0.0041 - acc: 0.998 - ETA: 1s - loss: 0.0040 - acc: 0.998 - ETA: 1s - loss: 0.0039 - acc: 0.998 - ETA: 1s - loss: 0.0038 - acc: 0.998 - ETA: 1s - loss: 0.0037 - acc: 0.998 - ETA: 1s - loss: 0.0036 - acc: 0.998 - ETA: 0s - loss: 0.0036 - acc: 0.998 - ETA: 0s - loss: 0.0035 - acc: 0.998 - ETA: 0s - loss: 0.0035 - acc: 0.998 - ETA: 0s - loss: 0.0034 - acc: 0.998 - ETA: 0s - loss: 0.0033 - acc: 0.998 - ETA: 0s - loss: 0.0058 - acc: 0.998 - ETA: 0s - loss: 0.0065 - acc: 0.997 - ETA: 0s - loss: 0.0064 - acc: 0.997 - ETA: 0s - loss: 0.0063 - acc: 0.997 - ETA: 0s - loss: 0.0062 - acc: 0.997 - ETA: 0s - loss: 0.0061 - acc: 0.997 - ETA: 0s - loss: 0.0060 - acc: 0.997 - 5s 3ms/step - loss: 0.0059 - acc: 0.9978 - val_loss: 5.3388 - val_acc: 0.3797\n",
      "\n",
      "Epoch 00096: val_acc did not improve from 0.50993\n",
      "Epoch 97/100\n"
     ]
    },
    {
     "name": "stdout",
     "output_type": "stream",
     "text": [
      "1808/1808 [==============================] - ETA: 3s - loss: 0.0011 - acc: 1.000 - ETA: 3s - loss: 6.3495e-04 - acc: 1.000 - ETA: 4s - loss: 4.3917e-04 - acc: 1.000 - ETA: 4s - loss: 0.0058 - acc: 1.0000    - ETA: 3s - loss: 0.0046 - acc: 1.000 - ETA: 3s - loss: 0.0039 - acc: 1.000 - ETA: 3s - loss: 0.0035 - acc: 1.000 - ETA: 3s - loss: 0.0030 - acc: 1.000 - ETA: 3s - loss: 0.0032 - acc: 1.000 - ETA: 3s - loss: 0.0029 - acc: 1.000 - ETA: 3s - loss: 0.0027 - acc: 1.000 - ETA: 3s - loss: 0.0025 - acc: 1.000 - ETA: 3s - loss: 0.0023 - acc: 1.000 - ETA: 3s - loss: 0.0022 - acc: 1.000 - ETA: 3s - loss: 0.0021 - acc: 1.000 - ETA: 3s - loss: 0.0020 - acc: 1.000 - ETA: 3s - loss: 0.0019 - acc: 1.000 - ETA: 3s - loss: 0.0018 - acc: 1.000 - ETA: 3s - loss: 0.0026 - acc: 1.000 - ETA: 2s - loss: 0.0025 - acc: 1.000 - ETA: 2s - loss: 0.0024 - acc: 1.000 - ETA: 2s - loss: 0.0023 - acc: 1.000 - ETA: 2s - loss: 0.0023 - acc: 1.000 - ETA: 2s - loss: 0.0022 - acc: 1.000 - ETA: 2s - loss: 0.0021 - acc: 1.000 - ETA: 2s - loss: 0.0020 - acc: 1.000 - ETA: 2s - loss: 0.0019 - acc: 1.000 - ETA: 2s - loss: 0.0046 - acc: 0.998 - ETA: 2s - loss: 0.0045 - acc: 0.998 - ETA: 2s - loss: 0.0043 - acc: 0.999 - ETA: 2s - loss: 0.0042 - acc: 0.999 - ETA: 1s - loss: 0.0059 - acc: 0.998 - ETA: 1s - loss: 0.0057 - acc: 0.998 - ETA: 1s - loss: 0.0056 - acc: 0.998 - ETA: 1s - loss: 0.0054 - acc: 0.998 - ETA: 1s - loss: 0.0053 - acc: 0.998 - ETA: 1s - loss: 0.0052 - acc: 0.998 - ETA: 1s - loss: 0.0052 - acc: 0.998 - ETA: 1s - loss: 0.0051 - acc: 0.998 - ETA: 1s - loss: 0.0050 - acc: 0.998 - ETA: 1s - loss: 0.0049 - acc: 0.998 - ETA: 1s - loss: 0.0048 - acc: 0.998 - ETA: 1s - loss: 0.0048 - acc: 0.998 - ETA: 1s - loss: 0.0047 - acc: 0.998 - ETA: 0s - loss: 0.0046 - acc: 0.998 - ETA: 0s - loss: 0.0046 - acc: 0.998 - ETA: 0s - loss: 0.0046 - acc: 0.998 - ETA: 0s - loss: 0.0045 - acc: 0.998 - ETA: 0s - loss: 0.0045 - acc: 0.998 - ETA: 0s - loss: 0.0044 - acc: 0.998 - ETA: 0s - loss: 0.0043 - acc: 0.998 - ETA: 0s - loss: 0.0043 - acc: 0.998 - ETA: 0s - loss: 0.0042 - acc: 0.998 - ETA: 0s - loss: 0.0041 - acc: 0.998 - ETA: 0s - loss: 0.0041 - acc: 0.998 - ETA: 0s - loss: 0.0040 - acc: 0.998 - 5s 3ms/step - loss: 0.0040 - acc: 0.9989 - val_loss: 5.1390 - val_acc: 0.3951\n",
      "\n",
      "Epoch 00097: val_acc did not improve from 0.50993\n",
      "Epoch 98/100\n",
      "1808/1808 [==============================] - ETA: 4s - loss: 2.4206e-04 - acc: 1.000 - ETA: 4s - loss: 4.1766e-04 - acc: 1.000 - ETA: 4s - loss: 3.3968e-04 - acc: 1.000 - ETA: 4s - loss: 3.4864e-04 - acc: 1.000 - ETA: 4s - loss: 3.8091e-04 - acc: 1.000 - ETA: 3s - loss: 3.2609e-04 - acc: 1.000 - ETA: 3s - loss: 2.9827e-04 - acc: 1.000 - ETA: 3s - loss: 2.6888e-04 - acc: 1.000 - ETA: 3s - loss: 3.5656e-04 - acc: 1.000 - ETA: 3s - loss: 3.3782e-04 - acc: 1.000 - ETA: 3s - loss: 3.9543e-04 - acc: 1.000 - ETA: 3s - loss: 4.1599e-04 - acc: 1.000 - ETA: 3s - loss: 0.0037 - acc: 0.9976    - ETA: 3s - loss: 0.0034 - acc: 0.997 - ETA: 3s - loss: 0.0032 - acc: 0.997 - ETA: 3s - loss: 0.0030 - acc: 0.998 - ETA: 3s - loss: 0.0028 - acc: 0.998 - ETA: 3s - loss: 0.0027 - acc: 0.998 - ETA: 3s - loss: 0.0026 - acc: 0.998 - ETA: 2s - loss: 0.0024 - acc: 0.998 - ETA: 2s - loss: 0.0023 - acc: 0.998 - ETA: 2s - loss: 0.0022 - acc: 0.998 - ETA: 2s - loss: 0.0025 - acc: 0.998 - ETA: 2s - loss: 0.0025 - acc: 0.998 - ETA: 2s - loss: 0.0024 - acc: 0.998 - ETA: 2s - loss: 0.0023 - acc: 0.998 - ETA: 2s - loss: 0.0023 - acc: 0.998 - ETA: 2s - loss: 0.0047 - acc: 0.997 - ETA: 2s - loss: 0.0046 - acc: 0.997 - ETA: 2s - loss: 0.0044 - acc: 0.997 - ETA: 2s - loss: 0.0043 - acc: 0.998 - ETA: 2s - loss: 0.0042 - acc: 0.998 - ETA: 1s - loss: 0.0041 - acc: 0.998 - ETA: 1s - loss: 0.0040 - acc: 0.998 - ETA: 1s - loss: 0.0045 - acc: 0.997 - ETA: 1s - loss: 0.0044 - acc: 0.997 - ETA: 1s - loss: 0.0043 - acc: 0.997 - ETA: 1s - loss: 0.0042 - acc: 0.997 - ETA: 1s - loss: 0.0041 - acc: 0.997 - ETA: 1s - loss: 0.0040 - acc: 0.997 - ETA: 1s - loss: 0.0050 - acc: 0.997 - ETA: 1s - loss: 0.0049 - acc: 0.997 - ETA: 1s - loss: 0.0048 - acc: 0.997 - ETA: 1s - loss: 0.0047 - acc: 0.997 - ETA: 0s - loss: 0.0046 - acc: 0.997 - ETA: 0s - loss: 0.0056 - acc: 0.996 - ETA: 0s - loss: 0.0055 - acc: 0.996 - ETA: 0s - loss: 0.0054 - acc: 0.996 - ETA: 0s - loss: 0.0053 - acc: 0.996 - ETA: 0s - loss: 0.0052 - acc: 0.996 - ETA: 0s - loss: 0.0052 - acc: 0.996 - ETA: 0s - loss: 0.0051 - acc: 0.997 - ETA: 0s - loss: 0.0052 - acc: 0.997 - ETA: 0s - loss: 0.0052 - acc: 0.997 - ETA: 0s - loss: 0.0051 - acc: 0.997 - ETA: 0s - loss: 0.0050 - acc: 0.997 - 5s 3ms/step - loss: 0.0049 - acc: 0.9972 - val_loss: 4.6368 - val_acc: 0.4570\n",
      "\n",
      "Epoch 00098: val_acc did not improve from 0.50993\n",
      "Epoch 99/100\n",
      "1808/1808 [==============================] - ETA: 4s - loss: 2.7548e-05 - acc: 1.000 - ETA: 3s - loss: 5.0024e-05 - acc: 1.000 - ETA: 3s - loss: 0.0172 - acc: 0.9896    - ETA: 3s - loss: 0.0129 - acc: 0.992 - ETA: 3s - loss: 0.0126 - acc: 0.993 - ETA: 3s - loss: 0.0171 - acc: 0.989 - ETA: 3s - loss: 0.0148 - acc: 0.991 - ETA: 3s - loss: 0.0130 - acc: 0.992 - ETA: 3s - loss: 0.0144 - acc: 0.989 - ETA: 3s - loss: 0.0130 - acc: 0.990 - ETA: 3s - loss: 0.0119 - acc: 0.991 - ETA: 3s - loss: 0.0114 - acc: 0.992 - ETA: 3s - loss: 0.0105 - acc: 0.992 - ETA: 3s - loss: 0.0152 - acc: 0.991 - ETA: 3s - loss: 0.0142 - acc: 0.991 - ETA: 3s - loss: 0.0134 - acc: 0.992 - ETA: 3s - loss: 0.0128 - acc: 0.992 - ETA: 3s - loss: 0.0123 - acc: 0.993 - ETA: 3s - loss: 0.0117 - acc: 0.993 - ETA: 2s - loss: 0.0113 - acc: 0.993 - ETA: 2s - loss: 0.0108 - acc: 0.994 - ETA: 2s - loss: 0.0104 - acc: 0.994 - ETA: 2s - loss: 0.0102 - acc: 0.994 - ETA: 2s - loss: 0.0099 - acc: 0.994 - ETA: 2s - loss: 0.0096 - acc: 0.995 - ETA: 2s - loss: 0.0093 - acc: 0.995 - ETA: 2s - loss: 0.0089 - acc: 0.995 - ETA: 2s - loss: 0.0086 - acc: 0.995 - ETA: 2s - loss: 0.0085 - acc: 0.995 - ETA: 2s - loss: 0.0082 - acc: 0.995 - ETA: 2s - loss: 0.0080 - acc: 0.996 - ETA: 1s - loss: 0.0077 - acc: 0.996 - ETA: 1s - loss: 0.0109 - acc: 0.994 - ETA: 1s - loss: 0.0106 - acc: 0.994 - ETA: 1s - loss: 0.0103 - acc: 0.994 - ETA: 1s - loss: 0.0101 - acc: 0.994 - ETA: 1s - loss: 0.0120 - acc: 0.994 - ETA: 1s - loss: 0.0127 - acc: 0.994 - ETA: 1s - loss: 0.0124 - acc: 0.994 - ETA: 1s - loss: 0.0122 - acc: 0.994 - ETA: 1s - loss: 0.0119 - acc: 0.994 - ETA: 1s - loss: 0.0116 - acc: 0.994 - ETA: 1s - loss: 0.0114 - acc: 0.994 - ETA: 1s - loss: 0.0138 - acc: 0.994 - ETA: 0s - loss: 0.0135 - acc: 0.994 - ETA: 0s - loss: 0.0132 - acc: 0.994 - ETA: 0s - loss: 0.0130 - acc: 0.994 - ETA: 0s - loss: 0.0128 - acc: 0.994 - ETA: 0s - loss: 0.0126 - acc: 0.994 - ETA: 0s - loss: 0.0162 - acc: 0.994 - ETA: 0s - loss: 0.0159 - acc: 0.994 - ETA: 0s - loss: 0.0156 - acc: 0.994 - ETA: 0s - loss: 0.0154 - acc: 0.994 - ETA: 0s - loss: 0.0151 - acc: 0.994 - ETA: 0s - loss: 0.0148 - acc: 0.994 - ETA: 0s - loss: 0.0201 - acc: 0.993 - 5s 3ms/step - loss: 0.0200 - acc: 0.9939 - val_loss: 5.1954 - val_acc: 0.3863\n",
      "\n",
      "Epoch 00099: val_acc did not improve from 0.50993\n",
      "Epoch 100/100\n"
     ]
    },
    {
     "name": "stdout",
     "output_type": "stream",
     "text": [
      "1808/1808 [==============================] - ETA: 4s - loss: 2.1073e-04 - acc: 1.000 - ETA: 3s - loss: 1.7699e-04 - acc: 1.000 - ETA: 3s - loss: 7.6312e-04 - acc: 1.000 - ETA: 3s - loss: 0.0028 - acc: 1.0000    - ETA: 3s - loss: 0.0035 - acc: 1.000 - ETA: 3s - loss: 0.0087 - acc: 1.000 - ETA: 3s - loss: 0.0483 - acc: 0.982 - ETA: 3s - loss: 0.0433 - acc: 0.984 - ETA: 3s - loss: 0.0455 - acc: 0.982 - ETA: 3s - loss: 0.0410 - acc: 0.984 - ETA: 3s - loss: 0.0373 - acc: 0.985 - ETA: 3s - loss: 0.0352 - acc: 0.987 - ETA: 3s - loss: 0.0477 - acc: 0.985 - ETA: 3s - loss: 0.0450 - acc: 0.986 - ETA: 3s - loss: 0.0444 - acc: 0.985 - ETA: 3s - loss: 0.0610 - acc: 0.982 - ETA: 3s - loss: 0.0634 - acc: 0.979 - ETA: 3s - loss: 0.0599 - acc: 0.980 - ETA: 3s - loss: 0.0568 - acc: 0.981 - ETA: 2s - loss: 0.0552 - acc: 0.981 - ETA: 2s - loss: 0.0527 - acc: 0.982 - ETA: 2s - loss: 0.0504 - acc: 0.983 - ETA: 2s - loss: 0.0483 - acc: 0.983 - ETA: 2s - loss: 0.0464 - acc: 0.984 - ETA: 2s - loss: 0.0524 - acc: 0.983 - ETA: 2s - loss: 0.0507 - acc: 0.984 - ETA: 2s - loss: 0.0519 - acc: 0.982 - ETA: 2s - loss: 0.0568 - acc: 0.981 - ETA: 2s - loss: 0.0570 - acc: 0.979 - ETA: 2s - loss: 0.0595 - acc: 0.979 - ETA: 2s - loss: 0.0577 - acc: 0.979 - ETA: 1s - loss: 0.0595 - acc: 0.979 - ETA: 1s - loss: 0.0582 - acc: 0.980 - ETA: 1s - loss: 0.0568 - acc: 0.980 - ETA: 1s - loss: 0.0552 - acc: 0.981 - ETA: 1s - loss: 0.0541 - acc: 0.981 - ETA: 1s - loss: 0.0537 - acc: 0.981 - ETA: 1s - loss: 0.0525 - acc: 0.981 - ETA: 1s - loss: 0.0512 - acc: 0.982 - ETA: 1s - loss: 0.0522 - acc: 0.982 - ETA: 1s - loss: 0.0517 - acc: 0.982 - ETA: 1s - loss: 0.0505 - acc: 0.982 - ETA: 1s - loss: 0.0512 - acc: 0.982 - ETA: 0s - loss: 0.0504 - acc: 0.983 - ETA: 0s - loss: 0.0497 - acc: 0.983 - ETA: 0s - loss: 0.0497 - acc: 0.983 - ETA: 0s - loss: 0.0572 - acc: 0.982 - ETA: 0s - loss: 0.0579 - acc: 0.982 - ETA: 0s - loss: 0.0586 - acc: 0.982 - ETA: 0s - loss: 0.0582 - acc: 0.981 - ETA: 0s - loss: 0.0578 - acc: 0.982 - ETA: 0s - loss: 0.0609 - acc: 0.981 - ETA: 0s - loss: 0.0615 - acc: 0.981 - ETA: 0s - loss: 0.0659 - acc: 0.980 - ETA: 0s - loss: 0.0649 - acc: 0.981 - ETA: 0s - loss: 0.0669 - acc: 0.980 - 5s 3ms/step - loss: 0.0684 - acc: 0.9801 - val_loss: 5.0630 - val_acc: 0.3775\n",
      "\n",
      "Epoch 00100: val_acc did not improve from 0.50993\n"
     ]
    }
   ],
   "source": [
    "#hist=model.fit(x_train,y_train,epochs=100,batch_size=32,validation_data=(x_test, y_test))\n",
    "hist=model.fit(x_train,y_train,epochs=100,batch_size=32,validation_data=(x_test, y_test),callbacks=callbacks_list)"
   ]
  },
  {
   "cell_type": "code",
   "execution_count": 52,
   "metadata": {},
   "outputs": [],
   "source": [
    "#model.save(\"task2_cnn_glove6B_300d.hdf5\")"
   ]
  },
  {
   "cell_type": "code",
   "execution_count": 126,
   "metadata": {},
   "outputs": [],
   "source": [
    "from keras.models import load_model\n",
    "# load weights into new model\n",
    "loaded_model= load_model(\"task2_cnn_fasttext_300d.hdf5\")"
   ]
  },
  {
   "cell_type": "code",
   "execution_count": 68,
   "metadata": {},
   "outputs": [
    {
     "name": "stdout",
     "output_type": "stream",
     "text": [
      "1171/1171 [==============================] - 2s 2ms/step\n"
     ]
    },
    {
     "data": {
      "text/plain": [
       "[0.44159719808604553, 0.8134073443539014]"
      ]
     },
     "execution_count": 68,
     "metadata": {},
     "output_type": "execute_result"
    }
   ],
   "source": [
    "#loaded_model.evaluate(x_test,y_test)"
   ]
  },
  {
   "cell_type": "code",
   "execution_count": 131,
   "metadata": {},
   "outputs": [],
   "source": [
    "w=model.predict_classes(x_test)"
   ]
  },
  {
   "cell_type": "code",
   "execution_count": 132,
   "metadata": {},
   "outputs": [],
   "source": [
    "from sklearn.metrics import classification_report,confusion_matrix"
   ]
  },
  {
   "cell_type": "code",
   "execution_count": 133,
   "metadata": {},
   "outputs": [],
   "source": [
    "Y_actual=[]\n",
    "for ix in y_test:\n",
    "    Y_actual.append(np.argmax(ix))"
   ]
  },
  {
   "cell_type": "code",
   "execution_count": 134,
   "metadata": {},
   "outputs": [
    {
     "name": "stdout",
     "output_type": "stream",
     "text": [
      "             precision    recall  f1-score   support\n",
      "\n",
      "          0       0.39      0.42      0.40       146\n",
      "          1       0.18      0.39      0.25        76\n",
      "          2       0.60      0.35      0.44       231\n",
      "\n",
      "avg / total       0.46      0.38      0.40       453\n",
      "\n"
     ]
    }
   ],
   "source": [
    "print(classification_report(Y_actual,w))"
   ]
  },
  {
   "cell_type": "code",
   "execution_count": 135,
   "metadata": {},
   "outputs": [
    {
     "name": "stdout",
     "output_type": "stream",
     "text": [
      "[[61 54 31]\n",
      " [24 30 22]\n",
      " [72 79 80]]\n"
     ]
    }
   ],
   "source": [
    "print(confusion_matrix(Y_actual, w))"
   ]
  },
  {
   "cell_type": "code",
   "execution_count": 136,
   "metadata": {},
   "outputs": [],
   "source": [
    "data_test=pd.read_csv('hasoc2019_en_test.tsv', sep = '\\t', encoding=\"latin-1\")"
   ]
  },
  {
   "cell_type": "code",
   "execution_count": 137,
   "metadata": {},
   "outputs": [
    {
     "data": {
      "text/html": [
       "<div>\n",
       "<style scoped>\n",
       "    .dataframe tbody tr th:only-of-type {\n",
       "        vertical-align: middle;\n",
       "    }\n",
       "\n",
       "    .dataframe tbody tr th {\n",
       "        vertical-align: top;\n",
       "    }\n",
       "\n",
       "    .dataframe thead th {\n",
       "        text-align: right;\n",
       "    }\n",
       "</style>\n",
       "<table border=\"1\" class=\"dataframe\">\n",
       "  <thead>\n",
       "    <tr style=\"text-align: right;\">\n",
       "      <th></th>\n",
       "      <th>text_id</th>\n",
       "      <th>text</th>\n",
       "    </tr>\n",
       "  </thead>\n",
       "  <tbody>\n",
       "    <tr>\n",
       "      <th>0</th>\n",
       "      <td>hasoc_en_902</td>\n",
       "      <td>West Bengal Doctor Crisis: Protesting doctors ...</td>\n",
       "    </tr>\n",
       "    <tr>\n",
       "      <th>1</th>\n",
       "      <td>hasoc_en_416</td>\n",
       "      <td>68.5 million people have been forced to leave ...</td>\n",
       "    </tr>\n",
       "    <tr>\n",
       "      <th>2</th>\n",
       "      <td>hasoc_en_207</td>\n",
       "      <td>You came, you saw .... we will look after the ...</td>\n",
       "    </tr>\n",
       "    <tr>\n",
       "      <th>3</th>\n",
       "      <td>hasoc_en_595</td>\n",
       "      <td>We'll get Brexit delivered by October 31st.   ...</td>\n",
       "    </tr>\n",
       "    <tr>\n",
       "      <th>4</th>\n",
       "      <td>hasoc_en_568</td>\n",
       "      <td>Fuck you. Go back to the dark ages you cow @IB...</td>\n",
       "    </tr>\n",
       "  </tbody>\n",
       "</table>\n",
       "</div>"
      ],
      "text/plain": [
       "        text_id                                               text\n",
       "0  hasoc_en_902  West Bengal Doctor Crisis: Protesting doctors ...\n",
       "1  hasoc_en_416  68.5 million people have been forced to leave ...\n",
       "2  hasoc_en_207  You came, you saw .... we will look after the ...\n",
       "3  hasoc_en_595  We'll get Brexit delivered by October 31st.   ...\n",
       "4  hasoc_en_568  Fuck you. Go back to the dark ages you cow @IB..."
      ]
     },
     "execution_count": 137,
     "metadata": {},
     "output_type": "execute_result"
    }
   ],
   "source": [
    "data_test.head()"
   ]
  },
  {
   "cell_type": "code",
   "execution_count": 138,
   "metadata": {},
   "outputs": [],
   "source": [
    "Column_Sequence=np.array(data_test[\"text\"],dtype=\"str\")\n",
    "fresh=[]\n",
    "for ix in Column_Sequence:\n",
    "    sen=ix.lower()\n",
    "    sen=Tokenizer.tokenize(sen)\n",
    "    wordss=[(Word) for Word in sen if len(Word)>2 and Word not in word]\n",
    "    sentance=\" \".join(wordss)\n",
    "    fresh.append(sentance)"
   ]
  },
  {
   "cell_type": "code",
   "execution_count": 139,
   "metadata": {},
   "outputs": [],
   "source": [
    "tokenizer = keras_text.Tokenizer(char_level = False,lower=True) #\n",
    "t=tokenizer.fit_on_texts(list(fresh))\n",
    "list_tokenized_train = tokenizer.texts_to_sequences(fresh)\n",
    "X_t = keras_seq.pad_sequences(list_tokenized_train, maxlen=300,padding=\"post\") #maxlen padding 100"
   ]
  },
  {
   "cell_type": "code",
   "execution_count": 140,
   "metadata": {},
   "outputs": [],
   "source": [
    "w_test=model.predict_classes(X_t)"
   ]
  },
  {
   "cell_type": "code",
   "execution_count": 141,
   "metadata": {},
   "outputs": [
    {
     "data": {
      "text/plain": [
       "array([0, 0, 0, ..., 0, 2, 1], dtype=int64)"
      ]
     },
     "execution_count": 141,
     "metadata": {},
     "output_type": "execute_result"
    }
   ],
   "source": [
    "w_test"
   ]
  },
  {
   "cell_type": "code",
   "execution_count": 142,
   "metadata": {},
   "outputs": [
    {
     "name": "stdout",
     "output_type": "stream",
     "text": [
      "313\n"
     ]
    },
    {
     "data": {
      "text/plain": [
       "840"
      ]
     },
     "execution_count": 142,
     "metadata": {},
     "output_type": "execute_result"
    }
   ],
   "source": [
    "print(len(w_test)-np.count_nonzero(w_test))\n",
    "np.count_nonzero(w_test)"
   ]
  },
  {
   "cell_type": "code",
   "execution_count": 143,
   "metadata": {},
   "outputs": [],
   "source": [
    "output = pd.DataFrame()\n",
    "#out_result['text_id'] = "
   ]
  },
  {
   "cell_type": "code",
   "execution_count": 144,
   "metadata": {},
   "outputs": [],
   "source": [
    "output['text_id'] = data_test['text_id']"
   ]
  },
  {
   "cell_type": "code",
   "execution_count": 145,
   "metadata": {},
   "outputs": [
    {
     "data": {
      "text/html": [
       "<div>\n",
       "<style scoped>\n",
       "    .dataframe tbody tr th:only-of-type {\n",
       "        vertical-align: middle;\n",
       "    }\n",
       "\n",
       "    .dataframe tbody tr th {\n",
       "        vertical-align: top;\n",
       "    }\n",
       "\n",
       "    .dataframe thead th {\n",
       "        text-align: right;\n",
       "    }\n",
       "</style>\n",
       "<table border=\"1\" class=\"dataframe\">\n",
       "  <thead>\n",
       "    <tr style=\"text-align: right;\">\n",
       "      <th></th>\n",
       "      <th>text_id</th>\n",
       "    </tr>\n",
       "  </thead>\n",
       "  <tbody>\n",
       "    <tr>\n",
       "      <th>1148</th>\n",
       "      <td>hasoc_en1_3958</td>\n",
       "    </tr>\n",
       "    <tr>\n",
       "      <th>1149</th>\n",
       "      <td>hasoc_en1_4648</td>\n",
       "    </tr>\n",
       "    <tr>\n",
       "      <th>1150</th>\n",
       "      <td>hasoc_en1_4832</td>\n",
       "    </tr>\n",
       "    <tr>\n",
       "      <th>1151</th>\n",
       "      <td>hasoc_en1_3721</td>\n",
       "    </tr>\n",
       "    <tr>\n",
       "      <th>1152</th>\n",
       "      <td>hasoc_en1_991</td>\n",
       "    </tr>\n",
       "  </tbody>\n",
       "</table>\n",
       "</div>"
      ],
      "text/plain": [
       "             text_id\n",
       "1148  hasoc_en1_3958\n",
       "1149  hasoc_en1_4648\n",
       "1150  hasoc_en1_4832\n",
       "1151  hasoc_en1_3721\n",
       "1152   hasoc_en1_991"
      ]
     },
     "execution_count": 145,
     "metadata": {},
     "output_type": "execute_result"
    }
   ],
   "source": [
    "output.tail()"
   ]
  },
  {
   "cell_type": "code",
   "execution_count": 146,
   "metadata": {},
   "outputs": [],
   "source": [
    "ans_dict = {0:'PRFN',1:'OFFN',2:'HATE'}\n",
    "w2 = np.vectorize(ans_dict.get)(w_test)\n",
    "output['result'] = w2"
   ]
  },
  {
   "cell_type": "code",
   "execution_count": 147,
   "metadata": {},
   "outputs": [],
   "source": [
    "output.to_csv('Kirti Kumari_English_task_2_run_3.tsv',header=True,sep='\\t',index=False)"
   ]
  },
  {
   "cell_type": "code",
   "execution_count": null,
   "metadata": {},
   "outputs": [],
   "source": []
  }
 ],
 "metadata": {
  "kernelspec": {
   "display_name": "Python 3",
   "language": "python",
   "name": "python3"
  },
  "language_info": {
   "codemirror_mode": {
    "name": "ipython",
    "version": 3
   },
   "file_extension": ".py",
   "mimetype": "text/x-python",
   "name": "python",
   "nbconvert_exporter": "python",
   "pygments_lexer": "ipython3",
   "version": "3.6.4"
  }
 },
 "nbformat": 4,
 "nbformat_minor": 2
}
