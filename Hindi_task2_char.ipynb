{
  "nbformat": 4,
  "nbformat_minor": 0,
  "metadata": {
    "colab": {
      "name": "Hindi_task2_char.ipynb",
      "provenance": [],
      "mount_file_id": "1T0YfITnhyoyXKzkSfvTA61NcjRfSc_Js",
      "authorship_tag": "ABX9TyMeq5vjqQ3IHDz9vT9DQidu",
      "include_colab_link": true
    },
    "kernelspec": {
      "name": "python3",
      "display_name": "Python 3"
    },
    "accelerator": "GPU"
  },
  "cells": [
    {
      "cell_type": "markdown",
      "metadata": {
        "id": "view-in-github",
        "colab_type": "text"
      },
      "source": [
        "<a href=\"https://colab.research.google.com/github/TiwariKishan/Hate_Speech_Detection/blob/master/Hindi_task2_char.ipynb\" target=\"_parent\"><img src=\"https://colab.research.google.com/assets/colab-badge.svg\" alt=\"Open In Colab\"/></a>"
      ]
    },
    {
      "cell_type": "markdown",
      "metadata": {
        "id": "3Bp7Jdo73_UU",
        "colab_type": "text"
      },
      "source": [
        ""
      ]
    },
    {
      "cell_type": "code",
      "metadata": {
        "id": "-WvPXDPdFp-d",
        "colab_type": "code",
        "outputId": "ffd8ba34-d1d7-4445-de19-1eddc154c252",
        "colab": {
          "base_uri": "https://localhost:8080/",
          "height": 81
        }
      },
      "source": [
        "import re\n",
        "import pandas as pd\n",
        "import numpy as np\n",
        "import sklearn\n",
        "from sklearn.naive_bayes import MultinomialNB\n",
        "from sklearn.linear_model import LogisticRegression\n",
        "from sklearn.metrics import accuracy_score, confusion_matrix\n",
        "\n",
        "# Preprocessing\n",
        "import nltk\n",
        "from nltk.tokenize import sent_tokenize\n",
        "from nltk import punkt\n",
        "\n",
        "# Modeling\n",
        "import keras\n",
        "from keras.models import Model, load_model\n",
        "from keras.layers import Dense, Input, Dropout, MaxPooling1D, Conv1D, GlobalMaxPool1D, Bidirectional\n",
        "from keras.layers import LSTM, Lambda, Bidirectional, concatenate, BatchNormalization, Embedding\n",
        "from keras.layers import TimeDistributed\n",
        "from keras.optimizers import Adam\n",
        "import tensorflow as tf\n",
        "import keras.backend as K\n",
        "\n",
        "import IPython\n",
        "from IPython.display import SVG\n",
        "from keras.utils.vis_utils import model_to_dot\n",
        "\n",
        "from sklearn.model_selection import train_test_split\n"
      ],
      "execution_count": 0,
      "outputs": [
        {
          "output_type": "stream",
          "text": [
            "Using TensorFlow backend.\n"
          ],
          "name": "stderr"
        },
        {
          "output_type": "display_data",
          "data": {
            "text/html": [
              "<p style=\"color: red;\">\n",
              "The default version of TensorFlow in Colab will soon switch to TensorFlow 2.x.<br>\n",
              "We recommend you <a href=\"https://www.tensorflow.org/guide/migrate\" target=\"_blank\">upgrade</a> now \n",
              "or ensure your notebook will continue to use TensorFlow 1.x via the <code>%tensorflow_version 1.x</code> magic:\n",
              "<a href=\"https://colab.research.google.com/notebooks/tensorflow_version.ipynb\" target=\"_blank\">more info</a>.</p>\n"
            ],
            "text/plain": [
              "<IPython.core.display.HTML object>"
            ]
          },
          "metadata": {
            "tags": []
          }
        }
      ]
    },
    {
      "cell_type": "code",
      "metadata": {
        "id": "OZc6_mwaGhdE",
        "colab_type": "code",
        "colab": {}
      },
      "source": [
        "def get_raw_data():\n",
        "    df = pd.read_csv(\n",
        "        \"/content/drive/My Drive/hindi_dataset.tsv\", \n",
        "        sep='\\t', \n",
        "        names=['text_id'\t,'text',\t'task_1',\t'task_2',\t'task_3']\n",
        "    )\n",
        "    \n",
        "    return df[['text',\t'task_2']]"
      ],
      "execution_count": 0,
      "outputs": []
    },
    {
      "cell_type": "code",
      "metadata": {
        "id": "WxS87dOwHtxe",
        "colab_type": "code",
        "outputId": "6fae6272-1b8a-4d25-81a3-773a8efb635e",
        "colab": {
          "base_uri": "https://localhost:8080/",
          "height": 195
        }
      },
      "source": [
        "df = get_raw_data()\n",
        "df.head()"
      ],
      "execution_count": 0,
      "outputs": [
        {
          "output_type": "execute_result",
          "data": {
            "text/html": [
              "<div>\n",
              "<style scoped>\n",
              "    .dataframe tbody tr th:only-of-type {\n",
              "        vertical-align: middle;\n",
              "    }\n",
              "\n",
              "    .dataframe tbody tr th {\n",
              "        vertical-align: top;\n",
              "    }\n",
              "\n",
              "    .dataframe thead th {\n",
              "        text-align: right;\n",
              "    }\n",
              "</style>\n",
              "<table border=\"1\" class=\"dataframe\">\n",
              "  <thead>\n",
              "    <tr style=\"text-align: right;\">\n",
              "      <th></th>\n",
              "      <th>text</th>\n",
              "      <th>task_2</th>\n",
              "    </tr>\n",
              "  </thead>\n",
              "  <tbody>\n",
              "    <tr>\n",
              "      <th>0</th>\n",
              "      <td>text</td>\n",
              "      <td>task_2</td>\n",
              "    </tr>\n",
              "    <tr>\n",
              "      <th>1</th>\n",
              "      <td>बांग्लादेश की शानदार वापसी, भारत को 314 रन पर ...</td>\n",
              "      <td>NONE</td>\n",
              "    </tr>\n",
              "    <tr>\n",
              "      <th>2</th>\n",
              "      <td>सब रंडी नाच देखने मे व्यस्त जैसे ही कोई #शांती...</td>\n",
              "      <td>PRFN</td>\n",
              "    </tr>\n",
              "    <tr>\n",
              "      <th>3</th>\n",
              "      <td>तुम जैसे हरामियों के लिए बस जूतों की कमी है शु...</td>\n",
              "      <td>PRFN</td>\n",
              "    </tr>\n",
              "    <tr>\n",
              "      <th>4</th>\n",
              "      <td>बीजेपी MLA आकाश विजयवर्गीय जेल से रिहा, जमानत ...</td>\n",
              "      <td>NONE</td>\n",
              "    </tr>\n",
              "  </tbody>\n",
              "</table>\n",
              "</div>"
            ],
            "text/plain": [
              "                                                text  task_2\n",
              "0                                               text  task_2\n",
              "1  बांग्लादेश की शानदार वापसी, भारत को 314 रन पर ...    NONE\n",
              "2  सब रंडी नाच देखने मे व्यस्त जैसे ही कोई #शांती...    PRFN\n",
              "3  तुम जैसे हरामियों के लिए बस जूतों की कमी है शु...    PRFN\n",
              "4  बीजेपी MLA आकाश विजयवर्गीय जेल से रिहा, जमानत ...    NONE"
            ]
          },
          "metadata": {
            "tags": []
          },
          "execution_count": 3
        }
      ]
    },
    {
      "cell_type": "code",
      "metadata": {
        "id": "kZAPmZh6H-th",
        "colab_type": "code",
        "outputId": "a782f066-70db-4da5-b2e7-87c6279d7cee",
        "colab": {
          "base_uri": "https://localhost:8080/",
          "height": 34
        }
      },
      "source": [
        "print('Number of news: %d' % (len(df)))"
      ],
      "execution_count": 0,
      "outputs": [
        {
          "output_type": "stream",
          "text": [
            "Number of news: 4666\n"
          ],
          "name": "stdout"
        }
      ]
    },
    {
      "cell_type": "code",
      "metadata": {
        "id": "Ni0N9PsEIR6Z",
        "colab_type": "code",
        "colab": {}
      },
      "source": [
        "train_df, test_df = train_test_split(df, test_size=0.2)"
      ],
      "execution_count": 0,
      "outputs": []
    },
    {
      "cell_type": "code",
      "metadata": {
        "id": "qKKhCVW_IUNR",
        "colab_type": "code",
        "colab": {}
      },
      "source": [
        "class CharCNN:\n",
        "\n",
        "    \n",
        "    CHAR_DICT = 'abcdefghijklmnopqrstuvwxyzABCDEFGHIJKLMNOPQRSTUVWXYZ0123456789 .!?:,\\'%-\\(\\)/$|&;[]\"'\n",
        "    \n",
        "    def __init__(self, max_len_of_sentence, max_num_of_setnence, verbose=10):\n",
        "        self.max_len_of_sentence = max_len_of_sentence\n",
        "        self.max_num_of_setnence = max_num_of_setnence\n",
        "        self.verbose = verbose\n",
        "        \n",
        "        self.num_of_char = 0\n",
        "        self.num_of_label = 0\n",
        "        self.unknown_label = ''\n",
        "        \n",
        "    def build_char_dictionary(self, char_dict=None, unknown_label='UNK'):\n",
        "        \"\"\"\n",
        "            Define possbile char set. Using \"UNK\" if character does not exist in this set\n",
        "        \"\"\" \n",
        "        \n",
        "        if char_dict is None:\n",
        "            char_dict = self.CHAR_DICT\n",
        "            \n",
        "        self.unknown_label = unknown_label\n",
        "\n",
        "        chars = []\n",
        "\n",
        "        for c in char_dict:\n",
        "            chars.append(c)\n",
        "\n",
        "        chars = list(set(chars))\n",
        "        \n",
        "        chars.insert(0, unknown_label)\n",
        "\n",
        "        self.num_of_char = len(chars)\n",
        "        self.char_indices = dict((c, i) for i, c in enumerate(chars))\n",
        "        self.indices_char = dict((i, c) for i, c in enumerate(chars))\n",
        "        \n",
        "        if self.verbose > 5:\n",
        "            print('Totoal number of chars:', self.num_of_char)\n",
        "\n",
        "            print('First 3 char_indices sample:', {k: self.char_indices[k] for k in list(self.char_indices)[:3]})\n",
        "            print('First 3 indices_char sample:', {k: self.indices_char[k] for k in list(self.indices_char)[:3]})\n",
        "            \n",
        "\n",
        "        return self.char_indices, self.indices_char, self.num_of_char\n",
        "    \n",
        "    def convert_labels(self, labels):\n",
        "        \"\"\"\n",
        "            Convert label to numeric\n",
        "        \"\"\"\n",
        "        self.label2indexes = dict((l, i) for i, l in enumerate(labels))\n",
        "        self.index2labels = dict((i, l) for i, l in enumerate(labels))\n",
        "\n",
        "        if self.verbose > 5:\n",
        "            print('Label to Index: ', self.label2indexes)\n",
        "            print('Index to Label: ', self.index2labels)\n",
        "            \n",
        "        self.num_of_label = len(self.label2indexes)\n",
        "\n",
        "        return self.label2indexes, self.index2labels\n",
        "    \n",
        "    def _transform_raw_data(self, df, x_col, y_col, label2indexes=None, sample_size=None):\n",
        "        \"\"\"\n",
        "            ##### Transform raw data to list\n",
        "        \"\"\"\n",
        "        \n",
        "        x = []\n",
        "        y = []\n",
        "\n",
        "        actual_max_sentence = 0\n",
        "        \n",
        "        if sample_size is None:\n",
        "            sample_size = len(df)\n",
        "\n",
        "        for i, row in df.head(sample_size).iterrows():\n",
        "            x_data = row[x_col]\n",
        "            y_data = row[y_col]\n",
        "\n",
        "            sentences = sent_tokenize(x_data)\n",
        "            x.append(sentences)\n",
        "\n",
        "            if len(sentences) > actual_max_sentence:\n",
        "                actual_max_sentence = len(sentences)\n",
        "\n",
        "            y.append(label2indexes[y_data])\n",
        "\n",
        "        if self.verbose > 5:\n",
        "            print('Number of news: %d' % (len(x)))\n",
        "            print('Actual max sentence: %d' % actual_max_sentence)\n",
        "\n",
        "        return x, y\n",
        "    \n",
        "    def _transform_training_data(self, x_raw, y_raw, max_len_of_sentence=None, max_num_of_setnence=None):\n",
        "        \"\"\"\n",
        "            ##### Transform preorcessed data to numpy\n",
        "        \"\"\"\n",
        "        unknown_value = self.char_indices[self.unknown_label]\n",
        "        \n",
        "        x = np.ones((len(x_raw), max_num_of_setnence, max_len_of_sentence), dtype=np.int64) * unknown_value\n",
        "        y = np.array(y_raw)\n",
        "        \n",
        "        if max_len_of_sentence is None:\n",
        "            max_len_of_sentence = self.max_len_of_sentence\n",
        "        if max_num_of_setnence is None:\n",
        "            max_num_of_setnence = self.max_num_of_setnence\n",
        "\n",
        "        for i, doc in enumerate(x_raw):\n",
        "            for j, sentence in enumerate(doc):\n",
        "                if j < max_num_of_setnence:\n",
        "                    for t, char in enumerate(sentence[-max_len_of_sentence:]):\n",
        "                        if char not in self.char_indices:\n",
        "                            x[i, j, (max_len_of_sentence-1-t)] = self.char_indices['UNK']\n",
        "                        else:\n",
        "                            x[i, j, (max_len_of_sentence-1-t)] = self.char_indices[char]\n",
        "\n",
        "        return x, y\n",
        "\n",
        "    def _build_character_block(self, block, dropout=0.3, filters=[64, 100], kernel_size=[3, 3], \n",
        "                         pool_size=[2, 2], padding='valid', activation='relu', \n",
        "                         kernel_initializer='glorot_normal'):\n",
        "        \n",
        "        for i in range(len(filters)):\n",
        "            block = Conv1D(\n",
        "                filters=filters[i], kernel_size=kernel_size[i],\n",
        "                padding=padding, activation=activation, kernel_initializer=kernel_initializer)(block)\n",
        "\n",
        "        block = Dropout(dropout)(block)\n",
        "        block = MaxPooling1D(pool_size=pool_size[i])(block)\n",
        "\n",
        "        block = GlobalMaxPool1D()(block)\n",
        "        block = Dense(128, activation='relu')(block)\n",
        "        return block\n",
        "    \n",
        "    def _build_sentence_block(self, max_len_of_sentence, max_num_of_setnence, \n",
        "                              char_dimension=16,\n",
        "                              filters=[[3, 5, 7], [200, 300, 300], [300, 400, 400]], \n",
        "#                               filters=[[100, 200, 200], [200, 300, 300], [300, 400, 400]], \n",
        "                              kernel_sizes=[[4, 3, 3], [5, 3, 3], [6, 3, 3]], \n",
        "                              pool_sizes=[[2, 2, 2], [2, 2, 2], [2, 2, 2]],\n",
        "                              dropout=0.4):\n",
        "        \n",
        "        sent_input = Input(shape=(max_len_of_sentence, ), dtype='int64')\n",
        "        embedded = Embedding(self.num_of_char, char_dimension, input_length=max_len_of_sentence)(sent_input)\n",
        "        \n",
        "        blocks = []\n",
        "        for i, filter_layers in enumerate(filters):\n",
        "            blocks.append(\n",
        "                self._build_character_block(\n",
        "                    block=embedded, filters=filters[i], kernel_size=kernel_sizes[i], pool_size=pool_sizes[i])\n",
        "            )\n",
        "\n",
        "        sent_output = concatenate(blocks, axis=-1)\n",
        "        sent_output = Dropout(dropout)(sent_output)\n",
        "        sent_encoder = Model(inputs=sent_input, outputs=sent_output)\n",
        "\n",
        "        return sent_encoder\n",
        "    \n",
        "    def _build_document_block(self, sent_encoder, max_len_of_sentence, max_num_of_setnence, \n",
        "                             num_of_label, dropout=0.3, \n",
        "                             loss='sparse_categorical_crossentropy', optimizer='rmsprop', metrics=['accuracy']):\n",
        "        doc_input = Input(shape=(max_num_of_setnence, max_len_of_sentence), dtype='int64')\n",
        "        doc_output = TimeDistributed(sent_encoder)(doc_input)\n",
        "\n",
        "        doc_output = Bidirectional(LSTM(128, return_sequences=False, dropout=dropout))(doc_output)\n",
        "\n",
        "        doc_output = Dropout(dropout)(doc_output)\n",
        "        doc_output = Dense(128, activation='relu')(doc_output)\n",
        "        doc_output = Dropout(dropout)(doc_output)\n",
        "        doc_output = Dense(num_of_label, activation='sigmoid')(doc_output)\n",
        "\n",
        "        doc_encoder = Model(inputs=doc_input, outputs=doc_output)\n",
        "        doc_encoder.compile(loss=loss, optimizer=optimizer, metrics=metrics)\n",
        "        return doc_encoder\n",
        "    \n",
        "    def preporcess(self, labels, char_dict=None, unknown_label='UNK'):\n",
        "        if self.verbose > 3:\n",
        "            print('-----> Stage: preprocess')\n",
        "            \n",
        "        self.build_char_dictionary(char_dict, unknown_label)\n",
        "        self.convert_labels(labels)\n",
        "    \n",
        "    def process(self, df, x_col, y_col, \n",
        "                max_len_of_sentence=None, max_num_of_setnence=None, label2indexes=None, sample_size=None):\n",
        "        if self.verbose > 3:\n",
        "            print('-----> Stage: process')\n",
        "            \n",
        "        if sample_size is None:\n",
        "            sample_size = 1000\n",
        "        if label2indexes is None:\n",
        "            if self.label2indexes is None:\n",
        "                raise Exception('Does not initalize label2indexes. Please invoke preprocess step first')\n",
        "            label2indexes = self.label2indexes\n",
        "        if max_len_of_sentence is None:\n",
        "            max_len_of_sentence = self.max_len_of_sentence\n",
        "        if max_num_of_setnence is None:\n",
        "            max_num_of_setnence = self.max_num_of_setnence\n",
        "\n",
        "        x_preprocess, y_preprocess = self._transform_raw_data(\n",
        "            df=df, x_col=x_col, y_col=y_col, label2indexes=label2indexes)\n",
        "        \n",
        "        x_preprocess, y_preprocess = self._transform_training_data(\n",
        "            x_raw=x_preprocess, y_raw=y_preprocess,\n",
        "            max_len_of_sentence=max_len_of_sentence, max_num_of_setnence=max_num_of_setnence)\n",
        "        \n",
        "        if self.verbose > 5:\n",
        "            print('Shape: ', x_preprocess.shape, y_preprocess.shape)\n",
        "\n",
        "        return x_preprocess, y_preprocess\n",
        "    \n",
        "    def build_model(self, char_dimension=16, display_summary=False, display_architecture=False, \n",
        "                    loss='sparse_categorical_crossentropy', optimizer='rmsprop', metrics=['accuracy']):\n",
        "        if self.verbose > 3:\n",
        "            print('-----> Stage: build model')\n",
        "            \n",
        "        sent_encoder = self._build_sentence_block(\n",
        "            char_dimension=char_dimension,\n",
        "            max_len_of_sentence=self.max_len_of_sentence, max_num_of_setnence=self.max_num_of_setnence)\n",
        "                \n",
        "        doc_encoder = self._build_document_block(\n",
        "            sent_encoder=sent_encoder, num_of_label=self.num_of_label,\n",
        "            max_len_of_sentence=self.max_len_of_sentence, max_num_of_setnence=self.max_num_of_setnence, \n",
        "            loss=loss, optimizer=optimizer, metrics=metrics)\n",
        "        \n",
        "        if display_architecture:\n",
        "            print('Sentence Architecture')\n",
        "            IPython.display.display(SVG(model_to_dot(sent_encoder).create(prog='dot', format='svg')))\n",
        "            print()\n",
        "            print('Document Architecture')\n",
        "            IPython.display.display(SVG(model_to_dot(doc_encoder).create(prog='dot', format='svg')))\n",
        "        \n",
        "        if display_summary:\n",
        "            print(doc_encoder.summary())\n",
        "            \n",
        "        \n",
        "        self.model = {\n",
        "            'sent_encoder': sent_encoder,\n",
        "            'doc_encoder': doc_encoder\n",
        "        }\n",
        "        \n",
        "        return doc_encoder\n",
        "    \n",
        "    def train(self, x_train, y_train, x_test, y_test, batch_size=128, epochs=1, shuffle=True):\n",
        "        if self.verbose > 3:\n",
        "            print('-----> Stage: train model')\n",
        "            \n",
        "        self.get_model().fit(\n",
        "            x_train, y_train, validation_data=(x_test, y_test), \n",
        "            batch_size=batch_size, epochs=epochs, shuffle=shuffle)\n",
        "        \n",
        "#         return self.model['doc_encoder']\n",
        "\n",
        "    def predict(self, x, return_prob=False):\n",
        "        if self.verbose > 3:\n",
        "            print('-----> Stage: predict')\n",
        "            \n",
        "        if return_prob:\n",
        "            return self.get_model().predict(x_test)\n",
        "        \n",
        "        return self.get_model().predict(x_test).argmax(axis=-1)\n",
        "    \n",
        "    def get_model(self):\n",
        "        return self.model['doc_encoder']"
      ],
      "execution_count": 0,
      "outputs": []
    },
    {
      "cell_type": "code",
      "metadata": {
        "id": "lVZIc_mcJdZe",
        "colab_type": "code",
        "outputId": "4b59841b-9a5c-4322-fcb1-54f410bc2847",
        "colab": {
          "base_uri": "https://localhost:8080/",
          "height": 70
        }
      },
      "source": [
        "import nltk\n",
        "nltk.download('punkt')"
      ],
      "execution_count": 0,
      "outputs": [
        {
          "output_type": "stream",
          "text": [
            "[nltk_data] Downloading package punkt to /root/nltk_data...\n",
            "[nltk_data]   Unzipping tokenizers/punkt.zip.\n"
          ],
          "name": "stdout"
        },
        {
          "output_type": "execute_result",
          "data": {
            "text/plain": [
              "True"
            ]
          },
          "metadata": {
            "tags": []
          },
          "execution_count": 7
        }
      ]
    },
    {
      "cell_type": "code",
      "metadata": {
        "id": "UEKAbnhoIYrZ",
        "colab_type": "code",
        "outputId": "e048a1b2-5f19-4416-f758-69e7f80b3323",
        "colab": {
          "base_uri": "https://localhost:8080/",
          "height": 527
        }
      },
      "source": [
        "\"\"\"\n",
        "    Maximum number of characters per sentence is 256.\n",
        "    Maximum number of sentence is 5\n",
        "\"\"\"\n",
        "\n",
        "char_cnn = CharCNN(max_len_of_sentence=256, max_num_of_setnence=5)\n",
        "\n",
        "\"\"\"\n",
        "    First of all, we need to prepare meta information including character dictionary \n",
        "    and converting label from text to numeric (as keras support numeric input only).\n",
        "\"\"\"\n",
        "char_cnn.preporcess(labels=df['task_2'].unique())\n",
        "\n",
        "\"\"\"\n",
        "    We have to transform raw input training data and testing to numpy format for keras input\n",
        "\"\"\"\n",
        "x_train, y_train = char_cnn.process(\n",
        "    df=train_df, x_col='text', y_col='task_2')\n",
        "x_test, y_test = char_cnn.process(\n",
        "    df=test_df, x_col='text', y_col='task_2')\n",
        "\n",
        "char_cnn.build_model()\n",
        "char_cnn.train(x_train, y_train, x_test, y_test, batch_size=1, epochs=6)\n",
        "\n",
        "char_cnn.get_model().save('./char_cnn_model.h5')"
      ],
      "execution_count": 0,
      "outputs": [
        {
          "output_type": "stream",
          "text": [
            "-----> Stage: preprocess\n",
            "Totoal number of chars: 83\n",
            "First 3 char_indices sample: {'UNK': 0, '&': 1, 'h': 2}\n",
            "First 3 indices_char sample: {0: 'UNK', 1: '&', 2: 'h'}\n",
            "Label to Index:  {'task_2': 0, 'NONE': 1, 'PRFN': 2, 'OFFN': 3, 'HATE': 4}\n",
            "Index to Label:  {0: 'task_2', 1: 'NONE', 2: 'PRFN', 3: 'OFFN', 4: 'HATE'}\n",
            "-----> Stage: process\n",
            "Number of news: 3732\n",
            "Actual max sentence: 17\n",
            "Shape:  (3732, 5, 256) (3732,)\n",
            "-----> Stage: process\n",
            "Number of news: 934\n",
            "Actual max sentence: 12\n",
            "Shape:  (934, 5, 256) (934,)\n",
            "-----> Stage: build model\n",
            "-----> Stage: train model\n",
            "Train on 3732 samples, validate on 934 samples\n",
            "Epoch 1/6\n",
            "3732/3732 [==============================] - 128s 34ms/step - loss: 1.3369 - acc: 0.4611 - val_loss: 1.2179 - val_acc: 0.4582\n",
            "Epoch 2/6\n",
            "3732/3732 [==============================] - 124s 33ms/step - loss: 1.5084 - acc: 0.2267 - val_loss: 1.5370 - val_acc: 0.1820\n",
            "Epoch 3/6\n",
            "3732/3732 [==============================] - 123s 33ms/step - loss: 1.5234 - acc: 0.1659 - val_loss: 1.5099 - val_acc: 0.1906\n",
            "Epoch 4/6\n",
            "3732/3732 [==============================] - 123s 33ms/step - loss: 1.4969 - acc: 0.2283 - val_loss: 1.5258 - val_acc: 0.2013\n",
            "Epoch 5/6\n",
            "3732/3732 [==============================] - 123s 33ms/step - loss: 1.5804 - acc: 0.0681 - val_loss: 1.6094 - val_acc: 0.0000e+00\n",
            "Epoch 6/6\n",
            "3732/3732 [==============================] - 124s 33ms/step - loss: 1.6095 - acc: 2.6795e-04 - val_loss: 1.6094 - val_acc: 0.0000e+00\n"
          ],
          "name": "stdout"
        }
      ]
    }
  ]
}